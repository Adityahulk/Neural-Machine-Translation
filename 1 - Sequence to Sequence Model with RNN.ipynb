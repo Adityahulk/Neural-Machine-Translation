{
  "nbformat": 4,
  "nbformat_minor": 0,
  "metadata": {
    "colab": {
      "name": "1 - Sequence to Sequence Model with RNN.ipynb",
      "provenance": [],
      "collapsed_sections": [
        "wEd7p3ARFcyr",
        "v2BPfwqcFk4h",
        "tazMbPR6Hnjg",
        "yT-6GZgfMXIu",
        "7cFeoEJpMYgE",
        "2ZwOJLkTMbCt"
      ]
    },
    "kernelspec": {
      "name": "python3",
      "display_name": "Python 3"
    },
    "accelerator": "GPU"
  },
  "cells": [
    {
      "cell_type": "markdown",
      "metadata": {
        "id": "wEd7p3ARFcyr",
        "colab_type": "text"
      },
      "source": [
        "# Import dependencies"
      ]
    },
    {
      "cell_type": "code",
      "metadata": {
        "id": "gttqmxRIFSUa",
        "colab_type": "code",
        "outputId": "a57491fa-3286-4201-9bc3-22e222adc11a",
        "colab": {
          "base_uri": "https://localhost:8080/",
          "height": 1000
        }
      },
      "source": [
        "!pip install torchtext --upgrade\n",
        "!python -m spacy download fr\n",
        "!python -m spacy download en"
      ],
      "execution_count": 1,
      "outputs": [
        {
          "output_type": "stream",
          "text": [
            "Collecting torchtext\n",
            "\u001b[?25l  Downloading https://files.pythonhosted.org/packages/79/ef/54b8da26f37787f5c670ae2199329e7dccf195c060b25628d99e587dac51/torchtext-0.5.0-py3-none-any.whl (73kB)\n",
            "\u001b[K     |████████████████████████████████| 81kB 5.4MB/s \n",
            "\u001b[?25hCollecting sentencepiece\n",
            "\u001b[?25l  Downloading https://files.pythonhosted.org/packages/74/f4/2d5214cbf13d06e7cb2c20d84115ca25b53ea76fa1f0ade0e3c9749de214/sentencepiece-0.1.85-cp36-cp36m-manylinux1_x86_64.whl (1.0MB)\n",
            "\u001b[K     |████████████████████████████████| 1.0MB 25.7MB/s \n",
            "\u001b[?25hRequirement already satisfied, skipping upgrade: six in /usr/local/lib/python3.6/dist-packages (from torchtext) (1.12.0)\n",
            "Requirement already satisfied, skipping upgrade: tqdm in /usr/local/lib/python3.6/dist-packages (from torchtext) (4.38.0)\n",
            "Requirement already satisfied, skipping upgrade: requests in /usr/local/lib/python3.6/dist-packages (from torchtext) (2.21.0)\n",
            "Requirement already satisfied, skipping upgrade: torch in /usr/local/lib/python3.6/dist-packages (from torchtext) (1.4.0)\n",
            "Requirement already satisfied, skipping upgrade: numpy in /usr/local/lib/python3.6/dist-packages (from torchtext) (1.18.2)\n",
            "Requirement already satisfied, skipping upgrade: certifi>=2017.4.17 in /usr/local/lib/python3.6/dist-packages (from requests->torchtext) (2019.11.28)\n",
            "Requirement already satisfied, skipping upgrade: idna<2.9,>=2.5 in /usr/local/lib/python3.6/dist-packages (from requests->torchtext) (2.8)\n",
            "Requirement already satisfied, skipping upgrade: urllib3<1.25,>=1.21.1 in /usr/local/lib/python3.6/dist-packages (from requests->torchtext) (1.24.3)\n",
            "Requirement already satisfied, skipping upgrade: chardet<3.1.0,>=3.0.2 in /usr/local/lib/python3.6/dist-packages (from requests->torchtext) (3.0.4)\n",
            "Installing collected packages: sentencepiece, torchtext\n",
            "  Found existing installation: torchtext 0.3.1\n",
            "    Uninstalling torchtext-0.3.1:\n",
            "      Successfully uninstalled torchtext-0.3.1\n",
            "Successfully installed sentencepiece-0.1.85 torchtext-0.5.0\n",
            "Collecting fr_core_news_sm==2.2.5\n",
            "\u001b[?25l  Downloading https://github.com/explosion/spacy-models/releases/download/fr_core_news_sm-2.2.5/fr_core_news_sm-2.2.5.tar.gz (14.7MB)\n",
            "\u001b[K     |████████████████████████████████| 14.7MB 1.2MB/s \n",
            "\u001b[?25hRequirement already satisfied: spacy>=2.2.2 in /usr/local/lib/python3.6/dist-packages (from fr_core_news_sm==2.2.5) (2.2.4)\n",
            "Requirement already satisfied: wasabi<1.1.0,>=0.4.0 in /usr/local/lib/python3.6/dist-packages (from spacy>=2.2.2->fr_core_news_sm==2.2.5) (0.6.0)\n",
            "Requirement already satisfied: thinc==7.4.0 in /usr/local/lib/python3.6/dist-packages (from spacy>=2.2.2->fr_core_news_sm==2.2.5) (7.4.0)\n",
            "Requirement already satisfied: tqdm<5.0.0,>=4.38.0 in /usr/local/lib/python3.6/dist-packages (from spacy>=2.2.2->fr_core_news_sm==2.2.5) (4.38.0)\n",
            "Requirement already satisfied: numpy>=1.15.0 in /usr/local/lib/python3.6/dist-packages (from spacy>=2.2.2->fr_core_news_sm==2.2.5) (1.18.2)\n",
            "Requirement already satisfied: blis<0.5.0,>=0.4.0 in /usr/local/lib/python3.6/dist-packages (from spacy>=2.2.2->fr_core_news_sm==2.2.5) (0.4.1)\n",
            "Requirement already satisfied: requests<3.0.0,>=2.13.0 in /usr/local/lib/python3.6/dist-packages (from spacy>=2.2.2->fr_core_news_sm==2.2.5) (2.21.0)\n",
            "Requirement already satisfied: srsly<1.1.0,>=1.0.2 in /usr/local/lib/python3.6/dist-packages (from spacy>=2.2.2->fr_core_news_sm==2.2.5) (1.0.2)\n",
            "Requirement already satisfied: plac<1.2.0,>=0.9.6 in /usr/local/lib/python3.6/dist-packages (from spacy>=2.2.2->fr_core_news_sm==2.2.5) (1.1.3)\n",
            "Requirement already satisfied: murmurhash<1.1.0,>=0.28.0 in /usr/local/lib/python3.6/dist-packages (from spacy>=2.2.2->fr_core_news_sm==2.2.5) (1.0.2)\n",
            "Requirement already satisfied: preshed<3.1.0,>=3.0.2 in /usr/local/lib/python3.6/dist-packages (from spacy>=2.2.2->fr_core_news_sm==2.2.5) (3.0.2)\n",
            "Requirement already satisfied: catalogue<1.1.0,>=0.0.7 in /usr/local/lib/python3.6/dist-packages (from spacy>=2.2.2->fr_core_news_sm==2.2.5) (1.0.0)\n",
            "Requirement already satisfied: cymem<2.1.0,>=2.0.2 in /usr/local/lib/python3.6/dist-packages (from spacy>=2.2.2->fr_core_news_sm==2.2.5) (2.0.3)\n",
            "Requirement already satisfied: setuptools in /usr/local/lib/python3.6/dist-packages (from spacy>=2.2.2->fr_core_news_sm==2.2.5) (46.0.0)\n",
            "Requirement already satisfied: urllib3<1.25,>=1.21.1 in /usr/local/lib/python3.6/dist-packages (from requests<3.0.0,>=2.13.0->spacy>=2.2.2->fr_core_news_sm==2.2.5) (1.24.3)\n",
            "Requirement already satisfied: certifi>=2017.4.17 in /usr/local/lib/python3.6/dist-packages (from requests<3.0.0,>=2.13.0->spacy>=2.2.2->fr_core_news_sm==2.2.5) (2019.11.28)\n",
            "Requirement already satisfied: chardet<3.1.0,>=3.0.2 in /usr/local/lib/python3.6/dist-packages (from requests<3.0.0,>=2.13.0->spacy>=2.2.2->fr_core_news_sm==2.2.5) (3.0.4)\n",
            "Requirement already satisfied: idna<2.9,>=2.5 in /usr/local/lib/python3.6/dist-packages (from requests<3.0.0,>=2.13.0->spacy>=2.2.2->fr_core_news_sm==2.2.5) (2.8)\n",
            "Requirement already satisfied: importlib-metadata>=0.20; python_version < \"3.8\" in /usr/local/lib/python3.6/dist-packages (from catalogue<1.1.0,>=0.0.7->spacy>=2.2.2->fr_core_news_sm==2.2.5) (1.5.0)\n",
            "Requirement already satisfied: zipp>=0.5 in /usr/local/lib/python3.6/dist-packages (from importlib-metadata>=0.20; python_version < \"3.8\"->catalogue<1.1.0,>=0.0.7->spacy>=2.2.2->fr_core_news_sm==2.2.5) (3.1.0)\n",
            "Building wheels for collected packages: fr-core-news-sm\n",
            "  Building wheel for fr-core-news-sm (setup.py) ... \u001b[?25l\u001b[?25hdone\n",
            "  Created wheel for fr-core-news-sm: filename=fr_core_news_sm-2.2.5-cp36-none-any.whl size=14727027 sha256=cb243078567d7aa87f216318136cc92fe7319af6942c80dbfc11095b16b6305d\n",
            "  Stored in directory: /tmp/pip-ephem-wheel-cache-ztzj45pv/wheels/46/1b/e6/29b020e3f9420a24c3f463343afe5136aaaf955dbc9e46dfc5\n",
            "Successfully built fr-core-news-sm\n",
            "Installing collected packages: fr-core-news-sm\n",
            "Successfully installed fr-core-news-sm-2.2.5\n",
            "\u001b[38;5;2m✔ Download and installation successful\u001b[0m\n",
            "You can now load the model via spacy.load('fr_core_news_sm')\n",
            "\u001b[38;5;2m✔ Linking successful\u001b[0m\n",
            "/usr/local/lib/python3.6/dist-packages/fr_core_news_sm -->\n",
            "/usr/local/lib/python3.6/dist-packages/spacy/data/fr\n",
            "You can now load the model via spacy.load('fr')\n",
            "Requirement already satisfied: en_core_web_sm==2.2.5 from https://github.com/explosion/spacy-models/releases/download/en_core_web_sm-2.2.5/en_core_web_sm-2.2.5.tar.gz#egg=en_core_web_sm==2.2.5 in /usr/local/lib/python3.6/dist-packages (2.2.5)\n",
            "Requirement already satisfied: spacy>=2.2.2 in /usr/local/lib/python3.6/dist-packages (from en_core_web_sm==2.2.5) (2.2.4)\n",
            "Requirement already satisfied: thinc==7.4.0 in /usr/local/lib/python3.6/dist-packages (from spacy>=2.2.2->en_core_web_sm==2.2.5) (7.4.0)\n",
            "Requirement already satisfied: srsly<1.1.0,>=1.0.2 in /usr/local/lib/python3.6/dist-packages (from spacy>=2.2.2->en_core_web_sm==2.2.5) (1.0.2)\n",
            "Requirement already satisfied: wasabi<1.1.0,>=0.4.0 in /usr/local/lib/python3.6/dist-packages (from spacy>=2.2.2->en_core_web_sm==2.2.5) (0.6.0)\n",
            "Requirement already satisfied: setuptools in /usr/local/lib/python3.6/dist-packages (from spacy>=2.2.2->en_core_web_sm==2.2.5) (46.0.0)\n",
            "Requirement already satisfied: requests<3.0.0,>=2.13.0 in /usr/local/lib/python3.6/dist-packages (from spacy>=2.2.2->en_core_web_sm==2.2.5) (2.21.0)\n",
            "Requirement already satisfied: preshed<3.1.0,>=3.0.2 in /usr/local/lib/python3.6/dist-packages (from spacy>=2.2.2->en_core_web_sm==2.2.5) (3.0.2)\n",
            "Requirement already satisfied: tqdm<5.0.0,>=4.38.0 in /usr/local/lib/python3.6/dist-packages (from spacy>=2.2.2->en_core_web_sm==2.2.5) (4.38.0)\n",
            "Requirement already satisfied: numpy>=1.15.0 in /usr/local/lib/python3.6/dist-packages (from spacy>=2.2.2->en_core_web_sm==2.2.5) (1.18.2)\n",
            "Requirement already satisfied: plac<1.2.0,>=0.9.6 in /usr/local/lib/python3.6/dist-packages (from spacy>=2.2.2->en_core_web_sm==2.2.5) (1.1.3)\n",
            "Requirement already satisfied: catalogue<1.1.0,>=0.0.7 in /usr/local/lib/python3.6/dist-packages (from spacy>=2.2.2->en_core_web_sm==2.2.5) (1.0.0)\n",
            "Requirement already satisfied: blis<0.5.0,>=0.4.0 in /usr/local/lib/python3.6/dist-packages (from spacy>=2.2.2->en_core_web_sm==2.2.5) (0.4.1)\n",
            "Requirement already satisfied: murmurhash<1.1.0,>=0.28.0 in /usr/local/lib/python3.6/dist-packages (from spacy>=2.2.2->en_core_web_sm==2.2.5) (1.0.2)\n",
            "Requirement already satisfied: cymem<2.1.0,>=2.0.2 in /usr/local/lib/python3.6/dist-packages (from spacy>=2.2.2->en_core_web_sm==2.2.5) (2.0.3)\n",
            "Requirement already satisfied: chardet<3.1.0,>=3.0.2 in /usr/local/lib/python3.6/dist-packages (from requests<3.0.0,>=2.13.0->spacy>=2.2.2->en_core_web_sm==2.2.5) (3.0.4)\n",
            "Requirement already satisfied: urllib3<1.25,>=1.21.1 in /usr/local/lib/python3.6/dist-packages (from requests<3.0.0,>=2.13.0->spacy>=2.2.2->en_core_web_sm==2.2.5) (1.24.3)\n",
            "Requirement already satisfied: idna<2.9,>=2.5 in /usr/local/lib/python3.6/dist-packages (from requests<3.0.0,>=2.13.0->spacy>=2.2.2->en_core_web_sm==2.2.5) (2.8)\n",
            "Requirement already satisfied: certifi>=2017.4.17 in /usr/local/lib/python3.6/dist-packages (from requests<3.0.0,>=2.13.0->spacy>=2.2.2->en_core_web_sm==2.2.5) (2019.11.28)\n",
            "Requirement already satisfied: importlib-metadata>=0.20; python_version < \"3.8\" in /usr/local/lib/python3.6/dist-packages (from catalogue<1.1.0,>=0.0.7->spacy>=2.2.2->en_core_web_sm==2.2.5) (1.5.0)\n",
            "Requirement already satisfied: zipp>=0.5 in /usr/local/lib/python3.6/dist-packages (from importlib-metadata>=0.20; python_version < \"3.8\"->catalogue<1.1.0,>=0.0.7->spacy>=2.2.2->en_core_web_sm==2.2.5) (3.1.0)\n",
            "\u001b[38;5;2m✔ Download and installation successful\u001b[0m\n",
            "You can now load the model via spacy.load('en_core_web_sm')\n",
            "\u001b[38;5;2m✔ Linking successful\u001b[0m\n",
            "/usr/local/lib/python3.6/dist-packages/en_core_web_sm -->\n",
            "/usr/local/lib/python3.6/dist-packages/spacy/data/en\n",
            "You can now load the model via spacy.load('en')\n"
          ],
          "name": "stdout"
        }
      ]
    },
    {
      "cell_type": "code",
      "metadata": {
        "id": "M-A0mVf7GNix",
        "colab_type": "code",
        "colab": {}
      },
      "source": [
        "import os\n",
        "import re\n",
        "import tqdm\n",
        "import random\n",
        "import unicodedata\n",
        "import numpy as np\n",
        "import matplotlib.pyplot as plt\n",
        "\n",
        "import spacy\n",
        "\n",
        "import torch\n",
        "import torch.nn as nn\n",
        "import torch.nn.functional as F\n",
        "import torch.optim as optim\n",
        "\n",
        "from torchtext.data import Example, Field, Dataset\n",
        "from torchtext.data.iterator import BucketIterator\n",
        "from torchtext.data.metrics import bleu_score"
      ],
      "execution_count": 0,
      "outputs": []
    },
    {
      "cell_type": "code",
      "metadata": {
        "id": "o0iX1ZuNG0wH",
        "colab_type": "code",
        "colab": {}
      },
      "source": [
        "seed = 781\n",
        "random.seed(seed)\n",
        "np.random.seed(seed)\n",
        "torch.manual_seed(seed)\n",
        "torch.cuda.manual_seed(seed)\n",
        "torch.backends.cudnn.deterministic = True\n",
        "\n",
        "device = torch.device('cuda' if torch.cuda.is_available() else 'cpu')"
      ],
      "execution_count": 0,
      "outputs": []
    },
    {
      "cell_type": "markdown",
      "metadata": {
        "id": "v2BPfwqcFk4h",
        "colab_type": "text"
      },
      "source": [
        "# Download data"
      ]
    },
    {
      "cell_type": "code",
      "metadata": {
        "id": "Gc5EcEA1FnCw",
        "colab_type": "code",
        "colab": {}
      },
      "source": [
        "if not os.path.exists('./data'):\n",
        "    !mkdir ./data"
      ],
      "execution_count": 0,
      "outputs": []
    },
    {
      "cell_type": "code",
      "metadata": {
        "id": "wmajgrxCHwsw",
        "colab_type": "code",
        "outputId": "abcd63e9-f6f2-4eab-bb4e-72616f57de64",
        "colab": {
          "base_uri": "https://localhost:8080/",
          "height": 0
        }
      },
      "source": [
        "!wget --no-check-certificate \\\n",
        "    http://www.statmt.org/europarl/v7/fr-en.tgz \\\n",
        "    -O ./data/fr-en.tgz"
      ],
      "execution_count": 5,
      "outputs": [
        {
          "output_type": "stream",
          "text": [
            "--2020-03-19 20:07:56--  http://www.statmt.org/europarl/v7/fr-en.tgz\n",
            "Resolving www.statmt.org (www.statmt.org)... 129.215.197.184\n",
            "Connecting to www.statmt.org (www.statmt.org)|129.215.197.184|:80... connected.\n",
            "HTTP request sent, awaiting response... 200 OK\n",
            "Length: 202718517 (193M) [application/x-gzip]\n",
            "Saving to: ‘./data/fr-en.tgz’\n",
            "\n",
            "./data/fr-en.tgz    100%[===================>] 193.33M   980KB/s    in 4m 10s  \n",
            "\n",
            "2020-03-19 20:12:06 (792 KB/s) - ‘./data/fr-en.tgz’ saved [202718517/202718517]\n",
            "\n"
          ],
          "name": "stdout"
        }
      ]
    },
    {
      "cell_type": "code",
      "metadata": {
        "id": "M2r79GZZH7Ip",
        "colab_type": "code",
        "outputId": "838d4e4c-217d-4c93-afaf-1d4e2a22335d",
        "colab": {
          "base_uri": "https://localhost:8080/",
          "height": 0
        }
      },
      "source": [
        "!tar -xzvf ./data/fr-en.tgz -C ./data"
      ],
      "execution_count": 6,
      "outputs": [
        {
          "output_type": "stream",
          "text": [
            "europarl-v7.fr-en.en\n",
            "europarl-v7.fr-en.fr\n"
          ],
          "name": "stdout"
        }
      ]
    },
    {
      "cell_type": "markdown",
      "metadata": {
        "id": "tazMbPR6Hnjg",
        "colab_type": "text"
      },
      "source": [
        "# Data processing"
      ]
    },
    {
      "cell_type": "code",
      "metadata": {
        "id": "95Q9N_zBHpTr",
        "colab_type": "code",
        "colab": {}
      },
      "source": [
        "def read_file(filepath):\n",
        "    try:\n",
        "        with open(filepath, mode='rt', encoding='utf-8') as file:\n",
        "            content = file.readlines()\n",
        "        return content\n",
        "    except:\n",
        "        raise NotImplementedError(f'File {filepath} doesn\\'t exist')"
      ],
      "execution_count": 0,
      "outputs": []
    },
    {
      "cell_type": "code",
      "metadata": {
        "id": "02KzJaPmIjI2",
        "colab_type": "code",
        "colab": {}
      },
      "source": [
        "def unicode_to_ascii(s):\n",
        "    # NFD => Normal Form Decompose\n",
        "    # Mn => Non Marking Space\n",
        "    return ''.join(c for c in unicodedata.normalize('NFD', s) \\\n",
        "                    if unicodedata.category(c) != 'Mn')\n",
        "\n",
        "def normalize_string(s):\n",
        "    s = unicode_to_ascii(s.strip())\n",
        "    s = re.sub(r'\\s+', r' ', s)\n",
        "    return s.strip()"
      ],
      "execution_count": 0,
      "outputs": []
    },
    {
      "cell_type": "code",
      "metadata": {
        "id": "wlJtKDpMJF-1",
        "colab_type": "code",
        "outputId": "27290cb2-4a77-4200-b790-819142f587c7",
        "colab": {
          "base_uri": "https://localhost:8080/",
          "height": 0
        }
      },
      "source": [
        "%%time\n",
        "pairs = [*zip(read_file('./data/europarl-v7.fr-en.fr'),\n",
        "              read_file('./data/europarl-v7.fr-en.en'))]\n",
        "pairs = [*map(lambda x: {'fr': x[0], 'en': x[1]}, pairs)]\n",
        "print(f'Number of examples: {len(pairs)}')\n",
        "pairs = np.random.choice(pairs, size=3000, replace=False)\n",
        "pairs = [*map(lambda pair: {k: normalize_string(v) for k, v in pair.items()},\n",
        "              pairs)]\n",
        "print(f'Number of examples after sampling: {len(pairs)}')\n",
        "print(f'Example:\\n\\tFR => {pairs[0][\"fr\"]}\\n\\tEN => {pairs[0][\"en\"]}')"
      ],
      "execution_count": 5,
      "outputs": [
        {
          "output_type": "stream",
          "text": [
            "Number of examples: 2007723\n",
            "Number of examples after sampling: 3000\n",
            "Example:\n",
            "\tFR => Les procedures par le biais desquelles de tels produits entrent et sortent de l'Union europeenne doivent etre ouvertes, transparentes et, par dessus tout, sures.\n",
            "\tEN => The procedures whereby such products come in and out of the European Union have to be open, transparent and, above all, safe.\n",
            "CPU times: user 3.84 s, sys: 930 ms, total: 4.77 s\n",
            "Wall time: 4.78 s\n"
          ],
          "name": "stdout"
        }
      ]
    },
    {
      "cell_type": "code",
      "metadata": {
        "id": "BAq2uyDyJ6KD",
        "colab_type": "code",
        "outputId": "64369eb2-8c31-44bf-ecbb-abb0de8122d3",
        "colab": {
          "base_uri": "https://localhost:8080/",
          "height": 0
        }
      },
      "source": [
        "%%time\n",
        "FR = Field(init_token='<sos>',\n",
        "           eos_token='<eos>',\n",
        "           preprocessing=lambda x: x[::-1],\n",
        "           lower=True,\n",
        "           tokenize='spacy',\n",
        "           tokenizer_language='fr',\n",
        "           include_lengths=True) # For pack_padded_sequence\n",
        "EN = Field(init_token='<sos>',\n",
        "           eos_token='<eos>',\n",
        "           lower=True,\n",
        "           tokenize='spacy',\n",
        "           tokenizer_language='en')\n",
        "\n",
        "examples = [Example.fromdict(data=pair, fields={'fr': ('src', FR),\n",
        "                                                'en': ('dest', EN)})\n",
        "            for pair in tqdm.tqdm(pairs)]\n",
        "data = Dataset(examples, fields={'src': FR, 'dest': EN})\n",
        "train_data, valid_data, test_data = data.split(split_ratio=[0.7, 0.2, 0.1])\n",
        "print(f'train size: {len(train_data.examples)}')\n",
        "print(f'valid size: {len(valid_data.examples)}')\n",
        "print(f'test size: {len(test_data.examples)}')\n",
        "print(vars(train_data.examples[0]))"
      ],
      "execution_count": 6,
      "outputs": [
        {
          "output_type": "stream",
          "text": [
            "100%|██████████| 3000/3000 [00:01<00:00, 2232.34it/s]"
          ],
          "name": "stderr"
        },
        {
          "output_type": "stream",
          "text": [
            "train size: 2100\n",
            "valid size: 300\n",
            "test size: 600\n",
            "{'src': ['.', 'rester', 'de', 'permettant', 'leur', 'integration', \"'\", 'd', 'politique', 'une', 'prioritairement', 'place', 'en', 'mettre', 'faut', 'il', \"'\", 'qu', 'et', ',', '\"', 'union', \"'\", 'l', 'de', 'citoyens', 'des', 'ceux', 'de', 'possible', 'que', 'proches', 'aussi', 'uniformes', 'droits', 'de', 'ensemble', 'un', '\"', ':', 'cite', 'je', ',', 'legaux', 'immigres', 'aux', 'donner', 'faut', 'il', \"'\", 'qu', ',', 'reprises', 'plusieurs', 'a', ',', 'fortement', 'proclame', 'il', ',', 'temps', 'meme', 'en', 'mais', ',', 'source', 'la', 'a', 'clandestine', 'immigration', \"'\", 'l', 'combattre', 'de', 'et', 'migratoires', 'flux', 'les', 'gerer', 'de', 'platonique', 'volonte', 'la', 'affiche', 'tampere', 'de', 'conseil', 'le', ':', 'contradiction', 'seconde'], 'dest': ['the', 'second', 'contradiction', ':', 'the', 'tampere', 'council', 'propounds', 'its', 'purely', 'formal', 'intention', 'to', 'control', 'the', 'flows', 'of', 'migrants', 'and', 'to', 'combat', 'illegal', 'immigration', 'at', 'source', ',', 'but', ',', 'at', 'the', 'same', 'time', ',', 'staunchly', 'proclaims', ',', 'on', 'several', 'occasions', ',', 'that', 'legal', 'immigrants', 'must', 'be', 'given', ',', 'i', 'quote', ',', '\"', 'a', 'set', 'of', 'uniform', 'rights', 'which', 'are', 'as', 'near', 'as', 'possible', 'to', 'those', 'enjoyed', 'by', 'eu', 'citizens', '\"', ',', 'and', 'that', 'as', 'a', 'priority', 'a', 'policy', 'of', 'integration', 'must', 'be', 'set', 'up', 'to', 'enable', 'them', 'to', 'stay', '.']}\n",
            "CPU times: user 10.8 s, sys: 160 ms, total: 10.9 s\n",
            "Wall time: 10.9 s\n"
          ],
          "name": "stdout"
        },
        {
          "output_type": "stream",
          "text": [
            "\n"
          ],
          "name": "stderr"
        }
      ]
    },
    {
      "cell_type": "code",
      "metadata": {
        "id": "JycVMjsRLmoB",
        "colab_type": "code",
        "outputId": "1e833ee2-cf9e-47e2-fc21-1b06f9be07f7",
        "colab": {
          "base_uri": "https://localhost:8080/",
          "height": 0
        }
      },
      "source": [
        "FR.build_vocab(train_data,\n",
        "               min_freq=2,\n",
        "               specials=['<sos>', '<eos>', '<unk>', '<pad>'])\n",
        "EN.build_vocab(train_data,\n",
        "               min_freq=2,\n",
        "               specials=['<sos>', '<eos>', '<unk>', '<pad>'])\n",
        "\n",
        "print(f'Length of FR vocabulary: {len(FR.vocab)}')\n",
        "print(f'Length of EN vocabulary: {len(EN.vocab)}')"
      ],
      "execution_count": 7,
      "outputs": [
        {
          "output_type": "stream",
          "text": [
            "Length of FR vocabulary: 3472\n",
            "Length of EN vocabulary: 3110\n"
          ],
          "name": "stdout"
        }
      ]
    },
    {
      "cell_type": "markdown",
      "metadata": {
        "id": "nKKRGB9cIbn8",
        "colab_type": "text"
      },
      "source": [
        "# Modeling"
      ]
    },
    {
      "cell_type": "markdown",
      "metadata": {
        "id": "yT-6GZgfMXIu",
        "colab_type": "text"
      },
      "source": [
        "## Encoder"
      ]
    },
    {
      "cell_type": "code",
      "metadata": {
        "id": "gJL7MVwAMVtR",
        "colab_type": "code",
        "colab": {}
      },
      "source": [
        "class Encoder(nn.Module):\n",
        "\n",
        "    def __init__(self, embed_size, vocab_size, hidden_size,\n",
        "                 n_layers=1, dropout=0, bidirectional=True):\n",
        "        super(Encoder, self).__init__()\n",
        "        self.hidden_size = hidden_size\n",
        "        self.n_layers = n_layers\n",
        "        self.bidirectional = bidirectional\n",
        "        self.embedding = nn.Embedding(vocab_size, embed_size)\n",
        "        self.dropout = nn.Dropout(dropout)\n",
        "        self.lstm = nn.LSTM(embed_size, hidden_size,\n",
        "                            num_layers=n_layers,\n",
        "                            dropout=(dropout if n_layers > 1 else 0),\n",
        "                            bidirectional=bidirectional)\n",
        "    \n",
        "    def forward(self, in_, seq_len):\n",
        "        \"\"\"\n",
        "        inputs\n",
        "            in_: (seq_len, batch_size)\n",
        "            seq_len: (batch_size)\n",
        "\n",
        "        outputs\n",
        "            out: (seq_len, batch_size, num_directions * hidden_size)\n",
        "            hn: (num_layers * num_directions, batch_size, hidden_size)\n",
        "            cn: (num_layers * num_directions, batch_size, hidden_size)\n",
        "        \"\"\"\n",
        "        embedded = self.embedding(in_)\n",
        "        embedded = self.dropout(embedded)\n",
        "        packed = nn.utils.rnn.pack_padded_sequence(embedded, seq_len)\n",
        "        out, (hn, cn) = self.lstm(packed)\n",
        "        out, _ = nn.utils.rnn.pad_packed_sequence(out)\n",
        "        return out, hn, cn"
      ],
      "execution_count": 0,
      "outputs": []
    },
    {
      "cell_type": "markdown",
      "metadata": {
        "id": "7cFeoEJpMYgE",
        "colab_type": "text"
      },
      "source": [
        "## Decoder"
      ]
    },
    {
      "cell_type": "code",
      "metadata": {
        "id": "deAfHkCcIdzj",
        "colab_type": "code",
        "colab": {}
      },
      "source": [
        "class Decoder(nn.Module):\n",
        "\n",
        "    def __init__(self, embed_size, vocab_size, hidden_size,\n",
        "                 n_layers=1, dropout=0):\n",
        "        super(Decoder, self).__init__()\n",
        "        self.vocab_size = vocab_size\n",
        "        self.hidden_size = hidden_size\n",
        "        self.n_layers = n_layers\n",
        "        self.embedding = nn.Embedding(vocab_size, embed_size)\n",
        "        self.dropout = nn.Dropout(dropout)\n",
        "        self.lstm = nn.LSTM(embed_size, hidden_size,\n",
        "                            num_layers=n_layers,\n",
        "                            dropout=(dropout if n_layers > 1 else 0))\n",
        "        self.fc = nn.Linear(hidden_size, vocab_size)\n",
        "        \n",
        "    def forward(self, in_, h0, c0):\n",
        "        \"\"\"\n",
        "        inputs\n",
        "            in_: (1, batch_size) => seq_len = 1, a word\n",
        "            h0: (num_layers, batch_size, hidden_size)\n",
        "            c0: (num_layers, batch_size, hidden_size)\n",
        "\n",
        "        embed = self.embedding(_in) \n",
        "        # embedded: (1, batch_size, embed_size)\n",
        "        out, hn, cn = self.lstm(embedded)\n",
        "        # out: (1, batch_size, hidden_size)\n",
        "        # hn: (num_layers, batch_size, hidden_size)\n",
        "        # cn: (num_layers, batch_size, hidden_size)\n",
        "        logit = self.fc(out.squeeze(0))\n",
        "        # logit: (batch_size, vocab_size)\n",
        "\n",
        "        outputs: logit, hn, cn\n",
        "        \"\"\"\n",
        "        embedded = self.embedding(in_)\n",
        "        embedded = self.dropout(embedded)\n",
        "        out, (hn, cn) = self.lstm(embedded, (h0, c0))\n",
        "        logit = self.fc(out.squeeze(0))\n",
        "        return logit, hn, cn"
      ],
      "execution_count": 0,
      "outputs": []
    },
    {
      "cell_type": "markdown",
      "metadata": {
        "id": "2ZwOJLkTMbCt",
        "colab_type": "text"
      },
      "source": [
        "## Sequence to sequence model"
      ]
    },
    {
      "cell_type": "code",
      "metadata": {
        "id": "x5Wd0iNaMgp1",
        "colab_type": "code",
        "colab": {}
      },
      "source": [
        "class SeqToSeqNet(nn.Module):\n",
        "\n",
        "    def __init__(self, encoder, decoder, device=device):\n",
        "        assert encoder.n_layers == decoder.n_layers, \\\n",
        "        'Encoder and Decoder have to have the same number of reccurent layers'\n",
        "        assert encoder.hidden_size == decoder.hidden_size, \\\n",
        "        'Encoder and Decoder have to have the same number of reccurent hidden units'\n",
        "\n",
        "        super(SeqToSeqNet, self).__init__()\n",
        "        self.encoder = encoder\n",
        "        self.decoder = decoder\n",
        "        self.device = device\n",
        "\n",
        "    def encode(self, in_, seq_len):\n",
        "        _, hn, cn = self.encoder(in_, seq_len)\n",
        "        # Sum the two directional encoder hn state\n",
        "        if self.encoder.bidirectional:\n",
        "            hn = hn[:self.encoder.n_layers, :, :] + \\\n",
        "                    hn[self.encoder.n_layers:, :, :]\n",
        "            cn = cn[:self.encoder.n_layers, :, :] + \\\n",
        "                    cn[self.encoder.n_layers:, :, :]\n",
        "        return hn, cn\n",
        "\n",
        "    def decode(self, h_state, c_state, target, sos_index, teacher_forcing, ratio):\n",
        "        target_len, batch_size = target.size()\n",
        "        out = torch.zeros((target_len, batch_size, self.decoder.vocab_size),\n",
        "                           device=self.device)\n",
        "        in_ = target[0, :].unsqueeze(0)\n",
        "        for t in range(1, target_len):\n",
        "            logit, h_state, c_state = self.decoder(in_, h_state, c_state)\n",
        "            out[t] = logit # (batch_size, vocab_size)\n",
        "            if teacher_forcing and random.random() < ratio:\n",
        "                in_ = logit.argmax(1).unsqueeze(0) # (1, batch_size)\n",
        "            else:\n",
        "                in_ = target[t, :].unsqueeze(0)\n",
        "        return out\n",
        "\n",
        "    def forward(self, in_, seq_len, target, sos_index,\n",
        "                teacher_forcing=True, ratio=.5):\n",
        "        \"\"\"\n",
        "        inputs\n",
        "            in_: (seq_len, batch_size)\n",
        "            seq_len: (batch_size)\n",
        "            target: (seq_len, batch_size)\n",
        "            sos_index: int\n",
        "            eos_index: int\n",
        "\n",
        "        outputs\n",
        "            out: (seq_len, batch_size, vocab_size)\n",
        "        \"\"\"\n",
        "        hn, cn = self.encode(in_, seq_len)\n",
        "        out = self.decode(hn, cn, target, sos_index, teacher_forcing, ratio)\n",
        "        return out\n",
        "\n",
        "    def infer(self, h_state, c_state, sos_index, eos_index, max_len, sample):\n",
        "        \"\"\"\n",
        "        Infer a sequence. Not a batch.\n",
        "        \"\"\"\n",
        "        out = []\n",
        "        in_ = torch.ones((1, 1), device=self.device,\n",
        "                         dtype=torch.int64) * sos_index\n",
        "        for _ in range(max_len):\n",
        "            logit, h_state, c_state = self.decoder(in_, h_state, c_state)\n",
        "            if sample:\n",
        "                probs = F.softmax(logit, dim=1) # (1, vocab_size)\n",
        "                next_ = torch.multinomial(probs, 1) # (1, 1)\n",
        "            else:\n",
        "                in_, next_ = logit.topk(1, dim=1) # (batch_size=1, 1)\n",
        "            next_idx = next_.squeeze().cpu().item()\n",
        "            if next_idx == eos_index:\n",
        "                break\n",
        "            out.append(next_idx)\n",
        "            in_ = torch.ones((1, 1), device=self.device,\n",
        "                             dtype=torch.int64) * next_idx # (1, 1)\n",
        "        return out\n",
        "\n",
        "    def inference(self, in_, seq_len, sos_index, eos_index, max_len, sample=True):\n",
        "        \"\"\"\n",
        "        Inferring a sentence or a batch of sentences.\n",
        "        inputs\n",
        "            in_: (seq_len, batch_size)\n",
        "            seq_len: (batch_size)\n",
        "            sos_index: int\n",
        "            eos_index: int\n",
        "            max_len: int\n",
        "            sample: bool\n",
        "\n",
        "        outputs\n",
        "            out: list(seq_len*, batch_size)\n",
        "        \"\"\"\n",
        "        hn, cn = self.encode(in_, seq_len)\n",
        "        # hn: (num_layers, batch_size, hidden_size)\n",
        "        # cn: (num_layers, batch_size, hidden_size)\n",
        "        _, batch_size = in_.size()\n",
        "        out = []\n",
        "        for i in range(batch_size):\n",
        "            out.append(\n",
        "                self.infer(hn[:, i, :].unsqueeze(1),\n",
        "                           cn[:, i, :].unsqueeze(1),\n",
        "                           sos_index, eos_index, max_len, sample))\n",
        "        return out"
      ],
      "execution_count": 0,
      "outputs": []
    },
    {
      "cell_type": "markdown",
      "metadata": {
        "id": "LCLUmCfFMjGV",
        "colab_type": "text"
      },
      "source": [
        "## Training"
      ]
    },
    {
      "cell_type": "code",
      "metadata": {
        "id": "b_aldUUdZ5dv",
        "colab_type": "code",
        "colab": {}
      },
      "source": [
        "def init_weights(model: nn.Module):\n",
        "    for name, param in model.named_parameters():\n",
        "        nn.init.uniform_(param.data, a=-0.08, b=0.08)\n",
        "\n",
        "def count_parameters(model: nn.Module):\n",
        "    return sum(p.numel() for p in model.parameters() if p.requires_grad)"
      ],
      "execution_count": 0,
      "outputs": []
    },
    {
      "cell_type": "code",
      "metadata": {
        "id": "J1teOdv5q7ns",
        "colab_type": "code",
        "colab": {}
      },
      "source": [
        "def plot_grad_flow(named_parameters):\n",
        "    grad_mean, layers = [], []\n",
        "    for name, param in named_parameters:\n",
        "        if param.requires_grad and 'bias' not in name:\n",
        "            layers.append(name)\n",
        "            grad_mean.append(param.grad.abs().mean())\n",
        "    plt.plot(grad_mean, alpha=0.3, color='b')\n",
        "    plt.hlines(0, 0, len(grad_mean) + 1, linewidth=1, color='k' )\n",
        "    plt.xticks(range(0, len(grad_mean), 1), layers, rotation='vertical')\n",
        "    plt.xlim(xmin=0, xmax=len(grad_mean))\n",
        "    # plt.ylim(bottom=-0.001, top=0.02) # Zoom on lower gradients\n",
        "    plt.xlabel('Layers')\n",
        "    plt.ylabel('Mean of gradients')\n",
        "    plt.title('Gradient Flow')\n",
        "    plt.grid(True)"
      ],
      "execution_count": 0,
      "outputs": []
    },
    {
      "cell_type": "code",
      "metadata": {
        "id": "u8QgblulqoWT",
        "colab_type": "code",
        "colab": {}
      },
      "source": [
        "def train_step(model, opt, loss_func, data_it, grad_clip, sos_index,\n",
        "               epoch_text=''):\n",
        "    epoch_loss = 0.\n",
        "    pbar = tqdm.tqdm(enumerate(data_it), total=len(data_it))\n",
        "    model.train()\n",
        "    for i, data in pbar:\n",
        "        opt.zero_grad()\n",
        "        logits = model(*data.src, data.dest, sos_index)\n",
        "        # *data.src: unpack in_ and seq_len\n",
        "        loss = loss_func(logits[1:].view(-1, logits.size(-1)),\n",
        "                         data.dest[1:].view(-1))\n",
        "        loss.backward()\n",
        "        # plot_grad_flow(model.named_parameters())\n",
        "        if grad_clip:\n",
        "            nn.utils.clip_grad_norm_(model.parameters(), grad_clip)\n",
        "        opt.step()\n",
        "        epoch_loss += loss.item()\n",
        "        pbar.set_description(epoch_text + f'Train Loss: {epoch_loss/(i+1):.3f}')\n",
        "    # plt.show() # Show the gradient flow\n",
        "    return epoch_loss / len(data_it)"
      ],
      "execution_count": 0,
      "outputs": []
    },
    {
      "cell_type": "code",
      "metadata": {
        "id": "xYND0IGKrdJu",
        "colab_type": "code",
        "colab": {}
      },
      "source": [
        "def valid_step(model, loss_func, data_it, sos_index, epoch_text=''):\n",
        "    epoch_loss = 0.\n",
        "    pbar = tqdm.tqdm(enumerate(data_it), total=len(data_it))\n",
        "    model.eval()\n",
        "    with torch.no_grad():\n",
        "        for i, data in pbar:\n",
        "            logits = model(*data.src, data.dest, sos_index,\n",
        "                           teacher_forcing=False)\n",
        "            loss = loss_func(logits[1:].view(-1, logits.size(-1)),\n",
        "                             data.dest[1:].view(-1))\n",
        "            epoch_loss += loss.item()\n",
        "            pbar.set_description(epoch_text + f'Valid Loss: {epoch_loss/(i+1):.3f}')\n",
        "    return epoch_loss / len(data_it)\n"
      ],
      "execution_count": 0,
      "outputs": []
    },
    {
      "cell_type": "code",
      "metadata": {
        "id": "ECEXh0oHwSFN",
        "colab_type": "code",
        "colab": {}
      },
      "source": [
        "def train(model, optimizer, loss_function, train_it, valid_it, n_epochs, sos_index,\n",
        "          grad_clip=None, save_to='./saved_models', filename='seq2seq.pt'):\n",
        "    assert callable(loss_function)\n",
        "    if not os.path.exists(save_to):\n",
        "        !mkdir {save_to}\n",
        "\n",
        "    history = {'loss': [], 'val_loss': []}\n",
        "    best_loss = float('inf')\n",
        "    for epoch in range(n_epochs):\n",
        "        epoch_text = f'Epoch: {epoch + 1:02d} - '\n",
        "        loss = train_step(model, optimizer, loss_function, train_it, grad_clip,\n",
        "                          sos_index, epoch_text)\n",
        "        val_loss = valid_step(model, loss_function, valid_it, sos_index,\n",
        "                              epoch_text)\n",
        "\n",
        "        if val_loss < best_loss:\n",
        "            best_loss = val_loss\n",
        "            torch.save({'model': model.state_dict(),\n",
        "                        'optimizer': optimizer.state_dict()},\n",
        "                       f=os.path.join(save_to, filename))\n",
        "\n",
        "        history['loss'].append(loss)\n",
        "        history['val_loss'].append(val_loss)\n",
        "\n",
        "    return history"
      ],
      "execution_count": 0,
      "outputs": []
    },
    {
      "cell_type": "code",
      "metadata": {
        "id": "uZV_iUlh3CWo",
        "colab_type": "code",
        "colab": {}
      },
      "source": [
        "EMBEDDING_DIM = 300\n",
        "HIDDEN_SIZE = 512\n",
        "N_LAYERS = 2\n",
        "DROPOUT = 0.5\n",
        "LR = 1e-3\n",
        "GRAD_CLIP = 1.0\n",
        "BATCH_SIZE = 128\n",
        "N_EPOCHS = 30\n",
        "MAX_LEN = 50"
      ],
      "execution_count": 0,
      "outputs": []
    },
    {
      "cell_type": "code",
      "metadata": {
        "id": "LBekgFKP3C3S",
        "colab_type": "code",
        "colab": {}
      },
      "source": [
        "train_iterator, valid_iterator, test_iterator =  \\\n",
        "        BucketIterator.splits((train_data, valid_data,\n",
        "                               test_data),\n",
        "                              batch_size=BATCH_SIZE,\n",
        "                              # sort_key=lambda x: (len(x.src), len(x.dest)),\n",
        "                              sort_key=lambda x: len(x.src),\n",
        "                              sort_within_batch=True, # For pack_padded_sequence\n",
        "                              device=device)"
      ],
      "execution_count": 0,
      "outputs": []
    },
    {
      "cell_type": "code",
      "metadata": {
        "id": "aCWVfRdAxY6N",
        "colab_type": "code",
        "outputId": "1d3a0be8-26c7-404c-ba6c-b1722e7d871d",
        "colab": {
          "base_uri": "https://localhost:8080/",
          "height": 35
        }
      },
      "source": [
        "encoder = Encoder(embed_size=EMBEDDING_DIM,\n",
        "                  vocab_size=len(FR.vocab),\n",
        "                  hidden_size=HIDDEN_SIZE,\n",
        "                  n_layers=N_LAYERS,\n",
        "                  dropout=DROPOUT).to(device)\n",
        "decoder = Decoder(embed_size=EMBEDDING_DIM,\n",
        "                  vocab_size=len(EN.vocab),\n",
        "                  hidden_size=HIDDEN_SIZE,\n",
        "                  n_layers=N_LAYERS,\n",
        "                  dropout=DROPOUT).to(device)\n",
        "seq2seq = SeqToSeqNet(encoder=encoder, decoder=decoder).to(device)\n",
        "seq2seq.apply(init_weights)\n",
        "optimizer = optim.Adam(seq2seq.parameters(), lr=LR)\n",
        "criterion = nn.CrossEntropyLoss(ignore_index=EN.vocab.stoi[EN.pad_token])\n",
        "print(f'Number of parameters of the model: {count_parameters(seq2seq):,}')"
      ],
      "execution_count": 18,
      "outputs": [
        {
          "output_type": "stream",
          "text": [
            "Number of parameters of the model: 16,972,142\n"
          ],
          "name": "stdout"
        }
      ]
    },
    {
      "cell_type": "code",
      "metadata": {
        "id": "R22m0tls06BS",
        "colab_type": "code",
        "outputId": "d6f9779c-82ff-4e0b-9a4b-e8fdffe98111",
        "colab": {
          "base_uri": "https://localhost:8080/",
          "height": 1000
        }
      },
      "source": [
        "history = train(seq2seq, optimizer, criterion, train_iterator, valid_iterator,\n",
        "                sos_index=EN.vocab.stoi[EN.init_token],\n",
        "                n_epochs=N_EPOCHS, grad_clip=GRAD_CLIP)"
      ],
      "execution_count": 19,
      "outputs": [
        {
          "output_type": "stream",
          "text": [
            "Epoch: 01 - Train Loss: 6.429: 100%|██████████| 17/17 [00:03<00:00,  4.31it/s]\n",
            "Epoch: 01 - Valid Loss: 5.570: 100%|██████████| 3/3 [00:00<00:00, 16.49it/s]\n",
            "Epoch: 02 - Train Loss: 5.724: 100%|██████████| 17/17 [00:03<00:00,  4.36it/s]\n",
            "Epoch: 02 - Valid Loss: 5.486: 100%|██████████| 3/3 [00:00<00:00, 17.01it/s]\n",
            "Epoch: 03 - Train Loss: 5.628: 100%|██████████| 17/17 [00:03<00:00,  4.32it/s]\n",
            "Epoch: 03 - Valid Loss: 5.453: 100%|██████████| 3/3 [00:00<00:00, 16.81it/s]\n",
            "Epoch: 04 - Train Loss: 5.579: 100%|██████████| 17/17 [00:03<00:00,  4.29it/s]\n",
            "Epoch: 04 - Valid Loss: 5.430: 100%|██████████| 3/3 [00:00<00:00, 16.63it/s]\n",
            "Epoch: 05 - Train Loss: 5.540: 100%|██████████| 17/17 [00:03<00:00,  4.26it/s]\n",
            "Epoch: 05 - Valid Loss: 5.421: 100%|██████████| 3/3 [00:00<00:00, 15.89it/s]\n",
            "Epoch: 06 - Train Loss: 5.513: 100%|██████████| 17/17 [00:04<00:00,  4.24it/s]\n",
            "Epoch: 06 - Valid Loss: 5.404: 100%|██████████| 3/3 [00:00<00:00, 16.22it/s]\n",
            "Epoch: 07 - Train Loss: 5.484: 100%|██████████| 17/17 [00:04<00:00,  4.20it/s]\n",
            "Epoch: 07 - Valid Loss: 5.385: 100%|██████████| 3/3 [00:00<00:00, 16.05it/s]\n",
            "Epoch: 08 - Train Loss: 5.446: 100%|██████████| 17/17 [00:04<00:00,  4.18it/s]\n",
            "Epoch: 08 - Valid Loss: 5.349: 100%|██████████| 3/3 [00:00<00:00, 15.41it/s]\n",
            "Epoch: 09 - Train Loss: 5.406: 100%|██████████| 17/17 [00:04<00:00,  4.19it/s]\n",
            "Epoch: 09 - Valid Loss: 5.275: 100%|██████████| 3/3 [00:00<00:00, 15.80it/s]\n",
            "Epoch: 10 - Train Loss: 5.351: 100%|██████████| 17/17 [00:04<00:00,  4.22it/s]\n",
            "Epoch: 10 - Valid Loss: 5.210: 100%|██████████| 3/3 [00:00<00:00, 15.81it/s]\n",
            "Epoch: 11 - Train Loss: 5.317: 100%|██████████| 17/17 [00:04<00:00,  4.21it/s]\n",
            "Epoch: 11 - Valid Loss: 5.165: 100%|██████████| 3/3 [00:00<00:00, 16.10it/s]\n",
            "Epoch: 12 - Train Loss: 5.266: 100%|██████████| 17/17 [00:03<00:00,  4.29it/s]\n",
            "Epoch: 12 - Valid Loss: 5.109: 100%|██████████| 3/3 [00:00<00:00, 16.36it/s]\n",
            "Epoch: 13 - Train Loss: 5.236: 100%|██████████| 17/17 [00:04<00:00,  4.23it/s]\n",
            "Epoch: 13 - Valid Loss: 5.077: 100%|██████████| 3/3 [00:00<00:00, 16.61it/s]\n",
            "Epoch: 14 - Train Loss: 5.200: 100%|██████████| 17/17 [00:03<00:00,  4.26it/s]\n",
            "Epoch: 14 - Valid Loss: 5.053: 100%|██████████| 3/3 [00:00<00:00, 16.18it/s]\n",
            "Epoch: 15 - Train Loss: 5.168: 100%|██████████| 17/17 [00:03<00:00,  4.30it/s]\n",
            "Epoch: 15 - Valid Loss: 5.014: 100%|██████████| 3/3 [00:00<00:00, 16.51it/s]\n",
            "Epoch: 16 - Train Loss: 5.106: 100%|██████████| 17/17 [00:03<00:00,  4.33it/s]\n",
            "Epoch: 16 - Valid Loss: 4.978: 100%|██████████| 3/3 [00:00<00:00, 16.78it/s]\n",
            "Epoch: 17 - Train Loss: 5.081: 100%|██████████| 17/17 [00:03<00:00,  4.32it/s]\n",
            "Epoch: 17 - Valid Loss: 4.988: 100%|██████████| 3/3 [00:00<00:00, 16.48it/s]\n",
            "Epoch: 18 - Train Loss: 5.027: 100%|██████████| 17/17 [00:03<00:00,  4.34it/s]\n",
            "Epoch: 18 - Valid Loss: 4.948: 100%|██████████| 3/3 [00:00<00:00, 16.52it/s]\n",
            "Epoch: 19 - Train Loss: 5.053: 100%|██████████| 17/17 [00:03<00:00,  4.30it/s]\n",
            "Epoch: 19 - Valid Loss: 4.936: 100%|██████████| 3/3 [00:00<00:00, 16.52it/s]\n",
            "Epoch: 20 - Train Loss: 4.983: 100%|██████████| 17/17 [00:03<00:00,  4.30it/s]\n",
            "Epoch: 20 - Valid Loss: 4.911: 100%|██████████| 3/3 [00:00<00:00, 15.65it/s]\n",
            "Epoch: 21 - Train Loss: 4.939: 100%|██████████| 17/17 [00:03<00:00,  4.27it/s]\n",
            "Epoch: 21 - Valid Loss: 4.892: 100%|██████████| 3/3 [00:00<00:00, 16.46it/s]\n",
            "Epoch: 22 - Train Loss: 4.937: 100%|██████████| 17/17 [00:03<00:00,  4.28it/s]\n",
            "Epoch: 22 - Valid Loss: 4.887: 100%|██████████| 3/3 [00:00<00:00, 16.23it/s]\n",
            "Epoch: 23 - Train Loss: 4.880: 100%|██████████| 17/17 [00:03<00:00,  4.27it/s]\n",
            "Epoch: 23 - Valid Loss: 4.874: 100%|██████████| 3/3 [00:00<00:00, 16.44it/s]\n",
            "Epoch: 24 - Train Loss: 4.860: 100%|██████████| 17/17 [00:03<00:00,  4.31it/s]\n",
            "Epoch: 24 - Valid Loss: 4.850: 100%|██████████| 3/3 [00:00<00:00, 15.98it/s]\n",
            "Epoch: 25 - Train Loss: 4.817: 100%|██████████| 17/17 [00:03<00:00,  4.25it/s]\n",
            "Epoch: 25 - Valid Loss: 4.836: 100%|██████████| 3/3 [00:00<00:00, 15.68it/s]\n",
            "Epoch: 26 - Train Loss: 4.801: 100%|██████████| 17/17 [00:03<00:00,  4.26it/s]\n",
            "Epoch: 26 - Valid Loss: 4.808: 100%|██████████| 3/3 [00:00<00:00, 16.11it/s]\n",
            "Epoch: 27 - Train Loss: 4.782: 100%|██████████| 17/17 [00:04<00:00,  4.23it/s]\n",
            "Epoch: 27 - Valid Loss: 4.817: 100%|██████████| 3/3 [00:00<00:00, 16.38it/s]\n",
            "Epoch: 28 - Train Loss: 4.651: 100%|██████████| 17/17 [00:03<00:00,  4.27it/s]\n",
            "Epoch: 28 - Valid Loss: 4.777: 100%|██████████| 3/3 [00:00<00:00, 16.15it/s]\n",
            "Epoch: 29 - Train Loss: 4.655: 100%|██████████| 17/17 [00:03<00:00,  4.26it/s]\n",
            "Epoch: 29 - Valid Loss: 4.793: 100%|██████████| 3/3 [00:00<00:00, 16.48it/s]\n",
            "Epoch: 30 - Train Loss: 4.664: 100%|██████████| 17/17 [00:03<00:00,  4.25it/s]\n",
            "Epoch: 30 - Valid Loss: 4.793: 100%|██████████| 3/3 [00:00<00:00, 15.87it/s]\n"
          ],
          "name": "stderr"
        }
      ]
    },
    {
      "cell_type": "code",
      "metadata": {
        "id": "PQ_klP1-6XyF",
        "colab_type": "code",
        "outputId": "594ec77b-331d-4a6e-87eb-3da5088583a8",
        "colab": {
          "base_uri": "https://localhost:8080/",
          "height": 281
        }
      },
      "source": [
        "plt.plot(history['loss'], label='train')\n",
        "plt.plot(history['val_loss'], label='valid')\n",
        "plt.title('Loss')\n",
        "plt.legend()\n",
        "plt.grid(True)\n",
        "plt.show()"
      ],
      "execution_count": 20,
      "outputs": [
        {
          "output_type": "display_data",
          "data": {
            "image/png": "[encoded data removed]",
            "text/plain": [
              "<Figure size 432x288 with 1 Axes>"
            ]
          },
          "metadata": {
            "tags": []
          }
        }
      ]
    },
    {
      "cell_type": "code",
      "metadata": {
        "id": "DxDV_RX866Hp",
        "colab_type": "code",
        "outputId": "6448b84f-af1d-4bc1-e7c7-7dc8cebaaae2",
        "colab": {
          "base_uri": "https://localhost:8080/",
          "height": 35
        }
      },
      "source": [
        "seq2seq.load_state_dict(torch.load('./saved_models/seq2seq.pt').get('model'))\n",
        "test_loss = valid_step(seq2seq, criterion, test_iterator,\n",
        "                       sos_index=EN.vocab.stoi[EN.init_token],\n",
        "                       epoch_text='Test loss => ')"
      ],
      "execution_count": 21,
      "outputs": [
        {
          "output_type": "stream",
          "text": [
            "Test loss => Valid Loss: 4.790: 100%|██████████| 5/5 [00:00<00:00, 12.09it/s]\n"
          ],
          "name": "stderr"
        }
      ]
    },
    {
      "cell_type": "markdown",
      "metadata": {
        "id": "kC8tYcPCLgz5",
        "colab_type": "text"
      },
      "source": [
        "# Inference & BLEU score"
      ]
    },
    {
      "cell_type": "code",
      "metadata": {
        "id": "bCe-iET5mwf3",
        "colab_type": "code",
        "colab": {
          "base_uri": "https://localhost:8080/",
          "height": 277
        },
        "outputId": "1d3ff501-f297-478b-f0a2-32e5957f637b"
      },
      "source": [
        "help(SeqToSeqNet.inference)"
      ],
      "execution_count": 24,
      "outputs": [
        {
          "output_type": "stream",
          "text": [
            "Help on function inference in module __main__:\n",
            "\n",
            "inference(self, in_, seq_len, sos_index, eos_index, max_len, sample=True)\n",
            "    Inferring a sentence or a batch of sentences.\n",
            "    inputs\n",
            "        in_: (seq_len, batch_size)\n",
            "        seq_len: (batch_size)\n",
            "        sos_index: int\n",
            "        eos_index: int\n",
            "        max_len: int\n",
            "        sample: bool\n",
            "    \n",
            "    outputs\n",
            "        out: list(seq_len*, batch_size)\n",
            "\n"
          ],
          "name": "stdout"
        }
      ]
    },
    {
      "cell_type": "code",
      "metadata": {
        "id": "RdRIlUJjLeDj",
        "colab_type": "code",
        "outputId": "97427a7c-8638-45cf-b7fd-a4a1f63b3cd4",
        "colab": {
          "base_uri": "https://localhost:8080/",
          "height": 69
        }
      },
      "source": [
        "%%time\n",
        "references = []\n",
        "targets_with_sample = []\n",
        "targets_without_sample  = []\n",
        "seq2seq.eval()\n",
        "with torch.no_grad():\n",
        "    for i, example in enumerate(test_data.examples):\n",
        "        in_ = torch.tensor([FR.vocab.stoi[token]\n",
        "                            for token in example.src],\n",
        "                        dtype=torch.int64, device=device).unsqueeze(1)\n",
        "        if in_.size(0) == 0:\n",
        "            print(f'skipped example {i}!')\n",
        "            continue\n",
        "        seq_len = torch.tensor([in_.size(0)], dtype=torch.int64, device=device)\n",
        "        with_ = seq2seq.inference(in_, seq_len, EN.vocab.stoi[EN.init_token],\n",
        "                                  EN.vocab.stoi[EN.eos_token], MAX_LEN)\n",
        "        without = seq2seq.inference(in_, seq_len,  EN.vocab.stoi[EN.init_token],\n",
        "                                    EN.vocab.stoi[EN.eos_token], MAX_LEN, False)\n",
        "        targets_with_sample.append([EN.vocab.itos[int(idx)] for idx in with_[0]])\n",
        "        targets_without_sample.append([EN.vocab.itos[int(idx)] for idx in without[0]])\n",
        "        references.append([example.dest])"
      ],
      "execution_count": 34,
      "outputs": [
        {
          "output_type": "stream",
          "text": [
            "skipped example 516!\n",
            "CPU times: user 20.9 s, sys: 878 ms, total: 21.8 s\n",
            "Wall time: 21.8 s\n"
          ],
          "name": "stdout"
        }
      ]
    },
    {
      "cell_type": "code",
      "metadata": {
        "id": "yTolzzQaoAGd",
        "colab_type": "code",
        "outputId": "aab5bd3b-b676-4d19-a4e5-e3fd153d5eec",
        "colab": {
          "base_uri": "https://localhost:8080/",
          "height": 52
        }
      },
      "source": [
        "print(f'BLEU score with sampling: {bleu_score(targets_with_sample, references)}')\n",
        "print(f'BLEU score without sampling: {bleu_score(targets_without_sample, references)}')"
      ],
      "execution_count": 35,
      "outputs": [
        {
          "output_type": "stream",
          "text": [
            "BLEU score with sampling: 0.0027251001447439194\n",
            "BLEU score without sampling: 0.006780573234594942\n"
          ],
          "name": "stdout"
        }
      ]
    },
    {
      "cell_type": "code",
      "metadata": {
        "id": "JV-mzrtbp_mp",
        "colab_type": "code",
        "outputId": "fbbb9970-0adb-4d4f-b126-f16868147421",
        "colab": {
          "base_uri": "https://localhost:8080/",
          "height": 124
        }
      },
      "source": [
        "idx = 1\n",
        "print(' '.join(references[idx][0]))\n",
        "print('================================')\n",
        "print(' '.join(targets_with_sample[idx]))\n",
        "print('================================')\n",
        "print(' '.join(targets_without_sample[idx]))"
      ],
      "execution_count": 36,
      "outputs": [
        {
          "output_type": "stream",
          "text": [
            "despite the fact that we do not consider that the european parliament should propose all these amendments to the treaty , we have elected to adopt positions on the individual points , as will be evident from our voting .\n",
            "================================\n",
            "the have last , if the is seem to not look regrettable and operates to led a good rapporteurs and the power to be place alleged <unk> development as europe . council to <unk> education .\n",
            "================================\n",
            "the , the the <unk> of the <unk> of the <unk> of the <unk> of the <unk> of the <unk> of the <unk> of the <unk> of the <unk> of the .\n"
          ],
          "name": "stdout"
        }
      ]
    },
    {
      "cell_type": "code",
      "metadata": {
        "id": "8hzyFn-Vqn3S",
        "colab_type": "code",
        "colab": {}
      },
      "source": [
        ""
      ],
      "execution_count": 0,
      "outputs": []
    }
  ]
}