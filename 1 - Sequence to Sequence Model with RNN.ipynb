{
  "nbformat": 4,
  "nbformat_minor": 0,
  "metadata": {
    "colab": {
      "name": "1 - Sequence to Sequence Model with RNN.ipynb",
      "provenance": [],
      "collapsed_sections": [
        "wEd7p3ARFcyr",
        "v2BPfwqcFk4h",
        "tazMbPR6Hnjg",
        "yT-6GZgfMXIu",
        "7cFeoEJpMYgE",
        "2ZwOJLkTMbCt"
      ]
    },
    "kernelspec": {
      "name": "python3",
      "display_name": "Python 3"
    },
    "accelerator": "GPU"
  },
  "cells": [
    {
      "cell_type": "markdown",
      "metadata": {
        "id": "wEd7p3ARFcyr",
        "colab_type": "text"
      },
      "source": [
        "# Import dependencies"
      ]
    },
    {
      "cell_type": "code",
      "metadata": {
        "id": "gttqmxRIFSUa",
        "colab_type": "code",
        "colab": {
          "base_uri": "https://localhost:8080/",
          "height": 1000
        },
        "outputId": "11482fd1-7a8b-444a-9bdf-8114051e16df"
      },
      "source": [
        "!pip install torchtext --upgrade\n",
        "!python -m spacy download fr\n",
        "!python -m spacy download en"
      ],
      "execution_count": 1,
      "outputs": [
        {
          "output_type": "stream",
          "text": [
            "Requirement already up-to-date: torchtext in /usr/local/lib/python3.6/dist-packages (0.5.0)\n",
            "Requirement already satisfied, skipping upgrade: six in /usr/local/lib/python3.6/dist-packages (from torchtext) (1.12.0)\n",
            "Requirement already satisfied, skipping upgrade: sentencepiece in /usr/local/lib/python3.6/dist-packages (from torchtext) (0.1.85)\n",
            "Requirement already satisfied, skipping upgrade: numpy in /usr/local/lib/python3.6/dist-packages (from torchtext) (1.18.1)\n",
            "Requirement already satisfied, skipping upgrade: tqdm in /usr/local/lib/python3.6/dist-packages (from torchtext) (4.28.1)\n",
            "Requirement already satisfied, skipping upgrade: requests in /usr/local/lib/python3.6/dist-packages (from torchtext) (2.21.0)\n",
            "Requirement already satisfied, skipping upgrade: torch in /usr/local/lib/python3.6/dist-packages (from torchtext) (1.4.0)\n",
            "Requirement already satisfied, skipping upgrade: certifi>=2017.4.17 in /usr/local/lib/python3.6/dist-packages (from requests->torchtext) (2019.11.28)\n",
            "Requirement already satisfied, skipping upgrade: idna<2.9,>=2.5 in /usr/local/lib/python3.6/dist-packages (from requests->torchtext) (2.8)\n",
            "Requirement already satisfied, skipping upgrade: chardet<3.1.0,>=3.0.2 in /usr/local/lib/python3.6/dist-packages (from requests->torchtext) (3.0.4)\n",
            "Requirement already satisfied, skipping upgrade: urllib3<1.25,>=1.21.1 in /usr/local/lib/python3.6/dist-packages (from requests->torchtext) (1.24.3)\n",
            "Requirement already satisfied: fr_core_news_sm==2.2.5 from https://github.com/explosion/spacy-models/releases/download/fr_core_news_sm-2.2.5/fr_core_news_sm-2.2.5.tar.gz#egg=fr_core_news_sm==2.2.5 in /usr/local/lib/python3.6/dist-packages (2.2.5)\n",
            "Requirement already satisfied: spacy>=2.2.2 in /usr/local/lib/python3.6/dist-packages (from fr_core_news_sm==2.2.5) (2.2.3)\n",
            "Requirement already satisfied: blis<0.5.0,>=0.4.0 in /usr/local/lib/python3.6/dist-packages (from spacy>=2.2.2->fr_core_news_sm==2.2.5) (0.4.1)\n",
            "Requirement already satisfied: murmurhash<1.1.0,>=0.28.0 in /usr/local/lib/python3.6/dist-packages (from spacy>=2.2.2->fr_core_news_sm==2.2.5) (1.0.2)\n",
            "Requirement already satisfied: requests<3.0.0,>=2.13.0 in /usr/local/lib/python3.6/dist-packages (from spacy>=2.2.2->fr_core_news_sm==2.2.5) (2.21.0)\n",
            "Requirement already satisfied: plac<1.2.0,>=0.9.6 in /usr/local/lib/python3.6/dist-packages (from spacy>=2.2.2->fr_core_news_sm==2.2.5) (1.1.3)\n",
            "Requirement already satisfied: srsly<1.1.0,>=0.1.0 in /usr/local/lib/python3.6/dist-packages (from spacy>=2.2.2->fr_core_news_sm==2.2.5) (1.0.2)\n",
            "Requirement already satisfied: setuptools in /usr/local/lib/python3.6/dist-packages (from spacy>=2.2.2->fr_core_news_sm==2.2.5) (45.2.0)\n",
            "Requirement already satisfied: cymem<2.1.0,>=2.0.2 in /usr/local/lib/python3.6/dist-packages (from spacy>=2.2.2->fr_core_news_sm==2.2.5) (2.0.3)\n",
            "Requirement already satisfied: catalogue<1.1.0,>=0.0.7 in /usr/local/lib/python3.6/dist-packages (from spacy>=2.2.2->fr_core_news_sm==2.2.5) (1.0.0)\n",
            "Requirement already satisfied: preshed<3.1.0,>=3.0.2 in /usr/local/lib/python3.6/dist-packages (from spacy>=2.2.2->fr_core_news_sm==2.2.5) (3.0.2)\n",
            "Requirement already satisfied: wasabi<1.1.0,>=0.4.0 in /usr/local/lib/python3.6/dist-packages (from spacy>=2.2.2->fr_core_news_sm==2.2.5) (0.6.0)\n",
            "Requirement already satisfied: thinc<7.4.0,>=7.3.0 in /usr/local/lib/python3.6/dist-packages (from spacy>=2.2.2->fr_core_news_sm==2.2.5) (7.3.1)\n",
            "Requirement already satisfied: numpy>=1.15.0 in /usr/local/lib/python3.6/dist-packages (from spacy>=2.2.2->fr_core_news_sm==2.2.5) (1.18.1)\n",
            "Requirement already satisfied: idna<2.9,>=2.5 in /usr/local/lib/python3.6/dist-packages (from requests<3.0.0,>=2.13.0->spacy>=2.2.2->fr_core_news_sm==2.2.5) (2.8)\n",
            "Requirement already satisfied: chardet<3.1.0,>=3.0.2 in /usr/local/lib/python3.6/dist-packages (from requests<3.0.0,>=2.13.0->spacy>=2.2.2->fr_core_news_sm==2.2.5) (3.0.4)\n",
            "Requirement already satisfied: urllib3<1.25,>=1.21.1 in /usr/local/lib/python3.6/dist-packages (from requests<3.0.0,>=2.13.0->spacy>=2.2.2->fr_core_news_sm==2.2.5) (1.24.3)\n",
            "Requirement already satisfied: certifi>=2017.4.17 in /usr/local/lib/python3.6/dist-packages (from requests<3.0.0,>=2.13.0->spacy>=2.2.2->fr_core_news_sm==2.2.5) (2019.11.28)\n",
            "Requirement already satisfied: importlib-metadata>=0.20; python_version < \"3.8\" in /usr/local/lib/python3.6/dist-packages (from catalogue<1.1.0,>=0.0.7->spacy>=2.2.2->fr_core_news_sm==2.2.5) (1.5.0)\n",
            "Requirement already satisfied: tqdm<5.0.0,>=4.10.0 in /usr/local/lib/python3.6/dist-packages (from thinc<7.4.0,>=7.3.0->spacy>=2.2.2->fr_core_news_sm==2.2.5) (4.28.1)\n",
            "Requirement already satisfied: zipp>=0.5 in /usr/local/lib/python3.6/dist-packages (from importlib-metadata>=0.20; python_version < \"3.8\"->catalogue<1.1.0,>=0.0.7->spacy>=2.2.2->fr_core_news_sm==2.2.5) (3.1.0)\n",
            "\u001b[38;5;2m✔ Download and installation successful\u001b[0m\n",
            "You can now load the model via spacy.load('fr_core_news_sm')\n",
            "\u001b[38;5;2m✔ Linking successful\u001b[0m\n",
            "/usr/local/lib/python3.6/dist-packages/fr_core_news_sm -->\n",
            "/usr/local/lib/python3.6/dist-packages/spacy/data/fr\n",
            "You can now load the model via spacy.load('fr')\n",
            "Requirement already satisfied: en_core_web_sm==2.2.5 from https://github.com/explosion/spacy-models/releases/download/en_core_web_sm-2.2.5/en_core_web_sm-2.2.5.tar.gz#egg=en_core_web_sm==2.2.5 in /usr/local/lib/python3.6/dist-packages (2.2.5)\n",
            "Requirement already satisfied: spacy>=2.2.2 in /usr/local/lib/python3.6/dist-packages (from en_core_web_sm==2.2.5) (2.2.3)\n",
            "Requirement already satisfied: wasabi<1.1.0,>=0.4.0 in /usr/local/lib/python3.6/dist-packages (from spacy>=2.2.2->en_core_web_sm==2.2.5) (0.6.0)\n",
            "Requirement already satisfied: cymem<2.1.0,>=2.0.2 in /usr/local/lib/python3.6/dist-packages (from spacy>=2.2.2->en_core_web_sm==2.2.5) (2.0.3)\n",
            "Requirement already satisfied: setuptools in /usr/local/lib/python3.6/dist-packages (from spacy>=2.2.2->en_core_web_sm==2.2.5) (45.2.0)\n",
            "Requirement already satisfied: preshed<3.1.0,>=3.0.2 in /usr/local/lib/python3.6/dist-packages (from spacy>=2.2.2->en_core_web_sm==2.2.5) (3.0.2)\n",
            "Requirement already satisfied: requests<3.0.0,>=2.13.0 in /usr/local/lib/python3.6/dist-packages (from spacy>=2.2.2->en_core_web_sm==2.2.5) (2.21.0)\n",
            "Requirement already satisfied: blis<0.5.0,>=0.4.0 in /usr/local/lib/python3.6/dist-packages (from spacy>=2.2.2->en_core_web_sm==2.2.5) (0.4.1)\n",
            "Requirement already satisfied: thinc<7.4.0,>=7.3.0 in /usr/local/lib/python3.6/dist-packages (from spacy>=2.2.2->en_core_web_sm==2.2.5) (7.3.1)\n",
            "Requirement already satisfied: murmurhash<1.1.0,>=0.28.0 in /usr/local/lib/python3.6/dist-packages (from spacy>=2.2.2->en_core_web_sm==2.2.5) (1.0.2)\n",
            "Requirement already satisfied: catalogue<1.1.0,>=0.0.7 in /usr/local/lib/python3.6/dist-packages (from spacy>=2.2.2->en_core_web_sm==2.2.5) (1.0.0)\n",
            "Requirement already satisfied: numpy>=1.15.0 in /usr/local/lib/python3.6/dist-packages (from spacy>=2.2.2->en_core_web_sm==2.2.5) (1.18.1)\n",
            "Requirement already satisfied: plac<1.2.0,>=0.9.6 in /usr/local/lib/python3.6/dist-packages (from spacy>=2.2.2->en_core_web_sm==2.2.5) (1.1.3)\n",
            "Requirement already satisfied: srsly<1.1.0,>=0.1.0 in /usr/local/lib/python3.6/dist-packages (from spacy>=2.2.2->en_core_web_sm==2.2.5) (1.0.2)\n",
            "Requirement already satisfied: idna<2.9,>=2.5 in /usr/local/lib/python3.6/dist-packages (from requests<3.0.0,>=2.13.0->spacy>=2.2.2->en_core_web_sm==2.2.5) (2.8)\n",
            "Requirement already satisfied: chardet<3.1.0,>=3.0.2 in /usr/local/lib/python3.6/dist-packages (from requests<3.0.0,>=2.13.0->spacy>=2.2.2->en_core_web_sm==2.2.5) (3.0.4)\n",
            "Requirement already satisfied: urllib3<1.25,>=1.21.1 in /usr/local/lib/python3.6/dist-packages (from requests<3.0.0,>=2.13.0->spacy>=2.2.2->en_core_web_sm==2.2.5) (1.24.3)\n",
            "Requirement already satisfied: certifi>=2017.4.17 in /usr/local/lib/python3.6/dist-packages (from requests<3.0.0,>=2.13.0->spacy>=2.2.2->en_core_web_sm==2.2.5) (2019.11.28)\n",
            "Requirement already satisfied: tqdm<5.0.0,>=4.10.0 in /usr/local/lib/python3.6/dist-packages (from thinc<7.4.0,>=7.3.0->spacy>=2.2.2->en_core_web_sm==2.2.5) (4.28.1)\n",
            "Requirement already satisfied: importlib-metadata>=0.20; python_version < \"3.8\" in /usr/local/lib/python3.6/dist-packages (from catalogue<1.1.0,>=0.0.7->spacy>=2.2.2->en_core_web_sm==2.2.5) (1.5.0)\n",
            "Requirement already satisfied: zipp>=0.5 in /usr/local/lib/python3.6/dist-packages (from importlib-metadata>=0.20; python_version < \"3.8\"->catalogue<1.1.0,>=0.0.7->spacy>=2.2.2->en_core_web_sm==2.2.5) (3.1.0)\n",
            "\u001b[38;5;2m✔ Download and installation successful\u001b[0m\n",
            "You can now load the model via spacy.load('en_core_web_sm')\n",
            "\u001b[38;5;2m✔ Linking successful\u001b[0m\n",
            "/usr/local/lib/python3.6/dist-packages/en_core_web_sm -->\n",
            "/usr/local/lib/python3.6/dist-packages/spacy/data/en\n",
            "You can now load the model via spacy.load('en')\n"
          ],
          "name": "stdout"
        }
      ]
    },
    {
      "cell_type": "code",
      "metadata": {
        "id": "M-A0mVf7GNix",
        "colab_type": "code",
        "colab": {}
      },
      "source": [
        "import os\n",
        "import re\n",
        "import tqdm\n",
        "import random\n",
        "import unicodedata\n",
        "import numpy as np\n",
        "import matplotlib.pyplot as plt\n",
        "\n",
        "import spacy\n",
        "\n",
        "import torch\n",
        "import torch.nn as nn\n",
        "import torch.nn.functional as F\n",
        "import torch.optim as optim\n",
        "\n",
        "from torchtext.data import Example, Field, Dataset\n",
        "from torchtext.data.iterator import BucketIterator\n",
        "from torchtext.data.metrics import bleu_score"
      ],
      "execution_count": 0,
      "outputs": []
    },
    {
      "cell_type": "code",
      "metadata": {
        "id": "o0iX1ZuNG0wH",
        "colab_type": "code",
        "colab": {}
      },
      "source": [
        "seed = 781\n",
        "random.seed(seed)\n",
        "np.random.seed(seed)\n",
        "torch.manual_seed(seed)\n",
        "torch.cuda.manual_seed(seed)\n",
        "torch.backends.cudnn.deterministic = True\n",
        "\n",
        "device = torch.device('cuda' if torch.cuda.is_available() else 'cpu')"
      ],
      "execution_count": 0,
      "outputs": []
    },
    {
      "cell_type": "markdown",
      "metadata": {
        "id": "v2BPfwqcFk4h",
        "colab_type": "text"
      },
      "source": [
        "# Download data"
      ]
    },
    {
      "cell_type": "code",
      "metadata": {
        "id": "Gc5EcEA1FnCw",
        "colab_type": "code",
        "colab": {}
      },
      "source": [
        "if not os.path.exists('./data'):\n",
        "    !mkdir ./data"
      ],
      "execution_count": 0,
      "outputs": []
    },
    {
      "cell_type": "code",
      "metadata": {
        "id": "wmajgrxCHwsw",
        "colab_type": "code",
        "colab": {
          "base_uri": "https://localhost:8080/",
          "height": 0
        },
        "outputId": "a5561781-a693-4227-b028-51aaab5a41ce"
      },
      "source": [
        "!wget --no-check-certificate \\\n",
        "    http://www.statmt.org/europarl/v7/fr-en.tgz \\\n",
        "    -O ./data/fr-en.tgz"
      ],
      "execution_count": 5,
      "outputs": [
        {
          "output_type": "stream",
          "text": [
            "--2020-03-18 05:07:11--  http://www.statmt.org/europarl/v7/fr-en.tgz\n",
            "Resolving www.statmt.org (www.statmt.org)... 129.215.197.184\n",
            "Connecting to www.statmt.org (www.statmt.org)|129.215.197.184|:80... connected.\n",
            "HTTP request sent, awaiting response... 200 OK\n",
            "Length: 202718517 (193M) [application/x-gzip]\n",
            "Saving to: ‘./data/fr-en.tgz’\n",
            "\n",
            "./data/fr-en.tgz    100%[===================>] 193.33M   975KB/s    in 3m 53s  \n",
            "\n",
            "2020-03-18 05:11:05 (849 KB/s) - ‘./data/fr-en.tgz’ saved [202718517/202718517]\n",
            "\n"
          ],
          "name": "stdout"
        }
      ]
    },
    {
      "cell_type": "code",
      "metadata": {
        "id": "M2r79GZZH7Ip",
        "colab_type": "code",
        "colab": {
          "base_uri": "https://localhost:8080/",
          "height": 0
        },
        "outputId": "f775f797-981b-4215-bcf3-1ad2285d2b7e"
      },
      "source": [
        "!tar -xzvf ./data/fr-en.tgz -C ./data"
      ],
      "execution_count": 6,
      "outputs": [
        {
          "output_type": "stream",
          "text": [
            "europarl-v7.fr-en.en\n",
            "europarl-v7.fr-en.fr\n"
          ],
          "name": "stdout"
        }
      ]
    },
    {
      "cell_type": "markdown",
      "metadata": {
        "id": "tazMbPR6Hnjg",
        "colab_type": "text"
      },
      "source": [
        "# Data processing"
      ]
    },
    {
      "cell_type": "code",
      "metadata": {
        "id": "95Q9N_zBHpTr",
        "colab_type": "code",
        "colab": {}
      },
      "source": [
        "def read_file(filepath):\n",
        "    try:\n",
        "        with open(filepath, mode='rt', encoding='utf-8') as file:\n",
        "            content = file.readlines()\n",
        "        return content\n",
        "    except:\n",
        "        raise NotImplementedError(f'File {filepath} doesn\\'t exist')"
      ],
      "execution_count": 0,
      "outputs": []
    },
    {
      "cell_type": "code",
      "metadata": {
        "id": "02KzJaPmIjI2",
        "colab_type": "code",
        "colab": {}
      },
      "source": [
        "def unicode_to_ascii(s):\n",
        "    # NFD => Normal Form Decompose\n",
        "    # Mn => Non Marking Space\n",
        "    return ''.join(c for c in unicodedata.normalize('NFD', s) \\\n",
        "                    if unicodedata.category(c) != 'Mn')\n",
        "\n",
        "def normalize_string(s):\n",
        "    s = unicode_to_ascii(s.strip())\n",
        "    s = re.sub(r'\\s+', r' ', s)\n",
        "    return s.strip()"
      ],
      "execution_count": 0,
      "outputs": []
    },
    {
      "cell_type": "code",
      "metadata": {
        "id": "wlJtKDpMJF-1",
        "colab_type": "code",
        "colab": {
          "base_uri": "https://localhost:8080/",
          "height": 0
        },
        "outputId": "04534101-488a-4179-a045-6cd054b5fad9"
      },
      "source": [
        "%%time\n",
        "pairs = [*zip(read_file('./data/europarl-v7.fr-en.fr'),\n",
        "              read_file('./data/europarl-v7.fr-en.en'))]\n",
        "pairs = [*map(lambda x: {'fr': x[0], 'en': x[1]}, pairs)]\n",
        "print(f'Number of examples: {len(pairs)}')\n",
        "pairs = np.random.choice(pairs, size=3000, replace=False)\n",
        "pairs = [*map(lambda pair: {k: normalize_string(v) for k, v in pair.items()},\n",
        "              pairs)]\n",
        "print(f'Number of examples after sampling: {len(pairs)}')\n",
        "print(f'Example:\\n\\tFR => {pairs[0][\"fr\"]}\\n\\tEN => {pairs[0][\"en\"]}')"
      ],
      "execution_count": 5,
      "outputs": [
        {
          "output_type": "stream",
          "text": [
            "Number of examples: 2007723\n",
            "Number of examples after sampling: 3000\n",
            "Example:\n",
            "\tFR => Les procedures par le biais desquelles de tels produits entrent et sortent de l'Union europeenne doivent etre ouvertes, transparentes et, par dessus tout, sures.\n",
            "\tEN => The procedures whereby such products come in and out of the European Union have to be open, transparent and, above all, safe.\n",
            "CPU times: user 3.73 s, sys: 1.03 s, total: 4.76 s\n",
            "Wall time: 16.5 s\n"
          ],
          "name": "stdout"
        }
      ]
    },
    {
      "cell_type": "code",
      "metadata": {
        "id": "BAq2uyDyJ6KD",
        "colab_type": "code",
        "colab": {
          "base_uri": "https://localhost:8080/",
          "height": 0
        },
        "outputId": "51bdb4a4-10ae-478a-b1e5-7bc19c978eba"
      },
      "source": [
        "%%time\n",
        "FR = Field(init_token='<sos>',\n",
        "           eos_token='<eos>',\n",
        "           preprocessing=lambda x: x[::-1],\n",
        "           lower=True,\n",
        "           tokenize='spacy',\n",
        "           tokenizer_language='fr')\n",
        "EN = Field(init_token='<sos>',\n",
        "           eos_token='<eos>',\n",
        "           preprocessing=lambda x: x[::-1],\n",
        "           lower=True,\n",
        "           tokenize='spacy',\n",
        "           tokenizer_language='en')\n",
        "\n",
        "examples = [Example.fromdict(data=pair, fields={'fr': ('src', FR),\n",
        "                                                'en': ('dest', EN)})\n",
        "            for pair in tqdm.tqdm(pairs)]\n",
        "data = Dataset(examples, fields={'src': FR, 'dest': EN})\n",
        "train_data, valid_data, test_data = data.split(split_ratio=[0.7, 0.2, 0.1])\n",
        "print(f'train size: {len(train_data.examples)}')\n",
        "print(f'valid size: {len(valid_data.examples)}')\n",
        "print(f'test size: {len(test_data.examples)}')\n",
        "print(vars(train_data.examples[0]))"
      ],
      "execution_count": 6,
      "outputs": [
        {
          "output_type": "stream",
          "text": [
            "100%|██████████| 3000/3000 [00:01<00:00, 2383.47it/s]"
          ],
          "name": "stderr"
        },
        {
          "output_type": "stream",
          "text": [
            "train size: 2100\n",
            "valid size: 300\n",
            "test size: 600\n",
            "{'src': ['.', 'rester', 'de', 'permettant', 'leur', 'integration', \"'\", 'd', 'politique', 'une', 'prioritairement', 'place', 'en', 'mettre', 'faut', 'il', \"'\", 'qu', 'et', ',', '\"', 'union', \"'\", 'l', 'de', 'citoyens', 'des', 'ceux', 'de', 'possible', 'que', 'proches', 'aussi', 'uniformes', 'droits', 'de', 'ensemble', 'un', '\"', ':', 'cite', 'je', ',', 'legaux', 'immigres', 'aux', 'donner', 'faut', 'il', \"'\", 'qu', ',', 'reprises', 'plusieurs', 'a', ',', 'fortement', 'proclame', 'il', ',', 'temps', 'meme', 'en', 'mais', ',', 'source', 'la', 'a', 'clandestine', 'immigration', \"'\", 'l', 'combattre', 'de', 'et', 'migratoires', 'flux', 'les', 'gerer', 'de', 'platonique', 'volonte', 'la', 'affiche', 'tampere', 'de', 'conseil', 'le', ':', 'contradiction', 'seconde'], 'dest': ['.', 'stay', 'to', 'them', 'enable', 'to', 'up', 'set', 'be', 'must', 'integration', 'of', 'policy', 'a', 'priority', 'a', 'as', 'that', 'and', ',', '\"', 'citizens', 'eu', 'by', 'enjoyed', 'those', 'to', 'possible', 'as', 'near', 'as', 'are', 'which', 'rights', 'uniform', 'of', 'set', 'a', '\"', ',', 'quote', 'i', ',', 'given', 'be', 'must', 'immigrants', 'legal', 'that', ',', 'occasions', 'several', 'on', ',', 'proclaims', 'staunchly', ',', 'time', 'same', 'the', 'at', ',', 'but', ',', 'source', 'at', 'immigration', 'illegal', 'combat', 'to', 'and', 'migrants', 'of', 'flows', 'the', 'control', 'to', 'intention', 'formal', 'purely', 'its', 'propounds', 'council', 'tampere', 'the', ':', 'contradiction', 'second', 'the']}\n",
            "CPU times: user 6.34 s, sys: 138 ms, total: 6.48 s\n",
            "Wall time: 6.47 s\n"
          ],
          "name": "stdout"
        },
        {
          "output_type": "stream",
          "text": [
            "\n"
          ],
          "name": "stderr"
        }
      ]
    },
    {
      "cell_type": "code",
      "metadata": {
        "id": "JycVMjsRLmoB",
        "colab_type": "code",
        "colab": {
          "base_uri": "https://localhost:8080/",
          "height": 0
        },
        "outputId": "d9c9cb80-4496-42cb-b549-2af5bafadb71"
      },
      "source": [
        "FR.build_vocab(train_data,\n",
        "               min_freq=2,\n",
        "               specials=['<sos>', '<eos>', '<unk>', '<pad>'])\n",
        "EN.build_vocab(train_data,\n",
        "               min_freq=2,\n",
        "               specials=['<sos>', '<eos>', '<unk>', '<pad>'])\n",
        "\n",
        "print(f'Length of FR vocabulary: {len(FR.vocab)}')\n",
        "print(f'Length of EN vocabulary: {len(EN.vocab)}')"
      ],
      "execution_count": 7,
      "outputs": [
        {
          "output_type": "stream",
          "text": [
            "Length of FR vocabulary: 3472\n",
            "Length of EN vocabulary: 3110\n"
          ],
          "name": "stdout"
        }
      ]
    },
    {
      "cell_type": "markdown",
      "metadata": {
        "id": "nKKRGB9cIbn8",
        "colab_type": "text"
      },
      "source": [
        "# Modeling"
      ]
    },
    {
      "cell_type": "markdown",
      "metadata": {
        "id": "yT-6GZgfMXIu",
        "colab_type": "text"
      },
      "source": [
        "## Encoder"
      ]
    },
    {
      "cell_type": "code",
      "metadata": {
        "id": "gJL7MVwAMVtR",
        "colab_type": "code",
        "colab": {}
      },
      "source": [
        "class Encoder(nn.Module):\n",
        "\n",
        "    def __init__(self, embed_size, vocab_size, hidden_size,\n",
        "                 n_layers=1, dropout=0, bidirectional=True):\n",
        "        super(Encoder, self).__init__()\n",
        "        self.hidden_size = hidden_size\n",
        "        self.n_layers = n_layers\n",
        "        self.bidirectional = bidirectional\n",
        "        self.embedding = nn.Embedding(vocab_size, embed_size)\n",
        "        self.dropout = nn.Dropout(dropout)\n",
        "        self.lstm = nn.LSTM(embed_size, hidden_size,\n",
        "                            num_layers=n_layers,\n",
        "                            dropout=(dropout if n_layers > 1 else 0),\n",
        "                            bidirectional=bidirectional)\n",
        "    \n",
        "    def forward(self, in_):\n",
        "        \"\"\"\n",
        "        inputs\n",
        "            in_: (seq_len, batch_size)\n",
        "\n",
        "        embedded = self.embedding(in_)\n",
        "        # embedded: (seq_len, batch_size, embed_size)\n",
        "        out, (hn, cn) = self.lstm(embedded)\n",
        "            out: (seq_len, batch_size, num_directions * hidden_size)\n",
        "            hn: (num_layers * num_directions, batch_size, hidden_size)\n",
        "            cn: (num_layers * num_directions, batch_size, hidden_size)\n",
        "\n",
        "        outputs: out, hn, cn\n",
        "        \"\"\"\n",
        "        embedded = self.embedding(in_)\n",
        "        embedded = self.dropout(embedded)\n",
        "        out, (hn, cn) = self.lstm(embedded)\n",
        "        return out, hn, cn"
      ],
      "execution_count": 0,
      "outputs": []
    },
    {
      "cell_type": "markdown",
      "metadata": {
        "id": "7cFeoEJpMYgE",
        "colab_type": "text"
      },
      "source": [
        "## Decoder"
      ]
    },
    {
      "cell_type": "code",
      "metadata": {
        "id": "deAfHkCcIdzj",
        "colab_type": "code",
        "colab": {}
      },
      "source": [
        "class Decoder(nn.Module):\n",
        "\n",
        "    def __init__(self, embed_size, vocab_size, hidden_size,\n",
        "                 n_layers=1, dropout=0):\n",
        "        super(Decoder, self).__init__()\n",
        "        self.vocab_size = vocab_size\n",
        "        self.hidden_size = hidden_size\n",
        "        self.n_layers = n_layers\n",
        "        self.embedding = nn.Embedding(vocab_size, embed_size)\n",
        "        self.dropout = nn.Dropout(dropout)\n",
        "        self.lstm = nn.LSTM(embed_size, hidden_size,\n",
        "                            num_layers=n_layers,\n",
        "                            dropout=(dropout if n_layers > 1 else 0))\n",
        "        self.fc = nn.Linear(hidden_size, vocab_size)\n",
        "        \n",
        "    def forward(self, in_, h0, c0):\n",
        "        \"\"\"\n",
        "        inputs\n",
        "            in_: (1, batch_size) => seq_len = 1, a word\n",
        "            h0: (num_layers, batch_size, hidden_size)\n",
        "            c0: (num_layers, batch_size, hidden_size)\n",
        "\n",
        "        embed = self.embedding(_in) \n",
        "        # embedded: (1, batch_size, embed_size)\n",
        "        out, hn, cn = self.lstm(embedded)\n",
        "        # out: (1, batch_size, hidden_size)\n",
        "        # hn: (num_layers, batch_size, hidden_size)\n",
        "        # cn: (num_layers, batch_size, hidden_size)\n",
        "        logit = self.fc(out.squeeze(0))\n",
        "        # logit: (batch_size, vocab_size)\n",
        "\n",
        "        outputs: logit, hn, cn\n",
        "        \"\"\"\n",
        "        embedded = self.embedding(in_)\n",
        "        embedded = self.dropout(embedded)\n",
        "        out, (hn, cn) = self.lstm(embedded, (h0, c0))\n",
        "        logit = self.fc(out.squeeze(0))\n",
        "        return logit, hn, cn"
      ],
      "execution_count": 0,
      "outputs": []
    },
    {
      "cell_type": "markdown",
      "metadata": {
        "id": "2ZwOJLkTMbCt",
        "colab_type": "text"
      },
      "source": [
        "## Sequence to sequence model"
      ]
    },
    {
      "cell_type": "code",
      "metadata": {
        "id": "x5Wd0iNaMgp1",
        "colab_type": "code",
        "colab": {}
      },
      "source": [
        "class SeqToSeq(nn.Module):\n",
        "\n",
        "    def __init__(self, encoder, decoder, device=device):\n",
        "        assert encoder.n_layers == decoder.n_layers, \\\n",
        "        'Encoder and Decoder have to have the same number of reccurent layers'\n",
        "        assert encoder.hidden_size == decoder.hidden_size, \\\n",
        "        'Encoder and Decoder have to have the same number of reccurent hidden units'\n",
        "\n",
        "        super(SeqToSeq, self).__init__()\n",
        "        self.encoder = encoder\n",
        "        self.decoder = decoder\n",
        "        self.device = device\n",
        "\n",
        "    def encode(self, in_):\n",
        "        _, hn, cn = self.encoder(in_)\n",
        "        # Sum the two directional encoder hn state\n",
        "        if self.encoder.bidirectional:\n",
        "            hn = hn[:self.encoder.n_layers, :, :] + \\\n",
        "                    hn[self.encoder.n_layers:, :, :]\n",
        "            cn = cn[:self.encoder.n_layers, :, :] + \\\n",
        "                    cn[self.encoder.n_layers:, :, :]\n",
        "        return hn, cn\n",
        "\n",
        "    def decode(self, h_state, c_state, target, sos_index, teacher_forcing, ratio):\n",
        "        target_len, batch_size = target.size()\n",
        "        out = torch.zeros((target_len, batch_size, self.decoder.vocab_size),\n",
        "                           device=self.device)\n",
        "        in_ = target[0, :].unsqueeze(0)\n",
        "        for t in range(1, target_len):\n",
        "            logit, h_state, c_state = self.decoder(in_, h_state, c_state)\n",
        "            out[t] = logit # (batch_size, vocab_size)\n",
        "            if teacher_forcing and random.random() < ratio:\n",
        "                in_ = logit.argmax(1).unsqueeze(0) # (1, batch_size)\n",
        "            else:\n",
        "                in_ = target[t, :].unsqueeze(0)\n",
        "        return out\n",
        "\n",
        "    def forward(self, in_, target, sos_index, teacher_forcing=True, ratio=.5):\n",
        "        \"\"\"\n",
        "        inputs\n",
        "            in_: (seq_len, batch_size)\n",
        "            target: (seq_len, batch_size)\n",
        "            sos_index: int\n",
        "            eos_index: int\n",
        "\n",
        "        outputs\n",
        "            out: (seq_len, batch_size, vocab_size)\n",
        "        \"\"\"\n",
        "        hn, cn = self.encode(in_)\n",
        "        out = self.decode(hn, cn, target, sos_index, teacher_forcing, ratio)\n",
        "        return out"
      ],
      "execution_count": 0,
      "outputs": []
    },
    {
      "cell_type": "markdown",
      "metadata": {
        "id": "LCLUmCfFMjGV",
        "colab_type": "text"
      },
      "source": [
        "## Training"
      ]
    },
    {
      "cell_type": "code",
      "metadata": {
        "id": "b_aldUUdZ5dv",
        "colab_type": "code",
        "colab": {}
      },
      "source": [
        "def init_weights(model: nn.Module):\n",
        "    for name, param in model.named_parameters():\n",
        "        nn.init.uniform_(param.data, a=-0.08, b=0.08)\n",
        "\n",
        "def count_parameters(model: nn.Module):\n",
        "    return sum(p.numel() for p in model.parameters() if p.requires_grad)"
      ],
      "execution_count": 0,
      "outputs": []
    },
    {
      "cell_type": "code",
      "metadata": {
        "id": "J1teOdv5q7ns",
        "colab_type": "code",
        "colab": {}
      },
      "source": [
        "def plot_grad_flow(named_parameters):\n",
        "    grad_mean, layers = [], []\n",
        "    for name, param in named_parameters:\n",
        "        if param.requires_grad and 'bias' not in name:\n",
        "            layers.append(name)\n",
        "            grad_mean.append(param.grad.abs().mean())\n",
        "    plt.plot(grad_mean, alpha=0.3, color='b')\n",
        "    plt.hlines(0, 0, len(grad_mean) + 1, linewidth=1, color='k' )\n",
        "    plt.xticks(range(0, len(grad_mean), 1), layers, rotation='vertical')\n",
        "    plt.xlim(xmin=0, xmax=len(grad_mean))\n",
        "    # plt.ylim(bottom=-0.001, top=0.02) # Zoom on lower gradients\n",
        "    plt.xlabel('Layers')\n",
        "    plt.ylabel('Mean of gradients')\n",
        "    plt.title('Gradient Flow')\n",
        "    plt.grid(True)"
      ],
      "execution_count": 0,
      "outputs": []
    },
    {
      "cell_type": "code",
      "metadata": {
        "id": "u8QgblulqoWT",
        "colab_type": "code",
        "colab": {}
      },
      "source": [
        "def train_step(model, opt, loss_func, data_it, grad_clip, sos_index,\n",
        "               epoch_text=''):\n",
        "    epoch_loss = 0.\n",
        "    pbar = tqdm.tqdm(enumerate(data_it), total=len(data_it))\n",
        "    model.train()\n",
        "    for i, data in pbar:\n",
        "        opt.zero_grad()\n",
        "        logits = model(data.src, data.dest, sos_index)\n",
        "        loss = loss_func(logits[1:].view(-1, logits.size(-1)),\n",
        "                         data.dest[1:].view(-1))\n",
        "        loss.backward()\n",
        "        # plot_grad_flow(model.named_parameters())\n",
        "        if grad_clip:\n",
        "            nn.utils.clip_grad_norm_(model.parameters(), grad_clip)\n",
        "        opt.step()\n",
        "        epoch_loss += loss.item()\n",
        "        pbar.set_description(epoch_text + f'Train Loss: {epoch_loss/(i+1):.3f}')\n",
        "    # plt.show() # Show the gradient flow\n",
        "    return epoch_loss / len(data_it)"
      ],
      "execution_count": 0,
      "outputs": []
    },
    {
      "cell_type": "code",
      "metadata": {
        "id": "xYND0IGKrdJu",
        "colab_type": "code",
        "colab": {}
      },
      "source": [
        "def valid_step(model, loss_func, data_it, sos_index, epoch_text=''):\n",
        "    epoch_loss = 0.\n",
        "    pbar = tqdm.tqdm(enumerate(data_it), total=len(data_it))\n",
        "    model.eval()\n",
        "    with torch.no_grad():\n",
        "        for i, data in pbar:\n",
        "            logits = model(data.src, data.dest, sos_index,\n",
        "                           teacher_forcing=False)\n",
        "            loss = loss_func(logits[1:].view(-1, logits.size(-1)),\n",
        "                             data.dest[1:].view(-1))\n",
        "            epoch_loss += loss.item()\n",
        "            pbar.set_description(epoch_text + f'Valid Loss: {epoch_loss/(i+1):.3f}')\n",
        "    return epoch_loss / len(data_it)\n"
      ],
      "execution_count": 0,
      "outputs": []
    },
    {
      "cell_type": "code",
      "metadata": {
        "id": "ECEXh0oHwSFN",
        "colab_type": "code",
        "colab": {}
      },
      "source": [
        "def train(model, optimizer, loss_function, train_it, valid_it, n_epochs, sos_index,\n",
        "          grad_clip=None, save_to='./saved_models', filename='seq2seq.pt'):\n",
        "    assert callable(loss_function)\n",
        "    if not os.path.exists(save_to):\n",
        "        !mkdir {save_to}\n",
        "\n",
        "    history = {'loss': [], 'val_loss': []}\n",
        "    best_loss = float('inf')\n",
        "    for epoch in range(n_epochs):\n",
        "        epoch_text = f'Epoch: {epoch + 1:02d} - '\n",
        "        loss = train_step(model, optimizer, loss_function, train_it, grad_clip,\n",
        "                          sos_index, epoch_text)\n",
        "        val_loss = valid_step(model, loss_function, valid_it, sos_index,\n",
        "                              epoch_text)\n",
        "\n",
        "        if val_loss < best_loss:\n",
        "            best_loss = val_loss\n",
        "            torch.save({'model': model.state_dict(),\n",
        "                        'optimizer': optimizer.state_dict()},\n",
        "                       f=os.path.join(save_to, filename))\n",
        "\n",
        "        history['loss'].append(loss)\n",
        "        history['val_loss'].append(val_loss)\n",
        "\n",
        "    return history"
      ],
      "execution_count": 0,
      "outputs": []
    },
    {
      "cell_type": "code",
      "metadata": {
        "id": "uZV_iUlh3CWo",
        "colab_type": "code",
        "colab": {}
      },
      "source": [
        "EMBEDDING_DIM = 300\n",
        "HIDDEN_SIZE = 512\n",
        "N_LAYERS = 2\n",
        "DROPOUT = 0.5\n",
        "LR = 1e-3\n",
        "GRAD_CLIP = 1.0\n",
        "BATCH_SIZE = 128\n",
        "N_EPOCHS = 30\n",
        "MAX_LEN = 50"
      ],
      "execution_count": 0,
      "outputs": []
    },
    {
      "cell_type": "code",
      "metadata": {
        "id": "LBekgFKP3C3S",
        "colab_type": "code",
        "colab": {}
      },
      "source": [
        "train_iterator, valid_iterator, test_iterator =  \\\n",
        "        BucketIterator.splits((train_data, valid_data,\n",
        "                               test_data),\n",
        "                              batch_size=BATCH_SIZE,\n",
        "                              sort_key=lambda x: (len(x.src), len(x.dest)),\n",
        "                              device=device)"
      ],
      "execution_count": 0,
      "outputs": []
    },
    {
      "cell_type": "code",
      "metadata": {
        "id": "aCWVfRdAxY6N",
        "colab_type": "code",
        "colab": {
          "base_uri": "https://localhost:8080/",
          "height": 35
        },
        "outputId": "b6d360e5-2136-45c6-fbce-5db580f79bab"
      },
      "source": [
        "encoder = Encoder(embed_size=EMBEDDING_DIM,\n",
        "                  vocab_size=len(FR.vocab),\n",
        "                  hidden_size=HIDDEN_SIZE,\n",
        "                  n_layers=N_LAYERS,\n",
        "                  dropout=DROPOUT).to(device)\n",
        "decoder = Decoder(embed_size=EMBEDDING_DIM,\n",
        "                  vocab_size=len(EN.vocab),\n",
        "                  hidden_size=HIDDEN_SIZE,\n",
        "                  n_layers=N_LAYERS,\n",
        "                  dropout=DROPOUT).to(device)\n",
        "seq2seq = SeqToSeq(encoder=encoder, decoder=decoder).to(device)\n",
        "seq2seq.apply(init_weights)\n",
        "optimizer = optim.Adam(seq2seq.parameters(), lr=LR)\n",
        "criterion = nn.CrossEntropyLoss(ignore_index=EN.vocab.stoi[EN.pad_token])\n",
        "print(f'Number of parameters of the model: {count_parameters(seq2seq):,}')"
      ],
      "execution_count": 18,
      "outputs": [
        {
          "output_type": "stream",
          "text": [
            "Number of parameters of the model: 16,972,142\n"
          ],
          "name": "stdout"
        }
      ]
    },
    {
      "cell_type": "code",
      "metadata": {
        "id": "R22m0tls06BS",
        "colab_type": "code",
        "colab": {
          "base_uri": "https://localhost:8080/",
          "height": 1000
        },
        "outputId": "87b148c7-f4b8-4fd9-fa3f-759d4c6479ec"
      },
      "source": [
        "history = train(seq2seq, optimizer, criterion, train_iterator, valid_iterator,\n",
        "                sos_index=EN.vocab.stoi[EN.init_token],\n",
        "                n_epochs=N_EPOCHS, grad_clip=GRAD_CLIP)"
      ],
      "execution_count": 19,
      "outputs": [
        {
          "output_type": "stream",
          "text": [
            "Epoch: 01 - Train Loss: 6.354: 100%|██████████| 17/17 [00:12<00:00,  1.43it/s]\n",
            "Epoch: 01 - Valid Loss: 5.474: 100%|██████████| 3/3 [00:00<00:00, 12.74it/s]\n",
            "Epoch: 02 - Train Loss: 5.687: 100%|██████████| 17/17 [00:12<00:00,  1.19it/s]\n",
            "Epoch: 02 - Valid Loss: 5.430: 100%|██████████| 3/3 [00:00<00:00, 13.32it/s]\n",
            "Epoch: 03 - Train Loss: 5.641: 100%|██████████| 17/17 [00:11<00:00,  1.22it/s]\n",
            "Epoch: 03 - Valid Loss: 5.414: 100%|██████████| 3/3 [00:00<00:00, 12.96it/s]\n",
            "Epoch: 04 - Train Loss: 5.614: 100%|██████████| 17/17 [00:12<00:00,  1.30it/s]\n",
            "Epoch: 04 - Valid Loss: 5.391: 100%|██████████| 3/3 [00:00<00:00, 13.13it/s]\n",
            "Epoch: 05 - Train Loss: 5.584: 100%|██████████| 17/17 [00:12<00:00,  1.39it/s]\n",
            "Epoch: 05 - Valid Loss: 5.370: 100%|██████████| 3/3 [00:00<00:00, 12.79it/s]\n",
            "Epoch: 06 - Train Loss: 5.551: 100%|██████████| 17/17 [00:12<00:00,  1.42it/s]\n",
            "Epoch: 06 - Valid Loss: 5.333: 100%|██████████| 3/3 [00:00<00:00, 12.78it/s]\n",
            "Epoch: 07 - Train Loss: 5.510: 100%|██████████| 17/17 [00:12<00:00,  1.28it/s]\n",
            "Epoch: 07 - Valid Loss: 5.302: 100%|██████████| 3/3 [00:00<00:00, 13.24it/s]\n",
            "Epoch: 08 - Train Loss: 5.462: 100%|██████████| 17/17 [00:12<00:00,  1.41it/s]\n",
            "Epoch: 08 - Valid Loss: 5.234: 100%|██████████| 3/3 [00:00<00:00, 12.78it/s]\n",
            "Epoch: 09 - Train Loss: 5.415: 100%|██████████| 17/17 [00:12<00:00,  1.29it/s]\n",
            "Epoch: 09 - Valid Loss: 5.148: 100%|██████████| 3/3 [00:00<00:00, 13.27it/s]\n",
            "Epoch: 10 - Train Loss: 5.354: 100%|██████████| 17/17 [00:12<00:00,  1.46it/s]\n",
            "Epoch: 10 - Valid Loss: 5.090: 100%|██████████| 3/3 [00:00<00:00, 13.18it/s]\n",
            "Epoch: 11 - Train Loss: 5.303: 100%|██████████| 17/17 [00:12<00:00,  1.44it/s]\n",
            "Epoch: 11 - Valid Loss: 5.029: 100%|██████████| 3/3 [00:00<00:00, 13.32it/s]\n",
            "Epoch: 12 - Train Loss: 5.277: 100%|██████████| 17/17 [00:12<00:00,  1.62it/s]\n",
            "Epoch: 12 - Valid Loss: 5.001: 100%|██████████| 3/3 [00:00<00:00, 12.96it/s]\n",
            "Epoch: 13 - Train Loss: 5.237: 100%|██████████| 17/17 [00:12<00:00,  1.16it/s]\n",
            "Epoch: 13 - Valid Loss: 4.948: 100%|██████████| 3/3 [00:00<00:00, 13.35it/s]\n",
            "Epoch: 14 - Train Loss: 5.191: 100%|██████████| 17/17 [00:12<00:00,  1.29it/s]\n",
            "Epoch: 14 - Valid Loss: 4.916: 100%|██████████| 3/3 [00:00<00:00, 12.57it/s]\n",
            "Epoch: 15 - Train Loss: 5.138: 100%|██████████| 17/17 [00:12<00:00,  1.39it/s]\n",
            "Epoch: 15 - Valid Loss: 4.866: 100%|██████████| 3/3 [00:00<00:00, 12.52it/s]\n",
            "Epoch: 16 - Train Loss: 5.093: 100%|██████████| 17/17 [00:12<00:00,  1.50it/s]\n",
            "Epoch: 16 - Valid Loss: 4.816: 100%|██████████| 3/3 [00:00<00:00, 13.09it/s]\n",
            "Epoch: 17 - Train Loss: 5.039: 100%|██████████| 17/17 [00:12<00:00,  1.61it/s]\n",
            "Epoch: 17 - Valid Loss: 4.782: 100%|██████████| 3/3 [00:00<00:00, 13.41it/s]\n",
            "Epoch: 18 - Train Loss: 5.016: 100%|██████████| 17/17 [00:12<00:00,  1.20it/s]\n",
            "Epoch: 18 - Valid Loss: 4.760: 100%|██████████| 3/3 [00:00<00:00, 13.03it/s]\n",
            "Epoch: 19 - Train Loss: 4.993: 100%|██████████| 17/17 [00:12<00:00,  1.11it/s]\n",
            "Epoch: 19 - Valid Loss: 4.742: 100%|██████████| 3/3 [00:00<00:00, 12.89it/s]\n",
            "Epoch: 20 - Train Loss: 4.952: 100%|██████████| 17/17 [00:12<00:00,  1.45it/s]\n",
            "Epoch: 20 - Valid Loss: 4.720: 100%|██████████| 3/3 [00:00<00:00, 13.14it/s]\n",
            "Epoch: 21 - Train Loss: 4.889: 100%|██████████| 17/17 [00:12<00:00,  1.55it/s]\n",
            "Epoch: 21 - Valid Loss: 4.695: 100%|██████████| 3/3 [00:00<00:00, 12.82it/s]\n",
            "Epoch: 22 - Train Loss: 4.863: 100%|██████████| 17/17 [00:12<00:00,  1.56it/s]\n",
            "Epoch: 22 - Valid Loss: 4.685: 100%|██████████| 3/3 [00:00<00:00, 13.31it/s]\n",
            "Epoch: 23 - Train Loss: 4.797: 100%|██████████| 17/17 [00:12<00:00,  1.38it/s]\n",
            "Epoch: 23 - Valid Loss: 4.661: 100%|██████████| 3/3 [00:00<00:00, 13.26it/s]\n",
            "Epoch: 24 - Train Loss: 4.807: 100%|██████████| 17/17 [00:12<00:00,  1.53it/s]\n",
            "Epoch: 24 - Valid Loss: 4.669: 100%|██████████| 3/3 [00:00<00:00, 12.61it/s]\n",
            "Epoch: 25 - Train Loss: 4.762: 100%|██████████| 17/17 [00:13<00:00,  1.18it/s]\n",
            "Epoch: 25 - Valid Loss: 4.649: 100%|██████████| 3/3 [00:00<00:00, 12.48it/s]\n",
            "Epoch: 26 - Train Loss: 4.725: 100%|██████████| 17/17 [00:12<00:00,  1.49it/s]\n",
            "Epoch: 26 - Valid Loss: 4.647: 100%|██████████| 3/3 [00:00<00:00, 13.02it/s]\n",
            "Epoch: 27 - Train Loss: 4.704: 100%|██████████| 17/17 [00:12<00:00,  1.12it/s]\n",
            "Epoch: 27 - Valid Loss: 4.648: 100%|██████████| 3/3 [00:00<00:00, 13.03it/s]\n",
            "Epoch: 28 - Train Loss: 4.638: 100%|██████████| 17/17 [00:12<00:00,  1.29it/s]\n",
            "Epoch: 28 - Valid Loss: 4.638: 100%|██████████| 3/3 [00:00<00:00, 12.92it/s]\n",
            "Epoch: 29 - Train Loss: 4.606: 100%|██████████| 17/17 [00:12<00:00,  1.45it/s]\n",
            "Epoch: 29 - Valid Loss: 4.631: 100%|██████████| 3/3 [00:00<00:00, 13.11it/s]\n",
            "Epoch: 30 - Train Loss: 4.526: 100%|██████████| 17/17 [00:12<00:00,  1.23it/s]\n",
            "Epoch: 30 - Valid Loss: 4.631: 100%|██████████| 3/3 [00:00<00:00, 12.88it/s]\n"
          ],
          "name": "stderr"
        }
      ]
    },
    {
      "cell_type": "code",
      "metadata": {
        "id": "PQ_klP1-6XyF",
        "colab_type": "code",
        "colab": {
          "base_uri": "https://localhost:8080/",
          "height": 281
        },
        "outputId": "7cd29037-0450-48a2-f8f5-a672fa4a1b13"
      },
      "source": [
        "plt.plot(history['loss'], label='train')\n",
        "plt.plot(history['val_loss'], label='valid')\n",
        "plt.title('Loss')\n",
        "plt.legend()\n",
        "plt.grid(True)\n",
        "plt.show()"
      ],
      "execution_count": 20,
      "outputs": [
        {
          "output_type": "display_data",
          "data": {
            "image/png": "[encoded data removed]",
            "text/plain": [
              "<Figure size 432x288 with 1 Axes>"
            ]
          },
          "metadata": {
            "tags": []
          }
        }
      ]
    },
    {
      "cell_type": "code",
      "metadata": {
        "id": "DxDV_RX866Hp",
        "colab_type": "code",
        "colab": {
          "base_uri": "https://localhost:8080/",
          "height": 35
        },
        "outputId": "f0e0e112-282f-426f-a73b-4ff65672bb11"
      },
      "source": [
        "seq2seq.load_state_dict(torch.load('./saved_models/seq2seq.pt').get('model'))\n",
        "test_loss = valid_step(seq2seq, criterion, test_iterator,\n",
        "                       sos_index=EN.vocab.stoi[EN.init_token],\n",
        "                       epoch_text='Test loss => ')"
      ],
      "execution_count": 21,
      "outputs": [
        {
          "output_type": "stream",
          "text": [
            "Test loss => Valid Loss: 4.641: 100%|██████████| 5/5 [00:00<00:00, 10.32it/s]\n"
          ],
          "name": "stderr"
        }
      ]
    },
    {
      "cell_type": "markdown",
      "metadata": {
        "id": "kC8tYcPCLgz5",
        "colab_type": "text"
      },
      "source": [
        "# Inference"
      ]
    },
    {
      "cell_type": "code",
      "metadata": {
        "id": "RdRIlUJjLeDj",
        "colab_type": "code",
        "colab": {}
      },
      "source": [
        ""
      ],
      "execution_count": 0,
      "outputs": []
    }
  ]
}