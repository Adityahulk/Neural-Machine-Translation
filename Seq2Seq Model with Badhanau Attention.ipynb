{
 "cells": [
  {
   "cell_type": "code",
   "execution_count": 1,
   "metadata": {},
   "outputs": [
    {
     "name": "stdout",
     "output_type": "stream",
     "text": [
      "Thu Apr 16 22:22:01 2020       \n",
      "+-----------------------------------------------------------------------------+\n",
      "| NVIDIA-SMI 418.67       Driver Version: 418.67       CUDA Version: 10.1     |\n",
      "|-------------------------------+----------------------+----------------------+\n",
      "| GPU  Name        Persistence-M| Bus-Id        Disp.A | Volatile Uncorr. ECC |\n",
      "| Fan  Temp  Perf  Pwr:Usage/Cap|         Memory-Usage | GPU-Util  Compute M. |\n",
      "|===============================+======================+======================|\n",
      "|   0  Quadro P5000        On   | 00000000:00:05.0 Off |                  Off |\n",
      "| 26%   27C    P8     6W / 180W |      1MiB / 16278MiB |      0%      Default |\n",
      "+-------------------------------+----------------------+----------------------+\n",
      "                                                                               \n",
      "+-----------------------------------------------------------------------------+\n",
      "| Processes:                                                       GPU Memory |\n",
      "|  GPU       PID   Type   Process name                             Usage      |\n",
      "|=============================================================================|\n",
      "|  No running processes found                                                 |\n",
      "+-----------------------------------------------------------------------------+\n"
     ]
    }
   ],
   "source": [
    "!nvidia-smi"
   ]
  },
  {
   "cell_type": "code",
   "execution_count": 181,
   "metadata": {},
   "outputs": [],
   "source": [
    "import os\n",
    "import re\n",
    "import tqdm\n",
    "import random\n",
    "import unicodedata\n",
    "import numpy as np\n",
    "import matplotlib.pyplot as plt\n",
    "import matplotlib.ticker as ticker\n",
    "\n",
    "import spacy\n",
    "\n",
    "import torch\n",
    "import torch.nn as nn\n",
    "import torch.nn.functional as F\n",
    "import torch.optim as optim\n",
    "\n",
    "from torchtext.data import Example, Field, Dataset\n",
    "from torchtext.data.iterator import BucketIterator\n",
    "from torchtext.data.metrics import bleu_score"
   ]
  },
  {
   "cell_type": "code",
   "execution_count": 3,
   "metadata": {},
   "outputs": [
    {
     "name": "stdout",
     "output_type": "stream",
     "text": [
      "Device: cuda\n"
     ]
    }
   ],
   "source": [
    "seed = 781\n",
    "random.seed(seed)\n",
    "np.random.seed(seed)\n",
    "torch.manual_seed(seed)\n",
    "torch.cuda.manual_seed(seed)\n",
    "torch.backends.cudnn.deterministic = True\n",
    "\n",
    "device = torch.device('cuda' if torch.cuda.is_available() else 'cpu')\n",
    "print(f'Device: {device}')"
   ]
  },
  {
   "cell_type": "code",
   "execution_count": 4,
   "metadata": {},
   "outputs": [],
   "source": [
    "def read_file(filepath):\n",
    "    try:\n",
    "        with open(filepath, mode='rt', encoding='utf-8') as file:\n",
    "            content = file.readlines()\n",
    "        return content\n",
    "    except:\n",
    "        raise Error(f'File {filepath} doesn\\'t exist')"
   ]
  },
  {
   "cell_type": "code",
   "execution_count": 5,
   "metadata": {},
   "outputs": [],
   "source": [
    "def unicode_to_ascii(s):\n",
    "    # NFD => Normal Form Decompose\n",
    "    # Mn => Non Marking Space\n",
    "    return ''.join(c for c in unicodedata.normalize('NFD', s) \\\n",
    "                    if unicodedata.category(c) != 'Mn')\n",
    "\n",
    "def normalize_string(s):\n",
    "    # Transform accented characters into unaccented ones\n",
    "    s = unicode_to_ascii(s.strip())\n",
    "    # Replace any of '.', '!', '?' by ' .', ' !', ' ?'. \\1 means the 1st bracked group. r is to not consider \\1\n",
    "    s = re.sub(r'([,.!?0-9])', r' \\1', s)\n",
    "    # Remove any character which is not in [^a-zA-Z0-9,.!?]\n",
    "    s = re.sub(r'[^a-zA-Z0-9,.!?]', r' ', s)\n",
    "    # Remove a sequence of whitespace characters\n",
    "    s = re.sub(r'\\s+', r' ', s)\n",
    "    return s.strip()"
   ]
  },
  {
   "cell_type": "code",
   "execution_count": 6,
   "metadata": {},
   "outputs": [
    {
     "name": "stdout",
     "output_type": "stream",
     "text": [
      "Number of examples: 2,007,723\n",
      "CPU times: user 3.89 s, sys: 1.13 s, total: 5.02 s\n",
      "Wall time: 5.02 s\n"
     ]
    }
   ],
   "source": [
    "%%time\n",
    "pairs = [*zip(read_file('./data/europarl-v7.fr-en.fr'),\n",
    "              read_file('./data/europarl-v7.fr-en.en'))]\n",
    "pairs = [*map(lambda x: {'fr': x[0], 'en': x[1]}, pairs)]\n",
    "print(f'Number of examples: {len(pairs):,}')"
   ]
  },
  {
   "cell_type": "code",
   "execution_count": 7,
   "metadata": {},
   "outputs": [
    {
     "name": "stdout",
     "output_type": "stream",
     "text": [
      "Number of examples after sampling: 200,000\n",
      "Example:\n",
      "\tFR => Les procedures par le biais desquelles de tels produits entrent et sortent de l Union europeenne doivent etre ouvertes , transparentes et , par dessus tout , sures .\n",
      "\tEN => The procedures whereby such products come in and out of the European Union have to be open , transparent and , above all , safe .\n",
      "CPU times: user 32 s, sys: 81.7 ms, total: 32.1 s\n",
      "Wall time: 32.1 s\n"
     ]
    }
   ],
   "source": [
    "%%time\n",
    "pairs = np.random.choice(pairs, size=200000, replace=False)\n",
    "pairs = [*map(lambda pair: {k: normalize_string(v) for k, v in pair.items()},\n",
    "              pairs)]\n",
    "print(f'Number of examples after sampling: {len(pairs):,}')\n",
    "print(f'Example:\\n\\tFR => {pairs[0][\"fr\"]}\\n\\tEN => {pairs[0][\"en\"]}')"
   ]
  },
  {
   "cell_type": "code",
   "execution_count": 8,
   "metadata": {},
   "outputs": [
    {
     "name": "stderr",
     "output_type": "stream",
     "text": [
      "100%|██████████| 200000/200000 [01:12<00:00, 2744.67it/s]\n"
     ]
    },
    {
     "name": "stdout",
     "output_type": "stream",
     "text": [
      "Number of examples after filtering: 61,154\n"
     ]
    }
   ],
   "source": [
    "FR = Field(init_token='<sos>',\n",
    "           eos_token='<eos>',\n",
    "           preprocessing=lambda x: x[::-1],\n",
    "           lower=True,\n",
    "           tokenize='spacy',\n",
    "           tokenizer_language='fr',\n",
    "           include_lengths=True) # For pack_padded_sequence\n",
    "EN = Field(init_token='<sos>',\n",
    "           eos_token='<eos>',\n",
    "           lower=True,\n",
    "           tokenize='spacy',\n",
    "           tokenizer_language='en')\n",
    "\n",
    "MAX_LENGTH = 20\n",
    "\n",
    "examples = [Example.fromdict(data=pair, fields={'fr': ('src', FR),\n",
    "                                                'en': ('dest', EN)})\n",
    "            for pair in tqdm.tqdm(pairs)]\n",
    "examples = [*filter(lambda example: len(example.src) <= MAX_LENGTH and len(example.dest) <= MAX_LENGTH, examples)]\n",
    "print(f'Number of examples after filtering: {len(examples):,}')"
   ]
  },
  {
   "cell_type": "code",
   "execution_count": 9,
   "metadata": {},
   "outputs": [
    {
     "name": "stdout",
     "output_type": "stream",
     "text": [
      "train set size: 48923\n",
      "valid set size: 6116\n",
      "test set size: 6115\n",
      "{'src': ['.', 'crees', 'seront', 'emplois', 'nouveaux', 'de', ',', 'seulement', 'alors', 'et', ',', 'alors'], 'dest': ['then', 'and', 'only', 'then', 'will', 'new', 'jobs', 'be', 'created', '.']}\n"
     ]
    }
   ],
   "source": [
    "data = Dataset(examples, fields={'src': FR, 'dest': EN})\n",
    "train_data, valid_data, test_data = data.split(split_ratio=[0.8, 0.1, 0.1])\n",
    "print(f'train set size: {len(train_data.examples)}')\n",
    "print(f'valid set size: {len(valid_data.examples)}')\n",
    "print(f'test set size: {len(test_data.examples)}')\n",
    "print(vars(train_data.examples[0]))"
   ]
  },
  {
   "cell_type": "code",
   "execution_count": 10,
   "metadata": {},
   "outputs": [
    {
     "name": "stdout",
     "output_type": "stream",
     "text": [
      "Length of FR vocabulary: 6,589\n",
      "Length of EN vocabulary: 5,596\n",
      "CPU times: user 768 ms, sys: 55 µs, total: 768 ms\n",
      "Wall time: 766 ms\n"
     ]
    }
   ],
   "source": [
    "%%time\n",
    "MIN_COUNT = 5\n",
    "FR.build_vocab(train_data,\n",
    "               min_freq=MIN_COUNT,\n",
    "               specials=['<sos>', '<eos>', '<unk>', '<pad>'])\n",
    "EN.build_vocab(train_data,\n",
    "               min_freq=MIN_COUNT,\n",
    "               specials=['<sos>', '<eos>', '<unk>', '<pad>'])\n",
    "\n",
    "print(f'Length of FR vocabulary: {len(FR.vocab):,}')\n",
    "print(f'Length of EN vocabulary: {len(EN.vocab):,}')"
   ]
  },
  {
   "cell_type": "code",
   "execution_count": 17,
   "metadata": {},
   "outputs": [],
   "source": [
    "class Encoder(nn.Module):\n",
    "    \n",
    "    def __init__(self, embedding_size, vocab_size, hidden_size, n_layers, dropout, recurrent_dropout):\n",
    "        super(Encoder, self).__init__()\n",
    "        self.n_layers = n_layers\n",
    "        self.hidden_size = hidden_size\n",
    "        self.embedding = nn.Embedding(vocab_size, embedding_size)\n",
    "        self.dropout = nn.Dropout(dropout)\n",
    "        self.gru = nn.GRU(embedding_size, hidden_size,\n",
    "                          num_layers=n_layers, bidirectional=True,\n",
    "                          dropout=(recurrent_dropout if n_layers > 1 else 0))\n",
    "        self.fc = nn.Linear(hidden_size * 2, hidden_size)\n",
    "        \n",
    "    def forward(self, input_sequences, sequence_lengths):\n",
    "        \"\"\"\n",
    "        :params\n",
    "            input_sequences: Tensor[seq_len, batch_size]\n",
    "            sequence_lengths: Tensor[batch_size,]\n",
    "            \n",
    "        :return\n",
    "            outputs: Tensor[seq_len, batch_size, hidden_size]\n",
    "            hn: Tensor[num_layers, batch_size, hidden_size]\n",
    "        \"\"\"\n",
    "        embedded = self.embedding(input_sequences)\n",
    "        embedded = self.dropout(embedded)\n",
    "        packed = nn.utils.rnn.pack_padded_sequence(embedded, sequence_lengths)\n",
    "        outputs, hn = self.gru(packed)\n",
    "        # hn: [num_layers * 2, batch_size, hidden_size]\n",
    "        outputs, _ = nn.utils.rnn.pad_packed_sequence(outputs)\n",
    "        # outputs: [seq_len, batch_size, hidden_size * 2]\n",
    "        outputs = outputs[:, :, :self.hidden_size] + outputs[:, :, self.hidden_size:]\n",
    "        \n",
    "        hn = torch.cat((hn[:self.n_layers, :, :], hn[self.n_layers:, :, :]), dim=2)\n",
    "        hn = torch.tanh(self.fc(hn))\n",
    "        return outputs, hn"
   ]
  },
  {
   "cell_type": "code",
   "execution_count": 128,
   "metadata": {},
   "outputs": [],
   "source": [
    "class BadhanauDecoder(nn.Module):\n",
    "    \n",
    "    def __init__(self, embedding_size, vocab_size, hidden_size, n_layers, dropout, recurrent_dropout):\n",
    "        super(BadhanauDecoder, self).__init__()\n",
    "        self.vocab_size = vocab_size\n",
    "        self.n_layers = n_layers\n",
    "        self.hidden_size = hidden_size\n",
    "        self.embedding = nn.Embedding(vocab_size, embedding_size)\n",
    "        self.dropout = nn.Dropout(dropout)\n",
    "        self.V = nn.Linear(hidden_size, hidden_size, bias=False)\n",
    "        self.W = nn.Linear(hidden_size, hidden_size, bias=False)\n",
    "        self.weight = nn.Linear(hidden_size, 1, bias=False)\n",
    "        \n",
    "        self.gru = nn.GRU(embedding_size + hidden_size, hidden_size,\n",
    "                          num_layers=n_layers,\n",
    "                          dropout=(recurrent_dropout if n_layers > 1 else 0))\n",
    "        self.fc = nn.Linear(hidden_size, vocab_size)\n",
    "        \n",
    "    def forward(self, input_word_index, h_state, enc_outputs, mask):\n",
    "        \"\"\"\n",
    "        :params\n",
    "            input_word_index: Tensor[batch_size,]\n",
    "            h_state: Tensor[n_layers, batch_size, hidden_size]\n",
    "            enc_outputs: Tensor[seq_len, batch_size, hidden_size]\n",
    "            mask: Tensor[batch_size, seq_len]\n",
    "            \n",
    "        :return\n",
    "            logit: Tensor[batch_size, vocab_size]\n",
    "            h_state: Tensor[n_layers, batch_size, hidden_size]\n",
    "            attn_weights: Tensor[batch_size, seq_len]\n",
    "        \"\"\"\n",
    "        embedded = self.embedding(input_word_index.unsqueeze(0))\n",
    "        embedded = self.dropout(embedded)\n",
    "        # embedded: [1, batch_size, embedding_size]\n",
    "        \n",
    "        # Compute Alignement Scores\n",
    "        h_prev = h_state\n",
    "        if self.n_layers > 1:\n",
    "            h_prev = h_state.sum(dim=0) # [1, batch_size, hidden_size]\n",
    "        h_prev = h_prev.permute(1, 0, 2) # [batch_size, 1, hidden_size]\n",
    "        enc_outputs = enc_outputs.permute(1, 0, 2) # [batch_size, seq_len, hidden_size]\n",
    "        x = torch.tanh(self.V(h_prev) + self.W(enc_outputs)) # [batch_size, seq_len, hidden_size]\n",
    "        alignement_scores = self.weight(x) # [batch_size, seq_len, 1]\n",
    "        \n",
    "        # Compute Attention Weights\n",
    "        mask = mask.unsqueeze(2) # [batch_size, seq_len, 1]\n",
    "        alignement_scores = alignement_scores.masked_fill(mask == 0, -1e10) # Don't account pad token\n",
    "        attn_weights = F.softmax(alignement_scores, dim=1) # [batch_size, seq_len, 1]\n",
    "        \n",
    "        # Compute Context Vector\n",
    "        enc_outputs = enc_outputs.permute(0, 2, 1) # [batch_size, hidden_size, seq_len]\n",
    "        context_vector = torch.bmm(enc_outputs, attn_weights) # [batch_size, hidden_size, 1]\n",
    "        \n",
    "        # Concat Context Vector and embedded input\n",
    "        context_vector = context_vector.permute(2, 0, 1) # [1, batch_size, hidden_size]\n",
    "        new_input = torch.cat((embedded, context_vector), dim=2) # # [1, batch_size, hidden_size + emdedding_size]\n",
    "        \n",
    "        # Pass through RNN and FC layer\n",
    "        output, h_state = self.gru(new_input, h_state)\n",
    "        # output: [1, batch_size, hidden_size]\n",
    "        logit = self.fc(output.squeeze(0)) # [batch_size, vocab_size]\n",
    "        \n",
    "        return logit, h_state, attn_weights.squeeze(2)"
   ]
  },
  {
   "cell_type": "code",
   "execution_count": 129,
   "metadata": {},
   "outputs": [],
   "source": [
    "class SeqToSeqNet(nn.Module):\n",
    "\n",
    "    def __init__(self, encoder, decoder, pad_index, device):\n",
    "        assert encoder.n_layers == decoder.n_layers, 'Encoder and Decoder must have the same number of reccurent layers'\n",
    "        assert encoder.hidden_size == decoder.hidden_size, 'Encoder and Decoder must have the same number of reccurrent hidden units'\n",
    "\n",
    "        super(SeqToSeqNet, self).__init__()\n",
    "        self.encoder = encoder\n",
    "        self.decoder = decoder\n",
    "        self.pad_index = pad_index\n",
    "        self.device = device\n",
    "        \n",
    "    def create_mask(self, input_sequences):\n",
    "        \"\"\"\n",
    "        :params\n",
    "            input_sequences: Tensor[seq_len, batch_size]\n",
    "            \n",
    "        :return\n",
    "            mask: Tensor[batch_size, seq_len]\n",
    "        \"\"\"\n",
    "        mask = (input_sequences != self.pad_index).permute(1, 0)\n",
    "        return mask\n",
    "        \n",
    "    def forward(self, input_sequences, sequence_lengths, target_sequences, tf_ratio):\n",
    "        \"\"\"\n",
    "        :params\n",
    "            input_sequences: Tensor[seq_len, batch_size]\n",
    "            sequence_lengths: Tensor[batch_size,]\n",
    "            target_sequences: Tensor[seq_len, batch_size]\n",
    "            tf_ratio: float\n",
    "            \n",
    "        :return\n",
    "            outputs: Tensor[seq_len - 1, batch_size, vocab_size]\n",
    "                Since we ignore the SOS_TOKEN\n",
    "        \"\"\"\n",
    "        mask = self.create_mask(input_sequences)\n",
    "        \n",
    "        enc_outputs, h_state = self.encoder(input_sequences, sequence_lengths)\n",
    "        \n",
    "        seq_len, batch_size = target_sequences.size()\n",
    "        outputs = torch.zeros(seq_len - 1, batch_size, self.decoder.vocab_size).to(self.device)\n",
    "        word_index = target_sequences[0, :]       \n",
    "        \n",
    "        for t, idx in enumerate(range(1, seq_len)):\n",
    "            output, h_state, _ = self.decoder(word_index, h_state, enc_outputs, mask)\n",
    "            # output: [batch_size, vocab_size]\n",
    "            outputs[t] = output\n",
    "            \n",
    "            if random.random() < tf_ratio:\n",
    "                word_index = target_sequences[idx, :]\n",
    "            else:\n",
    "                word_index = output.argmax(dim=1)\n",
    "                \n",
    "        return outputs"
   ]
  },
  {
   "cell_type": "code",
   "execution_count": 130,
   "metadata": {},
   "outputs": [],
   "source": [
    "def count_parameters(model):\n",
    "    return sum(p.numel() for p in model.parameters() if p.requires_grad)"
   ]
  },
  {
   "cell_type": "code",
   "execution_count": 131,
   "metadata": {},
   "outputs": [],
   "source": [
    "def train_epoch(model, opt, loss_func, tf_ratio, data_it, grad_clip, epoch_text):\n",
    "    epoch_loss = 0.\n",
    "    pbar = tqdm.tqdm(enumerate(data_it), total=len(data_it))\n",
    "    model.train()\n",
    "    for i, data in pbar:\n",
    "        opt.zero_grad()\n",
    "        outputs = model(*data.src, data.dest, tf_ratio)\n",
    "        # *data.src: unpack input_sequences and sequence_lengths\n",
    "        loss = loss_func(outputs.view(-1, model.decoder.vocab_size), data.dest[1:].view(-1))\n",
    "        loss.backward()\n",
    "        # plot_gradient_flow(model.named_parameters())\n",
    "        if grad_clip:\n",
    "            nn.utils.clip_grad_norm_(model.parameters(), grad_clip)\n",
    "        opt.step()\n",
    "        epoch_loss += loss.item()\n",
    "        pbar.set_description(epoch_text + f'loss:     {epoch_loss / (i + 1):.3f} - ppl:     {np.exp(epoch_loss / (i + 1)):7.3f}')\n",
    "    # plt.show() # Show the gradient flow\n",
    "    return epoch_loss / len(data_it), np.exp(epoch_loss / len(data_it))"
   ]
  },
  {
   "cell_type": "code",
   "execution_count": 132,
   "metadata": {},
   "outputs": [],
   "source": [
    "def valid_epoch(model, loss_func, data_it, epoch_text):\n",
    "    epoch_loss = 0.\n",
    "    pbar = tqdm.tqdm(enumerate(data_it), total=len(data_it))\n",
    "    model.eval()\n",
    "    with torch.no_grad():\n",
    "        for i, data in pbar:\n",
    "            outputs = model(*data.src, data.dest, 0) # Turn-off the teacher forcing\n",
    "            loss = loss_func(outputs.view(-1, model.decoder.vocab_size), data.dest[1:].view(-1))\n",
    "            epoch_loss += loss.item()\n",
    "            pbar.set_description(epoch_text + f'val_loss: {epoch_loss / (i + 1):.3f} - val_ppl: {np.exp(epoch_loss / (i + 1)):7.3f}')\n",
    "    return epoch_loss / len(data_it), np.exp(epoch_loss / len(data_it))"
   ]
  },
  {
   "cell_type": "code",
   "execution_count": 133,
   "metadata": {},
   "outputs": [],
   "source": [
    "def train(model, opt, loss_func, train_it, valid_it, tf_ratio, n_epochs, grad_clip, save_to, filename):\n",
    "    assert callable(loss_func)\n",
    "    if not os.path.exists(save_to):\n",
    "        !mkdir {save_to}\n",
    "    \n",
    "    history = {\n",
    "        'loss': [],\n",
    "        'val_loss': [],\n",
    "        'ppl': [],\n",
    "        'val_ppl': []\n",
    "    }\n",
    "    best_loss = [float('inf')]\n",
    "    for epoch in range(n_epochs):\n",
    "        epoch_text = f'Epoch: {epoch + 1:02d} - '\n",
    "        loss, ppl = train_epoch(model=model, opt=opt, loss_func=loss_func, tf_ratio=tf_ratio,\n",
    "                                data_it=train_it, grad_clip=grad_clip, epoch_text=epoch_text)\n",
    "        val_loss, val_ppl = valid_epoch(model=model, loss_func=loss_func, data_it=valid_it, epoch_text=epoch_text)\n",
    "        \n",
    "        history['loss'].append(loss)\n",
    "        history['val_loss'].append(val_loss)\n",
    "        history['ppl'].append(ppl)\n",
    "        history['val_ppl'].append(val_ppl)\n",
    "        \n",
    "        # Reduce tf_ratio\n",
    "        tf_ratio = tf_ratio - tf_ratio / (epoch + 2)\n",
    "        \n",
    "        # Saving\n",
    "        if val_loss < best_loss[-1]:\n",
    "            best_loss.append(val_loss)\n",
    "            torch.save({\n",
    "                'epoch': epoch,\n",
    "                'model': model.state_dict(),\n",
    "                'optimizer': opt.state_dict()\n",
    "            }, f=os.path.join(save_to, filename))\n",
    "            \n",
    "        # Stop training\n",
    "        try:\n",
    "            if val_loss > best_loss[-2]:\n",
    "                print('Stop training because the loss is increasing!')\n",
    "                break\n",
    "        except IndexError:\n",
    "            pass\n",
    "        \n",
    "    return history"
   ]
  },
  {
   "cell_type": "code",
   "execution_count": 134,
   "metadata": {},
   "outputs": [],
   "source": [
    "EMBEDDING_DIM = 128\n",
    "HIDDEN_SIZE = 256\n",
    "N_LAYERS = 1\n",
    "DROPOUT = 0.25\n",
    "RECURRENT_DROPOUT = 0.35\n",
    "GRAD_CLIP = 1.0\n",
    "BATCH_SIZE = 64\n",
    "N_EPOCHS = 15\n",
    "TF_RATIO = 0.5"
   ]
  },
  {
   "cell_type": "code",
   "execution_count": 135,
   "metadata": {},
   "outputs": [],
   "source": [
    "train_iterator, valid_iterator, test_iterator =  \\\n",
    "        BucketIterator.splits((train_data, valid_data, test_data),\n",
    "                              batch_size=BATCH_SIZE,\n",
    "                              sort_key=lambda x: len(x.src),\n",
    "                              sort_within_batch=True, # For pack_padded_sequence\n",
    "                              device=device)"
   ]
  },
  {
   "cell_type": "code",
   "execution_count": 136,
   "metadata": {},
   "outputs": [
    {
     "name": "stdout",
     "output_type": "stream",
     "text": [
      "Number of parameters of the model: 4,346,460\n"
     ]
    }
   ],
   "source": [
    "encoder = Encoder(embedding_size=EMBEDDING_DIM,\n",
    "                  vocab_size=len(FR.vocab),\n",
    "                  hidden_size=HIDDEN_SIZE,\n",
    "                  n_layers=N_LAYERS,\n",
    "                  dropout=DROPOUT,\n",
    "                  recurrent_dropout=RECURRENT_DROPOUT).to(device)\n",
    "decoder = BadhanauDecoder(embedding_size=EMBEDDING_DIM,\n",
    "                          vocab_size=len(EN.vocab),\n",
    "                          hidden_size=HIDDEN_SIZE,\n",
    "                          n_layers=N_LAYERS,\n",
    "                          dropout=DROPOUT,\n",
    "                          recurrent_dropout=RECURRENT_DROPOUT).to(device)\n",
    "seq2seq = SeqToSeqNet(encoder=encoder,\n",
    "                      decoder=decoder,\n",
    "                      pad_index=FR.vocab.stoi[FR.pad_token],\n",
    "                      device=device).to(device)\n",
    "opt_adam = optim.Adam(seq2seq.parameters())\n",
    "criterion = nn.CrossEntropyLoss(ignore_index=EN.vocab.stoi[EN.pad_token])\n",
    "print(f'Number of parameters of the model: {count_parameters(seq2seq):,}')"
   ]
  },
  {
   "cell_type": "code",
   "execution_count": 137,
   "metadata": {},
   "outputs": [
    {
     "name": "stderr",
     "output_type": "stream",
     "text": [
      "Epoch: 01 - loss:     4.970 - ppl:     144.088: 100%|██████████| 765/765 [00:40<00:00, 18.71it/s]\n",
      "Epoch: 01 - val_loss: 4.629 - val_ppl: 102.418: 100%|██████████| 96/96 [00:02<00:00, 38.44it/s]\n",
      "Epoch: 02 - loss:     4.245 - ppl:      69.756: 100%|██████████| 765/765 [00:40<00:00, 18.90it/s]\n",
      "Epoch: 02 - val_loss: 4.159 - val_ppl:  64.008: 100%|██████████| 96/96 [00:02<00:00, 41.35it/s]\n",
      "Epoch: 03 - loss:     3.956 - ppl:      52.261: 100%|██████████| 765/765 [00:40<00:00, 18.88it/s]\n",
      "Epoch: 03 - val_loss: 3.964 - val_ppl:  52.684: 100%|██████████| 96/96 [00:02<00:00, 39.81it/s]\n",
      "Epoch: 04 - loss:     3.752 - ppl:      42.623: 100%|██████████| 765/765 [00:40<00:00, 18.67it/s]\n",
      "Epoch: 04 - val_loss: 3.839 - val_ppl:  46.500: 100%|██████████| 96/96 [00:02<00:00, 39.70it/s]\n",
      "Epoch: 05 - loss:     3.598 - ppl:      36.524: 100%|██████████| 765/765 [00:40<00:00, 18.90it/s]\n",
      "Epoch: 05 - val_loss: 3.748 - val_ppl:  42.438: 100%|██████████| 96/96 [00:02<00:00, 42.20it/s]\n",
      "Epoch: 06 - loss:     3.472 - ppl:      32.202: 100%|██████████| 765/765 [00:41<00:00, 18.62it/s]\n",
      "Epoch: 06 - val_loss: 3.715 - val_ppl:  41.062: 100%|██████████| 96/96 [00:02<00:00, 40.45it/s]\n",
      "Epoch: 07 - loss:     3.375 - ppl:      29.216: 100%|██████████| 765/765 [00:40<00:00, 18.81it/s]\n",
      "Epoch: 07 - val_loss: 3.670 - val_ppl:  39.255: 100%|██████████| 96/96 [00:02<00:00, 40.73it/s]\n",
      "Epoch: 08 - loss:     3.293 - ppl:      26.931: 100%|██████████| 765/765 [00:41<00:00, 18.64it/s]\n",
      "Epoch: 08 - val_loss: 3.650 - val_ppl:  38.472: 100%|██████████| 96/96 [00:02<00:00, 41.15it/s]\n",
      "Epoch: 09 - loss:     3.220 - ppl:      25.033: 100%|██████████| 765/765 [00:40<00:00, 18.83it/s]\n",
      "Epoch: 09 - val_loss: 3.643 - val_ppl:  38.191: 100%|██████████| 96/96 [00:02<00:00, 43.15it/s]\n",
      "Epoch: 10 - loss:     3.151 - ppl:      23.361: 100%|██████████| 765/765 [00:41<00:00, 18.45it/s]\n",
      "Epoch: 10 - val_loss: 3.643 - val_ppl:  38.224: 100%|██████████| 96/96 [00:02<00:00, 41.45it/s]\n",
      "Epoch: 11 - loss:     3.100 - ppl:      22.195: 100%|██████████| 765/765 [00:40<00:00, 18.85it/s]\n",
      "Epoch: 11 - val_loss: 3.655 - val_ppl:  38.679: 100%|██████████| 96/96 [00:02<00:00, 43.48it/s]"
     ]
    },
    {
     "name": "stdout",
     "output_type": "stream",
     "text": [
      "Stop training because the loss is increasing!\n",
      "CPU times: user 11min 29s, sys: 13.7 s, total: 11min 43s\n",
      "Wall time: 7min 55s\n"
     ]
    },
    {
     "name": "stderr",
     "output_type": "stream",
     "text": [
      "\n"
     ]
    }
   ],
   "source": [
    "%%time\n",
    "history = train(model=seq2seq,\n",
    "                opt=opt_adam,\n",
    "                loss_func=criterion,\n",
    "                train_it=train_iterator,\n",
    "                valid_it=valid_iterator,\n",
    "                tf_ratio=TF_RATIO,\n",
    "                n_epochs=N_EPOCHS,\n",
    "                grad_clip=GRAD_CLIP,\n",
    "                save_to='./saved_models',\n",
    "                filename='seq2seq-badhanau-attn.pt')"
   ]
  },
  {
   "cell_type": "code",
   "execution_count": 138,
   "metadata": {},
   "outputs": [
    {
     "data": {
      "image/png": "[encoded data removed]",
      "text/plain": [
       "<Figure size 864x360 with 2 Axes>"
      ]
     },
     "metadata": {
      "needs_background": "light"
     },
     "output_type": "display_data"
    }
   ],
   "source": [
    "_, axes = plt.subplots(1, 2, figsize=(12, 5))\n",
    "axes[0].plot(history['loss'], label='train')\n",
    "axes[0].plot(history['val_loss'], label='valid')\n",
    "axes[0].set_title('Loss history')\n",
    "axes[0].set_xlabel('Epochs')\n",
    "axes[0].set_ylabel('Loss')\n",
    "axes[0].grid(True)\n",
    "axes[1].plot(history['ppl'], label='train')\n",
    "axes[1].plot(history['val_ppl'], label='valid')\n",
    "axes[1].set_title('Perplexity history')\n",
    "axes[1].set_xlabel('Epochs')\n",
    "axes[1].set_ylabel('Perplexity')\n",
    "axes[1].grid(True)\n",
    "plt.legend()\n",
    "plt.show()"
   ]
  },
  {
   "cell_type": "code",
   "execution_count": 139,
   "metadata": {},
   "outputs": [
    {
     "data": {
      "text/plain": [
       "<All keys matched successfully>"
      ]
     },
     "execution_count": 139,
     "metadata": {},
     "output_type": "execute_result"
    }
   ],
   "source": [
    "seq2seq.load_state_dict(torch.load('./saved_models/seq2seq-badhanau-attn.pt').get('model'))"
   ]
  },
  {
   "cell_type": "code",
   "execution_count": 140,
   "metadata": {},
   "outputs": [
    {
     "name": "stderr",
     "output_type": "stream",
     "text": [
      "Evaluation on test set - val_loss: 3.676 - val_ppl:  39.489: 100%|██████████| 96/96 [00:02<00:00, 38.47it/s]\n"
     ]
    }
   ],
   "source": [
    "val_loss, val_ppl = valid_epoch(model=seq2seq,\n",
    "                                loss_func=criterion,\n",
    "                                data_it=test_iterator,\n",
    "                                epoch_text='Evaluation on test set - ')"
   ]
  },
  {
   "cell_type": "code",
   "execution_count": 176,
   "metadata": {},
   "outputs": [],
   "source": [
    "class Inference:\n",
    "    \n",
    "    def __init__(self, model, src_field, dest_field, normalizer, max_length, device):\n",
    "        assert callable(normalizer)\n",
    "        \n",
    "        self.model = model\n",
    "        self.src_field = src_field\n",
    "        self.dest_field = dest_field\n",
    "        self.normalizer = normalizer\n",
    "        self.max_length = max_length\n",
    "        self.device = device\n",
    "    \n",
    "    def encode(self, sentence):\n",
    "        sentence = self.normalizer(sentence)\n",
    "        sentence = self.src_field.preprocess(sentence)\n",
    "        input_sequence, sequence_length = self.src_field.process([sentence])\n",
    "        input_sequence = input_sequence.to(self.device)\n",
    "        sequence_length = sequence_length.to(self.device)\n",
    "        mask = self.model.create_mask(input_sequence)\n",
    "        enc_outputs, h_state = self.model.encoder(input_sequence, sequence_length)\n",
    "        return enc_outputs, h_state, mask\n",
    "    \n",
    "    def greedy(self, sentence):\n",
    "        \"\"\"\n",
    "        Translate using Greedy method\n",
    "        \n",
    "        :param\n",
    "            sentence: str\n",
    "            \n",
    "        :return \n",
    "        \"\"\"\n",
    "        enc_outputs, h_state, mask = self.encode(sentence)\n",
    "        outputs, logp = [], 0\n",
    "        attn_weights = []\n",
    "        word_index = torch.tensor([self.dest_field.vocab.stoi[self.dest_field.init_token]], device=self.device)\n",
    "        for _ in range(self.max_length):\n",
    "            output, h_state, attn_weight = self.model.decoder(word_index, h_state, enc_outputs, mask)\n",
    "            probas = F.softmax(output, dim=1)\n",
    "            proba, word_index = torch.topk(probas, k=1, dim=1)\n",
    "            word_index = word_index.squeeze(0)\n",
    "            if word_index.detach().item() == self.dest_field.vocab.stoi[self.dest_field.eos_token]:\n",
    "                break\n",
    "            outputs.append(word_index.detach().item())\n",
    "            attn_weights.append(attn_weight)\n",
    "            logp +=  np.log(proba.detach().item())\n",
    "        attn_weights = torch.cat(attn_weights, dim=0).cpu().detach().numpy()\n",
    "        return ' '.join([*map(self.dest_field.vocab.itos.__getitem__, outputs)]), attn_weights, logp\n",
    "    \n",
    "    def beam_search(self, sentence, beam_size):\n",
    "        pass"
   ]
  },
  {
   "cell_type": "code",
   "execution_count": 184,
   "metadata": {},
   "outputs": [],
   "source": [
    "translator = Inference(model=seq2seq,\n",
    "                       src_field=FR,\n",
    "                       dest_field=EN,\n",
    "                       normalizer=normalize_string,\n",
    "                       max_length=MAX_LENGTH,\n",
    "                       device=device)"
   ]
  },
  {
   "cell_type": "code",
   "execution_count": 197,
   "metadata": {},
   "outputs": [],
   "source": [
    "def display_attention(sentence, translation, attention):\n",
    "    \n",
    "    fig = plt.figure(figsize=(10,10))\n",
    "    ax = fig.add_subplot(111)\n",
    "    \n",
    "    cax = ax.matshow(attention[:, ::-1])\n",
    "    fig.colorbar(cax)\n",
    "   \n",
    "    ax.tick_params(labelsize=15)\n",
    "    ax.set_xticklabels(['']+['<sos>']+[t.lower() for t in sentence.split()]+['<eos>'], \n",
    "                       rotation=45)\n",
    "    ax.set_yticklabels(['']+translation.split())\n",
    "\n",
    "    ax.xaxis.set_major_locator(ticker.MultipleLocator(1))\n",
    "    ax.yaxis.set_major_locator(ticker.MultipleLocator(1))\n",
    "\n",
    "    plt.show()\n",
    "    plt.close()"
   ]
  },
  {
   "cell_type": "code",
   "execution_count": 199,
   "metadata": {},
   "outputs": [
    {
     "name": "stdout",
     "output_type": "stream",
     "text": [
      "abrogation des directives relatives a la metrologie debat\n",
      "----------------------------------------------------------------------------------------------------\n",
      "<unk> of the directives debate | -8.55135193380459\n",
      "----------------------------------------------------------------------------------------------------\n",
      "repeal of directives regarding metrology debate\n"
     ]
    },
    {
     "data": {
      "image/png": "[encoded data removed]",
      "text/plain": [
       "<Figure size 720x720 with 2 Axes>"
      ]
     },
     "metadata": {
      "needs_background": "light"
     },
     "output_type": "display_data"
    }
   ],
   "source": [
    "sentence = ' '.join(test_data.examples[5125].src[::-1])\n",
    "translate = ' '.join(test_data.examples[5125].dest)\n",
    "pred_translate, attn_weights, logp = translator.greedy(sentence)\n",
    "\n",
    "print(sentence)\n",
    "print('-'*100)\n",
    "print(pred_translate, '|', logp)\n",
    "print('-'*100)\n",
    "print(translate)\n",
    "\n",
    "display_attention(sentence, pred_translate, attn_weights)"
   ]
  },
  {
   "cell_type": "code",
   "execution_count": 200,
   "metadata": {},
   "outputs": [
    {
     "name": "stdout",
     "output_type": "stream",
     "text": [
      "deuxiemement , par sa portee .\n",
      "----------------------------------------------------------------------------------------------------\n",
      "secondly , its her . | -6.053663458279635\n",
      "----------------------------------------------------------------------------------------------------\n",
      "\n"
     ]
    },
    {
     "data": {
      "image/png": "[encoded data removed]",
      "text/plain": [
       "<Figure size 720x720 with 2 Axes>"
      ]
     },
     "metadata": {
      "needs_background": "light"
     },
     "output_type": "display_data"
    }
   ],
   "source": [
    "sentence = ' '.join(test_data.examples[3128].src[::-1])\n",
    "translate = ' '.join(test_data.examples[3128].dest)\n",
    "pred_translate, attn_weights, logp = translator.greedy(sentence)\n",
    "\n",
    "print(sentence)\n",
    "print('-'*100)\n",
    "print(pred_translate, '|', logp)\n",
    "print('-'*100)\n",
    "print(translate)\n",
    "\n",
    "display_attention(sentence, pred_translate, attn_weights)"
   ]
  },
  {
   "cell_type": "code",
   "execution_count": 203,
   "metadata": {},
   "outputs": [
    {
     "name": "stdout",
     "output_type": "stream",
     "text": [
      "cela donne les consequences que l on voit .\n",
      "----------------------------------------------------------------------------------------------------\n",
      "this is the consequences consequences . | -5.250529745582048\n",
      "----------------------------------------------------------------------------------------------------\n",
      "that ha produced consequences that are plain to see .\n"
     ]
    },
    {
     "data": {
      "image/png": "[encoded data removed]",
      "text/plain": [
       "<Figure size 720x720 with 2 Axes>"
      ]
     },
     "metadata": {
      "needs_background": "light"
     },
     "output_type": "display_data"
    }
   ],
   "source": [
    "sentence = ' '.join(test_data.examples[3306 ].src[::-1])\n",
    "translate = ' '.join(test_data.examples[3306].dest)\n",
    "pred_translate, attn_weights, logp = translator.greedy(sentence)\n",
    "\n",
    "print(sentence)\n",
    "print('-'*100)\n",
    "print(pred_translate, '|', logp)\n",
    "print('-'*100)\n",
    "print(translate)\n",
    "\n",
    "display_attention(sentence, pred_translate, attn_weights)"
   ]
  },
  {
   "cell_type": "code",
   "execution_count": 206,
   "metadata": {},
   "outputs": [
    {
     "name": "stdout",
     "output_type": "stream",
     "text": [
      "rapport kirkhope\n",
      "----------------------------------------------------------------------------------------------------\n",
      "report report | -0.8131025011048487\n",
      "----------------------------------------------------------------------------------------------------\n",
      "kirkhope report\n"
     ]
    },
    {
     "data": {
      "image/png": "[encoded data removed]",
      "text/plain": [
       "<Figure size 720x720 with 2 Axes>"
      ]
     },
     "metadata": {
      "needs_background": "light"
     },
     "output_type": "display_data"
    }
   ],
   "source": [
    "sentence = ' '.join(test_data.examples[1413].src[::-1])\n",
    "translate = ' '.join(test_data.examples[1413].dest)\n",
    "pred_translate, attn_weights, logp = translator.greedy(sentence)\n",
    "\n",
    "print(sentence)\n",
    "print('-'*100)\n",
    "print(pred_translate, '|', logp)\n",
    "print('-'*100)\n",
    "print(translate)\n",
    "\n",
    "display_attention(sentence, pred_translate, attn_weights)"
   ]
  },
  {
   "cell_type": "code",
   "execution_count": 207,
   "metadata": {},
   "outputs": [
    {
     "name": "stdout",
     "output_type": "stream",
     "text": [
      "je vous demanderai d y reflechir\n",
      "----------------------------------------------------------------------------------------------------\n",
      "i would you you to you you | -8.122413845347651\n",
      "----------------------------------------------------------------------------------------------------\n",
      "i would ask for this to be considered .\n"
     ]
    },
    {
     "data": {
      "image/png": "[encoded data removed]",
      "text/plain": [
       "<Figure size 720x720 with 2 Axes>"
      ]
     },
     "metadata": {
      "needs_background": "light"
     },
     "output_type": "display_data"
    }
   ],
   "source": [
    "sentence = ' '.join(test_data.examples[3799].src[::-1])\n",
    "translate = ' '.join(test_data.examples[3799].dest)\n",
    "pred_translate, attn_weights, logp = translator.greedy(sentence)\n",
    "\n",
    "print(sentence)\n",
    "print('-'*100)\n",
    "print(pred_translate, '|', logp)\n",
    "print('-'*100)\n",
    "print(translate)\n",
    "\n",
    "display_attention(sentence, pred_translate, attn_weights)"
   ]
  },
  {
   "cell_type": "code",
   "execution_count": 208,
   "metadata": {},
   "outputs": [
    {
     "name": "stdout",
     "output_type": "stream",
     "text": [
      "j aimerais une reponse claire , s il vous plait .\n",
      "----------------------------------------------------------------------------------------------------\n",
      "i would like a clear answer reply , please . | -10.154172444177728\n",
      "----------------------------------------------------------------------------------------------------\n",
      "a clear reply , if you please .\n"
     ]
    },
    {
     "data": {
      "image/png": "[encoded data removed]",
      "text/plain": [
       "<Figure size 720x720 with 2 Axes>"
      ]
     },
     "metadata": {
      "needs_background": "light"
     },
     "output_type": "display_data"
    }
   ],
   "source": [
    "sentence = ' '.join(test_data.examples[357].src[::-1])\n",
    "translate = ' '.join(test_data.examples[357].dest)\n",
    "pred_translate, attn_weights, logp = translator.greedy(sentence)\n",
    "\n",
    "print(sentence)\n",
    "print('-'*100)\n",
    "print(pred_translate, '|', logp)\n",
    "print('-'*100)\n",
    "print(translate)\n",
    "\n",
    "display_attention(sentence, pred_translate, attn_weights)"
   ]
  },
  {
   "cell_type": "code",
   "execution_count": null,
   "metadata": {},
   "outputs": [],
   "source": []
  }
 ],
 "metadata": {
  "kernelspec": {
   "display_name": "Python 3",
   "language": "python",
   "name": "python3"
  },
  "language_info": {
   "codemirror_mode": {
    "name": "ipython",
    "version": 3
   },
   "file_extension": ".py",
   "mimetype": "text/x-python",
   "name": "python",
   "nbconvert_exporter": "python",
   "pygments_lexer": "ipython3",
   "version": "3.6.8"
  }
 },
 "nbformat": 4,
 "nbformat_minor": 4
}
