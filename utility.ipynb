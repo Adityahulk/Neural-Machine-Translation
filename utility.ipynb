{
 "cells": [
  {
   "cell_type": "code",
   "execution_count": 1,
   "metadata": {},
   "outputs": [],
   "source": [
    "import numpy as np"
   ]
  },
  {
   "cell_type": "code",
   "execution_count": 13,
   "metadata": {},
   "outputs": [],
   "source": [
    "class Node:\n",
    "    id_ = 0\n",
    "    \n",
    "    def __init__(self, logp=0., parent=None):\n",
    "        self.__id = self.__class__.id_\n",
    "        self.__logp = logp\n",
    "        self.__parent_id = None if parent is None else parent.id\n",
    "        self.__level = 0 if parent is None else parent.level + 1\n",
    "        self.__logps = logp if parent is None else parent.logps\n",
    "        self.__class__.id_ += 1\n",
    "        \n",
    "    def __str__(self):\n",
    "        return f'Node[id={self.__id}, logp={self.__logp}, logps={self.__logps}, parent_id={self.__parent_id}, level={self.__level}]'\n",
    "    \n",
    "    @property\n",
    "    def id(self):\n",
    "        return self.__id\n",
    "    \n",
    "    @id.setter\n",
    "    def id(self, logps):\n",
    "        self.__id = id\n",
    "    \n",
    "    @property\n",
    "    def logps(self):\n",
    "        return self.__logps\n",
    "    \n",
    "    @logps.setter\n",
    "    def logps(self, logps):\n",
    "        self.__logps = logps\n",
    "        \n",
    "    @property\n",
    "    def level(self):\n",
    "        return self.level\n",
    "    \n",
    "    @level.setter\n",
    "    def level(self, level):\n",
    "        self.__level = level"
   ]
  },
  {
   "cell_type": "code",
   "execution_count": 14,
   "metadata": {},
   "outputs": [],
   "source": [
    "start = Node()"
   ]
  },
  {
   "cell_type": "code",
   "execution_count": 15,
   "metadata": {},
   "outputs": [
    {
     "name": "stdout",
     "output_type": "stream",
     "text": [
      "Node[id=0, logp=0.0, logps=0.0, parent_id=None, level=0]\n"
     ]
    }
   ],
   "source": [
    "print(start)"
   ]
  },
  {
   "cell_type": "code",
   "execution_count": 59,
   "metadata": {},
   "outputs": [],
   "source": [
    "import re\n",
    "import pandas as pd\n",
    "\n",
    "data_fr_fname = './data/giga-fren/giga-fren.release2.fixed.fr'\n",
    "data_en_fname = './data/giga-fren/giga-fren.release2.fixed.en'\n",
    "\n",
    "# We will use regex to pick out questions by finding the strings in the English dataset\n",
    "# that start with \"Wh\" and end with a question mark.\n",
    "fr_rgx = re.compile('^([^?.!]+\\?)')\n",
    "en_rgx = re.compile('^(Wh[^?.!]+\\?)')\n",
    "\n",
    "lines = (\n",
    "    (\n",
    "        fr_rgx.search(fr.decode('utf-8', 'ignore')),\n",
    "        en_rgx.search(en.decode('utf-8', 'ignore'))\n",
    "    ) \n",
    "    for fr, en in zip(\n",
    "        open(data_fr_fname, mode='rb'),\n",
    "        open(data_en_fname, mode='rb')\n",
    "    )\n",
    ")\n",
    "\n",
    "data = [(fr.group(), en.group()) for fr, en in lines if en and fr]"
   ]
  },
  {
   "cell_type": "code",
   "execution_count": 63,
   "metadata": {},
   "outputs": [
    {
     "name": "stdout",
     "output_type": "stream",
     "text": [
      "52331\n",
      "52021\n"
     ]
    }
   ],
   "source": [
    "print(len(data))\n",
    "data = [*filter(lambda ex: not ex[0].startswith('Wh'), data)]\n",
    "print(len(data))"
   ]
  },
  {
   "cell_type": "code",
   "execution_count": 1,
   "metadata": {},
   "outputs": [
    {
     "data": {
      "text/plain": [
       "[(0, 1), (1, 2)]"
      ]
     },
     "execution_count": 1,
     "metadata": {},
     "output_type": "execute_result"
    }
   ],
   "source": [
    "a = [(0, 1), (1, 2)]\n",
    "a"
   ]
  },
  {
   "cell_type": "code",
   "execution_count": 4,
   "metadata": {},
   "outputs": [
    {
     "data": {
      "text/plain": [
       "[(1, 2), (0, 1)]"
      ]
     },
     "execution_count": 4,
     "metadata": {},
     "output_type": "execute_result"
    }
   ],
   "source": [
    "a = sorted(a, key=lambda x: x[0], reverse=True)\n",
    "a"
   ]
  },
  {
   "cell_type": "code",
   "execution_count": 6,
   "metadata": {},
   "outputs": [
    {
     "data": {
      "text/plain": [
       "[(0, 1), (1, 2)]"
      ]
     },
     "execution_count": 6,
     "metadata": {},
     "output_type": "execute_result"
    }
   ],
   "source": [
    "[*reversed(a)]"
   ]
  },
  {
   "cell_type": "code",
   "execution_count": null,
   "metadata": {},
   "outputs": [],
   "source": []
  }
 ],
 "metadata": {
  "kernelspec": {
   "display_name": "Python 3",
   "language": "python",
   "name": "python3"
  },
  "language_info": {
   "codemirror_mode": {
    "name": "ipython",
    "version": 3
   },
   "file_extension": ".py",
   "mimetype": "text/x-python",
   "name": "python",
   "nbconvert_exporter": "python",
   "pygments_lexer": "ipython3",
   "version": "3.6.8"
  }
 },
 "nbformat": 4,
 "nbformat_minor": 4
}
