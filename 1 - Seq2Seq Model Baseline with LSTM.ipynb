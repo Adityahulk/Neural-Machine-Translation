{
 "cells": [
  {
   "cell_type": "code",
   "execution_count": 1,
   "metadata": {},
   "outputs": [
    {
     "name": "stdout",
     "output_type": "stream",
     "text": [
      "Wed Apr 15 17:04:17 2020       \n",
      "+-----------------------------------------------------------------------------+\n",
      "| NVIDIA-SMI 418.67       Driver Version: 418.67       CUDA Version: 10.1     |\n",
      "|-------------------------------+----------------------+----------------------+\n",
      "| GPU  Name        Persistence-M| Bus-Id        Disp.A | Volatile Uncorr. ECC |\n",
      "| Fan  Temp  Perf  Pwr:Usage/Cap|         Memory-Usage | GPU-Util  Compute M. |\n",
      "|===============================+======================+======================|\n",
      "|   0  Quadro P5000        On   | 00000000:00:05.0 Off |                  Off |\n",
      "| 26%   30C    P8     6W / 180W |      1MiB / 16278MiB |      0%      Default |\n",
      "+-------------------------------+----------------------+----------------------+\n",
      "                                                                               \n",
      "+-----------------------------------------------------------------------------+\n",
      "| Processes:                                                       GPU Memory |\n",
      "|  GPU       PID   Type   Process name                             Usage      |\n",
      "|=============================================================================|\n",
      "|  No running processes found                                                 |\n",
      "+-----------------------------------------------------------------------------+\n"
     ]
    }
   ],
   "source": [
    "!nvidia-smi"
   ]
  },
  {
   "cell_type": "markdown",
   "metadata": {},
   "source": [
    "# Install & import dependencies"
   ]
  },
  {
   "cell_type": "code",
   "execution_count": 2,
   "metadata": {},
   "outputs": [],
   "source": [
    "!pip install torchtext --upgrade > /dev/null 2>&1\n",
    "!pip install spacy > /dev/null 2>&1\n",
    "!python -m spacy download fr > /dev/null 2>&1\n",
    "!python -m spacy download en > /dev/null 2>&1"
   ]
  },
  {
   "cell_type": "code",
   "execution_count": 2,
   "metadata": {},
   "outputs": [],
   "source": [
    "import os\n",
    "import re\n",
    "import tqdm\n",
    "import random\n",
    "import unicodedata\n",
    "import numpy as np\n",
    "import matplotlib.pyplot as plt\n",
    "\n",
    "import spacy\n",
    "\n",
    "import torch\n",
    "import torch.nn as nn\n",
    "import torch.nn.functional as F\n",
    "import torch.optim as optim\n",
    "\n",
    "from torchtext.data import Example, Field, Dataset\n",
    "from torchtext.data.iterator import BucketIterator\n",
    "from torchtext.data.metrics import bleu_score"
   ]
  },
  {
   "cell_type": "code",
   "execution_count": 3,
   "metadata": {},
   "outputs": [
    {
     "name": "stdout",
     "output_type": "stream",
     "text": [
      "Device: cuda\n"
     ]
    }
   ],
   "source": [
    "seed = 781\n",
    "random.seed(seed)\n",
    "np.random.seed(seed)\n",
    "torch.manual_seed(seed)\n",
    "torch.cuda.manual_seed(seed)\n",
    "torch.backends.cudnn.deterministic = True\n",
    "\n",
    "device = torch.device('cuda' if torch.cuda.is_available() else 'cpu')\n",
    "print(f'Device: {device}')"
   ]
  },
  {
   "cell_type": "markdown",
   "metadata": {},
   "source": [
    "# Download data"
   ]
  },
  {
   "cell_type": "code",
   "execution_count": 4,
   "metadata": {},
   "outputs": [],
   "source": [
    "if not os.path.exists('./data'):\n",
    "    !mkdir ./data"
   ]
  },
  {
   "cell_type": "code",
   "execution_count": 8,
   "metadata": {},
   "outputs": [
    {
     "name": "stdout",
     "output_type": "stream",
     "text": [
      "--2020-04-06 16:33:35--  http://www.statmt.org/europarl/v7/fr-en.tgz\n",
      "Resolving www.statmt.org (www.statmt.org)... 129.215.197.184\n",
      "Connecting to www.statmt.org (www.statmt.org)|129.215.197.184|:80... connected.\n",
      "HTTP request sent, awaiting response... 200 OK\n",
      "Length: 202718517 (193M) [application/x-gzip]\n",
      "Saving to: ‘./data/fr-en.tgz’\n",
      "\n",
      "./data/fr-en.tgz    100%[===================>] 193.33M  32.5KB/s    in 25m 0s  \n",
      "\n",
      "2020-04-06 16:58:35 (132 KB/s) - ‘./data/fr-en.tgz’ saved [202718517/202718517]\n",
      "\n",
      "CPU times: user 23.2 s, sys: 5.91 s, total: 29.1 s\n",
      "Wall time: 25min\n"
     ]
    }
   ],
   "source": [
    "%%time\n",
    "!wget --no-check-certificate \\\n",
    "    http://www.statmt.org/europarl/v7/fr-en.tgz \\\n",
    "    -O ./data/fr-en.tgz"
   ]
  },
  {
   "cell_type": "code",
   "execution_count": 9,
   "metadata": {},
   "outputs": [
    {
     "name": "stdout",
     "output_type": "stream",
     "text": [
      "europarl-v7.fr-en.en\n",
      "europarl-v7.fr-en.fr\n",
      "CPU times: user 51.3 ms, sys: 42 ms, total: 93.3 ms\n",
      "Wall time: 5.2 s\n"
     ]
    }
   ],
   "source": [
    "%%time\n",
    "!tar -xzvf ./data/fr-en.tgz -C ./data"
   ]
  },
  {
   "cell_type": "markdown",
   "metadata": {},
   "source": [
    "# Data processing"
   ]
  },
  {
   "cell_type": "code",
   "execution_count": 5,
   "metadata": {},
   "outputs": [],
   "source": [
    "def read_file(filepath):\n",
    "    try:\n",
    "        with open(filepath, mode='rt', encoding='utf-8') as file:\n",
    "            content = file.readlines()\n",
    "        return content\n",
    "    except:\n",
    "        raise Error(f'File {filepath} doesn\\'t exist')"
   ]
  },
  {
   "cell_type": "code",
   "execution_count": 32,
   "metadata": {},
   "outputs": [],
   "source": [
    "def unicode_to_ascii(s):\n",
    "    # NFD => Normal Form Decompose\n",
    "    # Mn => Non Marking Space\n",
    "    return ''.join(c for c in unicodedata.normalize('NFD', s) \\\n",
    "                    if unicodedata.category(c) != 'Mn')\n",
    "\n",
    "def normalize_string(s):\n",
    "    # Transform accented characters into unaccented ones\n",
    "    s = unicode_to_ascii(s.strip())\n",
    "    # Replace any of '.', '!', '?' by ' .', ' !', ' ?'. \\1 means the 1st bracked group. r is to not consider \\1\n",
    "    s = re.sub(r'([,.!?0-9])', r' \\1', s)\n",
    "    # Remove any character which is not in [^a-zA-Z0-9,.!?]\n",
    "    s = re.sub(r'[^a-zA-Z0-9,.!?]', r' ', s)\n",
    "    # Remove a sequence of whitespace characters\n",
    "    s = re.sub(r'\\s+', r' ', s)\n",
    "    return s.strip()"
   ]
  },
  {
   "cell_type": "code",
   "execution_count": 34,
   "metadata": {},
   "outputs": [
    {
     "data": {
      "text/plain": [
       "'L annee 2 0 1 9 etait fabuleuse !'"
      ]
     },
     "execution_count": 34,
     "metadata": {},
     "output_type": "execute_result"
    }
   ],
   "source": [
    "normalize_string('L\\'année 2019 était fabuleuse!')"
   ]
  },
  {
   "cell_type": "code",
   "execution_count": 35,
   "metadata": {},
   "outputs": [
    {
     "name": "stdout",
     "output_type": "stream",
     "text": [
      "Number of examples: 2,007,723\n",
      "CPU times: user 3.49 s, sys: 734 ms, total: 4.22 s\n",
      "Wall time: 4.21 s\n"
     ]
    }
   ],
   "source": [
    "%%time\n",
    "pairs = [*zip(read_file('./data/europarl-v7.fr-en.fr'),\n",
    "              read_file('./data/europarl-v7.fr-en.en'))]\n",
    "pairs = [*map(lambda x: {'fr': x[0], 'en': x[1]}, pairs)]\n",
    "print(f'Number of examples: {len(pairs):,}')"
   ]
  },
  {
   "cell_type": "markdown",
   "metadata": {},
   "source": [
    "We do not build models the entire dataset, since is very large. Instead, I sample a subset of 100,000 sentence pairs."
   ]
  },
  {
   "cell_type": "code",
   "execution_count": 36,
   "metadata": {},
   "outputs": [
    {
     "name": "stdout",
     "output_type": "stream",
     "text": [
      "Number of examples after sampling: 100,000\n",
      "Example:\n",
      "\tFR => Il est tendancieux et ne reflete pas la situation de menace reelle associee au trafic illegal de substances nucleaires au sein de l Union europeenne .\n",
      "\tEN => It is tendentious and does not match up to the real threat posed by illicit traffic in nuclear materials in the European Union .\n",
      "CPU times: user 13.9 s, sys: 59.1 ms, total: 14 s\n",
      "Wall time: 14 s\n"
     ]
    }
   ],
   "source": [
    "%%time\n",
    "pairs = np.random.choice(pairs, size=100000, replace=False)\n",
    "pairs = [*map(lambda pair: {k: normalize_string(v) for k, v in pair.items()},\n",
    "              pairs)]\n",
    "print(f'Number of examples after sampling: {len(pairs):,}')\n",
    "print(f'Example:\\n\\tFR => {pairs[0][\"fr\"]}\\n\\tEN => {pairs[0][\"en\"]}')"
   ]
  },
  {
   "cell_type": "markdown",
   "metadata": {},
   "source": [
    "Now, we split data in train, valid and test sets."
   ]
  },
  {
   "cell_type": "code",
   "execution_count": 37,
   "metadata": {},
   "outputs": [
    {
     "name": "stderr",
     "output_type": "stream",
     "text": [
      "100%|██████████| 100000/100000 [00:30<00:00, 3318.42it/s]\n"
     ]
    },
    {
     "name": "stdout",
     "output_type": "stream",
     "text": [
      "Number of examples after filtering: 56,089\n"
     ]
    }
   ],
   "source": [
    "FR = Field(init_token='<sos>',\n",
    "           eos_token='<eos>',\n",
    "           preprocessing=lambda x: x[::-1],\n",
    "           lower=True,\n",
    "           tokenize='spacy',\n",
    "           tokenizer_language='fr',\n",
    "           include_lengths=True) # For pack_padded_sequence\n",
    "EN = Field(init_token='<sos>',\n",
    "           eos_token='<eos>',\n",
    "           lower=True,\n",
    "           tokenize='spacy',\n",
    "           tokenizer_language='en')\n",
    "\n",
    "MAX_LENGTH = 30\n",
    "\n",
    "examples = [Example.fromdict(data=pair, fields={'fr': ('src', FR),\n",
    "                                                'en': ('dest', EN)})\n",
    "            for pair in tqdm.tqdm(pairs)]\n",
    "examples = [*filter(lambda example: len(example.src) <= MAX_LENGTH and len(example.dest) <= MAX_LENGTH, examples)]\n",
    "print(f'Number of examples after filtering: {len(examples):,}')"
   ]
  },
  {
   "cell_type": "code",
   "execution_count": 38,
   "metadata": {},
   "outputs": [
    {
     "name": "stdout",
     "output_type": "stream",
     "text": [
      "train set size: 44871\n",
      "valid set size: 5609\n",
      "test set size: 5609\n",
      "{'src': ['.', 'europeenne', 'integration', 'd', 'processus', 'au', 'peu', 'tres', 'identifient', 's', 'europeens', 'citoyens', 'les', 'que', 'fait', 'le', 'sur', 'porte', 'longuement', 'a', 'debat', 'le'], 'dest': ['much', 'was', 'said', 'during', 'the', 'debate', 'on', 'the', 'programme', 'about', 'how', 'little', 'the', 'citizens', 'identify', 'with', 'the', 'process', 'of', 'european', 'integration', '.']}\n"
     ]
    }
   ],
   "source": [
    "data = Dataset(examples, fields={'src': FR, 'dest': EN})\n",
    "train_data, valid_data, test_data = data.split(split_ratio=[0.8, 0.1, 0.1])\n",
    "print(f'train set size: {len(train_data.examples)}')\n",
    "print(f'valid set size: {len(valid_data.examples)}')\n",
    "print(f'test set size: {len(test_data.examples)}')\n",
    "print(vars(train_data.examples[0]))"
   ]
  },
  {
   "cell_type": "markdown",
   "metadata": {},
   "source": [
    "Since the model understands only number, we need to transform text sequences into sequence of numbers where each numbers represents a unique token. To do this, we build a vocabulary for each language that map words to indexes and vice versa. the vocabulary id built from train set only in order to prevent data leakage. We also add some special tokens:\n",
    "- `<sos>`: for start of sentence.\n",
    "- `<unk>`: for unknown or less frequent words.\n",
    "- `<eos>`: for end of sentence. \n",
    "- `<pad>`: for padding (make all sentences in a batch the same size). "
   ]
  },
  {
   "cell_type": "code",
   "execution_count": 40,
   "metadata": {},
   "outputs": [
    {
     "name": "stdout",
     "output_type": "stream",
     "text": [
      "Length of FR vocabulary: 7,726\n",
      "Length of EN vocabulary: 6,468\n",
      "CPU times: user 616 ms, sys: 0 ns, total: 616 ms\n",
      "Wall time: 616 ms\n"
     ]
    }
   ],
   "source": [
    "%%time\n",
    "MIN_COUNT = 5\n",
    "FR.build_vocab(train_data,\n",
    "               min_freq=MIN_COUNT,\n",
    "               specials=['<sos>', '<eos>', '<unk>', '<pad>'])\n",
    "EN.build_vocab(train_data,\n",
    "               min_freq=MIN_COUNT,\n",
    "               specials=['<sos>', '<eos>', '<unk>', '<pad>'])\n",
    "\n",
    "print(f'Length of FR vocabulary: {len(FR.vocab):,}')\n",
    "print(f'Length of EN vocabulary: {len(EN.vocab):,}')"
   ]
  },
  {
   "cell_type": "markdown",
   "metadata": {},
   "source": [
    "# Modeling\n",
    "\n",
    "The goal is to find the best english sentence $y$ that maximize the likelihood given a french sentence $x$, $P(y|x)$. To do this, we trained a neural probabilistic sequence-to-sequence model."
   ]
  },
  {
   "cell_type": "markdown",
   "metadata": {},
   "source": [
    "## Encoder\n",
    "\n",
    "The part of model map the source sequence to hidden vector (encoding)."
   ]
  },
  {
   "cell_type": "code",
   "execution_count": 44,
   "metadata": {},
   "outputs": [],
   "source": [
    "class Encoder(nn.Module):\n",
    "    \n",
    "    def __init__(self, embedding_size, vocab_size, hidden_size, n_layers, dropout, recurrent_dropout):\n",
    "        super(Encoder, self).__init__()\n",
    "        self.n_layers = n_layers\n",
    "        self.hidden_size = hidden_size\n",
    "        self.embedding = nn.Embedding(vocab_size, embedding_size)\n",
    "        self.dropout = nn.Dropout(dropout)\n",
    "        self.lstm = nn.LSTM(embedding_size, hidden_size,\n",
    "                            num_layers=n_layers,\n",
    "                            dropout=(recurrent_dropout if n_layers > 1 else 0))\n",
    "        \n",
    "    def forward(self, input_sequences, sequence_lengths):\n",
    "        \"\"\"\n",
    "        :params\n",
    "            input_sequences: Tensor[seq_len, batch_size]\n",
    "            sequence_lengths: Tensor[batch_size,]\n",
    "            \n",
    "        :return\n",
    "            outputs: Tensor[seq_len, batch_size, hidden_size]\n",
    "            hn: Tensor[num_layers, batch_size, hidden_size]\n",
    "            cn: Tensor[num_layers, batch_size, hidden_size]\n",
    "        \"\"\"\n",
    "        embedded = self.embedding(input_sequences)\n",
    "        embedded = self.dropout(embedded)\n",
    "        packed = nn.utils.rnn.pack_padded_sequence(embedded, sequence_lengths)\n",
    "        outputs, (hn, cn) = self.lstm(packed)\n",
    "        outputs, _ = nn.utils.rnn.pad_packed_sequence(outputs)\n",
    "        return outputs, hn, cn"
   ]
  },
  {
   "cell_type": "markdown",
   "metadata": {},
   "source": [
    "## Decoder\n",
    "\n",
    "The part of model performs a conditional language modeling given the hidden vector outputs by the encoder."
   ]
  },
  {
   "cell_type": "code",
   "execution_count": 45,
   "metadata": {},
   "outputs": [],
   "source": [
    "class Decoder(nn.Module):\n",
    "\n",
    "    def __init__(self, embedding_size, vocab_size, hidden_size, n_layers, dropout, recurrent_dropout):\n",
    "        super(Decoder, self).__init__()\n",
    "        self.vocab_size = vocab_size\n",
    "        self.n_layers = n_layers\n",
    "        self.hidden_size = hidden_size\n",
    "        self.embedding = nn.Embedding(vocab_size, embedding_size)\n",
    "        self.dropout = nn.Dropout(dropout)\n",
    "        self.lstm = nn.LSTM(embedding_size, hidden_size,\n",
    "                            num_layers=n_layers,\n",
    "                            dropout=(recurrent_dropout if n_layers > 1 else 0))\n",
    "        self.fc = nn.Linear(hidden_size, vocab_size)\n",
    "        \n",
    "    def forward(self, input_word_index, h_state, c_state):\n",
    "        \"\"\"\n",
    "        :params\n",
    "            input_word_index: Tensor[batch_size,]\n",
    "            h_state: Tensor[num_layers, batch_size, hidden_size]\n",
    "            c_state: Tensor[num_layers, batch_size, hidden_size]\n",
    "            \n",
    "        :return\n",
    "            logit: Tensor[batch_size, vocab_size]\n",
    "            h_state: Tensor[num_layers, batch_size, hidden_size]\n",
    "            c_state: Tensor[num_layers, batch_size, hidden_size]\n",
    "        \"\"\"\n",
    "        embedded = self.embedding(input_word_index.unsqueeze(0))\n",
    "        embedded = self.dropout(embedded)\n",
    "        outputs, (h_state, c_state) = self.lstm(embedded, (h_state, c_state))\n",
    "        # outputs: [1, batch_size, hidden_size]\n",
    "        logit = self.fc(outputs.squeeze(0))\n",
    "        return logit, h_state, c_state"
   ]
  },
  {
   "cell_type": "markdown",
   "metadata": {},
   "source": [
    "## Sequence to sequence model\n",
    "\n",
    "This puts encoder and decoder together."
   ]
  },
  {
   "cell_type": "code",
   "execution_count": 46,
   "metadata": {},
   "outputs": [],
   "source": [
    "class SeqToSeqNet(nn.Module):\n",
    "\n",
    "    def __init__(self, encoder, decoder, device):\n",
    "        assert encoder.n_layers == decoder.n_layers, 'Encoder and Decoder must have the same number of reccurent layers'\n",
    "        assert encoder.hidden_size == decoder.hidden_size, 'Encoder and Decoder must have the same number of reccurrent hidden units'\n",
    "\n",
    "        super(SeqToSeqNet, self).__init__()\n",
    "        self.encoder = encoder\n",
    "        self.decoder = decoder\n",
    "        self.device = device\n",
    "        \n",
    "    def forward(self, input_sequences, sequence_lengths, target_sequences, tf_ratio):\n",
    "        \"\"\"\n",
    "        :params\n",
    "            input_sequences: Tensor[seq_len, batch_size]\n",
    "            sequence_lengths: Tensor[batch_size,]\n",
    "            target_sequences: Tensor[seq_len, batch_size]\n",
    "            tf_ratio: float\n",
    "            \n",
    "        :return\n",
    "            outputs: Tensor[seq_len - 1, batch_size, vocab_size]\n",
    "                Since we ignore the SOS_TOKEN\n",
    "        \"\"\"\n",
    "        _, h_state, c_state = self.encoder(input_sequences, sequence_lengths)\n",
    "        \n",
    "        seq_len, batch_size = target_sequences.size()\n",
    "        outputs = torch.zeros(seq_len - 1, batch_size, self.decoder.vocab_size).to(self.device)\n",
    "        word_index = target_sequences[0, :]\n",
    "        \n",
    "        for t, idx in enumerate(range(1, seq_len)):\n",
    "            output, h_state, c_state = self.decoder(word_index, h_state, c_state)\n",
    "            # output: [batch_size, vocab_size]\n",
    "            outputs[t] = output\n",
    "            \n",
    "            if random.random() < tf_ratio:\n",
    "                word_index = target_sequences[idx, :]\n",
    "            else:\n",
    "                word_index = output.argmax(dim=1)\n",
    "                \n",
    "        return outputs"
   ]
  },
  {
   "cell_type": "markdown",
   "metadata": {},
   "source": [
    "# Training routines"
   ]
  },
  {
   "cell_type": "code",
   "execution_count": 47,
   "metadata": {},
   "outputs": [],
   "source": [
    "def count_parameters(model):\n",
    "    return sum(p.numel() for p in model.parameters() if p.requires_grad)"
   ]
  },
  {
   "cell_type": "code",
   "execution_count": 48,
   "metadata": {},
   "outputs": [],
   "source": [
    "def plot_gradient_flow(named_parameters):\n",
    "    grad_mean, layers = [], []\n",
    "    for name, param in named_parameters:\n",
    "        if param.requires_grad and 'bias' not in name:\n",
    "            layers.append(name)\n",
    "            grad_mean.append(param.grad.abs().mean())\n",
    "    plt.plot(grad_mean, alpha=0.3, color='b')\n",
    "    plt.hlines(0, 0, len(grad_mean) + 1, linewidth=1, color='k' )\n",
    "    plt.xticks(range(0, len(grad_mean), 1), layers, rotation='vertical')\n",
    "    plt.xlim(xmin=0, xmax=len(grad_mean))\n",
    "    # plt.ylim(bottom=-0.001, top=0.02) # Zoom on lower gradients\n",
    "    plt.xlabel('Layers')\n",
    "    plt.ylabel('Mean of gradients')\n",
    "    plt.title('Gradient Flow')\n",
    "    plt.grid(True)"
   ]
  },
  {
   "cell_type": "code",
   "execution_count": 49,
   "metadata": {},
   "outputs": [],
   "source": [
    "def train_epoch(model, opt, loss_func, tf_ratio, data_it, grad_clip, epoch_text):\n",
    "    epoch_loss = 0.\n",
    "    pbar = tqdm.tqdm(enumerate(data_it), total=len(data_it))\n",
    "    model.train()\n",
    "    for i, data in pbar:\n",
    "        opt.zero_grad()\n",
    "        outputs = model(*data.src, data.dest, tf_ratio)\n",
    "        # *data.src: unpack input_sequences and sequence_lengths\n",
    "        loss = loss_func(outputs.view(-1, model.decoder.vocab_size), data.dest[1:].view(-1))\n",
    "        loss.backward()\n",
    "        # plot_gradient_flow(model.named_parameters())\n",
    "        if grad_clip:\n",
    "            nn.utils.clip_grad_norm_(model.parameters(), grad_clip)\n",
    "        opt.step()\n",
    "        epoch_loss += loss.item()\n",
    "        pbar.set_description(epoch_text + f'loss:     {epoch_loss / (i + 1):.3f} - ppl:     {np.exp(epoch_loss / (i + 1)):7.3f}')\n",
    "    # plt.show() # Show the gradient flow\n",
    "    return epoch_loss / len(data_it), np.exp(epoch_loss / len(data_it))"
   ]
  },
  {
   "cell_type": "code",
   "execution_count": 50,
   "metadata": {},
   "outputs": [],
   "source": [
    "def valid_epoch(model, loss_func, data_it, epoch_text):\n",
    "    epoch_loss = 0.\n",
    "    pbar = tqdm.tqdm(enumerate(data_it), total=len(data_it))\n",
    "    model.eval()\n",
    "    with torch.no_grad():\n",
    "        for i, data in pbar:\n",
    "            outputs = model(*data.src, data.dest, 0) # Turn-off the teacher forcing\n",
    "            loss = loss_func(outputs.view(-1, model.decoder.vocab_size), data.dest[1:].view(-1))\n",
    "            epoch_loss += loss.item()\n",
    "            pbar.set_description(epoch_text + f'val_loss: {epoch_loss / (i + 1):.3f} - val_ppl: {np.exp(epoch_loss / (i + 1)):7.3f}')\n",
    "    return epoch_loss / len(data_it), np.exp(epoch_loss / len(data_it))"
   ]
  },
  {
   "cell_type": "code",
   "execution_count": 52,
   "metadata": {},
   "outputs": [],
   "source": [
    "def train(model, opt, loss_func, train_it, valid_it, tf_ratio, n_epochs, grad_clip, save_to, filename):\n",
    "    assert callable(loss_func)\n",
    "    if not os.path.exists(save_to):\n",
    "        !mkdir {save_to}\n",
    "    \n",
    "    history = {\n",
    "        'loss': [],\n",
    "        'val_loss': [],\n",
    "        'ppl': [],\n",
    "        'val_ppl': []\n",
    "    }\n",
    "    best_loss = [float('inf')]\n",
    "    for epoch in range(n_epochs):\n",
    "        epoch_text = f'Epoch: {epoch + 1:02d} - '\n",
    "        loss, ppl = train_epoch(model=model, opt=opt, loss_func=loss_func, tf_ratio=tf_ratio,\n",
    "                                data_it=train_it, grad_clip=grad_clip, epoch_text=epoch_text)\n",
    "        val_loss, val_ppl = valid_epoch(model=model, loss_func=loss_func, data_it=valid_it, epoch_text=epoch_text)\n",
    "        \n",
    "        history['loss'].append(loss)\n",
    "        history['val_loss'].append(val_loss)\n",
    "        history['ppl'].append(ppl)\n",
    "        history['val_ppl'].append(val_ppl)\n",
    "        \n",
    "        # Reduce tf_ratio\n",
    "        tf_ratio = tf_ratio - tf_ratio / (epoch + 2)\n",
    "        \n",
    "        # Saving\n",
    "        if val_loss < best_loss[-1]:\n",
    "            best_loss.append(val_loss)\n",
    "            torch.save({\n",
    "                'epoch': epoch,\n",
    "                'model': model.state_dict(),\n",
    "                'optimizer': opt.state_dict()\n",
    "            }, f=os.path.join(save_to, filename))\n",
    "            \n",
    "        # Stop training\n",
    "        try:\n",
    "            if val_loss > best_loss[-2]:\n",
    "                print('Stop training because the loss is increasing!')\n",
    "                break\n",
    "        except IndexError:\n",
    "            pass\n",
    "        \n",
    "    return history"
   ]
  },
  {
   "cell_type": "markdown",
   "metadata": {},
   "source": [
    "# Define and train models"
   ]
  },
  {
   "cell_type": "code",
   "execution_count": 53,
   "metadata": {},
   "outputs": [],
   "source": [
    "EMBEDDING_DIM = 128\n",
    "HIDDEN_SIZE = 256\n",
    "N_LAYERS = 2\n",
    "DROPOUT = 0.15\n",
    "RECURRENT_DROPOUT = 0.35\n",
    "GRAD_CLIP = 1.0\n",
    "BATCH_SIZE = 64\n",
    "N_EPOCHS = 15\n",
    "TF_RATIO = 0.5"
   ]
  },
  {
   "cell_type": "code",
   "execution_count": 54,
   "metadata": {},
   "outputs": [],
   "source": [
    "train_iterator, valid_iterator, test_iterator =  \\\n",
    "        BucketIterator.splits((train_data, valid_data, test_data),\n",
    "                              batch_size=BATCH_SIZE,\n",
    "                              sort_key=lambda x: len(x.src),\n",
    "                              sort_within_batch=True, # For pack_padded_sequence\n",
    "                              device=device)"
   ]
  },
  {
   "cell_type": "code",
   "execution_count": 67,
   "metadata": {},
   "outputs": [
    {
     "name": "stdout",
     "output_type": "stream",
     "text": [
      "Number of parameters of the model: 5,322,308\n"
     ]
    }
   ],
   "source": [
    "encoder = Encoder(embedding_size=EMBEDDING_DIM,\n",
    "                  vocab_size=len(FR.vocab),\n",
    "                  hidden_size=HIDDEN_SIZE,\n",
    "                  n_layers=N_LAYERS,\n",
    "                  dropout=DROPOUT,\n",
    "                  recurrent_dropout=RECURRENT_DROPOUT).to(device)\n",
    "decoder = Decoder(embedding_size=EMBEDDING_DIM,\n",
    "                  vocab_size=len(EN.vocab),\n",
    "                  hidden_size=HIDDEN_SIZE,\n",
    "                  n_layers=N_LAYERS,\n",
    "                  dropout=DROPOUT,\n",
    "                  recurrent_dropout=RECURRENT_DROPOUT).to(device)\n",
    "seq2seq = SeqToSeqNet(encoder=encoder,\n",
    "                      decoder=decoder,\n",
    "                      device=device).to(device)\n",
    "opt_adam = optim.Adam(seq2seq.parameters())\n",
    "criterion = nn.CrossEntropyLoss(ignore_index=EN.vocab.stoi[EN.pad_token])\n",
    "print(f'Number of parameters of the model: {count_parameters(seq2seq):,}')"
   ]
  },
  {
   "cell_type": "code",
   "execution_count": 59,
   "metadata": {},
   "outputs": [
    {
     "name": "stderr",
     "output_type": "stream",
     "text": [
      "Epoch: 01 - loss:     5.563 - ppl:     260.527: 100%|██████████| 702/702 [00:46<00:00, 15.12it/s]\n",
      "Epoch: 01 - val_loss: 5.393 - val_ppl: 219.772: 100%|██████████| 88/88 [00:02<00:00, 33.68it/s]\n",
      "Epoch: 02 - loss:     5.087 - ppl:     161.980: 100%|██████████| 702/702 [00:46<00:00, 15.06it/s]\n",
      "Epoch: 02 - val_loss: 5.057 - val_ppl: 157.169: 100%|██████████| 88/88 [00:02<00:00, 31.33it/s]\n",
      "Epoch: 03 - loss:     4.899 - ppl:     134.106: 100%|██████████| 702/702 [00:46<00:00, 15.06it/s]\n",
      "Epoch: 03 - val_loss: 4.919 - val_ppl: 136.814: 100%|██████████| 88/88 [00:02<00:00, 31.66it/s]\n",
      "Epoch: 04 - loss:     4.764 - ppl:     117.231: 100%|██████████| 702/702 [00:46<00:00, 15.21it/s]\n",
      "Epoch: 04 - val_loss: 4.793 - val_ppl: 120.659: 100%|██████████| 88/88 [00:02<00:00, 34.79it/s]\n",
      "Epoch: 05 - loss:     4.654 - ppl:     104.960: 100%|██████████| 702/702 [00:46<00:00, 15.00it/s]\n",
      "Epoch: 05 - val_loss: 4.719 - val_ppl: 112.024: 100%|██████████| 88/88 [00:02<00:00, 31.37it/s]\n",
      "Epoch: 06 - loss:     4.561 - ppl:      95.710: 100%|██████████| 702/702 [00:46<00:00, 15.24it/s]\n",
      "Epoch: 06 - val_loss: 4.654 - val_ppl: 104.958: 100%|██████████| 88/88 [00:02<00:00, 31.37it/s]\n",
      "Epoch: 07 - loss:     4.470 - ppl:      87.372: 100%|██████████| 702/702 [00:45<00:00, 15.33it/s]\n",
      "Epoch: 07 - val_loss: 4.605 - val_ppl:  99.973: 100%|██████████| 88/88 [00:02<00:00, 31.90it/s]\n",
      "Epoch: 08 - loss:     4.389 - ppl:      80.540: 100%|██████████| 702/702 [00:45<00:00, 15.54it/s]\n",
      "Epoch: 08 - val_loss: 4.563 - val_ppl:  95.835: 100%|██████████| 88/88 [00:02<00:00, 34.32it/s]\n",
      "Epoch: 09 - loss:     4.314 - ppl:      74.712: 100%|██████████| 702/702 [00:45<00:00, 15.39it/s]\n",
      "Epoch: 09 - val_loss: 4.535 - val_ppl:  93.202: 100%|██████████| 88/88 [00:02<00:00, 33.93it/s]\n",
      "Epoch: 10 - loss:     4.245 - ppl:      69.746: 100%|██████████| 702/702 [00:45<00:00, 15.49it/s]\n",
      "Epoch: 10 - val_loss: 4.513 - val_ppl:  91.205: 100%|██████████| 88/88 [00:02<00:00, 34.37it/s]\n",
      "Epoch: 11 - loss:     4.179 - ppl:      65.273: 100%|██████████| 702/702 [00:46<00:00, 15.11it/s]\n",
      "Epoch: 11 - val_loss: 4.486 - val_ppl:  88.759: 100%|██████████| 88/88 [00:02<00:00, 31.71it/s]\n",
      "Epoch: 12 - loss:     4.122 - ppl:      61.652: 100%|██████████| 702/702 [00:46<00:00, 15.09it/s]\n",
      "Epoch: 12 - val_loss: 4.478 - val_ppl:  88.028: 100%|██████████| 88/88 [00:02<00:00, 31.43it/s]\n",
      "Epoch: 13 - loss:     4.061 - ppl:      58.011: 100%|██████████| 702/702 [00:47<00:00, 14.84it/s]\n",
      "Epoch: 13 - val_loss: 4.480 - val_ppl:  88.256: 100%|██████████| 88/88 [00:02<00:00, 32.04it/s]\n",
      "Epoch: 14 - loss:     4.008 - ppl:      55.031: 100%|██████████| 702/702 [00:46<00:00, 15.18it/s]\n",
      "Epoch: 14 - val_loss: 4.463 - val_ppl:  86.753: 100%|██████████| 88/88 [00:02<00:00, 30.38it/s]\n",
      "Epoch: 15 - loss:     3.957 - ppl:      52.321: 100%|██████████| 702/702 [00:46<00:00, 15.07it/s]\n",
      "Epoch: 15 - val_loss: 4.456 - val_ppl:  86.163: 100%|██████████| 88/88 [00:02<00:00, 30.45it/s]\n"
     ]
    },
    {
     "name": "stdout",
     "output_type": "stream",
     "text": [
      "CPU times: user 15min 24s, sys: 5min 2s, total: 20min 27s\n",
      "Wall time: 12min 17s\n"
     ]
    }
   ],
   "source": [
    "%%time\n",
    "history = train(model=seq2seq,\n",
    "                opt=opt_adam,\n",
    "                loss_func=criterion,\n",
    "                train_it=train_iterator,\n",
    "                valid_it=valid_iterator,\n",
    "                tf_ratio=TF_RATIO,\n",
    "                n_epochs=N_EPOCHS,\n",
    "                grad_clip=GRAD_CLIP,\n",
    "                save_to='./saved_models',\n",
    "                filename='seq2seq-baseline-lstm.pt')"
   ]
  },
  {
   "cell_type": "code",
   "execution_count": 60,
   "metadata": {},
   "outputs": [
    {
     "data": {
      "image/png": "[encoded data removed]",
      "text/plain": [
       "<Figure size 864x360 with 2 Axes>"
      ]
     },
     "metadata": {
      "needs_background": "light"
     },
     "output_type": "display_data"
    }
   ],
   "source": [
    "_, axes = plt.subplots(1, 2, figsize=(12, 5))\n",
    "axes[0].plot(history['loss'], label='train')\n",
    "axes[0].plot(history['val_loss'], label='valid')\n",
    "axes[0].set_title('Loss history')\n",
    "axes[0].set_xlabel('Epochs')\n",
    "axes[0].set_ylabel('Loss')\n",
    "axes[0].grid(True)\n",
    "axes[1].plot(history['ppl'], label='train')\n",
    "axes[1].plot(history['val_ppl'], label='valid')\n",
    "axes[1].set_title('Perplexity history')\n",
    "axes[1].set_xlabel('Epochs')\n",
    "axes[1].set_ylabel('Perplexity')\n",
    "axes[1].grid(True)\n",
    "plt.legend()\n",
    "plt.show()"
   ]
  },
  {
   "cell_type": "code",
   "execution_count": 68,
   "metadata": {},
   "outputs": [
    {
     "data": {
      "text/plain": [
       "<All keys matched successfully>"
      ]
     },
     "execution_count": 68,
     "metadata": {},
     "output_type": "execute_result"
    }
   ],
   "source": [
    "seq2seq.load_state_dict(torch.load('./saved_models/seq2seq-baseline-lstm.pt').get('model'))"
   ]
  },
  {
   "cell_type": "code",
   "execution_count": 73,
   "metadata": {},
   "outputs": [
    {
     "name": "stderr",
     "output_type": "stream",
     "text": [
      "\n",
      "  0%|          | 0/88 [00:00<?, ?it/s]\u001b[A\n",
      "Evaluation on test set - val_loss: 4.649 - val_ppl: 104.510:   0%|          | 0/88 [00:00<?, ?it/s]\u001b[A\n",
      "Evaluation on test set - val_loss: 3.207 - val_ppl:  24.695:   0%|          | 0/88 [00:00<?, ?it/s]\u001b[A\n",
      "Evaluation on test set - val_loss: 2.972 - val_ppl:  19.522:   0%|          | 0/88 [00:00<?, ?it/s]\u001b[A\n",
      "Evaluation on test set - val_loss: 2.913 - val_ppl:  18.415:   0%|          | 0/88 [00:00<?, ?it/s]\u001b[A\n",
      "Evaluation on test set - val_loss: 2.913 - val_ppl:  18.415:   5%|▍         | 4/88 [00:00<00:02, 33.35it/s]\u001b[A\n",
      "Evaluation on test set - val_loss: 2.950 - val_ppl:  19.110:   5%|▍         | 4/88 [00:00<00:02, 33.35it/s]\u001b[A\n",
      "Evaluation on test set - val_loss: 3.048 - val_ppl:  21.080:   5%|▍         | 4/88 [00:00<00:02, 33.35it/s]\u001b[A\n",
      "Evaluation on test set - val_loss: 3.089 - val_ppl:  21.952:   5%|▍         | 4/88 [00:00<00:02, 33.35it/s]\u001b[A\n",
      "Evaluation on test set - val_loss: 3.169 - val_ppl:  23.779:   5%|▍         | 4/88 [00:00<00:02, 33.35it/s]\u001b[A\n",
      "Evaluation on test set - val_loss: 3.217 - val_ppl:  24.959:   5%|▍         | 4/88 [00:00<00:02, 33.35it/s]\u001b[A\n",
      "Evaluation on test set - val_loss: 3.217 - val_ppl:  24.959:  10%|█         | 9/88 [00:00<00:02, 36.83it/s]\u001b[A\n",
      "Evaluation on test set - val_loss: 3.289 - val_ppl:  26.817:  10%|█         | 9/88 [00:00<00:02, 36.83it/s]\u001b[A\n",
      "Evaluation on test set - val_loss: 3.327 - val_ppl:  27.858:  10%|█         | 9/88 [00:00<00:02, 36.83it/s]\u001b[A\n",
      "Evaluation on test set - val_loss: 3.360 - val_ppl:  28.778:  10%|█         | 9/88 [00:00<00:02, 36.83it/s]\u001b[A\n",
      "Evaluation on test set - val_loss: 3.384 - val_ppl:  29.482:  10%|█         | 9/88 [00:00<00:02, 36.83it/s]\u001b[A\n",
      "Evaluation on test set - val_loss: 3.412 - val_ppl:  30.319:  10%|█         | 9/88 [00:00<00:02, 36.83it/s]\u001b[A\n",
      "Evaluation on test set - val_loss: 3.412 - val_ppl:  30.319:  16%|█▌        | 14/88 [00:00<00:01, 39.45it/s]\u001b[A\n",
      "Evaluation on test set - val_loss: 3.445 - val_ppl:  31.348:  16%|█▌        | 14/88 [00:00<00:01, 39.45it/s]\u001b[A\n",
      "Evaluation on test set - val_loss: 3.495 - val_ppl:  32.937:  16%|█▌        | 14/88 [00:00<00:01, 39.45it/s]\u001b[A\n",
      "Evaluation on test set - val_loss: 3.521 - val_ppl:  33.832:  16%|█▌        | 14/88 [00:00<00:01, 39.45it/s]\u001b[A\n",
      "Evaluation on test set - val_loss: 3.556 - val_ppl:  35.017:  16%|█▌        | 14/88 [00:00<00:01, 39.45it/s]\u001b[A\n",
      "Evaluation on test set - val_loss: 3.580 - val_ppl:  35.882:  16%|█▌        | 14/88 [00:00<00:01, 39.45it/s]\u001b[A\n",
      "Evaluation on test set - val_loss: 3.580 - val_ppl:  35.882:  22%|██▏       | 19/88 [00:00<00:01, 39.79it/s]\u001b[A\n",
      "Evaluation on test set - val_loss: 3.600 - val_ppl:  36.595:  22%|██▏       | 19/88 [00:00<00:01, 39.79it/s]\u001b[A\n",
      "Evaluation on test set - val_loss: 3.646 - val_ppl:  38.329:  22%|██▏       | 19/88 [00:00<00:01, 39.79it/s]\u001b[A\n",
      "Evaluation on test set - val_loss: 3.669 - val_ppl:  39.214:  22%|██▏       | 19/88 [00:00<00:01, 39.79it/s]\u001b[A\n",
      "Evaluation on test set - val_loss: 3.703 - val_ppl:  40.552:  22%|██▏       | 19/88 [00:00<00:01, 39.79it/s]\u001b[A\n",
      "Evaluation on test set - val_loss: 3.703 - val_ppl:  40.552:  26%|██▌       | 23/88 [00:00<00:01, 36.76it/s]\u001b[A\n",
      "Evaluation on test set - val_loss: 3.727 - val_ppl:  41.549:  26%|██▌       | 23/88 [00:00<00:01, 36.76it/s]\u001b[A\n",
      "Evaluation on test set - val_loss: 3.747 - val_ppl:  42.389:  26%|██▌       | 23/88 [00:00<00:01, 36.76it/s]\u001b[A\n",
      "Evaluation on test set - val_loss: 3.782 - val_ppl:  43.888:  26%|██▌       | 23/88 [00:00<00:01, 36.76it/s]\u001b[A\n",
      "Evaluation on test set - val_loss: 3.806 - val_ppl:  44.964:  26%|██▌       | 23/88 [00:00<00:01, 36.76it/s]\u001b[A\n",
      "Evaluation on test set - val_loss: 3.806 - val_ppl:  44.964:  31%|███       | 27/88 [00:00<00:01, 34.45it/s]\u001b[A\n",
      "Evaluation on test set - val_loss: 3.827 - val_ppl:  45.945:  31%|███       | 27/88 [00:00<00:01, 34.45it/s]\u001b[A\n",
      "Evaluation on test set - val_loss: 3.852 - val_ppl:  47.082:  31%|███       | 27/88 [00:00<00:01, 34.45it/s]\u001b[A\n",
      "Evaluation on test set - val_loss: 3.868 - val_ppl:  47.828:  31%|███       | 27/88 [00:00<00:01, 34.45it/s]\u001b[A\n",
      "Evaluation on test set - val_loss: 3.887 - val_ppl:  48.785:  31%|███       | 27/88 [00:00<00:01, 34.45it/s]\u001b[A\n",
      "Evaluation on test set - val_loss: 3.887 - val_ppl:  48.785:  35%|███▌      | 31/88 [00:00<00:01, 33.09it/s]\u001b[A\n",
      "Evaluation on test set - val_loss: 3.896 - val_ppl:  49.213:  35%|███▌      | 31/88 [00:00<00:01, 33.09it/s]\u001b[A\n",
      "Evaluation on test set - val_loss: 3.915 - val_ppl:  50.138:  35%|███▌      | 31/88 [00:00<00:01, 33.09it/s]\u001b[A\n",
      "Evaluation on test set - val_loss: 3.933 - val_ppl:  51.071:  35%|███▌      | 31/88 [00:00<00:01, 33.09it/s]\u001b[A\n",
      "Evaluation on test set - val_loss: 3.948 - val_ppl:  51.810:  35%|███▌      | 31/88 [00:00<00:01, 33.09it/s]\u001b[A\n",
      "Evaluation on test set - val_loss: 3.948 - val_ppl:  51.810:  40%|███▉      | 35/88 [00:00<00:01, 31.69it/s]\u001b[A\n",
      "Evaluation on test set - val_loss: 3.964 - val_ppl:  52.651:  40%|███▉      | 35/88 [00:01<00:01, 31.69it/s]\u001b[A\n",
      "Evaluation on test set - val_loss: 3.980 - val_ppl:  53.510:  40%|███▉      | 35/88 [00:01<00:01, 31.69it/s]\u001b[A\n",
      "Evaluation on test set - val_loss: 3.993 - val_ppl:  54.223:  40%|███▉      | 35/88 [00:01<00:01, 31.69it/s]\u001b[A\n",
      "Evaluation on test set - val_loss: 4.003 - val_ppl:  54.760:  40%|███▉      | 35/88 [00:01<00:01, 31.69it/s]\u001b[A\n",
      "Evaluation on test set - val_loss: 4.003 - val_ppl:  54.760:  44%|████▍     | 39/88 [00:01<00:01, 30.84it/s]\u001b[A\n",
      "Evaluation on test set - val_loss: 4.017 - val_ppl:  55.548:  44%|████▍     | 39/88 [00:01<00:01, 30.84it/s]\u001b[A\n",
      "Evaluation on test set - val_loss: 4.031 - val_ppl:  56.299:  44%|████▍     | 39/88 [00:01<00:01, 30.84it/s]\u001b[A\n",
      "Evaluation on test set - val_loss: 4.044 - val_ppl:  57.043:  44%|████▍     | 39/88 [00:01<00:01, 30.84it/s]\u001b[A\n",
      "Evaluation on test set - val_loss: 4.052 - val_ppl:  57.505:  44%|████▍     | 39/88 [00:01<00:01, 30.84it/s]\u001b[A\n",
      "Evaluation on test set - val_loss: 4.052 - val_ppl:  57.505:  49%|████▉     | 43/88 [00:01<00:01, 30.78it/s]\u001b[A\n",
      "Evaluation on test set - val_loss: 4.069 - val_ppl:  58.515:  49%|████▉     | 43/88 [00:01<00:01, 30.78it/s]\u001b[A\n",
      "Evaluation on test set - val_loss: 4.084 - val_ppl:  59.402:  49%|████▉     | 43/88 [00:01<00:01, 30.78it/s]\u001b[A\n",
      "Evaluation on test set - val_loss: 4.095 - val_ppl:  60.027:  49%|████▉     | 43/88 [00:01<00:01, 30.78it/s]\u001b[A\n",
      "Evaluation on test set - val_loss: 4.106 - val_ppl:  60.681:  49%|████▉     | 43/88 [00:01<00:01, 30.78it/s]\u001b[A\n",
      "Evaluation on test set - val_loss: 4.106 - val_ppl:  60.681:  53%|█████▎    | 47/88 [00:01<00:01, 30.27it/s]\u001b[A\n",
      "Evaluation on test set - val_loss: 4.121 - val_ppl:  61.638:  53%|█████▎    | 47/88 [00:01<00:01, 30.27it/s]\u001b[A\n",
      "Evaluation on test set - val_loss: 4.133 - val_ppl:  62.348:  53%|█████▎    | 47/88 [00:01<00:01, 30.27it/s]\u001b[A\n",
      "Evaluation on test set - val_loss: 4.143 - val_ppl:  63.017:  53%|█████▎    | 47/88 [00:01<00:01, 30.27it/s]\u001b[A\n",
      "Evaluation on test set - val_loss: 4.143 - val_ppl:  63.017:  57%|█████▋    | 50/88 [00:01<00:01, 29.58it/s]\u001b[A\n",
      "Evaluation on test set - val_loss: 4.155 - val_ppl:  63.748:  57%|█████▋    | 50/88 [00:01<00:01, 29.58it/s]\u001b[A\n",
      "Evaluation on test set - val_loss: 4.165 - val_ppl:  64.367:  57%|█████▋    | 50/88 [00:01<00:01, 29.58it/s]\u001b[A\n",
      "Evaluation on test set - val_loss: 4.174 - val_ppl:  64.970:  57%|█████▋    | 50/88 [00:01<00:01, 29.58it/s]\u001b[A\n",
      "Evaluation on test set - val_loss: 4.174 - val_ppl:  64.970:  60%|██████    | 53/88 [00:01<00:01, 29.06it/s]\u001b[A\n",
      "Evaluation on test set - val_loss: 4.187 - val_ppl:  65.826:  60%|██████    | 53/88 [00:01<00:01, 29.06it/s]\u001b[A\n",
      "Evaluation on test set - val_loss: 4.204 - val_ppl:  66.978:  60%|██████    | 53/88 [00:01<00:01, 29.06it/s]\u001b[A\n",
      "Evaluation on test set - val_loss: 4.215 - val_ppl:  67.673:  60%|██████    | 53/88 [00:01<00:01, 29.06it/s]\u001b[A\n",
      "Evaluation on test set - val_loss: 4.215 - val_ppl:  67.673:  64%|██████▎   | 56/88 [00:01<00:01, 28.20it/s]\u001b[A\n",
      "Evaluation on test set - val_loss: 4.224 - val_ppl:  68.300:  64%|██████▎   | 56/88 [00:01<00:01, 28.20it/s]\u001b[A\n",
      "Evaluation on test set - val_loss: 4.235 - val_ppl:  69.076:  64%|██████▎   | 56/88 [00:01<00:01, 28.20it/s]\u001b[A\n",
      "Evaluation on test set - val_loss: 4.247 - val_ppl:  69.886:  64%|██████▎   | 56/88 [00:01<00:01, 28.20it/s]\u001b[A\n",
      "Evaluation on test set - val_loss: 4.247 - val_ppl:  69.886:  67%|██████▋   | 59/88 [00:01<00:01, 27.89it/s]\u001b[A\n",
      "Evaluation on test set - val_loss: 4.258 - val_ppl:  70.642:  67%|██████▋   | 59/88 [00:01<00:01, 27.89it/s]\u001b[A\n",
      "Evaluation on test set - val_loss: 4.268 - val_ppl:  71.361:  67%|██████▋   | 59/88 [00:01<00:01, 27.89it/s]\u001b[A\n",
      "Evaluation on test set - val_loss: 4.275 - val_ppl:  71.869:  67%|██████▋   | 59/88 [00:01<00:01, 27.89it/s]\u001b[A\n",
      "Evaluation on test set - val_loss: 4.275 - val_ppl:  71.869:  70%|███████   | 62/88 [00:01<00:00, 26.69it/s]\u001b[A\n",
      "Evaluation on test set - val_loss: 4.288 - val_ppl:  72.818:  70%|███████   | 62/88 [00:01<00:00, 26.69it/s]\u001b[A\n",
      "Evaluation on test set - val_loss: 4.299 - val_ppl:  73.639:  70%|███████   | 62/88 [00:02<00:00, 26.69it/s]\u001b[A\n",
      "Evaluation on test set - val_loss: 4.309 - val_ppl:  74.401:  70%|███████   | 62/88 [00:02<00:00, 26.69it/s]\u001b[A\n",
      "Evaluation on test set - val_loss: 4.309 - val_ppl:  74.401:  74%|███████▍  | 65/88 [00:02<00:00, 26.09it/s]\u001b[A\n",
      "Evaluation on test set - val_loss: 4.319 - val_ppl:  75.090:  74%|███████▍  | 65/88 [00:02<00:00, 26.09it/s]\u001b[A\n",
      "Evaluation on test set - val_loss: 4.327 - val_ppl:  75.699:  74%|███████▍  | 65/88 [00:02<00:00, 26.09it/s]\u001b[A\n",
      "Evaluation on test set - val_loss: 4.336 - val_ppl:  76.408:  74%|███████▍  | 65/88 [00:02<00:00, 26.09it/s]\u001b[A\n",
      "Evaluation on test set - val_loss: 4.336 - val_ppl:  76.408:  77%|███████▋  | 68/88 [00:02<00:00, 25.58it/s]\u001b[A\n",
      "Evaluation on test set - val_loss: 4.342 - val_ppl:  76.898:  77%|███████▋  | 68/88 [00:02<00:00, 25.58it/s]\u001b[A\n",
      "Evaluation on test set - val_loss: 4.351 - val_ppl:  77.569:  77%|███████▋  | 68/88 [00:02<00:00, 25.58it/s]\u001b[A\n",
      "Evaluation on test set - val_loss: 4.359 - val_ppl:  78.174:  77%|███████▋  | 68/88 [00:02<00:00, 25.58it/s]\u001b[A\n",
      "Evaluation on test set - val_loss: 4.359 - val_ppl:  78.174:  81%|████████  | 71/88 [00:02<00:00, 25.42it/s]\u001b[A\n",
      "Evaluation on test set - val_loss: 4.367 - val_ppl:  78.803:  81%|████████  | 71/88 [00:02<00:00, 25.42it/s]\u001b[A\n",
      "Evaluation on test set - val_loss: 4.375 - val_ppl:  79.407:  81%|████████  | 71/88 [00:02<00:00, 25.42it/s]\u001b[A\n",
      "Evaluation on test set - val_loss: 4.382 - val_ppl:  80.029:  81%|████████  | 71/88 [00:02<00:00, 25.42it/s]\u001b[A\n",
      "Evaluation on test set - val_loss: 4.382 - val_ppl:  80.029:  84%|████████▍ | 74/88 [00:02<00:00, 25.08it/s]\u001b[A\n",
      "Evaluation on test set - val_loss: 4.387 - val_ppl:  80.384:  84%|████████▍ | 74/88 [00:02<00:00, 25.08it/s]\u001b[A\n",
      "Evaluation on test set - val_loss: 4.392 - val_ppl:  80.816:  84%|████████▍ | 74/88 [00:02<00:00, 25.08it/s]\u001b[A\n",
      "Evaluation on test set - val_loss: 4.398 - val_ppl:  81.305:  84%|████████▍ | 74/88 [00:02<00:00, 25.08it/s]\u001b[A\n",
      "Evaluation on test set - val_loss: 4.398 - val_ppl:  81.305:  88%|████████▊ | 77/88 [00:02<00:00, 25.00it/s]\u001b[A\n",
      "Evaluation on test set - val_loss: 4.406 - val_ppl:  81.935:  88%|████████▊ | 77/88 [00:02<00:00, 25.00it/s]\u001b[A\n",
      "Evaluation on test set - val_loss: 4.413 - val_ppl:  82.509:  88%|████████▊ | 77/88 [00:02<00:00, 25.00it/s]\u001b[A\n",
      "Evaluation on test set - val_loss: 4.420 - val_ppl:  83.081:  88%|████████▊ | 77/88 [00:02<00:00, 25.00it/s]\u001b[A\n",
      "Evaluation on test set - val_loss: 4.420 - val_ppl:  83.081:  91%|█████████ | 80/88 [00:02<00:00, 24.74it/s]\u001b[A\n",
      "Evaluation on test set - val_loss: 4.426 - val_ppl:  83.636:  91%|█████████ | 80/88 [00:02<00:00, 24.74it/s]\u001b[A\n",
      "Evaluation on test set - val_loss: 4.433 - val_ppl:  84.183:  91%|█████████ | 80/88 [00:02<00:00, 24.74it/s]\u001b[A\n",
      "Evaluation on test set - val_loss: 4.441 - val_ppl:  84.845:  91%|█████████ | 80/88 [00:02<00:00, 24.74it/s]\u001b[A\n",
      "Evaluation on test set - val_loss: 4.441 - val_ppl:  84.845:  94%|█████████▍| 83/88 [00:02<00:00, 24.74it/s]\u001b[A\n",
      "Evaluation on test set - val_loss: 4.447 - val_ppl:  85.359:  94%|█████████▍| 83/88 [00:02<00:00, 24.74it/s]\u001b[A\n",
      "Evaluation on test set - val_loss: 4.452 - val_ppl:  85.835:  94%|█████████▍| 83/88 [00:02<00:00, 24.74it/s]\u001b[A\n",
      "Evaluation on test set - val_loss: 4.460 - val_ppl:  86.501:  94%|█████████▍| 83/88 [00:02<00:00, 24.74it/s]\u001b[A\n",
      "Evaluation on test set - val_loss: 4.460 - val_ppl:  86.501:  98%|█████████▊| 86/88 [00:02<00:00, 24.65it/s]\u001b[A\n",
      "Evaluation on test set - val_loss: 4.467 - val_ppl:  87.072:  98%|█████████▊| 86/88 [00:02<00:00, 24.65it/s]\u001b[A\n",
      "Evaluation on test set - val_loss: 4.472 - val_ppl:  87.490: 100%|██████████| 88/88 [00:03<00:00, 29.29it/s]\u001b[A\n"
     ]
    }
   ],
   "source": [
    "val_loss, val_ppl = valid_epoch(model=seq2seq,\n",
    "                                loss_func=criterion,\n",
    "                                data_it=test_iterator,\n",
    "                                epoch_text='Evaluation on test set - ')"
   ]
  },
  {
   "cell_type": "markdown",
   "metadata": {},
   "source": [
    "# Inference"
   ]
  },
  {
   "cell_type": "code",
   "execution_count": 124,
   "metadata": {},
   "outputs": [],
   "source": [
    "class Inference:\n",
    "    \n",
    "    def __init__(self, model, src_field, dest_field, normalizer, max_length, device):\n",
    "        assert callable(normalizer)\n",
    "        \n",
    "        self.model = model\n",
    "        self.src_field = src_field\n",
    "        self.dest_field = dest_field\n",
    "        self.normalizer = normalizer\n",
    "        self.max_length = max_length\n",
    "        self.device = device\n",
    "    \n",
    "    def encoder(self, sentence):\n",
    "        sentence = self.normalizer(sentence)\n",
    "        sentence = self.src_field.preprocess(sentence)\n",
    "        input_sequence, sequence_length = self.src_field.process([sentence])\n",
    "        input_sequence = input_sequence.to(self.device)\n",
    "        sequence_length = sequence_length.to(self.device)\n",
    "        _, h_state, c_state = self.model.encoder(input_sequence, sequence_length)\n",
    "        return _, h_state, c_state\n",
    "    \n",
    "    def greedy(self, sentence):\n",
    "        \"\"\"\n",
    "        Translate using Greedy method\n",
    "        \n",
    "        :param\n",
    "            sentence: str\n",
    "            \n",
    "        :return \n",
    "        \"\"\"\n",
    "        _, h_state, c_state = self.encode(sentence)\n",
    "        outputs, logp = [], 0\n",
    "        word_index = torch.tensor([self.dest_field.vocab.stoi[self.dest_field.init_token]], device=self.device)\n",
    "        for _ in range(self.max_length):\n",
    "            output, h_state, c_state = self.model.decoder(word_index, h_state, c_state)\n",
    "            probas = F.softmax(output, dim=1)\n",
    "            proba, word_index = torch.topk(probas, k=1, dim=1)\n",
    "            word_index = word_index.squeeze(0)\n",
    "            if word_index.detach().item() == self.dest_field.vocab.stoi[self.dest_field.eos_token]:\n",
    "                break\n",
    "            outputs.append(word_index.detach().item())\n",
    "            logp +=  np.log(proba.detach().item())\n",
    "        return ' '.join([*map(self.dest_field.vocab.itos.__getitem__, outputs)]), logp\n",
    "    \n",
    "    def beam_search(self, sentence, beam_size):\n",
    "        pass"
   ]
  },
  {
   "cell_type": "code",
   "execution_count": 125,
   "metadata": {},
   "outputs": [],
   "source": [
    "translator = Inference(model=seq2seq,\n",
    "                       src_field=FR,\n",
    "                       dest_field=EN,\n",
    "                       normalizer=normalize_string,\n",
    "                       max_length=MAX_LENGTH,\n",
    "                       device=device)"
   ]
  },
  {
   "cell_type": "code",
   "execution_count": 128,
   "metadata": {},
   "outputs": [
    {
     "data": {
      "text/plain": [
       "('parliament european parliament', -1.594740785338368)"
      ]
     },
     "execution_count": 128,
     "metadata": {},
     "output_type": "execute_result"
    }
   ],
   "source": [
    "translator.greedy('Le parlement européen')"
   ]
  },
  {
   "cell_type": "code",
   "execution_count": 144,
   "metadata": {},
   "outputs": [
    {
     "name": "stdout",
     "output_type": "stream",
     "text": [
      "je soutiens le rapport klinz afin de contribuer au processus de reforme des agences de notation .\n",
      "----------------------------------------------------------------------------------------------------\n",
      "('i welcome the report report the the the the the the of of . . .', -26.211226817460478)\n",
      "----------------------------------------------------------------------------------------------------\n",
      "i support the klinz report in order to advance the process of reforming the rating agencies .\n",
      "====================================================================================================\n",
      "il ne faut pas seulement le proclamer , mais se donner les moyens de le mettre en ? uvre .\n",
      "----------------------------------------------------------------------------------------------------\n",
      "('we must not be to but but but but the to to the . .', -25.623090723833517)\n",
      "----------------------------------------------------------------------------------------------------\n",
      "we must not only talk about it we must give ourselves the means to implement it .\n",
      "====================================================================================================\n",
      "il n y a pas eu de position commune avant juin cette annee mais a present , ils s en debarrassent aupres du parlement comme d un dossier brulant .\n",
      "----------------------------------------------------------------------------------------------------\n",
      "('there is not been the of of parliament parliament , , , , , , , , , , , this in . . . . . .', -59.92127452165231)\n",
      "----------------------------------------------------------------------------------------------------\n",
      "there has been no common position until june of this year but now they pass it to parliament like a hot potato .\n",
      "====================================================================================================\n",
      "mais si nous nous plaignons de prescriptions trop compliquees , nous ne devons pas omettre d etudier leurs causes plus profondes .\n",
      "----------------------------------------------------------------------------------------------------\n",
      "('but we we , , , , , we we we we to to to to to to to . . .', -46.109859728275055)\n",
      "----------------------------------------------------------------------------------------------------\n",
      "if however we complain about excessively complicated regulations we should not lose sight of the deeper reasons for them .\n",
      "====================================================================================================\n",
      "nous avons maintenant une agence europeenne de la securite aerienne qui est d ailleurs reconnue comme ayant l autorite voulue , y compris par la faa americaine .\n",
      "----------------------------------------------------------------------------------------------------\n",
      "('we have a a european of the the , , , , , , , , , , , , , , <unk> . .', -53.83375838952148)\n",
      "----------------------------------------------------------------------------------------------------\n",
      "we now have a european aviation safety agency , which is recognised as having the desired authority , including by the us faa .\n",
      "====================================================================================================\n",
      "developper des reseaux de jeunes et d enfants pour qu ils servent de plateformes durables permettant de consulter les enfants ,\n",
      "----------------------------------------------------------------------------------------------------\n",
      "('competition for women and and and and and and and and and and and', -28.56613575912405)\n",
      "----------------------------------------------------------------------------------------------------\n",
      "build up existing youth and children s networks as sustainable platforms for consulting children\n",
      "====================================================================================================\n",
      "nous avons besoin d une reforme de notre politique structurelle pour faire en sorte que l ue reste forte .\n",
      "----------------------------------------------------------------------------------------------------\n",
      "('we need a common of of policy policy a a eu the the the . .', -32.400797295777814)\n",
      "----------------------------------------------------------------------------------------------------\n",
      "we need reform of our structural policy to ensure that the eu remains strong .\n",
      "====================================================================================================\n",
      "cette strategie ne fait du reste que des gagnants .\n",
      "----------------------------------------------------------------------------------------------------\n",
      "('this is is is only the of of . . .', -21.089413441715354)\n",
      "----------------------------------------------------------------------------------------------------\n",
      "it is also a win win strategy .\n",
      "====================================================================================================\n",
      "il est important de se rappeler que la cooperation interetatique intervient entre des gouvernements qui sont controles par les parlements nationaux , lesquels reclament aussi des responsabilites .\n",
      "----------------------------------------------------------------------------------------------------\n",
      "('it is important to that the the of the the the the the the the the the the the the . . . . . .', -53.20705762174079)\n",
      "----------------------------------------------------------------------------------------------------\n",
      "it is important to remember that intergovernmental cooperation takes place between governments controlled by the national parliaments , which also demand accountability .\n",
      "====================================================================================================\n",
      "le 8 octobre sera une date decisive . c est en effet a cette date que doit se reunir le prochain conseil affaires generales .\n",
      "----------------------------------------------------------------------------------------------------\n",
      "('the year 0 will be be a a a a a the the the the the the the the council council council the council .', -49.443836393036335)\n",
      "----------------------------------------------------------------------------------------------------\n",
      "the defining moment will be on 8 october when the next general affairs council is due to take place .\n",
      "====================================================================================================\n"
     ]
    }
   ],
   "source": [
    "for i in np.random.choice(len(test_data.examples), 10):\n",
    "    s = ' '.join(test_data.examples[i].src[::-1])\n",
    "    d = ' '.join(test_data.examples[i].dest)\n",
    "    print(s)\n",
    "    print('-'*100)\n",
    "    print(translator.greedy(s))\n",
    "    print('-'*100)\n",
    "    print(d)\n",
    "    print('='*100)"
   ]
  },
  {
   "cell_type": "code",
   "execution_count": null,
   "metadata": {},
   "outputs": [],
   "source": []
  }
 ],
 "metadata": {
  "kernelspec": {
   "display_name": "Python 3",
   "language": "python",
   "name": "python3"
  },
  "language_info": {
   "codemirror_mode": {
    "name": "ipython",
    "version": 3
   },
   "file_extension": ".py",
   "mimetype": "text/x-python",
   "name": "python",
   "nbconvert_exporter": "python",
   "pygments_lexer": "ipython3",
   "version": "3.6.8"
  }
 },
 "nbformat": 4,
 "nbformat_minor": 4
}
