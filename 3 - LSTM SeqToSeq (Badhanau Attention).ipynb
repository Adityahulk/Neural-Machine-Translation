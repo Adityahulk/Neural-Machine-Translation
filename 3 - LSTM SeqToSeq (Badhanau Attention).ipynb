{
 "cells": [
  {
   "cell_type": "code",
   "execution_count": 1,
   "metadata": {},
   "outputs": [
    {
     "name": "stdout",
     "output_type": "stream",
     "text": [
      "Fri Aug 28 22:42:31 2020       \n",
      "+-----------------------------------------------------------------------------+\n",
      "| NVIDIA-SMI 450.36.06    Driver Version: 450.36.06    CUDA Version: 11.0     |\n",
      "|-------------------------------+----------------------+----------------------+\n",
      "| GPU  Name        Persistence-M| Bus-Id        Disp.A | Volatile Uncorr. ECC |\n",
      "| Fan  Temp  Perf  Pwr:Usage/Cap|         Memory-Usage | GPU-Util  Compute M. |\n",
      "|                               |                      |               MIG M. |\n",
      "|===============================+======================+======================|\n",
      "|   0  Quadro P5000        On   | 00000000:00:05.0 Off |                  Off |\n",
      "| 26%   26C    P8     6W / 180W |      1MiB / 16278MiB |      0%      Default |\n",
      "|                               |                      |                  N/A |\n",
      "+-------------------------------+----------------------+----------------------+\n",
      "                                                                               \n",
      "+-----------------------------------------------------------------------------+\n",
      "| Processes:                                                                  |\n",
      "|  GPU   GI   CI        PID   Type   Process name                  GPU Memory |\n",
      "|        ID   ID                                                   Usage      |\n",
      "|=============================================================================|\n",
      "|  No running processes found                                                 |\n",
      "+-----------------------------------------------------------------------------+\n"
     ]
    }
   ],
   "source": [
    "!nvidia-smi"
   ]
  },
  {
   "cell_type": "markdown",
   "metadata": {},
   "source": [
    "# Import dependencies"
   ]
  },
  {
   "cell_type": "code",
   "execution_count": 2,
   "metadata": {},
   "outputs": [],
   "source": [
    "%load_ext autoreload\n",
    "%autoreload 2\n",
    "\n",
    "import os\n",
    "import tqdm\n",
    "import random\n",
    "import numpy as np\n",
    "import pandas as pd\n",
    "import matplotlib.pyplot as plt\n",
    "%matplotlib inline\n",
    "\n",
    "from IPython.core.display import display, HTML\n",
    "\n",
    "import spacy\n",
    "\n",
    "import torch\n",
    "import torch.nn as nn\n",
    "import torch.nn.functional as F\n",
    "import torch.optim as optim\n",
    "\n",
    "from torchtext.data import Example, Field, Dataset\n",
    "from torchtext.data.iterator import BucketIterator\n",
    "from torchtext.data.metrics import bleu_score\n",
    "\n",
    "import warnings\n",
    "\n",
    "import utils\n",
    "import torch_utils\n",
    "from optim_utils import LRFinder\n",
    "from beam_utils import Node, find_best_path"
   ]
  },
  {
   "cell_type": "code",
   "execution_count": 3,
   "metadata": {},
   "outputs": [
    {
     "name": "stdout",
     "output_type": "stream",
     "text": [
      "Device: cuda\n"
     ]
    }
   ],
   "source": [
    "warnings.simplefilter(action='ignore', category=UserWarning)\n",
    "warnings.simplefilter(action='ignore', category=FutureWarning)\n",
    "warnings.simplefilter(action='ignore', category=DeprecationWarning)\n",
    "\n",
    "SEED = 42\n",
    "random.seed(SEED)\n",
    "np.random.seed(SEED)\n",
    "torch.manual_seed(SEED)\n",
    "torch.cuda.manual_seed(SEED)\n",
    "torch.backends.cudnn.deterministic = True\n",
    "\n",
    "DEVICE = torch.device('cuda' if torch.cuda.is_available() else 'cpu')\n",
    "print(f'Device: {DEVICE}')"
   ]
  },
  {
   "cell_type": "markdown",
   "metadata": {},
   "source": [
    "# Load & clean data"
   ]
  },
  {
   "cell_type": "code",
   "execution_count": 4,
   "metadata": {},
   "outputs": [
    {
     "name": "stdout",
     "output_type": "stream",
     "text": [
      "Number of examples: 2,007,723\n"
     ]
    },
    {
     "name": "stderr",
     "output_type": "stream",
     "text": [
      "100%|██████████| 200000/200000 [00:02<00:00, 72613.06it/s]\n",
      "100%|██████████| 200000/200000 [00:02<00:00, 93288.94it/s]\n"
     ]
    },
    {
     "name": "stdout",
     "output_type": "stream",
     "text": [
      "Number of examples after sampling: 200,000\n",
      "Example:\n",
      "\tFR => par écrit. - (EN) Les conservateurs saluent l'objectif général visé par l'amélioration des droits des passagers et de l'accès pour les personnes handicapées et par la création de règles équitables pour les utilisateurs de bus internationaux, c'est pourquoi j'ai voté en faveur du rapport.\n",
      "\tEN => in writing. - Conservatives welcome the overall aim of improving passenger rights, access for the disabled and creating a level playing field for international bus users, and for this reason voted in favour of the report.\n",
      "CPU times: user 6.52 s, sys: 873 ms, total: 7.39 s\n",
      "Wall time: 7.38 s\n"
     ]
    }
   ],
   "source": [
    "%%time\n",
    "data_fr = utils.read_file('./data/europarl-v7.fr-en.fr')\n",
    "data_en = utils.read_file('./data/europarl-v7.fr-en.en')\n",
    "\n",
    "assert len(data_fr) == len(data_en)\n",
    "print(f'Number of examples: {len(data_fr):,}')\n",
    "\n",
    "indexes = np.random.choice(range(len(data_fr)), size=200_000, replace=False)\n",
    "\n",
    "pairs = [*zip(\n",
    "    utils.clean_lines([data_fr[index] for index in indexes]),\n",
    "    utils.clean_lines([data_en[index] for index in indexes])\n",
    ")]\n",
    "pairs = [*map(lambda x: {'fr': x[0], 'en': x[1]}, pairs)]\n",
    "print(f'Number of examples after sampling: {len(pairs):,}')\n",
    "print(f'Example:\\n\\tFR => {pairs[0][\"fr\"]}\\n\\tEN => {pairs[0][\"en\"]}')"
   ]
  },
  {
   "cell_type": "markdown",
   "metadata": {},
   "source": [
    "# Build datasets"
   ]
  },
  {
   "cell_type": "code",
   "execution_count": 5,
   "metadata": {},
   "outputs": [
    {
     "data": {
      "image/png": "[encoded data removed]",
      "text/plain": [
       "<Figure size 864x360 with 2 Axes>"
      ]
     },
     "metadata": {
      "needs_background": "light"
     },
     "output_type": "display_data"
    }
   ],
   "source": [
    "len_fr = [*map(lambda pair: len(pair['fr'].split()), pairs)]\n",
    "len_en = [*map(lambda pair: len(pair['en'].split()), pairs)]\n",
    "\n",
    "_, axes = plt.subplots(1, 2, figsize=(12, 5))\n",
    "axes[0].hist([*filter(lambda x: x < 50, len_fr)])\n",
    "axes[0].grid(True)\n",
    "axes[1].hist([*filter(lambda x: x < 50, len_en)])\n",
    "axes[1].grid(True)\n",
    "plt.show()"
   ]
  },
  {
   "cell_type": "code",
   "execution_count": 6,
   "metadata": {},
   "outputs": [
    {
     "name": "stdout",
     "output_type": "stream",
     "text": [
      "Number of examples after filtering: 89,752\n",
      "CPU times: user 557 ms, sys: 0 ns, total: 557 ms\n",
      "Wall time: 557 ms\n"
     ]
    }
   ],
   "source": [
    "%%time\n",
    "MIN_LENGTH, MAX_LENGTH = 10, 25\n",
    "pairs = [*filter(lambda pair: MIN_LENGTH <= len(pair['fr'].split()) <= MAX_LENGTH and MIN_LENGTH <= len(pair['fr'].split()) <= MAX_LENGTH, pairs)]\n",
    "print(f'Number of examples after filtering: {len(pairs):,}')"
   ]
  },
  {
   "cell_type": "code",
   "execution_count": 7,
   "metadata": {},
   "outputs": [
    {
     "name": "stderr",
     "output_type": "stream",
     "text": [
      "100%|██████████| 89752/89752 [00:26<00:00, 3380.72it/s]"
     ]
    },
    {
     "name": "stdout",
     "output_type": "stream",
     "text": [
      "Number of examples: 89,752\n",
      "CPU times: user 41.8 s, sys: 592 ms, total: 42.4 s\n",
      "Wall time: 42.3 s\n"
     ]
    },
    {
     "name": "stderr",
     "output_type": "stream",
     "text": [
      "\n"
     ]
    }
   ],
   "source": [
    "%%time\n",
    "FR = Field(lower=True,\n",
    "           tokenize='spacy',\n",
    "           tokenizer_language='fr',\n",
    "           include_lengths=True)\n",
    "EN = Field(init_token='<sos>',\n",
    "           eos_token='<eos>',\n",
    "           lower=True,\n",
    "           tokenize='spacy',\n",
    "           tokenizer_language='en',\n",
    "           include_lengths=True)\n",
    "\n",
    "examples = [Example.fromdict(\n",
    "    data=pair,\n",
    "    fields={\n",
    "        'fr': ('src', FR),\n",
    "        'en': ('dest', EN)\n",
    "    }\n",
    ") for pair in tqdm.tqdm(pairs)]\n",
    "print(f'Number of examples: {len(examples):,}')"
   ]
  },
  {
   "cell_type": "code",
   "execution_count": 8,
   "metadata": {},
   "outputs": [
    {
     "name": "stdout",
     "output_type": "stream",
     "text": [
      "train set size: 80,777\n",
      "valid set size: 4,487\n",
      "test set size: 4,488\n",
      "{'src': ['par', 'ailleurs', ',', 'de', 'nombreux', 'experts', 'militaires', 'soulignent', 'le', 'danger', 'd’', 'une', 'intervention', 'en', 'l’', 'absence', 'd’', 'un', 'mandat', 'précis', 'et', 'sans', 'équivoque', '.'], 'dest': ['furthermore', ',', 'many', 'military', 'experts', 'point', 'to', 'the', 'dangers', 'of', 'intervening', 'without', 'a', 'mandate', 'that', 'has', 'been', 'accurately', 'and', 'properly', 'drawn', 'up', '.']}\n"
     ]
    }
   ],
   "source": [
    "data = Dataset(examples, fields={'src': FR, 'dest': EN})\n",
    "train_data, valid_data, test_data = data.split(split_ratio=[0.9, 0.05, 0.05])\n",
    "print(f'train set size: {len(train_data.examples):,}')\n",
    "print(f'valid set size: {len(valid_data.examples):,}')\n",
    "print(f'test set size: {len(test_data.examples):,}')\n",
    "print(vars(train_data.examples[0]))"
   ]
  },
  {
   "cell_type": "code",
   "execution_count": 9,
   "metadata": {},
   "outputs": [
    {
     "name": "stdout",
     "output_type": "stream",
     "text": [
      "Length of FR vocabulary: 12,037\n",
      "Length of EN vocabulary: 9,417\n",
      "CPU times: user 1.21 s, sys: 0 ns, total: 1.21 s\n",
      "Wall time: 1.21 s\n"
     ]
    }
   ],
   "source": [
    "%%time\n",
    "MIN_COUNT = 5\n",
    "FR.build_vocab(train_data,\n",
    "               min_freq=MIN_COUNT,\n",
    "               specials=['<unk>', '<pad>'])\n",
    "EN.build_vocab(train_data,\n",
    "               min_freq=MIN_COUNT,\n",
    "               specials=['<sos>', '<eos>', '<unk>', '<pad>'])\n",
    "print(f'Length of FR vocabulary: {len(FR.vocab):,}')\n",
    "print(f'Length of EN vocabulary: {len(EN.vocab):,}')"
   ]
  },
  {
   "cell_type": "markdown",
   "metadata": {},
   "source": [
    "# Modeling\n",
    "## LSTM Encoder model"
   ]
  },
  {
   "cell_type": "code",
   "execution_count": 10,
   "metadata": {},
   "outputs": [],
   "source": [
    "class EncoderLSTM(nn.Module):\n",
    "    \n",
    "    def __init__(\n",
    "        self,\n",
    "        embedding_size,\n",
    "        vocab_size,\n",
    "        hidden_size,\n",
    "        n_layers,\n",
    "        dropout,\n",
    "        recurrent_dropout\n",
    "    ):\n",
    "        super(EncoderLSTM, self).__init__()\n",
    "        self.embedding_size = embedding_size\n",
    "        self.vocab_size = vocab_size\n",
    "        self.hidden_size = hidden_size\n",
    "        self.n_layers = n_layers\n",
    "        self.dropout = dropout\n",
    "        self.recurrent_dropout = recurrent_dropout\n",
    "        self.embedding = nn.Embedding(vocab_size, embedding_size)\n",
    "        self.lstm = nn.LSTM(embedding_size, hidden_size,\n",
    "                            num_layers=n_layers,\n",
    "                            bidirectional=True,\n",
    "                            dropout=(recurrent_dropout if n_layers > 1 else 0))\n",
    "        \n",
    "    def load_pretrained_embeddings(self, embeddings):\n",
    "        self.embedding.weight = nn.Parameter(embeddings)\n",
    "        \n",
    "    def fine_tuning_embeddings(self, fine_tune=True):\n",
    "        for p in self.embedding.parameters():\n",
    "            p.requires_grad = fine_tune\n",
    "    \n",
    "    def forward(self, input_sequences, sequence_lengths):\n",
    "        \"\"\"\n",
    "        :params\n",
    "            input_sequences: Tensor[seq_len, batch_size]\n",
    "            sequence_lengths: Tensor[batch_size,]\n",
    "            \n",
    "        :return\n",
    "            outputs: Tensor[seq_len, batch_size, 2 * hidden_size]\n",
    "            hn: Tensor[n_layers * 2, batch_size, hidden_size]\n",
    "            cn: Tensor[n_layers * 2, batch_size, hidden_size]\n",
    "        \"\"\"\n",
    "        embedded = self.embedding(input_sequences)\n",
    "        embedded = F.dropout(embedded, p=self.dropout)\n",
    "        packed = nn.utils.rnn.pack_padded_sequence(embedded, sequence_lengths)\n",
    "        outputs, (hn, cn) = self.lstm(packed)\n",
    "        outputs, _ = nn.utils.rnn.pad_packed_sequence(outputs)\n",
    "        return outputs, hn, cn"
   ]
  },
  {
   "cell_type": "code",
   "execution_count": 11,
   "metadata": {},
   "outputs": [
    {
     "name": "stdout",
     "output_type": "stream",
     "text": [
      "CPU times: user 5.85 s, sys: 78.4 ms, total: 5.92 s\n",
      "Wall time: 1.02 s\n"
     ]
    }
   ],
   "source": [
    "%%time\n",
    "def test_encoder():\n",
    "    batch_size = 128\n",
    "    train_iterator, valid_iterator, test_iterator =  \\\n",
    "        BucketIterator.splits((train_data, valid_data, test_data),\n",
    "                              batch_size=batch_size,\n",
    "                              sort_key=lambda x: len(x.src),\n",
    "                              sort_within_batch=True)\n",
    "    encoder = EncoderLSTM(\n",
    "        embedding_size=300,\n",
    "        vocab_size=len(FR.vocab),\n",
    "        hidden_size=256,\n",
    "        n_layers=4,\n",
    "        dropout=0.35,\n",
    "        recurrent_dropout=0.25\n",
    "    )\n",
    "    for data in train_iterator:\n",
    "        outputs, hn, cn = encoder(\n",
    "            input_sequences=data.src[0],\n",
    "            sequence_lengths=data.src[1]\n",
    "        )\n",
    "        seq_len = data.src[0].size(0)\n",
    "        assert outputs.size() == torch.Size([seq_len, batch_size, 2 * 256]), outputs.size()\n",
    "        assert hn.size() == torch.Size([4 * 2, batch_size, 256]), hn.size()\n",
    "        assert cn.size() == torch.Size([4 * 2, batch_size, 256]), cn.size()\n",
    "        break\n",
    "    \n",
    "test_encoder()"
   ]
  },
  {
   "cell_type": "markdown",
   "metadata": {},
   "source": [
    "## Badhanau Attention Layer"
   ]
  },
  {
   "cell_type": "code",
   "execution_count": 12,
   "metadata": {},
   "outputs": [],
   "source": [
    "class BadhanauAttnLayer(nn.Module):\n",
    "    \n",
    "    def __init__(self, hidden_size):\n",
    "        super(BadhanauAttnLayer, self).__init__()\n",
    "        self.hidden_size = hidden_size\n",
    "        self.W1 = nn.Linear(hidden_size, hidden_size, bias=False)\n",
    "        self.W2 = nn.Linear(hidden_size, hidden_size, bias=False)\n",
    "        self.V = nn.Linear(hidden_size, 1, bias=False)\n",
    "    \n",
    "    def forward(self, h_state, enc_outputs, mask):\n",
    "        \"\"\"\n",
    "        :args\n",
    "            h_state: Tensor[n_layers, batch_size, hidden_size]\n",
    "            enc_outputs: Tensor[seq_len, batch_size, hidden_size]\n",
    "            mask: Tensor[seq_len, batch_size]\n",
    "\n",
    "        :return\n",
    "            attn_weights: Tensor[seq_len, batch_size, 1]\n",
    "        \"\"\"\n",
    "        if h_state.shape[0] > 1:\n",
    "            h_state = h_state.sum(dim=0) # [batch_size, hidden_size]\n",
    "            h_state = h_state.unsqueeze(0) # [1, batch_size, hidden_size]\n",
    "            \n",
    "        # Calculating the alignment scores\n",
    "        scores = self.V(\n",
    "            torch.tanh(\n",
    "                self.W1(enc_outputs) + self.W2(h_state) # [seq_len, batch_size, hidden_size]\n",
    "            )\n",
    "        ) # [seq_len, batch_size, 1]\n",
    "        \n",
    "        # Apply mask to ignore <pad> tokens\n",
    "        mask = mask.unsqueeze(2) # [seq_len, batch_size, 1]\n",
    "        scores = scores.masked_fill(mask == 0, 1e-10)\n",
    "\n",
    "        # Calculating the attention weights by softmaxing the alignment scores\n",
    "        attn_weights = F.softmax(scores, dim=1) # [seq_len, batch_size, 1]\n",
    "        \n",
    "        return attn_weights"
   ]
  },
  {
   "cell_type": "code",
   "execution_count": 13,
   "metadata": {},
   "outputs": [
    {
     "name": "stdout",
     "output_type": "stream",
     "text": [
      "CPU times: user 165 ms, sys: 44 µs, total: 165 ms\n",
      "Wall time: 33.5 ms\n"
     ]
    }
   ],
   "source": [
    "%%time\n",
    "def test_badhanau_attn():\n",
    "    attention = BadhanauAttnLayer(hidden_size=256)\n",
    "    n_layers, batch_size, hidden_size, seq_len = 2, 128, 256, 30\n",
    "    h_state = torch.rand((n_layers, batch_size, hidden_size))\n",
    "    enc_outputs = torch.rand((seq_len, batch_size, hidden_size))\n",
    "    mask = torch.randint(low=0, high=2, size=(seq_len, batch_size))\n",
    "    attn_weights = attention(h_state=h_state, enc_outputs=enc_outputs, mask=mask)\n",
    "    assert attn_weights.size() == torch.Size([seq_len, batch_size, 1]), attn_weights.size()\n",
    "    \n",
    "test_badhanau_attn()"
   ]
  },
  {
   "cell_type": "markdown",
   "metadata": {},
   "source": [
    "## LSTM Decoder model"
   ]
  },
  {
   "cell_type": "code",
   "execution_count": 14,
   "metadata": {},
   "outputs": [],
   "source": [
    "class DecoderLSTM(nn.Module):\n",
    "    \n",
    "    def __init__(\n",
    "        self,\n",
    "        embedding_size,\n",
    "        vocab_size,\n",
    "        hidden_size,\n",
    "        n_layers,\n",
    "        dropout,\n",
    "        recurrent_dropout,\n",
    "        attention\n",
    "    ):\n",
    "        super(DecoderLSTM, self).__init__()\n",
    "        self.embedding_size = embedding_size\n",
    "        self.vocab_size = vocab_size\n",
    "        self.hidden_size = hidden_size\n",
    "        self.n_layers = n_layers\n",
    "        self.dropout = dropout\n",
    "        self.recurrent_dropout = recurrent_dropout\n",
    "        self.attention = attention\n",
    "        self.embedding = nn.Embedding(vocab_size, embedding_size)\n",
    "        self.lstm = nn.LSTM(embedding_size + hidden_size, hidden_size,\n",
    "                            num_layers=n_layers,\n",
    "                            dropout=(recurrent_dropout if n_layers > 1 else 0))\n",
    "        self.fc = nn.Linear(hidden_size, vocab_size)\n",
    "        \n",
    "    def load_pretrained_embeddings(self, embeddings):\n",
    "        self.embedding.weight = nn.Parameter(embeddings)\n",
    "        \n",
    "    def fine_tuning_embeddings(self, fine_tune=True):\n",
    "        for p in self.embedding.parameters():\n",
    "            p.requires_grad = fine_tune\n",
    "            \n",
    "    def forward(self, input_word_index, h_state, c_state, enc_outputs, mask):\n",
    "        \"\"\"\n",
    "        :params\n",
    "            input_word_index (Tensor[batch_size,])\n",
    "            h_state (Tensor[num_layers, batch_size, hidden_size])\n",
    "            c_state (Tensor[num_layers, batch_size, hidden_size])\n",
    "            enc_outputs (Tensor[seq_len, batch_size, hidden_size])\n",
    "            mask (Tensor[seq_len, batch_size])\n",
    "            \n",
    "        :return\n",
    "            logit (Tensor[batch_size, vocab_size])\n",
    "            h_state (Tensor[num_layers, batch_size, hidden_size])\n",
    "            c_state (Tensor[num_layers, batch_size, hidden_size])\n",
    "            attn_weights (Tensor[batch_size, seq_len])\n",
    "        \"\"\"\n",
    "        embedded = self.embedding(input_word_index.unsqueeze(0)) # [seq_len=1, batch_size, embedding_size]\n",
    "        embedded = F.dropout(embedded, p=self.dropout)\n",
    "        \n",
    "        # Compute Attention Weights\n",
    "        attn_weights = self.attention(h_state=h_state,\n",
    "                                      enc_outputs=enc_outputs,\n",
    "                                      mask=mask) # [seq_len, batch_size, 1]\n",
    "        \n",
    "        # Compute Context Vector\n",
    "        context_vector = torch.bmm(\n",
    "            enc_outputs.permute(1, 2, 0), # [batch_size, hidden_size, seq_len]\n",
    "            attn_weights.permute(1, 0, 2), # [batch_size, seq_len, 1]\n",
    "        ).permute(2, 0, 1) # [1, batch_size, hidden_size]\n",
    "        \n",
    "        # New input: concatenate context_vector with hidden_states\n",
    "        new_input = torch.cat((embedded, context_vector), dim=2) # [1, batch_size, hidden_size + emdedding_size]\n",
    "        \n",
    "        outputs, (h_state, c_state) = self.lstm(new_input, (h_state, c_state))\n",
    "        # outputs: [seq_len=1, batch_size, hidden_size]\n",
    "        # h_state: [n_layers, batch_size, hidden_size]\n",
    "        # c_state: [n_layers, batch_size, hidden_size]\n",
    "        \n",
    "        # Get logit\n",
    "        logit = self.fc(outputs.squeeze(0)) # [batch_size, vocab_size]\n",
    "        \n",
    "        return logit, h_state, c_state, attn_weights.squeeze(2)"
   ]
  },
  {
   "cell_type": "markdown",
   "metadata": {},
   "source": [
    "## LSTM Sequence-to-sequence model"
   ]
  },
  {
   "cell_type": "code",
   "execution_count": 15,
   "metadata": {},
   "outputs": [],
   "source": [
    "class SeqToSeqLSTM(nn.Module):\n",
    "    \n",
    "    def __init__(self, encoder, decoder, pad_index, device):\n",
    "        assert encoder.n_layers == decoder.n_layers, \\\n",
    "            'Encoder and Decoder must have the same number of reccurent layers'\n",
    "        assert encoder.hidden_size == decoder.hidden_size, \\\n",
    "            'Encoder and Decoder must have the same number of reccurrent hidden units'\n",
    "        \n",
    "        super(SeqToSeqLSTM, self).__init__()\n",
    "        self.encoder = encoder\n",
    "        self.decoder = decoder\n",
    "        self.pad_index = pad_index\n",
    "        self.init_h0 = nn.Linear(decoder.n_layers * 2, decoder.n_layers) \n",
    "        self.init_c0 = nn.Linear(decoder.n_layers * 2, decoder.n_layers)\n",
    "        self.fc = nn.Linear(2 * encoder.hidden_size, encoder.hidden_size)\n",
    "        self.device = device\n",
    "        \n",
    "    def create_mask(self, src_sequences):\n",
    "        \"\"\"\n",
    "        :params\n",
    "            src_sequences: Tensor[seq_len, batch_size]\n",
    "            \n",
    "        :return\n",
    "            mask: Tensor[seq_len, batch_size]\n",
    "        \"\"\"\n",
    "        mask = src_sequences != self.pad_index\n",
    "        return mask\n",
    "        \n",
    "    def forward(self, src_sequences, src_lengths, dest_sequences, dest_lengths, tf_ratio):\n",
    "        \"\"\"\n",
    "        :params\n",
    "            src_sequences: Tensor[seq_len, batch_size]\n",
    "            src_lengths: Tensor[batch_size,]\n",
    "            dest_sequences: Tensor[seq_len, batch_size]\n",
    "            dest_lengths: Tensor[batch_size,]\n",
    "            tf_ratio: float\n",
    "            \n",
    "        :return\n",
    "            logits: Tensor[max(decode_lengths), batch_size, vocab_size]\n",
    "            sorted_dest_sequences: Tensor[seq_len, batch_size]\n",
    "            sorted_decode_lengths: Tensor[batch_size,]\n",
    "            sorted_indices: Tensor[batch_size,]\n",
    "        \"\"\"\n",
    "        mask = self.create_mask(src_sequences) # [seq_len, batch_size]\n",
    "        \n",
    "        # Encoding\n",
    "        enc_outputs, h_state, c_state = self.encoder(\n",
    "            input_sequences=src_sequences,\n",
    "            sequence_lengths=src_lengths\n",
    "        )\n",
    "        # enc_outputs: [seq_len, batch_size, 2 * hidden_size]\n",
    "        # h_state: [n_layers * 2, batch_size, hidden_size]\n",
    "        # c_state: [n_layers * 2, batch_size, hidden_size]\n",
    "        \n",
    "        assert enc_outputs.shape[0] == mask.shape[0], f'Test 1 - {enc_outputs.shape}, {mask.shape}'\n",
    "        \n",
    "        enc_outputs = self.fc(enc_outputs)\n",
    "        # enc_outputs: [seq_len, batch_size, hidden_size]\n",
    "        \n",
    "        assert enc_outputs.shape[0] == mask.shape[0], f'Test 2 - {enc_outputs.shape}, {mask.shape}'\n",
    "        \n",
    "        # Sort the batch (dest) by decreasing lengths\n",
    "        sorted_dest_lengths, sorted_indices = torch.sort(dest_lengths, dim=0, descending=True)\n",
    "        sorted_dest_sequences = dest_sequences[:, sorted_indices]\n",
    "        enc_outputs = enc_outputs[:, sorted_indices, :]\n",
    "        h_state = h_state[:, sorted_indices, :]\n",
    "        c_state = c_state[:, sorted_indices, :]\n",
    "        \n",
    "        # Init hidden and memory states\n",
    "        h_state = self.init_h0(h_state.permute(1, 2, 0)) # [batch_size, hidden_size, n_layers]\n",
    "        c_state = self.init_c0(c_state.permute(1, 2, 0)) # [batch_size, hidden_size, n_layers]\n",
    "        h_state = h_state.permute(2, 0, 1) # [n_layers, batch_size, hidden_size]\n",
    "        c_state = c_state.permute(2, 0, 1) # [n_layers, batch_size, hidden_size]\n",
    "        \n",
    "        # We won't decode at the <eos> position, since we've finished generating as soon as we generate <eos>\n",
    "        # So, decoding lengths are actual lengths - 1\n",
    "        sorted_decode_lengths = (sorted_dest_lengths - 1).tolist()\n",
    "        \n",
    "        # Decoding\n",
    "        batch_size, last = dest_sequences.size(1), None\n",
    "        logits = torch.zeros(max(sorted_decode_lengths), batch_size, self.decoder.vocab_size).to(self.device)\n",
    "        for t in range(max(sorted_decode_lengths)):\n",
    "            batch_size_t = sum([l > t for l in sorted_decode_lengths])\n",
    "            if last is not None:\n",
    "                if random.random() < tf_ratio:\n",
    "                    in_ = last[:batch_size_t]\n",
    "                else:\n",
    "                    in_ = sorted_dest_sequences[t, :batch_size_t]\n",
    "            else:\n",
    "                in_ = sorted_dest_sequences[t, :batch_size_t]\n",
    "            # in_ [batch_size,]\n",
    "            logit, h_state, c_state, _ = self.decoder(\n",
    "                in_, \n",
    "                h_state[:, :batch_size_t, :].contiguous(),\n",
    "                c_state[:, :batch_size_t, :].contiguous(),\n",
    "                enc_outputs[:, :batch_size_t, :],\n",
    "                mask[:, :batch_size_t]\n",
    "            )\n",
    "            # logit: [batch_size, vocab_size]\n",
    "            # h_state: [num_layers, batch_size, hidden_size]\n",
    "            # c_state: [num_layers, batch_size, hidden_size]\n",
    "            logits[t, :batch_size_t, :] = logit\n",
    "            last = torch.argmax(F.softmax(logit, dim=1), dim=1) # [batch_size,]\n",
    "        \n",
    "        return logits, sorted_dest_sequences, sorted_decode_lengths, sorted_indices"
   ]
  },
  {
   "cell_type": "code",
   "execution_count": 16,
   "metadata": {},
   "outputs": [
    {
     "name": "stdout",
     "output_type": "stream",
     "text": [
      "CPU times: user 11.5 s, sys: 180 ms, total: 11.6 s\n",
      "Wall time: 1.97 s\n"
     ]
    }
   ],
   "source": [
    "%%time\n",
    "def test_seq2seq():\n",
    "    batch_size = 128\n",
    "    train_iterator, valid_iterator, test_iterator =  \\\n",
    "        BucketIterator.splits((train_data, valid_data, test_data),\n",
    "                              batch_size=batch_size,\n",
    "                              sort_key=lambda x: len(x.src),\n",
    "                              sort_within_batch=True)\n",
    "    encoder = EncoderLSTM(\n",
    "        embedding_size=300,\n",
    "        vocab_size=len(FR.vocab),\n",
    "        hidden_size=256,\n",
    "        n_layers=4,\n",
    "        dropout=0.25,\n",
    "        recurrent_dropout=0.25\n",
    "    )\n",
    "    attention = BadhanauAttnLayer(hidden_size=256)\n",
    "    decoder = DecoderLSTM(\n",
    "        embedding_size=300,\n",
    "        vocab_size=len(EN.vocab),\n",
    "        hidden_size=256,\n",
    "        n_layers=4,\n",
    "        dropout=0.25,\n",
    "        recurrent_dropout=0.25,\n",
    "        attention=attention\n",
    "    )\n",
    "    model = SeqToSeqLSTM(encoder, decoder,\n",
    "                         pad_index=EN.vocab.stoi[EN.pad_token],\n",
    "                         device='cpu')\n",
    "    for data in train_iterator:\n",
    "        logits, sorted_dest_sequences, sorted_decode_lengths, sorted_indices = \\\n",
    "            model(\n",
    "                src_sequences=data.src[0], \n",
    "                src_lengths=data.src[1],\n",
    "                dest_sequences=data.dest[0],\n",
    "                dest_lengths=data.dest[1],\n",
    "                tf_ratio=0.\n",
    "            )\n",
    "        assert logits.size() == torch.Size([\n",
    "            max(sorted_decode_lengths),\n",
    "            batch_size,\n",
    "            len(EN.vocab)\n",
    "        ]), logits.size()\n",
    "        assert sorted_dest_sequences.size() == torch.Size([\n",
    "            data.dest[0].shape[0],\n",
    "            batch_size\n",
    "        ]), sorted_dest_sequences.size()\n",
    "        assert len(sorted_decode_lengths) == batch_size, len(sorted_decode_lengths)\n",
    "        assert sorted_indices.size() == torch.Size([\n",
    "            batch_size,\n",
    "        ]), sorted_indices.size()\n",
    "        break\n",
    "        \n",
    "test_seq2seq()"
   ]
  },
  {
   "cell_type": "markdown",
   "metadata": {},
   "source": [
    "## Training routines"
   ]
  },
  {
   "cell_type": "code",
   "execution_count": 17,
   "metadata": {},
   "outputs": [],
   "source": [
    "def train_step(model, optimizer, criterion, loader, epoch, grad_clip, tf_ratio, device):\n",
    "    loss_tracker, acc_tracker = utils.AverageMeter(), utils.AverageMeter()\n",
    "    model.train()\n",
    "    pbar = tqdm.tqdm(enumerate(loader), total=len(loader))\n",
    "    for i, data in pbar:\n",
    "        # Forward prop.\n",
    "        logits, sorted_dest_sequences, sorted_decode_lengths, sorted_indices = \\\n",
    "            model(*data.src, *data.dest, tf_ratio=tf_ratio)\n",
    "        # Since we decoded starting with <sos>, the targets are all words after <sos>, up to <eos>\n",
    "        sorted_dest_sequences = sorted_dest_sequences[1:, :]\n",
    "        # Remove paddings\n",
    "        logits = nn.utils.rnn.pack_padded_sequence(\n",
    "            logits,\n",
    "            sorted_decode_lengths\n",
    "        ).data\n",
    "        sorted_dest_sequences = nn.utils.rnn.pack_padded_sequence(\n",
    "            sorted_dest_sequences,\n",
    "            sorted_decode_lengths\n",
    "        ).data\n",
    "        # Calculate loss\n",
    "        loss = criterion(logits, sorted_dest_sequences)\n",
    "        # Back prop.\n",
    "        optimizer.zero_grad()\n",
    "        loss.backward()\n",
    "        # Clip gradients\n",
    "        if grad_clip is not None:\n",
    "            torch_utils.clip_gradient(optimizer, grad_clip)\n",
    "        # Update weights\n",
    "        optimizer.step()\n",
    "        # Track metrics\n",
    "        loss_tracker.update(loss.item(), sum(sorted_decode_lengths))\n",
    "        acc_tracker.update(\n",
    "            torch_utils.accuracy(logits, sorted_dest_sequences, 5),\n",
    "            sum(sorted_decode_lengths)\n",
    "        )\n",
    "        # Update progressbar description\n",
    "        pbar.set_description(f'Epoch: {epoch + 1:03d} - loss: {loss_tracker.average:.3f} - acc: {acc_tracker.average:.3f}%')\n",
    "    return loss_tracker.average, acc_tracker.average"
   ]
  },
  {
   "cell_type": "code",
   "execution_count": 18,
   "metadata": {},
   "outputs": [],
   "source": [
    "def validate(model, criterion, loader, field, epoch, device):\n",
    "    references, hypotheses = [], []\n",
    "    loss_tracker, acc_tracker = utils.AverageMeter(), utils.AverageMeter()\n",
    "    model.eval()\n",
    "    with torch.no_grad():\n",
    "        pbar = tqdm.tqdm(enumerate(loader), total=len(loader))\n",
    "        for i, data in pbar: \n",
    "            # Forward prop.\n",
    "            logits, sorted_dest_sequences, sorted_decode_lengths, sorted_indices = \\\n",
    "                model(*data.src, *data.dest, tf_ratio=0.)\n",
    "            # Since we decoded starting with <sos>, the targets are all words after <sos>, up to <eos>\n",
    "            sorted_dest_sequences = sorted_dest_sequences[1:, :]\n",
    "            # Remove paddings\n",
    "            logits_copy = logits.clone()\n",
    "            logits = nn.utils.rnn.pack_padded_sequence(\n",
    "                logits,\n",
    "                sorted_decode_lengths\n",
    "            ).data\n",
    "            sorted_dest_sequences = nn.utils.rnn.pack_padded_sequence(\n",
    "                sorted_dest_sequences,\n",
    "                sorted_decode_lengths\n",
    "            ).data\n",
    "            # Calculate loss\n",
    "            loss = criterion(logits, sorted_dest_sequences)\n",
    "            # Track metrics\n",
    "            loss_tracker.update(loss.item(), sum(sorted_decode_lengths))\n",
    "            acc_tracker.update(\n",
    "                torch_utils.accuracy(logits, sorted_dest_sequences, 5),\n",
    "                sum(sorted_decode_lengths)\n",
    "            )\n",
    "            # Update references\n",
    "            target_sequences = data.dest[0].t()[sorted_indices]\n",
    "            for j in range(target_sequences.size(0)):\n",
    "                target_sequence = target_sequences[j].tolist()\n",
    "                reference = [\n",
    "                    field.vocab.itos[indice] \n",
    "                    for indice in target_sequence \n",
    "                    if indice not in (\n",
    "                        field.vocab.stoi[field.init_token],\n",
    "                        field.vocab.stoi[field.pad_token]\n",
    "                    )\n",
    "                ]\n",
    "                references.append([reference])\n",
    "            # Update hypotheses\n",
    "            _, preds = torch.max(logits_copy, dim=2)\n",
    "            preds = preds.t().tolist()\n",
    "            for j, p in enumerate(preds):\n",
    "                hypotheses.append([\n",
    "                    field.vocab.itos[indice] \n",
    "                    for indice in preds[j][:sorted_decode_lengths[j]] # Remove padding\n",
    "                    if indice not in (\n",
    "                        field.vocab.stoi[field.init_token],\n",
    "                        field.vocab.stoi[field.pad_token]\n",
    "                    )\n",
    "                ])\n",
    "            assert len(references) == len(hypotheses)\n",
    "            # Update progressbar description\n",
    "            pbar.set_description(f'Epoch: {epoch + 1:03d} - val_loss: {loss_tracker.average:.3f} - val_acc: {acc_tracker.average:.3f}%')\n",
    "        # Calculate BLEU-4 score\n",
    "        try:\n",
    "            bleu4 = bleu_score(hypotheses, references, max_n=4, weights=[0.25, 0.25, 0.25, 0.25])\n",
    "        except:\n",
    "            for i in range(len(hypotheses)):\n",
    "                try:\n",
    "                    print(bleu_score([hypotheses[i]], [references[i]], max_n=4, weights=[0.25, 0.25, 0.25, 0.25]), end=' ')\n",
    "                except:\n",
    "                    print(hypotheses[i])\n",
    "                    print(references[i])\n",
    "                    break\n",
    "        # Display some examples\n",
    "        for i in np.random.choice(len(loader), size=3, replace=False):\n",
    "            src, dest = ' '.join(references[i][0]), ' '.join(hypotheses[i])\n",
    "            display(HTML(f'<span style=\"color:blue\"><b>Ground truth translation:</b> {src}</span>'))\n",
    "            display(HTML(f'<span style=\"color:red\"><b>Predicted translation:</b> {dest}</span>'))\n",
    "            print('='*100)\n",
    "    return loss_tracker.average, acc_tracker.average, bleu4"
   ]
  },
  {
   "cell_type": "code",
   "execution_count": 19,
   "metadata": {},
   "outputs": [],
   "source": [
    "def train(model, optimizer, criterion, train_loader, valid_loader, field, n_epochs, grad_clip, tf_ratio, last_improv, model_name, device):\n",
    "    history, best_bleu = {\n",
    "        'acc': [],\n",
    "        'loss': [],\n",
    "        'val_acc': [],\n",
    "        'val_loss': [],\n",
    "        'bleu4': []\n",
    "    }, 0.\n",
    "    for epoch in range(n_epochs):\n",
    "         # Stop training if no improvment since last 4 epochs\n",
    "        if last_improv == 4:\n",
    "            print('Training Finished - The model has stopped improving since last 4 epochs')\n",
    "            break\n",
    "        # Decay LR if no improvment\n",
    "        if last_improv > 0:\n",
    "            torch_utils.adjust_lr(optimizer=optimizer,\n",
    "                                  shrink_factor=0.9,\n",
    "                                  verbose=True)\n",
    "        # Train step\n",
    "        loss, acc = train_step(model=model,\n",
    "                               optimizer=optimizer,\n",
    "                               criterion=criterion,\n",
    "                               loader=train_loader,\n",
    "                               epoch=epoch,\n",
    "                               grad_clip=grad_clip, \n",
    "                               tf_ratio=tf_ratio,\n",
    "                               device=device)\n",
    "        # Validation step\n",
    "        val_loss, val_acc, bleu4 = validate(model=model,\n",
    "                                            criterion=criterion,\n",
    "                                            loader=valid_loader,\n",
    "                                            field=field,\n",
    "                                            epoch=epoch,\n",
    "                                            device=device)\n",
    "        # Update history dict\n",
    "        history['acc'].append(acc)\n",
    "        history['loss'].append(loss)\n",
    "        history['val_acc'].append(val_acc)\n",
    "        history['val_loss'].append(val_loss)\n",
    "        history['bleu4'].append(bleu4)\n",
    "        # Print BLEU score\n",
    "        text = f'BLEU-4: {bleu4*100:.3f}%'\n",
    "        if bleu4 > best_bleu:\n",
    "            best_bleu, last_improv = bleu4, 0\n",
    "        else:\n",
    "            last_improv += 1\n",
    "            text += f' - Last improvement since {last_improv} epoch(s)'\n",
    "        print(text)\n",
    "        # Decrease teacher forcing rate\n",
    "        tf_ratio = torch_utils.adjust_tf(tf_ratio,\n",
    "                                         shrink_factor=0.8,\n",
    "                                         verbose=False)\n",
    "        # Save checkpoint\n",
    "        torch_utils.save_checkpoint(model=model,\n",
    "                                    optimizer=optimizer,\n",
    "                                    data_name=model_name,\n",
    "                                    epoch=epoch,\n",
    "                                    last_improv=last_improv,\n",
    "                                    bleu4=bleu4,\n",
    "                                    is_best=bleu4 >= best_bleu)\n",
    "    return history"
   ]
  },
  {
   "cell_type": "markdown",
   "metadata": {},
   "source": [
    "## Initialize models"
   ]
  },
  {
   "cell_type": "code",
   "execution_count": 20,
   "metadata": {},
   "outputs": [
    {
     "name": "stdout",
     "output_type": "stream",
     "text": [
      "CPU times: user 6.88 s, sys: 1.24 s, total: 8.11 s\n",
      "Wall time: 8.1 s\n"
     ]
    }
   ],
   "source": [
    "%%time\n",
    "# Load word vectors\n",
    "spacy_fr = spacy.load('fr_core_news_lg') # CBOW trained word vectors\n",
    "spacy_en = spacy.load('en_core_web_lg') # GloVe trained word vectors"
   ]
  },
  {
   "cell_type": "code",
   "execution_count": 21,
   "metadata": {},
   "outputs": [
    {
     "name": "stderr",
     "output_type": "stream",
     "text": [
      "100%|██████████| 12077/12077 [01:41<00:00, 119.36it/s]\n",
      "100%|██████████| 9442/9442 [01:10<00:00, 133.39it/s]\n"
     ]
    }
   ],
   "source": [
    "# Load embeddings\n",
    "fr_embeddings = torch_utils.load_embeddings(nlp=spacy_fr, field=FR)\n",
    "en_embeddings = torch_utils.load_embeddings(nlp=spacy_en, field=EN)"
   ]
  },
  {
   "cell_type": "code",
   "execution_count": 22,
   "metadata": {},
   "outputs": [],
   "source": [
    "MODEL_NAME = 'seq2seq-lstm-badhanau-attn'\n",
    "N_LAYERS = 4\n",
    "HIDDEN_SIZE = 512\n",
    "EMBEDDING_SIZE = 300\n",
    "ENC_DROPOUT = 0.3\n",
    "ENC_RECURRENT_DROPOUT = 0.25\n",
    "DEC_DROPOUT = 0.15\n",
    "DEC_RECURRENT_DROPOUT = 0.2\n",
    "N_EPOCHS = 15\n",
    "BATCH_SIZE = 64\n",
    "INIT_LR = 1e-5\n",
    "GRAD_CLIP = 1.0\n",
    "TF_RATIO = 1.0\n",
    "END_LR = 10\n",
    "N_ITERS = 100"
   ]
  },
  {
   "cell_type": "code",
   "execution_count": 23,
   "metadata": {},
   "outputs": [
    {
     "name": "stdout",
     "output_type": "stream",
     "text": [
      "Number of parameters of the model: 43,569,273\n"
     ]
    }
   ],
   "source": [
    "encoder = EncoderLSTM(embedding_size=EMBEDDING_SIZE,\n",
    "                      vocab_size=len(FR.vocab),\n",
    "                      hidden_size=HIDDEN_SIZE,\n",
    "                      n_layers=N_LAYERS,\n",
    "                      dropout=ENC_DROPOUT,\n",
    "                      recurrent_dropout=ENC_RECURRENT_DROPOUT)\n",
    "encoder.load_pretrained_embeddings(fr_embeddings)\n",
    "encoder.fine_tuning_embeddings(fine_tune=True)\n",
    "attention = BadhanauAttnLayer(hidden_size=HIDDEN_SIZE)\n",
    "decoder = DecoderLSTM(embedding_size=EMBEDDING_SIZE,\n",
    "                      vocab_size=len(EN.vocab),\n",
    "                      hidden_size=HIDDEN_SIZE,\n",
    "                      n_layers=N_LAYERS,\n",
    "                      dropout=DEC_DROPOUT,\n",
    "                      recurrent_dropout=DEC_RECURRENT_DROPOUT,\n",
    "                      attention=attention)\n",
    "decoder.load_pretrained_embeddings(en_embeddings)\n",
    "decoder.fine_tuning_embeddings(fine_tune=True)\n",
    "seq2seq = SeqToSeqLSTM(encoder=encoder,\n",
    "                       decoder=decoder,\n",
    "                       pad_index=EN.vocab.stoi[EN.pad_token],\n",
    "                       device=DEVICE)\n",
    "seq2seq.apply(torch_utils.xavier_init_weights)\n",
    "seq2seq.to(DEVICE)\n",
    "optimizer = optim.RMSprop(params=seq2seq.parameters(), lr=INIT_LR)\n",
    "criterion = nn.CrossEntropyLoss()\n",
    "print(f'Number of parameters of the model: {torch_utils.count_parameters(seq2seq):,}')"
   ]
  },
  {
   "cell_type": "code",
   "execution_count": 24,
   "metadata": {},
   "outputs": [],
   "source": [
    "train_iterator, valid_iterator, test_iterator =  \\\n",
    "        BucketIterator.splits((train_data, valid_data, test_data),\n",
    "                              batch_size=BATCH_SIZE,\n",
    "                              sort_key=lambda x: len(x.src),\n",
    "                              sort_within_batch=True,\n",
    "                              device=DEVICE)"
   ]
  },
  {
   "cell_type": "code",
   "execution_count": 25,
   "metadata": {},
   "outputs": [
    {
     "name": "stderr",
     "output_type": "stream",
     "text": [
      " 79%|███████▉  | 79/100 [00:20<00:05,  3.87it/s]\n"
     ]
    },
    {
     "name": "stdout",
     "output_type": "stream",
     "text": [
      "Stopping early, the loss has diverged!\n",
      "Learning rate search finished. See the graph with {finder_name}.plot()\n"
     ]
    }
   ],
   "source": [
    "lr_finder = LRFinder(model=seq2seq,\n",
    "                     optimizer=optimizer,\n",
    "                     criterion=criterion,\n",
    "                     grad_clip=GRAD_CLIP)\n",
    "\n",
    "lr_finder.range_test(data_loader=train_iterator,\n",
    "                     end_lr=END_LR, n_iters=N_ITERS)"
   ]
  },
  {
   "cell_type": "code",
   "execution_count": 26,
   "metadata": {},
   "outputs": [
    {
     "name": "stdout",
     "output_type": "stream",
     "text": [
      "Suggested LR (steepest gradient): 1.63E-04\n"
     ]
    },
    {
     "data": {
      "image/png": "[encoded data removed]",
      "text/plain": [
       "<Figure size 1080x360 with 1 Axes>"
      ]
     },
     "metadata": {
      "needs_background": "light"
     },
     "output_type": "display_data"
    }
   ],
   "source": [
    "fig = plt.figure(figsize=(15, 5))\n",
    "ax = fig.add_subplot(1, 1, 1)\n",
    "ax, lr = lr_finder.plot(ax=ax)\n",
    "plt.show()"
   ]
  },
  {
   "cell_type": "code",
   "execution_count": 27,
   "metadata": {},
   "outputs": [],
   "source": [
    "optimizer = optim.RMSprop(params=seq2seq.parameters(), lr=lr)"
   ]
  },
  {
   "cell_type": "code",
   "execution_count": 28,
   "metadata": {},
   "outputs": [
    {
     "name": "stderr",
     "output_type": "stream",
     "text": [
      "Epoch: 001 - loss: 5.672 - acc: 4.544%: 100%|██████████| 1263/1263 [05:23<00:00,  3.90it/s]\n",
      "Epoch: 001 - val_loss: 5.425 - val_acc: 4.948%: 100%|██████████| 71/71 [00:06<00:00, 11.07it/s]\n"
     ]
    },
    {
     "data": {
      "text/html": [
       "<span style=\"color:blue\"><b>Ground truth translation:</b> thus they are also denied access to structural funds . <eos></span>"
      ],
      "text/plain": [
       "<IPython.core.display.HTML object>"
      ]
     },
     "metadata": {},
     "output_type": "display_data"
    },
    {
     "data": {
      "text/html": [
       "<span style=\"color:red\"><b>Predicted translation:</b> they are be to the the the the . . .</span>"
      ],
      "text/plain": [
       "<IPython.core.display.HTML object>"
      ]
     },
     "metadata": {},
     "output_type": "display_data"
    },
    {
     "name": "stdout",
     "output_type": "stream",
     "text": [
      "====================================================================================================\n"
     ]
    },
    {
     "data": {
      "text/html": [
       "<span style=\"color:blue\"><b>Ground truth translation:</b> the european parliament must encourage turkey in this . <eos></span>"
      ],
      "text/plain": [
       "<IPython.core.display.HTML object>"
      ]
     },
     "metadata": {},
     "output_type": "display_data"
    },
    {
     "data": {
      "text/html": [
       "<span style=\"color:red\"><b>Predicted translation:</b> the commission the the the the the the . .</span>"
      ],
      "text/plain": [
       "<IPython.core.display.HTML object>"
      ]
     },
     "metadata": {},
     "output_type": "display_data"
    },
    {
     "name": "stdout",
     "output_type": "stream",
     "text": [
      "====================================================================================================\n"
     ]
    },
    {
     "data": {
      "text/html": [
       "<span style=\"color:blue\"><b>Ground truth translation:</b> this discussion will require all participants to stick firmly to their <unk> . <eos></span>"
      ],
      "text/plain": [
       "<IPython.core.display.HTML object>"
      ]
     },
     "metadata": {},
     "output_type": "display_data"
    },
    {
     "data": {
      "text/html": [
       "<span style=\"color:red\"><b>Predicted translation:</b> the will be to to to to the . . <eos> <eos> <eos> <eos></span>"
      ],
      "text/plain": [
       "<IPython.core.display.HTML object>"
      ]
     },
     "metadata": {},
     "output_type": "display_data"
    },
    {
     "name": "stdout",
     "output_type": "stream",
     "text": [
      "====================================================================================================\n",
      "BLEU-4: 1.180%\n"
     ]
    },
    {
     "name": "stderr",
     "output_type": "stream",
     "text": [
      "Epoch: 002 - loss: 5.288 - acc: 5.209%: 100%|██████████| 1263/1263 [05:27<00:00,  3.86it/s]\n",
      "Epoch: 002 - val_loss: 5.050 - val_acc: 5.603%: 100%|██████████| 71/71 [00:06<00:00, 11.00it/s]\n"
     ]
    },
    {
     "data": {
      "text/html": [
       "<span style=\"color:blue\"><b>Ground truth translation:</b> joint motion for a resolution on the crisis in <unk> <eos></span>"
      ],
      "text/plain": [
       "<IPython.core.display.HTML object>"
      ]
     },
     "metadata": {},
     "output_type": "display_data"
    },
    {
     "data": {
      "text/html": [
       "<span style=\"color:red\"><b>Predicted translation:</b> the report the the the of the of of . <eos></span>"
      ],
      "text/plain": [
       "<IPython.core.display.HTML object>"
      ]
     },
     "metadata": {},
     "output_type": "display_data"
    },
    {
     "name": "stdout",
     "output_type": "stream",
     "text": [
      "====================================================================================================\n"
     ]
    },
    {
     "data": {
      "text/html": [
       "<span style=\"color:blue\"><b>Ground truth translation:</b> we attached a great deal of importance to a new definition of <unk> information . <eos></span>"
      ],
      "text/plain": [
       "<IPython.core.display.HTML object>"
      ]
     },
     "metadata": {},
     "output_type": "display_data"
    },
    {
     "data": {
      "text/html": [
       "<span style=\"color:red\"><b>Predicted translation:</b> in are of a a of the of <unk> . . . . . <eos> <eos></span>"
      ],
      "text/plain": [
       "<IPython.core.display.HTML object>"
      ]
     },
     "metadata": {},
     "output_type": "display_data"
    },
    {
     "name": "stdout",
     "output_type": "stream",
     "text": [
      "====================================================================================================\n"
     ]
    },
    {
     "data": {
      "text/html": [
       "<span style=\"color:blue\"><b>Ground truth translation:</b> the commission must adopt the proposals put forward by parliament . <eos></span>"
      ],
      "text/plain": [
       "<IPython.core.display.HTML object>"
      ]
     },
     "metadata": {},
     "output_type": "display_data"
    },
    {
     "data": {
      "text/html": [
       "<span style=\"color:red\"><b>Predicted translation:</b> the commission must be to the the the commission the . <eos></span>"
      ],
      "text/plain": [
       "<IPython.core.display.HTML object>"
      ]
     },
     "metadata": {},
     "output_type": "display_data"
    },
    {
     "name": "stdout",
     "output_type": "stream",
     "text": [
      "====================================================================================================\n",
      "BLEU-4: 2.605%\n"
     ]
    },
    {
     "name": "stderr",
     "output_type": "stream",
     "text": [
      "Epoch: 003 - loss: 4.960 - acc: 5.713%: 100%|██████████| 1263/1263 [05:29<00:00,  3.84it/s]\n",
      "Epoch: 003 - val_loss: 4.552 - val_acc: 6.474%: 100%|██████████| 71/71 [00:06<00:00, 11.41it/s]\n"
     ]
    },
    {
     "data": {
      "text/html": [
       "<span style=\"color:blue\"><b>Ground truth translation:</b> as for the rest , i should just like to take note of your comment . <eos></span>"
      ],
      "text/plain": [
       "<IPython.core.display.HTML object>"
      ]
     },
     "metadata": {},
     "output_type": "display_data"
    },
    {
     "data": {
      "text/html": [
       "<span style=\"color:red\"><b>Predicted translation:</b> in , the , , i would to to to your your . your . . <eos></span>"
      ],
      "text/plain": [
       "<IPython.core.display.HTML object>"
      ]
     },
     "metadata": {},
     "output_type": "display_data"
    },
    {
     "name": "stdout",
     "output_type": "stream",
     "text": [
      "====================================================================================================\n"
     ]
    },
    {
     "data": {
      "text/html": [
       "<span style=\"color:blue\"><b>Ground truth translation:</b> we want passengers from europe to be transported safely . <eos></span>"
      ],
      "text/plain": [
       "<IPython.core.display.HTML object>"
      ]
     },
     "metadata": {},
     "output_type": "display_data"
    },
    {
     "data": {
      "text/html": [
       "<span style=\"color:red\"><b>Predicted translation:</b> we know that that the are the be to . <eos></span>"
      ],
      "text/plain": [
       "<IPython.core.display.HTML object>"
      ]
     },
     "metadata": {},
     "output_type": "display_data"
    },
    {
     "name": "stdout",
     "output_type": "stream",
     "text": [
      "====================================================================================================\n"
     ]
    },
    {
     "data": {
      "text/html": [
       "<span style=\"color:blue\"><b>Ground truth translation:</b> the intentions of the commission are essentially well - meaning , but two objections need to be raised . <eos></span>"
      ],
      "text/plain": [
       "<IPython.core.display.HTML object>"
      ]
     },
     "metadata": {},
     "output_type": "display_data"
    },
    {
     "data": {
      "text/html": [
       "<span style=\"color:red\"><b>Predicted translation:</b> the , , the commission of the to . the . . the . . . the . . <eos></span>"
      ],
      "text/plain": [
       "<IPython.core.display.HTML object>"
      ]
     },
     "metadata": {},
     "output_type": "display_data"
    },
    {
     "name": "stdout",
     "output_type": "stream",
     "text": [
      "====================================================================================================\n",
      "BLEU-4: 4.450%\n"
     ]
    },
    {
     "name": "stderr",
     "output_type": "stream",
     "text": [
      "Epoch: 004 - loss: 4.615 - acc: 6.299%: 100%|██████████| 1263/1263 [05:28<00:00,  3.85it/s]\n",
      "Epoch: 004 - val_loss: 4.213 - val_acc: 7.135%: 100%|██████████| 71/71 [00:06<00:00, 11.17it/s]\n"
     ]
    },
    {
     "data": {
      "text/html": [
       "<span style=\"color:blue\"><b>Ground truth translation:</b> joint motion for a resolution on the crisis in <unk> <eos></span>"
      ],
      "text/plain": [
       "<IPython.core.display.HTML object>"
      ]
     },
     "metadata": {},
     "output_type": "display_data"
    },
    {
     "data": {
      "text/html": [
       "<span style=\"color:red\"><b>Predicted translation:</b> the proposal on the resolution on the situation in the .</span>"
      ],
      "text/plain": [
       "<IPython.core.display.HTML object>"
      ]
     },
     "metadata": {},
     "output_type": "display_data"
    },
    {
     "name": "stdout",
     "output_type": "stream",
     "text": [
      "====================================================================================================\n"
     ]
    },
    {
     "data": {
      "text/html": [
       "<span style=\"color:blue\"><b>Ground truth translation:</b> you have to ensure that they are shown the red card . <eos></span>"
      ],
      "text/plain": [
       "<IPython.core.display.HTML object>"
      ]
     },
     "metadata": {},
     "output_type": "display_data"
    },
    {
     "data": {
      "text/html": [
       "<span style=\"color:red\"><b>Predicted translation:</b> you want to to to a have be to a <unk> . <eos></span>"
      ],
      "text/plain": [
       "<IPython.core.display.HTML object>"
      ]
     },
     "metadata": {},
     "output_type": "display_data"
    },
    {
     "name": "stdout",
     "output_type": "stream",
     "text": [
      "====================================================================================================\n"
     ]
    },
    {
     "data": {
      "text/html": [
       "<span style=\"color:blue\"><b>Ground truth translation:</b> respect for the internal market ’s competition rules . <eos></span>"
      ],
      "text/plain": [
       "<IPython.core.display.HTML object>"
      ]
     },
     "metadata": {},
     "output_type": "display_data"
    },
    {
     "data": {
      "text/html": [
       "<span style=\"color:red\"><b>Predicted translation:</b> the of the the market of market of . <eos></span>"
      ],
      "text/plain": [
       "<IPython.core.display.HTML object>"
      ]
     },
     "metadata": {},
     "output_type": "display_data"
    },
    {
     "name": "stdout",
     "output_type": "stream",
     "text": [
      "====================================================================================================\n",
      "BLEU-4: 6.407%\n"
     ]
    },
    {
     "name": "stderr",
     "output_type": "stream",
     "text": [
      "Epoch: 005 - loss: 4.326 - acc: 6.818%: 100%|██████████| 1263/1263 [05:26<00:00,  3.87it/s]\n",
      "Epoch: 005 - val_loss: 4.005 - val_acc: 7.497%: 100%|██████████| 71/71 [00:06<00:00, 10.47it/s]\n"
     ]
    },
    {
     "data": {
      "text/html": [
       "<span style=\"color:blue\"><b>Ground truth translation:</b> my question is , ' how have you done it ? ' . <eos></span>"
      ],
      "text/plain": [
       "<IPython.core.display.HTML object>"
      ]
     },
     "metadata": {},
     "output_type": "display_data"
    },
    {
     "data": {
      "text/html": [
       "<span style=\"color:red\"><b>Predicted translation:</b> my question is question you you you you to to ? <eos> ? <eos></span>"
      ],
      "text/plain": [
       "<IPython.core.display.HTML object>"
      ]
     },
     "metadata": {},
     "output_type": "display_data"
    },
    {
     "name": "stdout",
     "output_type": "stream",
     "text": [
      "====================================================================================================\n"
     ]
    },
    {
     "data": {
      "text/html": [
       "<span style=\"color:blue\"><b>Ground truth translation:</b> the special interests of the tobacco industry have prevailed for long enough . <eos></span>"
      ],
      "text/plain": [
       "<IPython.core.display.HTML object>"
      ]
     },
     "metadata": {},
     "output_type": "display_data"
    },
    {
     "data": {
      "text/html": [
       "<span style=\"color:red\"><b>Predicted translation:</b> the of of of the <unk> have are . . the . . <eos></span>"
      ],
      "text/plain": [
       "<IPython.core.display.HTML object>"
      ]
     },
     "metadata": {},
     "output_type": "display_data"
    },
    {
     "name": "stdout",
     "output_type": "stream",
     "text": [
      "====================================================================================================\n"
     ]
    },
    {
     "data": {
      "text/html": [
       "<span style=\"color:blue\"><b>Ground truth translation:</b> we continue to hope that the agreement will be ratified . <eos></span>"
      ],
      "text/plain": [
       "<IPython.core.display.HTML object>"
      ]
     },
     "metadata": {},
     "output_type": "display_data"
    },
    {
     "data": {
      "text/html": [
       "<span style=\"color:red\"><b>Predicted translation:</b> in , , that that this agreement will be be . <eos></span>"
      ],
      "text/plain": [
       "<IPython.core.display.HTML object>"
      ]
     },
     "metadata": {},
     "output_type": "display_data"
    },
    {
     "name": "stdout",
     "output_type": "stream",
     "text": [
      "====================================================================================================\n",
      "BLEU-4: 7.456%\n"
     ]
    },
    {
     "name": "stderr",
     "output_type": "stream",
     "text": [
      "Epoch: 006 - loss: 4.075 - acc: 7.282%: 100%|██████████| 1263/1263 [05:25<00:00,  3.87it/s]\n",
      "Epoch: 006 - val_loss: 3.803 - val_acc: 7.918%: 100%|██████████| 71/71 [00:06<00:00, 11.30it/s]\n"
     ]
    },
    {
     "data": {
      "text/html": [
       "<span style=\"color:blue\"><b>Ground truth translation:</b> this discussion will require all participants to stick firmly to their <unk> . <eos></span>"
      ],
      "text/plain": [
       "<IPython.core.display.HTML object>"
      ]
     },
     "metadata": {},
     "output_type": "display_data"
    },
    {
     "data": {
      "text/html": [
       "<span style=\"color:red\"><b>Predicted translation:</b> all members will be the debate to this to this this debate . <eos></span>"
      ],
      "text/plain": [
       "<IPython.core.display.HTML object>"
      ]
     },
     "metadata": {},
     "output_type": "display_data"
    },
    {
     "name": "stdout",
     "output_type": "stream",
     "text": [
      "====================================================================================================\n"
     ]
    },
    {
     "data": {
      "text/html": [
       "<span style=\"color:blue\"><b>Ground truth translation:</b> this needs to be pursued with great vigour . <eos></span>"
      ],
      "text/plain": [
       "<IPython.core.display.HTML object>"
      ]
     },
     "metadata": {},
     "output_type": "display_data"
    },
    {
     "data": {
      "text/html": [
       "<span style=\"color:red\"><b>Predicted translation:</b> we must to be to to this ambitious . <eos></span>"
      ],
      "text/plain": [
       "<IPython.core.display.HTML object>"
      ]
     },
     "metadata": {},
     "output_type": "display_data"
    },
    {
     "name": "stdout",
     "output_type": "stream",
     "text": [
      "====================================================================================================\n"
     ]
    },
    {
     "data": {
      "text/html": [
       "<span style=\"color:blue\"><b>Ground truth translation:</b> the <unk> directive is a key element of this policy . <eos></span>"
      ],
      "text/plain": [
       "<IPython.core.display.HTML object>"
      ]
     },
     "metadata": {},
     "output_type": "display_data"
    },
    {
     "data": {
      "text/html": [
       "<span style=\"color:red\"><b>Predicted translation:</b> the directive is is a important of of this policy . <eos></span>"
      ],
      "text/plain": [
       "<IPython.core.display.HTML object>"
      ]
     },
     "metadata": {},
     "output_type": "display_data"
    },
    {
     "name": "stdout",
     "output_type": "stream",
     "text": [
      "====================================================================================================\n",
      "BLEU-4: 8.849%\n"
     ]
    },
    {
     "name": "stderr",
     "output_type": "stream",
     "text": [
      "Epoch: 007 - loss: 3.840 - acc: 7.731%: 100%|██████████| 1263/1263 [05:26<00:00,  3.87it/s]\n",
      "Epoch: 007 - val_loss: 3.648 - val_acc: 8.190%: 100%|██████████| 71/71 [00:06<00:00, 10.91it/s]\n"
     ]
    },
    {
     "data": {
      "text/html": [
       "<span style=\"color:blue\"><b>Ground truth translation:</b> who will safeguard the decisions and our democracy ? <eos></span>"
      ],
      "text/plain": [
       "<IPython.core.display.HTML object>"
      ]
     },
     "metadata": {},
     "output_type": "display_data"
    },
    {
     "data": {
      "text/html": [
       "<span style=\"color:red\"><b>Predicted translation:</b> what is be the and and and security ? <eos></span>"
      ],
      "text/plain": [
       "<IPython.core.display.HTML object>"
      ]
     },
     "metadata": {},
     "output_type": "display_data"
    },
    {
     "name": "stdout",
     "output_type": "stream",
     "text": [
      "====================================================================================================\n"
     ]
    },
    {
     "data": {
      "text/html": [
       "<span style=\"color:blue\"><b>Ground truth translation:</b> <eos></span>"
      ],
      "text/plain": [
       "<IPython.core.display.HTML object>"
      ]
     },
     "metadata": {},
     "output_type": "display_data"
    },
    {
     "data": {
      "text/html": [
       "<span style=\"color:red\"><b>Predicted translation:</b> in</span>"
      ],
      "text/plain": [
       "<IPython.core.display.HTML object>"
      ]
     },
     "metadata": {},
     "output_type": "display_data"
    },
    {
     "name": "stdout",
     "output_type": "stream",
     "text": [
      "====================================================================================================\n"
     ]
    },
    {
     "data": {
      "text/html": [
       "<span style=\"color:blue\"><b>Ground truth translation:</b> there are no good arguments for it . <eos></span>"
      ],
      "text/plain": [
       "<IPython.core.display.HTML object>"
      ]
     },
     "metadata": {},
     "output_type": "display_data"
    },
    {
     "data": {
      "text/html": [
       "<span style=\"color:red\"><b>Predicted translation:</b> no is no reason reason in this . <eos></span>"
      ],
      "text/plain": [
       "<IPython.core.display.HTML object>"
      ]
     },
     "metadata": {},
     "output_type": "display_data"
    },
    {
     "name": "stdout",
     "output_type": "stream",
     "text": [
      "====================================================================================================\n",
      "BLEU-4: 9.857%\n"
     ]
    },
    {
     "name": "stderr",
     "output_type": "stream",
     "text": [
      "Epoch: 008 - loss: 3.642 - acc: 8.115%: 100%|██████████| 1263/1263 [05:27<00:00,  3.86it/s]\n",
      "Epoch: 008 - val_loss: 3.503 - val_acc: 8.508%: 100%|██████████| 71/71 [00:06<00:00, 11.06it/s]\n"
     ]
    },
    {
     "data": {
      "text/html": [
       "<span style=\"color:blue\"><b>Ground truth translation:</b> we continue to hope that the agreement will be ratified . <eos></span>"
      ],
      "text/plain": [
       "<IPython.core.display.HTML object>"
      ]
     },
     "metadata": {},
     "output_type": "display_data"
    },
    {
     "data": {
      "text/html": [
       "<span style=\"color:red\"><b>Predicted translation:</b> we also , hope that this agreement agreement be achieved . <eos></span>"
      ],
      "text/plain": [
       "<IPython.core.display.HTML object>"
      ]
     },
     "metadata": {},
     "output_type": "display_data"
    },
    {
     "name": "stdout",
     "output_type": "stream",
     "text": [
      "====================================================================================================\n"
     ]
    },
    {
     "data": {
      "text/html": [
       "<span style=\"color:blue\"><b>Ground truth translation:</b> there are no good arguments for it . <eos></span>"
      ],
      "text/plain": [
       "<IPython.core.display.HTML object>"
      ]
     },
     "metadata": {},
     "output_type": "display_data"
    },
    {
     "data": {
      "text/html": [
       "<span style=\"color:red\"><b>Predicted translation:</b> no is no reason reason in this . <eos></span>"
      ],
      "text/plain": [
       "<IPython.core.display.HTML object>"
      ]
     },
     "metadata": {},
     "output_type": "display_data"
    },
    {
     "name": "stdout",
     "output_type": "stream",
     "text": [
      "====================================================================================================\n"
     ]
    },
    {
     "data": {
      "text/html": [
       "<span style=\"color:blue\"><b>Ground truth translation:</b> you have to ensure that they are shown the red card . <eos></span>"
      ],
      "text/plain": [
       "<IPython.core.display.HTML object>"
      ]
     },
     "metadata": {},
     "output_type": "display_data"
    },
    {
     "data": {
      "text/html": [
       "<span style=\"color:red\"><b>Predicted translation:</b> you can to be that you have a a <unk> <unk> . <eos></span>"
      ],
      "text/plain": [
       "<IPython.core.display.HTML object>"
      ]
     },
     "metadata": {},
     "output_type": "display_data"
    },
    {
     "name": "stdout",
     "output_type": "stream",
     "text": [
      "====================================================================================================\n",
      "BLEU-4: 10.923%\n"
     ]
    },
    {
     "name": "stderr",
     "output_type": "stream",
     "text": [
      "Epoch: 009 - loss: 3.455 - acc: 8.474%: 100%|██████████| 1263/1263 [05:26<00:00,  3.87it/s]\n",
      "Epoch: 009 - val_loss: 3.401 - val_acc: 8.716%: 100%|██████████| 71/71 [00:06<00:00, 10.99it/s]\n"
     ]
    },
    {
     "data": {
      "text/html": [
       "<span style=\"color:blue\"><b>Ground truth translation:</b> we need to take the fears of our citizens seriously . <eos></span>"
      ],
      "text/plain": [
       "<IPython.core.display.HTML object>"
      ]
     },
     "metadata": {},
     "output_type": "display_data"
    },
    {
     "data": {
      "text/html": [
       "<span style=\"color:red\"><b>Predicted translation:</b> we must to take the the of our citizens . . <eos></span>"
      ],
      "text/plain": [
       "<IPython.core.display.HTML object>"
      ]
     },
     "metadata": {},
     "output_type": "display_data"
    },
    {
     "name": "stdout",
     "output_type": "stream",
     "text": [
      "====================================================================================================\n"
     ]
    },
    {
     "data": {
      "text/html": [
       "<span style=\"color:blue\"><b>Ground truth translation:</b> my second concern is about coordination in the member states . <eos></span>"
      ],
      "text/plain": [
       "<IPython.core.display.HTML object>"
      ]
     },
     "metadata": {},
     "output_type": "display_data"
    },
    {
     "data": {
      "text/html": [
       "<span style=\"color:red\"><b>Predicted translation:</b> my second point concerns the the in the member states . <eos></span>"
      ],
      "text/plain": [
       "<IPython.core.display.HTML object>"
      ]
     },
     "metadata": {},
     "output_type": "display_data"
    },
    {
     "name": "stdout",
     "output_type": "stream",
     "text": [
      "====================================================================================================\n"
     ]
    },
    {
     "data": {
      "text/html": [
       "<span style=\"color:blue\"><b>Ground truth translation:</b> many of their inhabitants are still living in <unk> poverty . <eos></span>"
      ],
      "text/plain": [
       "<IPython.core.display.HTML object>"
      ]
     },
     "metadata": {},
     "output_type": "display_data"
    },
    {
     "data": {
      "text/html": [
       "<span style=\"color:red\"><b>Predicted translation:</b> it of their people are still in in poverty . . <eos></span>"
      ],
      "text/plain": [
       "<IPython.core.display.HTML object>"
      ]
     },
     "metadata": {},
     "output_type": "display_data"
    },
    {
     "name": "stdout",
     "output_type": "stream",
     "text": [
      "====================================================================================================\n",
      "BLEU-4: 11.674%\n"
     ]
    },
    {
     "name": "stderr",
     "output_type": "stream",
     "text": [
      "Epoch: 010 - loss: 3.293 - acc: 8.801%: 100%|██████████| 1263/1263 [05:27<00:00,  3.86it/s]\n",
      "Epoch: 010 - val_loss: 3.312 - val_acc: 8.912%: 100%|██████████| 71/71 [00:06<00:00, 10.87it/s]\n"
     ]
    },
    {
     "data": {
      "text/html": [
       "<span style=\"color:blue\"><b>Ground truth translation:</b> why did we have to pay compliments to turkey ? <eos></span>"
      ],
      "text/plain": [
       "<IPython.core.display.HTML object>"
      ]
     },
     "metadata": {},
     "output_type": "display_data"
    },
    {
     "data": {
      "text/html": [
       "<span style=\"color:red\"><b>Predicted translation:</b> why is we be to be to to turkey to <eos></span>"
      ],
      "text/plain": [
       "<IPython.core.display.HTML object>"
      ]
     },
     "metadata": {},
     "output_type": "display_data"
    },
    {
     "name": "stdout",
     "output_type": "stream",
     "text": [
      "====================================================================================================\n"
     ]
    },
    {
     "data": {
      "text/html": [
       "<span style=\"color:blue\"><b>Ground truth translation:</b> this is something our group is very keen on . <eos></span>"
      ],
      "text/plain": [
       "<IPython.core.display.HTML object>"
      ]
     },
     "metadata": {},
     "output_type": "display_data"
    },
    {
     "data": {
      "text/html": [
       "<span style=\"color:red\"><b>Predicted translation:</b> this is a that group which a very . our <eos></span>"
      ],
      "text/plain": [
       "<IPython.core.display.HTML object>"
      ]
     },
     "metadata": {},
     "output_type": "display_data"
    },
    {
     "name": "stdout",
     "output_type": "stream",
     "text": [
      "====================================================================================================\n"
     ]
    },
    {
     "data": {
      "text/html": [
       "<span style=\"color:blue\"><b>Ground truth translation:</b> what strategy does the presidency intend to pursue in order to achieve this objective ? <eos></span>"
      ],
      "text/plain": [
       "<IPython.core.display.HTML object>"
      ]
     },
     "metadata": {},
     "output_type": "display_data"
    },
    {
     "data": {
      "text/html": [
       "<span style=\"color:red\"><b>Predicted translation:</b> what will will the strategy to to achieve this this to achieve this objective ? <eos></span>"
      ],
      "text/plain": [
       "<IPython.core.display.HTML object>"
      ]
     },
     "metadata": {},
     "output_type": "display_data"
    },
    {
     "name": "stdout",
     "output_type": "stream",
     "text": [
      "====================================================================================================\n",
      "BLEU-4: 12.654%\n"
     ]
    },
    {
     "name": "stderr",
     "output_type": "stream",
     "text": [
      "Epoch: 011 - loss: 3.141 - acc: 9.099%: 100%|██████████| 1263/1263 [05:26<00:00,  3.87it/s]\n",
      "Epoch: 011 - val_loss: 3.238 - val_acc: 9.063%: 100%|██████████| 71/71 [00:06<00:00, 11.47it/s]\n"
     ]
    },
    {
     "data": {
      "text/html": [
       "<span style=\"color:blue\"><b>Ground truth translation:</b> the <unk> directive is a key element of this policy . <eos></span>"
      ],
      "text/plain": [
       "<IPython.core.display.HTML object>"
      ]
     },
     "metadata": {},
     "output_type": "display_data"
    },
    {
     "data": {
      "text/html": [
       "<span style=\"color:red\"><b>Predicted translation:</b> the directive directive is a major part of this policy . <eos></span>"
      ],
      "text/plain": [
       "<IPython.core.display.HTML object>"
      ]
     },
     "metadata": {},
     "output_type": "display_data"
    },
    {
     "name": "stdout",
     "output_type": "stream",
     "text": [
      "====================================================================================================\n"
     ]
    },
    {
     "data": {
      "text/html": [
       "<span style=\"color:blue\"><b>Ground truth translation:</b> we attached a great deal of importance to a new definition of <unk> information . <eos></span>"
      ],
      "text/plain": [
       "<IPython.core.display.HTML object>"
      ]
     },
     "metadata": {},
     "output_type": "display_data"
    },
    {
     "data": {
      "text/html": [
       "<span style=\"color:red\"><b>Predicted translation:</b> many are many lot deal of <unk> to the new <unk> of <unk> . . <eos></span>"
      ],
      "text/plain": [
       "<IPython.core.display.HTML object>"
      ]
     },
     "metadata": {},
     "output_type": "display_data"
    },
    {
     "name": "stdout",
     "output_type": "stream",
     "text": [
      "====================================================================================================\n"
     ]
    },
    {
     "data": {
      "text/html": [
       "<span style=\"color:blue\"><b>Ground truth translation:</b> the will and the resolutions of the united nations must prevail . <eos></span>"
      ],
      "text/plain": [
       "<IPython.core.display.HTML object>"
      ]
     },
     "metadata": {},
     "output_type": "display_data"
    },
    {
     "data": {
      "text/html": [
       "<span style=\"color:red\"><b>Predicted translation:</b> the message be the un of the united nations must be . <eos></span>"
      ],
      "text/plain": [
       "<IPython.core.display.HTML object>"
      ]
     },
     "metadata": {},
     "output_type": "display_data"
    },
    {
     "name": "stdout",
     "output_type": "stream",
     "text": [
      "====================================================================================================\n",
      "BLEU-4: 13.175%\n"
     ]
    },
    {
     "name": "stderr",
     "output_type": "stream",
     "text": [
      "Epoch: 012 - loss: 3.009 - acc: 9.366%: 100%|██████████| 1263/1263 [05:25<00:00,  3.88it/s]\n",
      "Epoch: 012 - val_loss: 3.169 - val_acc: 9.214%: 100%|██████████| 71/71 [00:06<00:00, 10.72it/s]\n"
     ]
    },
    {
     "data": {
      "text/html": [
       "<span style=\"color:blue\"><b>Ground truth translation:</b> i should like to comment briefly on the proposed amendments . <eos></span>"
      ],
      "text/plain": [
       "<IPython.core.display.HTML object>"
      ]
     },
     "metadata": {},
     "output_type": "display_data"
    },
    {
     "data": {
      "text/html": [
       "<span style=\"color:red\"><b>Predicted translation:</b> i would like to comment on on the amendments amendments . <eos></span>"
      ],
      "text/plain": [
       "<IPython.core.display.HTML object>"
      ]
     },
     "metadata": {},
     "output_type": "display_data"
    },
    {
     "name": "stdout",
     "output_type": "stream",
     "text": [
      "====================================================================================================\n"
     ]
    },
    {
     "data": {
      "text/html": [
       "<span style=\"color:blue\"><b>Ground truth translation:</b> we are therefore sending a strong political message to the acp countries . <eos></span>"
      ],
      "text/plain": [
       "<IPython.core.display.HTML object>"
      ]
     },
     "metadata": {},
     "output_type": "display_data"
    },
    {
     "data": {
      "text/html": [
       "<span style=\"color:red\"><b>Predicted translation:</b> we are a a a political message message to the countries countries . <eos></span>"
      ],
      "text/plain": [
       "<IPython.core.display.HTML object>"
      ]
     },
     "metadata": {},
     "output_type": "display_data"
    },
    {
     "name": "stdout",
     "output_type": "stream",
     "text": [
      "====================================================================================================\n"
     ]
    },
    {
     "data": {
      "text/html": [
       "<span style=\"color:blue\"><b>Ground truth translation:</b> this needs to be pursued with great vigour . <eos></span>"
      ],
      "text/plain": [
       "<IPython.core.display.HTML object>"
      ]
     },
     "metadata": {},
     "output_type": "display_data"
    },
    {
     "data": {
      "text/html": [
       "<span style=\"color:red\"><b>Predicted translation:</b> we is to be made in this energy . <eos></span>"
      ],
      "text/plain": [
       "<IPython.core.display.HTML object>"
      ]
     },
     "metadata": {},
     "output_type": "display_data"
    },
    {
     "name": "stdout",
     "output_type": "stream",
     "text": [
      "====================================================================================================\n",
      "BLEU-4: 13.905%\n"
     ]
    },
    {
     "name": "stderr",
     "output_type": "stream",
     "text": [
      "Epoch: 013 - loss: 2.885 - acc: 9.614%: 100%|██████████| 1263/1263 [05:26<00:00,  3.87it/s]\n",
      "Epoch: 013 - val_loss: 3.123 - val_acc: 9.305%: 100%|██████████| 71/71 [00:06<00:00, 11.18it/s]\n"
     ]
    },
    {
     "data": {
      "text/html": [
       "<span style=\"color:blue\"><b>Ground truth translation:</b> there , too , berlin has hidden part of the truth . <eos></span>"
      ],
      "text/plain": [
       "<IPython.core.display.HTML object>"
      ]
     },
     "metadata": {},
     "output_type": "display_data"
    },
    {
     "data": {
      "text/html": [
       "<span style=\"color:red\"><b>Predicted translation:</b> in has , , has has already the of the . . <eos></span>"
      ],
      "text/plain": [
       "<IPython.core.display.HTML object>"
      ]
     },
     "metadata": {},
     "output_type": "display_data"
    },
    {
     "name": "stdout",
     "output_type": "stream",
     "text": [
      "====================================================================================================\n"
     ]
    },
    {
     "data": {
      "text/html": [
       "<span style=\"color:blue\"><b>Ground truth translation:</b> joint motion for a resolution on the crisis in <unk> <eos></span>"
      ],
      "text/plain": [
       "<IPython.core.display.HTML object>"
      ]
     },
     "metadata": {},
     "output_type": "display_data"
    },
    {
     "data": {
      "text/html": [
       "<span style=\"color:red\"><b>Predicted translation:</b> joint resolution for the resolution on the situation situation the -</span>"
      ],
      "text/plain": [
       "<IPython.core.display.HTML object>"
      ]
     },
     "metadata": {},
     "output_type": "display_data"
    },
    {
     "name": "stdout",
     "output_type": "stream",
     "text": [
      "====================================================================================================\n"
     ]
    },
    {
     "data": {
      "text/html": [
       "<span style=\"color:blue\"><b>Ground truth translation:</b> we continue to hope that the agreement will be ratified . <eos></span>"
      ],
      "text/plain": [
       "<IPython.core.display.HTML object>"
      ]
     },
     "metadata": {},
     "output_type": "display_data"
    },
    {
     "data": {
      "text/html": [
       "<span style=\"color:red\"><b>Predicted translation:</b> in also , see that this agreement will be reached . <eos></span>"
      ],
      "text/plain": [
       "<IPython.core.display.HTML object>"
      ]
     },
     "metadata": {},
     "output_type": "display_data"
    },
    {
     "name": "stdout",
     "output_type": "stream",
     "text": [
      "====================================================================================================\n",
      "BLEU-4: 14.298%\n"
     ]
    },
    {
     "name": "stderr",
     "output_type": "stream",
     "text": [
      "Epoch: 014 - loss: 2.771 - acc: 9.843%: 100%|██████████| 1263/1263 [05:27<00:00,  3.86it/s]\n",
      "Epoch: 014 - val_loss: 3.090 - val_acc: 9.371%: 100%|██████████| 71/71 [00:06<00:00, 11.03it/s]\n"
     ]
    },
    {
     "data": {
      "text/html": [
       "<span style=\"color:blue\"><b>Ground truth translation:</b> what strategy does the presidency intend to pursue in order to achieve this objective ? <eos></span>"
      ],
      "text/plain": [
       "<IPython.core.display.HTML object>"
      ]
     },
     "metadata": {},
     "output_type": "display_data"
    },
    {
     "data": {
      "text/html": [
       "<span style=\"color:red\"><b>Predicted translation:</b> what will will the strategy to to achieve this this to achieve this objective ? <eos></span>"
      ],
      "text/plain": [
       "<IPython.core.display.HTML object>"
      ]
     },
     "metadata": {},
     "output_type": "display_data"
    },
    {
     "name": "stdout",
     "output_type": "stream",
     "text": [
      "====================================================================================================\n"
     ]
    },
    {
     "data": {
      "text/html": [
       "<span style=\"color:blue\"><b>Ground truth translation:</b> you have to ensure that they are shown the red card . <eos></span>"
      ],
      "text/plain": [
       "<IPython.core.display.HTML object>"
      ]
     },
     "metadata": {},
     "output_type": "display_data"
    },
    {
     "data": {
      "text/html": [
       "<span style=\"color:red\"><b>Predicted translation:</b> you must to give that you are able a <unk> <unk> . <eos></span>"
      ],
      "text/plain": [
       "<IPython.core.display.HTML object>"
      ]
     },
     "metadata": {},
     "output_type": "display_data"
    },
    {
     "name": "stdout",
     "output_type": "stream",
     "text": [
      "====================================================================================================\n"
     ]
    },
    {
     "data": {
      "text/html": [
       "<span style=\"color:blue\"><b>Ground truth translation:</b> this mainly requires reform of agricultural policy . <eos></span>"
      ],
      "text/plain": [
       "<IPython.core.display.HTML object>"
      ]
     },
     "metadata": {},
     "output_type": "display_data"
    },
    {
     "data": {
      "text/html": [
       "<span style=\"color:red\"><b>Predicted translation:</b> this reform is a in the policy . <eos></span>"
      ],
      "text/plain": [
       "<IPython.core.display.HTML object>"
      ]
     },
     "metadata": {},
     "output_type": "display_data"
    },
    {
     "name": "stdout",
     "output_type": "stream",
     "text": [
      "====================================================================================================\n",
      "BLEU-4: 14.751%\n"
     ]
    },
    {
     "name": "stderr",
     "output_type": "stream",
     "text": [
      "Epoch: 015 - loss: 2.672 - acc: 10.045%: 100%|██████████| 1263/1263 [05:27<00:00,  3.86it/s]\n",
      "Epoch: 015 - val_loss: 3.061 - val_acc: 9.415%: 100%|██████████| 71/71 [00:06<00:00, 10.93it/s]\n"
     ]
    },
    {
     "data": {
      "text/html": [
       "<span style=\"color:blue\"><b>Ground truth translation:</b> i have to say that i simply do not understand that remark . <eos></span>"
      ],
      "text/plain": [
       "<IPython.core.display.HTML object>"
      ]
     },
     "metadata": {},
     "output_type": "display_data"
    },
    {
     "data": {
      "text/html": [
       "<span style=\"color:red\"><b>Predicted translation:</b> i must to say that i do understand not understand this . . <eos></span>"
      ],
      "text/plain": [
       "<IPython.core.display.HTML object>"
      ]
     },
     "metadata": {},
     "output_type": "display_data"
    },
    {
     "name": "stdout",
     "output_type": "stream",
     "text": [
      "====================================================================================================\n"
     ]
    },
    {
     "data": {
      "text/html": [
       "<span style=\"color:blue\"><b>Ground truth translation:</b> that will decrease the chance of damaging and unnecessary conflicts . <eos></span>"
      ],
      "text/plain": [
       "<IPython.core.display.HTML object>"
      ]
     },
     "metadata": {},
     "output_type": "display_data"
    },
    {
     "data": {
      "text/html": [
       "<span style=\"color:red\"><b>Predicted translation:</b> this will lead the risk of <unk> and <unk> conflicts of <eos></span>"
      ],
      "text/plain": [
       "<IPython.core.display.HTML object>"
      ]
     },
     "metadata": {},
     "output_type": "display_data"
    },
    {
     "name": "stdout",
     "output_type": "stream",
     "text": [
      "====================================================================================================\n"
     ]
    },
    {
     "data": {
      "text/html": [
       "<span style=\"color:blue\"><b>Ground truth translation:</b> who will safeguard the decisions and our democracy ? <eos></span>"
      ],
      "text/plain": [
       "<IPython.core.display.HTML object>"
      ]
     },
     "metadata": {},
     "output_type": "display_data"
    },
    {
     "data": {
      "text/html": [
       "<span style=\"color:red\"><b>Predicted translation:</b> is is be the decisions of democracy democracy ? <eos></span>"
      ],
      "text/plain": [
       "<IPython.core.display.HTML object>"
      ]
     },
     "metadata": {},
     "output_type": "display_data"
    },
    {
     "name": "stdout",
     "output_type": "stream",
     "text": [
      "====================================================================================================\n",
      "BLEU-4: 14.997%\n"
     ]
    }
   ],
   "source": [
    "history = train(model=seq2seq,\n",
    "                optimizer=optimizer,\n",
    "                criterion=criterion,\n",
    "                train_loader=train_iterator,\n",
    "                valid_loader=valid_iterator,\n",
    "                field=EN,\n",
    "                n_epochs=N_EPOCHS,\n",
    "                grad_clip=GRAD_CLIP,\n",
    "                tf_ratio=TF_RATIO,\n",
    "                last_improv=0,\n",
    "                model_name=MODEL_NAME,\n",
    "                device=DEVICE)"
   ]
  },
  {
   "cell_type": "code",
   "execution_count": 29,
   "metadata": {},
   "outputs": [
    {
     "data": {
      "image/png": "[encoded data removed]",
      "text/plain": [
       "<Figure size 864x360 with 2 Axes>"
      ]
     },
     "metadata": {
      "needs_background": "light"
     },
     "output_type": "display_data"
    }
   ],
   "source": [
    "_, axes = plt.subplots(1, 2, figsize=(12, 5))\n",
    "axes[0].plot(history['loss'], label='train')\n",
    "axes[0].plot(history['val_loss'], label='valid')\n",
    "axes[0].set_title('Loss history')\n",
    "axes[0].set_xlabel('Epoch')\n",
    "axes[0].set_ylabel('Loss')\n",
    "axes[0].grid(True)\n",
    "axes[0].legend()\n",
    "axes[1].plot(history['acc'], label='train')\n",
    "axes[1].plot(history['val_acc'], label='valid')\n",
    "axes[1].plot(np.array(history['bleu4']) * 100., label='BLEU-4')\n",
    "axes[1].set_title('Top-5 Accuracy & BLEU-4 history')\n",
    "axes[1].set_xlabel('Epoch')\n",
    "axes[1].set_ylabel('Accuracy & BLEU-4 (%)')\n",
    "axes[1].grid(True)\n",
    "axes[1].legend()\n",
    "plt.show()"
   ]
  },
  {
   "cell_type": "markdown",
   "metadata": {},
   "source": [
    "# Evaluation"
   ]
  },
  {
   "cell_type": "code",
   "execution_count": 30,
   "metadata": {},
   "outputs": [
    {
     "data": {
      "text/plain": [
       "<All keys matched successfully>"
      ]
     },
     "execution_count": 30,
     "metadata": {},
     "output_type": "execute_result"
    }
   ],
   "source": [
    "seq2seq.load_state_dict(torch.load(f'./checkpoint/BEST_{MODEL_NAME}.pt').get('model'))"
   ]
  },
  {
   "cell_type": "code",
   "execution_count": 31,
   "metadata": {},
   "outputs": [],
   "source": [
    "def evaluate(model, test_data, beam_size, src_field, dest_field, max_len, device):\n",
    "    src_sentences = [*map(lambda example: example.src, test_data.examples)]\n",
    "    dest_sentences = [*map(lambda example: example.dest, test_data.examples)]\n",
    "    \n",
    "    data = [*zip(\n",
    "        [*map(lambda word_list: src_field.process([word_list]), src_sentences)],\n",
    "        [*map(lambda word_list: dest_field.process([word_list]), dest_sentences)]\n",
    "    )]\n",
    "    \n",
    "    references, hypotheses, sources = [], [], []\n",
    "    model.eval()\n",
    "    with torch.no_grad():\n",
    "        pbar = tqdm.tqdm(enumerate(data), total=len(data))\n",
    "        for i, ((src_sequence, src_length), (dest_sequence, dest_length)) in pbar:\n",
    "            src_sequence, src_length = src_sequence.to(device), src_length.to(device)\n",
    "            dest_sequence, dest_length = dest_sequence.to(device), dest_length.to(device)\n",
    "            \n",
    "            # Encoding\n",
    "            enc_outputs, h_state, c_state = model.encoder(input_sequences=src_sequence,\n",
    "                                                          sequence_lengths=src_length)\n",
    "\n",
    "            enc_outputs = model.fc(enc_outputs) # [seq_len, 1, hidden_size]\n",
    "            mask = model.create_mask(src_sequence) # [seq_len, 1]\n",
    "\n",
    "            # Init hidden and memory states\n",
    "            h_state = model.init_h0(h_state.permute(1, 2, 0)) # [batch_size, hidden_size, n_layers]\n",
    "            c_state = model.init_c0(c_state.permute(1, 2, 0)) # [batch_size, hidden_size, n_layers]\n",
    "            h_state = h_state.permute(2, 0, 1) # [n_layers, batch_size, hidden_size]\n",
    "            c_state = c_state.permute(2, 0, 1) # [n_layers, batch_size, hidden_size]\n",
    "\n",
    "            # Decoding\n",
    "            tree = [[Node(\n",
    "                token=torch.LongTensor([\n",
    "                    dest_field.vocab.stoi[dest_field.init_token]\n",
    "                ]).to(device),\n",
    "                states=(h_state, c_state)\n",
    "            )]]\n",
    "            \n",
    "            for _ in range(max_len):\n",
    "                next_nodes = []\n",
    "                for node in tree[-1]:\n",
    "                    # Skip eos token\n",
    "                    if node.eos:\n",
    "                        continue\n",
    "                    # Decode\n",
    "                    logit, h_state, c_state, _ = model.decoder(\n",
    "                        input_word_index=node.token, \n",
    "                        h_state=node.states[0].contiguous(),\n",
    "                        c_state=node.states[1].contiguous(),\n",
    "                        enc_outputs=enc_outputs,\n",
    "                        mask=mask\n",
    "                    )\n",
    "                    # logit: [1, vocab_size]\n",
    "                    # h_state: [n_layers, 1, hidden_size]\n",
    "                    # c_state: [n_layers, 1, hidden_size]\n",
    "\n",
    "                    # Get scores\n",
    "                    logp = F.log_softmax(logit, dim=1).squeeze(dim=0) # [vocab_size]\n",
    "\n",
    "                    # Get top k tokens & logps\n",
    "                    topk_logps, topk_tokens = torch.topk(logp, beam_size)\n",
    "\n",
    "                    for k in range(beam_size):\n",
    "                        next_nodes.append(Node(\n",
    "                            token=topk_tokens[k, None],\n",
    "                            states=(h_state, c_state),\n",
    "                            logp=topk_logps[k, None].cpu().item(),\n",
    "                            parent=node,\n",
    "                            eos=topk_tokens[k].cpu().item() == dest_field.vocab[dest_field.eos_token]\n",
    "                        ))\n",
    "\n",
    "                if len(next_nodes) == 0:\n",
    "                    break\n",
    "\n",
    "                # Sort next_nodes to get the best\n",
    "                next_nodes = sorted(next_nodes,\n",
    "                                    key=lambda node: node.logps,\n",
    "                                    reverse=True)\n",
    "                # Update the tree\n",
    "                tree.append(next_nodes[:beam_size])\n",
    "                \n",
    "            # Find the best path of the tree\n",
    "            best_path = find_best_path(tree)\n",
    "\n",
    "            # Get the translation\n",
    "            pred_translated = [*map(lambda node: dest_field.vocab.itos[node.token], best_path)]\n",
    "            pred_translated = [*filter(lambda word: word not in [\n",
    "                dest_field.init_token, dest_field.eos_token\n",
    "            ], pred_translated[::-1])]\n",
    "\n",
    "            # Update hypotheses\n",
    "            hypotheses.append(pred_translated)\n",
    "\n",
    "            # Update references\n",
    "            references.append([[\n",
    "                dest_field.vocab.itos[indice] \n",
    "                for indice in dest_sequence \n",
    "                if indice not in (\n",
    "                    dest_field.vocab.stoi[dest_field.init_token],\n",
    "                    dest_field.vocab.stoi[dest_field.eos_token],\n",
    "                    dest_field.vocab.stoi[dest_field.pad_token]\n",
    "                )\n",
    "            ]])\n",
    "\n",
    "            # Update sources\n",
    "            sources.append([\n",
    "                src_field.vocab.itos[indice] \n",
    "                for indice in src_sequence \n",
    "                if indice not in (\n",
    "                    src_field.vocab.stoi[src_field.init_token],\n",
    "                    src_field.vocab.stoi[src_field.eos_token],\n",
    "                    src_field.vocab.stoi[src_field.pad_token]\n",
    "                )\n",
    "            ])\n",
    "    \n",
    "        # Calculate BLEU-4 score\n",
    "        assert len(hypotheses) == len(references) == len(sources)\n",
    "        bleu4 = bleu_score(hypotheses, references, max_n=4, weights=[0.25, 0.25, 0.25, 0.25])\n",
    "    \n",
    "    return hypotheses, references, sources, bleu4"
   ]
  },
  {
   "cell_type": "code",
   "execution_count": 32,
   "metadata": {},
   "outputs": [
    {
     "name": "stderr",
     "output_type": "stream",
     "text": [
      "100%|██████████| 4487/4487 [02:19<00:00, 32.08it/s]\n"
     ]
    },
    {
     "name": "stdout",
     "output_type": "stream",
     "text": [
      "Validation with beam_size=1 BLEU-4: 7.937%\n"
     ]
    }
   ],
   "source": [
    "_, _, _, bleu4 = evaluate(seq2seq.to(DEVICE),\n",
    "                          test_data=valid_data,\n",
    "                          beam_size=1,\n",
    "                          src_field=FR,\n",
    "                          dest_field=EN,\n",
    "                          max_len=MAX_LENGTH,\n",
    "                          device=DEVICE)\n",
    "print(f'Validation with beam_size=1 BLEU-4: {bleu4*100:.3f}%')"
   ]
  },
  {
   "cell_type": "code",
   "execution_count": 34,
   "metadata": {},
   "outputs": [
    {
     "name": "stderr",
     "output_type": "stream",
     "text": [
      "100%|██████████| 4488/4488 [02:18<00:00, 32.31it/s]\n"
     ]
    },
    {
     "name": "stdout",
     "output_type": "stream",
     "text": [
      "Test BLEU-4: 7.834% with beam_size=1\n"
     ]
    }
   ],
   "source": [
    "_, _, _, bleu4 = evaluate(seq2seq.to(DEVICE),\n",
    "                          test_data=test_data,\n",
    "                          beam_size=1,\n",
    "                          src_field=FR,\n",
    "                          dest_field=EN,\n",
    "                          max_len=MAX_LENGTH,\n",
    "                          device=DEVICE)\n",
    "print(f'Test BLEU-4: {bleu4*100:.3f}% with beam_size=1')"
   ]
  },
  {
   "cell_type": "code",
   "execution_count": 35,
   "metadata": {},
   "outputs": [
    {
     "name": "stderr",
     "output_type": "stream",
     "text": [
      "100%|██████████| 4487/4487 [12:12<00:00,  6.12it/s]\n"
     ]
    },
    {
     "name": "stdout",
     "output_type": "stream",
     "text": [
      "Validation with beam_size=1 BLEU-4: 8.165%\n"
     ]
    }
   ],
   "source": [
    "_, _, _, bleu4 = evaluate(seq2seq.to(DEVICE),\n",
    "                          test_data=valid_data,\n",
    "                          beam_size=5,\n",
    "                          src_field=FR,\n",
    "                          dest_field=EN,\n",
    "                          max_len=MAX_LENGTH,\n",
    "                          device=DEVICE)\n",
    "print(f'Validation with beam_size=1 BLEU-4: {bleu4*100:.3f}%')"
   ]
  },
  {
   "cell_type": "code",
   "execution_count": 36,
   "metadata": {},
   "outputs": [
    {
     "name": "stderr",
     "output_type": "stream",
     "text": [
      "100%|██████████| 4488/4488 [12:15<00:00,  6.10it/s]\n"
     ]
    },
    {
     "name": "stdout",
     "output_type": "stream",
     "text": [
      "Test with beam_size=1 BLEU-4: 8.192%\n"
     ]
    }
   ],
   "source": [
    "_, _, _, bleu4 = evaluate(seq2seq.to(DEVICE),\n",
    "                          test_data=test_data,\n",
    "                          beam_size=5,\n",
    "                          src_field=FR,\n",
    "                          dest_field=EN,\n",
    "                          max_len=MAX_LENGTH,\n",
    "                          device=DEVICE)\n",
    "print(f'Test with beam_size=1 BLEU-4: {bleu4*100:.3f}%')"
   ]
  },
  {
   "cell_type": "code",
   "execution_count": null,
   "metadata": {},
   "outputs": [],
   "source": []
  }
 ],
 "metadata": {
  "kernelspec": {
   "display_name": "Python 3",
   "language": "python",
   "name": "python3"
  },
  "language_info": {
   "codemirror_mode": {
    "name": "ipython",
    "version": 3
   },
   "file_extension": ".py",
   "mimetype": "text/x-python",
   "name": "python",
   "nbconvert_exporter": "python",
   "pygments_lexer": "ipython3",
   "version": "3.6.8"
  }
 },
 "nbformat": 4,
 "nbformat_minor": 4
}
