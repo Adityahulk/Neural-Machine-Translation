{
 "cells": [
  {
   "cell_type": "code",
   "execution_count": 1,
   "metadata": {},
   "outputs": [
    {
     "name": "stdout",
     "output_type": "stream",
     "text": [
      "Wed Aug 19 20:05:33 2020       \n",
      "+-----------------------------------------------------------------------------+\n",
      "| NVIDIA-SMI 450.36.06    Driver Version: 450.36.06    CUDA Version: 11.0     |\n",
      "|-------------------------------+----------------------+----------------------+\n",
      "| GPU  Name        Persistence-M| Bus-Id        Disp.A | Volatile Uncorr. ECC |\n",
      "| Fan  Temp  Perf  Pwr:Usage/Cap|         Memory-Usage | GPU-Util  Compute M. |\n",
      "|                               |                      |               MIG M. |\n",
      "|===============================+======================+======================|\n",
      "|   0  Quadro P5000        On   | 00000000:00:05.0 Off |                 ERR! |\n",
      "| 52%   77C    P5    12W / 180W |      1MiB / 16278MiB |      0%      Default |\n",
      "|                               |                      |                  N/A |\n",
      "+-------------------------------+----------------------+----------------------+\n",
      "                                                                               \n",
      "+-----------------------------------------------------------------------------+\n",
      "| Processes:                                                                  |\n",
      "|  GPU   GI   CI        PID   Type   Process name                  GPU Memory |\n",
      "|        ID   ID                                                   Usage      |\n",
      "|=============================================================================|\n",
      "|  No running processes found                                                 |\n",
      "+-----------------------------------------------------------------------------+\n",
      "WARNING: infoROM is corrupted at gpu 0000:00:05.0\n"
     ]
    }
   ],
   "source": [
    "!nvidia-smi"
   ]
  },
  {
   "cell_type": "markdown",
   "metadata": {},
   "source": [
    "## Import dependencies"
   ]
  },
  {
   "cell_type": "code",
   "execution_count": 2,
   "metadata": {},
   "outputs": [],
   "source": [
    "%load_ext autoreload\n",
    "%autoreload 2\n",
    "\n",
    "import os\n",
    "import tqdm\n",
    "import random\n",
    "import numpy as np\n",
    "import pandas as pd\n",
    "import matplotlib.pyplot as plt\n",
    "%matplotlib inline\n",
    "\n",
    "from IPython.core.display import display, HTML\n",
    "\n",
    "import spacy\n",
    "\n",
    "import torch\n",
    "import torch.nn as nn\n",
    "import torch.nn.functional as F\n",
    "import torch.optim as optim\n",
    "\n",
    "from torchtext.data import Example, Field, Dataset\n",
    "from torchtext.data.iterator import BucketIterator\n",
    "from torchtext.data.metrics import bleu_score\n",
    "\n",
    "import warnings\n",
    "\n",
    "import utils\n",
    "import torch_utils\n",
    "from beam_utils import Node, find_best_path"
   ]
  },
  {
   "cell_type": "code",
   "execution_count": 3,
   "metadata": {},
   "outputs": [
    {
     "name": "stdout",
     "output_type": "stream",
     "text": [
      "Device: cuda\n"
     ]
    }
   ],
   "source": [
    "warnings.simplefilter(action='ignore', category=UserWarning)\n",
    "warnings.simplefilter(action='ignore', category=FutureWarning)\n",
    "warnings.simplefilter(action='ignore', category=DeprecationWarning)\n",
    "\n",
    "SEED = 42\n",
    "random.seed(SEED)\n",
    "np.random.seed(SEED)\n",
    "torch.manual_seed(SEED)\n",
    "torch.cuda.manual_seed(SEED)\n",
    "torch.backends.cudnn.deterministic = True\n",
    "\n",
    "DEVICE = torch.device('cuda' if torch.cuda.is_available() else 'cpu')\n",
    "print(f'Device: {DEVICE}')"
   ]
  },
  {
   "cell_type": "markdown",
   "metadata": {},
   "source": [
    "## Load & clean data"
   ]
  },
  {
   "cell_type": "code",
   "execution_count": 4,
   "metadata": {},
   "outputs": [
    {
     "name": "stderr",
     "output_type": "stream",
     "text": [
      "100%|██████████| 200000/200000 [00:02<00:00, 86452.92it/s]\n",
      "100%|██████████| 200000/200000 [00:02<00:00, 91299.99it/s]\n"
     ]
    },
    {
     "name": "stdout",
     "output_type": "stream",
     "text": [
      "Number of examples after sampling: 200,000\n",
      "Example:\n",
      "\tFR => par crit. - (EN) Les conservateurs saluent l'objectif gnral vis par l'amlioration des droits des passagers et de l'accs pour les personnes handicapes et par la cration de rgles quitables pour les utilisateurs de bus internationaux, c'est pourquoi j'ai vot en faveur du rapport.\n",
      "\tEN => in writing. - Conservatives welcome the overall aim of improving passenger rights, access for the disabled and creating a level playing field for international bus users, and for this reason voted in favour of the report.\n",
      "CPU times: user 7.23 s, sys: 919 ms, total: 8.14 s\n",
      "Wall time: 8.12 s\n"
     ]
    }
   ],
   "source": [
    "%%time\n",
    "data_fr = utils.read_file('./data/europarl-v7.fr-en.fr')\n",
    "data_en = utils.read_file('./data/europarl-v7.fr-en.en')\n",
    "\n",
    "assert len(data_fr) == len(data_en)\n",
    "\n",
    "indexes = np.random.choice(range(len(data_fr)), size=200_000, replace=False)\n",
    "\n",
    "pairs = [*zip(\n",
    "    utils.clean_lines([data_fr[index] for index in indexes]),\n",
    "    utils.clean_lines([data_en[index] for index in indexes])\n",
    ")]\n",
    "pairs = [*map(lambda x: {'fr': x[0], 'en': x[1]}, pairs)]\n",
    "print(f'Number of examples after sampling: {len(pairs):,}')\n",
    "print(f'Example:\\n\\tFR => {pairs[0][\"fr\"]}\\n\\tEN => {pairs[0][\"en\"]}')"
   ]
  },
  {
   "cell_type": "markdown",
   "metadata": {},
   "source": [
    "## Build datasets"
   ]
  },
  {
   "cell_type": "code",
   "execution_count": 5,
   "metadata": {},
   "outputs": [
    {
     "data": {
      "image/png": "[encoded data removed]",
      "text/plain": [
       "<Figure size 864x360 with 2 Axes>"
      ]
     },
     "metadata": {
      "needs_background": "light"
     },
     "output_type": "display_data"
    }
   ],
   "source": [
    "len_fr = [*map(lambda pair: len(pair['fr'].split()), pairs)]\n",
    "len_en = [*map(lambda pair: len(pair['en'].split()), pairs)]\n",
    "\n",
    "_, axes = plt.subplots(1, 2, figsize=(12, 5))\n",
    "axes[0].hist([*filter(lambda x: x < 50, len_fr)])\n",
    "axes[0].grid(True)\n",
    "axes[1].hist([*filter(lambda x: x < 50, len_en)])\n",
    "axes[1].grid(True)\n",
    "plt.show()"
   ]
  },
  {
   "cell_type": "code",
   "execution_count": 6,
   "metadata": {},
   "outputs": [
    {
     "name": "stdout",
     "output_type": "stream",
     "text": [
      "Number of examples after filtering: 91,884\n",
      "CPU times: user 424 ms, sys: 0 ns, total: 424 ms\n",
      "Wall time: 424 ms\n"
     ]
    }
   ],
   "source": [
    "%%time\n",
    "MIN_LENGTH, MAX_LENGTH = 10, 25\n",
    "pairs = [*filter(lambda pair: MIN_LENGTH <= len(pair['fr'].split()) <= MAX_LENGTH and MIN_LENGTH <= len(pair['fr'].split()) <= MAX_LENGTH, pairs)]\n",
    "print(f'Number of examples after filtering: {len(pairs):,}')"
   ]
  },
  {
   "cell_type": "code",
   "execution_count": 7,
   "metadata": {},
   "outputs": [
    {
     "name": "stderr",
     "output_type": "stream",
     "text": [
      "100%|██████████| 91884/91884 [00:26<00:00, 3446.46it/s]"
     ]
    },
    {
     "name": "stdout",
     "output_type": "stream",
     "text": [
      "Number of examples: 91,884\n"
     ]
    },
    {
     "name": "stderr",
     "output_type": "stream",
     "text": [
      "\n"
     ]
    }
   ],
   "source": [
    "FR = Field(lower=True,\n",
    "           tokenize='spacy',\n",
    "           tokenizer_language='fr',\n",
    "           include_lengths=True)\n",
    "EN = Field(init_token='<sos>',\n",
    "           eos_token='<eos>',\n",
    "           lower=True,\n",
    "           tokenize='spacy',\n",
    "           tokenizer_language='en',\n",
    "           include_lengths=True)\n",
    "\n",
    "examples = [Example.fromdict(\n",
    "    data=pair,\n",
    "    fields={\n",
    "        'fr': ('src', FR),\n",
    "        'en': ('dest', EN)\n",
    "    }\n",
    ") for pair in tqdm.tqdm(pairs)]\n",
    "print(f'Number of examples: {len(examples):,}')"
   ]
  },
  {
   "cell_type": "code",
   "execution_count": 8,
   "metadata": {},
   "outputs": [
    {
     "name": "stdout",
     "output_type": "stream",
     "text": [
      "train set size: 82,696\n",
      "valid set size: 4,594\n",
      "test set size: 4,594\n",
      "{'src': [\"j'\", 'ai', 'vot', 'pour', 'la', 'recommandation', 'du', 'conseil', 'invitant', 'le', 'parlement', 'soutenir', 'la', 'conclusion', 'de', \"l'\", 'accord', 'en', 'question', '.'], 'dest': ['i', 'have', 'voted', 'in', 'favour', 'of', 'the', 'council', \"'s\", 'recommendation', 'for', 'parliament', 'to', 'support', 'the', 'conclusion', 'of', 'the', 'agreement', 'in', 'question', '.']}\n"
     ]
    }
   ],
   "source": [
    "data = Dataset(examples, fields={'src': FR, 'dest': EN})\n",
    "train_data, valid_data, test_data = data.split(split_ratio=[0.9, 0.05, 0.05])\n",
    "print(f'train set size: {len(train_data.examples):,}')\n",
    "print(f'valid set size: {len(valid_data.examples):,}')\n",
    "print(f'test set size: {len(test_data.examples):,}')\n",
    "print(vars(train_data.examples[0]))"
   ]
  },
  {
   "cell_type": "markdown",
   "metadata": {},
   "source": [
    "## Build vocabularies"
   ]
  },
  {
   "cell_type": "code",
   "execution_count": 9,
   "metadata": {},
   "outputs": [
    {
     "name": "stdout",
     "output_type": "stream",
     "text": [
      "Length of FR vocabulary: 12,280\n",
      "Length of EN vocabulary: 9,625\n",
      "CPU times: user 1.12 s, sys: 7.73 ms, total: 1.13 s\n",
      "Wall time: 1.13 s\n"
     ]
    }
   ],
   "source": [
    "%%time\n",
    "MIN_COUNT = 5\n",
    "FR.build_vocab(train_data,\n",
    "               min_freq=MIN_COUNT,\n",
    "               specials=['<unk>', '<pad>'])\n",
    "EN.build_vocab(train_data,\n",
    "               min_freq=MIN_COUNT,\n",
    "               specials=['<sos>', '<eos>', '<unk>', '<pad>'])\n",
    "print(f'Length of FR vocabulary: {len(FR.vocab):,}')\n",
    "print(f'Length of EN vocabulary: {len(EN.vocab):,}')"
   ]
  },
  {
   "cell_type": "markdown",
   "metadata": {},
   "source": [
    "## Modeling\n",
    "\n",
    "<img src=\"./img/seq2seq-details.svg\" alt=\"sequence-to-sequence details\" />\n",
    "\n",
    "### Encoder model\n"
   ]
  },
  {
   "cell_type": "code",
   "execution_count": 10,
   "metadata": {},
   "outputs": [],
   "source": [
    "class EncoderLSTM(nn.Module):\n",
    "    \n",
    "    def __init__(\n",
    "        self,\n",
    "        embedding_size,\n",
    "        vocab_size,\n",
    "        hidden_size,\n",
    "        n_layers,\n",
    "        dropout,\n",
    "        recurrent_dropout\n",
    "    ):\n",
    "        super(EncoderLSTM, self).__init__()\n",
    "        self.embedding_size = embedding_size\n",
    "        self.vocab_size = vocab_size\n",
    "        self.hidden_size = hidden_size\n",
    "        self.n_layers = n_layers\n",
    "        self.dropout = dropout\n",
    "        self.recurrent_dropout = recurrent_dropout\n",
    "        self.embedding = nn.Embedding(vocab_size, embedding_size)\n",
    "        self.lstm = nn.LSTM(embedding_size, hidden_size,\n",
    "                            num_layers=n_layers,\n",
    "                            bidirectional=True,\n",
    "                            dropout=(recurrent_dropout if n_layers > 1 else 0))\n",
    "        \n",
    "    def load_pretrained_embeddings(self, embeddings):\n",
    "        self.embedding.weight = nn.Parameter(embeddings)\n",
    "        \n",
    "    def fine_tuning_embeddings(self, fine_tune=True):\n",
    "        for p in self.embedding.parameters():\n",
    "            p.requires_grad = fine_tune\n",
    "    \n",
    "    def forward(self, input_sequences, sequence_lengths):\n",
    "        \"\"\"\n",
    "        :params\n",
    "            input_sequences: Tensor[seq_len, batch_size]\n",
    "            sequence_lengths: Tensor[batch_size,]\n",
    "            \n",
    "        :return\n",
    "            outputs: Tensor[seq_len, batch_size, 2 * hidden_size]\n",
    "            hn: Tensor[n_layers * 2, batch_size, hidden_size]\n",
    "            cn: Tensor[n_layers * 2, batch_size, hidden_size]\n",
    "        \"\"\"\n",
    "        embedded = self.embedding(input_sequences)\n",
    "        embedded = F.dropout(embedded, p=self.dropout)\n",
    "        packed = nn.utils.rnn.pack_padded_sequence(embedded, sequence_lengths)\n",
    "        outputs, (hn, cn) = self.lstm(packed)\n",
    "        outputs, _ = nn.utils.rnn.pad_packed_sequence(outputs)\n",
    "        return outputs, hn, cn"
   ]
  },
  {
   "cell_type": "code",
   "execution_count": 11,
   "metadata": {},
   "outputs": [],
   "source": [
    "def test_encoder():\n",
    "    batch_size = 128\n",
    "    train_iterator, valid_iterator, test_iterator =  \\\n",
    "        BucketIterator.splits((train_data, valid_data, test_data),\n",
    "                              batch_size=batch_size,\n",
    "                              sort_key=lambda x: len(x.src),\n",
    "                              sort_within_batch=True)\n",
    "    encoder = EncoderLSTM(\n",
    "        embedding_size=300,\n",
    "        vocab_size=len(FR.vocab),\n",
    "        hidden_size=256,\n",
    "        n_layers=4,\n",
    "        dropout=0.35,\n",
    "        recurrent_dropout=0.25\n",
    "    )\n",
    "    for data in train_iterator:\n",
    "        outputs, hn, cn = encoder(\n",
    "            input_sequences=data.src[0],\n",
    "            sequence_lengths=data.src[1]\n",
    "        )\n",
    "        seq_len = data.src[0].size(0)\n",
    "        assert outputs.size() == torch.Size([seq_len, batch_size, 2 * 256]), outputs.size()\n",
    "        assert hn.size() == torch.Size([4 * 2, batch_size, 256]), hn.size()\n",
    "        assert cn.size() == torch.Size([4 * 2, batch_size, 256]), cn.size()\n",
    "        break\n",
    "    \n",
    "test_encoder()"
   ]
  },
  {
   "cell_type": "markdown",
   "metadata": {},
   "source": [
    "### Decoder model"
   ]
  },
  {
   "cell_type": "code",
   "execution_count": 12,
   "metadata": {},
   "outputs": [],
   "source": [
    "class DecoderLSTM(nn.Module):\n",
    "    \n",
    "    def __init__(\n",
    "        self,\n",
    "        embedding_size,\n",
    "        vocab_size,\n",
    "        hidden_size,\n",
    "        n_layers,\n",
    "        dropout,\n",
    "        recurrent_dropout\n",
    "    ):\n",
    "        super(DecoderLSTM, self).__init__()\n",
    "        self.embedding_size = embedding_size\n",
    "        self.vocab_size = vocab_size\n",
    "        self.hidden_size = hidden_size\n",
    "        self.n_layers = n_layers\n",
    "        self.dropout = dropout\n",
    "        self.recurrent_dropout = recurrent_dropout\n",
    "        self.embedding = nn.Embedding(vocab_size, embedding_size)\n",
    "        self.lstm = nn.LSTM(embedding_size, hidden_size,\n",
    "                            num_layers=n_layers,\n",
    "                            dropout=(recurrent_dropout if n_layers > 1 else 0))\n",
    "        self.fc = nn.Linear(hidden_size, vocab_size)\n",
    "        \n",
    "    def load_pretrained_embeddings(self, embeddings):\n",
    "        self.embedding.weight = nn.Parameter(embeddings)\n",
    "        \n",
    "    def fine_tuning_embeddings(self, fine_tune=True):\n",
    "        for p in self.embedding.parameters():\n",
    "            p.requires_grad = fine_tune\n",
    "        \n",
    "    def forward(self, input_word_index, h_state, c_state):\n",
    "        \"\"\"\n",
    "        :params\n",
    "            input_word_index: Tensor[batch_size,]\n",
    "            h_state: Tensor[num_layers, batch_size, hidden_size]\n",
    "            c_state: Tensor[num_layers, batch_size, hidden_size]\n",
    "            \n",
    "        :return\n",
    "            logit: Tensor[batch_size, vocab_size]\n",
    "            h_state: Tensor[num_layers, batch_size, hidden_size]\n",
    "            c_state: Tensor[num_layers, batch_size, hidden_size]\n",
    "        \"\"\"\n",
    "        embedded = self.embedding(input_word_index.unsqueeze(0))\n",
    "        outputs, (h_state, c_state) = self.lstm(embedded, (h_state, c_state))\n",
    "        logit = self.fc(F.dropout(outputs, p=self.dropout))\n",
    "        logit = logit.squeeze(0)\n",
    "        return logit, h_state, c_state"
   ]
  },
  {
   "cell_type": "code",
   "execution_count": 13,
   "metadata": {},
   "outputs": [],
   "source": [
    "def test_decoder():\n",
    "    batch_size = 128\n",
    "    train_iterator, valid_iterator, test_iterator =  \\\n",
    "        BucketIterator.splits((train_data, valid_data, test_data),\n",
    "                              batch_size=batch_size,\n",
    "                              sort_key=lambda x: len(x.src),\n",
    "                              sort_within_batch=True)\n",
    "    decoder = DecoderLSTM(\n",
    "        embedding_size=300,\n",
    "        vocab_size=len(EN.vocab),\n",
    "        hidden_size=256,\n",
    "        n_layers=4,\n",
    "        dropout=0.25,\n",
    "        recurrent_dropout=0.25\n",
    "    )\n",
    "    for data in train_iterator:\n",
    "        logit, h_state, c_state = decoder(\n",
    "            input_word_index=data.dest[0][0],\n",
    "            h_state=torch.rand(4, batch_size, 256),\n",
    "            c_state=torch.rand(4, batch_size, 256)\n",
    "        )\n",
    "        assert logit.size() == torch.Size([batch_size, len(EN.vocab)]), logit.size()\n",
    "        assert h_state.size() == torch.Size([4, batch_size, 256]), h_state.size()\n",
    "        assert c_state.size() == torch.Size([4, batch_size, 256]), c_state.size()\n",
    "        break\n",
    "        \n",
    "test_decoder()"
   ]
  },
  {
   "cell_type": "markdown",
   "metadata": {},
   "source": [
    "### Sequence-to-sequence model"
   ]
  },
  {
   "cell_type": "code",
   "execution_count": 14,
   "metadata": {},
   "outputs": [],
   "source": [
    "class SeqToSeqLSTM(nn.Module):\n",
    "    \n",
    "    def __init__(self, encoder, decoder, device):\n",
    "        assert encoder.n_layers == decoder.n_layers, \\\n",
    "            'Encoder and Decoder must have the same number of reccurent layers'\n",
    "        assert encoder.hidden_size == decoder.hidden_size, \\\n",
    "            'Encoder and Decoder must have the same number of reccurrent hidden units'\n",
    "        \n",
    "        super(SeqToSeqLSTM, self).__init__()\n",
    "        self.encoder = encoder\n",
    "        self.decoder = decoder\n",
    "        self.init_h0 = nn.Linear(decoder.n_layers * 2, decoder.n_layers) \n",
    "        self.init_c0 = nn.Linear(decoder.n_layers * 2, decoder.n_layers)\n",
    "        self.device = device\n",
    "        \n",
    "    def forward(self, src_sequences, src_lengths, dest_sequences, dest_lengths, tf_ratio):\n",
    "        \"\"\"\n",
    "        :params\n",
    "            src_sequences: Tensor[seq_len, batch_size]\n",
    "            src_lengths: Tensor[batch_size,]\n",
    "            dest_sequences: Tensor[seq_len, batch_size]\n",
    "            dest_lengths: Tensor[batch_size,]\n",
    "            tf_ratio: float\n",
    "            \n",
    "        :return\n",
    "            logits: Tensor[max(decode_lengths), batch_size, vocab_size]\n",
    "            sorted_dest_sequences: Tensor[seq_len, batch_size]\n",
    "            sorted_decode_lengths: Tensor[batch_size,]\n",
    "            sorted_indices: Tensor[batch_size,]\n",
    "        \"\"\"\n",
    "        # Encoding\n",
    "        _, h_state, c_state = self.encoder(\n",
    "            input_sequences=src_sequences,\n",
    "            sequence_lengths=src_lengths\n",
    "        )\n",
    "        # h_state: [n_layers * 2, batch_size, hidden_size]\n",
    "        # c_state: [n_layers * 2, batch_size, hidden_size]\n",
    "        \n",
    "        # Sort the batch (dest) by decreasing lengths\n",
    "        sorted_dest_lengths, sorted_indices = torch.sort(dest_lengths, dim=0, descending=True)\n",
    "        sorted_dest_sequences = dest_sequences[:, sorted_indices]\n",
    "        h_state = h_state[:, sorted_indices, :]\n",
    "        c_state = c_state[:, sorted_indices, :]\n",
    "        \n",
    "        # Init hidden and memory states\n",
    "        h_state = self.init_h0(h_state.permute(1, 2, 0)) # [batch_size, hidden_size, n_layers]\n",
    "        c_state = self.init_c0(c_state.permute(1, 2, 0)) # [batch_size, hidden_size, n_layers]\n",
    "        h_state = h_state.permute(2, 0, 1) # [n_layers, batch_size, hidden_size]\n",
    "        c_state = c_state.permute(2, 0, 1) # [n_layers, batch_size, hidden_size]\n",
    "        \n",
    "        # We won't decode at the <eos> position, since we've finished generating as soon as we generate <eos>\n",
    "        # So, decoding lengths are actual lengths - 1\n",
    "        sorted_decode_lengths = (sorted_dest_lengths - 1).tolist()\n",
    "        \n",
    "        # Decoding\n",
    "        batch_size, last = dest_sequences.size(1), None\n",
    "        logits = torch.zeros(max(sorted_decode_lengths), batch_size, self.decoder.vocab_size).to(self.device)\n",
    "        for t in range(max(sorted_decode_lengths)):\n",
    "            batch_size_t = sum([l > t for l in sorted_decode_lengths])\n",
    "            if last is not None:\n",
    "                if random.random() < tf_ratio:\n",
    "                    in_ = last[:batch_size_t]\n",
    "                else:\n",
    "                    in_ = sorted_dest_sequences[t, :batch_size_t]\n",
    "            else:\n",
    "                in_ = sorted_dest_sequences[t, :batch_size_t]\n",
    "            # in_ [batch_size,]\n",
    "            logit, h_state, c_state = self.decoder(\n",
    "                in_, \n",
    "                h_state[:, :batch_size_t, :].contiguous(),\n",
    "                c_state[:, :batch_size_t, :].contiguous()\n",
    "            )\n",
    "            # logit: [batch_size, vocab_size]\n",
    "            # h_state: [num_layers, batch_size, hidden_size]\n",
    "            # c_state: [num_layers, batch_size, hidden_size]\n",
    "            logits[t, :batch_size_t, :] = logit\n",
    "            last = torch.argmax(F.softmax(logit, dim=1), dim=1) # [batch_size,]\n",
    "        \n",
    "        return logits, sorted_dest_sequences, sorted_decode_lengths, sorted_indices"
   ]
  },
  {
   "cell_type": "code",
   "execution_count": 15,
   "metadata": {},
   "outputs": [],
   "source": [
    "def test_seq2seq():\n",
    "    batch_size = 128\n",
    "    train_iterator, valid_iterator, test_iterator =  \\\n",
    "        BucketIterator.splits((train_data, valid_data, test_data),\n",
    "                              batch_size=batch_size,\n",
    "                              sort_key=lambda x: len(x.src),\n",
    "                              sort_within_batch=True)\n",
    "    encoder = EncoderLSTM(\n",
    "        embedding_size=300,\n",
    "        vocab_size=len(FR.vocab),\n",
    "        hidden_size=256,\n",
    "        n_layers=4,\n",
    "        dropout=0.25,\n",
    "        recurrent_dropout=0.25\n",
    "    )\n",
    "    decoder = DecoderLSTM(\n",
    "        embedding_size=300,\n",
    "        vocab_size=len(EN.vocab),\n",
    "        hidden_size=256,\n",
    "        n_layers=4,\n",
    "        dropout=0.25,\n",
    "        recurrent_dropout=0.25\n",
    "    )\n",
    "    model = SeqToSeqLSTM(encoder, decoder, device='cpu')\n",
    "    for data in train_iterator:\n",
    "        logits, sorted_dest_sequences, sorted_decode_lengths, sorted_indices = \\\n",
    "            model(\n",
    "                src_sequences=data.src[0], \n",
    "                src_lengths=data.src[1],\n",
    "                dest_sequences=data.dest[0],\n",
    "                dest_lengths=data.dest[1],\n",
    "                tf_ratio=0.\n",
    "            )\n",
    "        assert logits.size() == torch.Size([\n",
    "            max(sorted_decode_lengths),\n",
    "            batch_size,\n",
    "            len(EN.vocab)\n",
    "        ]), logits.size()\n",
    "        assert sorted_dest_sequences.size() == torch.Size([\n",
    "            data.dest[0].shape[0],\n",
    "            batch_size\n",
    "        ]), sorted_dest_sequences.size()\n",
    "        assert len(sorted_decode_lengths) == batch_size, len(sorted_decode_lengths)\n",
    "        assert sorted_indices.size() == torch.Size([\n",
    "            batch_size,\n",
    "        ]), sorted_indices.size()\n",
    "        break\n",
    "        \n",
    "test_seq2seq()"
   ]
  },
  {
   "cell_type": "markdown",
   "metadata": {},
   "source": [
    "### Training routines"
   ]
  },
  {
   "cell_type": "code",
   "execution_count": 16,
   "metadata": {},
   "outputs": [],
   "source": [
    "def train_step(model, optimizer, criterion, loader, epoch, grad_clip, tf_ratio, device):\n",
    "    loss_tracker, acc_tracker = utils.AverageMeter(), utils.AverageMeter()\n",
    "    model.train()\n",
    "    pbar = tqdm.tqdm(enumerate(loader), total=len(loader))\n",
    "    for i, data in pbar:\n",
    "        # Forward prop.\n",
    "        logits, sorted_dest_sequences, sorted_decode_lengths, sorted_indices = \\\n",
    "            model(*data.src, *data.dest, tf_ratio=tf_ratio)\n",
    "        # Since we decoded starting with <sos>, the targets are all words after <sos>, up to <eos>\n",
    "        sorted_dest_sequences = sorted_dest_sequences[1:, :]\n",
    "        # Remove paddings\n",
    "        logits = nn.utils.rnn.pack_padded_sequence(\n",
    "            logits,\n",
    "            sorted_decode_lengths\n",
    "        ).data\n",
    "        sorted_dest_sequences = nn.utils.rnn.pack_padded_sequence(\n",
    "            sorted_dest_sequences,\n",
    "            sorted_decode_lengths\n",
    "        ).data\n",
    "        # Calculate loss\n",
    "        loss = criterion(logits, sorted_dest_sequences)\n",
    "        # Back prop.\n",
    "        optimizer.zero_grad()\n",
    "        loss.backward()\n",
    "        # Clip gradients\n",
    "        if grad_clip is not None:\n",
    "            torch_utils.clip_gradient(optimizer, grad_clip)\n",
    "        # Update weights\n",
    "        optimizer.step()\n",
    "        # Track metrics\n",
    "        loss_tracker.update(loss.item(), sum(sorted_decode_lengths))\n",
    "        acc_tracker.update(\n",
    "            torch_utils.accuracy(logits, sorted_dest_sequences, 5),\n",
    "            sum(sorted_decode_lengths)\n",
    "        )\n",
    "        # Update progressbar description\n",
    "        pbar.set_description(f'Epoch: {epoch + 1:03d} - loss: {loss_tracker.average:.3f} - acc: {acc_tracker.average:.3f}%')\n",
    "    return loss_tracker.average, acc_tracker.average"
   ]
  },
  {
   "cell_type": "code",
   "execution_count": 17,
   "metadata": {},
   "outputs": [],
   "source": [
    "def validate(model, criterion, loader, field, epoch, device):\n",
    "    references, hypotheses = [], []\n",
    "    loss_tracker, acc_tracker = utils.AverageMeter(), utils.AverageMeter()\n",
    "    model.eval()\n",
    "    with torch.no_grad():\n",
    "        pbar = tqdm.tqdm(enumerate(loader), total=len(loader))\n",
    "        for i, data in pbar: \n",
    "            # Forward prop.\n",
    "            logits, sorted_dest_sequences, sorted_decode_lengths, sorted_indices = \\\n",
    "                model(*data.src, *data.dest, tf_ratio=0.)\n",
    "            # Since we decoded starting with <sos>, the targets are all words after <sos>, up to <eos>\n",
    "            sorted_dest_sequences = sorted_dest_sequences[1:, :]\n",
    "            # Remove paddings\n",
    "            logits_copy = logits.clone()\n",
    "            logits = nn.utils.rnn.pack_padded_sequence(\n",
    "                logits,\n",
    "                sorted_decode_lengths\n",
    "            ).data\n",
    "            sorted_dest_sequences = nn.utils.rnn.pack_padded_sequence(\n",
    "                sorted_dest_sequences,\n",
    "                sorted_decode_lengths\n",
    "            ).data\n",
    "            # Calculate loss\n",
    "            loss = criterion(logits, sorted_dest_sequences)\n",
    "            # Track metrics\n",
    "            loss_tracker.update(loss.item(), sum(sorted_decode_lengths))\n",
    "            acc_tracker.update(\n",
    "                torch_utils.accuracy(logits, sorted_dest_sequences, 5),\n",
    "                sum(sorted_decode_lengths)\n",
    "            )\n",
    "            # Update references\n",
    "            target_sequences = data.dest[0].t()[sorted_indices]\n",
    "            for j in range(target_sequences.size(0)):\n",
    "                target_sequence = target_sequences[j].tolist()\n",
    "                reference = [\n",
    "                    field.vocab.itos[indice] \n",
    "                    for indice in target_sequence \n",
    "                    if indice not in (\n",
    "                        field.vocab.stoi[field.init_token],\n",
    "                        field.vocab.stoi[field.pad_token]\n",
    "                    )\n",
    "                ]\n",
    "                references.append([reference])\n",
    "            # Update hypotheses\n",
    "            _, preds = torch.max(logits_copy, dim=2)\n",
    "            preds = preds.t().tolist()\n",
    "            for j, p in enumerate(preds):\n",
    "                hypotheses.append([\n",
    "                    field.vocab.itos[indice] \n",
    "                    for indice in preds[j][:sorted_decode_lengths[j]] # Remove padding\n",
    "                    if indice not in (\n",
    "                        field.vocab.stoi[field.init_token],\n",
    "                        field.vocab.stoi[field.pad_token]\n",
    "                    )\n",
    "                ])\n",
    "            assert len(references) == len(hypotheses)\n",
    "            # Update progressbar description\n",
    "            pbar.set_description(f'Epoch: {epoch + 1:03d} - val_loss: {loss_tracker.average:.3f} - val_acc: {acc_tracker.average:.3f}%')\n",
    "        # Calculate BLEU-4 score\n",
    "        bleu4 = bleu_score(hypotheses, references, max_n=4, weights=[0.25, 0.25, 0.25, 0.25])\n",
    "        # Display some examples\n",
    "        for i in np.random.choice(len(loader), size=3, replace=False):\n",
    "            src, dest = ' '.join(references[i][0]), ' '.join(hypotheses[i])\n",
    "            display(HTML(f'<span style=\"color:blue\"><b>Ground truth translation:</b> {src}</span>'))\n",
    "            display(HTML(f'<span style=\"color:red\"><b>Predicted translation:</b> {dest}</span>'))\n",
    "            print('='*100)\n",
    "    return loss_tracker.average, acc_tracker.average, bleu4"
   ]
  },
  {
   "cell_type": "code",
   "execution_count": 18,
   "metadata": {},
   "outputs": [],
   "source": [
    "def train(model, optimizer, criterion, train_loader, valid_loader, field, n_epochs, grad_clip, tf_ratio, last_improv, model_name, device):\n",
    "    history, best_bleu = {\n",
    "        'acc': [],\n",
    "        'loss': [],\n",
    "        'val_acc': [],\n",
    "        'val_loss': [],\n",
    "        'bleu4': []\n",
    "    }, 0.\n",
    "    for epoch in range(n_epochs):\n",
    "         # Stop training if no improvment since last 4 epochs\n",
    "        if last_improv == 4:\n",
    "            print('Training Finished - The model has stopped improving since last 4 epochs')\n",
    "            break\n",
    "        # Decay LR if no improvment\n",
    "        if last_improv > 0:\n",
    "            torch_utils.adjust_lr(optimizer=optimizer,\n",
    "                                  shrink_factor=0.9,\n",
    "                                  verbose=True)\n",
    "        # Train step\n",
    "        loss, acc = train_step(model=model,\n",
    "                               optimizer=optimizer,\n",
    "                               criterion=criterion,\n",
    "                               loader=train_loader,\n",
    "                               epoch=epoch,\n",
    "                               grad_clip=grad_clip, \n",
    "                               tf_ratio=tf_ratio,\n",
    "                               device=device)\n",
    "        # Validation step\n",
    "        val_loss, val_acc, bleu4 = validate(model=model,\n",
    "                                            criterion=criterion,\n",
    "                                            loader=valid_loader,\n",
    "                                            field=field,\n",
    "                                            epoch=epoch,\n",
    "                                            device=device)\n",
    "        # Update history dict\n",
    "        history['acc'].append(acc)\n",
    "        history['loss'].append(loss)\n",
    "        history['val_acc'].append(val_acc)\n",
    "        history['val_loss'].append(val_loss)\n",
    "        history['bleu4'].append(bleu4)\n",
    "        # Print BLEU score\n",
    "        text = f'BLEU-4: {bleu4*100:.3f}%'\n",
    "        if bleu4 > best_bleu:\n",
    "            best_bleu, last_improv = bleu4, 0\n",
    "        else:\n",
    "            last_improv += 1\n",
    "            text += f' - Last improvement since {last_improv} epoch(s)'\n",
    "        print(text)\n",
    "        # Decrease teacher forcing rate\n",
    "        tf_ratio = torch_utils.adjust_tf(tf_ratio,\n",
    "                                         shrink_factor=0.8,\n",
    "                                         verbose=False)\n",
    "        # Save checkpoint\n",
    "        torch_utils.save_checkpoint(model=model,\n",
    "                                    optimizer=optimizer,\n",
    "                                    data_name=model_name,\n",
    "                                    epoch=epoch,\n",
    "                                    last_improv=last_improv,\n",
    "                                    bleu4=bleu4,\n",
    "                                    is_best=bleu4 >= best_bleu)\n",
    "    return history"
   ]
  },
  {
   "cell_type": "markdown",
   "metadata": {},
   "source": [
    "### Init models"
   ]
  },
  {
   "cell_type": "code",
   "execution_count": 19,
   "metadata": {},
   "outputs": [
    {
     "name": "stdout",
     "output_type": "stream",
     "text": [
      "CPU times: user 7.04 s, sys: 1.21 s, total: 8.25 s\n",
      "Wall time: 8.25 s\n"
     ]
    }
   ],
   "source": [
    "%%time\n",
    "# Load word vectors\n",
    "spacy_fr = spacy.load('fr_core_news_lg') # CBOW trained word vectors\n",
    "spacy_en = spacy.load('en_core_web_lg') # GloVe trained word vectors"
   ]
  },
  {
   "cell_type": "code",
   "execution_count": 20,
   "metadata": {},
   "outputs": [
    {
     "name": "stderr",
     "output_type": "stream",
     "text": [
      "100%|██████████| 12316/12316 [01:43<00:00, 119.57it/s]\n",
      "100%|██████████| 9653/9653 [01:11<00:00, 134.92it/s]\n"
     ]
    }
   ],
   "source": [
    "# Load embeddings\n",
    "fr_embeddings = torch_utils.load_embeddings(nlp=spacy_fr, field=FR)\n",
    "en_embeddings = torch_utils.load_embeddings(nlp=spacy_en, field=EN)"
   ]
  },
  {
   "cell_type": "code",
   "execution_count": 25,
   "metadata": {},
   "outputs": [],
   "source": [
    "MODEL_NAME = 'seq2seq-lstm'\n",
    "N_LAYERS = 4\n",
    "HIDDEN_SIZE = 512\n",
    "EMBEDDING_SIZE = 300\n",
    "ENC_DROPOUT = 0.3\n",
    "ENC_RECURRENT_DROPOUT = 0.25\n",
    "DEC_DROPOUT = 0.15\n",
    "DEC_RECURRENT_DROPOUT = 0.2\n",
    "N_EPOCHS = 15\n",
    "BATCH_SIZE = 64\n",
    "LEARNING_RATE = 1e-3\n",
    "GRAD_CLIP = 1.0\n",
    "TF_RATIO = 1.0"
   ]
  },
  {
   "cell_type": "code",
   "execution_count": 26,
   "metadata": {},
   "outputs": [
    {
     "name": "stdout",
     "output_type": "stream",
     "text": [
      "Number of parameters of the model: 41,713,101\n"
     ]
    }
   ],
   "source": [
    "encoder = EncoderLSTM(\n",
    "    embedding_size=EMBEDDING_SIZE,\n",
    "    vocab_size=len(FR.vocab),\n",
    "    hidden_size=HIDDEN_SIZE,\n",
    "    n_layers=N_LAYERS,\n",
    "    dropout=ENC_DROPOUT,\n",
    "    recurrent_dropout=ENC_RECURRENT_DROPOUT\n",
    ")\n",
    "encoder.load_pretrained_embeddings(fr_embeddings)\n",
    "encoder.fine_tuning_embeddings(fine_tune=True)\n",
    "decoder = DecoderLSTM(\n",
    "    embedding_size=EMBEDDING_SIZE,\n",
    "    vocab_size=len(EN.vocab),\n",
    "    hidden_size=HIDDEN_SIZE,\n",
    "    n_layers=N_LAYERS,\n",
    "    dropout=DEC_DROPOUT,\n",
    "    recurrent_dropout=DEC_RECURRENT_DROPOUT\n",
    ")\n",
    "decoder.load_pretrained_embeddings(en_embeddings)\n",
    "decoder.fine_tuning_embeddings(fine_tune=True)\n",
    "seq2seq = SeqToSeqLSTM(encoder=encoder, decoder=decoder, device=DEVICE)\n",
    "seq2seq.apply(torch_utils.xavier_init_weights)\n",
    "seq2seq.to(DEVICE)\n",
    "optimizer = optim.RMSprop(params=seq2seq.parameters(), lr=LEARNING_RATE)\n",
    "criterion = nn.CrossEntropyLoss()\n",
    "print(f'Number of parameters of the model: {torch_utils.count_parameters(seq2seq):,}')"
   ]
  },
  {
   "cell_type": "markdown",
   "metadata": {},
   "source": [
    "### Training"
   ]
  },
  {
   "cell_type": "code",
   "execution_count": 27,
   "metadata": {},
   "outputs": [],
   "source": [
    "train_iterator, valid_iterator, test_iterator =  \\\n",
    "        BucketIterator.splits((train_data, valid_data, test_data),\n",
    "                              batch_size=BATCH_SIZE,\n",
    "                              sort_key=lambda x: len(x.src),\n",
    "                              sort_within_batch=True,\n",
    "                              device=DEVICE)"
   ]
  },
  {
   "cell_type": "code",
   "execution_count": 28,
   "metadata": {},
   "outputs": [
    {
     "name": "stderr",
     "output_type": "stream",
     "text": [
      "Epoch: 001 - loss: 5.498 - acc: 4.774%: 100%|██████████| 1293/1293 [04:43<00:00,  4.56it/s]\n",
      "Epoch: 001 - val_loss: 5.147 - val_acc: 5.298%: 100%|██████████| 72/72 [00:05<00:00, 12.37it/s]\n"
     ]
    },
    {
     "data": {
      "text/html": [
       "<span style=\"color:blue\"><b>Ground truth translation:</b> even they recognise that these deals are just not working . <eos></span>"
      ],
      "text/plain": [
       "<IPython.core.display.HTML object>"
      ]
     },
     "metadata": {},
     "output_type": "display_data"
    },
    {
     "data": {
      "text/html": [
       "<span style=\"color:red\"><b>Predicted translation:</b> it is that that that that are they . . <eos> <eos></span>"
      ],
      "text/plain": [
       "<IPython.core.display.HTML object>"
      ]
     },
     "metadata": {},
     "output_type": "display_data"
    },
    {
     "name": "stdout",
     "output_type": "stream",
     "text": [
      "====================================================================================================\n"
     ]
    },
    {
     "data": {
      "text/html": [
       "<span style=\"color:blue\"><b>Ground truth translation:</b> that may turn out to be the harder task . <eos></span>"
      ],
      "text/plain": [
       "<IPython.core.display.HTML object>"
      ]
     },
     "metadata": {},
     "output_type": "display_data"
    },
    {
     "data": {
      "text/html": [
       "<span style=\"color:red\"><b>Predicted translation:</b> this is is be to to to . . . <eos></span>"
      ],
      "text/plain": [
       "<IPython.core.display.HTML object>"
      ]
     },
     "metadata": {},
     "output_type": "display_data"
    },
    {
     "name": "stdout",
     "output_type": "stream",
     "text": [
      "====================================================================================================\n"
     ]
    },
    {
     "data": {
      "text/html": [
       "<span style=\"color:blue\"><b>Ground truth translation:</b> we have set up instruments for economic coordination . <eos></span>"
      ],
      "text/plain": [
       "<IPython.core.display.HTML object>"
      ]
     },
     "metadata": {},
     "output_type": "display_data"
    },
    {
     "data": {
      "text/html": [
       "<span style=\"color:red\"><b>Predicted translation:</b> we have have the the the the . <eos> <eos></span>"
      ],
      "text/plain": [
       "<IPython.core.display.HTML object>"
      ]
     },
     "metadata": {},
     "output_type": "display_data"
    },
    {
     "name": "stdout",
     "output_type": "stream",
     "text": [
      "====================================================================================================\n",
      "BLEU-4: 2.854%\n"
     ]
    },
    {
     "name": "stderr",
     "output_type": "stream",
     "text": [
      "Epoch: 002 - loss: 4.963 - acc: 5.601%: 100%|██████████| 1293/1293 [04:43<00:00,  4.56it/s]\n",
      "Epoch: 002 - val_loss: 4.421 - val_acc: 6.644%: 100%|██████████| 72/72 [00:05<00:00, 12.56it/s]\n"
     ]
    },
    {
     "data": {
      "text/html": [
       "<span style=\"color:blue\"><b>Ground truth translation:</b> i shall be voting against mrs schmidbauer 's report . <eos></span>"
      ],
      "text/plain": [
       "<IPython.core.display.HTML object>"
      ]
     },
     "metadata": {},
     "output_type": "display_data"
    },
    {
     "data": {
      "text/html": [
       "<span style=\"color:red\"><b>Predicted translation:</b> i therefore therefore my to the report report report report report</span>"
      ],
      "text/plain": [
       "<IPython.core.display.HTML object>"
      ]
     },
     "metadata": {},
     "output_type": "display_data"
    },
    {
     "name": "stdout",
     "output_type": "stream",
     "text": [
      "====================================================================================================\n"
     ]
    },
    {
     "data": {
      "text/html": [
       "<span style=\"color:blue\"><b>Ground truth translation:</b> we come from the richest part of the world . <eos></span>"
      ],
      "text/plain": [
       "<IPython.core.display.HTML object>"
      ]
     },
     "metadata": {},
     "output_type": "display_data"
    },
    {
     "data": {
      "text/html": [
       "<span style=\"color:red\"><b>Predicted translation:</b> we are the the the of of the world . <eos></span>"
      ],
      "text/plain": [
       "<IPython.core.display.HTML object>"
      ]
     },
     "metadata": {},
     "output_type": "display_data"
    },
    {
     "name": "stdout",
     "output_type": "stream",
     "text": [
      "====================================================================================================\n"
     ]
    },
    {
     "data": {
      "text/html": [
       "<span style=\"color:blue\"><b>Ground truth translation:</b> overall data show that the belgian performance is average . <eos></span>"
      ],
      "text/plain": [
       "<IPython.core.display.HTML object>"
      ]
     },
     "metadata": {},
     "output_type": "display_data"
    },
    {
     "data": {
      "text/html": [
       "<span style=\"color:red\"><b>Predicted translation:</b> the are are that the are are are are . .</span>"
      ],
      "text/plain": [
       "<IPython.core.display.HTML object>"
      ]
     },
     "metadata": {},
     "output_type": "display_data"
    },
    {
     "name": "stdout",
     "output_type": "stream",
     "text": [
      "====================================================================================================\n",
      "BLEU-4: 5.316%\n"
     ]
    },
    {
     "name": "stderr",
     "output_type": "stream",
     "text": [
      "Epoch: 003 - loss: 4.526 - acc: 6.330%: 100%|██████████| 1293/1293 [04:41<00:00,  4.59it/s]\n",
      "Epoch: 003 - val_loss: 4.013 - val_acc: 7.440%: 100%|██████████| 72/72 [00:05<00:00, 12.39it/s]\n"
     ]
    },
    {
     "data": {
      "text/html": [
       "<span style=\"color:blue\"><b>Ground truth translation:</b> the vote will take place on wednesday , 20 october at <unk> . <eos></span>"
      ],
      "text/plain": [
       "<IPython.core.display.HTML object>"
      ]
     },
     "metadata": {},
     "output_type": "display_data"
    },
    {
     "data": {
      "text/html": [
       "<span style=\"color:red\"><b>Predicted translation:</b> the vote will be place at 20 at 25 . . the p.m. <eos></span>"
      ],
      "text/plain": [
       "<IPython.core.display.HTML object>"
      ]
     },
     "metadata": {},
     "output_type": "display_data"
    },
    {
     "name": "stdout",
     "output_type": "stream",
     "text": [
      "====================================================================================================\n"
     ]
    },
    {
     "data": {
      "text/html": [
       "<span style=\"color:blue\"><b>Ground truth translation:</b> cities generate more than 70 % of europe 's vat . <eos></span>"
      ],
      "text/plain": [
       "<IPython.core.display.HTML object>"
      ]
     },
     "metadata": {},
     "output_type": "display_data"
    },
    {
     "data": {
      "text/html": [
       "<span style=\"color:red\"><b>Predicted translation:</b> they will than than % % of the . budget . <eos></span>"
      ],
      "text/plain": [
       "<IPython.core.display.HTML object>"
      ]
     },
     "metadata": {},
     "output_type": "display_data"
    },
    {
     "name": "stdout",
     "output_type": "stream",
     "text": [
      "====================================================================================================\n"
     ]
    },
    {
     "data": {
      "text/html": [
       "<span style=\"color:blue\"><b>Ground truth translation:</b> he has actually faced the courts for a period of five years . <eos></span>"
      ],
      "text/plain": [
       "<IPython.core.display.HTML object>"
      ]
     },
     "metadata": {},
     "output_type": "display_data"
    },
    {
     "data": {
      "text/html": [
       "<span style=\"color:red\"><b>Predicted translation:</b> it has been been for the for the . . years years . <eos></span>"
      ],
      "text/plain": [
       "<IPython.core.display.HTML object>"
      ]
     },
     "metadata": {},
     "output_type": "display_data"
    },
    {
     "name": "stdout",
     "output_type": "stream",
     "text": [
      "====================================================================================================\n",
      "BLEU-4: 7.295%\n"
     ]
    },
    {
     "name": "stderr",
     "output_type": "stream",
     "text": [
      "Epoch: 004 - loss: 4.164 - acc: 6.990%: 100%|██████████| 1293/1293 [04:49<00:00,  4.47it/s]\n",
      "Epoch: 004 - val_loss: 3.672 - val_acc: 8.113%: 100%|██████████| 72/72 [00:05<00:00, 12.50it/s]\n"
     ]
    },
    {
     "data": {
      "text/html": [
       "<span style=\"color:blue\"><b>Ground truth translation:</b> what about calling a europe - wide referendum on these priorities ? <eos></span>"
      ],
      "text/plain": [
       "<IPython.core.display.HTML object>"
      ]
     },
     "metadata": {},
     "output_type": "display_data"
    },
    {
     "data": {
      "text/html": [
       "<span style=\"color:red\"><b>Predicted translation:</b> why do the of european on europe partnership ? europe europe ? <eos></span>"
      ],
      "text/plain": [
       "<IPython.core.display.HTML object>"
      ]
     },
     "metadata": {},
     "output_type": "display_data"
    },
    {
     "name": "stdout",
     "output_type": "stream",
     "text": [
      "====================================================================================================\n"
     ]
    },
    {
     "data": {
      "text/html": [
       "<span style=\"color:blue\"><b>Ground truth translation:</b> all i do is tell people , fairly forcefully , when their time is up . the responsibility for keeping to time or otherwise lies with each and every member of this house . <eos></span>"
      ],
      "text/plain": [
       "<IPython.core.display.HTML object>"
      ]
     },
     "metadata": {},
     "output_type": "display_data"
    },
    {
     "data": {
      "text/html": [
       "<span style=\"color:red\"><b>Predicted translation:</b> the the do not the the or not <unk> . <eos> the members . not to <eos> right . the . the . <eos> . . the people . <unk> . the . . <eos></span>"
      ],
      "text/plain": [
       "<IPython.core.display.HTML object>"
      ]
     },
     "metadata": {},
     "output_type": "display_data"
    },
    {
     "name": "stdout",
     "output_type": "stream",
     "text": [
      "====================================================================================================\n"
     ]
    },
    {
     "data": {
      "text/html": [
       "<span style=\"color:blue\"><b>Ground truth translation:</b> if it were to neglect these , this would have an overall impact on the progress of talks . <eos></span>"
      ],
      "text/plain": [
       "<IPython.core.display.HTML object>"
      ]
     },
     "metadata": {},
     "output_type": "display_data"
    },
    {
     "data": {
      "text/html": [
       "<span style=\"color:red\"><b>Predicted translation:</b> a this is a a this <unk> in <unk> be the longer <unk> . the negotiations . the . <eos></span>"
      ],
      "text/plain": [
       "<IPython.core.display.HTML object>"
      ]
     },
     "metadata": {},
     "output_type": "display_data"
    },
    {
     "name": "stdout",
     "output_type": "stream",
     "text": [
      "====================================================================================================\n",
      "BLEU-4: 9.860%\n"
     ]
    },
    {
     "name": "stderr",
     "output_type": "stream",
     "text": [
      "Epoch: 005 - loss: 3.856 - acc: 7.579%: 100%|██████████| 1293/1293 [04:48<00:00,  4.48it/s]\n",
      "Epoch: 005 - val_loss: 3.456 - val_acc: 8.580%: 100%|██████████| 72/72 [00:05<00:00, 12.51it/s]\n"
     ]
    },
    {
     "data": {
      "text/html": [
       "<span style=\"color:blue\"><b>Ground truth translation:</b> we have set up instruments for economic coordination . <eos></span>"
      ],
      "text/plain": [
       "<IPython.core.display.HTML object>"
      ]
     },
     "metadata": {},
     "output_type": "display_data"
    },
    {
     "data": {
      "text/html": [
       "<span style=\"color:red\"><b>Predicted translation:</b> we have had the the in the structures . <eos></span>"
      ],
      "text/plain": [
       "<IPython.core.display.HTML object>"
      ]
     },
     "metadata": {},
     "output_type": "display_data"
    },
    {
     "name": "stdout",
     "output_type": "stream",
     "text": [
      "====================================================================================================\n"
     ]
    },
    {
     "data": {
      "text/html": [
       "<span style=\"color:blue\"><b>Ground truth translation:</b> i would now like to turn to the recommendation for second reading of my report . <eos></span>"
      ],
      "text/plain": [
       "<IPython.core.display.HTML object>"
      ]
     },
     "metadata": {},
     "output_type": "display_data"
    },
    {
     "data": {
      "text/html": [
       "<span style=\"color:red\"><b>Predicted translation:</b> i would the like to the the the second on the reading . my report . <eos></span>"
      ],
      "text/plain": [
       "<IPython.core.display.HTML object>"
      ]
     },
     "metadata": {},
     "output_type": "display_data"
    },
    {
     "name": "stdout",
     "output_type": "stream",
     "text": [
      "====================================================================================================\n"
     ]
    },
    {
     "data": {
      "text/html": [
       "<span style=\"color:blue\"><b>Ground truth translation:</b> such practices should continue to be regulated solely by this directive . <eos></span>"
      ],
      "text/plain": [
       "<IPython.core.display.HTML object>"
      ]
     },
     "metadata": {},
     "output_type": "display_data"
    },
    {
     "data": {
      "text/html": [
       "<span style=\"color:red\"><b>Predicted translation:</b> <unk> scientific should be to be implemented by by the directive . <eos></span>"
      ],
      "text/plain": [
       "<IPython.core.display.HTML object>"
      ]
     },
     "metadata": {},
     "output_type": "display_data"
    },
    {
     "name": "stdout",
     "output_type": "stream",
     "text": [
      "====================================================================================================\n",
      "BLEU-4: 11.633%\n"
     ]
    },
    {
     "name": "stderr",
     "output_type": "stream",
     "text": [
      "Epoch: 006 - loss: 3.597 - acc: 8.075%: 100%|██████████| 1293/1293 [04:47<00:00,  4.50it/s]\n",
      "Epoch: 006 - val_loss: 3.282 - val_acc: 8.909%: 100%|██████████| 72/72 [00:06<00:00, 11.15it/s]\n"
     ]
    },
    {
     "data": {
      "text/html": [
       "<span style=\"color:blue\"><b>Ground truth translation:</b> another important area is protection of the groundwater . <eos></span>"
      ],
      "text/plain": [
       "<IPython.core.display.HTML object>"
      ]
     },
     "metadata": {},
     "output_type": "display_data"
    },
    {
     "data": {
      "text/html": [
       "<span style=\"color:red\"><b>Predicted translation:</b> another important aspect is the of the . . <eos></span>"
      ],
      "text/plain": [
       "<IPython.core.display.HTML object>"
      ]
     },
     "metadata": {},
     "output_type": "display_data"
    },
    {
     "name": "stdout",
     "output_type": "stream",
     "text": [
      "====================================================================================================\n"
     ]
    },
    {
     "data": {
      "text/html": [
       "<span style=\"color:blue\"><b>Ground truth translation:</b> the fifth is the imposition of quality conditions on laboratories . <eos></span>"
      ],
      "text/plain": [
       "<IPython.core.display.HTML object>"
      ]
     },
     "metadata": {},
     "output_type": "display_data"
    },
    {
     "data": {
      "text/html": [
       "<span style=\"color:red\"><b>Predicted translation:</b> the third concerns concerns <unk> of data of . the . <eos></span>"
      ],
      "text/plain": [
       "<IPython.core.display.HTML object>"
      ]
     },
     "metadata": {},
     "output_type": "display_data"
    },
    {
     "name": "stdout",
     "output_type": "stream",
     "text": [
      "====================================================================================================\n"
     ]
    },
    {
     "data": {
      "text/html": [
       "<span style=\"color:blue\"><b>Ground truth translation:</b> who will then buy the works of unknown artists ? <eos></span>"
      ],
      "text/plain": [
       "<IPython.core.display.HTML object>"
      ]
     },
     "metadata": {},
     "output_type": "display_data"
    },
    {
     "data": {
      "text/html": [
       "<span style=\"color:red\"><b>Predicted translation:</b> so is then be the <unk> <unk> the <unk> ? <eos></span>"
      ],
      "text/plain": [
       "<IPython.core.display.HTML object>"
      ]
     },
     "metadata": {},
     "output_type": "display_data"
    },
    {
     "name": "stdout",
     "output_type": "stream",
     "text": [
      "====================================================================================================\n",
      "BLEU-4: 13.056%\n"
     ]
    },
    {
     "name": "stderr",
     "output_type": "stream",
     "text": [
      "Epoch: 007 - loss: 3.360 - acc: 8.552%: 100%|██████████| 1293/1293 [04:48<00:00,  4.48it/s]\n",
      "Epoch: 007 - val_loss: 3.190 - val_acc: 9.110%: 100%|██████████| 72/72 [00:05<00:00, 12.09it/s]\n"
     ]
    },
    {
     "data": {
      "text/html": [
       "<span style=\"color:blue\"><b>Ground truth translation:</b> the aims of science are full understanding and effective communication . <eos></span>"
      ],
      "text/plain": [
       "<IPython.core.display.HTML object>"
      ]
     },
     "metadata": {},
     "output_type": "display_data"
    },
    {
     "data": {
      "text/html": [
       "<span style=\"color:red\"><b>Predicted translation:</b> the communication is the is the and and russia . . <eos></span>"
      ],
      "text/plain": [
       "<IPython.core.display.HTML object>"
      ]
     },
     "metadata": {},
     "output_type": "display_data"
    },
    {
     "name": "stdout",
     "output_type": "stream",
     "text": [
      "====================================================================================================\n"
     ]
    },
    {
     "data": {
      "text/html": [
       "<span style=\"color:blue\"><b>Ground truth translation:</b> first of all , a geographical coverage extending to all the trans - european road network . <eos></span>"
      ],
      "text/plain": [
       "<IPython.core.display.HTML object>"
      ]
     },
     "metadata": {},
     "output_type": "display_data"
    },
    {
     "data": {
      "text/html": [
       "<span style=\"color:red\"><b>Predicted translation:</b> firstly , the , a <unk> <unk> is the the trans trans - european networks network . <eos></span>"
      ],
      "text/plain": [
       "<IPython.core.display.HTML object>"
      ]
     },
     "metadata": {},
     "output_type": "display_data"
    },
    {
     "name": "stdout",
     "output_type": "stream",
     "text": [
      "====================================================================================================\n"
     ]
    },
    {
     "data": {
      "text/html": [
       "<span style=\"color:blue\"><b>Ground truth translation:</b> such practices should continue to be regulated solely by this directive . <eos></span>"
      ],
      "text/plain": [
       "<IPython.core.display.HTML object>"
      ]
     },
     "metadata": {},
     "output_type": "display_data"
    },
    {
     "data": {
      "text/html": [
       "<span style=\"color:red\"><b>Predicted translation:</b> scientific scientific must be to be used by in this directive . <eos></span>"
      ],
      "text/plain": [
       "<IPython.core.display.HTML object>"
      ]
     },
     "metadata": {},
     "output_type": "display_data"
    },
    {
     "name": "stdout",
     "output_type": "stream",
     "text": [
      "====================================================================================================\n",
      "BLEU-4: 13.870%\n"
     ]
    },
    {
     "name": "stderr",
     "output_type": "stream",
     "text": [
      "Epoch: 008 - loss: 3.164 - acc: 8.951%: 100%|██████████| 1293/1293 [04:49<00:00,  4.47it/s]\n",
      "Epoch: 008 - val_loss: 3.089 - val_acc: 9.306%: 100%|██████████| 72/72 [00:06<00:00, 11.71it/s]\n"
     ]
    },
    {
     "data": {
      "text/html": [
       "<span style=\"color:blue\"><b>Ground truth translation:</b> i am delighted about this on this international womens day . <eos></span>"
      ],
      "text/plain": [
       "<IPython.core.display.HTML object>"
      ]
     },
     "metadata": {},
     "output_type": "display_data"
    },
    {
     "data": {
      "text/html": [
       "<span style=\"color:red\"><b>Predicted translation:</b> i am in in this year the year year campaign . <eos></span>"
      ],
      "text/plain": [
       "<IPython.core.display.HTML object>"
      ]
     },
     "metadata": {},
     "output_type": "display_data"
    },
    {
     "name": "stdout",
     "output_type": "stream",
     "text": [
      "====================================================================================================\n"
     ]
    },
    {
     "data": {
      "text/html": [
       "<span style=\"color:blue\"><b>Ground truth translation:</b> i would like once again to thank you all for the discussion . <eos></span>"
      ],
      "text/plain": [
       "<IPython.core.display.HTML object>"
      ]
     },
     "metadata": {},
     "output_type": "display_data"
    },
    {
     "data": {
      "text/html": [
       "<span style=\"color:red\"><b>Predicted translation:</b> i would like to again to thank you for for this debate . <eos></span>"
      ],
      "text/plain": [
       "<IPython.core.display.HTML object>"
      ]
     },
     "metadata": {},
     "output_type": "display_data"
    },
    {
     "name": "stdout",
     "output_type": "stream",
     "text": [
      "====================================================================================================\n"
     ]
    },
    {
     "data": {
      "text/html": [
       "<span style=\"color:blue\"><b>Ground truth translation:</b> i should like the position of this house to be made very clear . <eos></span>"
      ],
      "text/plain": [
       "<IPython.core.display.HTML object>"
      ]
     },
     "metadata": {},
     "output_type": "display_data"
    },
    {
     "data": {
      "text/html": [
       "<span style=\"color:red\"><b>Predicted translation:</b> our believe be to parliament of parliament parliament . be clear . clear . <eos></span>"
      ],
      "text/plain": [
       "<IPython.core.display.HTML object>"
      ]
     },
     "metadata": {},
     "output_type": "display_data"
    },
    {
     "name": "stdout",
     "output_type": "stream",
     "text": [
      "====================================================================================================\n",
      "BLEU-4: 14.816%\n"
     ]
    },
    {
     "name": "stderr",
     "output_type": "stream",
     "text": [
      "Epoch: 009 - loss: 3.004 - acc: 9.267%: 100%|██████████| 1293/1293 [04:49<00:00,  4.47it/s]\n",
      "Epoch: 009 - val_loss: 3.030 - val_acc: 9.444%: 100%|██████████| 72/72 [00:05<00:00, 12.12it/s]\n"
     ]
    },
    {
     "data": {
      "text/html": [
       "<span style=\"color:blue\"><b>Ground truth translation:</b> i would like once again to thank you all for the discussion . <eos></span>"
      ],
      "text/plain": [
       "<IPython.core.display.HTML object>"
      ]
     },
     "metadata": {},
     "output_type": "display_data"
    },
    {
     "data": {
      "text/html": [
       "<span style=\"color:red\"><b>Predicted translation:</b> i thank like to again to thank you for for this debate . <eos></span>"
      ],
      "text/plain": [
       "<IPython.core.display.HTML object>"
      ]
     },
     "metadata": {},
     "output_type": "display_data"
    },
    {
     "name": "stdout",
     "output_type": "stream",
     "text": [
      "====================================================================================================\n"
     ]
    },
    {
     "data": {
      "text/html": [
       "<span style=\"color:blue\"><b>Ground truth translation:</b> i rose to speak about another issue , however . <eos></span>"
      ],
      "text/plain": [
       "<IPython.core.display.HTML object>"
      ]
     },
     "metadata": {},
     "output_type": "display_data"
    },
    {
     "data": {
      "text/html": [
       "<span style=\"color:red\"><b>Predicted translation:</b> i have the hear on a point . one . <eos></span>"
      ],
      "text/plain": [
       "<IPython.core.display.HTML object>"
      ]
     },
     "metadata": {},
     "output_type": "display_data"
    },
    {
     "name": "stdout",
     "output_type": "stream",
     "text": [
      "====================================================================================================\n"
     ]
    },
    {
     "data": {
      "text/html": [
       "<span style=\"color:blue\"><b>Ground truth translation:</b> first of all , a geographical coverage extending to all the trans - european road network . <eos></span>"
      ],
      "text/plain": [
       "<IPython.core.display.HTML object>"
      ]
     },
     "metadata": {},
     "output_type": "display_data"
    },
    {
     "data": {
      "text/html": [
       "<span style=\"color:red\"><b>Predicted translation:</b> firstly , the , a <unk> provision is the the the green - european network networks . <eos></span>"
      ],
      "text/plain": [
       "<IPython.core.display.HTML object>"
      ]
     },
     "metadata": {},
     "output_type": "display_data"
    },
    {
     "name": "stdout",
     "output_type": "stream",
     "text": [
      "====================================================================================================\n",
      "BLEU-4: 15.517%\n"
     ]
    },
    {
     "name": "stderr",
     "output_type": "stream",
     "text": [
      "Epoch: 010 - loss: 2.843 - acc: 9.591%: 100%|██████████| 1293/1293 [04:47<00:00,  4.50it/s]\n",
      "Epoch: 010 - val_loss: 2.973 - val_acc: 9.567%: 100%|██████████| 72/72 [00:06<00:00, 11.83it/s]\n"
     ]
    },
    {
     "data": {
      "text/html": [
       "<span style=\"color:blue\"><b>Ground truth translation:</b> it is important to start with the parents here , too . <eos></span>"
      ],
      "text/plain": [
       "<IPython.core.display.HTML object>"
      ]
     },
     "metadata": {},
     "output_type": "display_data"
    },
    {
     "data": {
      "text/html": [
       "<span style=\"color:red\"><b>Predicted translation:</b> it is important to be with the friends who . which . <eos></span>"
      ],
      "text/plain": [
       "<IPython.core.display.HTML object>"
      ]
     },
     "metadata": {},
     "output_type": "display_data"
    },
    {
     "name": "stdout",
     "output_type": "stream",
     "text": [
      "====================================================================================================\n"
     ]
    },
    {
     "data": {
      "text/html": [
       "<span style=\"color:blue\"><b>Ground truth translation:</b> these objectives were confirmed by the council 's position . <eos></span>"
      ],
      "text/plain": [
       "<IPython.core.display.HTML object>"
      ]
     },
     "metadata": {},
     "output_type": "display_data"
    },
    {
     "data": {
      "text/html": [
       "<span style=\"color:red\"><b>Predicted translation:</b> these objectives were been by the council 's position . <eos></span>"
      ],
      "text/plain": [
       "<IPython.core.display.HTML object>"
      ]
     },
     "metadata": {},
     "output_type": "display_data"
    },
    {
     "name": "stdout",
     "output_type": "stream",
     "text": [
      "====================================================================================================\n"
     ]
    },
    {
     "data": {
      "text/html": [
       "<span style=\"color:blue\"><b>Ground truth translation:</b> however , in - court proceedings should not be ruled out altogether . <eos></span>"
      ],
      "text/plain": [
       "<IPython.core.display.HTML object>"
      ]
     },
     "metadata": {},
     "output_type": "display_data"
    },
    {
     "data": {
      "text/html": [
       "<span style=\"color:red\"><b>Predicted translation:</b> however , the the office , , not be the by . . <eos></span>"
      ],
      "text/plain": [
       "<IPython.core.display.HTML object>"
      ]
     },
     "metadata": {},
     "output_type": "display_data"
    },
    {
     "name": "stdout",
     "output_type": "stream",
     "text": [
      "====================================================================================================\n",
      "BLEU-4: 16.108%\n"
     ]
    },
    {
     "name": "stderr",
     "output_type": "stream",
     "text": [
      "Epoch: 011 - loss: 2.719 - acc: 9.841%: 100%|██████████| 1293/1293 [04:47<00:00,  4.50it/s]\n",
      "Epoch: 011 - val_loss: 2.940 - val_acc: 9.659%: 100%|██████████| 72/72 [00:05<00:00, 12.02it/s]\n"
     ]
    },
    {
     "data": {
      "text/html": [
       "<span style=\"color:blue\"><b>Ground truth translation:</b> i would urge colleagues to give them a positive vote tomorrow . <eos></span>"
      ],
      "text/plain": [
       "<IPython.core.display.HTML object>"
      ]
     },
     "metadata": {},
     "output_type": "display_data"
    },
    {
     "data": {
      "text/html": [
       "<span style=\"color:red\"><b>Predicted translation:</b> i would like the to vote the the vote vote tomorrow . <eos></span>"
      ],
      "text/plain": [
       "<IPython.core.display.HTML object>"
      ]
     },
     "metadata": {},
     "output_type": "display_data"
    },
    {
     "name": "stdout",
     "output_type": "stream",
     "text": [
      "====================================================================================================\n"
     ]
    },
    {
     "data": {
      "text/html": [
       "<span style=\"color:blue\"><b>Ground truth translation:</b> only a referendum will show whether the danish population wants this to happen . <eos></span>"
      ],
      "text/plain": [
       "<IPython.core.display.HTML object>"
      ]
     },
     "metadata": {},
     "output_type": "display_data"
    },
    {
     "data": {
      "text/html": [
       "<span style=\"color:red\"><b>Predicted translation:</b> only one referendum will be the the people people wishes . . be . <eos></span>"
      ],
      "text/plain": [
       "<IPython.core.display.HTML object>"
      ]
     },
     "metadata": {},
     "output_type": "display_data"
    },
    {
     "name": "stdout",
     "output_type": "stream",
     "text": [
      "====================================================================================================\n"
     ]
    },
    {
     "data": {
      "text/html": [
       "<span style=\"color:blue\"><b>Ground truth translation:</b> i rose to speak about another issue , however . <eos></span>"
      ],
      "text/plain": [
       "<IPython.core.display.HTML object>"
      ]
     },
     "metadata": {},
     "output_type": "display_data"
    },
    {
     "data": {
      "text/html": [
       "<span style=\"color:red\"><b>Predicted translation:</b> i have , have on another another . however . <eos></span>"
      ],
      "text/plain": [
       "<IPython.core.display.HTML object>"
      ]
     },
     "metadata": {},
     "output_type": "display_data"
    },
    {
     "name": "stdout",
     "output_type": "stream",
     "text": [
      "====================================================================================================\n",
      "BLEU-4: 16.756%\n"
     ]
    },
    {
     "name": "stderr",
     "output_type": "stream",
     "text": [
      "Epoch: 012 - loss: 2.606 - acc: 10.074%: 100%|██████████| 1293/1293 [04:48<00:00,  4.49it/s]\n",
      "Epoch: 012 - val_loss: 2.911 - val_acc: 9.720%: 100%|██████████| 72/72 [00:06<00:00, 11.94it/s]\n"
     ]
    },
    {
     "data": {
      "text/html": [
       "<span style=\"color:blue\"><b>Ground truth translation:</b> i would like once again to thank you all for the discussion . <eos></span>"
      ],
      "text/plain": [
       "<IPython.core.display.HTML object>"
      ]
     },
     "metadata": {},
     "output_type": "display_data"
    },
    {
     "data": {
      "text/html": [
       "<span style=\"color:red\"><b>Predicted translation:</b> i would like to again to thank you for for this debate . <eos></span>"
      ],
      "text/plain": [
       "<IPython.core.display.HTML object>"
      ]
     },
     "metadata": {},
     "output_type": "display_data"
    },
    {
     "name": "stdout",
     "output_type": "stream",
     "text": [
      "====================================================================================================\n"
     ]
    },
    {
     "data": {
      "text/html": [
       "<span style=\"color:blue\"><b>Ground truth translation:</b> a close relationship between doctor and patient is not enough . <eos></span>"
      ],
      "text/plain": [
       "<IPython.core.display.HTML object>"
      ]
     },
     "metadata": {},
     "output_type": "display_data"
    },
    {
     "data": {
      "text/html": [
       "<span style=\"color:red\"><b>Predicted translation:</b> a close relationship between women and doctors is not . . <eos></span>"
      ],
      "text/plain": [
       "<IPython.core.display.HTML object>"
      ]
     },
     "metadata": {},
     "output_type": "display_data"
    },
    {
     "name": "stdout",
     "output_type": "stream",
     "text": [
      "====================================================================================================\n"
     ]
    },
    {
     "data": {
      "text/html": [
       "<span style=\"color:blue\"><b>Ground truth translation:</b> the aims of science are full understanding and effective communication . <eos></span>"
      ],
      "text/plain": [
       "<IPython.core.display.HTML object>"
      ]
     },
     "metadata": {},
     "output_type": "display_data"
    },
    {
     "data": {
      "text/html": [
       "<span style=\"color:red\"><b>Predicted translation:</b> culture communication is communication is communication and of knowledge experience in <eos></span>"
      ],
      "text/plain": [
       "<IPython.core.display.HTML object>"
      ]
     },
     "metadata": {},
     "output_type": "display_data"
    },
    {
     "name": "stdout",
     "output_type": "stream",
     "text": [
      "====================================================================================================\n",
      "BLEU-4: 16.715% - Last improvement since 1 epoch(s)\n"
     ]
    },
    {
     "name": "stderr",
     "output_type": "stream",
     "text": [
      "  0%|          | 0/1293 [00:00<?, ?it/s]"
     ]
    },
    {
     "name": "stdout",
     "output_type": "stream",
     "text": [
      "\n",
      "Decaying learning rate.\n",
      "The new learning rate is 0.000900\n",
      "\n"
     ]
    },
    {
     "name": "stderr",
     "output_type": "stream",
     "text": [
      "Epoch: 013 - loss: 2.485 - acc: 10.316%: 100%|██████████| 1293/1293 [04:47<00:00,  4.50it/s]\n",
      "Epoch: 013 - val_loss: 2.918 - val_acc: 9.731%: 100%|██████████| 72/72 [00:05<00:00, 12.39it/s]\n"
     ]
    },
    {
     "data": {
      "text/html": [
       "<span style=\"color:blue\"><b>Ground truth translation:</b> i am thinking , in particular , of the amendments concerning the simplification measures . <eos></span>"
      ],
      "text/plain": [
       "<IPython.core.display.HTML object>"
      ]
     },
     "metadata": {},
     "output_type": "display_data"
    },
    {
     "data": {
      "text/html": [
       "<span style=\"color:red\"><b>Predicted translation:</b> i am thinking in in particular , to the amendments proposed the proposed of . <eos></span>"
      ],
      "text/plain": [
       "<IPython.core.display.HTML object>"
      ]
     },
     "metadata": {},
     "output_type": "display_data"
    },
    {
     "name": "stdout",
     "output_type": "stream",
     "text": [
      "====================================================================================================\n"
     ]
    },
    {
     "data": {
      "text/html": [
       "<span style=\"color:blue\"><b>Ground truth translation:</b> such practices should continue to be regulated solely by this directive . <eos></span>"
      ],
      "text/plain": [
       "<IPython.core.display.HTML object>"
      ]
     },
     "metadata": {},
     "output_type": "display_data"
    },
    {
     "data": {
      "text/html": [
       "<span style=\"color:red\"><b>Predicted translation:</b> the technical must be to be regulated by by this directive . <eos></span>"
      ],
      "text/plain": [
       "<IPython.core.display.HTML object>"
      ]
     },
     "metadata": {},
     "output_type": "display_data"
    },
    {
     "name": "stdout",
     "output_type": "stream",
     "text": [
      "====================================================================================================\n"
     ]
    },
    {
     "data": {
      "text/html": [
       "<span style=\"color:blue\"><b>Ground truth translation:</b> i shall be voting against mrs schmidbauer 's report . <eos></span>"
      ],
      "text/plain": [
       "<IPython.core.display.HTML object>"
      ]
     },
     "metadata": {},
     "output_type": "display_data"
    },
    {
     "data": {
      "text/html": [
       "<span style=\"color:red\"><b>Predicted translation:</b> i will therefore voting in the nowhere 's report . <eos></span>"
      ],
      "text/plain": [
       "<IPython.core.display.HTML object>"
      ]
     },
     "metadata": {},
     "output_type": "display_data"
    },
    {
     "name": "stdout",
     "output_type": "stream",
     "text": [
      "====================================================================================================\n",
      "BLEU-4: 17.152%\n"
     ]
    },
    {
     "name": "stderr",
     "output_type": "stream",
     "text": [
      "Epoch: 014 - loss: 2.395 - acc: 10.501%: 100%|██████████| 1293/1293 [04:48<00:00,  4.48it/s]\n",
      "Epoch: 014 - val_loss: 2.887 - val_acc: 9.784%: 100%|██████████| 72/72 [00:06<00:00, 11.79it/s]\n"
     ]
    },
    {
     "data": {
      "text/html": [
       "<span style=\"color:blue\"><b>Ground truth translation:</b> such a strategy must , to my mind , comprise at least three elements . <eos></span>"
      ],
      "text/plain": [
       "<IPython.core.display.HTML object>"
      ]
     },
     "metadata": {},
     "output_type": "display_data"
    },
    {
     "data": {
      "text/html": [
       "<span style=\"color:red\"><b>Predicted translation:</b> this a strategy should be in my mind , be three least two points . <eos></span>"
      ],
      "text/plain": [
       "<IPython.core.display.HTML object>"
      ]
     },
     "metadata": {},
     "output_type": "display_data"
    },
    {
     "name": "stdout",
     "output_type": "stream",
     "text": [
      "====================================================================================================\n"
     ]
    },
    {
     "data": {
      "text/html": [
       "<span style=\"color:blue\"><b>Ground truth translation:</b> european unification is a project of peace and freedom . <eos></span>"
      ],
      "text/plain": [
       "<IPython.core.display.HTML object>"
      ]
     },
     "metadata": {},
     "output_type": "display_data"
    },
    {
     "data": {
      "text/html": [
       "<span style=\"color:red\"><b>Predicted translation:</b> european european is a project for peace and democracy . <eos></span>"
      ],
      "text/plain": [
       "<IPython.core.display.HTML object>"
      ]
     },
     "metadata": {},
     "output_type": "display_data"
    },
    {
     "name": "stdout",
     "output_type": "stream",
     "text": [
      "====================================================================================================\n"
     ]
    },
    {
     "data": {
      "text/html": [
       "<span style=\"color:blue\"><b>Ground truth translation:</b> the fifth is the imposition of quality conditions on laboratories . <eos></span>"
      ],
      "text/plain": [
       "<IPython.core.display.HTML object>"
      ]
     },
     "metadata": {},
     "output_type": "display_data"
    },
    {
     "data": {
      "text/html": [
       "<span style=\"color:red\"><b>Predicted translation:</b> the third concerns about quality of the of for the . <eos></span>"
      ],
      "text/plain": [
       "<IPython.core.display.HTML object>"
      ]
     },
     "metadata": {},
     "output_type": "display_data"
    },
    {
     "name": "stdout",
     "output_type": "stream",
     "text": [
      "====================================================================================================\n",
      "BLEU-4: 17.231%\n"
     ]
    },
    {
     "name": "stderr",
     "output_type": "stream",
     "text": [
      "Epoch: 015 - loss: 2.323 - acc: 10.646%: 100%|██████████| 1293/1293 [04:43<00:00,  4.55it/s]\n",
      "Epoch: 015 - val_loss: 2.880 - val_acc: 9.802%: 100%|██████████| 72/72 [00:05<00:00, 12.53it/s]\n"
     ]
    },
    {
     "data": {
      "text/html": [
       "<span style=\"color:blue\"><b>Ground truth translation:</b> the european harmonisation of social legislation in the realm of road transport is under way . <eos></span>"
      ],
      "text/plain": [
       "<IPython.core.display.HTML object>"
      ]
     },
     "metadata": {},
     "output_type": "display_data"
    },
    {
     "data": {
      "text/html": [
       "<span style=\"color:red\"><b>Predicted translation:</b> european social social of social transport in road transport of transport is is concerned way . <eos></span>"
      ],
      "text/plain": [
       "<IPython.core.display.HTML object>"
      ]
     },
     "metadata": {},
     "output_type": "display_data"
    },
    {
     "name": "stdout",
     "output_type": "stream",
     "text": [
      "====================================================================================================\n"
     ]
    },
    {
     "data": {
      "text/html": [
       "<span style=\"color:blue\"><b>Ground truth translation:</b> i rose to speak about another issue , however . <eos></span>"
      ],
      "text/plain": [
       "<IPython.core.display.HTML object>"
      ]
     },
     "metadata": {},
     "output_type": "display_data"
    },
    {
     "data": {
      "text/html": [
       "<span style=\"color:red\"><b>Predicted translation:</b> i have to speak on another . . however . <eos></span>"
      ],
      "text/plain": [
       "<IPython.core.display.HTML object>"
      ]
     },
     "metadata": {},
     "output_type": "display_data"
    },
    {
     "name": "stdout",
     "output_type": "stream",
     "text": [
      "====================================================================================================\n"
     ]
    },
    {
     "data": {
      "text/html": [
       "<span style=\"color:blue\"><b>Ground truth translation:</b> needless to say , we also need to keep a watchful eye on democracy in europe . <eos></span>"
      ],
      "text/plain": [
       "<IPython.core.display.HTML object>"
      ]
     },
     "metadata": {},
     "output_type": "display_data"
    },
    {
     "data": {
      "text/html": [
       "<span style=\"color:red\"><b>Predicted translation:</b> we to say , we must want to engage democracy democracy democracy on democracy . europe . <eos></span>"
      ],
      "text/plain": [
       "<IPython.core.display.HTML object>"
      ]
     },
     "metadata": {},
     "output_type": "display_data"
    },
    {
     "name": "stdout",
     "output_type": "stream",
     "text": [
      "====================================================================================================\n",
      "BLEU-4: 17.715%\n"
     ]
    }
   ],
   "source": [
    "history = train(model=seq2seq,\n",
    "                optimizer=optimizer,\n",
    "                criterion=criterion,\n",
    "                train_loader=train_iterator,\n",
    "                valid_loader=valid_iterator,\n",
    "                field=EN,\n",
    "                n_epochs=N_EPOCHS,\n",
    "                grad_clip=GRAD_CLIP,\n",
    "                tf_ratio=TF_RATIO,\n",
    "                last_improv=0,\n",
    "                model_name=MODEL_NAME,\n",
    "                device=DEVICE)"
   ]
  },
  {
   "cell_type": "code",
   "execution_count": 29,
   "metadata": {},
   "outputs": [
    {
     "data": {
      "image/png": "[encoded data removed]",
      "text/plain": [
       "<Figure size 864x360 with 2 Axes>"
      ]
     },
     "metadata": {
      "needs_background": "light"
     },
     "output_type": "display_data"
    }
   ],
   "source": [
    "_, axes = plt.subplots(1, 2, figsize=(12, 5))\n",
    "axes[0].plot(history['loss'], label='train')\n",
    "axes[0].plot(history['val_loss'], label='valid')\n",
    "axes[0].set_title('Loss history')\n",
    "axes[0].set_xlabel('Epoch')\n",
    "axes[0].set_ylabel('Loss')\n",
    "axes[0].grid(True)\n",
    "axes[0].legend()\n",
    "axes[1].plot(history['acc'], label='train')\n",
    "axes[1].plot(history['val_acc'], label='valid')\n",
    "axes[1].plot(np.array(history['bleu4']) * 100., label='BLEU-4')\n",
    "axes[1].set_title('Top-5 Accuracy & BLEU-4 history')\n",
    "axes[1].set_xlabel('Epoch')\n",
    "axes[1].set_ylabel('Accuracy & BLEU-4 (%)')\n",
    "axes[1].grid(True)\n",
    "axes[1].legend()\n",
    "plt.show()"
   ]
  },
  {
   "cell_type": "markdown",
   "metadata": {},
   "source": [
    "### Evaluation with Beam Search"
   ]
  },
  {
   "cell_type": "code",
   "execution_count": 30,
   "metadata": {},
   "outputs": [
    {
     "data": {
      "text/plain": [
       "<All keys matched successfully>"
      ]
     },
     "execution_count": 30,
     "metadata": {},
     "output_type": "execute_result"
    }
   ],
   "source": [
    "seq2seq.load_state_dict(torch.load(f'./checkpoint/BEST_{MODEL_NAME}.pt').get('model'))"
   ]
  },
  {
   "cell_type": "code",
   "execution_count": 31,
   "metadata": {},
   "outputs": [],
   "source": [
    "def evaluate(model, loader, beam_size, src_field, dest_field, max_len, device):\n",
    "    references, hypotheses, sources = [], [], []\n",
    "    model.eval()\n",
    "    with torch.no_grad():\n",
    "        pbar = tqdm.tqdm(enumerate(loader), total=len(loader))\n",
    "        for i, data in pbar:\n",
    "            (src_sequences, src_lengths) = data.src[0], data.src[1]\n",
    "            (dest_sequences, dest_lengths) = data.dest[0], data.dest[1]\n",
    "            \n",
    "            batch_size = src_sequences.shape[1]\n",
    "            for j in range(batch_size): # We evaluate sentence by sentence\n",
    "                src_sequence = src_sequences[:, j].unsqueeze(1) # [seq_len, 1]\n",
    "                dest_sequence = dest_sequences[:, j].unsqueeze(1) # [seq_len, 1]\n",
    "                src_length, dest_length = src_lengths[j, None], dest_lengths[j, None] # [1,]\n",
    "                \n",
    "                # Encoding\n",
    "                _, h_state, c_state = model.encoder(input_sequences=src_sequence,\n",
    "                                                    sequence_lengths=src_length)\n",
    "                \n",
    "                # Init hidden and memory states\n",
    "                h_state = model.init_h0(h_state.permute(1, 2, 0)) # [batch_size, hidden_size, n_layers]\n",
    "                c_state = model.init_c0(c_state.permute(1, 2, 0)) # [batch_size, hidden_size, n_layers]\n",
    "                h_state = h_state.permute(2, 0, 1) # [n_layers, batch_size, hidden_size]\n",
    "                c_state = c_state.permute(2, 0, 1) # [n_layers, batch_size, hidden_size]\n",
    "                \n",
    "                # Decoding\n",
    "                tree = [[Node(\n",
    "                    token=torch.LongTensor([\n",
    "                        dest_field.vocab.stoi[dest_field.init_token]\n",
    "                    ]).to(device),\n",
    "                    states=(h_state, c_state)\n",
    "                )]]\n",
    "                \n",
    "                for _ in range(max_len):\n",
    "                    next_nodes = []\n",
    "                    for node in tree[-1]:\n",
    "                        # Skip eos token\n",
    "                        if node.eos:\n",
    "                            continue\n",
    "                        # Decode\n",
    "                        logit, h_state, c_state = model.decoder(\n",
    "                            input_word_index=node.token, \n",
    "                            h_state=node.states[0].contiguous(),\n",
    "                            c_state=node.states[1].contiguous()\n",
    "                        )\n",
    "                        # logit: [1, vocab_size]\n",
    "                        # h_state: [n_layers, 1, hidden_size]\n",
    "                        # c_state: [n_layers, 1, hidden_size]\n",
    "\n",
    "                        # Get scores\n",
    "                        logp = F.log_softmax(logit, dim=1).squeeze(dim=0) # [vocab_size]\n",
    "\n",
    "                        # Get top k tokens & logps\n",
    "                        topk_logps, topk_tokens = torch.topk(logp, beam_size)\n",
    "\n",
    "                        for k in range(beam_size):\n",
    "                            next_nodes.append(Node(\n",
    "                                token=topk_tokens[k, None],\n",
    "                                states=(h_state, c_state),\n",
    "                                logp=topk_logps[k, None].cpu().item(),\n",
    "                                parent=node,\n",
    "                                eos=topk_tokens[k].cpu().item() == dest_field.vocab[dest_field.eos_token]\n",
    "                            ))\n",
    "                    \n",
    "                    if len(next_nodes) == 0:\n",
    "                        break\n",
    "                    \n",
    "                    # Sort next_nodes to get the best\n",
    "                    next_nodes = sorted(next_nodes,\n",
    "                                        key=lambda node: node.logps,\n",
    "                                        reverse=True)\n",
    "                    # Update the tree\n",
    "                    tree.append(next_nodes[:beam_size])\n",
    "                \n",
    "                # Find the best path of the tree\n",
    "                best_path = find_best_path(tree)\n",
    "                \n",
    "                # Get the translation\n",
    "                pred_translated = [*map(lambda node: dest_field.vocab.itos[node.token], best_path)]\n",
    "                pred_translated = [*filter(lambda word: word not in [\n",
    "                    dest_field.init_token, dest_field.eos_token\n",
    "                ], pred_translated[::-1])]\n",
    "                \n",
    "                # Update hypotheses\n",
    "                hypotheses.append(pred_translated)\n",
    "                \n",
    "                # Update references\n",
    "                references.append([[\n",
    "                    dest_field.vocab.itos[indice] \n",
    "                    for indice in dest_sequence \n",
    "                    if indice not in (\n",
    "                        dest_field.vocab.stoi[dest_field.init_token],\n",
    "                        dest_field.vocab.stoi[dest_field.eos_token],\n",
    "                        dest_field.vocab.stoi[dest_field.pad_token]\n",
    "                    )\n",
    "                ]])\n",
    "                \n",
    "                # Update sources\n",
    "                sources.append([\n",
    "                    src_field.vocab.itos[indice] \n",
    "                    for indice in src_sequence \n",
    "                    if indice not in (\n",
    "                        src_field.vocab.stoi[src_field.init_token],\n",
    "                        src_field.vocab.stoi[src_field.eos_token],\n",
    "                        src_field.vocab.stoi[src_field.pad_token]\n",
    "                    )\n",
    "                ])\n",
    "    \n",
    "        # Calculate BLEU-4 score\n",
    "        assert len(hypotheses) == len(references) == len(sources)\n",
    "        bleu4 = bleu_score(hypotheses, references, max_n=4, weights=[0.25, 0.25, 0.25, 0.25])\n",
    "    \n",
    "    return hypotheses, references, sources, bleu4"
   ]
  },
  {
   "cell_type": "code",
   "execution_count": 32,
   "metadata": {},
   "outputs": [
    {
     "name": "stderr",
     "output_type": "stream",
     "text": [
      "100%|██████████| 72/72 [02:00<00:00,  1.68s/it]\n"
     ]
    },
    {
     "name": "stdout",
     "output_type": "stream",
     "text": [
      "BLEU-4: 13.420% with beam_size=1\n"
     ]
    }
   ],
   "source": [
    "_, _, _, bleu4 = evaluate(seq2seq.to(DEVICE),\n",
    "                          loader=test_iterator,\n",
    "                          beam_size=1,\n",
    "                          src_field=FR,\n",
    "                          dest_field=EN,\n",
    "                          max_len=MAX_LENGTH,\n",
    "                          device=DEVICE)\n",
    "print(f'BLEU-4: {bleu4*100:.3f}% with beam_size=1')"
   ]
  },
  {
   "cell_type": "code",
   "execution_count": 33,
   "metadata": {},
   "outputs": [
    {
     "name": "stderr",
     "output_type": "stream",
     "text": [
      "100%|██████████| 72/72 [09:50<00:00,  8.20s/it]\n"
     ]
    },
    {
     "name": "stdout",
     "output_type": "stream",
     "text": [
      "BLEU-4: 14.683% with beam_size=5\n"
     ]
    }
   ],
   "source": [
    "_, _, _, bleu4 = evaluate(seq2seq.to(DEVICE),\n",
    "                          loader=test_iterator,\n",
    "                          beam_size=5,\n",
    "                          src_field=FR,\n",
    "                          dest_field=EN,\n",
    "                          max_len=MAX_LENGTH,\n",
    "                          device=DEVICE)\n",
    "print(f'BLEU-4: {bleu4*100:.3f}% with beam_size=5')"
   ]
  },
  {
   "cell_type": "markdown",
   "metadata": {},
   "source": [
    "### Inference"
   ]
  },
  {
   "cell_type": "code",
   "execution_count": 34,
   "metadata": {},
   "outputs": [],
   "source": [
    "def translate(sentences, model, beam_size, src_field, dest_field, max_len, device):\n",
    "    if isinstance(sentences, list):\n",
    "        sentences = [*map(src_field.preprocess, sentences)]\n",
    "        targets = None\n",
    "    if isinstance(sentences, Dataset):\n",
    "        targets = [*map(lambda example: ' '.join(example.dest), sentences.examples)]\n",
    "        sentences = [*map(lambda example: example.src, sentences.examples)]\n",
    "    data = [*map(lambda word_list: src_field.process([word_list]), sentences)]\n",
    "    \n",
    "    translated_sentences = []\n",
    "    \n",
    "    model.eval()\n",
    "    with torch.no_grad():\n",
    "        pbar = tqdm.tqdm(enumerate(data), total=len(data))\n",
    "        for i, (src_sequence, src_length) in pbar:\n",
    "            src_sequence, src_length = src_sequence.to(device), src_length.to(device)\n",
    "                \n",
    "            # Encoding\n",
    "            _, h_state, c_state = model.encoder(input_sequences=src_sequence,\n",
    "                                                    sequence_lengths=src_length)\n",
    "                \n",
    "            # Init hidden and memory states\n",
    "            h_state = model.init_h0(h_state.permute(1, 2, 0)) # [batch_size, hidden_size, n_layers]\n",
    "            c_state = model.init_c0(c_state.permute(1, 2, 0)) # [batch_size, hidden_size, n_layers]\n",
    "            h_state = h_state.permute(2, 0, 1) # [n_layers, batch_size, hidden_size]\n",
    "            c_state = c_state.permute(2, 0, 1) # [n_layers, batch_size, hidden_size]\n",
    "                \n",
    "            # Decoding\n",
    "            tree = [[Node(\n",
    "                token=torch.LongTensor([\n",
    "                    dest_field.vocab.stoi[dest_field.init_token]\n",
    "                ]).to(device),\n",
    "                states=(h_state, c_state)\n",
    "            )]]\n",
    "               \n",
    "            # Generate tokens\n",
    "            for _ in range(max_len):\n",
    "                next_nodes = []\n",
    "                for node in tree[-1]:\n",
    "                    # Skip eos token\n",
    "                    if node.eos:\n",
    "                        continue\n",
    "                    # Decode\n",
    "                    logit, h_state, c_state = model.decoder(\n",
    "                        input_word_index=node.token, \n",
    "                        h_state=node.states[0].contiguous(),\n",
    "                        c_state=node.states[1].contiguous()\n",
    "                    )\n",
    "                    # logit: [1, vocab_size]\n",
    "                    # h_state: [n_layers, 1, hidden_size]\n",
    "                    # c_state: [n_layers, 1, hidden_size]\n",
    "\n",
    "                    # Get scores\n",
    "                    logp = F.log_softmax(logit, dim=1).squeeze(dim=0) # [vocab_size]\n",
    "\n",
    "                    # Get top k tokens & logps\n",
    "                    topk_logps, topk_tokens = torch.topk(logp, beam_size)\n",
    "\n",
    "                    for k in range(beam_size):\n",
    "                        next_nodes.append(Node(\n",
    "                            token=topk_tokens[k, None],\n",
    "                            states=(h_state, c_state),\n",
    "                            logp=topk_logps[k, None].cpu().item(),\n",
    "                            parent=node,\n",
    "                            eos=topk_tokens[k].cpu().item() == dest_field.vocab[dest_field.eos_token]\n",
    "                        ))\n",
    "                \n",
    "                if len(next_nodes) == 0:\n",
    "                    break\n",
    "\n",
    "                # Sort next_nodes to get the best\n",
    "                next_nodes = sorted(next_nodes,\n",
    "                                    key=lambda node: node.logps,\n",
    "                                    reverse=True)\n",
    "                # Update the tree\n",
    "                tree.append(next_nodes[:beam_size])\n",
    "                \n",
    "            # Find the best path of the tree\n",
    "            best_path = find_best_path(tree)\n",
    "\n",
    "            # Get the translation\n",
    "            pred_translated = [*map(lambda node: dest_field.vocab.itos[node.token], best_path)]\n",
    "            pred_translated = [*filter(lambda word: word not in [\n",
    "                dest_field.init_token, dest_field.eos_token\n",
    "            ], pred_translated[::-1])]\n",
    "                \n",
    "            translated_sentences.append(' '.join(pred_translated))\n",
    "            \n",
    "        sentences = [*map(lambda sentence: ' '.join(sentence), sentences)]\n",
    "    return sentences, translated_sentences, targets"
   ]
  },
  {
   "cell_type": "code",
   "execution_count": 35,
   "metadata": {},
   "outputs": [
    {
     "name": "stderr",
     "output_type": "stream",
     "text": [
      "100%|██████████| 4594/4594 [09:16<00:00,  8.26it/s]"
     ]
    },
    {
     "name": "stdout",
     "output_type": "stream",
     "text": [
      "[4341 2958 4448 3306  767 1442  967 4452 3244 3835 1127 1154 4446 1478\n",
      " 4124 3704 3127 3813 3236 3730]\n",
      "\n"
     ]
    },
    {
     "name": "stderr",
     "output_type": "stream",
     "text": [
      "\n"
     ]
    },
    {
     "data": {
      "text/html": [
       "<span style=\"color:blue\"><b>Source:</b> l' amendement 7 n' ayant pas t retenu , l' eplp n' a eu d' autre choix que de voter contre le rapport .</span>"
      ],
      "text/plain": [
       "<IPython.core.display.HTML object>"
      ]
     },
     "metadata": {},
     "output_type": "display_data"
    },
    {
     "data": {
      "text/html": [
       "<span style=\"color:green\"><b>Ground truth translation:</b> as amendment 7 was not carried , the eplp was left with no option but to vote against the report .</span>"
      ],
      "text/plain": [
       "<IPython.core.display.HTML object>"
      ]
     },
     "metadata": {},
     "output_type": "display_data"
    },
    {
     "data": {
      "text/html": [
       "<span style=\"color:red\"><b>Predicted translation:</b> amendment no 2 has been approved , but there is no need for voting against the report .</span>"
      ],
      "text/plain": [
       "<IPython.core.display.HTML object>"
      ]
     },
     "metadata": {},
     "output_type": "display_data"
    },
    {
     "name": "stdout",
     "output_type": "stream",
     "text": [
      "====================================================================================================\n"
     ]
    },
    {
     "data": {
      "text/html": [
       "<span style=\"color:blue\"><b>Source:</b> ce nest pas trs correct et , de plus , cest une erreur si lon en juge par les faits .</span>"
      ],
      "text/plain": [
       "<IPython.core.display.HTML object>"
      ]
     },
     "metadata": {},
     "output_type": "display_data"
    },
    {
     "data": {
      "text/html": [
       "<span style=\"color:green\"><b>Ground truth translation:</b> this is not nice , and it is also factually wrong .</span>"
      ],
      "text/plain": [
       "<IPython.core.display.HTML object>"
      ]
     },
     "metadata": {},
     "output_type": "display_data"
    },
    {
     "data": {
      "text/html": [
       "<span style=\"color:red\"><b>Predicted translation:</b> it is not very easy , and it is a case in which it is <unk> by the facts .</span>"
      ],
      "text/plain": [
       "<IPython.core.display.HTML object>"
      ]
     },
     "metadata": {},
     "output_type": "display_data"
    },
    {
     "name": "stdout",
     "output_type": "stream",
     "text": [
      "====================================================================================================\n"
     ]
    },
    {
     "data": {
      "text/html": [
       "<span style=\"color:blue\"><b>Source:</b> ( pt ) le livre vert sur le changement climatique attire notre attention sur l' aggravation des phnomnes naturels dus au changement climatique .</span>"
      ],
      "text/plain": [
       "<IPython.core.display.HTML object>"
      ]
     },
     "metadata": {},
     "output_type": "display_data"
    },
    {
     "data": {
      "text/html": [
       "<span style=\"color:green\"><b>Ground truth translation:</b> ( pt ) the green paper on climate change draws attention to the natural phenomena aggravated by climate change .</span>"
      ],
      "text/plain": [
       "<IPython.core.display.HTML object>"
      ]
     },
     "metadata": {},
     "output_type": "display_data"
    },
    {
     "data": {
      "text/html": [
       "<span style=\"color:red\"><b>Predicted translation:</b> ( pt ) the green paper on climate change gives our attention to increasing the impact of climate change .</span>"
      ],
      "text/plain": [
       "<IPython.core.display.HTML object>"
      ]
     },
     "metadata": {},
     "output_type": "display_data"
    },
    {
     "name": "stdout",
     "output_type": "stream",
     "text": [
      "====================================================================================================\n"
     ]
    },
    {
     "data": {
      "text/html": [
       "<span style=\"color:blue\"><b>Source:</b> c' est un nouveau rapallo et l' ue ne souffle pas mot .</span>"
      ],
      "text/plain": [
       "<IPython.core.display.HTML object>"
      ]
     },
     "metadata": {},
     "output_type": "display_data"
    },
    {
     "data": {
      "text/html": [
       "<span style=\"color:green\"><b>Ground truth translation:</b> it is a new rapallo , and the eu does not say a word .</span>"
      ],
      "text/plain": [
       "<IPython.core.display.HTML object>"
      ]
     },
     "metadata": {},
     "output_type": "display_data"
    },
    {
     "data": {
      "text/html": [
       "<span style=\"color:red\"><b>Predicted translation:</b> it is a new <unk> and the eu is not the same .</span>"
      ],
      "text/plain": [
       "<IPython.core.display.HTML object>"
      ]
     },
     "metadata": {},
     "output_type": "display_data"
    },
    {
     "name": "stdout",
     "output_type": "stream",
     "text": [
      "====================================================================================================\n"
     ]
    },
    {
     "data": {
      "text/html": [
       "<span style=\"color:blue\"><b>Source:</b> malheureusement , l' union europenne n' a aucune stratgie de lutte contre les allergies , comme l' a confirm la commission en rponse ma question .</span>"
      ],
      "text/plain": [
       "<IPython.core.display.HTML object>"
      ]
     },
     "metadata": {},
     "output_type": "display_data"
    },
    {
     "data": {
      "text/html": [
       "<span style=\"color:green\"><b>Ground truth translation:</b> unfortunately the european union has no allergy strategy at present , as the commission confirmed in response to my question .</span>"
      ],
      "text/plain": [
       "<IPython.core.display.HTML object>"
      ]
     },
     "metadata": {},
     "output_type": "display_data"
    },
    {
     "data": {
      "text/html": [
       "<span style=\"color:red\"><b>Predicted translation:</b> unfortunately the european union did not deal with the strategy on organized crime , as the commission has been mentioned .</span>"
      ],
      "text/plain": [
       "<IPython.core.display.HTML object>"
      ]
     },
     "metadata": {},
     "output_type": "display_data"
    },
    {
     "name": "stdout",
     "output_type": "stream",
     "text": [
      "====================================================================================================\n"
     ]
    },
    {
     "data": {
      "text/html": [
       "<span style=\"color:blue\"><b>Source:</b> les partis politiques sont donc pris de procder des modifications de leurs rgles d' tablissement des listes de candidats visant l' galit des sexes .</span>"
      ],
      "text/plain": [
       "<IPython.core.display.HTML object>"
      ]
     },
     "metadata": {},
     "output_type": "display_data"
    },
    {
     "data": {
      "text/html": [
       "<span style=\"color:green\"><b>Ground truth translation:</b> it is for the political parties to put men and women on an equal footing by revising their own rules for drawing up the list of candidates .</span>"
      ],
      "text/plain": [
       "<IPython.core.display.HTML object>"
      ]
     },
     "metadata": {},
     "output_type": "display_data"
    },
    {
     "data": {
      "text/html": [
       "<span style=\"color:red\"><b>Predicted translation:</b> therefore , the member states are obliged to take the rules for applying the equal conditions for the equality of children .</span>"
      ],
      "text/plain": [
       "<IPython.core.display.HTML object>"
      ]
     },
     "metadata": {},
     "output_type": "display_data"
    },
    {
     "name": "stdout",
     "output_type": "stream",
     "text": [
      "====================================================================================================\n"
     ]
    },
    {
     "data": {
      "text/html": [
       "<span style=\"color:blue\"><b>Source:</b> une coule de boue a ray de la carte tout un village , engloutissant des centaines de personnes sur son passage .</span>"
      ],
      "text/plain": [
       "<IPython.core.display.HTML object>"
      ]
     },
     "metadata": {},
     "output_type": "display_data"
    },
    {
     "data": {
      "text/html": [
       "<span style=\"color:green\"><b>Ground truth translation:</b> one mudslide wiped an entire village off the map and killed hundreds .</span>"
      ],
      "text/plain": [
       "<IPython.core.display.HTML object>"
      ]
     },
     "metadata": {},
     "output_type": "display_data"
    },
    {
     "data": {
      "text/html": [
       "<span style=\"color:red\"><b>Predicted translation:</b> a <unk> <unk> <unk> the <unk> of a <unk> <unk> , with a number of <unk> from <unk> .</span>"
      ],
      "text/plain": [
       "<IPython.core.display.HTML object>"
      ]
     },
     "metadata": {},
     "output_type": "display_data"
    },
    {
     "name": "stdout",
     "output_type": "stream",
     "text": [
      "====================================================================================================\n"
     ]
    },
    {
     "data": {
      "text/html": [
       "<span style=\"color:blue\"><b>Source:</b> cette rfrence aurait reprsent non un choix religieux , mais une identification de nos indniables racines historiques .</span>"
      ],
      "text/plain": [
       "<IPython.core.display.HTML object>"
      ]
     },
     "metadata": {},
     "output_type": "display_data"
    },
    {
     "data": {
      "text/html": [
       "<span style=\"color:green\"><b>Ground truth translation:</b> such a reference would have represented not a religious choice , but the identification of our undeniable historical roots .</span>"
      ],
      "text/plain": [
       "<IPython.core.display.HTML object>"
      ]
     },
     "metadata": {},
     "output_type": "display_data"
    },
    {
     "data": {
      "text/html": [
       "<span style=\"color:red\"><b>Predicted translation:</b> the study would not be a free language , but only in the form of our religious <unk> .</span>"
      ],
      "text/plain": [
       "<IPython.core.display.HTML object>"
      ]
     },
     "metadata": {},
     "output_type": "display_data"
    },
    {
     "name": "stdout",
     "output_type": "stream",
     "text": [
      "====================================================================================================\n"
     ]
    },
    {
     "data": {
      "text/html": [
       "<span style=\"color:blue\"><b>Source:</b> monsieur le prsident , la situation des droits de l' homme en turquie ne s' est en rien amliore l' anne dernire .</span>"
      ],
      "text/plain": [
       "<IPython.core.display.HTML object>"
      ]
     },
     "metadata": {},
     "output_type": "display_data"
    },
    {
     "data": {
      "text/html": [
       "<span style=\"color:green\"><b>Ground truth translation:</b> mr president , in no way has the human rights situation in turkey improved over the past year .</span>"
      ],
      "text/plain": [
       "<IPython.core.display.HTML object>"
      ]
     },
     "metadata": {},
     "output_type": "display_data"
    },
    {
     "data": {
      "text/html": [
       "<span style=\"color:red\"><b>Predicted translation:</b> mr president , the human rights situation in tunisia is nothing more than a year ago .</span>"
      ],
      "text/plain": [
       "<IPython.core.display.HTML object>"
      ]
     },
     "metadata": {},
     "output_type": "display_data"
    },
    {
     "name": "stdout",
     "output_type": "stream",
     "text": [
      "====================================================================================================\n"
     ]
    },
    {
     "data": {
      "text/html": [
       "<span style=\"color:blue\"><b>Source:</b> avec ce vote , le parlement europen met ainsi fin des situations de discrimination intolrables .</span>"
      ],
      "text/plain": [
       "<IPython.core.display.HTML object>"
      ]
     },
     "metadata": {},
     "output_type": "display_data"
    },
    {
     "data": {
      "text/html": [
       "<span style=\"color:green\"><b>Ground truth translation:</b> with this vote , the european parliament puts an end to unacceptable situations of discrimination .</span>"
      ],
      "text/plain": [
       "<IPython.core.display.HTML object>"
      ]
     },
     "metadata": {},
     "output_type": "display_data"
    },
    {
     "data": {
      "text/html": [
       "<span style=\"color:red\"><b>Predicted translation:</b> with this vote , the european parliament is calling for the causes of discrimination .</span>"
      ],
      "text/plain": [
       "<IPython.core.display.HTML object>"
      ]
     },
     "metadata": {},
     "output_type": "display_data"
    },
    {
     "name": "stdout",
     "output_type": "stream",
     "text": [
      "====================================================================================================\n"
     ]
    },
    {
     "data": {
      "text/html": [
       "<span style=\"color:blue\"><b>Source:</b> c' est cela qu' il faut pourvoir , avant d' instaurer une surveillance massive de l' ensemble de la population .</span>"
      ],
      "text/plain": [
       "<IPython.core.display.HTML object>"
      ]
     },
     "metadata": {},
     "output_type": "display_data"
    },
    {
     "data": {
      "text/html": [
       "<span style=\"color:green\"><b>Ground truth translation:</b> let us do that first before we have mass surveillance of the whole population .</span>"
      ],
      "text/plain": [
       "<IPython.core.display.HTML object>"
      ]
     },
     "metadata": {},
     "output_type": "display_data"
    },
    {
     "data": {
      "text/html": [
       "<span style=\"color:red\"><b>Predicted translation:</b> that is the first time we need to speed up an ongoing organisation of the population .</span>"
      ],
      "text/plain": [
       "<IPython.core.display.HTML object>"
      ]
     },
     "metadata": {},
     "output_type": "display_data"
    },
    {
     "name": "stdout",
     "output_type": "stream",
     "text": [
      "====================================================================================================\n"
     ]
    },
    {
     "data": {
      "text/html": [
       "<span style=\"color:blue\"><b>Source:</b> cest le domaine qui inquite le plus les citoyens bulgares , ainsi que nos propres concitoyens .</span>"
      ],
      "text/plain": [
       "<IPython.core.display.HTML object>"
      ]
     },
     "metadata": {},
     "output_type": "display_data"
    },
    {
     "data": {
      "text/html": [
       "<span style=\"color:green\"><b>Ground truth translation:</b> that is the area that most perturbs the people of bulgaria as well as our own citizens .</span>"
      ],
      "text/plain": [
       "<IPython.core.display.HTML object>"
      ]
     },
     "metadata": {},
     "output_type": "display_data"
    },
    {
     "data": {
      "text/html": [
       "<span style=\"color:red\"><b>Predicted translation:</b> this is the problem that affects the ordinary people of our citizens , even more than our citizens .</span>"
      ],
      "text/plain": [
       "<IPython.core.display.HTML object>"
      ]
     },
     "metadata": {},
     "output_type": "display_data"
    },
    {
     "name": "stdout",
     "output_type": "stream",
     "text": [
      "====================================================================================================\n"
     ]
    },
    {
     "data": {
      "text/html": [
       "<span style=\"color:blue\"><b>Source:</b> aujourdhui , les services reprsentent approximativement 69 % du taux total des emplois .</span>"
      ],
      "text/plain": [
       "<IPython.core.display.HTML object>"
      ]
     },
     "metadata": {},
     "output_type": "display_data"
    },
    {
     "data": {
      "text/html": [
       "<span style=\"color:green\"><b>Ground truth translation:</b> today , services account for approximately 69 % of total employment .</span>"
      ],
      "text/plain": [
       "<IPython.core.display.HTML object>"
      ]
     },
     "metadata": {},
     "output_type": "display_data"
    },
    {
     "data": {
      "text/html": [
       "<span style=\"color:red\"><b>Predicted translation:</b> at present , services are only less than 50 % of gdp .</span>"
      ],
      "text/plain": [
       "<IPython.core.display.HTML object>"
      ]
     },
     "metadata": {},
     "output_type": "display_data"
    },
    {
     "name": "stdout",
     "output_type": "stream",
     "text": [
      "====================================================================================================\n"
     ]
    },
    {
     "data": {
      "text/html": [
       "<span style=\"color:blue\"><b>Source:</b> pour rpondre aux dfis de la mondialisation , nous devons constuire une conomie de la connaissance et investir dans l' ducation et la cration de capital humain .</span>"
      ],
      "text/plain": [
       "<IPython.core.display.HTML object>"
      ]
     },
     "metadata": {},
     "output_type": "display_data"
    },
    {
     "data": {
      "text/html": [
       "<span style=\"color:green\"><b>Ground truth translation:</b> to meet the challenges of globalisation we must build a knowledge - based economy and invest in education and the creation of human capital .</span>"
      ],
      "text/plain": [
       "<IPython.core.display.HTML object>"
      ]
     },
     "metadata": {},
     "output_type": "display_data"
    },
    {
     "data": {
      "text/html": [
       "<span style=\"color:red\"><b>Predicted translation:</b> in order to deal with the challenges of globalisation , we need to invest from education and <unk> education and education .</span>"
      ],
      "text/plain": [
       "<IPython.core.display.HTML object>"
      ]
     },
     "metadata": {},
     "output_type": "display_data"
    },
    {
     "name": "stdout",
     "output_type": "stream",
     "text": [
      "====================================================================================================\n"
     ]
    },
    {
     "data": {
      "text/html": [
       "<span style=\"color:blue\"><b>Source:</b> depuis 1995 , isral jouit d' un statut d' associ part entire au programme - cadre de recherche et de dveloppement .</span>"
      ],
      "text/plain": [
       "<IPython.core.display.HTML object>"
      ]
     },
     "metadata": {},
     "output_type": "display_data"
    },
    {
     "data": {
      "text/html": [
       "<span style=\"color:green\"><b>Ground truth translation:</b> since 1995 israel has held full associate status in the framework programme for research and development .</span>"
      ],
      "text/plain": [
       "<IPython.core.display.HTML object>"
      ]
     },
     "metadata": {},
     "output_type": "display_data"
    },
    {
     "data": {
      "text/html": [
       "<span style=\"color:red\"><b>Predicted translation:</b> since march , there has been an agreement between the participants in development and development programme .</span>"
      ],
      "text/plain": [
       "<IPython.core.display.HTML object>"
      ]
     },
     "metadata": {},
     "output_type": "display_data"
    },
    {
     "name": "stdout",
     "output_type": "stream",
     "text": [
      "====================================================================================================\n"
     ]
    },
    {
     "data": {
      "text/html": [
       "<span style=\"color:blue\"><b>Source:</b> il est de notre intrt commun de suivre les progrs raliss afin de disposer dune ide claire de la situation .</span>"
      ],
      "text/plain": [
       "<IPython.core.display.HTML object>"
      ]
     },
     "metadata": {},
     "output_type": "display_data"
    },
    {
     "data": {
      "text/html": [
       "<span style=\"color:green\"><b>Ground truth translation:</b> it is in our common interest to monitor the progress made in order to get a real picture of the situation .</span>"
      ],
      "text/plain": [
       "<IPython.core.display.HTML object>"
      ]
     },
     "metadata": {},
     "output_type": "display_data"
    },
    {
     "data": {
      "text/html": [
       "<span style=\"color:red\"><b>Predicted translation:</b> it is of our interest in order to achieve a number of results in order to respond to the situation .</span>"
      ],
      "text/plain": [
       "<IPython.core.display.HTML object>"
      ]
     },
     "metadata": {},
     "output_type": "display_data"
    },
    {
     "name": "stdout",
     "output_type": "stream",
     "text": [
      "====================================================================================================\n"
     ]
    },
    {
     "data": {
      "text/html": [
       "<span style=\"color:blue\"><b>Source:</b> dans un autre paquet de mesures , solvabilit ii , la commission s' attellera rviser l' ensemble de la rglementation de ce secteur plus long terme .</span>"
      ],
      "text/plain": [
       "<IPython.core.display.HTML object>"
      ]
     },
     "metadata": {},
     "output_type": "display_data"
    },
    {
     "data": {
      "text/html": [
       "<span style=\"color:green\"><b>Ground truth translation:</b> the commission will be submitting a further \" solvency ii \" package in which it will revise overall regulation of this sector in the longer term .</span>"
      ],
      "text/plain": [
       "<IPython.core.display.HTML object>"
      ]
     },
     "metadata": {},
     "output_type": "display_data"
    },
    {
     "data": {
      "text/html": [
       "<span style=\"color:red\"><b>Predicted translation:</b> in the introduction of a package directive , the commission will be able to intervene in the process of improving the single market in this</span>"
      ],
      "text/plain": [
       "<IPython.core.display.HTML object>"
      ]
     },
     "metadata": {},
     "output_type": "display_data"
    },
    {
     "name": "stdout",
     "output_type": "stream",
     "text": [
      "====================================================================================================\n"
     ]
    },
    {
     "data": {
      "text/html": [
       "<span style=\"color:blue\"><b>Source:</b> le conseil a donc tudi ce problme avec une grande rapidit pour nous donner son avis .</span>"
      ],
      "text/plain": [
       "<IPython.core.display.HTML object>"
      ]
     },
     "metadata": {},
     "output_type": "display_data"
    },
    {
     "data": {
      "text/html": [
       "<span style=\"color:green\"><b>Ground truth translation:</b> secondly , parliament 's proposal on the matter received a prompt reply . in other words , the council studied the matter very quickly and presented us with its opinion .</span>"
      ],
      "text/plain": [
       "<IPython.core.display.HTML object>"
      ]
     },
     "metadata": {},
     "output_type": "display_data"
    },
    {
     "data": {
      "text/html": [
       "<span style=\"color:red\"><b>Predicted translation:</b> so the council has taken this problem with a great deal of help to deal with it .</span>"
      ],
      "text/plain": [
       "<IPython.core.display.HTML object>"
      ]
     },
     "metadata": {},
     "output_type": "display_data"
    },
    {
     "name": "stdout",
     "output_type": "stream",
     "text": [
      "====================================================================================================\n"
     ]
    },
    {
     "data": {
      "text/html": [
       "<span style=\"color:blue\"><b>Source:</b> une troisime dcision sera envisage la lumire de la mission du commissaire nielson .</span>"
      ],
      "text/plain": [
       "<IPython.core.display.HTML object>"
      ]
     },
     "metadata": {},
     "output_type": "display_data"
    },
    {
     "data": {
      "text/html": [
       "<span style=\"color:green\"><b>Ground truth translation:</b> a third decision will be considered in the light of the mission of commissioner nielson .</span>"
      ],
      "text/plain": [
       "<IPython.core.display.HTML object>"
      ]
     },
     "metadata": {},
     "output_type": "display_data"
    },
    {
     "data": {
      "text/html": [
       "<span style=\"color:red\"><b>Predicted translation:</b> a second member state will be responsible for the end of the commissioner 's speech .</span>"
      ],
      "text/plain": [
       "<IPython.core.display.HTML object>"
      ]
     },
     "metadata": {},
     "output_type": "display_data"
    },
    {
     "name": "stdout",
     "output_type": "stream",
     "text": [
      "====================================================================================================\n"
     ]
    },
    {
     "data": {
      "text/html": [
       "<span style=\"color:blue\"><b>Source:</b> l' euro ne doit pas transformer l' union europenne en une immense machine de redistribution sur la base d' une solidarit force .</span>"
      ],
      "text/plain": [
       "<IPython.core.display.HTML object>"
      ]
     },
     "metadata": {},
     "output_type": "display_data"
    },
    {
     "data": {
      "text/html": [
       "<span style=\"color:green\"><b>Ground truth translation:</b> the euro must not be allowed to turn the eu into a huge redistribution mechanism based on mandatory solidarity .</span>"
      ],
      "text/plain": [
       "<IPython.core.display.HTML object>"
      ]
     },
     "metadata": {},
     "output_type": "display_data"
    },
    {
     "data": {
      "text/html": [
       "<span style=\"color:red\"><b>Predicted translation:</b> the euro must not come from the european union as a driving force on creating a stable basis for solidarity .</span>"
      ],
      "text/plain": [
       "<IPython.core.display.HTML object>"
      ]
     },
     "metadata": {},
     "output_type": "display_data"
    },
    {
     "name": "stdout",
     "output_type": "stream",
     "text": [
      "====================================================================================================\n"
     ]
    }
   ],
   "source": [
    "sentences, translated_sentences, dest_sentences = translate(sentences=test_data,\n",
    "                                                            model=seq2seq,\n",
    "                                                            beam_size=5,\n",
    "                                                            src_field=FR,\n",
    "                                                            dest_field=EN,\n",
    "                                                            max_len=MAX_LENGTH,\n",
    "                                                            device=DEVICE)\n",
    "\n",
    "indexes = np.random.choice(len(test_data.examples), size=20, replace=False)\n",
    "print(indexes)\n",
    "print()\n",
    "for i in indexes:\n",
    "    display(HTML(f'<span style=\"color:blue\"><b>Source:</b> {sentences[i]}</span>'))\n",
    "    display(HTML(f'<span style=\"color:green\"><b>Ground truth translation:</b> {dest_sentences[i]}</span>'))\n",
    "    display(HTML(f'<span style=\"color:red\"><b>Predicted translation:</b> {translated_sentences[i]}</span>'))\n",
    "    print('='*100)"
   ]
  },
  {
   "cell_type": "code",
   "execution_count": null,
   "metadata": {},
   "outputs": [],
   "source": []
  }
 ],
 "metadata": {
  "kernelspec": {
   "display_name": "Python 3",
   "language": "python",
   "name": "python3"
  },
  "language_info": {
   "codemirror_mode": {
    "name": "ipython",
    "version": 3
   },
   "file_extension": ".py",
   "mimetype": "text/x-python",
   "name": "python",
   "nbconvert_exporter": "python",
   "pygments_lexer": "ipython3",
   "version": "3.6.8"
  }
 },
 "nbformat": 4,
 "nbformat_minor": 4
}
