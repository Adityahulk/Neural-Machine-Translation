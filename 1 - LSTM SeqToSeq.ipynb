{
 "cells": [
  {
   "cell_type": "code",
   "execution_count": 46,
   "metadata": {},
   "outputs": [
    {
     "name": "stdout",
     "output_type": "stream",
     "text": [
      "The autoreload extension is already loaded. To reload it, use:\n",
      "  %reload_ext autoreload\n"
     ]
    }
   ],
   "source": [
    "%load_ext autoreload\n",
    "%autoreload 2\n",
    "\n",
    "import os\n",
    "import tqdm\n",
    "import random\n",
    "import numpy as np\n",
    "import pandas as pd\n",
    "import matplotlib.pyplot as plt\n",
    "%matplotlib inline\n",
    "\n",
    "from IPython.core.display import display, HTML\n",
    "\n",
    "import spacy\n",
    "\n",
    "import torch\n",
    "import torch.nn as nn\n",
    "import torch.nn.functional as F\n",
    "import torch.optim as optim\n",
    "\n",
    "from torchtext.data import Dataset, Example, Field\n",
    "from torchtext.data.iterator import BucketIterator\n",
    "from torchtext.data.metrics import bleu_score\n",
    "from torchtext.datasets import Multi30k\n",
    "\n",
    "import warnings\n",
    "\n",
    "import utils\n",
    "import torch_utils\n",
    "from optim_utils import LRFinder\n",
    "from beam_utils import Node, find_best_path"
   ]
  },
  {
   "cell_type": "code",
   "execution_count": 2,
   "metadata": {},
   "outputs": [
    {
     "name": "stdout",
     "output_type": "stream",
     "text": [
      "Device: cuda\n"
     ]
    }
   ],
   "source": [
    "warnings.simplefilter(action='ignore', category=UserWarning)\n",
    "warnings.simplefilter(action='ignore', category=FutureWarning)\n",
    "warnings.simplefilter(action='ignore', category=DeprecationWarning)\n",
    "\n",
    "SEED = 42\n",
    "random.seed(SEED)\n",
    "np.random.seed(SEED)\n",
    "torch.manual_seed(SEED)\n",
    "torch.cuda.manual_seed(SEED)\n",
    "torch.backends.cudnn.deterministic = True\n",
    "\n",
    "DEVICE = torch.device('cuda' if torch.cuda.is_available() else 'cpu')\n",
    "print(f'Device: {DEVICE}')"
   ]
  },
  {
   "cell_type": "code",
   "execution_count": 3,
   "metadata": {},
   "outputs": [
    {
     "name": "stdout",
     "output_type": "stream",
     "text": [
      "train set size: 29,000\n",
      "valid set size: 1,014\n",
      "test set size: 1,000\n",
      "{'src': ['zwei', 'junge', 'weiße', 'männer', 'sind', 'im', 'freien', 'in', 'der', 'nähe', 'vieler', 'büsche', '.'], 'trg': ['two', 'young', ',', 'white', 'males', 'are', 'outside', 'near', 'many', 'bushes', '.']}\n",
      "CPU times: user 7.95 s, sys: 256 ms, total: 8.21 s\n",
      "Wall time: 8.21 s\n"
     ]
    }
   ],
   "source": [
    "%%time\n",
    "DE = Field(lower=True,\n",
    "           tokenize='spacy',\n",
    "           tokenizer_language='de',\n",
    "           include_lengths=True)\n",
    "EN = Field(init_token='<sos>',\n",
    "           eos_token='<eos>',\n",
    "           lower=True,\n",
    "           tokenize='spacy',\n",
    "           tokenizer_language='en',\n",
    "           include_lengths=True)\n",
    "\n",
    "train_data, valid_data, test_data = Multi30k.splits(exts=('.de', '.en'),  fields=(DE, EN))\n",
    "print(f'train set size: {len(train_data.examples):,}')\n",
    "print(f'valid set size: {len(valid_data.examples):,}')\n",
    "print(f'test set size: {len(test_data.examples):,}')\n",
    "print(vars(train_data.examples[0]))"
   ]
  },
  {
   "cell_type": "code",
   "execution_count": 4,
   "metadata": {},
   "outputs": [
    {
     "name": "stdout",
     "output_type": "stream",
     "text": [
      "Length of FR vocabulary: 7,852\n",
      "Length of EN vocabulary: 5,893\n",
      "CPU times: user 335 ms, sys: 0 ns, total: 335 ms\n",
      "Wall time: 335 ms\n"
     ]
    }
   ],
   "source": [
    "%%time\n",
    "MIN_COUNT = 2\n",
    "DE.build_vocab(train_data,\n",
    "               min_freq=MIN_COUNT,\n",
    "               specials=['<unk>', '<pad>'])\n",
    "EN.build_vocab(train_data,\n",
    "               min_freq=MIN_COUNT,\n",
    "               specials=['<sos>', '<eos>', '<unk>', '<pad>'])\n",
    "print(f'Length of FR vocabulary: {len(DE.vocab):,}')\n",
    "print(f'Length of EN vocabulary: {len(EN.vocab):,}')"
   ]
  },
  {
   "cell_type": "code",
   "execution_count": 5,
   "metadata": {},
   "outputs": [],
   "source": [
    "class EncoderLSTM(nn.Module):\n",
    "    \n",
    "    def __init__(self, embedding_size, vocab_size, hidden_size, n_layers, embedding_dropout, recurrent_dropout):\n",
    "        super(EncoderLSTM, self).__init__()\n",
    "        self.embedding_size = embedding_size\n",
    "        self.vocab_size = vocab_size\n",
    "        self.hidden_size = hidden_size\n",
    "        self.n_layers = n_layers\n",
    "        self.embedding_dropout = embedding_dropout\n",
    "        self.recurrent_dropout = recurrent_dropout\n",
    "        self.embedding = nn.Embedding(vocab_size, embedding_size)\n",
    "        self.lstm = nn.LSTM(embedding_size, hidden_size, num_layers=n_layers, bidirectional=True,\n",
    "                            dropout=(recurrent_dropout if n_layers > 1 else 0))\n",
    "    \n",
    "    def forward(self, input_sequences, sequence_lengths):\n",
    "        \"\"\"\n",
    "        :params\n",
    "            input_sequences: Tensor[seq_len, batch_size]\n",
    "            sequence_lengths: Tensor[batch_size,]\n",
    "            \n",
    "        :return\n",
    "            h_state: Tensor[n_layers * 2, batch_size, hidden_size]\n",
    "            c_state: Tensor[n_layers * 2, batch_size, hidden_size]\n",
    "        \"\"\"\n",
    "        embedded = self.embedding(input_sequences)\n",
    "        embedded = F.dropout(embedded, p=self.embedding_dropout)\n",
    "        packed = nn.utils.rnn.pack_padded_sequence(embedded, sequence_lengths)\n",
    "        outputs, (h_state, c_state) = self.lstm(packed)\n",
    "        outputs, _ = nn.utils.rnn.pad_packed_sequence(outputs)\n",
    "        return h_state, c_state"
   ]
  },
  {
   "cell_type": "code",
   "execution_count": 6,
   "metadata": {},
   "outputs": [],
   "source": [
    "class DecoderLSTM(nn.Module):\n",
    "    \n",
    "    def __init__(self, embedding_size, vocab_size, hidden_size, n_layers, embedding_dropout, recurrent_dropout):\n",
    "        super(DecoderLSTM, self).__init__()\n",
    "        self.embedding_size = embedding_size\n",
    "        self.vocab_size = vocab_size\n",
    "        self.hidden_size = hidden_size\n",
    "        self.n_layers = n_layers\n",
    "        self.embedding_dropout = embedding_dropout\n",
    "        self.recurrent_dropout = recurrent_dropout\n",
    "        self.embedding = nn.Embedding(vocab_size, embedding_size)\n",
    "        self.lstm = nn.LSTM(embedding_size, hidden_size, num_layers=n_layers,\n",
    "                            dropout=(recurrent_dropout if n_layers > 1 else 0))\n",
    "        self.fc = nn.Linear(hidden_size, vocab_size)\n",
    "        \n",
    "    def forward(self, input_word_index, h_state, c_state):\n",
    "        \"\"\"\n",
    "        :params\n",
    "            input_word_index: Tensor[batch_size,]\n",
    "            h_state: Tensor[num_layers, batch_size, hidden_size]\n",
    "            c_state: Tensor[num_layers, batch_size, hidden_size]\n",
    "            \n",
    "        :return\n",
    "            logit: Tensor[batch_size, vocab_size]\n",
    "            h_state: Tensor[n_layers, batch_size, hidden_size]\n",
    "            c_state: Tensor[n_layers, batch_size, hidden_size]\n",
    "        \"\"\"\n",
    "        embedded = self.embedding(input_word_index.unsqueeze(0))\n",
    "        embedded = F.dropout(embedded, p=self.embedding_dropout)\n",
    "        outputs, (h_state, c_state) = self.lstm(embedded, (h_state, c_state))\n",
    "        logit = self.fc(outputs).squeeze(0)\n",
    "        return logit, h_state, c_state"
   ]
  },
  {
   "cell_type": "code",
   "execution_count": 24,
   "metadata": {},
   "outputs": [],
   "source": [
    "class SeqToSeqLSTM(nn.Module):\n",
    "    \n",
    "    def __init__(self, encoder, decoder, device):\n",
    "        assert encoder.n_layers == decoder.n_layers, 'Encoder and Decoder must have the same number of reccurent layers'\n",
    "        assert encoder.hidden_size == decoder.hidden_size, 'Encoder and Decoder must have the same number of reccurrent hidden units'\n",
    "        super(SeqToSeqLSTM, self).__init__()\n",
    "        self.encoder = encoder\n",
    "        self.decoder = decoder\n",
    "        self.init_h0 = nn.Linear(encoder.n_layers * 2, decoder.n_layers) \n",
    "        self.init_c0 = nn.Linear(encoder.n_layers * 2, decoder.n_layers)\n",
    "        self.device = device\n",
    "        \n",
    "    def encode(self, input_sequences, sequence_lengths):\n",
    "        h_state, c_state = self.encoder(input_sequences, sequence_lengths)\n",
    "        h_state = self.init_h0(h_state.permute(1, 2, 0)) # [batch_size, hidden_size, n_layers]\n",
    "        c_state = self.init_c0(c_state.permute(1, 2, 0)) # [batch_size, hidden_size, n_layers]\n",
    "        h_state = h_state.permute(2, 0, 1) # [n_layers, batch_size, hidden_size]\n",
    "        c_state = c_state.permute(2, 0, 1) # [n_layers, batch_size, hidden_size]\n",
    "        return h_state, c_state\n",
    "    \n",
    "    def sort_batches(self,  h_state, c_state, dest_sequences, dest_lengths):\n",
    "        sorted_dest_lengths, sorted_indices = torch.sort(dest_lengths, dim=0, descending=True)\n",
    "        sorted_dest_sequences = dest_sequences[:, sorted_indices]\n",
    "        h_state = h_state[:, sorted_indices, :]\n",
    "        c_state = c_state[:, sorted_indices, :]        \n",
    "        return h_state, c_state, sorted_dest_sequences, sorted_dest_lengths, sorted_indices\n",
    "    \n",
    "    def decode(self, sorted_dest_sequences, sorted_decode_lengths, h_state, c_state, tf_ratio):\n",
    "        batch_size, last = sorted_dest_sequences.size(1), None\n",
    "        logits = torch.zeros(max(sorted_decode_lengths), batch_size, self.decoder.vocab_size).to(self.device)\n",
    "        for t in range(max(sorted_decode_lengths)):\n",
    "            batch_size_t = sum([l > t for l in sorted_decode_lengths])\n",
    "            if last is not None:\n",
    "                if np.random.rand() < tf_ratio:\n",
    "                    in_ = last[:batch_size_t]\n",
    "                else:\n",
    "                    in_ = sorted_dest_sequences[t, :batch_size_t]\n",
    "            else:\n",
    "                in_ = sorted_dest_sequences[t, :batch_size_t]\n",
    "            # in_ [batch_size,]\n",
    "            logit, h_state, c_state = self.decoder(in_, h_state[:, :batch_size_t, :].contiguous(), c_state[:, :batch_size_t, :].contiguous())\n",
    "            # logit: [batch_size, vocab_size]\n",
    "            # h_state: [n_layers, batch_size, hidden_size]\n",
    "            # c_state: [n_layers, batch_size, hidden_size]\n",
    "            logits[t, :batch_size_t, :] = logit\n",
    "            last = torch.argmax(F.softmax(logit, dim=1), dim=1) # [batch_size,]\n",
    "        return logits\n",
    "    \n",
    "    def forward(self, src_sequences, src_lengths, dest_sequences, dest_lengths, tf_ratio):\n",
    "        \"\"\"\n",
    "        Args:\n",
    "            src_sequences: Tensor[seq_len, batch_size]\n",
    "            src_lengths: Tensor[batch_size,]\n",
    "            dest_sequences: Tensor[seq_len, batch_size]\n",
    "            dest_lengths: Tensor[batch_size,]\n",
    "            tf_ratio: float\n",
    "            \n",
    "        Returns:\n",
    "            logits: Tensor[max(decode_lengths), batch_size, vocab_size]\n",
    "            sorted_dest_sequences: Tensor[seq_len, batch_size]\n",
    "            sorted_indices:\n",
    "        \"\"\"\n",
    "        # Encoding\n",
    "        h_state, c_state = self.encode(src_sequences, src_lengths)\n",
    "        # Sort the batch (dest) by decreasing lengths\n",
    "        h_state, c_state, sorted_dest_sequences, sorted_dest_lengths, sorted_indices = self.sort_batches(h_state, c_state, dest_sequences, dest_lengths)\n",
    "        # We won't decode at the <eos> position, since we've finished generating as soon as we generate <eos>\n",
    "        # So, decoding lengths are actual lengths - 1\n",
    "        sorted_decode_lengths = (sorted_dest_lengths - 1).tolist()\n",
    "        # Decoding\n",
    "        logits = self.decode(sorted_dest_sequences, sorted_decode_lengths, h_state, c_state, tf_ratio)\n",
    "        return logits, sorted_dest_sequences, sorted_decode_lengths, sorted_indices"
   ]
  },
  {
   "cell_type": "code",
   "execution_count": 25,
   "metadata": {},
   "outputs": [],
   "source": [
    "def train_step(model, optimizer, criterion, loader, epoch, grad_clip, tf_ratio, device):\n",
    "    loss_tracker, acc_tracker = utils.AverageMeter(), utils.AverageMeter()\n",
    "    model.train()\n",
    "    pbar = tqdm.tqdm(enumerate(loader), total=len(loader))\n",
    "    for i, data in pbar:\n",
    "        # Forward prop.\n",
    "        logits, sorted_dest_sequences, sorted_decode_lengths, _ = model(*data.src, *data.trg, tf_ratio=tf_ratio)\n",
    "        # Since we decoded starting with <sos>, the targets are all words after <sos>, up to <eos>\n",
    "        sorted_dest_sequences = sorted_dest_sequences[1:, :]\n",
    "        # Remove paddings\n",
    "        logits = nn.utils.rnn.pack_padded_sequence(logits, sorted_decode_lengths).data\n",
    "        sorted_dest_sequences = nn.utils.rnn.pack_padded_sequence(sorted_dest_sequences, sorted_decode_lengths).data\n",
    "        # Calculate loss\n",
    "        loss = criterion(logits, sorted_dest_sequences)\n",
    "        # Back prop.\n",
    "        optimizer.zero_grad()\n",
    "        loss.backward()\n",
    "        # Clip gradients\n",
    "        if grad_clip is not None:\n",
    "            torch_utils.clip_gradient(optimizer, grad_clip)\n",
    "        # Update weights\n",
    "        optimizer.step()\n",
    "        # Track metrics\n",
    "        loss_tracker.update(loss.item(), sum(sorted_decode_lengths))\n",
    "        acc_tracker.update(torch_utils.accuracy(logits, sorted_dest_sequences, 5), sum(sorted_decode_lengths))\n",
    "        # Update progressbar description\n",
    "        pbar.set_description(f'Epoch: {epoch + 1:03d} - loss: {loss_tracker.average:.3f} - acc: {acc_tracker.average:.3f}%')\n",
    "    return loss_tracker.average, acc_tracker.average"
   ]
  },
  {
   "cell_type": "code",
   "execution_count": 26,
   "metadata": {},
   "outputs": [],
   "source": [
    "def build_references(target_sequences, field):\n",
    "    references = []\n",
    "    for j in range(target_sequences.size(0)):\n",
    "        target_sequence = target_sequences[j].tolist()\n",
    "        reference = [\n",
    "            field.vocab.itos[indice] \n",
    "            for indice in target_sequence \n",
    "            if indice not in (\n",
    "                field.vocab.stoi[field.init_token],\n",
    "                field.vocab.stoi[field.pad_token]\n",
    "            )\n",
    "        ]\n",
    "        references.append([reference])\n",
    "    return references\n",
    "\n",
    "def build_hypotheses(preds, field, sorted_decode_lengths):\n",
    "    hypotheses = []\n",
    "    for j, p in enumerate(preds):\n",
    "        hypotheses.append([\n",
    "            field.vocab.itos[indice] \n",
    "            for indice in preds[j][:sorted_decode_lengths[j]] # Remove padding\n",
    "            if indice not in (\n",
    "                field.vocab.stoi[field.init_token],\n",
    "                field.vocab.stoi[field.pad_token]\n",
    "            )\n",
    "        ])\n",
    "    return hypotheses\n",
    "\n",
    "def validate(model, criterion, loader, field, epoch, device):\n",
    "    references, hypotheses = [], []\n",
    "    loss_tracker, acc_tracker = utils.AverageMeter(), utils.AverageMeter()\n",
    "    model.eval()\n",
    "    with torch.no_grad():\n",
    "        pbar = tqdm.tqdm(enumerate(loader), total=len(loader))\n",
    "        for i, data in pbar: \n",
    "            # Forward prop.\n",
    "            logits, sorted_dest_sequences, sorted_decode_lengths, sorted_indices = model(*data.src, *data.trg, tf_ratio=0.)\n",
    "            # Since we decoded starting with <sos>, the targets are all words after <sos>, up to <eos>\n",
    "            sorted_dest_sequences = sorted_dest_sequences[1:, :]\n",
    "            # Remove paddings\n",
    "            logits_cloned = logits.clone()\n",
    "            logits = nn.utils.rnn.pack_padded_sequence(logits, sorted_decode_lengths).data\n",
    "            sorted_dest_sequences = nn.utils.rnn.pack_padded_sequence(sorted_dest_sequences, sorted_decode_lengths).data\n",
    "            # Calculate loss\n",
    "            loss = criterion(logits, sorted_dest_sequences)\n",
    "            # Track metrics\n",
    "            loss_tracker.update(loss.item(), sum(sorted_decode_lengths))\n",
    "            acc_tracker.update(torch_utils.accuracy(logits, sorted_dest_sequences, 5), sum(sorted_decode_lengths))\n",
    "            # Build references\n",
    "            references = build_references(data.trg[0].t()[sorted_indices], field)\n",
    "            # Build hypotheses\n",
    "            _, preds = torch.max(logits_cloned, dim=2)\n",
    "            hypotheses = build_hypotheses(preds.t().tolist(), field, sorted_decode_lengths)\n",
    "            assert len(references) == len(hypotheses)\n",
    "            # Update progressbar description\n",
    "            pbar.set_description(f'Epoch: {epoch + 1:03d} - val_loss: {loss_tracker.average:.3f} - val_acc: {acc_tracker.average:.3f}%')\n",
    "        # Calculate BLEU-4 score\n",
    "        bleu4 = bleu_score(hypotheses, references, max_n=4, weights=[0.25, 0.25, 0.25, 0.25])\n",
    "        # Display some examples\n",
    "        for i in np.random.choice(len(loader), size=3, replace=False):\n",
    "            src, dest = ' '.join(references[i][0]), ' '.join(hypotheses[i])\n",
    "            display(HTML(f'<span style=\"color:blue\"><b>Ground truth translation:</b> {src}</span>'))\n",
    "            display(HTML(f'<span style=\"color:red\"><b>Predicted translation:</b> {dest}</span>'))\n",
    "            print('='*100)\n",
    "    return loss_tracker.average, acc_tracker.average, bleu4"
   ]
  },
  {
   "cell_type": "code",
   "execution_count": 27,
   "metadata": {},
   "outputs": [],
   "source": [
    "def train(model, optimizer, criterion, train_loader, valid_loader, field, n_epochs, grad_clip, tf_ratio, last_improv, model_name, device):\n",
    "    history, best_bleu = {'acc': [], 'loss': [], 'val_acc': [], 'val_loss': [], 'bleu4': []}, 0.\n",
    "    for epoch in range(n_epochs):\n",
    "         # Stop training if no improvment since last 4 epochs\n",
    "        if last_improv == 4:\n",
    "            print('Training Finished - The model has stopped improving since last 4 epochs')\n",
    "            break\n",
    "        # Decay LR if no improvment\n",
    "        if last_improv > 0:\n",
    "            torch_utils.adjust_lr(optimizer=optimizer, shrink_factor=0.9, verbose=True)\n",
    "        # Train step\n",
    "        loss, acc = train_step(model=model, optimizer=optimizer, criterion=criterion, loader=train_loader, epoch=epoch, grad_clip=grad_clip,\n",
    "                               tf_ratio=tf_ratio, device=device)\n",
    "        # Validation step\n",
    "        val_loss, val_acc, bleu4 = validate(model=model, criterion=criterion, loader=valid_loader, field=field, epoch=epoch, device=device)\n",
    "        # Update history dict\n",
    "        history['acc'].append(acc)\n",
    "        history['loss'].append(loss)\n",
    "        history['val_acc'].append(val_acc)\n",
    "        history['val_loss'].append(val_loss)\n",
    "        history['bleu4'].append(bleu4)\n",
    "        # Print BLEU score\n",
    "        text = f'BLEU-4: {bleu4*100:.3f}%'\n",
    "        if bleu4 > best_bleu:\n",
    "            best_bleu, last_improv = bleu4, 0\n",
    "        else:\n",
    "            last_improv += 1\n",
    "            text += f' - Last improvement since {last_improv} epoch(s)'\n",
    "        print(text)\n",
    "        # Decrease teacher forcing rate\n",
    "        tf_ratio = torch_utils.adjust_tf(tf_ratio, shrink_factor=0.8, verbose=False)\n",
    "        # Save checkpoint\n",
    "        torch_utils.save_checkpoint(model=model, optimizer=optimizer, data_name=model_name, epoch=epoch, last_improv=last_improv, bleu4=bleu4,\n",
    "                                    is_best=bleu4 >= best_bleu)\n",
    "    return history"
   ]
  },
  {
   "cell_type": "code",
   "execution_count": 28,
   "metadata": {},
   "outputs": [],
   "source": [
    "MODEL_NAME = 'seq2seq-lstm'\n",
    "N_LAYERS = 4\n",
    "HIDDEN_SIZE = 256\n",
    "EMBEDDING_SIZE = 300\n",
    "EMBEDDING_DROPOUT = 0.25\n",
    "RECURRENT_DROPOUT = 0.25\n",
    "N_EPOCHS = 15\n",
    "BATCH_SIZE = 64\n",
    "LR = 3e-4\n",
    "GRAD_CLIP = 1.0\n",
    "TF_RATIO = 1.0"
   ]
  },
  {
   "cell_type": "code",
   "execution_count": 29,
   "metadata": {},
   "outputs": [
    {
     "name": "stdout",
     "output_type": "stream",
     "text": [
      "Number of parameters of the model: 13,662,137\n"
     ]
    }
   ],
   "source": [
    "encoder = EncoderLSTM(embedding_size=EMBEDDING_SIZE, vocab_size=len(DE.vocab), hidden_size=HIDDEN_SIZE, n_layers=N_LAYERS,\n",
    "                      embedding_dropout=EMBEDDING_DROPOUT, recurrent_dropout=RECURRENT_DROPOUT)\n",
    "decoder = DecoderLSTM(embedding_size=EMBEDDING_SIZE, vocab_size=len(EN.vocab), hidden_size=HIDDEN_SIZE, n_layers=N_LAYERS,\n",
    "                      embedding_dropout=EMBEDDING_DROPOUT, recurrent_dropout=RECURRENT_DROPOUT)\n",
    "seq2seq = SeqToSeqLSTM(encoder=encoder, decoder=decoder, device=DEVICE)\n",
    "seq2seq.apply(torch_utils.xavier_init_weights)\n",
    "seq2seq.to(DEVICE)\n",
    "optimizer = optim.RMSprop(params=seq2seq.parameters(), lr=LR)\n",
    "criterion = nn.CrossEntropyLoss()\n",
    "print(f'Number of parameters of the model: {torch_utils.count_parameters(seq2seq):,}')"
   ]
  },
  {
   "cell_type": "code",
   "execution_count": 30,
   "metadata": {},
   "outputs": [],
   "source": [
    "train_iterator, valid_iterator, test_iterator =  BucketIterator.splits((train_data, valid_data, test_data),\n",
    "                                                                       batch_size=BATCH_SIZE,\n",
    "                                                                       sort_key=lambda x: len(x.src),\n",
    "                                                                       sort_within_batch=True, device=DEVICE)"
   ]
  },
  {
   "cell_type": "code",
   "execution_count": 31,
   "metadata": {},
   "outputs": [
    {
     "name": "stderr",
     "output_type": "stream",
     "text": [
      "Epoch: 001 - loss: 4.895 - acc: 6.465%: 100%|██████████| 454/454 [00:41<00:00, 10.95it/s]\n",
      "Epoch: 001 - val_loss: 4.526 - val_acc: 6.989%: 100%|██████████| 16/16 [00:00<00:00, 25.55it/s]\n"
     ]
    },
    {
     "data": {
      "text/html": [
       "<span style=\"color:blue\"><b>Ground truth translation:</b> a man in a <unk> white shirt gazes into the woman 's eyes while holding on to the back of her black and pink dress . <eos></span>"
      ],
      "text/plain": [
       "<IPython.core.display.HTML object>"
      ]
     },
     "metadata": {},
     "output_type": "display_data"
    },
    {
     "data": {
      "text/html": [
       "<span style=\"color:red\"><b>Predicted translation:</b> a man in a a a a a a a a a a a a a a a a . . . . <eos> <eos> <eos> <eos></span>"
      ],
      "text/plain": [
       "<IPython.core.display.HTML object>"
      ]
     },
     "metadata": {},
     "output_type": "display_data"
    },
    {
     "name": "stdout",
     "output_type": "stream",
     "text": [
      "====================================================================================================\n"
     ]
    },
    {
     "data": {
      "text/html": [
       "<span style=\"color:blue\"><b>Ground truth translation:</b> two people , one dressed as a nun and the other in a <unk> <unk> t - shirt , running in a foot race past onlookers in a wooded area . <eos></span>"
      ],
      "text/plain": [
       "<IPython.core.display.HTML object>"
      ]
     },
     "metadata": {},
     "output_type": "display_data"
    },
    {
     "data": {
      "text/html": [
       "<span style=\"color:red\"><b>Predicted translation:</b> two people are in a a a a a a a a a a a a a a a a a a a a a . . . <eos> <eos> <eos> <eos></span>"
      ],
      "text/plain": [
       "<IPython.core.display.HTML object>"
      ]
     },
     "metadata": {},
     "output_type": "display_data"
    },
    {
     "name": "stdout",
     "output_type": "stream",
     "text": [
      "====================================================================================================\n"
     ]
    },
    {
     "data": {
      "text/html": [
       "<span style=\"color:blue\"><b>Ground truth translation:</b> two <unk> sit perched on horses , dressed in <unk> ceremonial wear , each holding a <unk> in their right hand , <unk> to the horse in their left . <eos></span>"
      ],
      "text/plain": [
       "<IPython.core.display.HTML object>"
      ]
     },
     "metadata": {},
     "output_type": "display_data"
    },
    {
     "data": {
      "text/html": [
       "<span style=\"color:red\"><b>Predicted translation:</b> two men in in in a a a a a a a a a a a a a a a a . . . . . . <eos> <eos> <eos> <eos></span>"
      ],
      "text/plain": [
       "<IPython.core.display.HTML object>"
      ]
     },
     "metadata": {},
     "output_type": "display_data"
    },
    {
     "name": "stdout",
     "output_type": "stream",
     "text": [
      "====================================================================================================\n",
      "BLEU-4: 2.950%\n"
     ]
    },
    {
     "name": "stderr",
     "output_type": "stream",
     "text": [
      "Epoch: 002 - loss: 4.474 - acc: 7.329%: 100%|██████████| 454/454 [00:41<00:00, 11.06it/s]\n",
      "Epoch: 002 - val_loss: 4.251 - val_acc: 7.581%: 100%|██████████| 16/16 [00:00<00:00, 25.69it/s]\n"
     ]
    },
    {
     "data": {
      "text/html": [
       "<span style=\"color:blue\"><b>Ground truth translation:</b> some construction workers , there is concrete being mixed in <unk> , they are building or repairing a wall , the wall is wet still . <eos></span>"
      ],
      "text/plain": [
       "<IPython.core.display.HTML object>"
      ]
     },
     "metadata": {},
     "output_type": "display_data"
    },
    {
     "data": {
      "text/html": [
       "<span style=\"color:red\"><b>Predicted translation:</b> a young of is a a a a a a a a a a the the the . . . <eos> <eos> <eos> <eos> <eos> <eos> <eos></span>"
      ],
      "text/plain": [
       "<IPython.core.display.HTML object>"
      ]
     },
     "metadata": {},
     "output_type": "display_data"
    },
    {
     "name": "stdout",
     "output_type": "stream",
     "text": [
      "====================================================================================================\n"
     ]
    },
    {
     "data": {
      "text/html": [
       "<span style=\"color:blue\"><b>Ground truth translation:</b> a woman wearing sunglasses and a blue shirt , selling sea <unk> , looks at an older man wearing a black shirt and a cap . <eos></span>"
      ],
      "text/plain": [
       "<IPython.core.display.HTML object>"
      ]
     },
     "metadata": {},
     "output_type": "display_data"
    },
    {
     "data": {
      "text/html": [
       "<span style=\"color:red\"><b>Predicted translation:</b> a woman in a a a and shirt shirt shirt and and a a a a a a a a a a a a a . <eos></span>"
      ],
      "text/plain": [
       "<IPython.core.display.HTML object>"
      ]
     },
     "metadata": {},
     "output_type": "display_data"
    },
    {
     "name": "stdout",
     "output_type": "stream",
     "text": [
      "====================================================================================================\n"
     ]
    },
    {
     "data": {
      "text/html": [
       "<span style=\"color:blue\"><b>Ground truth translation:</b> a young woman and older woman wear traditional saris as they spin <unk> , three people are pictured at only the <unk> , and wear modern clothes . <eos></span>"
      ],
      "text/plain": [
       "<IPython.core.display.HTML object>"
      ]
     },
     "metadata": {},
     "output_type": "display_data"
    },
    {
     "data": {
      "text/html": [
       "<span style=\"color:red\"><b>Predicted translation:</b> a woman woman woman a woman woman and and and and a a a a a a a a a a a a and and . . . .</span>"
      ],
      "text/plain": [
       "<IPython.core.display.HTML object>"
      ]
     },
     "metadata": {},
     "output_type": "display_data"
    },
    {
     "name": "stdout",
     "output_type": "stream",
     "text": [
      "====================================================================================================\n",
      "BLEU-4: 3.470%\n"
     ]
    },
    {
     "name": "stderr",
     "output_type": "stream",
     "text": [
      "Epoch: 003 - loss: 4.184 - acc: 7.910%: 100%|██████████| 454/454 [00:41<00:00, 11.02it/s]\n",
      "Epoch: 003 - val_loss: 3.775 - val_acc: 8.550%: 100%|██████████| 16/16 [00:00<00:00, 26.33it/s]\n"
     ]
    },
    {
     "data": {
      "text/html": [
       "<span style=\"color:blue\"><b>Ground truth translation:</b> two people , one dressed as a nun and the other in a <unk> <unk> t - shirt , running in a foot race past onlookers in a wooded area . <eos></span>"
      ],
      "text/plain": [
       "<IPython.core.display.HTML object>"
      ]
     },
     "metadata": {},
     "output_type": "display_data"
    },
    {
     "data": {
      "text/html": [
       "<span style=\"color:red\"><b>Predicted translation:</b> two people are a a , a a and a , , a a , , a a , , to a a . . the . the . . . <eos></span>"
      ],
      "text/plain": [
       "<IPython.core.display.HTML object>"
      ]
     },
     "metadata": {},
     "output_type": "display_data"
    },
    {
     "name": "stdout",
     "output_type": "stream",
     "text": [
      "====================================================================================================\n"
     ]
    },
    {
     "data": {
      "text/html": [
       "<span style=\"color:blue\"><b>Ground truth translation:</b> pottery and cars are shown in a parking lot with a man in a blue outfit is leaning against the front of his car . <eos></span>"
      ],
      "text/plain": [
       "<IPython.core.display.HTML object>"
      ]
     },
     "metadata": {},
     "output_type": "display_data"
    },
    {
     "data": {
      "text/html": [
       "<span style=\"color:red\"><b>Predicted translation:</b> a and a and and and a and and and a and and a and and and and the the . . <eos> . . <eos></span>"
      ],
      "text/plain": [
       "<IPython.core.display.HTML object>"
      ]
     },
     "metadata": {},
     "output_type": "display_data"
    },
    {
     "name": "stdout",
     "output_type": "stream",
     "text": [
      "====================================================================================================\n"
     ]
    },
    {
     "data": {
      "text/html": [
       "<span style=\"color:blue\"><b>Ground truth translation:</b> a woman wearing sunglasses and a blue shirt , selling sea <unk> , looks at an older man wearing a black shirt and a cap . <eos></span>"
      ],
      "text/plain": [
       "<IPython.core.display.HTML object>"
      ]
     },
     "metadata": {},
     "output_type": "display_data"
    },
    {
     "data": {
      "text/html": [
       "<span style=\"color:red\"><b>Predicted translation:</b> a woman in a and a shirt shirt and a and a a a a a and and and a a and and a . . <eos></span>"
      ],
      "text/plain": [
       "<IPython.core.display.HTML object>"
      ]
     },
     "metadata": {},
     "output_type": "display_data"
    },
    {
     "name": "stdout",
     "output_type": "stream",
     "text": [
      "====================================================================================================\n",
      "BLEU-4: 5.401%\n"
     ]
    },
    {
     "name": "stderr",
     "output_type": "stream",
     "text": [
      "Epoch: 004 - loss: 3.884 - acc: 8.517%: 100%|██████████| 454/454 [00:41<00:00, 10.82it/s]\n",
      "Epoch: 004 - val_loss: 3.502 - val_acc: 9.179%: 100%|██████████| 16/16 [00:00<00:00, 25.54it/s]\n"
     ]
    },
    {
     "data": {
      "text/html": [
       "<span style=\"color:blue\"><b>Ground truth translation:</b> a woman wearing sunglasses and a blue shirt , selling sea <unk> , looks at an older man wearing a black shirt and a cap . <eos></span>"
      ],
      "text/plain": [
       "<IPython.core.display.HTML object>"
      ]
     },
     "metadata": {},
     "output_type": "display_data"
    },
    {
     "data": {
      "text/html": [
       "<span style=\"color:red\"><b>Predicted translation:</b> a woman in a and a black shirt and and and a a a with a black and and a black shirt and a a . <eos></span>"
      ],
      "text/plain": [
       "<IPython.core.display.HTML object>"
      ]
     },
     "metadata": {},
     "output_type": "display_data"
    },
    {
     "name": "stdout",
     "output_type": "stream",
     "text": [
      "====================================================================================================\n"
     ]
    },
    {
     "data": {
      "text/html": [
       "<span style=\"color:blue\"><b>Ground truth translation:</b> a dark - skinned man in white shirts and a black sleeveless shirt flips his skateboard on a cement surface surrounded by tall buildings and palm trees . <eos></span>"
      ],
      "text/plain": [
       "<IPython.core.display.HTML object>"
      ]
     },
     "metadata": {},
     "output_type": "display_data"
    },
    {
     "data": {
      "text/html": [
       "<span style=\"color:red\"><b>Predicted translation:</b> a man man in in in a shirt and a shirt shirt is on a and with a a with with with a <unk> . a . . <eos></span>"
      ],
      "text/plain": [
       "<IPython.core.display.HTML object>"
      ]
     },
     "metadata": {},
     "output_type": "display_data"
    },
    {
     "name": "stdout",
     "output_type": "stream",
     "text": [
      "====================================================================================================\n"
     ]
    },
    {
     "data": {
      "text/html": [
       "<span style=\"color:blue\"><b>Ground truth translation:</b> a woman and a child sit together in a door frame along a gray sidewalk , as a man and two women walk past . <eos></span>"
      ],
      "text/plain": [
       "<IPython.core.display.HTML object>"
      ]
     },
     "metadata": {},
     "output_type": "display_data"
    },
    {
     "data": {
      "text/html": [
       "<span style=\"color:red\"><b>Predicted translation:</b> a woman and a woman sitting sitting in a woman of in a woman woman in a a woman . a . . . a <eos></span>"
      ],
      "text/plain": [
       "<IPython.core.display.HTML object>"
      ]
     },
     "metadata": {},
     "output_type": "display_data"
    },
    {
     "name": "stdout",
     "output_type": "stream",
     "text": [
      "====================================================================================================\n",
      "BLEU-4: 6.499%\n"
     ]
    },
    {
     "name": "stderr",
     "output_type": "stream",
     "text": [
      "Epoch: 005 - loss: 3.643 - acc: 8.999%: 100%|██████████| 454/454 [00:42<00:00, 10.79it/s]\n",
      "Epoch: 005 - val_loss: 3.326 - val_acc: 9.600%: 100%|██████████| 16/16 [00:00<00:00, 24.05it/s]\n"
     ]
    },
    {
     "data": {
      "text/html": [
       "<span style=\"color:blue\"><b>Ground truth translation:</b> a male metal worker using a welding tool in his right hand , while holding the mask in his left hand , in a mid - lower or lower class neighborhood . <eos></span>"
      ],
      "text/plain": [
       "<IPython.core.display.HTML object>"
      ]
     },
     "metadata": {},
     "output_type": "display_data"
    },
    {
     "data": {
      "text/html": [
       "<span style=\"color:red\"><b>Predicted translation:</b> a <unk> in in in a a a with the man , in his the the the . the <unk> . . his the the . . . . . . . <eos></span>"
      ],
      "text/plain": [
       "<IPython.core.display.HTML object>"
      ]
     },
     "metadata": {},
     "output_type": "display_data"
    },
    {
     "name": "stdout",
     "output_type": "stream",
     "text": [
      "====================================================================================================\n"
     ]
    },
    {
     "data": {
      "text/html": [
       "<span style=\"color:blue\"><b>Ground truth translation:</b> a woman and a child sit together in a door frame along a gray sidewalk , as a man and two women walk past . <eos></span>"
      ],
      "text/plain": [
       "<IPython.core.display.HTML object>"
      ]
     },
     "metadata": {},
     "output_type": "display_data"
    },
    {
     "data": {
      "text/html": [
       "<span style=\"color:red\"><b>Predicted translation:</b> a woman and a woman are at a a a of in a man , , a a man . a . . . the <eos></span>"
      ],
      "text/plain": [
       "<IPython.core.display.HTML object>"
      ]
     },
     "metadata": {},
     "output_type": "display_data"
    },
    {
     "name": "stdout",
     "output_type": "stream",
     "text": [
      "====================================================================================================\n"
     ]
    },
    {
     "data": {
      "text/html": [
       "<span style=\"color:blue\"><b>Ground truth translation:</b> a woman is reading a card while sitting on an end of a couch , while another woman is standing next to her holding a glass to drink . <eos></span>"
      ],
      "text/plain": [
       "<IPython.core.display.HTML object>"
      ]
     },
     "metadata": {},
     "output_type": "display_data"
    },
    {
     "data": {
      "text/html": [
       "<span style=\"color:red\"><b>Predicted translation:</b> a woman is a a a woman a a a man while a man while a a man while to on on the man a man . . . <eos></span>"
      ],
      "text/plain": [
       "<IPython.core.display.HTML object>"
      ]
     },
     "metadata": {},
     "output_type": "display_data"
    },
    {
     "name": "stdout",
     "output_type": "stream",
     "text": [
      "====================================================================================================\n",
      "BLEU-4: 8.127%\n"
     ]
    },
    {
     "name": "stderr",
     "output_type": "stream",
     "text": [
      "Epoch: 006 - loss: 3.435 - acc: 9.450%: 100%|██████████| 454/454 [00:41<00:00, 10.88it/s]\n",
      "Epoch: 006 - val_loss: 3.166 - val_acc: 9.972%: 100%|██████████| 16/16 [00:00<00:00, 25.86it/s]\n"
     ]
    },
    {
     "data": {
      "text/html": [
       "<span style=\"color:blue\"><b>Ground truth translation:</b> a male metal worker using a welding tool in his right hand , while holding the mask in his left hand , in a mid - lower or lower class neighborhood . <eos></span>"
      ],
      "text/plain": [
       "<IPython.core.display.HTML object>"
      ]
     },
     "metadata": {},
     "output_type": "display_data"
    },
    {
     "data": {
      "text/html": [
       "<span style=\"color:red\"><b>Predicted translation:</b> a <unk> is in in a <unk> a with a <unk> with while his his the hand . the <unk> . . his the hand . . . . . . . <eos></span>"
      ],
      "text/plain": [
       "<IPython.core.display.HTML object>"
      ]
     },
     "metadata": {},
     "output_type": "display_data"
    },
    {
     "name": "stdout",
     "output_type": "stream",
     "text": [
      "====================================================================================================\n"
     ]
    },
    {
     "data": {
      "text/html": [
       "<span style=\"color:blue\"><b>Ground truth translation:</b> a woman in yellow with a stroller , and a man in a blue shirt with a backpack are walking on a busy city block . <eos></span>"
      ],
      "text/plain": [
       "<IPython.core.display.HTML object>"
      ]
     },
     "metadata": {},
     "output_type": "display_data"
    },
    {
     "data": {
      "text/html": [
       "<span style=\"color:red\"><b>Predicted translation:</b> a woman in a and a black and a a black and a black shirt and a <unk> is a a a a . . . <eos></span>"
      ],
      "text/plain": [
       "<IPython.core.display.HTML object>"
      ]
     },
     "metadata": {},
     "output_type": "display_data"
    },
    {
     "name": "stdout",
     "output_type": "stream",
     "text": [
      "====================================================================================================\n"
     ]
    },
    {
     "data": {
      "text/html": [
       "<span style=\"color:blue\"><b>Ground truth translation:</b> a woman is reading a card while sitting on an end of a couch , while another woman is standing next to her holding a glass to drink . <eos></span>"
      ],
      "text/plain": [
       "<IPython.core.display.HTML object>"
      ]
     },
     "metadata": {},
     "output_type": "display_data"
    },
    {
     "data": {
      "text/html": [
       "<span style=\"color:red\"><b>Predicted translation:</b> a woman is a a woman woman a on a woman woman a woman while woman a woman is standing on to the woman a cellphone . her . <eos></span>"
      ],
      "text/plain": [
       "<IPython.core.display.HTML object>"
      ]
     },
     "metadata": {},
     "output_type": "display_data"
    },
    {
     "name": "stdout",
     "output_type": "stream",
     "text": [
      "====================================================================================================\n",
      "BLEU-4: 8.176%\n"
     ]
    },
    {
     "name": "stderr",
     "output_type": "stream",
     "text": [
      "Epoch: 007 - loss: 3.245 - acc: 9.854%: 100%|██████████| 454/454 [00:41<00:00, 10.86it/s]\n",
      "Epoch: 007 - val_loss: 3.015 - val_acc: 10.273%: 100%|██████████| 16/16 [00:00<00:00, 24.07it/s]\n"
     ]
    },
    {
     "data": {
      "text/html": [
       "<span style=\"color:blue\"><b>Ground truth translation:</b> two <unk> sit perched on horses , dressed in <unk> ceremonial wear , each holding a <unk> in their right hand , <unk> to the horse in their left . <eos></span>"
      ],
      "text/plain": [
       "<IPython.core.display.HTML object>"
      ]
     },
     "metadata": {},
     "output_type": "display_data"
    },
    {
     "data": {
      "text/html": [
       "<span style=\"color:red\"><b>Predicted translation:</b> two <unk> players in in the in in in the , , , one one the camera , the camera , on the on the the . the . . <eos></span>"
      ],
      "text/plain": [
       "<IPython.core.display.HTML object>"
      ]
     },
     "metadata": {},
     "output_type": "display_data"
    },
    {
     "name": "stdout",
     "output_type": "stream",
     "text": [
      "====================================================================================================\n"
     ]
    },
    {
     "data": {
      "text/html": [
       "<span style=\"color:blue\"><b>Ground truth translation:</b> a young woman and older woman wear traditional saris as they spin <unk> , three people are pictured at only the <unk> , and wear modern clothes . <eos></span>"
      ],
      "text/plain": [
       "<IPython.core.display.HTML object>"
      ]
     },
     "metadata": {},
     "output_type": "display_data"
    },
    {
     "data": {
      "text/html": [
       "<span style=\"color:red\"><b>Predicted translation:</b> a young woman and a woman are a woman in a are are are are are are are in the are other , two a are on on <eos></span>"
      ],
      "text/plain": [
       "<IPython.core.display.HTML object>"
      ]
     },
     "metadata": {},
     "output_type": "display_data"
    },
    {
     "name": "stdout",
     "output_type": "stream",
     "text": [
      "====================================================================================================\n"
     ]
    },
    {
     "data": {
      "text/html": [
       "<span style=\"color:blue\"><b>Ground truth translation:</b> a dark - skinned man in white shirts and a black sleeveless shirt flips his skateboard on a cement surface surrounded by tall buildings and palm trees . <eos></span>"
      ],
      "text/plain": [
       "<IPython.core.display.HTML object>"
      ]
     },
     "metadata": {},
     "output_type": "display_data"
    },
    {
     "data": {
      "text/html": [
       "<span style=\"color:red\"><b>Predicted translation:</b> a black man man in in a and and a black jacket is is a large on a large , , to a <unk> . <unk> . . <eos></span>"
      ],
      "text/plain": [
       "<IPython.core.display.HTML object>"
      ]
     },
     "metadata": {},
     "output_type": "display_data"
    },
    {
     "name": "stdout",
     "output_type": "stream",
     "text": [
      "====================================================================================================\n",
      "BLEU-4: 8.895%\n"
     ]
    },
    {
     "name": "stderr",
     "output_type": "stream",
     "text": [
      "Epoch: 008 - loss: 3.096 - acc: 10.165%: 100%|██████████| 454/454 [00:41<00:00, 11.07it/s]\n",
      "Epoch: 008 - val_loss: 2.911 - val_acc: 10.556%: 100%|██████████| 16/16 [00:00<00:00, 24.83it/s]\n"
     ]
    },
    {
     "data": {
      "text/html": [
       "<span style=\"color:blue\"><b>Ground truth translation:</b> some construction workers , there is concrete being mixed in <unk> , they are building or repairing a wall , the wall is wet still . <eos></span>"
      ],
      "text/plain": [
       "<IPython.core.display.HTML object>"
      ]
     },
     "metadata": {},
     "output_type": "display_data"
    },
    {
     "data": {
      "text/html": [
       "<span style=\"color:red\"><b>Predicted translation:</b> a couple couple are in in a and and and a and and and their to <unk> to <unk> . . . . . . . <eos></span>"
      ],
      "text/plain": [
       "<IPython.core.display.HTML object>"
      ]
     },
     "metadata": {},
     "output_type": "display_data"
    },
    {
     "name": "stdout",
     "output_type": "stream",
     "text": [
      "====================================================================================================\n"
     ]
    },
    {
     "data": {
      "text/html": [
       "<span style=\"color:blue\"><b>Ground truth translation:</b> a little girl of asian descent , is sitting in a black bucket eating a <unk> , with a big smile on her face . <eos></span>"
      ],
      "text/plain": [
       "<IPython.core.display.HTML object>"
      ]
     },
     "metadata": {},
     "output_type": "display_data"
    },
    {
     "data": {
      "text/html": [
       "<span style=\"color:red\"><b>Predicted translation:</b> a little little girl haired girl in sitting wearing in a microphone shirt with a microphone with with her hand hand . her . . <eos></span>"
      ],
      "text/plain": [
       "<IPython.core.display.HTML object>"
      ]
     },
     "metadata": {},
     "output_type": "display_data"
    },
    {
     "name": "stdout",
     "output_type": "stream",
     "text": [
      "====================================================================================================\n"
     ]
    },
    {
     "data": {
      "text/html": [
       "<span style=\"color:blue\"><b>Ground truth translation:</b> a woman and a child sit together in a door frame along a gray sidewalk , as a man and two women walk past . <eos></span>"
      ],
      "text/plain": [
       "<IPython.core.display.HTML object>"
      ]
     },
     "metadata": {},
     "output_type": "display_data"
    },
    {
     "data": {
      "text/html": [
       "<span style=\"color:red\"><b>Predicted translation:</b> a woman and a woman are at at a table while a a woman woman , a a man are two other are . the <eos></span>"
      ],
      "text/plain": [
       "<IPython.core.display.HTML object>"
      ]
     },
     "metadata": {},
     "output_type": "display_data"
    },
    {
     "name": "stdout",
     "output_type": "stream",
     "text": [
      "====================================================================================================\n",
      "BLEU-4: 9.487%\n"
     ]
    },
    {
     "name": "stderr",
     "output_type": "stream",
     "text": [
      "Epoch: 009 - loss: 2.940 - acc: 10.510%: 100%|██████████| 454/454 [00:41<00:00, 11.02it/s]\n",
      "Epoch: 009 - val_loss: 2.825 - val_acc: 10.707%: 100%|██████████| 16/16 [00:00<00:00, 24.78it/s]\n"
     ]
    },
    {
     "data": {
      "text/html": [
       "<span style=\"color:blue\"><b>Ground truth translation:</b> a dark - haired woman wearing a blue blouse and sunglasses holds a banner while a young girl with braided hair writes on the banner . <eos></span>"
      ],
      "text/plain": [
       "<IPython.core.display.HTML object>"
      ]
     },
     "metadata": {},
     "output_type": "display_data"
    },
    {
     "data": {
      "text/html": [
       "<span style=\"color:red\"><b>Predicted translation:</b> a blond - haired haired with a blue shirt and a is a picture with a young girl on a <unk> on on her cellphone . <eos></span>"
      ],
      "text/plain": [
       "<IPython.core.display.HTML object>"
      ]
     },
     "metadata": {},
     "output_type": "display_data"
    },
    {
     "name": "stdout",
     "output_type": "stream",
     "text": [
      "====================================================================================================\n"
     ]
    },
    {
     "data": {
      "text/html": [
       "<span style=\"color:blue\"><b>Ground truth translation:</b> a woman and a child sit together in a door frame along a gray sidewalk , as a man and two women walk past . <eos></span>"
      ],
      "text/plain": [
       "<IPython.core.display.HTML object>"
      ]
     },
     "metadata": {},
     "output_type": "display_data"
    },
    {
     "data": {
      "text/html": [
       "<span style=\"color:red\"><b>Predicted translation:</b> a woman and a woman are at at a table , while a table table , two a other are two other are . two <eos></span>"
      ],
      "text/plain": [
       "<IPython.core.display.HTML object>"
      ]
     },
     "metadata": {},
     "output_type": "display_data"
    },
    {
     "name": "stdout",
     "output_type": "stream",
     "text": [
      "====================================================================================================\n"
     ]
    },
    {
     "data": {
      "text/html": [
       "<span style=\"color:blue\"><b>Ground truth translation:</b> a lady in a red coat , holding a <unk> hand bag likely of asian descent , jumping off the ground for a <unk> . <eos></span>"
      ],
      "text/plain": [
       "<IPython.core.display.HTML object>"
      ]
     },
     "metadata": {},
     "output_type": "display_data"
    },
    {
     "data": {
      "text/html": [
       "<span style=\"color:red\"><b>Predicted translation:</b> a woman in a blue shirt is a a red , , to to a <unk> in a a a a of a large . <eos></span>"
      ],
      "text/plain": [
       "<IPython.core.display.HTML object>"
      ]
     },
     "metadata": {},
     "output_type": "display_data"
    },
    {
     "name": "stdout",
     "output_type": "stream",
     "text": [
      "====================================================================================================\n",
      "BLEU-4: 9.894%\n"
     ]
    },
    {
     "name": "stderr",
     "output_type": "stream",
     "text": [
      "Epoch: 010 - loss: 2.804 - acc: 10.812%: 100%|██████████| 454/454 [00:41<00:00, 10.87it/s]\n",
      "Epoch: 010 - val_loss: 2.735 - val_acc: 10.938%: 100%|██████████| 16/16 [00:00<00:00, 25.97it/s]\n"
     ]
    },
    {
     "data": {
      "text/html": [
       "<span style=\"color:blue\"><b>Ground truth translation:</b> two <unk> sit perched on horses , dressed in <unk> ceremonial wear , each holding a <unk> in their right hand , <unk> to the horse in their left . <eos></span>"
      ],
      "text/plain": [
       "<IPython.core.display.HTML object>"
      ]
     },
     "metadata": {},
     "output_type": "display_data"
    },
    {
     "data": {
      "text/html": [
       "<span style=\"color:red\"><b>Predicted translation:</b> two <unk> are in in the , one , a , , , one one the camera of the hand . . holding the the hand . the hand . <eos></span>"
      ],
      "text/plain": [
       "<IPython.core.display.HTML object>"
      ]
     },
     "metadata": {},
     "output_type": "display_data"
    },
    {
     "name": "stdout",
     "output_type": "stream",
     "text": [
      "====================================================================================================\n"
     ]
    },
    {
     "data": {
      "text/html": [
       "<span style=\"color:blue\"><b>Ground truth translation:</b> a dark - skinned man in white shirts and a black sleeveless shirt flips his skateboard on a cement surface surrounded by tall buildings and palm trees . <eos></span>"
      ],
      "text/plain": [
       "<IPython.core.display.HTML object>"
      ]
     },
     "metadata": {},
     "output_type": "display_data"
    },
    {
     "data": {
      "text/html": [
       "<span style=\"color:red\"><b>Predicted translation:</b> a black man man man in black and and a black shirt is is a head on a large wall with with a <unk> of <unk> <unk> in <eos></span>"
      ],
      "text/plain": [
       "<IPython.core.display.HTML object>"
      ]
     },
     "metadata": {},
     "output_type": "display_data"
    },
    {
     "name": "stdout",
     "output_type": "stream",
     "text": [
      "====================================================================================================\n"
     ]
    },
    {
     "data": {
      "text/html": [
       "<span style=\"color:blue\"><b>Ground truth translation:</b> a lady in a red coat , holding a <unk> hand bag likely of asian descent , jumping off the ground for a <unk> . <eos></span>"
      ],
      "text/plain": [
       "<IPython.core.display.HTML object>"
      ]
     },
     "metadata": {},
     "output_type": "display_data"
    },
    {
     "data": {
      "text/html": [
       "<span style=\"color:red\"><b>Predicted translation:</b> a woman in a red shirt is holding a large of in in a a in in holding in a air in a large . <eos></span>"
      ],
      "text/plain": [
       "<IPython.core.display.HTML object>"
      ]
     },
     "metadata": {},
     "output_type": "display_data"
    },
    {
     "name": "stdout",
     "output_type": "stream",
     "text": [
      "====================================================================================================\n",
      "BLEU-4: 9.338% - Last improvement since 1 epoch(s)\n"
     ]
    },
    {
     "name": "stderr",
     "output_type": "stream",
     "text": [
      "Epoch: 011 - loss: 3.186 - acc: 13.338%:   0%|          | 1/454 [00:00<01:12,  6.22it/s]"
     ]
    },
    {
     "name": "stdout",
     "output_type": "stream",
     "text": [
      "\n",
      "Decaying learning rate.\n",
      "The new learning rate is 0.000270\n",
      "\n"
     ]
    },
    {
     "name": "stderr",
     "output_type": "stream",
     "text": [
      "Epoch: 011 - loss: 2.684 - acc: 11.061%: 100%|██████████| 454/454 [00:41<00:00, 11.04it/s]\n",
      "Epoch: 011 - val_loss: 2.681 - val_acc: 11.067%: 100%|██████████| 16/16 [00:00<00:00, 24.47it/s]\n"
     ]
    },
    {
     "data": {
      "text/html": [
       "<span style=\"color:blue\"><b>Ground truth translation:</b> a male metal worker using a welding tool in his right hand , while holding the mask in his left hand , in a mid - lower or lower class neighborhood . <eos></span>"
      ],
      "text/plain": [
       "<IPython.core.display.HTML object>"
      ]
     },
     "metadata": {},
     "output_type": "display_data"
    },
    {
     "data": {
      "text/html": [
       "<span style=\"color:red\"><b>Predicted translation:</b> a <unk> in man in a <unk> \" \" a <unk> \" \" \" a a <unk> of the <unk> . . <unk> the background shirt shirt shirt shirt . . . <eos></span>"
      ],
      "text/plain": [
       "<IPython.core.display.HTML object>"
      ]
     },
     "metadata": {},
     "output_type": "display_data"
    },
    {
     "name": "stdout",
     "output_type": "stream",
     "text": [
      "====================================================================================================\n"
     ]
    },
    {
     "data": {
      "text/html": [
       "<span style=\"color:blue\"><b>Ground truth translation:</b> some construction workers , there is concrete being mixed in <unk> , they are building or repairing a wall , the wall is wet still . <eos></span>"
      ],
      "text/plain": [
       "<IPython.core.display.HTML object>"
      ]
     },
     "metadata": {},
     "output_type": "display_data"
    },
    {
     "data": {
      "text/html": [
       "<span style=\"color:red\"><b>Predicted translation:</b> a couple couple are in in in and and and the and and is <unk> and <unk> to <unk> . . . . . . . <eos></span>"
      ],
      "text/plain": [
       "<IPython.core.display.HTML object>"
      ]
     },
     "metadata": {},
     "output_type": "display_data"
    },
    {
     "name": "stdout",
     "output_type": "stream",
     "text": [
      "====================================================================================================\n"
     ]
    },
    {
     "data": {
      "text/html": [
       "<span style=\"color:blue\"><b>Ground truth translation:</b> a woman and a child sit together in a door frame along a gray sidewalk , as a man and two women walk past . <eos></span>"
      ],
      "text/plain": [
       "<IPython.core.display.HTML object>"
      ]
     },
     "metadata": {},
     "output_type": "display_data"
    },
    {
     "data": {
      "text/html": [
       "<span style=\"color:red\"><b>Predicted translation:</b> a woman and a woman are in at a table while while a table table while two two other and people other are to him <eos></span>"
      ],
      "text/plain": [
       "<IPython.core.display.HTML object>"
      ]
     },
     "metadata": {},
     "output_type": "display_data"
    },
    {
     "name": "stdout",
     "output_type": "stream",
     "text": [
      "====================================================================================================\n",
      "BLEU-4: 11.326%\n"
     ]
    },
    {
     "name": "stderr",
     "output_type": "stream",
     "text": [
      "Epoch: 012 - loss: 2.589 - acc: 11.273%: 100%|██████████| 454/454 [00:41<00:00, 10.88it/s]\n",
      "Epoch: 012 - val_loss: 2.622 - val_acc: 11.241%: 100%|██████████| 16/16 [00:00<00:00, 26.04it/s]\n"
     ]
    },
    {
     "data": {
      "text/html": [
       "<span style=\"color:blue\"><b>Ground truth translation:</b> two people are holding a large upside - down earth <unk> , about 4 ' in <unk> , and a child appears to be jumping over <unk> . <eos></span>"
      ],
      "text/plain": [
       "<IPython.core.display.HTML object>"
      ]
     },
     "metadata": {},
     "output_type": "display_data"
    },
    {
     "data": {
      "text/html": [
       "<span style=\"color:red\"><b>Predicted translation:</b> two people are <unk> a <unk> <unk> , <unk> <unk> , , a a a , a and <unk> a <unk> <unk> over <unk> <unk> on a . <eos></span>"
      ],
      "text/plain": [
       "<IPython.core.display.HTML object>"
      ]
     },
     "metadata": {},
     "output_type": "display_data"
    },
    {
     "name": "stdout",
     "output_type": "stream",
     "text": [
      "====================================================================================================\n"
     ]
    },
    {
     "data": {
      "text/html": [
       "<span style=\"color:blue\"><b>Ground truth translation:</b> a woman and a child sit together in a door frame along a gray sidewalk , as a man and two women walk past . <eos></span>"
      ],
      "text/plain": [
       "<IPython.core.display.HTML object>"
      ]
     },
     "metadata": {},
     "output_type": "display_data"
    },
    {
     "data": {
      "text/html": [
       "<span style=\"color:red\"><b>Predicted translation:</b> a woman and a child are at at a table , while a table table while two two other are other other are . . <eos></span>"
      ],
      "text/plain": [
       "<IPython.core.display.HTML object>"
      ]
     },
     "metadata": {},
     "output_type": "display_data"
    },
    {
     "name": "stdout",
     "output_type": "stream",
     "text": [
      "====================================================================================================\n"
     ]
    },
    {
     "data": {
      "text/html": [
       "<span style=\"color:blue\"><b>Ground truth translation:</b> two people , one dressed as a nun and the other in a <unk> <unk> t - shirt , running in a foot race past onlookers in a wooded area . <eos></span>"
      ],
      "text/plain": [
       "<IPython.core.display.HTML object>"
      ]
     },
     "metadata": {},
     "output_type": "display_data"
    },
    {
     "data": {
      "text/html": [
       "<span style=\"color:red\"><b>Predicted translation:</b> two people , one , , a , , a other are a yellow , , , , , are to a field , , a . a city day . <eos></span>"
      ],
      "text/plain": [
       "<IPython.core.display.HTML object>"
      ]
     },
     "metadata": {},
     "output_type": "display_data"
    },
    {
     "name": "stdout",
     "output_type": "stream",
     "text": [
      "====================================================================================================\n",
      "BLEU-4: 11.859%\n"
     ]
    },
    {
     "name": "stderr",
     "output_type": "stream",
     "text": [
      "Epoch: 013 - loss: 2.492 - acc: 11.500%: 100%|██████████| 454/454 [00:41<00:00, 10.89it/s]\n",
      "Epoch: 013 - val_loss: 2.584 - val_acc: 11.300%: 100%|██████████| 16/16 [00:00<00:00, 25.35it/s]\n"
     ]
    },
    {
     "data": {
      "text/html": [
       "<span style=\"color:blue\"><b>Ground truth translation:</b> a male metal worker using a welding tool in his right hand , while holding the mask in his left hand , in a mid - lower or lower class neighborhood . <eos></span>"
      ],
      "text/plain": [
       "<IPython.core.display.HTML object>"
      ]
     },
     "metadata": {},
     "output_type": "display_data"
    },
    {
     "data": {
      "text/html": [
       "<span style=\"color:red\"><b>Predicted translation:</b> a <unk> in street in a <unk> in with the <unk> \" with a a a <unk> of the hand hand . <unk> his background shirt shirt shirt shirt shirt . . <eos></span>"
      ],
      "text/plain": [
       "<IPython.core.display.HTML object>"
      ]
     },
     "metadata": {},
     "output_type": "display_data"
    },
    {
     "name": "stdout",
     "output_type": "stream",
     "text": [
      "====================================================================================================\n"
     ]
    },
    {
     "data": {
      "text/html": [
       "<span style=\"color:blue\"><b>Ground truth translation:</b> some construction workers , there is concrete being mixed in <unk> , they are building or repairing a wall , the wall is wet still . <eos></span>"
      ],
      "text/plain": [
       "<IPython.core.display.HTML object>"
      ]
     },
     "metadata": {},
     "output_type": "display_data"
    },
    {
     "data": {
      "text/html": [
       "<span style=\"color:red\"><b>Predicted translation:</b> a construction workers on working on a and and and a and and and holding a <unk> and picture . . man . the . . <eos></span>"
      ],
      "text/plain": [
       "<IPython.core.display.HTML object>"
      ]
     },
     "metadata": {},
     "output_type": "display_data"
    },
    {
     "name": "stdout",
     "output_type": "stream",
     "text": [
      "====================================================================================================\n"
     ]
    },
    {
     "data": {
      "text/html": [
       "<span style=\"color:blue\"><b>Ground truth translation:</b> two <unk> sit perched on horses , dressed in <unk> ceremonial wear , each holding a <unk> in their right hand , <unk> to the horse in their left . <eos></span>"
      ],
      "text/plain": [
       "<IPython.core.display.HTML object>"
      ]
     },
     "metadata": {},
     "output_type": "display_data"
    },
    {
     "data": {
      "text/html": [
       "<span style=\"color:red\"><b>Predicted translation:</b> two <unk> <unk> in in the , one with one , , one one one a camera of the hand hand . holding the the camera . the hand hand <eos></span>"
      ],
      "text/plain": [
       "<IPython.core.display.HTML object>"
      ]
     },
     "metadata": {},
     "output_type": "display_data"
    },
    {
     "name": "stdout",
     "output_type": "stream",
     "text": [
      "====================================================================================================\n",
      "BLEU-4: 13.005%\n"
     ]
    },
    {
     "name": "stderr",
     "output_type": "stream",
     "text": [
      "Epoch: 014 - loss: 2.410 - acc: 11.646%: 100%|██████████| 454/454 [00:41<00:00, 10.91it/s]\n",
      "Epoch: 014 - val_loss: 2.542 - val_acc: 11.402%: 100%|██████████| 16/16 [00:00<00:00, 27.00it/s]\n"
     ]
    },
    {
     "data": {
      "text/html": [
       "<span style=\"color:blue\"><b>Ground truth translation:</b> some construction workers , there is concrete being mixed in <unk> , they are building or repairing a wall , the wall is wet still . <eos></span>"
      ],
      "text/plain": [
       "<IPython.core.display.HTML object>"
      ]
     },
     "metadata": {},
     "output_type": "display_data"
    },
    {
     "data": {
      "text/html": [
       "<span style=\"color:red\"><b>Predicted translation:</b> a construction workers are working in working and , , front and and is <unk> a <unk> the wall . the man . the . . <eos></span>"
      ],
      "text/plain": [
       "<IPython.core.display.HTML object>"
      ]
     },
     "metadata": {},
     "output_type": "display_data"
    },
    {
     "name": "stdout",
     "output_type": "stream",
     "text": [
      "====================================================================================================\n"
     ]
    },
    {
     "data": {
      "text/html": [
       "<span style=\"color:blue\"><b>Ground truth translation:</b> a woman is reading a card while sitting on an end of a couch , while another woman is standing next to her holding a glass to drink . <eos></span>"
      ],
      "text/plain": [
       "<IPython.core.display.HTML object>"
      ]
     },
     "metadata": {},
     "output_type": "display_data"
    },
    {
     "data": {
      "text/html": [
       "<span style=\"color:red\"><b>Predicted translation:</b> a woman is reading a book table a to a table of a woman while another a woman is sitting on to a cellphone her woman of her . <eos></span>"
      ],
      "text/plain": [
       "<IPython.core.display.HTML object>"
      ]
     },
     "metadata": {},
     "output_type": "display_data"
    },
    {
     "name": "stdout",
     "output_type": "stream",
     "text": [
      "====================================================================================================\n"
     ]
    },
    {
     "data": {
      "text/html": [
       "<span style=\"color:blue\"><b>Ground truth translation:</b> a lady in a red coat , holding a <unk> hand bag likely of asian descent , jumping off the ground for a <unk> . <eos></span>"
      ],
      "text/plain": [
       "<IPython.core.display.HTML object>"
      ]
     },
     "metadata": {},
     "output_type": "display_data"
    },
    {
     "data": {
      "text/html": [
       "<span style=\"color:red\"><b>Predicted translation:</b> a woman in a red shirt is a a small of in is a a child in a in a blue in a large in <eos></span>"
      ],
      "text/plain": [
       "<IPython.core.display.HTML object>"
      ]
     },
     "metadata": {},
     "output_type": "display_data"
    },
    {
     "name": "stdout",
     "output_type": "stream",
     "text": [
      "====================================================================================================\n",
      "BLEU-4: 13.244%\n"
     ]
    },
    {
     "name": "stderr",
     "output_type": "stream",
     "text": [
      "Epoch: 015 - loss: 2.330 - acc: 11.826%: 100%|██████████| 454/454 [00:41<00:00, 10.82it/s]\n",
      "Epoch: 015 - val_loss: 2.501 - val_acc: 11.472%: 100%|██████████| 16/16 [00:00<00:00, 27.38it/s]\n"
     ]
    },
    {
     "data": {
      "text/html": [
       "<span style=\"color:blue\"><b>Ground truth translation:</b> a woman is reading a card while sitting on an end of a couch , while another woman is standing next to her holding a glass to drink . <eos></span>"
      ],
      "text/plain": [
       "<IPython.core.display.HTML object>"
      ]
     },
     "metadata": {},
     "output_type": "display_data"
    },
    {
     "data": {
      "text/html": [
       "<span style=\"color:red\"><b>Predicted translation:</b> a woman is reading a book table a to a cellphone of a woman while while a woman is walking on to a <unk> her woman . her . <eos></span>"
      ],
      "text/plain": [
       "<IPython.core.display.HTML object>"
      ]
     },
     "metadata": {},
     "output_type": "display_data"
    },
    {
     "name": "stdout",
     "output_type": "stream",
     "text": [
      "====================================================================================================\n"
     ]
    },
    {
     "data": {
      "text/html": [
       "<span style=\"color:blue\"><b>Ground truth translation:</b> a dark - skinned man in white shirts and a black sleeveless shirt flips his skateboard on a cement surface surrounded by tall buildings and palm trees . <eos></span>"
      ],
      "text/plain": [
       "<IPython.core.display.HTML object>"
      ]
     },
     "metadata": {},
     "output_type": "display_data"
    },
    {
     "data": {
      "text/html": [
       "<span style=\"color:red\"><b>Predicted translation:</b> a black man haired man in black black and black black shirt black is over over over a large wall with to a large , has large of <eos></span>"
      ],
      "text/plain": [
       "<IPython.core.display.HTML object>"
      ]
     },
     "metadata": {},
     "output_type": "display_data"
    },
    {
     "name": "stdout",
     "output_type": "stream",
     "text": [
      "====================================================================================================\n"
     ]
    },
    {
     "data": {
      "text/html": [
       "<span style=\"color:blue\"><b>Ground truth translation:</b> a young woman and older woman wear traditional saris as they spin <unk> , three people are pictured at only the <unk> , and wear modern clothes . <eos></span>"
      ],
      "text/plain": [
       "<IPython.core.display.HTML object>"
      ]
     },
     "metadata": {},
     "output_type": "display_data"
    },
    {
     "data": {
      "text/html": [
       "<span style=\"color:red\"><b>Predicted translation:</b> a young woman and woman woman are a clothing clothing a are woman in dressed woman are dressed in a a woman , a a a woman on <eos></span>"
      ],
      "text/plain": [
       "<IPython.core.display.HTML object>"
      ]
     },
     "metadata": {},
     "output_type": "display_data"
    },
    {
     "name": "stdout",
     "output_type": "stream",
     "text": [
      "====================================================================================================\n",
      "BLEU-4: 12.617% - Last improvement since 1 epoch(s)\n",
      "CPU times: user 12min 54s, sys: 1min 17s, total: 14min 11s\n",
      "Wall time: 10min 49s\n"
     ]
    }
   ],
   "source": [
    "%%time\n",
    "history = train(model=seq2seq, optimizer=optimizer, criterion=criterion, train_loader=train_iterator, valid_loader=valid_iterator,\n",
    "                field=EN, n_epochs=N_EPOCHS, grad_clip=GRAD_CLIP, tf_ratio=TF_RATIO, last_improv=0, model_name=MODEL_NAME, device=DEVICE)"
   ]
  },
  {
   "cell_type": "code",
   "execution_count": 32,
   "metadata": {},
   "outputs": [
    {
     "data": {
      "image/png": "[encoded data removed]",
      "text/plain": [
       "<Figure size 864x360 with 2 Axes>"
      ]
     },
     "metadata": {
      "needs_background": "light"
     },
     "output_type": "display_data"
    }
   ],
   "source": [
    "_, axes = plt.subplots(1, 2, figsize=(12, 5))\n",
    "axes[0].plot(history['loss'], label='train')\n",
    "axes[0].plot(history['val_loss'], label='valid')\n",
    "axes[0].set_title('Loss history')\n",
    "axes[0].set_xlabel('Epoch')\n",
    "axes[0].set_ylabel('Loss')\n",
    "axes[0].grid(True)\n",
    "axes[0].legend()\n",
    "axes[1].plot(history['acc'], label='train')\n",
    "axes[1].plot(history['val_acc'], label='valid')\n",
    "axes[1].plot(np.array(history['bleu4']) * 100., label='BLEU-4')\n",
    "axes[1].set_title('Top-5 Accuracy & BLEU-4 history')\n",
    "axes[1].set_xlabel('Epoch')\n",
    "axes[1].set_ylabel('Accuracy & BLEU-4 (%)')\n",
    "axes[1].grid(True)\n",
    "axes[1].legend()\n",
    "plt.show()"
   ]
  },
  {
   "cell_type": "code",
   "execution_count": 33,
   "metadata": {},
   "outputs": [
    {
     "data": {
      "text/plain": [
       "<All keys matched successfully>"
      ]
     },
     "execution_count": 33,
     "metadata": {},
     "output_type": "execute_result"
    }
   ],
   "source": [
    "seq2seq.load_state_dict(torch.load(f'./checkpoint/BEST_{MODEL_NAME}.pt').get('model'))"
   ]
  },
  {
   "cell_type": "code",
   "execution_count": 34,
   "metadata": {},
   "outputs": [],
   "source": [
    "def evaluate(model, loader, beam_size, src_field, dest_field, max_len, device):\n",
    "    references, hypotheses, sources = [], [], []\n",
    "    model.eval()\n",
    "    with torch.no_grad():\n",
    "        pbar = tqdm.tqdm(enumerate(loader), total=len(loader))\n",
    "        for i, data in pbar:\n",
    "            (src_sequences, src_lengths) = data.src[0], data.src[1]\n",
    "            (dest_sequences, dest_lengths) = data.trg[0], data.trg[1]\n",
    "            \n",
    "            batch_size = src_sequences.shape[1]\n",
    "            for j in range(batch_size): # We evaluate sentence by sentence\n",
    "                src_sequence = src_sequences[:, j].unsqueeze(1) # [seq_len, 1]\n",
    "                dest_sequence = dest_sequences[:, j].unsqueeze(1) # [seq_len, 1]\n",
    "                src_length, dest_length = src_lengths[j, None], dest_lengths[j, None] # [1,]\n",
    "                \n",
    "                # Encoding\n",
    "                h_state, c_state = model.encoder(input_sequences=src_sequence, sequence_lengths=src_length)\n",
    "                \n",
    "                # Init hidden and memory states\n",
    "                h_state = model.init_h0(h_state.permute(1, 2, 0)) # [batch_size, hidden_size, n_layers]\n",
    "                c_state = model.init_c0(c_state.permute(1, 2, 0)) # [batch_size, hidden_size, n_layers]\n",
    "                h_state = h_state.permute(2, 0, 1) # [n_layers, batch_size, hidden_size]\n",
    "                c_state = c_state.permute(2, 0, 1) # [n_layers, batch_size, hidden_size]\n",
    "                \n",
    "                # Decoding\n",
    "                tree = [[Node(token=torch.LongTensor([dest_field.vocab.stoi[dest_field.init_token]]).to(device), states=(h_state, c_state))]]\n",
    "                \n",
    "                for _ in range(max_len):\n",
    "                    next_nodes = []\n",
    "                    for node in tree[-1]:\n",
    "                        # Skip eos token\n",
    "                        if node.eos:\n",
    "                            continue\n",
    "                        # Decode\n",
    "                        logit, h_state, c_state = model.decoder(input_word_index=node.token,\n",
    "                                                                h_state=node.states[0].contiguous(),\n",
    "                                                                c_state=node.states[1].contiguous())\n",
    "                        # logit: [1, vocab_size]\n",
    "                        # h_state: [n_layers, 1, hidden_size]\n",
    "                        # c_state: [n_layers, 1, hidden_size]\n",
    "\n",
    "                        # Get scores\n",
    "                        logp = F.log_softmax(logit, dim=1).squeeze(dim=0) # [vocab_size]\n",
    "\n",
    "                        # Get top k tokens & logps\n",
    "                        topk_logps, topk_tokens = torch.topk(logp, beam_size)\n",
    "\n",
    "                        for k in range(beam_size):\n",
    "                            next_nodes.append(Node(token=topk_tokens[k, None],\n",
    "                                                   states=(h_state, c_state),\n",
    "                                                   logp=topk_logps[k, None].cpu().item(),\n",
    "                                                   parent=node,\n",
    "                                                   eos=topk_tokens[k].cpu().item() == dest_field.vocab[dest_field.eos_token]))\n",
    "                    \n",
    "                    if len(next_nodes) == 0:\n",
    "                        break\n",
    "                    \n",
    "                    # Sort next_nodes to get the best\n",
    "                    next_nodes = sorted(next_nodes, key=lambda node: node.logps, reverse=True)\n",
    "                    \n",
    "                    # Update the tree\n",
    "                    tree.append(next_nodes[:beam_size])\n",
    "                \n",
    "                # Find the best path of the tree\n",
    "                best_path = find_best_path(tree)\n",
    "                \n",
    "                # Get the translation\n",
    "                pred_translated = [*map(lambda node: dest_field.vocab.itos[node.token], best_path)]\n",
    "                pred_translated = [*filter(lambda word: word not in [\n",
    "                    dest_field.init_token, dest_field.eos_token\n",
    "                ], pred_translated[::-1])]\n",
    "                \n",
    "                # Update hypotheses\n",
    "                hypotheses.append(pred_translated)\n",
    "                \n",
    "                # Update references\n",
    "                references.append([[\n",
    "                    dest_field.vocab.itos[indice] \n",
    "                    for indice in dest_sequence \n",
    "                    if indice not in (\n",
    "                        dest_field.vocab.stoi[dest_field.init_token],\n",
    "                        dest_field.vocab.stoi[dest_field.eos_token],\n",
    "                        dest_field.vocab.stoi[dest_field.pad_token]\n",
    "                    )\n",
    "                ]])\n",
    "                \n",
    "                # Update sources\n",
    "                sources.append([\n",
    "                    src_field.vocab.itos[indice] \n",
    "                    for indice in src_sequence \n",
    "                    if indice not in (\n",
    "                        src_field.vocab.stoi[src_field.init_token],\n",
    "                        src_field.vocab.stoi[src_field.eos_token],\n",
    "                        src_field.vocab.stoi[src_field.pad_token]\n",
    "                    )\n",
    "                ])\n",
    "    \n",
    "        # Calculate BLEU-4 score\n",
    "        assert len(hypotheses) == len(references) == len(sources)\n",
    "        bleu4 = bleu_score(hypotheses, references, max_n=4, weights=[0.25, 0.25, 0.25, 0.25])\n",
    "    \n",
    "    return hypotheses, references, sources, bleu4"
   ]
  },
  {
   "cell_type": "code",
   "execution_count": 37,
   "metadata": {},
   "outputs": [
    {
     "name": "stderr",
     "output_type": "stream",
     "text": [
      "100%|██████████| 16/16 [00:19<00:00,  1.20s/it]\n"
     ]
    },
    {
     "name": "stdout",
     "output_type": "stream",
     "text": [
      "BLEU-4: 20.210% with beam_size=1\n"
     ]
    }
   ],
   "source": [
    "_, _, _, bleu4 = evaluate(seq2seq.to(DEVICE), loader=test_iterator, beam_size=1, src_field=DE, dest_field=EN, max_len=50, device=DEVICE)\n",
    "print(f'BLEU-4: {bleu4*100:.3f}% with beam_size=1')"
   ]
  },
  {
   "cell_type": "code",
   "execution_count": 57,
   "metadata": {},
   "outputs": [
    {
     "name": "stderr",
     "output_type": "stream",
     "text": [
      "100%|██████████| 16/16 [00:19<00:00,  1.24s/it]\n"
     ]
    },
    {
     "name": "stdout",
     "output_type": "stream",
     "text": [
      "BLEU-4: 19.239% with beam_size=1\n"
     ]
    }
   ],
   "source": [
    "_, _, _, bleu4 = evaluate(seq2seq.to(DEVICE), loader=valid_iterator, beam_size=1, src_field=DE, dest_field=EN, max_len=50, device=DEVICE)\n",
    "print(f'BLEU-4: {bleu4*100:.3f}% with beam_size=1')"
   ]
  },
  {
   "cell_type": "code",
   "execution_count": 38,
   "metadata": {},
   "outputs": [
    {
     "name": "stderr",
     "output_type": "stream",
     "text": [
      "100%|██████████| 16/16 [01:27<00:00,  5.48s/it]\n"
     ]
    },
    {
     "name": "stdout",
     "output_type": "stream",
     "text": [
      "BLEU-4: 20.113% with beam_size=3\n"
     ]
    }
   ],
   "source": [
    "_, _, _, bleu4 = evaluate(seq2seq.to(DEVICE), loader=test_iterator, beam_size=3, src_field=DE, dest_field=EN, max_len=50, device=DEVICE)\n",
    "print(f'BLEU-4: {bleu4*100:.3f}% with beam_size=3')"
   ]
  },
  {
   "cell_type": "code",
   "execution_count": 39,
   "metadata": {},
   "outputs": [
    {
     "name": "stderr",
     "output_type": "stream",
     "text": [
      "100%|██████████| 16/16 [02:58<00:00, 11.15s/it]\n"
     ]
    },
    {
     "name": "stdout",
     "output_type": "stream",
     "text": [
      "BLEU-4: 19.799% with beam_size=5\n"
     ]
    }
   ],
   "source": [
    "_, _, _, bleu4 = evaluate(seq2seq.to(DEVICE), loader=test_iterator, beam_size=5, src_field=DE, dest_field=EN, max_len=50, device=DEVICE)\n",
    "print(f'BLEU-4: {bleu4*100:.3f}% with beam_size=5')"
   ]
  },
  {
   "cell_type": "code",
   "execution_count": 48,
   "metadata": {},
   "outputs": [],
   "source": [
    "def translate(sentences, model, beam_size, src_field, dest_field, max_len, device):\n",
    "    \"\"\"\n",
    "    Translate sentences\n",
    "    \"\"\"\n",
    "    if isinstance(sentences, list):\n",
    "        sentences = [*map(src_field.preprocess, sentences)]\n",
    "        targets = None\n",
    "    if isinstance(sentences, Dataset):\n",
    "        targets = [*map(lambda example: ' '.join(example.trg), sentences.examples)]\n",
    "        sentences = [*map(lambda example: example.src, sentences.examples)]\n",
    "    data = [*map(lambda word_list: src_field.process([word_list]), sentences)]\n",
    "    \n",
    "    translated_sentences, pred_logps = [], []\n",
    "    \n",
    "    model.eval()\n",
    "    with torch.no_grad():\n",
    "        pbar = tqdm.tqdm(enumerate(data), total=len(data))\n",
    "        for i, (src_sequence, src_length) in pbar:\n",
    "            src_sequence, src_length = src_sequence.to(device), src_length.to(device)\n",
    "                \n",
    "            # Encoding\n",
    "            h_state, c_state = model.encoder(input_sequences=src_sequence, sequence_lengths=src_length)\n",
    "                \n",
    "            # Init hidden and memory states\n",
    "            h_state = model.init_h0(h_state.permute(1, 2, 0)) # [1, hidden_size, n_layers]\n",
    "            c_state = model.init_c0(c_state.permute(1, 2, 0)) # [1, hidden_size, n_layers]\n",
    "            h_state = h_state.permute(2, 0, 1) # [n_layers, 1, hidden_size]\n",
    "            c_state = c_state.permute(2, 0, 1) # [n_layers, 1, hidden_size]\n",
    "                \n",
    "            # Decoding\n",
    "            tree = [[Node(token=torch.LongTensor([dest_field.vocab.stoi[dest_field.init_token]]).to(device), states=(h_state, c_state))]]\n",
    "               \n",
    "            # Generate tokens\n",
    "            for _ in range(max_len):\n",
    "                next_nodes = []\n",
    "                for node in tree[-1]:\n",
    "                    # Skip eos token\n",
    "                    if node.eos:\n",
    "                        continue\n",
    "                    # Decode\n",
    "                    logit, h_state, c_state = model.decoder(input_word_index=node.token, \n",
    "                                                            h_state=node.states[0].contiguous(),\n",
    "                                                            c_state=node.states[1].contiguous())\n",
    "                    # logit: [1, vocab_size]\n",
    "                    # h_state: [n_layers, 1, hidden_size]\n",
    "                    # c_state: [n_layers, 1, hidden_size]\n",
    "\n",
    "                    # Get scores\n",
    "                    logp = F.log_softmax(logit, dim=1).squeeze(dim=0) # [vocab_size]\n",
    "\n",
    "                    # Get top k tokens & logps\n",
    "                    topk_logps, topk_tokens = torch.topk(logp, beam_size)\n",
    "\n",
    "                    for k in range(beam_size):\n",
    "                        next_nodes.append(Node(token=topk_tokens[k, None],\n",
    "                                               states=(h_state, c_state),\n",
    "                                               logp=topk_logps[k, None].cpu().item(),\n",
    "                                               parent=node,\n",
    "                                               eos=topk_tokens[k].cpu().item() == dest_field.vocab[dest_field.eos_token]))\n",
    "                \n",
    "                if len(next_nodes) == 0:\n",
    "                    break\n",
    "\n",
    "                # Sort next_nodes to get the best\n",
    "                next_nodes = sorted(next_nodes, key=lambda node: node.logps, reverse=True)\n",
    "                \n",
    "                # Update the tree\n",
    "                tree.append(next_nodes[:beam_size])\n",
    "                \n",
    "            # Find the best path of the tree\n",
    "            best_path = find_best_path(tree)\n",
    "\n",
    "            # Get the translation\n",
    "            pred_translated = [*map(lambda node: dest_field.vocab.itos[node.token], best_path)]\n",
    "            pred_translated = [*filter(lambda word: word not in [\n",
    "                dest_field.init_token, dest_field.eos_token\n",
    "            ], pred_translated[::-1])]\n",
    "            translated_sentences.append(' '.join(pred_translated))\n",
    "            \n",
    "            # Get probabilities\n",
    "            pred_logps.append(sum([*map(lambda node: node.logps, best_path)]))\n",
    "            \n",
    "            \n",
    "        sentences = [*map(lambda sentence: ' '.join(sentence), sentences)]\n",
    "    return sentences, translated_sentences, targets, pred_logps"
   ]
  },
  {
   "cell_type": "code",
   "execution_count": 49,
   "metadata": {},
   "outputs": [
    {
     "name": "stderr",
     "output_type": "stream",
     "text": [
      "100%|██████████| 1000/1000 [00:14<00:00, 70.51it/s]"
     ]
    },
    {
     "name": "stdout",
     "output_type": "stream",
     "text": [
      "[605 575 686 942 425 426  64 595 562 841 302  66 527 471 451  67 608  12\n",
      " 221 355]\n",
      "\n"
     ]
    },
    {
     "name": "stderr",
     "output_type": "stream",
     "text": [
      "\n"
     ]
    },
    {
     "data": {
      "text/html": [
       "<p><span style=\"color:blue\"><b>Source:</b> drei männer stehen auf einer bühne , einer von ihnen trägt clown-makeup und hält eine gitarre .</span><br /><span style=\"color:green\"><b>Ground truth translation:</b> three men are standing on a stage , one is wearing clown makeup and holding a guitar .</span><br /><span style=\"color:red\"><b>Predicted translation:</b> three men standing on a stage with a guitar and a woman in a black jacket .</span></p>"
      ],
      "text/plain": [
       "<IPython.core.display.HTML object>"
      ]
     },
     "metadata": {},
     "output_type": "display_data"
    },
    {
     "name": "stdout",
     "output_type": "stream",
     "text": [
      "====================================================================================================\n"
     ]
    },
    {
     "data": {
      "text/html": [
       "<p><span style=\"color:blue\"><b>Source:</b> drei junge frauen sitzen sich auf roten plüschstühlen gegenüber .</span><br /><span style=\"color:green\"><b>Ground truth translation:</b> three young women face each other while sitting on red plush chairs .</span><br /><span style=\"color:red\"><b>Predicted translation:</b> three young women are sitting on the red <unk> .</span></p>"
      ],
      "text/plain": [
       "<IPython.core.display.HTML object>"
      ]
     },
     "metadata": {},
     "output_type": "display_data"
    },
    {
     "name": "stdout",
     "output_type": "stream",
     "text": [
      "====================================================================================================\n"
     ]
    },
    {
     "data": {
      "text/html": [
       "<p><span style=\"color:blue\"><b>Source:</b> ein mann mittleren alters in weißen shorts und flip-flops blickt die straße hoch .</span><br /><span style=\"color:green\"><b>Ground truth translation:</b> middle - aged man in white shorts and flip - flops looking up the road</span><br /><span style=\"color:red\"><b>Predicted translation:</b> a middle - aged man in white and white shirt is looking down the street .</span></p>"
      ],
      "text/plain": [
       "<IPython.core.display.HTML object>"
      ]
     },
     "metadata": {},
     "output_type": "display_data"
    },
    {
     "name": "stdout",
     "output_type": "stream",
     "text": [
      "====================================================================================================\n"
     ]
    },
    {
     "data": {
      "text/html": [
       "<p><span style=\"color:blue\"><b>Source:</b> ein techniker bereitet im labor eine probe vor .</span><br /><span style=\"color:green\"><b>Ground truth translation:</b> a technician preparing a sample in the lab .</span><br /><span style=\"color:red\"><b>Predicted translation:</b> a <unk> is performing a <unk> in the middle of a crowd .</span></p>"
      ],
      "text/plain": [
       "<IPython.core.display.HTML object>"
      ]
     },
     "metadata": {},
     "output_type": "display_data"
    },
    {
     "name": "stdout",
     "output_type": "stream",
     "text": [
      "====================================================================================================\n"
     ]
    },
    {
     "data": {
      "text/html": [
       "<p><span style=\"color:blue\"><b>Source:</b> ein crack-opfer tut so , als würde es seine hände aufwärmen wollen , raucht aber in wahrheit crack .</span><br /><span style=\"color:green\"><b>Ground truth translation:</b> a crackhead is pretending to keep his hands warm but actually he is smoking crack .</span><br /><span style=\"color:red\"><b>Predicted translation:</b> a <unk> <unk> <unk> to his <unk> in his mouth , is <unk> in the air .</span></p>"
      ],
      "text/plain": [
       "<IPython.core.display.HTML object>"
      ]
     },
     "metadata": {},
     "output_type": "display_data"
    },
    {
     "name": "stdout",
     "output_type": "stream",
     "text": [
      "====================================================================================================\n"
     ]
    },
    {
     "data": {
      "text/html": [
       "<p><span style=\"color:blue\"><b>Source:</b> zwei typen und eine frau lächeln .</span><br /><span style=\"color:green\"><b>Ground truth translation:</b> two guys and a girl smiling .</span><br /><span style=\"color:red\"><b>Predicted translation:</b> two women and one woman and a woman .</span></p>"
      ],
      "text/plain": [
       "<IPython.core.display.HTML object>"
      ]
     },
     "metadata": {},
     "output_type": "display_data"
    },
    {
     "name": "stdout",
     "output_type": "stream",
     "text": [
      "====================================================================================================\n"
     ]
    },
    {
     "data": {
      "text/html": [
       "<p><span style=\"color:blue\"><b>Source:</b> ein junge und sein jüngerer bruder spielen gemeinsam auf einem spielplatz .</span><br /><span style=\"color:green\"><b>Ground truth translation:</b> a boy and his younger brother playing together at the playground .</span><br /><span style=\"color:red\"><b>Predicted translation:</b> a boy and two boy playing on a playground on a playground .</span></p>"
      ],
      "text/plain": [
       "<IPython.core.display.HTML object>"
      ]
     },
     "metadata": {},
     "output_type": "display_data"
    },
    {
     "name": "stdout",
     "output_type": "stream",
     "text": [
      "====================================================================================================\n"
     ]
    },
    {
     "data": {
      "text/html": [
       "<p><span style=\"color:blue\"><b>Source:</b> ein ausblick auf eine fußgängerzone mit einem mann in einer schwarzen schürze und weißen baseballmütze , der in der mitte des bildes steht .</span><br /><span style=\"color:green\"><b>Ground truth translation:</b> a view of a pedestrian thoroughfare , featuring a man in a black apron and a white baseball cap standing in the middle of the image .</span><br /><span style=\"color:red\"><b>Predicted translation:</b> a <unk> is a picture of a man in a white jacket and a woman in the middle of the camera .</span></p>"
      ],
      "text/plain": [
       "<IPython.core.display.HTML object>"
      ]
     },
     "metadata": {},
     "output_type": "display_data"
    },
    {
     "name": "stdout",
     "output_type": "stream",
     "text": [
      "====================================================================================================\n"
     ]
    },
    {
     "data": {
      "text/html": [
       "<p><span style=\"color:blue\"><b>Source:</b> ein mann in einem karierten hemd zeigt ein schwarzes paar handschuhe .</span><br /><span style=\"color:green\"><b>Ground truth translation:</b> a man in a plaid shirt shows off a black set of gloves .</span><br /><span style=\"color:red\"><b>Predicted translation:</b> a man in a white shirt is eating a white and white .</span></p>"
      ],
      "text/plain": [
       "<IPython.core.display.HTML object>"
      ]
     },
     "metadata": {},
     "output_type": "display_data"
    },
    {
     "name": "stdout",
     "output_type": "stream",
     "text": [
      "====================================================================================================\n"
     ]
    },
    {
     "data": {
      "text/html": [
       "<p><span style=\"color:blue\"><b>Source:</b> ein junges mädchen zeigt seiner freundin , wie man eine einwegkamera verwendet .</span><br /><span style=\"color:green\"><b>Ground truth translation:</b> a young girl shows her friends how to use a disposable camera .</span><br /><span style=\"color:red\"><b>Predicted translation:</b> a young girl is showing her hair to a <unk> .</span></p>"
      ],
      "text/plain": [
       "<IPython.core.display.HTML object>"
      ]
     },
     "metadata": {},
     "output_type": "display_data"
    },
    {
     "name": "stdout",
     "output_type": "stream",
     "text": [
      "====================================================================================================\n"
     ]
    },
    {
     "data": {
      "text/html": [
       "<p><span style=\"color:blue\"><b>Source:</b> zwei leute in komischen alienkostümen , eines blau und eines purpurn , stehen auf einer straße .</span><br /><span style=\"color:green\"><b>Ground truth translation:</b> two people wearing odd alien - like costumes , one blue and one purple , are standing in a road .</span><br /><span style=\"color:red\"><b>Predicted translation:</b> two people in black , black , and black , , are standing on a street street .</span></p>"
      ],
      "text/plain": [
       "<IPython.core.display.HTML object>"
      ]
     },
     "metadata": {},
     "output_type": "display_data"
    },
    {
     "name": "stdout",
     "output_type": "stream",
     "text": [
      "====================================================================================================\n"
     ]
    },
    {
     "data": {
      "text/html": [
       "<p><span style=\"color:blue\"><b>Source:</b> der braune hund steht auf dem sandstrand .</span><br /><span style=\"color:green\"><b>Ground truth translation:</b> the brown dog is standing on the sandy beach .</span><br /><span style=\"color:red\"><b>Predicted translation:</b> the brown dog is standing on the ground .</span></p>"
      ],
      "text/plain": [
       "<IPython.core.display.HTML object>"
      ]
     },
     "metadata": {},
     "output_type": "display_data"
    },
    {
     "name": "stdout",
     "output_type": "stream",
     "text": [
      "====================================================================================================\n"
     ]
    },
    {
     "data": {
      "text/html": [
       "<p><span style=\"color:blue\"><b>Source:</b> ein kleines kind schläft in seinem bett mit einem offenen buch auf der brust .</span><br /><span style=\"color:green\"><b>Ground truth translation:</b> a young child sleeping in her bed with an open book on her chest .</span><br /><span style=\"color:red\"><b>Predicted translation:</b> a young child is sleeping on a skateboard with his hand on his lap .</span></p>"
      ],
      "text/plain": [
       "<IPython.core.display.HTML object>"
      ]
     },
     "metadata": {},
     "output_type": "display_data"
    },
    {
     "name": "stdout",
     "output_type": "stream",
     "text": [
      "====================================================================================================\n"
     ]
    },
    {
     "data": {
      "text/html": [
       "<p><span style=\"color:blue\"><b>Source:</b> eine übergewichtige frau mit langen schwarzen haaren in einem rosa shirt mit namensschild trägt lippenstift auf .</span><br /><span style=\"color:green\"><b>Ground truth translation:</b> an overweight woman with long black hair in a pink shirt with a name tag is applying lipstick .</span><br /><span style=\"color:red\"><b>Predicted translation:</b> a woman with blond - hair with a black shirt and black hair is playing with a green .</span></p>"
      ],
      "text/plain": [
       "<IPython.core.display.HTML object>"
      ]
     },
     "metadata": {},
     "output_type": "display_data"
    },
    {
     "name": "stdout",
     "output_type": "stream",
     "text": [
      "====================================================================================================\n"
     ]
    },
    {
     "data": {
      "text/html": [
       "<p><span style=\"color:blue\"><b>Source:</b> eine afrikanische familie steht vor ein paar provisorischen behausungen .</span><br /><span style=\"color:green\"><b>Ground truth translation:</b> an african family are standing in front of some makeshift houses .</span><br /><span style=\"color:red\"><b>Predicted translation:</b> an asian family is standing in front of a <unk> <unk> .</span></p>"
      ],
      "text/plain": [
       "<IPython.core.display.HTML object>"
      ]
     },
     "metadata": {},
     "output_type": "display_data"
    },
    {
     "name": "stdout",
     "output_type": "stream",
     "text": [
      "====================================================================================================\n"
     ]
    },
    {
     "data": {
      "text/html": [
       "<p><span style=\"color:blue\"><b>Source:</b> eine frau sitzt mit einem korb voller stoff , umgeben von stoff .</span><br /><span style=\"color:green\"><b>Ground truth translation:</b> a woman is sitting with a basket of cloth , surrounded by cloth .</span><br /><span style=\"color:red\"><b>Predicted translation:</b> a woman is sitting in a large wall with some trees .</span></p>"
      ],
      "text/plain": [
       "<IPython.core.display.HTML object>"
      ]
     },
     "metadata": {},
     "output_type": "display_data"
    },
    {
     "name": "stdout",
     "output_type": "stream",
     "text": [
      "====================================================================================================\n"
     ]
    },
    {
     "data": {
      "text/html": [
       "<p><span style=\"color:blue\"><b>Source:</b> zwei kleine hunde folgen einem größeren hund mit einem tennisball</span><br /><span style=\"color:green\"><b>Ground truth translation:</b> two small dogs follow a larger dog with a tennis ball</span><br /><span style=\"color:red\"><b>Predicted translation:</b> two small dogs are with a dog in a white dog .</span></p>"
      ],
      "text/plain": [
       "<IPython.core.display.HTML object>"
      ]
     },
     "metadata": {},
     "output_type": "display_data"
    },
    {
     "name": "stdout",
     "output_type": "stream",
     "text": [
      "====================================================================================================\n"
     ]
    },
    {
     "data": {
      "text/html": [
       "<p><span style=\"color:blue\"><b>Source:</b> eine frau , die in einer küche eine schale mit essen hält .</span><br /><span style=\"color:green\"><b>Ground truth translation:</b> a woman holding a bowl of food in a kitchen .</span><br /><span style=\"color:red\"><b>Predicted translation:</b> a woman is eating a food piece of food .</span></p>"
      ],
      "text/plain": [
       "<IPython.core.display.HTML object>"
      ]
     },
     "metadata": {},
     "output_type": "display_data"
    },
    {
     "name": "stdout",
     "output_type": "stream",
     "text": [
      "====================================================================================================\n"
     ]
    },
    {
     "data": {
      "text/html": [
       "<p><span style=\"color:blue\"><b>Source:</b> zwei schauspieler inszenieren einen kampf vor einen gebannten publikum .</span><br /><span style=\"color:green\"><b>Ground truth translation:</b> two performers putting on a mock fight for an audience that is watching attentively .</span><br /><span style=\"color:red\"><b>Predicted translation:</b> two cyclists are preparing a <unk> for a <unk> of <unk> .</span></p>"
      ],
      "text/plain": [
       "<IPython.core.display.HTML object>"
      ]
     },
     "metadata": {},
     "output_type": "display_data"
    },
    {
     "name": "stdout",
     "output_type": "stream",
     "text": [
      "====================================================================================================\n"
     ]
    },
    {
     "data": {
      "text/html": [
       "<p><span style=\"color:blue\"><b>Source:</b> ein kleines mädchen läuft entlang einer küste .</span><br /><span style=\"color:green\"><b>Ground truth translation:</b> a little girl running at on the shore of a beach .</span><br /><span style=\"color:red\"><b>Predicted translation:</b> a little girl is walking down the street .</span></p>"
      ],
      "text/plain": [
       "<IPython.core.display.HTML object>"
      ]
     },
     "metadata": {},
     "output_type": "display_data"
    },
    {
     "name": "stdout",
     "output_type": "stream",
     "text": [
      "====================================================================================================\n"
     ]
    }
   ],
   "source": [
    "sentences, translated_sentences, dest_sentences, pred_logps = translate(sentences=test_data, model=seq2seq, beam_size=1, src_field=DE,\n",
    "                                                                        dest_field=EN, max_len=50, device=DEVICE)\n",
    "indexes = np.random.choice(len(test_data.examples), size=20, replace=False)\n",
    "print(indexes)\n",
    "print()\n",
    "for i in indexes:\n",
    "    html = f'<p><span style=\"color:blue\"><b>Source:</b> {sentences[i]}</span><br />'\n",
    "    html += f'<span style=\"color:green\"><b>Ground truth translation:</b> {dest_sentences[i]}</span><br />'\n",
    "    html += f'<span style=\"color:red\"><b>Predicted translation:</b> {translated_sentences[i]}</span></p>'\n",
    "    display(HTML(html))\n",
    "    print('='*100)"
   ]
  },
  {
   "cell_type": "code",
   "execution_count": 50,
   "metadata": {},
   "outputs": [
    {
     "name": "stderr",
     "output_type": "stream",
     "text": [
      "100%|██████████| 1000/1000 [00:13<00:00, 73.06it/s]\n"
     ]
    }
   ],
   "source": [
    "def get_dest_logp(model, data, src_field, dest_field, device):\n",
    "    dest_logps = []\n",
    "        \n",
    "    model.eval()\n",
    "    with torch.no_grad():\n",
    "        pbar = tqdm.tqdm(enumerate(data), total=len(data))\n",
    "        for i, data in pbar:\n",
    "            src_sequence, src_length = src_field.process([data.src])\n",
    "            dest_sequence, dest_length = dest_field.process([data.trg])\n",
    "            src_sequence, src_length = src_sequence.to(device), src_length.to(device)\n",
    "            dest_sequence, dest_length = dest_sequence.to(device), dest_length.to(device)\n",
    "                \n",
    "            # Encoding\n",
    "            h_state, c_state = model.encoder(input_sequences=src_sequence, sequence_lengths=src_length)\n",
    "                \n",
    "            # Init hidden and memory states\n",
    "            h_state = model.init_h0(h_state.permute(1, 2, 0)) # [1, hidden_size, n_layers]\n",
    "            c_state = model.init_c0(c_state.permute(1, 2, 0)) # [1, hidden_size, n_layers]\n",
    "            h_state = h_state.permute(2, 0, 1) # [n_layers, 1, hidden_size]\n",
    "            c_state = c_state.permute(2, 0, 1) # [n_layers, 1, hidden_size]\n",
    "            \n",
    "            logps = []\n",
    "            \n",
    "            # Decoding\n",
    "            input_word_index = torch.LongTensor([dest_field.vocab.stoi[dest_field.init_token]]).to(device)\n",
    "            \n",
    "            # Generate tokens\n",
    "            for idx in range(dest_sequence.shape[0]):\n",
    "                # Decode\n",
    "                logit, h_state, c_state = model.decoder(input_word_index=input_word_index, \n",
    "                                                        h_state=h_state.contiguous(),\n",
    "                                                        c_state=c_state.contiguous())\n",
    "                # logit: [1, vocab_size]\n",
    "                # h_state: [n_layers, 1, hidden_size]\n",
    "                # c_state: [n_layers, 1, hidden_size]\n",
    "                \n",
    "                # Get scores\n",
    "                logp = F.log_softmax(logit, dim=1).squeeze(dim=0) # [vocab_size]\n",
    "                \n",
    "                # Get logp of ground truth ouput\n",
    "                input_word_index = dest_sequence[idx]\n",
    "                logps.append(logp[input_word_index].cpu().item())\n",
    "                \n",
    "            dest_logps.append(sum(logps))\n",
    "    \n",
    "    return dest_logps\n",
    "\n",
    "dest_logps = get_dest_logp(model=seq2seq, data=test_data, src_field=DE, dest_field=EN, device=DEVICE)"
   ]
  },
  {
   "cell_type": "code",
   "execution_count": 51,
   "metadata": {},
   "outputs": [],
   "source": [
    "assert len(pred_logps) == len(dest_logps) == len(test_data), f'{len(pred_logps)}, {len(dest_logps)}, {len(test_data)}'"
   ]
  },
  {
   "cell_type": "code",
   "execution_count": 52,
   "metadata": {},
   "outputs": [
    {
     "name": "stdout",
     "output_type": "stream",
     "text": [
      "Beam search fault rate: 66.900%\n",
      "Model fault rate: 33.100%\n"
     ]
    }
   ],
   "source": [
    "beam_search_faults = np.array(dest_logps) > np.array(pred_logps)\n",
    "\n",
    "beam_search_fault_rate = beam_search_faults.sum() / beam_search_faults.size\n",
    "print(f'Beam search fault rate: {beam_search_fault_rate * 100:.3f}%')\n",
    "print(f'Model fault rate: {(1 - beam_search_fault_rate) * 100:.3f}%')"
   ]
  },
  {
   "cell_type": "code",
   "execution_count": 53,
   "metadata": {},
   "outputs": [],
   "source": [
    "beam_search_fault_indexes = np.where(beam_search_faults == True)[0]\n",
    "model_fault_indexes = np.where(beam_search_faults == False)[0]"
   ]
  },
  {
   "cell_type": "code",
   "execution_count": 54,
   "metadata": {},
   "outputs": [
    {
     "data": {
      "text/html": [
       "<p><span style=\"color:blue\"><b>Source:</b> drei sportler halten blumensträuße und stehen auf dem siegerpodest .</span><br /><span style=\"color:green\"><b>Ground truth translation:</b> three athletes holding bouquets stand on the victory podium .</span><br /><span style=\"color:red\"><b>Predicted translation (Beam search fault):</b> three workers are standing and standing on the <unk> of a <unk> .</span><br />"
      ],
      "text/plain": [
       "<IPython.core.display.HTML object>"
      ]
     },
     "metadata": {},
     "output_type": "display_data"
    },
    {
     "name": "stdout",
     "output_type": "stream",
     "text": [
      "====================================================================================================\n"
     ]
    },
    {
     "data": {
      "text/html": [
       "<p><span style=\"color:blue\"><b>Source:</b> ein junge und ein mädchen stehen gemeinsam auf dem gehsteig und betrachten einen gegenstand .</span><br /><span style=\"color:green\"><b>Ground truth translation:</b> a boy and girl standing together on the pavement as they look at an object .</span><br /><span style=\"color:red\"><b>Predicted translation (Beam search fault):</b> a boy and a girl are standing on the ground on a sidewalk and looking .</span><br />"
      ],
      "text/plain": [
       "<IPython.core.display.HTML object>"
      ]
     },
     "metadata": {},
     "output_type": "display_data"
    },
    {
     "name": "stdout",
     "output_type": "stream",
     "text": [
      "====================================================================================================\n"
     ]
    },
    {
     "data": {
      "text/html": [
       "<p><span style=\"color:blue\"><b>Source:</b> mann ohne hemd starrt vor einem café in die ferne während drei frauen an einer menschenmenge vorbeigehen .</span><br /><span style=\"color:green\"><b>Ground truth translation:</b> shirtless guy staring off in the distance while three woman are walking past a crowd sitting outside a cafe .</span><br /><span style=\"color:red\"><b>Predicted translation (Beam search fault):</b> man in a shirt is holding a picture of two people in front of a crowd of people look on .</span><br />"
      ],
      "text/plain": [
       "<IPython.core.display.HTML object>"
      ]
     },
     "metadata": {},
     "output_type": "display_data"
    },
    {
     "name": "stdout",
     "output_type": "stream",
     "text": [
      "====================================================================================================\n"
     ]
    },
    {
     "data": {
      "text/html": [
       "<p><span style=\"color:blue\"><b>Source:</b> zwei grün gekleidete männer bereiten in einem restaurant essen zu .</span><br /><span style=\"color:green\"><b>Ground truth translation:</b> two men dressed in green are preparing food in a restaurant .</span><br /><span style=\"color:red\"><b>Predicted translation (Beam search fault):</b> two young men in white clothing are eating a restaurant .</span><br />"
      ],
      "text/plain": [
       "<IPython.core.display.HTML object>"
      ]
     },
     "metadata": {},
     "output_type": "display_data"
    },
    {
     "name": "stdout",
     "output_type": "stream",
     "text": [
      "====================================================================================================\n"
     ]
    },
    {
     "data": {
      "text/html": [
       "<p><span style=\"color:blue\"><b>Source:</b> ein arbeiter in einem orangefarbenen arbeitsanzug kniet und inspiziert eine maschine .</span><br /><span style=\"color:green\"><b>Ground truth translation:</b> a worker in an orange work suit is kneeling down inspecting a piece of machinery .</span><br /><span style=\"color:red\"><b>Predicted translation (Beam search fault):</b> a worker in a orange vest is working and <unk> a <unk> .</span><br />"
      ],
      "text/plain": [
       "<IPython.core.display.HTML object>"
      ]
     },
     "metadata": {},
     "output_type": "display_data"
    },
    {
     "name": "stdout",
     "output_type": "stream",
     "text": [
      "====================================================================================================\n"
     ]
    }
   ],
   "source": [
    "for i in np.random.choice(beam_search_fault_indexes, size=5, replace=False):\n",
    "    html = f'<p><span style=\"color:blue\"><b>Source:</b> {sentences[i]}</span><br />'\n",
    "    html += f'<span style=\"color:green\"><b>Ground truth translation:</b> {dest_sentences[i]}</span><br />'\n",
    "    html += f'<span style=\"color:red\"><b>Predicted translation (Beam search fault):</b> {translated_sentences[i]}</span><br />'\n",
    "    display(HTML(html))\n",
    "    print('='*100)"
   ]
  },
  {
   "cell_type": "code",
   "execution_count": 55,
   "metadata": {},
   "outputs": [
    {
     "data": {
      "text/html": [
       "<p><span><b>Source:</b> zwei personen klettern einen steilen berg hoch .</span><br /><span style=\"color:green\"><b>Ground truth translation:</b> two individual climbing up a steep mountain .</span><br /><span style=\"color:blue\"><b>Predicted translation (Model fault):</b> two people climbing a mountain trail .</span><br />"
      ],
      "text/plain": [
       "<IPython.core.display.HTML object>"
      ]
     },
     "metadata": {},
     "output_type": "display_data"
    },
    {
     "name": "stdout",
     "output_type": "stream",
     "text": [
      "====================================================================================================\n"
     ]
    },
    {
     "data": {
      "text/html": [
       "<p><span><b>Source:</b> ein schwarz-weißer hund läuft zu einem kaputten ball im schnee .</span><br /><span style=\"color:green\"><b>Ground truth translation:</b> a black - and - white dog goes for a flattened ball on the snow .</span><br /><span style=\"color:blue\"><b>Predicted translation (Model fault):</b> a black and white dog is running through the snow in a snow .</span><br />"
      ],
      "text/plain": [
       "<IPython.core.display.HTML object>"
      ]
     },
     "metadata": {},
     "output_type": "display_data"
    },
    {
     "name": "stdout",
     "output_type": "stream",
     "text": [
      "====================================================================================================\n"
     ]
    },
    {
     "data": {
      "text/html": [
       "<p><span><b>Source:</b> zwei männer mit mützen .</span><br /><span style=\"color:green\"><b>Ground truth translation:</b> two men wearing hats .</span><br /><span style=\"color:blue\"><b>Predicted translation (Model fault):</b> two men with hats are talking .</span><br />"
      ],
      "text/plain": [
       "<IPython.core.display.HTML object>"
      ]
     },
     "metadata": {},
     "output_type": "display_data"
    },
    {
     "name": "stdout",
     "output_type": "stream",
     "text": [
      "====================================================================================================\n"
     ]
    },
    {
     "data": {
      "text/html": [
       "<p><span><b>Source:</b> ein mann hält einen anderen mit seinem rücken hoch .</span><br /><span style=\"color:green\"><b>Ground truth translation:</b> a man holding up another with his back .</span><br /><span style=\"color:blue\"><b>Predicted translation (Model fault):</b> a man holds a baby with his head .</span><br />"
      ],
      "text/plain": [
       "<IPython.core.display.HTML object>"
      ]
     },
     "metadata": {},
     "output_type": "display_data"
    },
    {
     "name": "stdout",
     "output_type": "stream",
     "text": [
      "====================================================================================================\n"
     ]
    },
    {
     "data": {
      "text/html": [
       "<p><span><b>Source:</b> ein mann telefoniert im freien mit dem handy .</span><br /><span style=\"color:green\"><b>Ground truth translation:</b> a man is talking on a cellphone outside .</span><br /><span style=\"color:blue\"><b>Predicted translation (Model fault):</b> a man is working outside with his cellphone .</span><br />"
      ],
      "text/plain": [
       "<IPython.core.display.HTML object>"
      ]
     },
     "metadata": {},
     "output_type": "display_data"
    },
    {
     "name": "stdout",
     "output_type": "stream",
     "text": [
      "====================================================================================================\n"
     ]
    }
   ],
   "source": [
    "for i in np.random.choice(model_fault_indexes, size=5, replace=False):\n",
    "    html = f'<p><span><b>Source:</b> {sentences[i]}</span><br />'\n",
    "    html += f'<span style=\"color:green\"><b>Ground truth translation:</b> {dest_sentences[i]}</span><br />'\n",
    "    html += f'<span style=\"color:blue\"><b>Predicted translation (Model fault):</b> {translated_sentences[i]}</span><br />'\n",
    "    display(HTML(html))\n",
    "    print('='*100)"
   ]
  },
  {
   "cell_type": "code",
   "execution_count": 56,
   "metadata": {},
   "outputs": [
    {
     "data": {
      "image/png": "[encoded data removed]",
      "text/plain": [
       "<Figure size 864x360 with 2 Axes>"
      ]
     },
     "metadata": {
      "needs_background": "light"
     },
     "output_type": "display_data"
    }
   ],
   "source": [
    "lengths = np.array([*map(len, dest_sentences)])\n",
    "\n",
    "_, axes = plt.subplots(1, 2, figsize=(12, 5))\n",
    "axes[0].hist(lengths[beam_search_fault_indexes])\n",
    "axes[0].set_title('Lengths of beam search faults')\n",
    "axes[0].grid(True)\n",
    "axes[1].hist(lengths[model_fault_indexes])\n",
    "axes[1].set_title('Lengths of model faults')\n",
    "axes[1].grid(True)\n",
    "plt.show()"
   ]
  },
  {
   "cell_type": "code",
   "execution_count": null,
   "metadata": {},
   "outputs": [],
   "source": []
  }
 ],
 "metadata": {
  "kernelspec": {
   "display_name": "Python 3",
   "language": "python",
   "name": "python3"
  },
  "language_info": {
   "codemirror_mode": {
    "name": "ipython",
    "version": 3
   },
   "file_extension": ".py",
   "mimetype": "text/x-python",
   "name": "python",
   "nbconvert_exporter": "python",
   "pygments_lexer": "ipython3",
   "version": "3.6.8"
  }
 },
 "nbformat": 4,
 "nbformat_minor": 4
}
