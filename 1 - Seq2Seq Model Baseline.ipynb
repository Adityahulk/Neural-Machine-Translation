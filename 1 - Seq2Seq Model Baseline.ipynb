{
 "cells": [
  {
   "cell_type": "code",
   "execution_count": 1,
   "metadata": {},
   "outputs": [
    {
     "name": "stdout",
     "output_type": "stream",
     "text": [
      "Fri Mar 27 18:42:35 2020       \r\n",
      "+-----------------------------------------------------------------------------+\r\n",
      "| NVIDIA-SMI 418.67       Driver Version: 418.67       CUDA Version: 10.1     |\r\n",
      "|-------------------------------+----------------------+----------------------+\r\n",
      "| GPU  Name        Persistence-M| Bus-Id        Disp.A | Volatile Uncorr. ECC |\r\n",
      "| Fan  Temp  Perf  Pwr:Usage/Cap|         Memory-Usage | GPU-Util  Compute M. |\r\n",
      "|===============================+======================+======================|\r\n",
      "|   0  Quadro P5000        On   | 00000000:00:05.0 Off |                  Off |\r\n",
      "| 26%   33C    P8     6W / 180W |      1MiB / 16278MiB |      0%      Default |\r\n",
      "+-------------------------------+----------------------+----------------------+\r\n",
      "                                                                               \r\n",
      "+-----------------------------------------------------------------------------+\r\n",
      "| Processes:                                                       GPU Memory |\r\n",
      "|  GPU       PID   Type   Process name                             Usage      |\r\n",
      "|=============================================================================|\r\n",
      "|  No running processes found                                                 |\r\n",
      "+-----------------------------------------------------------------------------+\r\n"
     ]
    }
   ],
   "source": [
    "!nvidia-smi"
   ]
  },
  {
   "cell_type": "markdown",
   "metadata": {
    "colab_type": "text",
    "id": "wEd7p3ARFcyr"
   },
   "source": [
    "# Install & import dependencies"
   ]
  },
  {
   "cell_type": "code",
   "execution_count": 2,
   "metadata": {
    "colab": {
     "base_uri": "https://localhost:8080/",
     "height": 1000
    },
    "colab_type": "code",
    "id": "gttqmxRIFSUa",
    "outputId": "a57491fa-3286-4201-9bc3-22e222adc11a"
   },
   "outputs": [],
   "source": [
    "!pip install torchtext --upgrade > /dev/null 2>&1\n",
    "!python -m spacy download fr > /dev/null 2>&1\n",
    "!python -m spacy download en > /dev/null 2>&1"
   ]
  },
  {
   "cell_type": "code",
   "execution_count": 3,
   "metadata": {
    "colab": {},
    "colab_type": "code",
    "id": "M-A0mVf7GNix"
   },
   "outputs": [],
   "source": [
    "import os\n",
    "import re\n",
    "import tqdm\n",
    "import random\n",
    "import unicodedata\n",
    "import numpy as np\n",
    "import matplotlib.pyplot as plt\n",
    "\n",
    "import spacy\n",
    "\n",
    "import torch\n",
    "import torch.nn as nn\n",
    "import torch.nn.functional as F\n",
    "import torch.optim as optim\n",
    "\n",
    "from torchtext.data import Example, Field, Dataset\n",
    "from torchtext.data.iterator import BucketIterator\n",
    "from torchtext.data.metrics import bleu_score"
   ]
  },
  {
   "cell_type": "code",
   "execution_count": 4,
   "metadata": {
    "colab": {},
    "colab_type": "code",
    "id": "o0iX1ZuNG0wH"
   },
   "outputs": [
    {
     "name": "stdout",
     "output_type": "stream",
     "text": [
      "Device: cuda\n"
     ]
    }
   ],
   "source": [
    "seed = 781\n",
    "random.seed(seed)\n",
    "np.random.seed(seed)\n",
    "torch.manual_seed(seed)\n",
    "torch.cuda.manual_seed(seed)\n",
    "torch.backends.cudnn.deterministic = True\n",
    "\n",
    "device = torch.device('cuda' if torch.cuda.is_available() else 'cpu')\n",
    "print(f'Device: {device}')"
   ]
  },
  {
   "cell_type": "markdown",
   "metadata": {
    "colab_type": "text",
    "id": "v2BPfwqcFk4h"
   },
   "source": [
    "# Download data"
   ]
  },
  {
   "cell_type": "code",
   "execution_count": 5,
   "metadata": {
    "colab": {},
    "colab_type": "code",
    "id": "Gc5EcEA1FnCw"
   },
   "outputs": [],
   "source": [
    "if not os.path.exists('./data'):\n",
    "    !mkdir ./data"
   ]
  },
  {
   "cell_type": "code",
   "execution_count": 6,
   "metadata": {
    "colab": {
     "base_uri": "https://localhost:8080/",
     "height": 0
    },
    "colab_type": "code",
    "id": "wmajgrxCHwsw",
    "outputId": "abcd63e9-f6f2-4eab-bb4e-72616f57de64"
   },
   "outputs": [
    {
     "name": "stdout",
     "output_type": "stream",
     "text": [
      "--2020-03-27 11:37:53--  http://www.statmt.org/europarl/v7/fr-en.tgz\n",
      "Resolving www.statmt.org (www.statmt.org)... 129.215.197.184\n",
      "Connecting to www.statmt.org (www.statmt.org)|129.215.197.184|:80... connected.\n",
      "HTTP request sent, awaiting response... 200 OK\n",
      "Length: 202718517 (193M) [application/x-gzip]\n",
      "Saving to: ‘./data/fr-en.tgz’\n",
      "\n",
      "./data/fr-en.tgz    100%[===================>] 193.33M   123KB/s    in 40m 6s  \n",
      "\n",
      "2020-03-27 12:18:00 (82.3 KB/s) - ‘./data/fr-en.tgz’ saved [202718517/202718517]\n",
      "\n",
      "CPU times: user 42.3 s, sys: 13.9 s, total: 56.2 s\n",
      "Wall time: 40min 7s\n"
     ]
    }
   ],
   "source": [
    "%%time\n",
    "!wget --no-check-certificate \\\n",
    "    http://www.statmt.org/europarl/v7/fr-en.tgz \\\n",
    "    -O ./data/fr-en.tgz"
   ]
  },
  {
   "cell_type": "code",
   "execution_count": 7,
   "metadata": {
    "colab": {
     "base_uri": "https://localhost:8080/",
     "height": 0
    },
    "colab_type": "code",
    "id": "M2r79GZZH7Ip",
    "outputId": "838d4e4c-217d-4c93-afaf-1d4e2a22335d"
   },
   "outputs": [
    {
     "name": "stdout",
     "output_type": "stream",
     "text": [
      "europarl-v7.fr-en.en\n",
      "europarl-v7.fr-en.fr\n",
      "CPU times: user 59.7 ms, sys: 27.2 ms, total: 86.9 ms\n",
      "Wall time: 5.16 s\n"
     ]
    }
   ],
   "source": [
    "%%time\n",
    "!tar -xzvf ./data/fr-en.tgz -C ./data"
   ]
  },
  {
   "cell_type": "markdown",
   "metadata": {
    "colab_type": "text",
    "id": "tazMbPR6Hnjg"
   },
   "source": [
    "# Data processing"
   ]
  },
  {
   "cell_type": "code",
   "execution_count": 6,
   "metadata": {
    "colab": {},
    "colab_type": "code",
    "id": "95Q9N_zBHpTr"
   },
   "outputs": [],
   "source": [
    "def read_file(filepath):\n",
    "    try:\n",
    "        with open(filepath, mode='rt', encoding='utf-8') as file:\n",
    "            content = file.readlines()\n",
    "        return content\n",
    "    except:\n",
    "        raise NotImplementedError(f'File {filepath} doesn\\'t exist')"
   ]
  },
  {
   "cell_type": "code",
   "execution_count": 7,
   "metadata": {
    "colab": {},
    "colab_type": "code",
    "id": "02KzJaPmIjI2"
   },
   "outputs": [],
   "source": [
    "def unicode_to_ascii(s):\n",
    "    # NFD => Normal Form Decompose\n",
    "    # Mn => Non Marking Space\n",
    "    return ''.join(c for c in unicodedata.normalize('NFD', s) \\\n",
    "                    if unicodedata.category(c) != 'Mn')\n",
    "\n",
    "def normalize_string(s):\n",
    "    # Transform accented characters into unaccented ones\n",
    "    s = unicode_to_ascii(s.strip())\n",
    "    # Remove a sequence of whitespace characters\n",
    "    s = re.sub(r'\\s+', r' ', s)\n",
    "    return s.strip()"
   ]
  },
  {
   "cell_type": "code",
   "execution_count": 8,
   "metadata": {
    "colab": {
     "base_uri": "https://localhost:8080/",
     "height": 0
    },
    "colab_type": "code",
    "id": "wlJtKDpMJF-1",
    "outputId": "27290cb2-4a77-4200-b790-819142f587c7"
   },
   "outputs": [
    {
     "name": "stdout",
     "output_type": "stream",
     "text": [
      "Number of examples: 2,007,723\n",
      "CPU times: user 3.59 s, sys: 1.06 s, total: 4.65 s\n",
      "Wall time: 4.63 s\n"
     ]
    }
   ],
   "source": [
    "%%time\n",
    "pairs = [*zip(read_file('./data/europarl-v7.fr-en.fr'),\n",
    "              read_file('./data/europarl-v7.fr-en.en'))]\n",
    "pairs = [*map(lambda x: {'fr': x[0], 'en': x[1]}, pairs)]\n",
    "print(f'Number of examples: {len(pairs):,}')"
   ]
  },
  {
   "cell_type": "markdown",
   "metadata": {},
   "source": [
    "I do not build models the entire dataset, since is very large. Instead, I sample a subset of 30,000 sentence pairs."
   ]
  },
  {
   "cell_type": "code",
   "execution_count": 9,
   "metadata": {},
   "outputs": [
    {
     "name": "stdout",
     "output_type": "stream",
     "text": [
      "Number of examples after sampling: 30,000\n",
      "Example:\n",
      "\tFR => Les procedures par le biais desquelles de tels produits entrent et sortent de l'Union europeenne doivent etre ouvertes, transparentes et, par dessus tout, sures.\n",
      "\tEN => The procedures whereby such products come in and out of the European Union have to be open, transparent and, above all, safe.\n",
      "CPU times: user 4.03 s, sys: 95.7 ms, total: 4.12 s\n",
      "Wall time: 4.12 s\n"
     ]
    }
   ],
   "source": [
    "%%time\n",
    "pairs = np.random.choice(pairs, size=30000, replace=False)\n",
    "pairs = [*map(lambda pair: {k: normalize_string(v) for k, v in pair.items()},\n",
    "              pairs)]\n",
    "print(f'Number of examples after sampling: {len(pairs):,}')\n",
    "print(f'Example:\\n\\tFR => {pairs[0][\"fr\"]}\\n\\tEN => {pairs[0][\"en\"]}')"
   ]
  },
  {
   "cell_type": "markdown",
   "metadata": {},
   "source": [
    "Now, we split data in train, valid and test sets."
   ]
  },
  {
   "cell_type": "code",
   "execution_count": 10,
   "metadata": {
    "colab": {
     "base_uri": "https://localhost:8080/",
     "height": 0
    },
    "colab_type": "code",
    "id": "BAq2uyDyJ6KD",
    "outputId": "64369eb2-8c31-44bf-ecbb-abb0de8122d3"
   },
   "outputs": [
    {
     "name": "stderr",
     "output_type": "stream",
     "text": [
      "100%|██████████| 30000/30000 [00:42<00:00, 699.33it/s]\n"
     ]
    }
   ],
   "source": [
    "FR = Field(init_token='<sos>',\n",
    "           eos_token='<eos>',\n",
    "           preprocessing=lambda x: x[::-1],\n",
    "           lower=True,\n",
    "           tokenize='spacy',\n",
    "           tokenizer_language='fr',\n",
    "           include_lengths=True) # For pack_padded_sequence\n",
    "EN = Field(init_token='<sos>',\n",
    "           eos_token='<eos>',\n",
    "           lower=True,\n",
    "           tokenize='spacy',\n",
    "           tokenizer_language='en')\n",
    "\n",
    "examples = [Example.fromdict(data=pair, fields={'fr': ('src', FR),\n",
    "                                                'en': ('dest', EN)})\n",
    "            for pair in tqdm.tqdm(pairs)]\n",
    "data = Dataset(examples, fields={'src': FR, 'dest': EN})"
   ]
  },
  {
   "cell_type": "code",
   "execution_count": 11,
   "metadata": {},
   "outputs": [
    {
     "name": "stdout",
     "output_type": "stream",
     "text": [
      "train size: 27000\n",
      "valid size: 1500\n",
      "test size: 1500\n",
      "{'src': ['.', 'europeenne', 'communaute', 'la', 'de', 'niveau', 'au', 'micro-gestion', 'une', 'a', 'proceder', 'de', 'tentation', 'la', 'a', 'resister', 'de', 'que', 'ainsi', ',', 'terrain', 'de', 'acteurs', 'les', 'par', 'fournies', 'etre', 'peuvent', 'qui', 'competences', 'des', 'et', 'connaissances', 'des', 'ampleur', \"l'\", 'reconnaitre', 'de', 'important', 'est', 'il', 'et', ',', 'propre', 'specificite', 'sa', 'possede', 'europeennes', 'mers', 'des', 'chacune'], 'dest': ['each', 'of', 'the', 'seas', 'in', 'europe', 'has', 'its', 'own', 'specificity', ',', 'and', 'it', 'is', 'important', 'to', 'recognise', 'the', 'level', 'of', 'knowledge', 'and', 'expertise', 'that', 'can', 'be', 'provided', 'by', 'the', 'stakeholders', 'on', 'the', 'ground', 'and', 'to', 'resist', 'the', 'temptation', 'to', 'micro', '-', 'manage', 'on', 'an', 'eu', 'level', '.']}\n"
     ]
    }
   ],
   "source": [
    "train_data, valid_data, test_data = data.split(split_ratio=[0.9, 0.05, 0.05])\n",
    "print(f'train size: {len(train_data.examples)}')\n",
    "print(f'valid size: {len(valid_data.examples)}')\n",
    "print(f'test size: {len(test_data.examples)}')\n",
    "print(vars(train_data.examples[0]))"
   ]
  },
  {
   "cell_type": "markdown",
   "metadata": {},
   "source": [
    "Since the model understands only number, we need to transform text sequences into sequence of numbers where each numbers represents a unique token. To do this, we build a vocabulary for each language that map words to indexes and vice versa. the vocabulary id built from train set only in order to prevent data leakage. We also add some special tokens:\n",
    "- `<sos>`: for start of sentence.\n",
    "- `<unk>`: for unknown or less frequent words.\n",
    "- `<eos>`: for end of sentence. \n",
    "- `<pad>`: for padding (make all sentences in a batch the same size). "
   ]
  },
  {
   "cell_type": "code",
   "execution_count": 12,
   "metadata": {
    "colab": {
     "base_uri": "https://localhost:8080/",
     "height": 0
    },
    "colab_type": "code",
    "id": "JycVMjsRLmoB",
    "outputId": "1e833ee2-cf9e-47e2-fc21-1b06f9be07f7"
   },
   "outputs": [
    {
     "name": "stdout",
     "output_type": "stream",
     "text": [
      "Length of FR vocabulary: 14508\n",
      "Length of EN vocabulary: 11499\n",
      "CPU times: user 578 ms, sys: 0 ns, total: 578 ms\n",
      "Wall time: 576 ms\n"
     ]
    }
   ],
   "source": [
    "%%time\n",
    "FR.build_vocab(train_data,\n",
    "               min_freq=2,\n",
    "               specials=['<sos>', '<eos>', '<unk>', '<pad>'])\n",
    "EN.build_vocab(train_data,\n",
    "               min_freq=2,\n",
    "               specials=['<sos>', '<eos>', '<unk>', '<pad>'])\n",
    "\n",
    "print(f'Length of FR vocabulary: {len(FR.vocab)}')\n",
    "print(f'Length of EN vocabulary: {len(EN.vocab)}')"
   ]
  },
  {
   "attachments": {
    "image.png": {
     "image/png": "[encoded data removed]"
    }
   },
   "cell_type": "markdown",
   "metadata": {
    "colab_type": "text",
    "id": "nKKRGB9cIbn8"
   },
   "source": [
    "# Modeling\n",
    "\n",
    "The goal is to find the best english sentence $y$ that maximize the likelihood given a french sentence $x$, $P(y|x)$. To do this, we trained a neural probabilistic sequence-to-sequence model.\n",
    "\n",
    "![image.png](attachment:image.png)"
   ]
  },
  {
   "cell_type": "markdown",
   "metadata": {
    "colab_type": "text",
    "id": "yT-6GZgfMXIu"
   },
   "source": [
    "## Encoder\n",
    "\n",
    "The part of model map the source sequence to hidden vector (encoding)."
   ]
  },
  {
   "cell_type": "code",
   "execution_count": 13,
   "metadata": {
    "colab": {},
    "colab_type": "code",
    "id": "gJL7MVwAMVtR"
   },
   "outputs": [],
   "source": [
    "class Encoder(nn.Module):\n",
    "\n",
    "    def __init__(self, embed_size, vocab_size, hidden_size,\n",
    "                 n_layers=1, dropout=0, bidirectional=True):\n",
    "        super(Encoder, self).__init__()\n",
    "        self.hidden_size = hidden_size\n",
    "        self.n_layers = n_layers\n",
    "        self.bidirectional = bidirectional\n",
    "        self.embedding = nn.Embedding(vocab_size, embed_size)\n",
    "        self.dropout = nn.Dropout(dropout)\n",
    "        self.lstm = nn.LSTM(embed_size, hidden_size,\n",
    "                            num_layers=n_layers,\n",
    "                            dropout=(dropout if n_layers > 1 else 0),\n",
    "                            bidirectional=bidirectional)\n",
    "    \n",
    "    def forward(self, in_, seq_len):\n",
    "        \"\"\"\n",
    "        inputs\n",
    "            in_: (seq_len, batch_size)\n",
    "            seq_len: (batch_size)\n",
    "\n",
    "        outputs\n",
    "            out: (seq_len, batch_size, num_directions * hidden_size)\n",
    "            hn: (num_layers * num_directions, batch_size, hidden_size)\n",
    "            cn: (num_layers * num_directions, batch_size, hidden_size)\n",
    "        \"\"\"\n",
    "        embedded = self.embedding(in_)\n",
    "        embedded = self.dropout(embedded)\n",
    "        packed = nn.utils.rnn.pack_padded_sequence(embedded, seq_len)\n",
    "        out, (hn, cn) = self.lstm(packed)\n",
    "        out, _ = nn.utils.rnn.pad_packed_sequence(out)\n",
    "        return out, hn, cn"
   ]
  },
  {
   "cell_type": "markdown",
   "metadata": {
    "colab_type": "text",
    "id": "7cFeoEJpMYgE"
   },
   "source": [
    "## Decoder\n",
    "\n",
    "The part of model performs a conditional language modeling given the hidden vector outputs by the encoder."
   ]
  },
  {
   "cell_type": "code",
   "execution_count": 14,
   "metadata": {
    "colab": {},
    "colab_type": "code",
    "id": "deAfHkCcIdzj"
   },
   "outputs": [],
   "source": [
    "class Decoder(nn.Module):\n",
    "\n",
    "    def __init__(self, embed_size, vocab_size, hidden_size,\n",
    "                 n_layers=1, dropout=0):\n",
    "        super(Decoder, self).__init__()\n",
    "        self.vocab_size = vocab_size\n",
    "        self.hidden_size = hidden_size\n",
    "        self.n_layers = n_layers\n",
    "        self.embedding = nn.Embedding(vocab_size, embed_size)\n",
    "        self.dropout = nn.Dropout(dropout)\n",
    "        self.lstm = nn.LSTM(embed_size, hidden_size,\n",
    "                            num_layers=n_layers,\n",
    "                            dropout=(dropout if n_layers > 1 else 0))\n",
    "        self.fc = nn.Linear(hidden_size, vocab_size)\n",
    "        \n",
    "    def forward(self, in_, h0, c0):\n",
    "        \"\"\"\n",
    "        inputs\n",
    "            in_: (1, batch_size) => seq_len = 1, a word\n",
    "            h0: (num_layers, batch_size, hidden_size)\n",
    "            c0: (num_layers, batch_size, hidden_size)\n",
    "\n",
    "        embed = self.embedding(_in) \n",
    "        # embedded: (1, batch_size, embed_size)\n",
    "        out, hn, cn = self.lstm(embedded)\n",
    "        # out: (1, batch_size, hidden_size)\n",
    "        # hn: (num_layers, batch_size, hidden_size)\n",
    "        # cn: (num_layers, batch_size, hidden_size)\n",
    "        logit = self.fc(out.squeeze(0))\n",
    "        # logit: (batch_size, vocab_size)\n",
    "\n",
    "        outputs: logit, hn, cn\n",
    "        \"\"\"\n",
    "        embedded = self.embedding(in_)\n",
    "        embedded = self.dropout(embedded)\n",
    "        out, (hn, cn) = self.lstm(embedded, (h0, c0))\n",
    "        logit = self.fc(out.squeeze(0))\n",
    "        return logit, hn, cn"
   ]
  },
  {
   "cell_type": "markdown",
   "metadata": {
    "colab_type": "text",
    "id": "2ZwOJLkTMbCt"
   },
   "source": [
    "## Sequence to sequence model\n",
    "\n",
    "This puts encoder and decoder together."
   ]
  },
  {
   "cell_type": "code",
   "execution_count": 15,
   "metadata": {
    "colab": {},
    "colab_type": "code",
    "id": "x5Wd0iNaMgp1"
   },
   "outputs": [],
   "source": [
    "class SeqToSeqNet(nn.Module):\n",
    "\n",
    "    def __init__(self, encoder, decoder, device=device):\n",
    "        assert encoder.n_layers == decoder.n_layers, \\\n",
    "        'Encoder and Decoder have to have the same number of reccurent layers'\n",
    "        assert encoder.hidden_size == decoder.hidden_size, \\\n",
    "        'Encoder and Decoder have to have the same number of reccurent hidden units'\n",
    "\n",
    "        super(SeqToSeqNet, self).__init__()\n",
    "        self.encoder = encoder\n",
    "        self.decoder = decoder\n",
    "        self.device = device\n",
    "\n",
    "    def encode(self, in_, seq_len):\n",
    "        _, hn, cn = self.encoder(in_, seq_len)\n",
    "        # Sum the two directional encoder hn state\n",
    "        if self.encoder.bidirectional:\n",
    "            hn = hn[:self.encoder.n_layers, :, :] + \\\n",
    "                    hn[self.encoder.n_layers:, :, :]\n",
    "            cn = cn[:self.encoder.n_layers, :, :] + \\\n",
    "                    cn[self.encoder.n_layers:, :, :]\n",
    "        return hn, cn\n",
    "\n",
    "    def decode(self, h_state, c_state, target, sos_index, teacher_forcing, ratio):\n",
    "        target_len, batch_size = target.size()\n",
    "        out = torch.zeros((target_len, batch_size, self.decoder.vocab_size),\n",
    "                           device=self.device)\n",
    "        in_ = target[0, :].unsqueeze(0)\n",
    "        for t in range(1, target_len):\n",
    "            logit, h_state, c_state = self.decoder(in_, h_state, c_state)\n",
    "            out[t] = logit # (batch_size, vocab_size)\n",
    "            if teacher_forcing and random.random() < ratio:\n",
    "                in_ = logit.argmax(1).unsqueeze(0) # (1, batch_size)\n",
    "            else:\n",
    "                in_ = target[t, :].unsqueeze(0)\n",
    "        return out\n",
    "    \n",
    "    def forward(self, in_, seq_len, target, sos_index,\n",
    "                teacher_forcing=True, ratio=.5):\n",
    "        \"\"\"\n",
    "        inputs\n",
    "            in_: (seq_len, batch_size)\n",
    "            seq_len: (batch_size)\n",
    "            target: (seq_len, batch_size)\n",
    "            sos_index: int\n",
    "            eos_index: int\n",
    "\n",
    "        outputs\n",
    "            out: (seq_len, batch_size, vocab_size)\n",
    "        \"\"\"\n",
    "        hn, cn = self.encode(in_, seq_len)\n",
    "        out = self.decode(hn, cn, target, sos_index, teacher_forcing, ratio)\n",
    "        return out"
   ]
  },
  {
   "cell_type": "markdown",
   "metadata": {
    "colab_type": "text",
    "id": "LCLUmCfFMjGV"
   },
   "source": [
    "## Training"
   ]
  },
  {
   "cell_type": "code",
   "execution_count": 16,
   "metadata": {
    "colab": {},
    "colab_type": "code",
    "id": "b_aldUUdZ5dv"
   },
   "outputs": [],
   "source": [
    "def init_weights(model):\n",
    "    # for name, param in model.named_parameters():\n",
    "        # nn.init.uniform_(param.data, a=-0.08, b=0.08)\n",
    "    if hasattr(model, 'weight') and model.weight.dim() > 1:\n",
    "        nn.init.xavier_uniform_(model.weight.data)\n",
    "\n",
    "def count_parameters(model):\n",
    "    return sum(p.numel() for p in model.parameters() if p.requires_grad)"
   ]
  },
  {
   "cell_type": "code",
   "execution_count": 17,
   "metadata": {
    "colab": {},
    "colab_type": "code",
    "id": "J1teOdv5q7ns"
   },
   "outputs": [],
   "source": [
    "def plot_grad_flow(named_parameters):\n",
    "    grad_mean, layers = [], []\n",
    "    for name, param in named_parameters:\n",
    "        if param.requires_grad and 'bias' not in name:\n",
    "            layers.append(name)\n",
    "            grad_mean.append(param.grad.abs().mean())\n",
    "    plt.plot(grad_mean, alpha=0.3, color='b')\n",
    "    plt.hlines(0, 0, len(grad_mean) + 1, linewidth=1, color='k' )\n",
    "    plt.xticks(range(0, len(grad_mean), 1), layers, rotation='vertical')\n",
    "    plt.xlim(xmin=0, xmax=len(grad_mean))\n",
    "    # plt.ylim(bottom=-0.001, top=0.02) # Zoom on lower gradients\n",
    "    plt.xlabel('Layers')\n",
    "    plt.ylabel('Mean of gradients')\n",
    "    plt.title('Gradient Flow')\n",
    "    plt.grid(True)"
   ]
  },
  {
   "cell_type": "code",
   "execution_count": 18,
   "metadata": {
    "colab": {},
    "colab_type": "code",
    "id": "u8QgblulqoWT"
   },
   "outputs": [],
   "source": [
    "def train_step(model, opt, loss_func, data_it, grad_clip, sos_index,\n",
    "               epoch_text=''):\n",
    "    epoch_loss = 0.\n",
    "    pbar = tqdm.tqdm(enumerate(data_it), total=len(data_it))\n",
    "    model.train()\n",
    "    for i, data in pbar:\n",
    "        opt.zero_grad()\n",
    "        logits = model(*data.src, data.dest, sos_index)\n",
    "        # *data.src: unpack in_ and seq_len\n",
    "        loss = loss_func(logits[1:].view(-1, logits.size(-1)),\n",
    "                         data.dest[1:].view(-1))\n",
    "        loss.backward()\n",
    "        # plot_grad_flow(model.named_parameters())\n",
    "        if grad_clip:\n",
    "            nn.utils.clip_grad_norm_(model.parameters(), grad_clip)\n",
    "        opt.step()\n",
    "        epoch_loss += loss.item()\n",
    "        pbar.set_description(epoch_text + f'Train Loss: {epoch_loss/(i+1):.3f}')\n",
    "    # plt.show() # Show the gradient flow\n",
    "    return epoch_loss / len(data_it)"
   ]
  },
  {
   "cell_type": "code",
   "execution_count": 19,
   "metadata": {
    "colab": {},
    "colab_type": "code",
    "id": "xYND0IGKrdJu"
   },
   "outputs": [],
   "source": [
    "def valid_step(model, loss_func, data_it, sos_index, epoch_text=''):\n",
    "    epoch_loss = 0.\n",
    "    pbar = tqdm.tqdm(enumerate(data_it), total=len(data_it))\n",
    "    model.eval()\n",
    "    with torch.no_grad():\n",
    "        for i, data in pbar:\n",
    "            logits = model(*data.src, data.dest, sos_index,\n",
    "                           teacher_forcing=False)\n",
    "            loss = loss_func(logits[1:].view(-1, logits.size(-1)),\n",
    "                             data.dest[1:].view(-1))\n",
    "            epoch_loss += loss.item()\n",
    "            pbar.set_description(epoch_text + f'Valid Loss: {epoch_loss/(i+1):.3f}')\n",
    "    return epoch_loss / len(data_it)\n"
   ]
  },
  {
   "cell_type": "code",
   "execution_count": 20,
   "metadata": {
    "colab": {},
    "colab_type": "code",
    "id": "ECEXh0oHwSFN"
   },
   "outputs": [],
   "source": [
    "def train(model, optimizer, scheduler, loss_function, train_it, valid_it, n_epochs, sos_index,\n",
    "          grad_clip=None, save_to='./saved_models', filename='seq2seq-baseline.pt'):\n",
    "    assert callable(loss_function)\n",
    "    if not os.path.exists(save_to):\n",
    "        !mkdir {save_to}\n",
    "\n",
    "    history = {'loss': [], 'val_loss': []}\n",
    "    best_loss = float('inf')\n",
    "    for epoch in range(n_epochs):\n",
    "        epoch_text = f'Epoch: {epoch + 1:02d} - '\n",
    "        loss = train_step(model, optimizer, loss_function, train_it, grad_clip,\n",
    "                          sos_index, epoch_text)\n",
    "        val_loss = valid_step(model, loss_function, valid_it, sos_index,\n",
    "                              epoch_text)\n",
    "\n",
    "        if val_loss < best_loss:\n",
    "            best_loss = val_loss\n",
    "            torch.save({'model': model.state_dict(),\n",
    "                        'optimizer': optimizer.state_dict()},\n",
    "                       f=os.path.join(save_to, filename))\n",
    "            \n",
    "        scheduler.step(val_loss) # Update the learning rate if no improvement\n",
    "\n",
    "        history['loss'].append(loss)\n",
    "        history['val_loss'].append(val_loss)\n",
    "\n",
    "    return history"
   ]
  },
  {
   "cell_type": "code",
   "execution_count": 21,
   "metadata": {
    "colab": {},
    "colab_type": "code",
    "id": "uZV_iUlh3CWo"
   },
   "outputs": [],
   "source": [
    "EMBEDDING_DIM = 300\n",
    "HIDDEN_SIZE = 512\n",
    "N_LAYERS = 2\n",
    "DROPOUT = 0.5\n",
    "LR = 1e-3\n",
    "GRAD_CLIP = 1.0\n",
    "BATCH_SIZE = 128\n",
    "N_EPOCHS = 30\n",
    "MAX_LEN = 50"
   ]
  },
  {
   "cell_type": "code",
   "execution_count": 22,
   "metadata": {
    "colab": {},
    "colab_type": "code",
    "id": "LBekgFKP3C3S"
   },
   "outputs": [],
   "source": [
    "train_iterator, valid_iterator, test_iterator =  \\\n",
    "        BucketIterator.splits((train_data, valid_data,\n",
    "                               test_data),\n",
    "                              batch_size=BATCH_SIZE,\n",
    "                              sort_key=lambda x: len(x.src),\n",
    "                              sort_within_batch=True, # For pack_padded_sequence\n",
    "                              device=device)"
   ]
  },
  {
   "cell_type": "code",
   "execution_count": 23,
   "metadata": {
    "colab": {
     "base_uri": "https://localhost:8080/",
     "height": 35
    },
    "colab_type": "code",
    "id": "aCWVfRdAxY6N",
    "outputId": "1d3a0be8-26c7-404c-ba6c-b1722e7d871d"
   },
   "outputs": [
    {
     "name": "stdout",
     "output_type": "stream",
     "text": [
      "Number of parameters of the model: 27,103,199\n"
     ]
    }
   ],
   "source": [
    "encoder = Encoder(embed_size=EMBEDDING_DIM,\n",
    "                  vocab_size=len(FR.vocab),\n",
    "                  hidden_size=HIDDEN_SIZE,\n",
    "                  n_layers=N_LAYERS,\n",
    "                  dropout=DROPOUT).to(device)\n",
    "decoder = Decoder(embed_size=EMBEDDING_DIM,\n",
    "                  vocab_size=len(EN.vocab),\n",
    "                  hidden_size=HIDDEN_SIZE,\n",
    "                  n_layers=N_LAYERS,\n",
    "                  dropout=DROPOUT).to(device)\n",
    "seq2seq = SeqToSeqNet(encoder=encoder, decoder=decoder).to(device)\n",
    "seq2seq.apply(init_weights)\n",
    "optimizer = optim.Adam(seq2seq.parameters(), lr=LR)\n",
    "scheduler = optim.lr_scheduler.ReduceLROnPlateau(optimizer, patience=1, factor=0.5, min_lr=3e-5)\n",
    "criterion = nn.CrossEntropyLoss(ignore_index=EN.vocab.stoi[EN.pad_token])\n",
    "print(f'Number of parameters of the model: {count_parameters(seq2seq):,}')"
   ]
  },
  {
   "cell_type": "code",
   "execution_count": 24,
   "metadata": {
    "colab": {
     "base_uri": "https://localhost:8080/",
     "height": 1000
    },
    "colab_type": "code",
    "id": "R22m0tls06BS",
    "outputId": "d6f9779c-82ff-4e0b-9a4b-e8fdffe98111"
   },
   "outputs": [
    {
     "name": "stderr",
     "output_type": "stream",
     "text": [
      "Epoch: 01 - Train Loss: 6.207: 100%|██████████| 211/211 [01:14<00:00,  2.81it/s]\n",
      "Epoch: 01 - Valid Loss: 5.978: 100%|██████████| 12/12 [00:00<00:00, 15.51it/s]\n",
      "Epoch: 02 - Train Loss: 5.976: 100%|██████████| 211/211 [01:15<00:00,  2.79it/s]\n",
      "Epoch: 02 - Valid Loss: 5.847: 100%|██████████| 12/12 [00:00<00:00, 15.41it/s]\n",
      "Epoch: 03 - Train Loss: 5.724: 100%|██████████| 211/211 [01:15<00:00,  2.79it/s]\n",
      "Epoch: 03 - Valid Loss: 5.275: 100%|██████████| 12/12 [00:00<00:00, 15.36it/s]\n",
      "Epoch: 04 - Train Loss: 5.442: 100%|██████████| 211/211 [01:16<00:00,  2.77it/s]\n",
      "Epoch: 04 - Valid Loss: 4.965: 100%|██████████| 12/12 [00:00<00:00, 15.43it/s]\n",
      "Epoch: 05 - Train Loss: 5.240: 100%|██████████| 211/211 [01:16<00:00,  2.76it/s]\n",
      "Epoch: 05 - Valid Loss: 4.800: 100%|██████████| 12/12 [00:00<00:00, 15.52it/s]\n",
      "Epoch: 06 - Train Loss: 5.115: 100%|██████████| 211/211 [01:16<00:00,  2.76it/s]\n",
      "Epoch: 06 - Valid Loss: 4.676: 100%|██████████| 12/12 [00:00<00:00, 15.40it/s]\n",
      "Epoch: 07 - Train Loss: 4.974: 100%|██████████| 211/211 [01:15<00:00,  2.78it/s]\n",
      "Epoch: 07 - Valid Loss: 4.574: 100%|██████████| 12/12 [00:00<00:00, 15.44it/s]\n",
      "Epoch: 08 - Train Loss: 4.864: 100%|██████████| 211/211 [01:15<00:00,  2.78it/s]\n",
      "Epoch: 08 - Valid Loss: 4.485: 100%|██████████| 12/12 [00:00<00:00, 15.56it/s]\n",
      "Epoch: 09 - Train Loss: 4.767: 100%|██████████| 211/211 [01:16<00:00,  2.75it/s]\n",
      "Epoch: 09 - Valid Loss: 4.429: 100%|██████████| 12/12 [00:00<00:00, 15.41it/s]\n",
      "Epoch: 10 - Train Loss: 4.694: 100%|██████████| 211/211 [01:17<00:00,  2.73it/s]\n",
      "Epoch: 10 - Valid Loss: 4.364: 100%|██████████| 12/12 [00:00<00:00, 15.31it/s]\n",
      "Epoch: 11 - Train Loss: 4.603: 100%|██████████| 211/211 [01:17<00:00,  2.74it/s]\n",
      "Epoch: 11 - Valid Loss: 4.323: 100%|██████████| 12/12 [00:00<00:00, 15.35it/s]\n",
      "Epoch: 12 - Train Loss: 4.512: 100%|██████████| 211/211 [01:15<00:00,  2.79it/s]\n",
      "Epoch: 12 - Valid Loss: 4.279: 100%|██████████| 12/12 [00:00<00:00, 15.28it/s]\n",
      "Epoch: 13 - Train Loss: 4.466: 100%|██████████| 211/211 [01:15<00:00,  2.80it/s]\n",
      "Epoch: 13 - Valid Loss: 4.250: 100%|██████████| 12/12 [00:00<00:00, 15.50it/s]\n",
      "Epoch: 14 - Train Loss: 4.385: 100%|██████████| 211/211 [01:17<00:00,  2.74it/s]\n",
      "Epoch: 14 - Valid Loss: 4.227: 100%|██████████| 12/12 [00:00<00:00, 15.40it/s]\n",
      "Epoch: 15 - Train Loss: 4.318: 100%|██████████| 211/211 [01:16<00:00,  2.77it/s]\n",
      "Epoch: 15 - Valid Loss: 4.198: 100%|██████████| 12/12 [00:00<00:00, 15.39it/s]\n",
      "Epoch: 16 - Train Loss: 4.245: 100%|██████████| 211/211 [01:16<00:00,  2.76it/s]\n",
      "Epoch: 16 - Valid Loss: 4.178: 100%|██████████| 12/12 [00:00<00:00, 15.29it/s]\n",
      "Epoch: 17 - Train Loss: 4.174: 100%|██████████| 211/211 [01:15<00:00,  2.78it/s]\n",
      "Epoch: 17 - Valid Loss: 4.159: 100%|██████████| 12/12 [00:00<00:00, 15.26it/s]\n",
      "Epoch: 18 - Train Loss: 4.106: 100%|██████████| 211/211 [01:16<00:00,  2.75it/s]\n",
      "Epoch: 18 - Valid Loss: 4.146: 100%|██████████| 12/12 [00:00<00:00, 15.38it/s]\n",
      "Epoch: 19 - Train Loss: 4.045: 100%|██████████| 211/211 [01:17<00:00,  2.74it/s]\n",
      "Epoch: 19 - Valid Loss: 4.126: 100%|██████████| 12/12 [00:00<00:00, 15.26it/s]\n",
      "Epoch: 20 - Train Loss: 3.984: 100%|██████████| 211/211 [01:16<00:00,  2.75it/s]\n",
      "Epoch: 20 - Valid Loss: 4.116: 100%|██████████| 12/12 [00:00<00:00, 15.43it/s]\n",
      "Epoch: 21 - Train Loss: 3.938: 100%|██████████| 211/211 [01:15<00:00,  2.78it/s]\n",
      "Epoch: 21 - Valid Loss: 4.119: 100%|██████████| 12/12 [00:00<00:00, 15.32it/s]\n",
      "Epoch: 22 - Train Loss: 3.880: 100%|██████████| 211/211 [01:16<00:00,  2.75it/s]\n",
      "Epoch: 22 - Valid Loss: 4.097: 100%|██████████| 12/12 [00:00<00:00, 15.23it/s]\n",
      "Epoch: 23 - Train Loss: 3.802: 100%|██████████| 211/211 [01:16<00:00,  2.76it/s]\n",
      "Epoch: 23 - Valid Loss: 4.103: 100%|██████████| 12/12 [00:00<00:00, 15.24it/s]\n",
      "Epoch: 24 - Train Loss: 3.764: 100%|██████████| 211/211 [01:15<00:00,  2.78it/s]\n",
      "Epoch: 24 - Valid Loss: 4.106: 100%|██████████| 12/12 [00:00<00:00, 15.36it/s]\n",
      "Epoch: 25 - Train Loss: 3.645: 100%|██████████| 211/211 [01:16<00:00,  2.76it/s]\n",
      "Epoch: 25 - Valid Loss: 4.086: 100%|██████████| 12/12 [00:00<00:00, 15.33it/s]\n",
      "Epoch: 26 - Train Loss: 3.602: 100%|██████████| 211/211 [01:15<00:00,  2.78it/s]\n",
      "Epoch: 26 - Valid Loss: 4.093: 100%|██████████| 12/12 [00:00<00:00, 15.42it/s]\n",
      "Epoch: 27 - Train Loss: 3.573: 100%|██████████| 211/211 [01:16<00:00,  2.74it/s]\n",
      "Epoch: 27 - Valid Loss: 4.091: 100%|██████████| 12/12 [00:00<00:00, 15.14it/s]\n",
      "Epoch: 28 - Train Loss: 3.519: 100%|██████████| 211/211 [01:15<00:00,  2.78it/s]\n",
      "Epoch: 28 - Valid Loss: 4.099: 100%|██████████| 12/12 [00:00<00:00, 15.35it/s]\n",
      "Epoch: 29 - Train Loss: 3.481: 100%|██████████| 211/211 [01:17<00:00,  2.74it/s]\n",
      "Epoch: 29 - Valid Loss: 4.095: 100%|██████████| 12/12 [00:00<00:00, 15.30it/s]\n",
      "Epoch: 30 - Train Loss: 3.438: 100%|██████████| 211/211 [01:15<00:00,  2.80it/s]\n",
      "Epoch: 30 - Valid Loss: 4.100: 100%|██████████| 12/12 [00:00<00:00, 15.27it/s]"
     ]
    },
    {
     "name": "stdout",
     "output_type": "stream",
     "text": [
      "CPU times: user 29min 32s, sys: 9min 7s, total: 38min 40s\n",
      "Wall time: 38min 56s\n"
     ]
    },
    {
     "name": "stderr",
     "output_type": "stream",
     "text": [
      "\n"
     ]
    }
   ],
   "source": [
    "%%time\n",
    "history = train(seq2seq, optimizer, scheduler, criterion,\n",
    "                train_iterator, valid_iterator,\n",
    "                sos_index=EN.vocab.stoi[EN.init_token],\n",
    "                n_epochs=N_EPOCHS, grad_clip=GRAD_CLIP)"
   ]
  },
  {
   "cell_type": "code",
   "execution_count": 30,
   "metadata": {
    "colab": {
     "base_uri": "https://localhost:8080/",
     "height": 281
    },
    "colab_type": "code",
    "id": "PQ_klP1-6XyF",
    "outputId": "594ec77b-331d-4a6e-87eb-3da5088583a8"
   },
   "outputs": [
    {
     "data": {
      "image/png": "[encoded data removed]",
      "text/plain": [
       "<Figure size 432x288 with 1 Axes>"
      ]
     },
     "metadata": {
      "needs_background": "light"
     },
     "output_type": "display_data"
    }
   ],
   "source": [
    "plt.plot(history['loss'], label='train')\n",
    "plt.plot(history['val_loss'], label='valid')\n",
    "plt.title('Loss history')\n",
    "plt.xlabel('Epochs')\n",
    "plt.ylabel('Loss')\n",
    "plt.legend()\n",
    "plt.grid(True)\n",
    "plt.show()"
   ]
  },
  {
   "cell_type": "code",
   "execution_count": 24,
   "metadata": {
    "colab": {
     "base_uri": "https://localhost:8080/",
     "height": 35
    },
    "colab_type": "code",
    "id": "DxDV_RX866Hp",
    "outputId": "6448b84f-af1d-4bc1-e7c7-7dc8cebaaae2"
   },
   "outputs": [
    {
     "name": "stderr",
     "output_type": "stream",
     "text": [
      "Test loss => Valid Loss: 4.115: 100%|██████████| 12/12 [00:00<00:00, 13.43it/s]"
     ]
    },
    {
     "name": "stdout",
     "output_type": "stream",
     "text": [
      "\n",
      "Test Loss=4.115, Perplexity=61.255\n"
     ]
    },
    {
     "name": "stderr",
     "output_type": "stream",
     "text": [
      "\n"
     ]
    }
   ],
   "source": [
    "seq2seq.load_state_dict(torch.load('./saved_models/seq2seq-baseline.pt').get('model'))\n",
    "test_loss = valid_step(seq2seq, criterion, test_iterator,\n",
    "                       sos_index=EN.vocab.stoi[EN.init_token],\n",
    "                       epoch_text='Test loss => ')\n",
    "print()\n",
    "print(f'Test Loss={test_loss:.3f}, Perplexity={np.exp(test_loss):.3f}')"
   ]
  },
  {
   "cell_type": "markdown",
   "metadata": {
    "colab_type": "text",
    "id": "kC8tYcPCLgz5"
   },
   "source": [
    "# Perplexity, Inference & BLEU Score\n",
    "\n",
    "We two metrics to evaluate the model:\n",
    "\n",
    "- **Extrinsic evalution:** evaluates the quality of the downstream task (Machine Translation). We used **BLEU Score** as main metrics.\n",
    "\n",
    "$$ BLEU =  $$\n",
    "\n",
    "- **Intrinsic evalution:** evaluates the quality the language model itself (decoder). We user **Perplexity**\n",
    "\n",
    "$$ Perplexity = \\prod_{t=1}^T (\\frac{1}{P_{LM}(x_{t+1}|x_{t}, ..., x_{1})})^{\\frac{1}{T}} $$\n",
    "\n",
    "For inference, we can use three different algorithms:\n",
    "\n",
    "- **Greedy decoding:** it's a simple and intuitive method. It gives low quality output.\n",
    "- **Sampling method:** it's  a way to get more diversity and randomness. We can also apply temperature in order to control diversity\n",
    "- **Beam search:** searches for high probability output. Delivers better quality than greedy, but if beam size is too high, can return high-probability but unsuitable output (e.g. generic, short)"
   ]
  },
  {
   "cell_type": "code",
   "execution_count": 25,
   "metadata": {
    "colab": {
     "base_uri": "https://localhost:8080/",
     "height": 277
    },
    "colab_type": "code",
    "id": "bCe-iET5mwf3",
    "outputId": "1d3ff501-f297-478b-f0a2-32e5957f637b"
   },
   "outputs": [],
   "source": [
    "class InferenceAlgo:\n",
    "    \"\"\"\n",
    "    Inference algorithms\n",
    "    \"\"\"\n",
    "    GREEDY = 'GREEDY'\n",
    "    SAMPLING = 'SAMPLING'\n",
    "    BEAM_SEARCH = 'BEAM_SEARCH'"
   ]
  },
  {
   "cell_type": "code",
   "execution_count": 26,
   "metadata": {},
   "outputs": [],
   "source": [
    "class BeamNode:\n",
    "    __index = 0\n",
    "\n",
    "    def __init__(self, token, h_state, c_state, logp, path_logp, step, parent):\n",
    "        self.token = token\n",
    "        self.h_state = h_state\n",
    "        self.c_state = c_state\n",
    "        self.logp = logp\n",
    "        self.path_logp = path_logp\n",
    "        self.step = step\n",
    "        self.index = self.__class__.__index\n",
    "        self.parent = parent\n",
    "\n",
    "        self.__class__.__index += 1"
   ]
  },
  {
   "cell_type": "code",
   "execution_count": 40,
   "metadata": {},
   "outputs": [],
   "source": [
    "class BeamSearch:\n",
    "\n",
    "    def __init__(self, decoder, h_state, c_state, sos_token, eos_token, beam_size, device=device):\n",
    "        self.decoder = decoder\n",
    "        self.sos_token = sos_token\n",
    "        self.eos_token = eos_token\n",
    "        self.beam_size = beam_size\n",
    "        self.device = device\n",
    "\n",
    "        self.tree = []\n",
    "        self.step = 0\n",
    "        self.terminal = False\n",
    "\n",
    "        root = BeamNode(token=sos_token, h_state=h_state, c_state=c_state,\n",
    "                        logp=0., path_logp=0., step=0, parent=None)\n",
    "        self.tree.append([root])\n",
    "\n",
    "    def one_step(self):\n",
    "        self.step += 1\n",
    "        children = []\n",
    "        for node in self.tree[-1]:\n",
    "            if node.token == self.eos_token:\n",
    "                continue\n",
    "\n",
    "            in_ = torch.tensor([[node.token]], device=self.device)\n",
    "            logit, h_state, c_state = self.decoder(in_, node.h_state, node.c_state)\n",
    "            logps = F.softmax(logit, dim=1).squeeze(0).cpu().numpy()\n",
    "            logps = np.log(logps)\n",
    "            \n",
    "            path_logps = logps + node.path_logp\n",
    "            topk_tokens = np.argsort(path_logps)[::-1][:self.beam_size]\n",
    "\n",
    "            for token in topk_tokens:\n",
    "                child = BeamNode(token=token, h_state=h_state, c_state=c_state,\n",
    "                                 logp=logps[token], path_logp=path_logps[token],\n",
    "                                 step=self.step, parent=node.index)\n",
    "                children.append(child)\n",
    "        self.tree.append(children)\n",
    "        \n",
    "        if len(children) == 0:\n",
    "            self.terminal = True\n",
    "        \n",
    "    def prune(self):\n",
    "        if self.terminal:\n",
    "            self.tree = self.tree[:-1]\n",
    "        else:\n",
    "            self.tree[-1].sort(key=lambda node: node.path_logp, reverse=True)\n",
    "            self.tree[-1] = self.tree[-1][:self.beam_size]\n",
    "\n",
    "    def get_path(self):\n",
    "        current_node = max(self.tree[-1], key=lambda node: node.path_logp)\n",
    "        parent = current_node.parent\n",
    "        nodes = [current_node]\n",
    "        while parent is not None:\n",
    "            for node in self.tree[current_node.step - 1]:\n",
    "                if node.index == parent:\n",
    "                    nodes.append(node)\n",
    "                    current_node = node\n",
    "                    parent = node.parent\n",
    "                    break\n",
    "        return nodes[::-1]"
   ]
  },
  {
   "cell_type": "code",
   "execution_count": 41,
   "metadata": {},
   "outputs": [],
   "source": [
    "class Inference:\n",
    "    \n",
    "    def __init__(self, model, src_field, dest_field, device=device):\n",
    "        self.model = model\n",
    "        self.src_field = src_field\n",
    "        self.dest_field = dest_field\n",
    "        self.device = device\n",
    "        \n",
    "    def greedy_search(self, h_state, c_state, max_len):\n",
    "        translated_sequence = []\n",
    "        sos_token = self.dest_field.vocab.stoi[self.dest_field.init_token]\n",
    "        eos_token = self.dest_field.vocab.stoi[self.dest_field.eos_token]\n",
    "        in_ = torch.tensor([[sos_token]], device=self.device)\n",
    "        for t in range(max_len):\n",
    "            logit, h_state, c_state = self.model.decoder(in_, h_state, c_state)\n",
    "            probs = F.softmax(logit, dim=1) # (1, vocab_size)\n",
    "            token = torch.multinomial(probs, 1).squeeze().cpu().item() # (1, 1)\n",
    "            if token == eos_token:\n",
    "                break\n",
    "            translated_sequence.append(token)\n",
    "            in_ = torch.tensor([[token]], device=self.device)\n",
    "        return translated_sequence\n",
    "    \n",
    "    def sampling(self, h_state, c_state, max_len):\n",
    "        translated_sequence = []\n",
    "        sos_token = self.dest_field.vocab.stoi[self.dest_field.init_token]\n",
    "        eos_token = self.dest_field.vocab.stoi[self.dest_field.eos_token]\n",
    "        in_ = torch.tensor([[sos_token]], device=self.device)\n",
    "        for t in range(max_len):\n",
    "            logit, h_state, c_state = self.model.decoder(in_, h_state, c_state)\n",
    "            token = logit.argmax(1).cpu().item()\n",
    "            if token == eos_token:\n",
    "                break\n",
    "            translated_sequence.append(token)\n",
    "            in_ = torch.tensor([[token]], device=self.device)\n",
    "        return translated_sequence\n",
    "    \n",
    "    def beam_search(self, h_state, c_state, max_len, beam_size):\n",
    "        sos_token = self.dest_field.vocab.stoi[self.dest_field.init_token]\n",
    "        eos_token = self.dest_field.vocab.stoi[self.dest_field.eos_token]\n",
    "        beamsearch = BeamSearch(self.model.decoder, h_state, c_state, sos_token, eos_token, beam_size, self.device)\n",
    "        i = 0\n",
    "        while i < max_len - 1:\n",
    "            beamsearch.one_step()\n",
    "            beamsearch.prune()\n",
    "            i += 1\n",
    "            if beamsearch.terminal:\n",
    "                break\n",
    "        nodes = beamsearch.get_path()\n",
    "        translated_sequence = [*map(lambda node: node.token, nodes)]\n",
    "        translated_sequence = [token for token in translated_sequence\n",
    "                               if token != sos_token and token != eos_token]\n",
    "        return translated_sequence\n",
    "    \n",
    "    def translate(self, sentences, max_len, algo, preprocess, beam_size=None):\n",
    "        if preprocess: # To split and reverse sentences\n",
    "            sentences = [*map(self.src_field.preprocess, sentences)]\n",
    "        sentences, seq_lens = self.src_field.process(sentences)\n",
    "        \n",
    "        translated_sequences = []\n",
    "        pbar = tqdm.tqdm([*zip(sentences.t(), seq_lens)])\n",
    "        self.model.eval()\n",
    "        with torch.no_grad():\n",
    "            for data in pbar:\n",
    "                sequence, seq_len = data\n",
    "                h_state, c_state = self.model.encode(sequence.unsqueeze(1).to(self.device),\n",
    "                                                     seq_len.unsqueeze(0))\n",
    "                if algo == InferenceAlgo.GREEDY:\n",
    "                    translated_sequence = self.greedy_search(h_state, c_state, max_len)\n",
    "                elif algo == InferenceAlgo.SAMPLING:\n",
    "                    translated_sequence = self.sampling(h_state, c_state, max_len)\n",
    "                elif algo == InferenceAlgo.BEAM_SEARCH:\n",
    "                    translated_sequence = self.beam_search(h_state, c_state, max_len, beam_size)\n",
    "                else:\n",
    "                    raise ValueError('Not implemented inference algo!')\n",
    "                    \n",
    "                translated_sequences.append(translated_sequence)\n",
    "        translated_sentences = [[*map(self.dest_field.vocab.itos.__getitem__, translated_sequence)]\n",
    "                                for translated_sequence in translated_sequences]\n",
    "        return translated_sentences"
   ]
  },
  {
   "cell_type": "code",
   "execution_count": 42,
   "metadata": {},
   "outputs": [],
   "source": [
    "# fr_sentences = [pairs[5]['fr'], pairs[9]['fr']]\n",
    "# en_sentences = [pairs[5]['en'], pairs[9]['en']]\n",
    "\n",
    "fr_sentences = [test_data.examples[i].src for i in range(len(test_data.examples))]\n",
    "en_sentences = [test_data.examples[i].dest for i in range(len(test_data.examples))]\n",
    "\n",
    "inference = Inference(seq2seq, FR, EN)"
   ]
  },
  {
   "cell_type": "code",
   "execution_count": 33,
   "metadata": {},
   "outputs": [
    {
     "name": "stderr",
     "output_type": "stream",
     "text": [
      "100%|██████████| 1500/1500 [00:26<00:00, 55.81it/s]\n"
     ]
    },
    {
     "name": "stdout",
     "output_type": "stream",
     "text": [
      "FR: \t\t\t permettez - moi de vous rappeler une partie de l’ article 25 de la declaration universelle des droits de l’ homme : « toute personne a droit a un niveau de vie suffisant pour assurer sa sante , son bien-etre et ceux de sa famille , notamment pour l’ alimentation , l’ habillement , le logement , les soins medicaux … » .\n",
      "----------------------------------------------------------------------------------------------------\n",
      "EN: \t\t\t allow me to remind you of part of article 25 of the universal declaration of human rights : ‘ everyone has the right to a standard of living adequate for the health and well - being of himself and of his family , including food , clothing , housing and medical care … ’\n",
      "EN Translation: \t i should like to take an proverb reference to revision of the court on immigration energy set in this sphere of and major aid to the food forms of property or the , proposed , sexual immigration ; while eu product is exploiting to the i could not produce this\n",
      "####################################################################################################\n",
      "FR: \t\t\t dans notre proposition de resolution , que presque tous les groupes soutiennent , nous precisons que les decisions prises en novembre 2008 dans le cadre du \" bilan de sante \" ne sont pas suffisantes dans la situation actuelle .\n",
      "----------------------------------------------------------------------------------------------------\n",
      "EN: \t\t\t in our motion for a resolution , which is supported by nearly all the groups , we make it clear that the decisions made in november 2008 in connection with the health check are not sufficient for the current situation .\n",
      "EN Translation: \t on this summer , support 's to on two reports aimed into modulation of the debate again - express the rules of mainly the that the original proposal is only so those from the millennium legislation .\n",
      "####################################################################################################\n",
      "FR: \t\t\t nous aurions aime voir si ces efforts significatifs - pour lesquels nous sommes reconnaissants et dont nous avons egalement besoin - se retrouveraient aussi dans le programme annuel .\n",
      "----------------------------------------------------------------------------------------------------\n",
      "EN: \t\t\t we would like to have seen whether these significant efforts - for which we are grateful and which we also need - would also find their way into the annual programme .\n",
      "EN Translation: \t we we remember have both ideas now again , we are debated after possible , we produce to mind all to them about sport .\n",
      "####################################################################################################\n",
      "FR: \t\t\t c' est l' activite qu' il faut accroitre et encourager a tout prix .\n",
      "----------------------------------------------------------------------------------------------------\n",
      "EN: \t\t\t it is activity that must be increased and encouraged at any cost .\n",
      "EN Translation: \t it is is competition ' benefits and endanger the enough effects .\n",
      "####################################################################################################\n",
      "FR: \t\t\t nous avons donc la force et la raison . c' est pourquoi je vous dis , monsieur le ministre , que nous pouvons et que nous devons elaborer une strategie plus visionnaire et nous montrer plus flexibles au niveau tactique .\n",
      "----------------------------------------------------------------------------------------------------\n",
      "EN: \t\t\t right and might are on our side then , and i therefore say to you , mr fischer , that we can and must be far - sighted in our strategy and more flexible in our tactics .\n",
      "EN Translation: \t frankly , we need to know what say is said , it is , and commissioner it is because we about recognise them you the stability and liberalization , and we disagreement .\n",
      "####################################################################################################\n",
      "====================================================================================================\n",
      "======================================== BLEU score: 3.02 % ========================================\n",
      "====================================================================================================\n"
     ]
    }
   ],
   "source": [
    "# Greedy search inference\n",
    "translations = inference.translate(fr_sentences, MAX_LEN, InferenceAlgo.GREEDY, False)\n",
    "bleu = bleu_score(translations, [*map(lambda x: [x], en_sentences)])\n",
    "translations = [*map(lambda sentence: ' '.join(sentence), translations)]\n",
    "\n",
    "indexes = np.random.choice(len(test_data.examples), 5)\n",
    "for i in indexes:\n",
    "    print('FR: \\t\\t\\t', ' '.join(fr_sentences[i][::-1]))\n",
    "    print('-'*100)\n",
    "    print('EN: \\t\\t\\t', ' '.join(en_sentences[i]))\n",
    "    print(f'EN Translation: \\t', translations[i])\n",
    "    print('#'*100)\n",
    "print('='*100)\n",
    "print('='*40 + f' BLEU score: {bleu*100:.2f} % ' + '='*40)\n",
    "print('='*100)"
   ]
  },
  {
   "cell_type": "code",
   "execution_count": 34,
   "metadata": {},
   "outputs": [
    {
     "name": "stderr",
     "output_type": "stream",
     "text": [
      "100%|██████████| 1500/1500 [00:31<00:00, 46.99it/s]\n"
     ]
    },
    {
     "name": "stdout",
     "output_type": "stream",
     "text": [
      "FR: \t\t\t permettez - moi de vous rappeler une partie de l’ article 25 de la declaration universelle des droits de l’ homme : « toute personne a droit a un niveau de vie suffisant pour assurer sa sante , son bien-etre et ceux de sa famille , notamment pour l’ alimentation , l’ habillement , le logement , les soins medicaux … » .\n",
      "----------------------------------------------------------------------------------------------------\n",
      "EN: \t\t\t allow me to remind you of part of article 25 of the universal declaration of human rights : ‘ everyone has the right to a standard of living adequate for the health and well - being of himself and of his family , including food , clothing , housing and medical care … ’\n",
      "EN Translation: \t let me remind you to to a a a the the of the european of the ( the ) , the , the the of the to the to the to the to the , of the , and , , and the , of the , , , ,\n",
      "####################################################################################################\n",
      "FR: \t\t\t dans notre proposition de resolution , que presque tous les groupes soutiennent , nous precisons que les decisions prises en novembre 2008 dans le cadre du \" bilan de sante \" ne sont pas suffisantes dans la situation actuelle .\n",
      "----------------------------------------------------------------------------------------------------\n",
      "EN: \t\t\t in our motion for a resolution , which is supported by nearly all the groups , we make it clear that the decisions made in november 2008 in connection with the health check are not sufficient for the current situation .\n",
      "EN Translation: \t in our group , the amendments , we are all the the the the the the the the the the the the the the the the the the the the the the the of the .\n",
      "####################################################################################################\n",
      "FR: \t\t\t nous aurions aime voir si ces efforts significatifs - pour lesquels nous sommes reconnaissants et dont nous avons egalement besoin - se retrouveraient aussi dans le programme annuel .\n",
      "----------------------------------------------------------------------------------------------------\n",
      "EN: \t\t\t we would like to have seen whether these significant efforts - for which we are grateful and which we also need - would also find their way into the annual programme .\n",
      "EN Translation: \t we also have to to to to this questions , and we have , we we are to to the the the .\n",
      "####################################################################################################\n",
      "FR: \t\t\t c' est l' activite qu' il faut accroitre et encourager a tout prix .\n",
      "----------------------------------------------------------------------------------------------------\n",
      "EN: \t\t\t it is activity that must be increased and encouraged at any cost .\n",
      "EN Translation: \t it is essential to to and and and and to be . .\n",
      "####################################################################################################\n",
      "FR: \t\t\t nous avons donc la force et la raison . c' est pourquoi je vous dis , monsieur le ministre , que nous pouvons et que nous devons elaborer une strategie plus visionnaire et nous montrer plus flexibles au niveau tactique .\n",
      "----------------------------------------------------------------------------------------------------\n",
      "EN: \t\t\t right and might are on our side then , and i therefore say to you , mr fischer , that we can and must be far - sighted in our strategy and more flexible in our tactics .\n",
      "EN Translation: \t so we do we need to say , and mr president , and we are that , and i believe that we must be a a and and and and and we are not .\n",
      "####################################################################################################\n",
      "====================================================================================================\n",
      "======================================== BLEU score: 6.06 % ========================================\n",
      "====================================================================================================\n"
     ]
    }
   ],
   "source": [
    "# Inference with sampling\n",
    "translations = inference.translate(fr_sentences, MAX_LEN, InferenceAlgo.SAMPLING, False)\n",
    "bleu = bleu_score(translations, [*map(lambda x: [x], en_sentences)])\n",
    "translations = [*map(lambda sentence: ' '.join(sentence), translations)]\n",
    "\n",
    "for i in indexes:\n",
    "    print('FR: \\t\\t\\t', ' '.join(fr_sentences[i][::-1]))\n",
    "    print('-'*100)\n",
    "    print('EN: \\t\\t\\t', ' '.join(en_sentences[i]))\n",
    "    print(f'EN Translation: \\t', translations[i])\n",
    "    print('#'*100)\n",
    "print('='*100)\n",
    "print('='*40 + f' BLEU score: {bleu*100:.2f} % ' + '='*40)\n",
    "print('='*100)"
   ]
  },
  {
   "cell_type": "code",
   "execution_count": 44,
   "metadata": {
    "colab": {},
    "colab_type": "code",
    "id": "8hzyFn-Vqn3S"
   },
   "outputs": [
    {
     "name": "stderr",
     "output_type": "stream",
     "text": [
      "100%|██████████| 1500/1500 [02:33<00:00,  9.76it/s]\n"
     ]
    },
    {
     "name": "stdout",
     "output_type": "stream",
     "text": [
      "FR: \t\t\t permettez - moi de vous rappeler une partie de l’ article 25 de la declaration universelle des droits de l’ homme : « toute personne a droit a un niveau de vie suffisant pour assurer sa sante , son bien-etre et ceux de sa famille , notamment pour l’ alimentation , l’ habillement , le logement , les soins medicaux … » .\n",
      "----------------------------------------------------------------------------------------------------\n",
      "EN: \t\t\t allow me to remind you of part of article 25 of the universal declaration of human rights : ‘ everyone has the right to a standard of living adequate for the health and well - being of himself and of his family , including food , clothing , housing and medical care … ’\n",
      "EN Translation: \t let me remind you to mention a a of of the committee on the affairs ( <unk> ) , the is a to to the the of of of the , and , , , , to the the of the , , and the , of the ,\n",
      "####################################################################################################\n",
      "FR: \t\t\t dans notre proposition de resolution , que presque tous les groupes soutiennent , nous precisons que les decisions prises en novembre 2008 dans le cadre du \" bilan de sante \" ne sont pas suffisantes dans la situation actuelle .\n",
      "----------------------------------------------------------------------------------------------------\n",
      "EN: \t\t\t in our motion for a resolution , which is supported by nearly all the groups , we make it clear that the decisions made in november 2008 in connection with the health check are not sufficient for the current situation .\n",
      "EN Translation: \t in our proposal , the amendments , we are all , the the the the the the the the the the the the the the the the the the the the the the of the .\n",
      "####################################################################################################\n",
      "FR: \t\t\t nous aurions aime voir si ces efforts significatifs - pour lesquels nous sommes reconnaissants et dont nous avons egalement besoin - se retrouveraient aussi dans le programme annuel .\n",
      "----------------------------------------------------------------------------------------------------\n",
      "EN: \t\t\t we would like to have seen whether these significant efforts - for which we are grateful and which we also need - would also find their way into the annual programme .\n",
      "EN Translation: \t we are also have to examine the proposals and we have been , and we we have to to the the the .\n",
      "####################################################################################################\n",
      "FR: \t\t\t c' est l' activite qu' il faut accroitre et encourager a tout prix .\n",
      "----------------------------------------------------------------------------------------------------\n",
      "EN: \t\t\t it is activity that must be increased and encouraged at any cost .\n",
      "EN Translation: \t it is essential to to to and and and to be . .\n",
      "####################################################################################################\n",
      "FR: \t\t\t nous avons donc la force et la raison . c' est pourquoi je vous dis , monsieur le ministre , que nous pouvons et que nous devons elaborer une strategie plus visionnaire et nous montrer plus flexibles au niveau tactique .\n",
      "----------------------------------------------------------------------------------------------------\n",
      "EN: \t\t\t right and might are on our side then , and i therefore say to you , mr fischer , that we can and must be far - sighted in our strategy and more flexible in our tactics .\n",
      "EN Translation: \t so we do not think that we is not , and mr president , and we believe that we are that we need to be a and and and and and we we have a . . . . . . . . . . . . .\n",
      "####################################################################################################\n",
      "====================================================================================================\n",
      "======================================== BLEU score: 4.47 % ========================================\n",
      "====================================================================================================\n"
     ]
    }
   ],
   "source": [
    "# Inference with Beam search\n",
    "translations = inference.translate(fr_sentences, MAX_LEN, InferenceAlgo.BEAM_SEARCH, False, beam_size=2)\n",
    "bleu = bleu_score(translations, [*map(lambda x: [x], en_sentences)])\n",
    "translations = [*map(lambda sentence: ' '.join(sentence), translations)]\n",
    "\n",
    "for i in indexes:\n",
    "    print('FR: \\t\\t\\t', ' '.join(fr_sentences[i][::-1]))\n",
    "    print('-'*100)\n",
    "    print('EN: \\t\\t\\t', ' '.join(en_sentences[i]))\n",
    "    print(f'EN Translation: \\t', translations[i])\n",
    "    print('#'*100)\n",
    "print('='*100)\n",
    "print('='*40 + f' BLEU score: {bleu*100:.2f} % ' + '='*40)\n",
    "print('='*100)"
   ]
  },
  {
   "cell_type": "code",
   "execution_count": null,
   "metadata": {},
   "outputs": [],
   "source": []
  }
 ],
 "metadata": {
  "accelerator": "GPU",
  "colab": {
   "collapsed_sections": [
    "wEd7p3ARFcyr",
    "v2BPfwqcFk4h",
    "tazMbPR6Hnjg",
    "yT-6GZgfMXIu",
    "7cFeoEJpMYgE",
    "2ZwOJLkTMbCt"
   ],
   "name": "1 - Sequence to Sequence Model with RNN.ipynb",
   "provenance": []
  },
  "kernelspec": {
   "display_name": "Python 3",
   "language": "python",
   "name": "python3"
  },
  "language_info": {
   "codemirror_mode": {
    "name": "ipython",
    "version": 3
   },
   "file_extension": ".py",
   "mimetype": "text/x-python",
   "name": "python",
   "nbconvert_exporter": "python",
   "pygments_lexer": "ipython3",
   "version": "3.6.8"
  }
 },
 "nbformat": 4,
 "nbformat_minor": 4
}
