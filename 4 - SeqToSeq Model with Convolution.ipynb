{
  "nbformat": 4,
  "nbformat_minor": 0,
  "metadata": {
    "colab": {
      "name": "4 - SeqToSeq Model with Convolution.ipynb",
      "provenance": [],
      "collapsed_sections": [],
      "authorship_tag": "ABX9TyMgpAMA9vMBKVHBBZ98vdxd",
      "include_colab_link": true
    },
    "kernelspec": {
      "name": "python3",
      "display_name": "Python 3"
    },
    "accelerator": "GPU"
  },
  "cells": [
    {
      "cell_type": "markdown",
      "metadata": {
        "id": "view-in-github",
        "colab_type": "text"
      },
      "source": [
        "<a href=\"https://colab.research.google.com/github/dksifoua/Neural-Machine-Translation/blob/master/4%20-%20SeqToSeq%20Model%20with%20Convolution.ipynb\" target=\"_parent\"><img src=\"https://colab.research.google.com/assets/colab-badge.svg\" alt=\"Open In Colab\"/></a>"
      ]
    },
    {
      "cell_type": "code",
      "metadata": {
        "id": "6vR3PDA6Vcj0",
        "outputId": "b9850a48-2438-4e2c-8ad1-6612f9797282",
        "colab": {
          "base_uri": "https://localhost:8080/",
          "height": 357
        }
      },
      "source": [
        "!nvidia-smi"
      ],
      "execution_count": 1,
      "outputs": [
        {
          "output_type": "stream",
          "text": [
            "Sat Oct  3 04:29:40 2020       \n",
            "+-----------------------------------------------------------------------------+\n",
            "| NVIDIA-SMI 455.23.05    Driver Version: 418.67       CUDA Version: 10.1     |\n",
            "|-------------------------------+----------------------+----------------------+\n",
            "| GPU  Name        Persistence-M| Bus-Id        Disp.A | Volatile Uncorr. ECC |\n",
            "| Fan  Temp  Perf  Pwr:Usage/Cap|         Memory-Usage | GPU-Util  Compute M. |\n",
            "|                               |                      |               MIG M. |\n",
            "|===============================+======================+======================|\n",
            "|   0  Tesla T4            Off  | 00000000:00:04.0 Off |                    0 |\n",
            "| N/A   43C    P8     9W /  70W |      0MiB / 15079MiB |      0%      Default |\n",
            "|                               |                      |                 ERR! |\n",
            "+-------------------------------+----------------------+----------------------+\n",
            "                                                                               \n",
            "+-----------------------------------------------------------------------------+\n",
            "| Processes:                                                                  |\n",
            "|  GPU   GI   CI        PID   Type   Process name                  GPU Memory |\n",
            "|        ID   ID                                                   Usage      |\n",
            "|=============================================================================|\n",
            "|  No running processes found                                                 |\n",
            "+-----------------------------------------------------------------------------+\n"
          ],
          "name": "stdout"
        }
      ]
    },
    {
      "cell_type": "markdown",
      "metadata": {
        "id": "MeDxBPrqVkzC"
      },
      "source": [
        "## Load dependencies"
      ]
    },
    {
      "cell_type": "code",
      "metadata": {
        "id": "ZE8YJDCBVi0E"
      },
      "source": [
        "!pip install tqdm --upgrade >> /dev/null 2>&1\n",
        "!pip install torchtext --upgrade >> /dev/null 2>&1\n",
        "!pip install spacy --upgrade >> /dev/null 2>&1\n",
        "!python -m spacy download de >> /dev/null 2>&1\n",
        "!python -m spacy download en >> /dev/null 2>&1"
      ],
      "execution_count": 2,
      "outputs": []
    },
    {
      "cell_type": "code",
      "metadata": {
        "id": "I2xhnp9dVmio"
      },
      "source": [
        "import tqdm\n",
        "import spacy\n",
        "import warnings\n",
        "import numpy as np\n",
        "import pandas as pd\n",
        "import matplotlib.pyplot as plt\n",
        "%matplotlib inline\n",
        "\n",
        "from IPython.core.display import display, HTML\n",
        "\n",
        "import torch\n",
        "import torch.nn as nn\n",
        "import torch.nn.functional as F\n",
        "import torch.optim as optim\n",
        "\n",
        "from torchtext.data import Dataset, Example, Field\n",
        "from torchtext.data.iterator import BucketIterator\n",
        "from torchtext.data.metrics import bleu_score\n",
        "from torchtext.datasets import Multi30k"
      ],
      "execution_count": 4,
      "outputs": []
    },
    {
      "cell_type": "code",
      "metadata": {
        "id": "AI5pnH1PVoHN",
        "outputId": "7b56de46-4fc5-4a94-ef64-0f6a34a6dfac",
        "colab": {
          "base_uri": "https://localhost:8080/",
          "height": 34
        }
      },
      "source": [
        "!mkdir -p ./checkpoints\n",
        "\n",
        "warnings.simplefilter(action='ignore', category=UserWarning)\n",
        "warnings.simplefilter(action='ignore', category=FutureWarning)\n",
        "warnings.simplefilter(action='ignore', category=DeprecationWarning)\n",
        "\n",
        "SEED = 546\n",
        "np.random.seed(SEED)\n",
        "torch.manual_seed(SEED)\n",
        "torch.cuda.manual_seed(SEED)\n",
        "torch.backends.cudnn.deterministic = True\n",
        "\n",
        "DEVICE = torch.device('cuda' if torch.cuda.is_available() else 'cpu')\n",
        "print(f'Device: {DEVICE}')"
      ],
      "execution_count": 5,
      "outputs": [
        {
          "output_type": "stream",
          "text": [
            "Device: cuda\n"
          ],
          "name": "stdout"
        }
      ]
    },
    {
      "cell_type": "markdown",
      "metadata": {
        "id": "k_sQ0fZVVrqO"
      },
      "source": [
        "## Load data"
      ]
    },
    {
      "cell_type": "code",
      "metadata": {
        "id": "a40v4y6wVqEN",
        "outputId": "41a89af9-a6c9-436f-9977-f1fd8284c549",
        "colab": {
          "base_uri": "https://localhost:8080/",
          "height": 241
        }
      },
      "source": [
        "%%time\n",
        "DE = Field(init_token='<sos>', eos_token='<eos>', lower=True, tokenize='spacy', tokenizer_language='de', batch_first=True)\n",
        "EN = Field(init_token='<sos>', eos_token='<eos>', lower=True, tokenize='spacy', tokenizer_language='en', batch_first=True)\n",
        "train_data, valid_data, test_data = Multi30k.splits(exts=('.de', '.en'),  fields=(DE, EN))\n",
        "print(f'train set size: {len(train_data.examples):,}')\n",
        "print(f'valid set size: {len(valid_data.examples):,}')\n",
        "print(f'test set size: {len(test_data.examples):,}')\n",
        "print(vars(train_data.examples[0]))"
      ],
      "execution_count": 6,
      "outputs": [
        {
          "output_type": "stream",
          "text": [
            "\rtraining.tar.gz:   0%|          | 0.00/1.21M [00:00<?, ?B/s]"
          ],
          "name": "stderr"
        },
        {
          "output_type": "stream",
          "text": [
            "downloading training.tar.gz\n"
          ],
          "name": "stdout"
        },
        {
          "output_type": "stream",
          "text": [
            "training.tar.gz: 100%|██████████| 1.21M/1.21M [00:00<00:00, 4.90MB/s]\n",
            "validation.tar.gz: 100%|██████████| 46.3k/46.3k [00:00<00:00, 1.51MB/s]"
          ],
          "name": "stderr"
        },
        {
          "output_type": "stream",
          "text": [
            "downloading validation.tar.gz\n",
            "downloading mmt_task1_test2016.tar.gz\n"
          ],
          "name": "stdout"
        },
        {
          "output_type": "stream",
          "text": [
            "\n",
            "mmt_task1_test2016.tar.gz: 100%|██████████| 66.2k/66.2k [00:00<00:00, 1.31MB/s]\n"
          ],
          "name": "stderr"
        },
        {
          "output_type": "stream",
          "text": [
            "train set size: 29,000\n",
            "valid set size: 1,014\n",
            "test set size: 1,000\n",
            "{'src': ['zwei', 'junge', 'weiße', 'männer', 'sind', 'im', 'freien', 'in', 'der', 'nähe', 'vieler', 'büsche', '.'], 'trg': ['two', 'young', ',', 'white', 'males', 'are', 'outside', 'near', 'many', 'bushes', '.']}\n",
            "CPU times: user 6.11 s, sys: 208 ms, total: 6.31 s\n",
            "Wall time: 7.01 s\n"
          ],
          "name": "stdout"
        }
      ]
    },
    {
      "cell_type": "markdown",
      "metadata": {
        "id": "9b2sZMIZVw2u"
      },
      "source": [
        "## Build vocabularies"
      ]
    },
    {
      "cell_type": "code",
      "metadata": {
        "id": "VaUJhvLzVu5N",
        "outputId": "9dac4802-11a2-4fa7-b469-b1352b015991",
        "colab": {
          "base_uri": "https://localhost:8080/",
          "height": 85
        }
      },
      "source": [
        "%%time\n",
        "MIN_COUNT = 2\n",
        "DE.build_vocab(train_data, min_freq=MIN_COUNT)\n",
        "EN.build_vocab(train_data, min_freq=MIN_COUNT)\n",
        "print(f'Length of DE vocabulary: {len(DE.vocab):,}')\n",
        "print(f'Length of EN vocabulary: {len(EN.vocab):,}')"
      ],
      "execution_count": 7,
      "outputs": [
        {
          "output_type": "stream",
          "text": [
            "Length of DE vocabulary: 7,854\n",
            "Length of EN vocabulary: 5,893\n",
            "CPU times: user 291 ms, sys: 2.93 ms, total: 294 ms\n",
            "Wall time: 295 ms\n"
          ],
          "name": "stdout"
        }
      ]
    },
    {
      "cell_type": "markdown",
      "metadata": {
        "id": "Itenw8p2V1Dz"
      },
      "source": [
        "## Modeling\n",
        "\n",
        "***Encoder Layer***"
      ]
    },
    {
      "cell_type": "code",
      "metadata": {
        "id": "u4o3ZFFtVznm"
      },
      "source": [
        "class EncoderLayer(nn.Module):\n",
        "\n",
        "    def __init__(self, vocab_size, max_length, embedding_size, hidden_size, kernel_size, n_layers, scale, dropout):\n",
        "        super(EncoderLayer, self).__init__()\n",
        "        self.vocab_size = vocab_size\n",
        "        self.max_length = max_length\n",
        "        self.embedding_size = embedding_size\n",
        "        self.hidden_size = hidden_size\n",
        "        self.kernel_size = kernel_size\n",
        "        self.n_layers = n_layers\n",
        "        self.scale = scale\n",
        "        self.dropout = nn.Dropout(dropout)\n",
        "        self.token_embedding = nn.Embedding(vocab_size, embedding_size)\n",
        "        self.position_embedding = nn.Embedding(max_length, embedding_size)\n",
        "        self.fc_embedding_hidden = nn.Linear(embedding_size, hidden_size)\n",
        "        self.fc_hidden_embedding = nn.Linear(hidden_size, embedding_size)\n",
        "        self.conv1ds = nn.ModuleList([nn.Conv1d(hidden_size, hidden_size * 2, kernel_size=kernel_size,\n",
        "                                                padding=(kernel_size - 1) // 2) for _ in range(n_layers)])\n",
        "\n",
        "    def forward(self, input_sequences):\n",
        "        \"\"\"\n",
        "        :param Tensor[batch_size, src_len] input_sequences\n",
        "        :return Tensor[batch_size, src_len, embedding_size] embedded\n",
        "        :return Tensor[batch_size, src_len, embedding_size] conv_output\n",
        "        \"\"\"\n",
        "        positions = torch.arange(0, input_sequences.size(1)).unsqueeze(0).repeat(input_sequences.size(0), 1).to(input_sequences.device)\n",
        "        position_embedded = self.position_embedding(positions) # [batch_size, src_len, embedding_size]\n",
        "        token_embedded = self.token_embedding(input_sequences) # [batch_size, src_len, embedding_size]\n",
        "        embedded = self.dropout(position_embedded + token_embedded) # [batch_size, src_len, embedding_size]\n",
        "        conv_output = self.fc_embedding_hidden(embedded) # [batch_size, src_len, hidden_size]\n",
        "        conv_output = conv_output.permute(0, 2, 1) # [batch_size, hidden_size, src_len]\n",
        "        for conv1d in self.conv1ds:\n",
        "            conv_output = self.dropout(conv_output)\n",
        "            conved = conv1d(conv_output) # [batch_size, hidden_size * 2, src_len]\n",
        "            conved = F.glu(conved, dim=1) # [batch_size, hidden_size, src_len]\n",
        "            conv_output = (conved + conv_output) * self.scale # [batch_size, hidden_size, src_len] Residual connection\n",
        "        conv_output = conv_output.permute(0, 2, 1) # [batch_size, src_len, hidden_size]\n",
        "        conv_output = self.fc_hidden_embedding(conv_output) # [batch_size, src_len, embedding_size]\n",
        "        return embedded, conv_output"
      ],
      "execution_count": 8,
      "outputs": []
    },
    {
      "cell_type": "markdown",
      "metadata": {
        "id": "koYI1l5uepzJ"
      },
      "source": [
        "***Decoder Layer***"
      ]
    },
    {
      "cell_type": "code",
      "metadata": {
        "id": "imZnrCj5eo6S"
      },
      "source": [
        "class DecoderLayer(nn.Module):\n",
        "\n",
        "    def __init__(self, vocab_size, max_length, embedding_size, hidden_size, kernel_size, n_layers, scale, dropout):\n",
        "        super(DecoderLayer, self).__init__()\n",
        "        self.vocab_size = vocab_size\n",
        "        self.max_length = max_length\n",
        "        self.embedding_size = embedding_size\n",
        "        self.hidden_size = hidden_size\n",
        "        self.kernel_size = kernel_size\n",
        "        self.n_layers = n_layers\n",
        "        self.scale = scale\n",
        "        self.dropout = nn.Dropout(dropout)\n",
        "        self.token_embedding = nn.Embedding(vocab_size, embedding_size)\n",
        "        self.position_embedding = nn.Embedding(max_length, embedding_size)\n",
        "        self.fc_embedding_hidden = nn.Linear(embedding_size, hidden_size)\n",
        "        self.fc_hidden_embedding = nn.Linear(hidden_size, embedding_size)\n",
        "        self.fc_embedding_hidden_attn = nn.Linear(embedding_size, hidden_size)\n",
        "        self.fc_hidden_embedding_attn = nn.Linear(hidden_size, embedding_size)\n",
        "        self.conv1ds = nn.ModuleList([nn.Conv1d(hidden_size, hidden_size * 2, kernel_size=kernel_size,\n",
        "                                                padding=(kernel_size - 1)) for _ in range(n_layers)])\n",
        "        self.fc = nn.Linear(embedding_size, vocab_size)\n",
        "    \n",
        "    def calculate_attention(self, hidden_state, embedded, enc_conved):\n",
        "        \"\"\"\n",
        "        :param Tensor[batch_size, hidden_size, dest_len] hidden_state\n",
        "        :param Tensor[batch_size, dest_len, embedding_size] embedded\n",
        "        :param Tensor[batch_size, src_len, embedding_size] enc_conved\n",
        "        :return Tensor[batch_size, dest_len, src_len] attn_weights\n",
        "        \"\"\"\n",
        "        hidden_state = self.fc_hidden_embedding_attn(hidden_state.permute(0, 2, 1)) # [batch_size, dest_len, embedding_size]\n",
        "        combined = hidden_state + embedded # [batch_size, dest_len, embedding_size]\n",
        "        scores = torch.matmul(combined, enc_conved.permute(0, 2, 1)) # [batch_size, dest_len, src_len]\n",
        "        attn_weights = F.softmax(scores, dim=2) # [batch_size, dest_len, src_len]\n",
        "        return attn_weights\n",
        "        \n",
        "    def forward(self, input_sequences, encoder_conved, encoder_embedded):\n",
        "        \"\"\"\n",
        "        :param Tensor[batch_size, dest_len] input_sequences\n",
        "        :param Tensor[batch_size, src_len, embedding_size] encoder_conved\n",
        "        :param Tensor[batch_size, src_len, embedding_size] encoder_embedded\n",
        "        :return Tensor[batch_size, dest_seq_len, vocab_size] logits\n",
        "        :return Tensor[batch_size, dest_len, src_len] attn_weights\n",
        "        \"\"\"\n",
        "        positions = torch.arange(0, input_sequences.size(1)).unsqueeze(0).repeat(input_sequences.size(0), 1).to(input_sequences.device)\n",
        "        position_embedded = self.position_embedding(positions) # [batch_size, dest_len, embedding_size]\n",
        "        token_embedded = self.token_embedding(input_sequences) # [batch_size, dest_len, embedding_size]\n",
        "        embedded = self.dropout(position_embedded + token_embedded) # [batch_size, dest_len, embedding_size]\n",
        "        conv_output = self.fc_embedding_hidden(embedded) # [batch_size, dest_len, hidden_size]\n",
        "        conv_output = conv_output.permute(0, 2, 1) # [batch_size, hidden_size, dest_len]\n",
        "        for conv1d in self.conv1ds:\n",
        "            conv_output = self.dropout(conv_output)\n",
        "            conved = conv1d(conv_output) # [batch_size, hidden_size * 2, dest_len + kernel_size - 1]\n",
        "            conved = F.glu(conved[:, :, :-(self.kernel_size - 1)], dim=1) # [batch_size, hidden_size, dest_len]\n",
        "            conv_output = (conved + conv_output) * self.scale # [batch_size, hidden_size, dest_len] Residual connection\n",
        "            attn_weights = self.calculate_attention(hidden_state=conv_output, embedded=embedded, enc_conved=encoder_conved) # [batch_size, dest_len, src_len]\n",
        "            m = encoder_conved.size(1)\n",
        "            conditional_input = torch.matmul(attn_weights, (encoder_conved + encoder_embedded)) * m * np.sqrt(1 / m)\n",
        "            # conditional_input [batch_size, dest_len, embedding_size]\n",
        "            conditional_input = self.fc_embedding_hidden_attn(conditional_input) # [batch_size, dest_len, hidden_size]\n",
        "            conv_output = (conv_output + conditional_input.permute(0, 2, 1)) * self.scale # [batch_size, hidden_size, dest_len]\n",
        "        conved = self.fc_hidden_embedding(conv_output.permute(0, 2, 1)) # [batch_size, dest_len, embedding_size]\n",
        "        logits = self.fc(self.dropout(conved)) # [batch_size, dest_seq_len, vocab_size]\n",
        "        return logits, attn_weights"
      ],
      "execution_count": 9,
      "outputs": []
    },
    {
      "cell_type": "markdown",
      "metadata": {
        "id": "4iB6g0cxrqKF"
      },
      "source": [
        "***Sequence-to-sequence model***"
      ]
    },
    {
      "cell_type": "code",
      "metadata": {
        "id": "9xCCvi_lrn-j"
      },
      "source": [
        "class SeqToSeqNet(nn.Module):\n",
        "\n",
        "    def __init__(self, encoder, decoder):\n",
        "        assert encoder.n_layers == decoder.n_layers, 'Encoder and Decoder must have the same number of reccurent layers'\n",
        "        assert encoder.hidden_size == decoder.hidden_size, 'Encoder and Decoder must have the same number of reccurrent hidden units'\n",
        "        super(SeqToSeqNet, self).__init__()\n",
        "        self.encoder = encoder\n",
        "        self.decoder = decoder\n",
        "\n",
        "    def forward(self, src_sequences, dest_sequences):\n",
        "        \"\"\"\n",
        "        :param Tensor[batch_size, src_seq_len] src_sequences\n",
        "        :param Tensor[batch_size, dest_seq_len] dest_sequences\n",
        "        :return Tensor[batch_size, dest_seq_len, vocab_size] logits\n",
        "        :return [batch_size, dest_seq_len, src_seq_len] attn_weights\n",
        "        \"\"\"\n",
        "        encoder_embedded, encoder_conved = self.encoder(src_sequences) # Encoding\n",
        "        logits, attn_weights = self.decoder(dest_sequences, encoder_conved, encoder_embedded) # Decoding\n",
        "        return logits, attn_weights"
      ],
      "execution_count": 10,
      "outputs": []
    },
    {
      "cell_type": "markdown",
      "metadata": {
        "id": "TbFAF3wYr_Wr"
      },
      "source": [
        "***Training routines***"
      ]
    },
    {
      "cell_type": "code",
      "metadata": {
        "id": "TW0XE0Hor9P1"
      },
      "source": [
        "class AverageMeter:\n",
        "    \n",
        "    def __init__(self):\n",
        "        self.value = 0.\n",
        "        self.sum = 0.\n",
        "        self.count = 0\n",
        "        self.average = 0.\n",
        "        \n",
        "    def reset(self):\n",
        "        self.value = 0.\n",
        "        self.sum = 0.\n",
        "        self.count = 0\n",
        "        self.average = 0.\n",
        "        \n",
        "    def update(self, value, n=1):\n",
        "        self.value = value\n",
        "        self.sum += value * n\n",
        "        self.count += n\n",
        "        self.average = self.sum / self.count"
      ],
      "execution_count": 11,
      "outputs": []
    },
    {
      "cell_type": "code",
      "metadata": {
        "id": "SQb1T03SsEmB"
      },
      "source": [
        "def accuracy(outputs, target_sequences, k=5):\n",
        "    \"\"\"\n",
        "    :param Tensor[batch_size, dest_seq_len, vocab_size] outputs\n",
        "    :param Tensor[batch_size, dest_seq_len] target_sequences\n",
        "    :return float Top-k accuracy\n",
        "    \"\"\"\n",
        "    # print([*map(lambda token: EN.vocab.itos[token], outputs.argmax(dim=-1)[0].tolist())])\n",
        "    # print([*map(lambda token: EN.vocab.itos[token], target_sequences[0].tolist())])\n",
        "    # print(\"=\"*100)\n",
        "    batch_size = target_sequences.size(0)\n",
        "    _, indices = outputs.topk(k, dim=2, largest=True, sorted=True) # [batch_size, dest_seq_len, 5]\n",
        "    correct = indices.eq(target_sequences.unsqueeze(-1).expand_as(indices))\n",
        "    correct_total = correct.view(-1).float().sum()  # 0D tensor\n",
        "    return correct_total.item() * (100.0 / indices.numel())"
      ],
      "execution_count": 12,
      "outputs": []
    },
    {
      "cell_type": "code",
      "metadata": {
        "id": "VPnN9lfKsHzA"
      },
      "source": [
        "class Trainer:\n",
        "\n",
        "    def __init__(self, model, optimizer, criterion, train_iterator, valid_iterator):\n",
        "        self.model = model\n",
        "        self.optimizer = optimizer\n",
        "        self.criterion = criterion\n",
        "        self.train_iterator = train_iterator\n",
        "        self.valid_iterator = valid_iterator\n",
        "\n",
        "    def clip_gradients(self, grad_clip):\n",
        "        if grad_clip is not None:\n",
        "            for group in self.optimizer.param_groups:\n",
        "                for param in group['params']:\n",
        "                    if param.grad is not None:\n",
        "                        param.grad.data.clamp_(-grad_clip, grad_clip)\n",
        "\n",
        "    def adjust_lr(self, shrink_factor=0.9, verbose=True):\n",
        "        if verbose:\n",
        "            print(\"\\nDecaying learning rate.\")\n",
        "        for param_group in self.optimizer.param_groups:\n",
        "            param_group['lr'] = param_group['lr'] * shrink_factor\n",
        "        if verbose:\n",
        "            print(\"The new learning rate is %f\\n\" % (self.optimizer.param_groups[0]['lr'],))\n",
        "    \n",
        "    def train_step(self, epoch, grad_clip):\n",
        "        loss_tracker, acc_tracker = AverageMeter(), AverageMeter()\n",
        "        self.model.train()\n",
        "        progress_bar = tqdm.tqdm(enumerate(self.train_iterator), total=len(self.train_iterator))\n",
        "        for i, batch in progress_bar:\n",
        "            src, trg = batch.src, batch.trg\n",
        "            self.optimizer.zero_grad()\n",
        "            logits, _ = self.model(src, trg[:, :-1]) # [batch_size, dest_len, vocab_size]\n",
        "            loss = self.criterion(logits.contiguous().view(-1, self.model.decoder.vocab_size), trg[:, 1:].contiguous().view(-1))\n",
        "            loss.backward()\n",
        "            nn.utils.clip_grad_norm_(self.model.parameters(), grad_clip)\n",
        "            self.optimizer.step()\n",
        "            loss_tracker.update(loss.item())\n",
        "            acc_tracker.update(accuracy(logits, trg[:, 1:]))\n",
        "            loss_, ppl_, acc_ = loss_tracker.average, np.exp(loss_tracker.average), acc_tracker.average\n",
        "            progress_bar.set_description(f'Epoch: {epoch+1:02d} -     loss: {loss_:.3f} -     ppl: {ppl_:.3f} -     acc: {acc_:.3f}%')\n",
        "        return loss_tracker.average, np.exp(loss_tracker.average), acc_tracker.average\n",
        "    \n",
        "    def validate(self, epoch):\n",
        "        loss_tracker, acc_tracker = AverageMeter(), AverageMeter()\n",
        "        self.model.eval()\n",
        "        with torch.no_grad():\n",
        "            progress_bar = tqdm.tqdm(enumerate(self.valid_iterator), total=len(self.valid_iterator))\n",
        "            for i, batch in progress_bar:\n",
        "                src, trg = batch.src, batch.trg\n",
        "                logits, _ = self.model(src, trg[:, :-1]) # [batch_size, dest_len, vocab_size]\n",
        "                loss = self.criterion(logits.contiguous().view(-1, self.model.decoder.vocab_size), trg[:, 1:].contiguous().view(-1))\n",
        "                loss_tracker.update(loss.item())\n",
        "                acc_tracker.update(accuracy(logits, trg[:, 1:]))\n",
        "                loss_, ppl_, acc_ = loss_tracker.average, np.exp(loss_tracker.average), acc_tracker.average\n",
        "                progress_bar.set_description(f'Epoch: {epoch+1:02d} - val_loss: {loss_:.3f} - val_ppl: {ppl_:.3f} - val_acc: {acc_:.3f}%')\n",
        "        return loss_tracker.average, np.exp(loss_tracker.average), acc_tracker.average\n",
        "    \n",
        "    def train(self, n_epochs, grad_clip):\n",
        "        history = {'acc': [], 'loss': [], 'ppl': [], 'val_ppl': [], 'val_acc': [], 'val_loss': []}\n",
        "        best_loss, last_improv = np.inf, 0\n",
        "        for epoch in range(n_epochs):\n",
        "            if last_improv == 4:\n",
        "                print('Training Finished - The model has stopped improving since last 4 epochs')\n",
        "                break\n",
        "            if last_improv > 0:\n",
        "                self.adjust_lr()\n",
        "            loss, ppl, acc = self.train_step(epoch, grad_clip)\n",
        "            val_loss, val_ppl, val_acc = self.validate(epoch)\n",
        "            \n",
        "            if best_loss > val_loss:\n",
        "                best_loss, last_improv = val_loss, 0\n",
        "                torch.save(self.model.state_dict(), './checkpoints/seq2seq-convolution.pth')\n",
        "            else:\n",
        "                last_improv += 1\n",
        "                print(f'\\nLast improvement since epoch {epoch - last_improv + 1}')\n",
        "            \n",
        "            history['acc'].append(acc)\n",
        "            history['ppl'].append(ppl)\n",
        "            history['loss'].append(loss)\n",
        "            history['val_acc'].append(val_acc)\n",
        "            history['val_ppl'].append(val_ppl)\n",
        "            history['val_loss'].append(val_loss)\n",
        "        return history"
      ],
      "execution_count": 14,
      "outputs": []
    },
    {
      "cell_type": "markdown",
      "metadata": {
        "id": "BmSkJQx_sdWB"
      },
      "source": [
        "***Train the model***"
      ]
    },
    {
      "cell_type": "code",
      "metadata": {
        "id": "YT-e9WErspuB"
      },
      "source": [
        "def init_weights(m):\n",
        "    if isinstance(m, nn.Embedding):\n",
        "        nn.init.normal_(m.weight, mean=0.0, std=0.1)\n",
        "    if isinstance(m, nn.Linear):\n",
        "        nn.init.normal_(m.weight, mean=0.0, std=np.sqrt(1 / m.in_features))\n",
        "        if m.bias is not None: \n",
        "            nn.init.zeros_(m.bias)\n",
        "    if isinstance(m, nn.Conv1d):\n",
        "        nn.init.normal_(m.weight, mean=0.0, std=np.sqrt(4 / m.in_channels))\n",
        "        if m.bias is not None: \n",
        "            nn.init.zeros_(m.bias)"
      ],
      "execution_count": 15,
      "outputs": []
    },
    {
      "cell_type": "code",
      "metadata": {
        "id": "dr9PXJeSsapb"
      },
      "source": [
        "N_LAYERS = 2\n",
        "HIDDEN_SIZE = 256\n",
        "EMBED_SIZE = 300\n",
        "KERNEL_SIZE = 3\n",
        "DROPOUT = 0.25\n",
        "SCALE = np.sqrt(0.5)\n",
        "MAX_LEN = 50\n",
        "N_EPOCHS = 10\n",
        "BATCH_SIZE = 64\n",
        "LR = 1e-3\n",
        "GRAD_CLIP = 0.1"
      ],
      "execution_count": 16,
      "outputs": []
    },
    {
      "cell_type": "code",
      "metadata": {
        "id": "ew8kCeZCuXdq",
        "outputId": "8a9ec064-1fb2-44e6-a39c-15be3df6f4fc",
        "colab": {
          "base_uri": "https://localhost:8080/",
          "height": 493
        }
      },
      "source": [
        "encoder_layer = EncoderLayer(vocab_size=len(DE.vocab), max_length=MAX_LEN, embedding_size=EMBED_SIZE, hidden_size=HIDDEN_SIZE,\n",
        "                             kernel_size=KERNEL_SIZE, scale=SCALE, n_layers=N_LAYERS, dropout=DROPOUT)\n",
        "decoder_layer = DecoderLayer(vocab_size=len(EN.vocab), max_length=MAX_LEN, embedding_size=EMBED_SIZE, hidden_size=HIDDEN_SIZE, \n",
        "                             kernel_size=KERNEL_SIZE, scale=SCALE, n_layers=N_LAYERS, dropout=DROPOUT)\n",
        "seq2seq = SeqToSeqNet(encoder=encoder_layer, decoder=decoder_layer).to(DEVICE)\n",
        "seq2seq.apply(init_weights)\n",
        "optimizer = optim.RMSprop(params=seq2seq.parameters(), lr=LR)\n",
        "criterion = nn.CrossEntropyLoss(ignore_index=EN.vocab.stoi[EN.pad_token])\n",
        "print(f'Number of parameters of the model: {sum(p.numel() for p in seq2seq.parameters() if p.requires_grad):,}')\n",
        "print(seq2seq)\n",
        "train_iterator, valid_iterator, test_iterator =  BucketIterator.splits((train_data, valid_data, test_data), batch_size=BATCH_SIZE, device=DEVICE)\n",
        "trainer = Trainer(model=seq2seq, optimizer=optimizer, criterion=criterion, train_iterator=train_iterator, valid_iterator=valid_iterator)"
      ],
      "execution_count": 20,
      "outputs": [
        {
          "output_type": "stream",
          "text": [
            "Number of parameters of the model: 7,965,273\n",
            "SeqToSeqNet(\n",
            "  (encoder): EncoderLayer(\n",
            "    (dropout): Dropout(p=0.25, inplace=False)\n",
            "    (token_embedding): Embedding(7854, 300)\n",
            "    (position_embedding): Embedding(50, 300)\n",
            "    (fc_embedding_hidden): Linear(in_features=300, out_features=256, bias=True)\n",
            "    (fc_hidden_embedding): Linear(in_features=256, out_features=300, bias=True)\n",
            "    (conv1ds): ModuleList(\n",
            "      (0): Conv1d(256, 512, kernel_size=(3,), stride=(1,), padding=(1,))\n",
            "      (1): Conv1d(256, 512, kernel_size=(3,), stride=(1,), padding=(1,))\n",
            "    )\n",
            "  )\n",
            "  (decoder): DecoderLayer(\n",
            "    (dropout): Dropout(p=0.25, inplace=False)\n",
            "    (token_embedding): Embedding(5893, 300)\n",
            "    (position_embedding): Embedding(50, 300)\n",
            "    (fc_embedding_hidden): Linear(in_features=300, out_features=256, bias=True)\n",
            "    (fc_hidden_embedding): Linear(in_features=256, out_features=300, bias=True)\n",
            "    (fc_embedding_hidden_attn): Linear(in_features=300, out_features=256, bias=True)\n",
            "    (fc_hidden_embedding_attn): Linear(in_features=256, out_features=300, bias=True)\n",
            "    (conv1ds): ModuleList(\n",
            "      (0): Conv1d(256, 512, kernel_size=(3,), stride=(1,), padding=(2,))\n",
            "      (1): Conv1d(256, 512, kernel_size=(3,), stride=(1,), padding=(2,))\n",
            "    )\n",
            "    (fc): Linear(in_features=300, out_features=5893, bias=True)\n",
            "  )\n",
            ")\n"
          ],
          "name": "stdout"
        }
      ]
    },
    {
      "cell_type": "code",
      "metadata": {
        "id": "rGyxRQHjvEiO",
        "outputId": "858de54e-a0cf-4fa5-fe4e-793a015035ba",
        "colab": {
          "base_uri": "https://localhost:8080/",
          "height": 391
        }
      },
      "source": [
        "history = trainer.train(n_epochs=N_EPOCHS, grad_clip=GRAD_CLIP)"
      ],
      "execution_count": 21,
      "outputs": [
        {
          "output_type": "stream",
          "text": [
            "Epoch: 01 -     loss: 4.701 -     ppl: 110.057 -     acc: 5.286%: 100%|██████████| 454/454 [00:11<00:00, 39.42it/s]\n",
            "Epoch: 01 - val_loss: 2.837 - val_ppl: 17.071 - val_acc: 12.207%: 100%|██████████| 16/16 [00:00<00:00, 57.88it/s]\n",
            "Epoch: 02 -     loss: 2.815 -     ppl: 16.700 -     acc: 7.460%: 100%|██████████| 454/454 [00:11<00:00, 39.05it/s]\n",
            "Epoch: 02 - val_loss: 2.234 - val_ppl: 9.337 - val_acc: 13.525%: 100%|██████████| 16/16 [00:00<00:00, 115.57it/s]\n",
            "Epoch: 03 -     loss: 2.361 -     ppl: 10.600 -     acc: 8.085%: 100%|██████████| 454/454 [00:11<00:00, 39.38it/s]\n",
            "Epoch: 03 - val_loss: 2.000 - val_ppl: 7.389 - val_acc: 13.963%: 100%|██████████| 16/16 [00:00<00:00, 114.51it/s]\n",
            "Epoch: 04 -     loss: 2.098 -     ppl: 8.148 -     acc: 8.416%: 100%|██████████| 454/454 [00:11<00:00, 39.05it/s]\n",
            "Epoch: 04 - val_loss: 1.832 - val_ppl: 6.244 - val_acc: 14.352%: 100%|██████████| 16/16 [00:00<00:00, 117.26it/s]\n",
            "Epoch: 05 -     loss: 1.914 -     ppl: 6.782 -     acc: 8.667%: 100%|██████████| 454/454 [00:11<00:00, 38.60it/s]\n",
            "Epoch: 05 - val_loss: 1.759 - val_ppl: 5.809 - val_acc: 14.456%: 100%|██████████| 16/16 [00:00<00:00, 115.84it/s]\n",
            "Epoch: 06 -     loss: 1.781 -     ppl: 5.938 -     acc: 8.798%: 100%|██████████| 454/454 [00:11<00:00, 37.97it/s]\n",
            "Epoch: 06 - val_loss: 1.720 - val_ppl: 5.583 - val_acc: 14.520%: 100%|██████████| 16/16 [00:00<00:00, 111.83it/s]\n",
            "Epoch: 07 -     loss: 1.678 -     ppl: 5.352 -     acc: 9.036%: 100%|██████████| 454/454 [00:11<00:00, 38.63it/s]\n",
            "Epoch: 07 - val_loss: 1.633 - val_ppl: 5.121 - val_acc: 14.718%: 100%|██████████| 16/16 [00:00<00:00, 114.84it/s]\n",
            "Epoch: 08 -     loss: 1.594 -     ppl: 4.922 -     acc: 9.093%: 100%|██████████| 454/454 [00:11<00:00, 38.20it/s]\n",
            "Epoch: 08 - val_loss: 1.621 - val_ppl: 5.060 - val_acc: 14.752%: 100%|██████████| 16/16 [00:00<00:00, 112.62it/s]\n",
            "Epoch: 09 -     loss: 1.522 -     ppl: 4.582 -     acc: 9.132%: 100%|██████████| 454/454 [00:11<00:00, 37.85it/s]\n",
            "Epoch: 09 - val_loss: 1.594 - val_ppl: 4.922 - val_acc: 14.807%: 100%|██████████| 16/16 [00:00<00:00, 105.07it/s]\n",
            "Epoch: 10 -     loss: 1.462 -     ppl: 4.316 -     acc: 9.227%: 100%|██████████| 454/454 [00:11<00:00, 37.86it/s]\n",
            "Epoch: 10 - val_loss: 1.619 - val_ppl: 5.048 - val_acc: 14.742%: 100%|██████████| 16/16 [00:00<00:00, 113.88it/s]"
          ],
          "name": "stderr"
        },
        {
          "output_type": "stream",
          "text": [
            "\n",
            "Last improvement since epoch 9\n"
          ],
          "name": "stdout"
        },
        {
          "output_type": "stream",
          "text": [
            "\n"
          ],
          "name": "stderr"
        }
      ]
    },
    {
      "cell_type": "code",
      "metadata": {
        "id": "9SH3KGB0vp7A",
        "outputId": "e1a63930-15f2-43c7-a4d5-e06d9131228e",
        "colab": {
          "base_uri": "https://localhost:8080/",
          "height": 350
        }
      },
      "source": [
        "_, axes = plt.subplots(1, 3, figsize=(15, 5))\n",
        "\n",
        "axes[0].plot(history['loss'], label='train')\n",
        "axes[0].plot(history['val_loss'], label='valid')\n",
        "axes[0].set_title('Loss history')\n",
        "axes[0].set_xlabel('Epoch')\n",
        "axes[0].set_ylabel('Loss')\n",
        "axes[0].grid(True)\n",
        "axes[0].legend()\n",
        "\n",
        "axes[1].plot(history['ppl'], label='train')\n",
        "axes[1].plot(history['val_ppl'], label='valid')\n",
        "axes[1].set_title('Perplexity history')\n",
        "axes[1].set_xlabel('Epoch')\n",
        "axes[1].set_ylabel('Perplexity')\n",
        "axes[1].grid(True)\n",
        "axes[1].legend()\n",
        "\n",
        "axes[2].plot(history['acc'], label='train')\n",
        "axes[2].plot(history['val_acc'], label='valid')\n",
        "axes[2].set_title('Top-5 Accuracy & BLEU-4 history')\n",
        "axes[2].set_xlabel('Epoch')\n",
        "axes[2].set_ylabel('Accuracy & BLEU-4 (%)')\n",
        "axes[2].grid(True)\n",
        "axes[2].legend()\n",
        "\n",
        "plt.show()"
      ],
      "execution_count": 22,
      "outputs": [
        {
          "output_type": "display_data",
          "data": {
            "image/png": "[encoded data removed]",
            "text/plain": [
              "<Figure size 1080x360 with 3 Axes>"
            ]
          },
          "metadata": {
            "tags": [],
            "needs_background": "light"
          }
        }
      ]
    },
    {
      "cell_type": "markdown",
      "metadata": {
        "id": "ZN-6RJVyxDke"
      },
      "source": [
        "## Evaluation - Beam search & BLEU score"
      ]
    },
    {
      "cell_type": "code",
      "metadata": {
        "id": "KrYB4Pyiy8oT",
        "outputId": "f8a9624d-fb26-4301-b4a7-a39fa5494f9c",
        "colab": {
          "base_uri": "https://localhost:8080/",
          "height": 476
        }
      },
      "source": [
        "seq2seq.load_state_dict(torch.load('./checkpoints/seq2seq-convolution.pth'))\n",
        "seq2seq.to(DEVICE)"
      ],
      "execution_count": 23,
      "outputs": [
        {
          "output_type": "execute_result",
          "data": {
            "text/plain": [
              "SeqToSeqNet(\n",
              "  (encoder): EncoderLayer(\n",
              "    (dropout): Dropout(p=0.25, inplace=False)\n",
              "    (token_embedding): Embedding(7854, 300)\n",
              "    (position_embedding): Embedding(50, 300)\n",
              "    (fc_embedding_hidden): Linear(in_features=300, out_features=256, bias=True)\n",
              "    (fc_hidden_embedding): Linear(in_features=256, out_features=300, bias=True)\n",
              "    (conv1ds): ModuleList(\n",
              "      (0): Conv1d(256, 512, kernel_size=(3,), stride=(1,), padding=(1,))\n",
              "      (1): Conv1d(256, 512, kernel_size=(3,), stride=(1,), padding=(1,))\n",
              "    )\n",
              "  )\n",
              "  (decoder): DecoderLayer(\n",
              "    (dropout): Dropout(p=0.25, inplace=False)\n",
              "    (token_embedding): Embedding(5893, 300)\n",
              "    (position_embedding): Embedding(50, 300)\n",
              "    (fc_embedding_hidden): Linear(in_features=300, out_features=256, bias=True)\n",
              "    (fc_hidden_embedding): Linear(in_features=256, out_features=300, bias=True)\n",
              "    (fc_embedding_hidden_attn): Linear(in_features=300, out_features=256, bias=True)\n",
              "    (fc_hidden_embedding_attn): Linear(in_features=256, out_features=300, bias=True)\n",
              "    (conv1ds): ModuleList(\n",
              "      (0): Conv1d(256, 512, kernel_size=(3,), stride=(1,), padding=(2,))\n",
              "      (1): Conv1d(256, 512, kernel_size=(3,), stride=(1,), padding=(2,))\n",
              "    )\n",
              "    (fc): Linear(in_features=300, out_features=5893, bias=True)\n",
              "  )\n",
              ")"
            ]
          },
          "metadata": {
            "tags": []
          },
          "execution_count": 23
        }
      ]
    },
    {
      "cell_type": "code",
      "metadata": {
        "id": "LqsamQ5y6kmk"
      },
      "source": [
        "from beam_utils import Node, find_best_path, find_path\n",
        "\n",
        "def evaluate(model, data, beam_size, src_field, dest_field, max_len, device):\n",
        "    src_sentences = [*map(lambda example: example.src, data.examples)]\n",
        "    dest_sentences = [*map(lambda example: example.trg, data.examples)]\n",
        "    data = [*zip([*map(lambda word_list: src_field.process([word_list]), src_sentences)],\n",
        "                 [*map(lambda word_list: dest_field.process([word_list]), dest_sentences)])]\n",
        "    references, hypotheses, sources = [], [], []\n",
        "    model.eval()\n",
        "    with torch.no_grad():\n",
        "        for i, (src_sequence, dest_sequence) in tqdm.tqdm(enumerate(data), total=len(data)):\n",
        "            src_sequence, dest_sequence = src_sequence.to(device), dest_sequence.to(device)\n",
        "            encoder_embedded, encoder_conved = model.encoder(src_sequence) # Encoding            \n",
        "            # Decoding\n",
        "            tree = [[Node(token=torch.LongTensor([dest_field.vocab.stoi[dest_field.init_token]]).to(device), states=None)]]\n",
        "            for _ in range(max_len):\n",
        "                next_nodes = []\n",
        "                for node in tree[-1]:\n",
        "                    if node.eos: # Skip eos token\n",
        "                        continue\n",
        "                    # Get tokens that're already translated\n",
        "                    already_translated = torch.LongTensor([*map(lambda node: node.token, find_path(tree))][::-1]).unsqueeze(0).to(device)\n",
        "                    logit, _ = model.decoder(already_translated, encoder_conved, encoder_embedded) # [1, dest_seq_len, vocab_size]                    \n",
        "                    logp = F.log_softmax(logit[:, -1, :], dim=1).squeeze(dim=0) # [vocab_size] Get scores                    \n",
        "                    topk_logps, topk_tokens = torch.topk(logp, beam_size) # Get top k tokens & logps                    \n",
        "                    for k in range(beam_size):\n",
        "                        next_nodes.append(Node(token=topk_tokens[k, None], states=None,\n",
        "                                               logp=topk_logps[k, None].cpu().item(), parent=node,\n",
        "                                               eos=topk_tokens[k].cpu().item() == dest_field.vocab[dest_field.eos_token]))\n",
        "                if len(next_nodes) == 0:\n",
        "                    break\n",
        "                next_nodes = sorted(next_nodes, key=lambda node: node.logps, reverse=True) # Sort next_nodes to get the best\n",
        "                tree.append(next_nodes[:beam_size]) # Update the tree\n",
        "            best_path = find_best_path(tree) # Find the best path of the tree\n",
        "\n",
        "            # Get the translation\n",
        "            pred_translated = [*map(lambda node: dest_field.vocab.itos[node.token], best_path)]\n",
        "            pred_translated = [*filter(lambda word: word not in [dest_field.init_token, dest_field.eos_token], pred_translated[::-1])]\n",
        "\n",
        "            hypotheses.append(pred_translated) # Update hypotheses\n",
        "\n",
        "            # Update references\n",
        "            references.append([[dest_field.vocab.itos[indice] for indice in dest_sequence[0] if indice not in (\n",
        "                dest_field.vocab.stoi[dest_field.init_token],\n",
        "                dest_field.vocab.stoi[dest_field.eos_token],\n",
        "                dest_field.vocab.stoi[dest_field.pad_token]\n",
        "            )]])\n",
        "\n",
        "            # Update sources\n",
        "            sources.append([src_field.vocab.itos[indice]  for indice in src_sequence[0] if indice not in (\n",
        "                src_field.vocab.stoi[src_field.init_token],\n",
        "                src_field.vocab.stoi[src_field.eos_token],\n",
        "                src_field.vocab.stoi[src_field.pad_token]\n",
        "            )])\n",
        "    \n",
        "        assert len(hypotheses) == len(references) == len(sources)\n",
        "        bleu4 = bleu_score(hypotheses, references, max_n=4, weights=[0.25, 0.25, 0.25, 0.25]) # Calculate BLEU-4 score\n",
        "    return hypotheses, references, sources, bleu4"
      ],
      "execution_count": 25,
      "outputs": []
    },
    {
      "cell_type": "code",
      "metadata": {
        "id": "4rjW3Ag47l7x",
        "outputId": "69ae5db8-2119-4366-aa35-cbd1ce564c44",
        "colab": {
          "base_uri": "https://localhost:8080/",
          "height": 221
        }
      },
      "source": [
        "bleu_scores = []\n",
        "for beam_size in [1, 3, 5]:\n",
        "    for name, data in [('validation', valid_data), ('test', test_data)]:\n",
        "        _, _, _, bleu4 = evaluate(model=seq2seq, data=data, beam_size=beam_size, src_field=DE, dest_field=EN, max_len=MAX_LEN, device=DEVICE)\n",
        "        bleu_scores.append((beam_size, name, bleu4))\n",
        "        \n",
        "for score in bleu_scores:\n",
        "    print(f'BLEU-4: {score[2]*100:.3f}% with beam_size={score[0]} on {score[1]} data')"
      ],
      "execution_count": 26,
      "outputs": [
        {
          "output_type": "stream",
          "text": [
            "100%|██████████| 1014/1014 [00:32<00:00, 30.95it/s]\n",
            "100%|██████████| 1000/1000 [00:31<00:00, 31.87it/s]\n",
            "100%|██████████| 1014/1014 [01:32<00:00, 11.00it/s]\n",
            "100%|██████████| 1000/1000 [01:29<00:00, 11.22it/s]\n",
            "100%|██████████| 1014/1014 [02:38<00:00,  6.40it/s]\n",
            "100%|██████████| 1000/1000 [02:31<00:00,  6.58it/s]\n"
          ],
          "name": "stderr"
        },
        {
          "output_type": "stream",
          "text": [
            "BLEU-4: 37.321% with beam_size=1 on validation data\n",
            "BLEU-4: 37.428% with beam_size=1 on test data\n",
            "BLEU-4: 37.321% with beam_size=3 on validation data\n",
            "BLEU-4: 37.428% with beam_size=3 on test data\n",
            "BLEU-4: 37.321% with beam_size=5 on validation data\n",
            "BLEU-4: 37.428% with beam_size=5 on test data\n"
          ],
          "name": "stdout"
        }
      ]
    },
    {
      "cell_type": "markdown",
      "metadata": {
        "id": "I39yyAvlzMEn"
      },
      "source": [
        "## Inference"
      ]
    },
    {
      "cell_type": "code",
      "metadata": {
        "id": "ZNycUh0TzBjk"
      },
      "source": [
        "def translate(sentences, model, beam_size, src_field, dest_field, max_len, device):\n",
        "    if isinstance(sentences, list):\n",
        "        sentences = [*map(src_field.preprocess, sentences)]\n",
        "        targets = None\n",
        "    if isinstance(sentences, Dataset):\n",
        "        targets = [*map(lambda example: ' '.join(example.trg), sentences.examples)]\n",
        "        sentences = [*map(lambda example: example.src, sentences.examples)]\n",
        "    data = [*map(lambda word_list: src_field.process([word_list]), sentences)]\n",
        "    translated_sentences, attention_weights, pred_logps = [], [], []\n",
        "    model.eval()\n",
        "    with torch.no_grad():\n",
        "        for i, src_sequence in tqdm.tqdm(enumerate(data), total=len(data)):\n",
        "            src_sequence = src_sequence.to(device)\n",
        "            encoder_embedded, encoder_conved = model.encoder(src_sequence) # Encoding\n",
        "            tree = [[Node(token=torch.LongTensor([dest_field.vocab.stoi[dest_field.init_token]]).to(device), states=())]]\n",
        "            for _ in range(max_len):\n",
        "                next_nodes = []\n",
        "                for node in tree[-1]:\n",
        "                    if node.eos: # Skip eos token\n",
        "                        continue\n",
        "                    # Get tokens that're already translated\n",
        "                    already_translated = torch.LongTensor([*map(lambda node: node.token, find_path(tree))][::-1]).unsqueeze(0).to(device)\n",
        "                    logit, attn_weights = model.decoder(already_translated, encoder_conved, encoder_embedded)                   \n",
        "                    logp = F.log_softmax(logit[:, -1, :], dim=1).squeeze(dim=0) # [vocab_size] Get scores                    \n",
        "                    topk_logps, topk_tokens = torch.topk(logp, beam_size) # Get top k tokens & logps                    \n",
        "                    for k in range(beam_size):\n",
        "                        next_nodes.append(Node(token=topk_tokens[k, None], states=(attn_weights,),\n",
        "                                               logp=topk_logps[k, None].cpu().item(), parent=node,\n",
        "                                               eos=topk_tokens[k].cpu().item() == dest_field.vocab[dest_field.eos_token]))\n",
        "                if len(next_nodes) == 0:\n",
        "                    break\n",
        "                next_nodes = sorted(next_nodes, key=lambda node: node.logps, reverse=True)\n",
        "                tree.append(next_nodes[:beam_size])\n",
        "            best_path = find_best_path(tree)[::-1]\n",
        "            # Get the translation\n",
        "            pred_translated = [*map(lambda node: dest_field.vocab.itos[node.token], best_path)]\n",
        "            pred_translated = [*filter(lambda word: word not in [\n",
        "                dest_field.init_token, dest_field.eos_token\n",
        "            ], pred_translated)]\n",
        "            translated_sentences.append(' '.join(pred_translated))\n",
        "            # Get probabilities\n",
        "            pred_logps.append(sum([*map(lambda node: node.logps, best_path)]))\n",
        "            # Get attention weights\n",
        "            attention_weights.append(best_path[-1].states[0].cpu().numpy())\n",
        "        sentences = [*map(lambda sentence: ' '.join(sentence), sentences)]\n",
        "    return sentences, translated_sentences, targets, attention_weights, pred_logps"
      ],
      "execution_count": 43,
      "outputs": []
    },
    {
      "cell_type": "code",
      "metadata": {
        "id": "DaeXErHj0FZ1"
      },
      "source": [
        "def plot_attention(src, trg, scores):\n",
        "    fig, ax = plt.subplots()\n",
        "    heatmap = ax.pcolor(scores, cmap='bone')\n",
        "\n",
        "    ax.set_xticklabels(trg.split(), minor=False, rotation='vertical')\n",
        "    ax.set_yticklabels(src.split(), minor=False)\n",
        "\n",
        "    # put the major ticks at the middle of each cell\n",
        "    # and the x-ticks on top\n",
        "    ax.xaxis.tick_top()\n",
        "    ax.set_xticks(np.arange(scores.shape[1]) + 0.5, minor=False)\n",
        "    ax.set_yticks(np.arange(scores.shape[0]) + 0.5, minor=False)\n",
        "    ax.invert_yaxis()\n",
        "\n",
        "    plt.colorbar(heatmap)\n",
        "    plt.show()"
      ],
      "execution_count": 74,
      "outputs": []
    },
    {
      "cell_type": "code",
      "metadata": {
        "id": "Tv_To3Sy0HY4",
        "outputId": "e110cf8a-28b4-4999-eab2-6f34328e6a2b",
        "colab": {
          "base_uri": "https://localhost:8080/",
          "height": 1000
        }
      },
      "source": [
        "sentences, translated_sentences, dest_sentences, attention_weights, pred_logps = translate(sentences=test_data, model=seq2seq, beam_size=5, src_field=DE,\n",
        "                                                                                           dest_field=EN, max_len=50, device=DEVICE)\n",
        "indexes = np.random.choice(len(test_data.examples), size=10, replace=False)\n",
        "print(indexes)\n",
        "print()\n",
        "for i in indexes:\n",
        "    html = f'<p><span style=\"color:blue\"><b>Source:</b> {sentences[i]}</span><br />'\n",
        "    html += f'<span style=\"color:green\"><b>Ground truth translation:</b> {dest_sentences[i]}</span><br />'\n",
        "    html += f'<span style=\"color:red\"><b>Predicted translation:</b> {translated_sentences[i]}</span></p>'\n",
        "    display(HTML(html))\n",
        "    plot_attention(sentences[i], translated_sentences[i], attention_weights[i][0])\n",
        "    print('='*100)"
      ],
      "execution_count": 76,
      "outputs": [
        {
          "output_type": "stream",
          "text": [
            "100%|██████████| 1000/1000 [02:26<00:00,  6.81it/s]"
          ],
          "name": "stderr"
        },
        {
          "output_type": "stream",
          "text": [
            "[ 41 486  21 157 699 989 695 155  87 537]\n",
            "\n"
          ],
          "name": "stdout"
        },
        {
          "output_type": "stream",
          "text": [
            "\n"
          ],
          "name": "stderr"
        },
        {
          "output_type": "display_data",
          "data": {
            "text/html": [
              "<p><span style=\"color:blue\"><b>Source:</b> ein mann in uniform und ein mann in einem blauen hemd stehen vor einem wagen .</span><br /><span style=\"color:green\"><b>Ground truth translation:</b> a man in uniform and a man in a blue shirt are standing in front of a truck .</span><br /><span style=\"color:red\"><b>Predicted translation:</b> a man in uniform and a man in a blue shirt standing in front of a cart .</span></p>"
            ],
            "text/plain": [
              "<IPython.core.display.HTML object>"
            ]
          },
          "metadata": {
            "tags": []
          }
        },
        {
          "output_type": "display_data",
          "data": {
            "image/png": "[encoded data removed]",
            "text/plain": [
              "<Figure size 432x288 with 2 Axes>"
            ]
          },
          "metadata": {
            "tags": [],
            "needs_background": "light"
          }
        },
        {
          "output_type": "stream",
          "text": [
            "====================================================================================================\n"
          ],
          "name": "stdout"
        },
        {
          "output_type": "display_data",
          "data": {
            "text/html": [
              "<p><span style=\"color:blue\"><b>Source:</b> ein mann hält einen anderen mit seinem rücken hoch .</span><br /><span style=\"color:green\"><b>Ground truth translation:</b> a man holding up another with his back .</span><br /><span style=\"color:red\"><b>Predicted translation:</b> a man holding a another with his back up .</span></p>"
            ],
            "text/plain": [
              "<IPython.core.display.HTML object>"
            ]
          },
          "metadata": {
            "tags": []
          }
        },
        {
          "output_type": "display_data",
          "data": {
            "image/png": "[encoded data removed]",
            "text/plain": [
              "<Figure size 432x288 with 2 Axes>"
            ]
          },
          "metadata": {
            "tags": [],
            "needs_background": "light"
          }
        },
        {
          "output_type": "stream",
          "text": [
            "====================================================================================================\n"
          ],
          "name": "stdout"
        },
        {
          "output_type": "display_data",
          "data": {
            "text/html": [
              "<p><span style=\"color:blue\"><b>Source:</b> eine teenagerin spielt bei einem spiel trompete auf dem feld .</span><br /><span style=\"color:green\"><b>Ground truth translation:</b> a teenager plays her trumpet on the field at a game .</span><br /><span style=\"color:red\"><b>Predicted translation:</b> a girl is playing a trumpet in a field .</span></p>"
            ],
            "text/plain": [
              "<IPython.core.display.HTML object>"
            ]
          },
          "metadata": {
            "tags": []
          }
        },
        {
          "output_type": "display_data",
          "data": {
            "image/png": "[encoded data removed]",
            "text/plain": [
              "<Figure size 432x288 with 2 Axes>"
            ]
          },
          "metadata": {
            "tags": [],
            "needs_background": "light"
          }
        },
        {
          "output_type": "stream",
          "text": [
            "====================================================================================================\n"
          ],
          "name": "stdout"
        },
        {
          "output_type": "display_data",
          "data": {
            "text/html": [
              "<p><span style=\"color:blue\"><b>Source:</b> ein kleiner junge spielt mit plastikklötzen , autos und tieren während eine erwachsene ihn aufmerksam beobachtet .</span><br /><span style=\"color:green\"><b>Ground truth translation:</b> a small boy plays with plastic blocks , cars , and animals with an adult watching closely .</span><br /><span style=\"color:red\"><b>Predicted translation:</b> a little boy playing with a <unk> , cars and <unk> while an adult watches .</span></p>"
            ],
            "text/plain": [
              "<IPython.core.display.HTML object>"
            ]
          },
          "metadata": {
            "tags": []
          }
        },
        {
          "output_type": "display_data",
          "data": {
            "image/png": "[encoded data removed]",
            "text/plain": [
              "<Figure size 432x288 with 2 Axes>"
            ]
          },
          "metadata": {
            "tags": [],
            "needs_background": "light"
          }
        },
        {
          "output_type": "stream",
          "text": [
            "====================================================================================================\n"
          ],
          "name": "stdout"
        },
        {
          "output_type": "display_data",
          "data": {
            "text/html": [
              "<p><span style=\"color:blue\"><b>Source:</b> zwei motocrossfahrer in voller schutzkleidung , einer von ihnen ist nach einem sprung in der luft , der andere blickt auf sein motorrad hinunter .</span><br /><span style=\"color:green\"><b>Ground truth translation:</b> two motocross bikers wearing full protective gear , with one in midair after a jump and the other looking down at his motorcycle .</span><br /><span style=\"color:red\"><b>Predicted translation:</b> two motocross rider in full protective gear , one of them is looking down on his motorcycle .</span></p>"
            ],
            "text/plain": [
              "<IPython.core.display.HTML object>"
            ]
          },
          "metadata": {
            "tags": []
          }
        },
        {
          "output_type": "display_data",
          "data": {
            "image/png": "[encoded data removed]",
            "text/plain": [
              "<Figure size 432x288 with 2 Axes>"
            ]
          },
          "metadata": {
            "tags": [],
            "needs_background": "light"
          }
        },
        {
          "output_type": "stream",
          "text": [
            "====================================================================================================\n"
          ],
          "name": "stdout"
        },
        {
          "output_type": "display_data",
          "data": {
            "text/html": [
              "<p><span style=\"color:blue\"><b>Source:</b> ein kleiner junge in baseballmontur holt mit einem schläger hinter seinem kopf in richtung eines vor ihm montierten baseballs aus .</span><br /><span style=\"color:green\"><b>Ground truth translation:</b> a small boy wearing baseball regalia holds a bat behind his head with a baseball mounted in front of him .</span><br /><span style=\"color:red\"><b>Predicted translation:</b> a little boy in a blue and yellow prepares to throw a ball in the foreground of him .</span></p>"
            ],
            "text/plain": [
              "<IPython.core.display.HTML object>"
            ]
          },
          "metadata": {
            "tags": []
          }
        },
        {
          "output_type": "display_data",
          "data": {
            "image/png": "[encoded data removed]",
            "text/plain": [
              "<Figure size 432x288 with 2 Axes>"
            ]
          },
          "metadata": {
            "tags": [],
            "needs_background": "light"
          }
        },
        {
          "output_type": "stream",
          "text": [
            "====================================================================================================\n"
          ],
          "name": "stdout"
        },
        {
          "output_type": "display_data",
          "data": {
            "text/html": [
              "<p><span style=\"color:blue\"><b>Source:</b> ein älterer mann mit einer zigarette im mund und einer mütze inspiziert seine kamera .</span><br /><span style=\"color:green\"><b>Ground truth translation:</b> an older man with a cigarette in his mouth and a ball cap inspects his camera .</span><br /><span style=\"color:red\"><b>Predicted translation:</b> an elderly man with a cigarette in his mouth and a hat inspects his camera .</span></p>"
            ],
            "text/plain": [
              "<IPython.core.display.HTML object>"
            ]
          },
          "metadata": {
            "tags": []
          }
        },
        {
          "output_type": "display_data",
          "data": {
            "image/png": "[encoded data removed]",
            "text/plain": [
              "<Figure size 432x288 with 2 Axes>"
            ]
          },
          "metadata": {
            "tags": [],
            "needs_background": "light"
          }
        },
        {
          "output_type": "stream",
          "text": [
            "====================================================================================================\n"
          ],
          "name": "stdout"
        },
        {
          "output_type": "display_data",
          "data": {
            "text/html": [
              "<p><span style=\"color:blue\"><b>Source:</b> ein mädchen beim seilhüpfen auf dem gehweg nahe einer garage .</span><br /><span style=\"color:green\"><b>Ground truth translation:</b> a girl jumping rope on a sidewalk near a parking garage .</span><br /><span style=\"color:red\"><b>Predicted translation:</b> a girl is walking on the sidewalk near a garage .</span></p>"
            ],
            "text/plain": [
              "<IPython.core.display.HTML object>"
            ]
          },
          "metadata": {
            "tags": []
          }
        },
        {
          "output_type": "display_data",
          "data": {
            "image/png": "[encoded data removed]",
            "text/plain": [
              "<Figure size 432x288 with 2 Axes>"
            ]
          },
          "metadata": {
            "tags": [],
            "needs_background": "light"
          }
        },
        {
          "output_type": "stream",
          "text": [
            "====================================================================================================\n"
          ],
          "name": "stdout"
        },
        {
          "output_type": "display_data",
          "data": {
            "text/html": [
              "<p><span style=\"color:blue\"><b>Source:</b> eine große gruppe von menschen unterschiedlichen alters und geschlechts sitzt gemeinsam im freien .</span><br /><span style=\"color:green\"><b>Ground truth translation:</b> a large group of people of various ages and genders sit outside together .</span><br /><span style=\"color:red\"><b>Predicted translation:</b> a large group of people are sitting together in front of a crowd of people .</span></p>"
            ],
            "text/plain": [
              "<IPython.core.display.HTML object>"
            ]
          },
          "metadata": {
            "tags": []
          }
        },
        {
          "output_type": "display_data",
          "data": {
            "image/png": "[encoded data removed]",
            "text/plain": [
              "<Figure size 432x288 with 2 Axes>"
            ]
          },
          "metadata": {
            "tags": [],
            "needs_background": "light"
          }
        },
        {
          "output_type": "stream",
          "text": [
            "====================================================================================================\n"
          ],
          "name": "stdout"
        },
        {
          "output_type": "display_data",
          "data": {
            "text/html": [
              "<p><span style=\"color:blue\"><b>Source:</b> zwei kinder beobachten pferde durch einen kleinen zaun .</span><br /><span style=\"color:green\"><b>Ground truth translation:</b> two children looking at horses through a small fence .</span><br /><span style=\"color:red\"><b>Predicted translation:</b> two children are watching horses through a small fence .</span></p>"
            ],
            "text/plain": [
              "<IPython.core.display.HTML object>"
            ]
          },
          "metadata": {
            "tags": []
          }
        },
        {
          "output_type": "display_data",
          "data": {
            "image/png": "[encoded data removed]",
            "text/plain": [
              "<Figure size 432x288 with 2 Axes>"
            ]
          },
          "metadata": {
            "tags": [],
            "needs_background": "light"
          }
        },
        {
          "output_type": "stream",
          "text": [
            "====================================================================================================\n"
          ],
          "name": "stdout"
        }
      ]
    },
    {
      "cell_type": "markdown",
      "metadata": {
        "id": "hxiB1_RI4IVR"
      },
      "source": [
        "## Error Analysis"
      ]
    },
    {
      "cell_type": "code",
      "metadata": {
        "id": "bBzK05Hl0JPt"
      },
      "source": [
        "def get_dest_logp(model, data, src_field, dest_field, device):\n",
        "    dest_logps = []\n",
        "    model.eval()\n",
        "    with torch.no_grad():\n",
        "        for i, data in tqdm.tqdm(enumerate(data), total=len(data)):\n",
        "            src_sequence, src_length = src_field.process([data.src])\n",
        "            dest_sequence, dest_length = dest_field.process([data.trg])\n",
        "            src_sequence, src_length = src_sequence.to(device), src_length.to(device)\n",
        "            dest_sequence, dest_length = dest_sequence.to(device), dest_length.to(device)\n",
        "            enc_outputs, h_state, mask = model.encode(src_sequence, src_length)\n",
        "            logps = []\n",
        "            input_word_index = torch.LongTensor([dest_field.vocab.stoi[dest_field.init_token]]).to(device)\n",
        "            for idx in range(dest_sequence.shape[0]):\n",
        "                logit, h_state, _ = model.decoder(input_word_index=input_word_index, h_state_prev=h_state.contiguous(), enc_outputs=enc_outputs, mask=mask)\n",
        "                logp = F.log_softmax(logit, dim=1).squeeze(dim=0)\n",
        "                input_word_index = dest_sequence[idx]\n",
        "                logps.append(logp[input_word_index].cpu().item()) # Get logp of ground truth ouput\n",
        "            dest_logps.append(sum(logps))\n",
        "    return dest_logps"
      ],
      "execution_count": 77,
      "outputs": []
    },
    {
      "cell_type": "code",
      "metadata": {
        "id": "LW9Dy_k84OtD"
      },
      "source": [
        "dest_logps = get_dest_logp(model=seq2seq, data=test_data, src_field=DE, dest_field=EN, device=DEVICE)\n",
        "assert len(pred_logps) == len(dest_logps) == len(test_data), f'{len(pred_logps)}, {len(dest_logps)}, {len(test_data)}'"
      ],
      "execution_count": null,
      "outputs": []
    },
    {
      "cell_type": "code",
      "metadata": {
        "id": "ZL7sy0Pk4TVO"
      },
      "source": [
        "beam_search_faults = np.array(dest_logps) > np.array(pred_logps)\n",
        "\n",
        "beam_search_fault_rate = beam_search_faults.sum() / beam_search_faults.size\n",
        "print(f'Beam search fault rate: {beam_search_fault_rate * 100:.3f}%')\n",
        "print(f'Model fault rate: {(1 - beam_search_fault_rate) * 100:.3f}%')"
      ],
      "execution_count": null,
      "outputs": []
    },
    {
      "cell_type": "code",
      "metadata": {
        "id": "0r8vxrZZ4WUu"
      },
      "source": [
        "beam_search_fault_indexes = np.where(beam_search_faults == True)[0]\n",
        "model_fault_indexes = np.where(beam_search_faults == False)[0]"
      ],
      "execution_count": null,
      "outputs": []
    },
    {
      "cell_type": "code",
      "metadata": {
        "id": "DdxWM0SV4Wa-"
      },
      "source": [
        "for i in np.random.choice(beam_search_fault_indexes, size=5, replace=False):\n",
        "    html = f'<p><span><b>Source:</b> {sentences[i]}</span><br />'\n",
        "    html += f'<span style=\"color:green\"><b>Ground truth translation:</b> {dest_sentences[i]}</span><br />'\n",
        "    html += f'<span style=\"color:red\"><b>Predicted translation (Beam search fault):</b> {translated_sentences[i]}</span><br />'\n",
        "    display(HTML(html))\n",
        "    print('='*100)"
      ],
      "execution_count": null,
      "outputs": []
    },
    {
      "cell_type": "code",
      "metadata": {
        "id": "no6FwB8F4ZMB"
      },
      "source": [
        "for i in np.random.choice(model_fault_indexes, size=5, replace=False):\n",
        "    html = f'<p><span><b>Source:</b> {sentences[i]}</span><br />'\n",
        "    html += f'<span style=\"color:green\"><b>Ground truth translation:</b> {dest_sentences[i]}</span><br />'\n",
        "    html += f'<span style=\"color:blue\"><b>Predicted translation (Model fault):</b> {translated_sentences[i]}</span><br />'\n",
        "    display(HTML(html))\n",
        "    print('='*100)"
      ],
      "execution_count": null,
      "outputs": []
    },
    {
      "cell_type": "code",
      "metadata": {
        "id": "Inv0ZYXO4b7D"
      },
      "source": [
        "lengths = np.array([*map(len, dest_sentences)])\n",
        "\n",
        "_, axes = plt.subplots(1, 2, figsize=(12, 5))\n",
        "axes[0].hist(lengths[beam_search_fault_indexes])\n",
        "axes[0].set_title('Lengths of beam search faults')\n",
        "axes[0].grid(True)\n",
        "axes[1].hist(lengths[model_fault_indexes])\n",
        "axes[1].set_title('Lengths of model faults')\n",
        "axes[1].grid(True)\n",
        "plt.show()"
      ],
      "execution_count": null,
      "outputs": []
    }
  ]
}