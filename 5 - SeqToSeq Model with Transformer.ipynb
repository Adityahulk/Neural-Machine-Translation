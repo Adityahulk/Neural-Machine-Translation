{
  "nbformat": 4,
  "nbformat_minor": 0,
  "metadata": {
    "colab": {
      "name": "5 - SeqToSeq Model with Transformer.ipynb",
      "provenance": [],
      "collapsed_sections": [],
      "authorship_tag": "ABX9TyPV7wYMLsY1IB2g9nqveegy",
      "include_colab_link": true
    },
    "kernelspec": {
      "name": "python3",
      "display_name": "Python 3"
    },
    "accelerator": "GPU"
  },
  "cells": [
    {
      "cell_type": "markdown",
      "metadata": {
        "id": "view-in-github",
        "colab_type": "text"
      },
      "source": [
        "<a href=\"https://colab.research.google.com/github/dksifoua/Neural-Machine-Translation/blob/master/5%20-%20SeqToSeq%20Model%20with%20Transformer.ipynb\" target=\"_parent\"><img src=\"https://colab.research.google.com/assets/colab-badge.svg\" alt=\"Open In Colab\"/></a>"
      ]
    },
    {
      "cell_type": "code",
      "metadata": {
        "id": "U5eYz3QviXY7",
        "outputId": "0499d8fe-de63-4bb1-98b3-ba0943d912e9",
        "colab": {
          "base_uri": "https://localhost:8080/",
          "height": 357
        }
      },
      "source": [
        "!nvidia-smi"
      ],
      "execution_count": null,
      "outputs": [
        {
          "output_type": "stream",
          "text": [
            "Sat Oct  3 02:38:45 2020       \n",
            "+-----------------------------------------------------------------------------+\n",
            "| NVIDIA-SMI 455.23.05    Driver Version: 418.67       CUDA Version: 10.1     |\n",
            "|-------------------------------+----------------------+----------------------+\n",
            "| GPU  Name        Persistence-M| Bus-Id        Disp.A | Volatile Uncorr. ECC |\n",
            "| Fan  Temp  Perf  Pwr:Usage/Cap|         Memory-Usage | GPU-Util  Compute M. |\n",
            "|                               |                      |               MIG M. |\n",
            "|===============================+======================+======================|\n",
            "|   0  Tesla T4            Off  | 00000000:00:04.0 Off |                    0 |\n",
            "| N/A   43C    P8    10W /  70W |      0MiB / 15079MiB |      0%      Default |\n",
            "|                               |                      |                 ERR! |\n",
            "+-------------------------------+----------------------+----------------------+\n",
            "                                                                               \n",
            "+-----------------------------------------------------------------------------+\n",
            "| Processes:                                                                  |\n",
            "|  GPU   GI   CI        PID   Type   Process name                  GPU Memory |\n",
            "|        ID   ID                                                   Usage      |\n",
            "|=============================================================================|\n",
            "|  No running processes found                                                 |\n",
            "+-----------------------------------------------------------------------------+\n"
          ],
          "name": "stdout"
        }
      ]
    },
    {
      "cell_type": "markdown",
      "metadata": {
        "id": "jS1lwjKOip7a"
      },
      "source": [
        "## Load dependencies"
      ]
    },
    {
      "cell_type": "code",
      "metadata": {
        "id": "q3NzgoSJioKk"
      },
      "source": [
        "!pip install tqdm --upgrade >> /dev/null 2>&1\n",
        "!pip install torchtext --upgrade >> /dev/null 2>&1\n",
        "!pip install spacy --upgrade >> /dev/null 2>&1\n",
        "!python -m spacy download de >> /dev/null 2>&1\n",
        "!python -m spacy download en >> /dev/null 2>&1"
      ],
      "execution_count": null,
      "outputs": []
    },
    {
      "cell_type": "code",
      "metadata": {
        "id": "a1UyP20mir_5"
      },
      "source": [
        "import tqdm\n",
        "import spacy\n",
        "import warnings\n",
        "import numpy as np\n",
        "import pandas as pd\n",
        "import matplotlib.pyplot as plt\n",
        "%matplotlib inline\n",
        "\n",
        "from IPython.core.display import display, HTML\n",
        "\n",
        "import torch\n",
        "import torch.nn as nn\n",
        "import torch.nn.functional as F\n",
        "import torch.optim as optim\n",
        "\n",
        "from torchtext.data import Dataset, Example, Field\n",
        "from torchtext.data.iterator import BucketIterator\n",
        "from torchtext.data.metrics import bleu_score\n",
        "from torchtext.datasets import Multi30k"
      ],
      "execution_count": null,
      "outputs": []
    },
    {
      "cell_type": "code",
      "metadata": {
        "id": "G792qPZxit5y",
        "outputId": "39b25acf-173e-4c87-c647-fdb891d383d8",
        "colab": {
          "base_uri": "https://localhost:8080/",
          "height": 34
        }
      },
      "source": [
        "warnings.simplefilter(action='ignore', category=UserWarning)\n",
        "warnings.simplefilter(action='ignore', category=FutureWarning)\n",
        "warnings.simplefilter(action='ignore', category=RuntimeWarning)\n",
        "warnings.simplefilter(action='ignore', category=DeprecationWarning)\n",
        "\n",
        "SEED = 546\n",
        "np.random.seed(SEED)\n",
        "torch.manual_seed(SEED)\n",
        "torch.cuda.manual_seed(SEED)\n",
        "torch.backends.cudnn.deterministic = True\n",
        "\n",
        "DEVICE = torch.device('cuda' if torch.cuda.is_available() else 'cpu')\n",
        "print(f'Device: {DEVICE}')"
      ],
      "execution_count": null,
      "outputs": [
        {
          "output_type": "stream",
          "text": [
            "Device: cuda\n"
          ],
          "name": "stdout"
        }
      ]
    },
    {
      "cell_type": "markdown",
      "metadata": {
        "id": "MioRYIn7i1BN"
      },
      "source": [
        "## Load data"
      ]
    },
    {
      "cell_type": "code",
      "metadata": {
        "id": "LqLyXA_bizfT",
        "outputId": "541072bb-7c06-4384-e132-bd85ca7d55fa",
        "colab": {
          "base_uri": "https://localhost:8080/",
          "height": 241
        }
      },
      "source": [
        "%%time\n",
        "DE = Field(init_token='<sos>', eos_token='<eos>', lower=True, tokenize='spacy', tokenizer_language='de', batch_first=True)\n",
        "EN = Field(init_token='<sos>', eos_token='<eos>', lower=True, tokenize='spacy', tokenizer_language='en', batch_first=True)\n",
        "train_data, valid_data, test_data = Multi30k.splits(exts=('.de', '.en'),  fields=(DE, EN))\n",
        "print(f'train set size: {len(train_data.examples):,}')\n",
        "print(f'valid set size: {len(valid_data.examples):,}')\n",
        "print(f'test set size: {len(test_data.examples):,}')\n",
        "print(vars(train_data.examples[0]))"
      ],
      "execution_count": null,
      "outputs": [
        {
          "output_type": "stream",
          "text": [
            "\rtraining.tar.gz:   0%|          | 0.00/1.21M [00:00<?, ?B/s]"
          ],
          "name": "stderr"
        },
        {
          "output_type": "stream",
          "text": [
            "downloading training.tar.gz\n"
          ],
          "name": "stdout"
        },
        {
          "output_type": "stream",
          "text": [
            "training.tar.gz: 100%|██████████| 1.21M/1.21M [00:00<00:00, 5.48MB/s]\n",
            "validation.tar.gz: 100%|██████████| 46.3k/46.3k [00:00<00:00, 1.45MB/s]"
          ],
          "name": "stderr"
        },
        {
          "output_type": "stream",
          "text": [
            "downloading validation.tar.gz\n",
            "downloading mmt_task1_test2016.tar.gz\n"
          ],
          "name": "stdout"
        },
        {
          "output_type": "stream",
          "text": [
            "\n",
            "mmt_task1_test2016.tar.gz: 100%|██████████| 66.2k/66.2k [00:00<00:00, 1.36MB/s]\n"
          ],
          "name": "stderr"
        },
        {
          "output_type": "stream",
          "text": [
            "train set size: 29,000\n",
            "valid set size: 1,014\n",
            "test set size: 1,000\n",
            "{'src': ['zwei', 'junge', 'weiße', 'männer', 'sind', 'im', 'freien', 'in', 'der', 'nähe', 'vieler', 'büsche', '.'], 'trg': ['two', 'young', ',', 'white', 'males', 'are', 'outside', 'near', 'many', 'bushes', '.']}\n",
            "CPU times: user 6.34 s, sys: 198 ms, total: 6.54 s\n",
            "Wall time: 7.23 s\n"
          ],
          "name": "stdout"
        }
      ]
    },
    {
      "cell_type": "markdown",
      "metadata": {
        "id": "Jrtj-_X4i7je"
      },
      "source": [
        "## Build vocabularies"
      ]
    },
    {
      "cell_type": "code",
      "metadata": {
        "id": "oJuCHlU4i3LC",
        "outputId": "2d087c24-d6e5-4895-e7f9-66398f7131f9",
        "colab": {
          "base_uri": "https://localhost:8080/",
          "height": 85
        }
      },
      "source": [
        "%%time\n",
        "MIN_COUNT = 2\n",
        "DE.build_vocab(train_data, min_freq=MIN_COUNT, specials=['<unk>', '<pad>'])\n",
        "EN.build_vocab(train_data, min_freq=MIN_COUNT, specials=['<sos>', '<eos>', '<unk>', '<pad>'])\n",
        "print(f'Length of DE vocabulary: {len(DE.vocab):,}')\n",
        "print(f'Length of EN vocabulary: {len(EN.vocab):,}')"
      ],
      "execution_count": null,
      "outputs": [
        {
          "output_type": "stream",
          "text": [
            "Length of DE vocabulary: 7,854\n",
            "Length of EN vocabulary: 5,893\n",
            "CPU times: user 294 ms, sys: 1.99 ms, total: 296 ms\n",
            "Wall time: 295 ms\n"
          ],
          "name": "stdout"
        }
      ]
    },
    {
      "cell_type": "markdown",
      "metadata": {
        "id": "3nkcsqCJi__X"
      },
      "source": [
        "## Modeling\n",
        "\n",
        "***Scaled Dot Product Layer***"
      ]
    },
    {
      "cell_type": "code",
      "metadata": {
        "id": "-i33cyCEjrv7"
      },
      "source": [
        "class ScaledDotProductAttnLayer(nn.Module):\n",
        "\n",
        "    def __init__(self):\n",
        "        super(ScaledDotProductAttnLayer, self).__init__()\n",
        "    \n",
        "    def forward(self, query, key, value, mask):\n",
        "        \"\"\"\n",
        "        :param Tensor[batch_size, ..., q_len, dk] query\n",
        "        :param Tensor[batch_size, ..., k_len, dk] key\n",
        "        :param Tensor[batch_size, ..., v_len, dv] value\n",
        "        :param Tensor[batch_size, ..., k_len] mask\n",
        "        :return Tensor[batch_size, ..., q_len, dv] output\n",
        "        :return Tensor[batch_size, ..., q_len, key_len] attn_weights\n",
        "        \"\"\"\n",
        "        scores = torch.matmul(query, key.transpose(-1, -2)) # [batch_size, ..., q_len, k_len]\n",
        "        scores = scores / torch.sqrt(torch.FloatTensor([query.size(-1)]).to(query.device)) # Scaling\n",
        "        if mask is not None: # Apply mask\n",
        "            # mask [batch_size, 1, k_len] or [batch_size, seq_len, k_len]\n",
        "            # Unsqueeze dim=1 => [batch_size, 1, 1, k_len] or [batch_size, 1, k_len, k_len]\n",
        "            scores = scores.masked_fill(mask.unsqueeze(1) == 0, 1e-9)\n",
        "        attn_weights = F.softmax(scores, dim=-1) # [batch_size, ..., q_len, k_len]\n",
        "        output = torch.matmul(attn_weights, value) # [batch_size, ..., q_len, dv]\n",
        "        return output, attn_weights"
      ],
      "execution_count": null,
      "outputs": []
    },
    {
      "cell_type": "markdown",
      "metadata": {
        "id": "pkNY2pkjW-my"
      },
      "source": [
        "***Multi-Head Attention Layer***"
      ]
    },
    {
      "cell_type": "code",
      "metadata": {
        "id": "nut4kargi-pg"
      },
      "source": [
        "class MultiHeadAttnLayer(nn.Module):\n",
        "\n",
        "    def __init__(self, d_model, n_heads):\n",
        "        super(MultiHeadAttnLayer, self).__init__()\n",
        "        assert d_model % n_heads == 0\n",
        "        self.d_model = d_model\n",
        "        self.n_heads = n_heads\n",
        "        self.dk = d_model // n_heads\n",
        "        self.dv = d_model // n_heads\n",
        "        self.fc_query = nn.Linear(d_model, d_model)\n",
        "        self.fc_key = nn.Linear(d_model, d_model)\n",
        "        self.fc_value = nn.Linear(d_model, d_model)\n",
        "        self.fc = nn.Linear(d_model, d_model)\n",
        "        self.scaled_dot_product_attention = ScaledDotProductAttnLayer()\n",
        "\n",
        "    def forward(self, query, key, value, mask):\n",
        "        \"\"\"\n",
        "        :param Tensor[batch_size, q_len, d_model] query\n",
        "        :param Tensor[batch_size, k_len, d_model] key\n",
        "        :param Tensor[batch_size, v_len, d_model] value\n",
        "        :param Tensor[batch_size, ..., q_len] mask\n",
        "        :return Tensor[batch_size, q_len, d_model] outputs\n",
        "        :return Tensor[batch_size, n_heads, q_len, key_len] attn_weights\n",
        "        \"\"\"\n",
        "        Q = self.fc_query(query) # [batch_size, query_len, d_model]\n",
        "        K = self.fc_key(key) # [batch_size, key_len, d_model]\n",
        "        V = self.fc_value(value) # [batch_size, value_len, d_model]\n",
        "\n",
        "        Q = Q.view(Q.size(0), -1, self.n_heads, self.dk).permute(0, 2, 1, 3) # [batch_size, n_heads, q_len, dk]\n",
        "        K = K.view(K.size(0), -1, self.n_heads, self.dk).permute(0, 2, 1, 3) # [batch_size, n_heads, k_len, dk]\n",
        "        V = V.view(V.size(0), -1, self.n_heads, self.dv).permute(0, 2, 1, 3) # [batch_size, n_heads, v_len, dv]\n",
        "\n",
        "        if mask is not None:\n",
        "            if len(mask.size()) == 2:\n",
        "                mask = mask.unsqueeze(1) # [batch_size, 1, q_len]\n",
        "            # else already unsqueezed [batch_size, q_len, q_len]\n",
        "\n",
        "        outputs, attn_weights = self.scaled_dot_product_attention(query=Q, key=K, value=V, mask=mask)\n",
        "        # outputs: [batch_size, n_heads, q_len, dv]\n",
        "        # attn_weights: [batch_size, n_heads, q_len, key_len]\n",
        "\n",
        "        outputs = torch.reshape(outputs, (outputs.size(0), outputs.size(2), -1)) # [batch_size, q_len, d_model]\n",
        "        outputs = self.fc(outputs) # [batch_size, q_len, d_model]\n",
        "\n",
        "        return outputs, attn_weights"
      ],
      "execution_count": null,
      "outputs": []
    },
    {
      "cell_type": "markdown",
      "metadata": {
        "id": "5gWW5cqEXFXm"
      },
      "source": [
        "***Position-Wise Feed-Forward Layer***"
      ]
    },
    {
      "cell_type": "code",
      "metadata": {
        "id": "sKkv4jlQ3tR9"
      },
      "source": [
        "class PositionWiseFeedForwardLayer(nn.Module):\n",
        "\n",
        "    def __init__(self, d_model, hidden_size):\n",
        "        super(PositionWiseFeedForwardLayer, self).__init__()\n",
        "        self.d_model = d_model\n",
        "        self.hidden_size = hidden_size\n",
        "        self.fc1 = nn.Linear(d_model, hidden_size)\n",
        "        self.fc2 = nn.Linear(hidden_size, d_model)\n",
        "\n",
        "    def forward(self, x):\n",
        "        \"\"\"\n",
        "        :param Tensor[batch_size, seq_len, d_model] x\n",
        "        :return Tensor[batch_size, seq_len, d_model] x\n",
        "        \"\"\"\n",
        "        x = F.relu(self.fc1(x)) # [batch_size, seq_len, hidden_size]\n",
        "        x = self.fc2(x) # [batch_size, seq_len, d_model]\n",
        "        return x"
      ],
      "execution_count": null,
      "outputs": []
    },
    {
      "cell_type": "markdown",
      "metadata": {
        "id": "T9kY2k0fXKsi"
      },
      "source": [
        "***Positional Encoding Layer***"
      ]
    },
    {
      "cell_type": "code",
      "metadata": {
        "id": "ULOHVrt9An-W"
      },
      "source": [
        "class PositionalEncodingLayer(nn.Module):\n",
        "\n",
        "    def __init__(self, max_length, d_model):\n",
        "        super(PositionalEncodingLayer, self).__init__()\n",
        "        self.max_length = max_length\n",
        "        self.d_model = d_model\n",
        "\n",
        "    def get_angles(self, positions, indexes):\n",
        "        d_model_tensor = torch.FloatTensor([[self.d_model]]).to(positions.device)\n",
        "        angle_rates = torch.pow(10000, (2 * (indexes // 2)) / d_model_tensor)\n",
        "        return positions / angle_rates\n",
        "\n",
        "    def forward(self, input_sequences):\n",
        "        \"\"\"\n",
        "        :param Tensor[batch_size, seq_len] input_sequences\n",
        "        :return Tensor[batch_size, seq_len, d_model] position_encoding\n",
        "        \"\"\"\n",
        "        positions = torch.arange(input_sequences.size(1)).unsqueeze(1).to(input_sequences.device) # [seq_len, 1]\n",
        "        indexes = torch.arange(self.d_model).unsqueeze(0).to(input_sequences.device) # [1, d_model]\n",
        "        angles = self.get_angles(positions, indexes) # [seq_len, d_model]\n",
        "        angles[:, 0::2] = torch.sin(angles[:, 0::2]) # apply sin to even indices in the tensor; 2i\n",
        "        angles[:, 1::2] = torch.cos(angles[:, 1::2]) # apply cos to odd indices in the tensor; 2i\n",
        "        position_encoding = angles.unsqueeze(0).repeat(input_sequences.size(0), 1, 1) # [batch_size, seq_len, d_model]\n",
        "        return position_encoding"
      ],
      "execution_count": null,
      "outputs": []
    },
    {
      "cell_type": "code",
      "metadata": {
        "id": "DM1SaaxNSmDb",
        "outputId": "590c3d80-b302-4e77-b06d-93e8fd6c49d7",
        "colab": {
          "base_uri": "https://localhost:8080/",
          "height": 300
        }
      },
      "source": [
        "l = PositionalEncodingLayer(50, 512)\n",
        "pos_encoding = l(torch.randint(100, size=(64, 50))).numpy()\n",
        "print(pos_encoding.shape)\n",
        "plt.pcolormesh(pos_encoding[0], cmap='RdBu')\n",
        "plt.xlabel('Depth')\n",
        "plt.xlim((0, 512))\n",
        "plt.ylabel('Position')\n",
        "plt.colorbar()\n",
        "plt.show()"
      ],
      "execution_count": null,
      "outputs": [
        {
          "output_type": "stream",
          "text": [
            "(64, 50, 512)\n"
          ],
          "name": "stdout"
        },
        {
          "output_type": "display_data",
          "data": {
            "image/png": "[encoded data removed]",
            "text/plain": [
              "<Figure size 432x288 with 2 Axes>"
            ]
          },
          "metadata": {
            "tags": [],
            "needs_background": "light"
          }
        }
      ]
    },
    {
      "cell_type": "markdown",
      "metadata": {
        "id": "MVEewZp0XOxq"
      },
      "source": [
        "***Encoder Block Layer***"
      ]
    },
    {
      "cell_type": "code",
      "metadata": {
        "id": "sw__tk6V40nx"
      },
      "source": [
        "class EncoderBlockLayer(nn.Module):\n",
        "\n",
        "    def __init__(self, d_model, n_heads, hidden_size, dropout):\n",
        "        super(EncoderBlockLayer, self).__init__()\n",
        "        self.d_model = d_model\n",
        "        self.n_heads = n_heads\n",
        "        self.hidden_size = hidden_size\n",
        "        self.dropout = nn.Dropout(dropout)\n",
        "        self.multi_head_attention_layer = MultiHeadAttnLayer(d_model=d_model, n_heads=n_heads)\n",
        "        self.multi_head_attention_layer_norm = nn.LayerNorm(d_model)\n",
        "        self.position_wise_feed_forward_layer = PositionWiseFeedForwardLayer(d_model=d_model, hidden_size=hidden_size)\n",
        "        self.position_wise_feed_forward_layer_norm = nn.LayerNorm(d_model)\n",
        "    \n",
        "    def forward(self, inputs, mask):\n",
        "        \"\"\"\n",
        "        :param Tensor[batch_size, seq_len, d_model] inputs\n",
        "        :param Tensor[batch_size, seq_len] mask\n",
        "        :return Tensor[batch_size, seq_len, d_model] outputs\n",
        "        \"\"\"\n",
        "        outputs, _ = self.multi_head_attention_layer(query=inputs, key=inputs, value=inputs, mask=mask)\n",
        "        x = self.multi_head_attention_layer_norm(self.dropout(outputs) + inputs)\n",
        "        outputs = self.position_wise_feed_forward_layer(x)\n",
        "        outputs = self.position_wise_feed_forward_layer_norm(self.dropout(outputs) + x)\n",
        "        return outputs"
      ],
      "execution_count": null,
      "outputs": []
    },
    {
      "cell_type": "markdown",
      "metadata": {
        "id": "_zXAzqDtXSEU"
      },
      "source": [
        "***Encoder Layer***"
      ]
    },
    {
      "cell_type": "code",
      "metadata": {
        "id": "i5c4FCVr9Rr8"
      },
      "source": [
        "class EncoderLayer(nn.Module):\n",
        "\n",
        "    def __init__(self, vocab_size, max_length, d_model, n_heads, hidden_size, n_layers, dropout):\n",
        "        super(EncoderLayer, self).__init__()\n",
        "        self.vocab_size = vocab_size\n",
        "        self.max_length = max_length\n",
        "        self.d_model = d_model\n",
        "        self.n_heads = n_heads\n",
        "        self.hidden_size = hidden_size\n",
        "        self.n_layers = n_layers\n",
        "        self.dropout = nn.Dropout(dropout)\n",
        "        self.embedding = nn.Embedding(vocab_size, d_model)\n",
        "        self.position_encoding = PositionalEncodingLayer(max_length=max_length, d_model=d_model)\n",
        "        self.encoder_blocks = nn.ModuleList([EncoderBlockLayer(d_model=d_model, n_heads=n_heads, hidden_size=hidden_size,\n",
        "                                                               dropout=dropout) for _ in range(n_layers)])\n",
        "    \n",
        "    def forward(self, input_sequences, mask):\n",
        "        \"\"\"\n",
        "        :param Tensor[batch_size, seq_len] input_sequences\n",
        "        :param Tensor[batch_size, seq_len] mask\n",
        "        :return Tensor[batch_size, seq_len, d_model] out\n",
        "        \"\"\"\n",
        "        token_embedded = self.embedding(input_sequences) # [batch_size, seq_len, d_model]\n",
        "        position_encoded = self.position_encoding(input_sequences) # [batch_size, seq_len, d_model]\n",
        "        out = self.dropout(token_embedded) + position_encoded # [batch_size, seq_len, d_model]\n",
        "        for encoder_block in self.encoder_blocks:\n",
        "            out = encoder_block(inputs=out, mask=mask) # [batch_size, seq_len, d_model]\n",
        "        return out"
      ],
      "execution_count": null,
      "outputs": []
    },
    {
      "cell_type": "markdown",
      "metadata": {
        "id": "3-G61KSXXU6F"
      },
      "source": [
        "***Decoder Block Layer***"
      ]
    },
    {
      "cell_type": "code",
      "metadata": {
        "id": "S9OUtWbcX6eq"
      },
      "source": [
        "class DecoderBlockLayer(nn.Module):\n",
        "\n",
        "    def __init__(self, d_model, n_heads, hidden_size, dropout):\n",
        "        super(DecoderBlockLayer, self).__init__()\n",
        "        self.d_model = d_model\n",
        "        self.n_heads = n_heads\n",
        "        self.hidden_size = hidden_size\n",
        "        self.dropout = nn.Dropout(dropout)\n",
        "        self.multi_head_attention_layer_1 = MultiHeadAttnLayer(d_model=d_model, n_heads=n_heads)\n",
        "        self.multi_head_attention_layer_norm_1 = nn.LayerNorm(d_model)\n",
        "        self.multi_head_attention_layer_2 = MultiHeadAttnLayer(d_model=d_model, n_heads=n_heads)\n",
        "        self.multi_head_attention_layer_norm_2 = nn.LayerNorm(d_model)\n",
        "        self.position_wise_feed_forward_layer = PositionWiseFeedForwardLayer(d_model=d_model, hidden_size=hidden_size)\n",
        "        self.position_wise_feed_forward_layer_norm = nn.LayerNorm(d_model)\n",
        "    \n",
        "    def forward(self, dest_inputs, enc_src, dest_mask, src_mask):\n",
        "        \"\"\"\n",
        "        :param Tensor[batch_size, dest_len, d_model] dest_inputs\n",
        "        :param Tensor[batch_size, src_len, d_model] enc_src\n",
        "        :param Tensor[batch_size, dest_len, dest_len] dest_mask\n",
        "        :param Tensor[batch_size, src_len] src_mask\n",
        "        :return Tensor[batch_size, dest_len, d_model] outputs\n",
        "        :return Tensor[batch_size, n_heads, dest_len, src_len] attn_weights\n",
        "        \"\"\"\n",
        "        outputs, _ = self.multi_head_attention_layer_1(query=dest_inputs, key=dest_inputs, value=dest_inputs, mask=dest_mask)\n",
        "        x = self.multi_head_attention_layer_norm_1(self.dropout(outputs) + dest_inputs) # [batch_size, dest_len, d_model]\n",
        "        outputs, attn_weights = self.multi_head_attention_layer_2(query=x, key=enc_src, value=enc_src, mask=src_mask)\n",
        "        x = self.multi_head_attention_layer_norm_2(self.dropout(outputs) + x) # [batch_size, dest_len, d_model]\n",
        "        outputs = self.position_wise_feed_forward_layer(x)\n",
        "        outputs = self.position_wise_feed_forward_layer_norm(self.dropout(outputs) + x) # [batch_size, dest_len, d_model]\n",
        "        return outputs, attn_weights"
      ],
      "execution_count": null,
      "outputs": []
    },
    {
      "cell_type": "markdown",
      "metadata": {
        "id": "gC29WiMEb360"
      },
      "source": [
        "***Decoder Layer***"
      ]
    },
    {
      "cell_type": "code",
      "metadata": {
        "id": "m0wECkGyb2tB"
      },
      "source": [
        "class DecoderLayer(nn.Module):\n",
        "\n",
        "    def __init__(self, vocab_size, max_length, d_model, n_heads, hidden_size, n_layers, dropout):\n",
        "        super(DecoderLayer, self).__init__()\n",
        "        self.vocab_size = vocab_size\n",
        "        self.max_length = max_length\n",
        "        self.d_model = d_model\n",
        "        self.n_heads = n_heads\n",
        "        self.hidden_size = hidden_size\n",
        "        self.n_layers = n_layers\n",
        "        self.dropout = nn.Dropout(dropout)\n",
        "        self.embedding = nn.Embedding(vocab_size, d_model)\n",
        "        self.position_encoding = PositionalEncodingLayer(max_length=max_length, d_model=d_model)\n",
        "        self.decoder_blocks = nn.ModuleList([DecoderBlockLayer(d_model=d_model, n_heads=n_heads, hidden_size=hidden_size,\n",
        "                                                               dropout=dropout) for _ in range(n_layers)])\n",
        "        self.fc = nn.Linear(d_model, vocab_size)\n",
        "    \n",
        "    def forward(self, dest_sequences, enc_src, dest_mask, src_mask):\n",
        "        \"\"\"\n",
        "        :param Tensor[batch_size, dest_len] dest_sequences\n",
        "        :param Tensor[batch_size, src_len, d_model] enc_src\n",
        "        :param Tensor[batch_size, dest_len, dest_len] dest_mask\n",
        "        :param Tensor[batch_size, src_len] src_mask\n",
        "        :return Tensor[batch_size, dest_len, vocab_size] logits\n",
        "        :return Tensor[batch_size, n_heads, dest_len, src_len] attn_weights\n",
        "        \"\"\"\n",
        "        token_embedded = self.embedding(dest_sequences) # [batch_size, dest_len, d_model]\n",
        "        position_encoded = self.position_encoding(dest_sequences) # [batch_size, dest_len, d_model]\n",
        "        out = self.dropout(token_embedded) + position_encoded # [batch_size, dest_len, d_model]\n",
        "        for decoder_block in self.decoder_blocks:\n",
        "            out, attn_weights = decoder_block(dest_inputs=out, enc_src=enc_src, dest_mask=dest_mask, src_mask=src_mask)\n",
        "        logits = self.fc(out) # [batch_size, dest_len, vocab_size]\n",
        "        return logits, attn_weights"
      ],
      "execution_count": null,
      "outputs": []
    },
    {
      "cell_type": "markdown",
      "metadata": {
        "id": "E32uH0jndWiZ"
      },
      "source": [
        "***Transformer Model***"
      ]
    },
    {
      "cell_type": "code",
      "metadata": {
        "id": "OommEUQgdVmi"
      },
      "source": [
        "class Transformer(nn.Module):\n",
        "\n",
        "    def __init__(self, encoder, decoder, src_pad_index, dest_pad_index):\n",
        "        super(Transformer, self).__init__()\n",
        "        self.encoder = encoder\n",
        "        self.decoder = decoder\n",
        "        self.src_pad_index = src_pad_index\n",
        "        self.dest_pad_index = dest_pad_index\n",
        "\n",
        "    def make_src_mask(self, src_sequences):\n",
        "        \"\"\"\n",
        "        Mask <pad> tokens.\n",
        "        :param Tensor[batch_size, src_len] src_sequences\n",
        "        :return Tensor[batch_size, src_len]\n",
        "        \"\"\"\n",
        "        return src_sequences != self.src_pad_index # [batch_size, src_len]\n",
        "    \n",
        "    def make_dest_mask(self, dest_sequences):\n",
        "        \"\"\"\n",
        "        Mask <pad> tokens and futur tokens as well.\n",
        "        :param Tensor[batch_size, src_len] src_sequences\n",
        "        :return tensor[batch_size, dest_len, dest_len]\n",
        "        \"\"\"\n",
        "        mask = dest_sequences != self.dest_pad_index # [batch_size, dest_len]\n",
        "        sub_mask = torch.tril(torch.ones(dest_sequences.size(1), dest_sequences.size(1), device=dest_sequences.device)).bool() # [dest_len, dest_len]\n",
        "        return mask.unsqueeze(1) & sub_mask # [batch_size, dest_len, dest_len]\n",
        "    \n",
        "    def forward(self, src_sequences, dest_sequences):\n",
        "        \"\"\"\n",
        "        :param Tensor[batch_size, src_len] src_sequences\n",
        "        :param Tensor[batch_size, dest_len] dest_sequences\n",
        "        :return Tensor[batch_size, dest_len, vocab_size] logits\n",
        "        :return Tensor[batch_size, n_heads, dest_len, src_len] attn_weights\n",
        "        \"\"\"\n",
        "        src_mask, dest_mask = self.make_src_mask(src_sequences), self.make_dest_mask(dest_sequences)\n",
        "        enc_src = self.encoder(input_sequences=src_sequences, mask=src_mask) # [batch_size, src_len, d_model]\n",
        "        logits, attn_weights = self.decoder(dest_sequences=dest_sequences, enc_src=enc_src, dest_mask=dest_mask, src_mask=src_mask)\n",
        "        # logits [batch_size, dest_len, vocab_size]\n",
        "        # attn_weights [batch_size, n_heads, dest_len, src_len]\n",
        "        return logits, attn_weights"
      ],
      "execution_count": null,
      "outputs": []
    },
    {
      "cell_type": "markdown",
      "metadata": {
        "id": "Z5LjpHmbl1m-"
      },
      "source": [
        "***Training routines***"
      ]
    },
    {
      "cell_type": "code",
      "metadata": {
        "id": "cfv5hd2Dl0ut"
      },
      "source": [
        "class AverageMeter:\n",
        "    \n",
        "    def __init__(self):\n",
        "        self.value = 0.\n",
        "        self.sum = 0.\n",
        "        self.count = 0\n",
        "        self.average = 0.\n",
        "        \n",
        "    def reset(self):\n",
        "        self.value = 0.\n",
        "        self.sum = 0.\n",
        "        self.count = 0\n",
        "        self.average = 0.\n",
        "        \n",
        "    def update(self, value, n=1):\n",
        "        self.value = value\n",
        "        self.sum += value * n\n",
        "        self.count += n\n",
        "        self.average = self.sum / self.count"
      ],
      "execution_count": null,
      "outputs": []
    },
    {
      "cell_type": "code",
      "metadata": {
        "id": "NOCdkKfql7vl"
      },
      "source": [
        "def accuracy(outputs, target_sequences, k=5):\n",
        "    \"\"\"\n",
        "    :param Tensor[batch_size, dest_seq_len, vocab_size] outputs\n",
        "    :param Tensor[batch_size, dest_seq_len] target_sequences\n",
        "    :return float Top-k accuracy\n",
        "    \"\"\"\n",
        "    # print([*map(lambda token: EN.vocab.itos[token], outputs.argmax(dim=-1)[0].tolist())])\n",
        "    # print([*map(lambda token: EN.vocab.itos[token], target_sequences[0].tolist())])\n",
        "    # print(\"=\"*100)\n",
        "    batch_size = target_sequences.size(0)\n",
        "    _, indices = outputs.topk(k, dim=2, largest=True, sorted=True) # [batch_size, dest_seq_len, 5]\n",
        "    correct = indices.eq(target_sequences.unsqueeze(-1).expand_as(indices))\n",
        "    correct_total = correct.view(-1).float().sum()  # 0D tensor\n",
        "    return correct_total.item() * (100.0 / indices.numel())"
      ],
      "execution_count": null,
      "outputs": []
    },
    {
      "cell_type": "code",
      "metadata": {
        "id": "Q5hmrMPyl9GS"
      },
      "source": [
        "class Trainer:\n",
        "\n",
        "    def __init__(self, model, optimizer, criterion, train_iterator, valid_iterator):\n",
        "        self.model = model\n",
        "        self.optimizer = optimizer\n",
        "        self.criterion = criterion\n",
        "        self.train_iterator = train_iterator\n",
        "        self.valid_iterator = valid_iterator\n",
        "\n",
        "    def adjust_lr(self, shrink_factor=0.9, verbose=True):\n",
        "        if verbose:\n",
        "            print(\"\\nDecaying learning rate.\")\n",
        "        for param_group in self.optimizer.param_groups:\n",
        "            param_group['lr'] = param_group['lr'] * shrink_factor\n",
        "        if verbose:\n",
        "            print(\"The new learning rate is %f\\n\" % (self.optimizer.param_groups[0]['lr'],))\n",
        "    \n",
        "    def train_step(self, epoch, grad_clip):\n",
        "        loss_tracker, acc_tracker = AverageMeter(), AverageMeter()\n",
        "        self.model.train()\n",
        "        progress_bar = tqdm.tqdm(enumerate(self.train_iterator), total=len(self.train_iterator))\n",
        "        for i, batch in progress_bar:\n",
        "            src, trg = batch.src, batch.trg\n",
        "            self.optimizer.zero_grad()\n",
        "            logits, _ = self.model(src, trg[:, :-1]) # [batch_size, dest_len, vocab_size]\n",
        "            loss = self.criterion(logits.contiguous().view(-1, self.model.decoder.vocab_size), trg[:, 1:].contiguous().view(-1))\n",
        "            loss.backward()\n",
        "            nn.utils.clip_grad_norm_(self.model.parameters(), grad_clip)\n",
        "            self.optimizer.step()\n",
        "            loss_tracker.update(loss.item())\n",
        "            acc_tracker.update(accuracy(logits, trg[:, 1:]))\n",
        "            loss_, ppl_, acc_ = loss_tracker.average, np.exp(loss_tracker.average), acc_tracker.average\n",
        "            progress_bar.set_description(f'Epoch: {epoch+1:02d} -     loss: {loss_:.3f} -     ppl: {ppl_:.3f} -     acc: {acc_:.3f}%')\n",
        "        return loss_tracker.average, np.exp(loss_tracker.average), acc_tracker.average\n",
        "    \n",
        "    def validate(self, epoch):\n",
        "        loss_tracker, acc_tracker = AverageMeter(), AverageMeter()\n",
        "        self.model.eval()\n",
        "        with torch.no_grad():\n",
        "            progress_bar = tqdm.tqdm(enumerate(self.valid_iterator), total=len(self.valid_iterator))\n",
        "            for i, batch in progress_bar:\n",
        "                src, trg = batch.src, batch.trg\n",
        "                logits, _ = self.model(src, trg[:, :-1]) # [batch_size, dest_len, vocab_size]\n",
        "                loss = self.criterion(logits.contiguous().view(-1, self.model.decoder.vocab_size), trg[:, 1:].contiguous().view(-1))\n",
        "                loss_tracker.update(loss.item())\n",
        "                acc_tracker.update(accuracy(logits, trg[:, 1:]))\n",
        "                loss_, ppl_, acc_ = loss_tracker.average, np.exp(loss_tracker.average), acc_tracker.average\n",
        "                progress_bar.set_description(f'Epoch: {epoch+1:02d} - val_loss: {loss_:.3f} - val_ppl: {ppl_:.3f} - val_acc: {acc_:.3f}%')\n",
        "        return loss_tracker.average, np.exp(loss_tracker.average), acc_tracker.average\n",
        "    \n",
        "    def train(self, n_epochs, grad_clip):\n",
        "        history = {'acc': [], 'loss': [], 'ppl': [], 'val_ppl': [], 'val_acc': [], 'val_loss': []}\n",
        "        best_loss, last_improv = np.inf, 0\n",
        "        for epoch in range(n_epochs):\n",
        "            if last_improv == 4:\n",
        "                print('Training Finished - The model has stopped improving since last 4 epochs')\n",
        "                break\n",
        "            if last_improv > 0:\n",
        "                self.adjust_lr()\n",
        "            loss, ppl, acc = self.train_step(epoch, grad_clip)\n",
        "            val_loss, val_ppl, val_acc = self.validate(epoch)\n",
        "            \n",
        "            if best_loss > val_loss:\n",
        "                best_loss, last_improv = val_loss, 0\n",
        "                torch.save(self.model.state_dict(), 'transformer.pth')\n",
        "            else:\n",
        "                last_improv += 1\n",
        "                print(f'\\nLast improvement since epoch {epoch - last_improv + 1}')\n",
        "            \n",
        "            history['acc'].append(acc)\n",
        "            history['ppl'].append(ppl)\n",
        "            history['loss'].append(loss)\n",
        "            history['val_acc'].append(val_acc)\n",
        "            history['val_ppl'].append(val_ppl)\n",
        "            history['val_loss'].append(val_loss)\n",
        "        return history"
      ],
      "execution_count": null,
      "outputs": []
    },
    {
      "cell_type": "markdown",
      "metadata": {
        "id": "__13GKN6mite"
      },
      "source": [
        "***Train the model***"
      ]
    },
    {
      "cell_type": "code",
      "metadata": {
        "id": "uz0PqseUmgtb"
      },
      "source": [
        "D_MODEL = 256\n",
        "N_LAYERS = 2\n",
        "N_HEADS = 8\n",
        "HIDDEN_SIZE = 512\n",
        "MAX_LEN = 50\n",
        "DROPOUT = 0.1\n",
        "BATCH_SIZE = 64\n",
        "LR = 1e-3\n",
        "N_EPOCHS = 10\n",
        "GRAD_CLIP = 1.0"
      ],
      "execution_count": null,
      "outputs": []
    },
    {
      "cell_type": "code",
      "metadata": {
        "id": "GUn0becimy1x",
        "outputId": "88664792-db98-4619-8536-f2e6a5698d08",
        "colab": {
          "base_uri": "https://localhost:8080/",
          "height": 1000
        }
      },
      "source": [
        "encoder = EncoderLayer(vocab_size=len(DE.vocab), max_length=MAX_LEN, d_model=D_MODEL, n_heads=N_HEADS, hidden_size=HIDDEN_SIZE, n_layers=N_LAYERS, dropout=DROPOUT)\n",
        "decoder = DecoderLayer(vocab_size=len(EN.vocab), max_length=MAX_LEN, d_model=D_MODEL, n_heads=N_HEADS, hidden_size=HIDDEN_SIZE, n_layers=N_LAYERS, dropout=DROPOUT)\n",
        "transformer = Transformer(encoder=encoder, decoder=decoder, src_pad_index=DE.vocab.stoi[DE.pad_token], dest_pad_index=EN.vocab.stoi[EN.pad_token]).to(DEVICE)\n",
        "optimizer = optim.Adam(params=transformer.parameters(), lr=LR)\n",
        "criterion = nn.CrossEntropyLoss(ignore_index=EN.vocab.stoi[EN.pad_token])\n",
        "print(f'Number of parameters of the model: {sum(p.numel() for p in transformer.parameters() if p.requires_grad):,}')\n",
        "print(transformer)\n",
        "train_iterator, valid_iterator, test_iterator =  BucketIterator.splits((train_data, valid_data, test_data), batch_size=BATCH_SIZE, device=DEVICE)\n",
        "trainer = Trainer(model=transformer, optimizer=optimizer, criterion=criterion, train_iterator=train_iterator, valid_iterator=valid_iterator)"
      ],
      "execution_count": null,
      "outputs": [
        {
          "output_type": "stream",
          "text": [
            "Number of parameters of the model: 6,351,621\n",
            "Transformer(\n",
            "  (encoder): EncoderLayer(\n",
            "    (dropout): Dropout(p=0.1, inplace=False)\n",
            "    (embedding): Embedding(7854, 256)\n",
            "    (position_encoding): PositionalEncodingLayer()\n",
            "    (encoder_blocks): ModuleList(\n",
            "      (0): EncoderBlockLayer(\n",
            "        (dropout): Dropout(p=0.1, inplace=False)\n",
            "        (multi_head_attention_layer): MultiHeadAttnLayer(\n",
            "          (fc_query): Linear(in_features=256, out_features=256, bias=True)\n",
            "          (fc_key): Linear(in_features=256, out_features=256, bias=True)\n",
            "          (fc_value): Linear(in_features=256, out_features=256, bias=True)\n",
            "          (fc): Linear(in_features=256, out_features=256, bias=True)\n",
            "          (scaled_dot_product_attention): ScaledDotProductAttnLayer()\n",
            "        )\n",
            "        (multi_head_attention_layer_norm): LayerNorm((256,), eps=1e-05, elementwise_affine=True)\n",
            "        (position_wise_feed_forward_layer): PositionWiseFeedForwardLayer(\n",
            "          (fc1): Linear(in_features=256, out_features=512, bias=True)\n",
            "          (fc2): Linear(in_features=512, out_features=256, bias=True)\n",
            "        )\n",
            "        (position_wise_feed_forward_layer_norm): LayerNorm((256,), eps=1e-05, elementwise_affine=True)\n",
            "      )\n",
            "    )\n",
            "  )\n",
            "  (decoder): DecoderLayer(\n",
            "    (dropout): Dropout(p=0.1, inplace=False)\n",
            "    (embedding): Embedding(5893, 256)\n",
            "    (position_encoding): PositionalEncodingLayer()\n",
            "    (decoder_blocks): ModuleList(\n",
            "      (0): DecoderBlockLayer(\n",
            "        (dropout): Dropout(p=0.1, inplace=False)\n",
            "        (multi_head_attention_layer_1): MultiHeadAttnLayer(\n",
            "          (fc_query): Linear(in_features=256, out_features=256, bias=True)\n",
            "          (fc_key): Linear(in_features=256, out_features=256, bias=True)\n",
            "          (fc_value): Linear(in_features=256, out_features=256, bias=True)\n",
            "          (fc): Linear(in_features=256, out_features=256, bias=True)\n",
            "          (scaled_dot_product_attention): ScaledDotProductAttnLayer()\n",
            "        )\n",
            "        (multi_head_attention_layer_norm_1): LayerNorm((256,), eps=1e-05, elementwise_affine=True)\n",
            "        (multi_head_attention_layer_2): MultiHeadAttnLayer(\n",
            "          (fc_query): Linear(in_features=256, out_features=256, bias=True)\n",
            "          (fc_key): Linear(in_features=256, out_features=256, bias=True)\n",
            "          (fc_value): Linear(in_features=256, out_features=256, bias=True)\n",
            "          (fc): Linear(in_features=256, out_features=256, bias=True)\n",
            "          (scaled_dot_product_attention): ScaledDotProductAttnLayer()\n",
            "        )\n",
            "        (multi_head_attention_layer_norm_2): LayerNorm((256,), eps=1e-05, elementwise_affine=True)\n",
            "        (position_wise_feed_forward_layer): PositionWiseFeedForwardLayer(\n",
            "          (fc1): Linear(in_features=256, out_features=512, bias=True)\n",
            "          (fc2): Linear(in_features=512, out_features=256, bias=True)\n",
            "        )\n",
            "        (position_wise_feed_forward_layer_norm): LayerNorm((256,), eps=1e-05, elementwise_affine=True)\n",
            "      )\n",
            "    )\n",
            "    (fc): Linear(in_features=256, out_features=5893, bias=True)\n",
            "  )\n",
            ")\n"
          ],
          "name": "stdout"
        }
      ]
    },
    {
      "cell_type": "code",
      "metadata": {
        "id": "pmuuq9WZonqC",
        "outputId": "59769d77-39be-4463-a08b-433fa286fd52",
        "colab": {
          "base_uri": "https://localhost:8080/",
          "height": 612
        }
      },
      "source": [
        "history = trainer.train(n_epochs=N_EPOCHS, grad_clip=GRAD_CLIP)"
      ],
      "execution_count": null,
      "outputs": [
        {
          "output_type": "stream",
          "text": [
            "Epoch: 01 -     loss: 3.174 -     ppl: 23.910 -     acc: 6.767%: 100%|██████████| 454/454 [00:12<00:00, 36.05it/s]\n",
            "Epoch: 01 - val_loss: 3.209 - val_ppl: 24.748 - val_acc: 10.788%: 100%|██████████| 16/16 [00:00<00:00, 100.65it/s]\n",
            "Epoch: 02 -     loss: 1.715 -     ppl: 5.556 -     acc: 8.723%: 100%|██████████| 454/454 [00:12<00:00, 36.14it/s]\n",
            "Epoch: 02 - val_loss: 3.082 - val_ppl: 21.793 - val_acc: 11.507%: 100%|██████████| 16/16 [00:00<00:00, 100.24it/s]\n",
            "Epoch: 03 -     loss: 1.205 -     ppl: 3.335 -     acc: 9.344%: 100%|██████████| 454/454 [00:12<00:00, 35.90it/s]\n",
            "Epoch: 03 - val_loss: 2.936 - val_ppl: 18.844 - val_acc: 11.848%: 100%|██████████| 16/16 [00:00<00:00, 96.37it/s]\n",
            "Epoch: 04 -     loss: 0.930 -     ppl: 2.536 -     acc: 9.732%: 100%|██████████| 454/454 [00:12<00:00, 35.88it/s]\n",
            "Epoch: 04 - val_loss: 3.226 - val_ppl: 25.170 - val_acc: 11.778%: 100%|██████████| 16/16 [00:00<00:00, 98.04it/s] \n",
            "Epoch: 05 -     loss: 0.933 -     ppl: 2.543 -     acc: 8.966%:   1%|          | 3/454 [00:00<00:18, 24.70it/s]"
          ],
          "name": "stderr"
        },
        {
          "output_type": "stream",
          "text": [
            "\n",
            "Last improvement since epoch 3\n",
            "\n",
            "Decaying learning rate.\n",
            "The new learning rate is 0.000900\n",
            "\n"
          ],
          "name": "stdout"
        },
        {
          "output_type": "stream",
          "text": [
            "Epoch: 05 -     loss: 0.764 -     ppl: 2.147 -     acc: 9.903%: 100%|██████████| 454/454 [00:12<00:00, 35.93it/s]\n",
            "Epoch: 05 - val_loss: 3.194 - val_ppl: 24.374 - val_acc: 11.668%: 100%|██████████| 16/16 [00:00<00:00, 100.81it/s]\n",
            "Epoch: 06 -     loss: 0.641 -     ppl: 1.897 -     acc: 9.704%:   1%|          | 3/454 [00:00<00:18, 24.13it/s]"
          ],
          "name": "stderr"
        },
        {
          "output_type": "stream",
          "text": [
            "\n",
            "Last improvement since epoch 3\n",
            "\n",
            "Decaying learning rate.\n",
            "The new learning rate is 0.000810\n",
            "\n"
          ],
          "name": "stdout"
        },
        {
          "output_type": "stream",
          "text": [
            "Epoch: 06 -     loss: 0.657 -     ppl: 1.928 -     acc: 10.015%: 100%|██████████| 454/454 [00:12<00:00, 35.77it/s]\n",
            "Epoch: 06 - val_loss: 3.084 - val_ppl: 21.853 - val_acc: 12.033%: 100%|██████████| 16/16 [00:00<00:00, 94.65it/s]\n",
            "Epoch: 07 -     loss: 0.789 -     ppl: 2.201 -     acc: 8.989%:   1%|          | 3/454 [00:00<00:18, 23.98it/s]"
          ],
          "name": "stderr"
        },
        {
          "output_type": "stream",
          "text": [
            "\n",
            "Last improvement since epoch 3\n",
            "\n",
            "Decaying learning rate.\n",
            "The new learning rate is 0.000729\n",
            "\n"
          ],
          "name": "stdout"
        },
        {
          "output_type": "stream",
          "text": [
            "Epoch: 07 -     loss: 0.588 -     ppl: 1.800 -     acc: 10.095%: 100%|██████████| 454/454 [00:12<00:00, 35.97it/s]\n",
            "Epoch: 07 - val_loss: 3.154 - val_ppl: 23.436 - val_acc: 12.160%: 100%|██████████| 16/16 [00:00<00:00, 103.10it/s]"
          ],
          "name": "stderr"
        },
        {
          "output_type": "stream",
          "text": [
            "\n",
            "Last improvement since epoch 3\n",
            "Training Finished - The model has stopped improving since last 4 epochs\n"
          ],
          "name": "stdout"
        },
        {
          "output_type": "stream",
          "text": [
            "\n"
          ],
          "name": "stderr"
        }
      ]
    },
    {
      "cell_type": "code",
      "metadata": {
        "id": "lJd0dYfCoynW",
        "outputId": "5b72efa3-c2ca-468c-9f33-4e105167bc84",
        "colab": {
          "base_uri": "https://localhost:8080/",
          "height": 350
        }
      },
      "source": [
        "_, axes = plt.subplots(1, 3, figsize=(15, 5))\n",
        "\n",
        "axes[0].plot(history['loss'], label='train')\n",
        "axes[0].plot(history['val_loss'], label='valid')\n",
        "axes[0].set_title('Loss history')\n",
        "axes[0].set_xlabel('Epoch')\n",
        "axes[0].set_ylabel('Loss')\n",
        "axes[0].grid(True)\n",
        "axes[0].legend()\n",
        "\n",
        "axes[1].plot(history['ppl'], label='train')\n",
        "axes[1].plot(history['val_ppl'], label='valid')\n",
        "axes[1].set_title('Perplexity history')\n",
        "axes[1].set_xlabel('Epoch')\n",
        "axes[1].set_ylabel('Perplexity')\n",
        "axes[1].grid(True)\n",
        "axes[1].legend()\n",
        "\n",
        "axes[2].plot(history['acc'], label='train')\n",
        "axes[2].plot(history['val_acc'], label='valid')\n",
        "axes[2].set_title('Top-5 Accuracy & BLEU-4 history')\n",
        "axes[2].set_xlabel('Epoch')\n",
        "axes[2].set_ylabel('Accuracy & BLEU-4 (%)')\n",
        "axes[2].grid(True)\n",
        "axes[2].legend()\n",
        "\n",
        "plt.show()"
      ],
      "execution_count": null,
      "outputs": [
        {
          "output_type": "display_data",
          "data": {
            "image/png": "[encoded data removed]",
            "text/plain": [
              "<Figure size 1080x360 with 3 Axes>"
            ]
          },
          "metadata": {
            "tags": [],
            "needs_background": "light"
          }
        }
      ]
    },
    {
      "cell_type": "code",
      "metadata": {
        "id": "iEE2CT494Wca",
        "outputId": "50d6c0f6-f2f4-4f05-e0ad-46c931859b9c",
        "colab": {
          "base_uri": "https://localhost:8080/",
          "height": 986
        }
      },
      "source": [
        "transformer.load_state_dict(torch.load('transformer.pth'))\n",
        "transformer.to(DEVICE)"
      ],
      "execution_count": null,
      "outputs": [
        {
          "output_type": "execute_result",
          "data": {
            "text/plain": [
              "Transformer(\n",
              "  (encoder): EncoderLayer(\n",
              "    (dropout): Dropout(p=0.1, inplace=False)\n",
              "    (embedding): Embedding(7854, 256)\n",
              "    (position_encoding): PositionalEncodingLayer()\n",
              "    (encoder_blocks): ModuleList(\n",
              "      (0): EncoderBlockLayer(\n",
              "        (dropout): Dropout(p=0.1, inplace=False)\n",
              "        (multi_head_attention_layer): MultiHeadAttnLayer(\n",
              "          (fc_query): Linear(in_features=256, out_features=256, bias=True)\n",
              "          (fc_key): Linear(in_features=256, out_features=256, bias=True)\n",
              "          (fc_value): Linear(in_features=256, out_features=256, bias=True)\n",
              "          (fc): Linear(in_features=256, out_features=256, bias=True)\n",
              "          (scaled_dot_product_attention): ScaledDotProductAttnLayer()\n",
              "        )\n",
              "        (multi_head_attention_layer_norm): LayerNorm((256,), eps=1e-05, elementwise_affine=True)\n",
              "        (position_wise_feed_forward_layer): PositionWiseFeedForwardLayer(\n",
              "          (fc1): Linear(in_features=256, out_features=512, bias=True)\n",
              "          (fc2): Linear(in_features=512, out_features=256, bias=True)\n",
              "        )\n",
              "        (position_wise_feed_forward_layer_norm): LayerNorm((256,), eps=1e-05, elementwise_affine=True)\n",
              "      )\n",
              "    )\n",
              "  )\n",
              "  (decoder): DecoderLayer(\n",
              "    (dropout): Dropout(p=0.1, inplace=False)\n",
              "    (embedding): Embedding(5893, 256)\n",
              "    (position_encoding): PositionalEncodingLayer()\n",
              "    (decoder_blocks): ModuleList(\n",
              "      (0): DecoderBlockLayer(\n",
              "        (dropout): Dropout(p=0.1, inplace=False)\n",
              "        (multi_head_attention_layer_1): MultiHeadAttnLayer(\n",
              "          (fc_query): Linear(in_features=256, out_features=256, bias=True)\n",
              "          (fc_key): Linear(in_features=256, out_features=256, bias=True)\n",
              "          (fc_value): Linear(in_features=256, out_features=256, bias=True)\n",
              "          (fc): Linear(in_features=256, out_features=256, bias=True)\n",
              "          (scaled_dot_product_attention): ScaledDotProductAttnLayer()\n",
              "        )\n",
              "        (multi_head_attention_layer_norm_1): LayerNorm((256,), eps=1e-05, elementwise_affine=True)\n",
              "        (multi_head_attention_layer_2): MultiHeadAttnLayer(\n",
              "          (fc_query): Linear(in_features=256, out_features=256, bias=True)\n",
              "          (fc_key): Linear(in_features=256, out_features=256, bias=True)\n",
              "          (fc_value): Linear(in_features=256, out_features=256, bias=True)\n",
              "          (fc): Linear(in_features=256, out_features=256, bias=True)\n",
              "          (scaled_dot_product_attention): ScaledDotProductAttnLayer()\n",
              "        )\n",
              "        (multi_head_attention_layer_norm_2): LayerNorm((256,), eps=1e-05, elementwise_affine=True)\n",
              "        (position_wise_feed_forward_layer): PositionWiseFeedForwardLayer(\n",
              "          (fc1): Linear(in_features=256, out_features=512, bias=True)\n",
              "          (fc2): Linear(in_features=512, out_features=256, bias=True)\n",
              "        )\n",
              "        (position_wise_feed_forward_layer_norm): LayerNorm((256,), eps=1e-05, elementwise_affine=True)\n",
              "      )\n",
              "    )\n",
              "    (fc): Linear(in_features=256, out_features=5893, bias=True)\n",
              "  )\n",
              ")"
            ]
          },
          "metadata": {
            "tags": []
          },
          "execution_count": 113
        }
      ]
    },
    {
      "cell_type": "code",
      "metadata": {
        "id": "cbaZE_tmou4Z"
      },
      "source": [
        "def translate_sentence(sentence, src_field, trg_field, model, device, max_len = 50):\n",
        "    \n",
        "    model.eval()\n",
        "        \n",
        "    if isinstance(sentence, str):\n",
        "        nlp = spacy.load('de')\n",
        "        tokens = [token.text.lower() for token in nlp(sentence)]\n",
        "    else:\n",
        "        tokens = [token.lower() for token in sentence]\n",
        "\n",
        "    tokens = [src_field.init_token] + tokens + [src_field.eos_token]\n",
        "        \n",
        "    src_indexes = [src_field.vocab.stoi[token] for token in tokens]\n",
        "\n",
        "    src_tensor = torch.LongTensor(src_indexes).unsqueeze(0).to(device)\n",
        "    \n",
        "    src_mask = model.make_src_mask(src_tensor)\n",
        "    \n",
        "    with torch.no_grad():\n",
        "        enc_src = model.encoder(src_tensor, src_mask)\n",
        "\n",
        "    trg_indexes = [trg_field.vocab.stoi[trg_field.init_token]]\n",
        "\n",
        "    for i in range(max_len):\n",
        "\n",
        "        trg_tensor = torch.LongTensor(trg_indexes).unsqueeze(0).to(device)\n",
        "\n",
        "        trg_mask = model.make_dest_mask(trg_tensor)\n",
        "        # print(trg_mask)\n",
        "        # if i == 5: break\n",
        "        \n",
        "        with torch.no_grad():\n",
        "            output, attention = model.decoder(trg_tensor, enc_src, trg_mask, src_mask)\n",
        "        \n",
        "        pred_token = output.argmax(2)[:,-1].item()\n",
        "        \n",
        "        trg_indexes.append(pred_token)\n",
        "\n",
        "        if pred_token == trg_field.vocab.stoi[trg_field.eos_token]:\n",
        "            break\n",
        "    \n",
        "    trg_tokens = [trg_field.vocab.itos[i] for i in trg_indexes]\n",
        "    \n",
        "    return trg_tokens[1:], attention"
      ],
      "execution_count": null,
      "outputs": []
    },
    {
      "cell_type": "code",
      "metadata": {
        "id": "uZX-gppUttu6",
        "outputId": "5c97bd82-c8e0-4005-cbd6-09aa0c29516d",
        "colab": {
          "base_uri": "https://localhost:8080/",
          "height": 68
        }
      },
      "source": [
        "example_idx = 10\n",
        "\n",
        "src = vars(train_data.examples[example_idx])['src']\n",
        "trg = vars(train_data.examples[example_idx])['trg']\n",
        "\n",
        "print(f'src = {src}')\n",
        "print(f'trg = {trg}')\n",
        "\n",
        "translation, attention = translate_sentence(src, DE, EN, transformer, DEVICE)\n",
        "\n",
        "print(f'predicted trg = {translation}')"
      ],
      "execution_count": null,
      "outputs": [
        {
          "output_type": "stream",
          "text": [
            "src = ['eine', 'ballettklasse', 'mit', 'fünf', 'mädchen', ',', 'die', 'nacheinander', 'springen', '.']\n",
            "trg = ['a', 'ballet', 'class', 'of', 'five', 'girls', 'jumping', 'in', 'sequence', '.']\n",
            "predicted trg = ['church', 'church', 'their', 'their', 'their', 'their', 'hands', 'their', 'hands', '.', '<eos>']\n"
          ],
          "name": "stdout"
        }
      ]
    },
    {
      "cell_type": "code",
      "metadata": {
        "id": "UViUIFEKtwT2",
        "outputId": "2cb0ad81-130b-4a05-dbe9-e8216a820942",
        "colab": {
          "base_uri": "https://localhost:8080/",
          "height": 34
        }
      },
      "source": [
        "3"
      ],
      "execution_count": null,
      "outputs": [
        {
          "output_type": "execute_result",
          "data": {
            "text/plain": [
              "3"
            ]
          },
          "metadata": {
            "tags": []
          },
          "execution_count": 27
        }
      ]
    },
    {
      "cell_type": "code",
      "metadata": {
        "id": "DZQC2FkM1bN8"
      },
      "source": [
        ""
      ],
      "execution_count": null,
      "outputs": []
    }
  ]
}