{
  "nbformat": 4,
  "nbformat_minor": 0,
  "metadata": {
    "colab": {
      "name": "2 -  SeqToSeq Model with Badhanau Attention.ipynb",
      "provenance": [],
      "collapsed_sections": [],
      "authorship_tag": "ABX9TyMXACeXO5tB4TOG1JOAnzrE",
      "include_colab_link": true
    },
    "kernelspec": {
      "name": "python3",
      "display_name": "Python 3"
    },
    "accelerator": "GPU"
  },
  "cells": [
    {
      "cell_type": "markdown",
      "metadata": {
        "id": "view-in-github",
        "colab_type": "text"
      },
      "source": [
        "<a href=\"https://colab.research.google.com/github/dksifoua/Neural-Machine-Translation/blob/master/2%20-%20SeqToSeq%20Model%20with%20Badhanau%20Attention.ipynb\" target=\"_parent\"><img src=\"https://colab.research.google.com/assets/colab-badge.svg\" alt=\"Open In Colab\"/></a>"
      ]
    },
    {
      "cell_type": "code",
      "metadata": {
        "id": "A3Bbm9MSP6Yk",
        "outputId": "bcaa609e-3f7c-43aa-a204-9f5d0a7c64ce",
        "colab": {
          "base_uri": "https://localhost:8080/",
          "height": 357
        }
      },
      "source": [
        "!nvidia-smi"
      ],
      "execution_count": 140,
      "outputs": [
        {
          "output_type": "stream",
          "text": [
            "Mon Sep 28 18:51:01 2020       \n",
            "+-----------------------------------------------------------------------------+\n",
            "| NVIDIA-SMI 450.66       Driver Version: 418.67       CUDA Version: 10.1     |\n",
            "|-------------------------------+----------------------+----------------------+\n",
            "| GPU  Name        Persistence-M| Bus-Id        Disp.A | Volatile Uncorr. ECC |\n",
            "| Fan  Temp  Perf  Pwr:Usage/Cap|         Memory-Usage | GPU-Util  Compute M. |\n",
            "|                               |                      |               MIG M. |\n",
            "|===============================+======================+======================|\n",
            "|   0  Tesla P100-PCIE...  Off  | 00000000:00:04.0 Off |                    0 |\n",
            "| N/A   37C    P0    32W / 250W |   2647MiB / 16280MiB |      0%      Default |\n",
            "|                               |                      |                 ERR! |\n",
            "+-------------------------------+----------------------+----------------------+\n",
            "                                                                               \n",
            "+-----------------------------------------------------------------------------+\n",
            "| Processes:                                                                  |\n",
            "|  GPU   GI   CI        PID   Type   Process name                  GPU Memory |\n",
            "|        ID   ID                                                   Usage      |\n",
            "|=============================================================================|\n",
            "|  No running processes found                                                 |\n",
            "+-----------------------------------------------------------------------------+\n"
          ],
          "name": "stdout"
        }
      ]
    },
    {
      "cell_type": "markdown",
      "metadata": {
        "id": "CuNqn2TkS1T5"
      },
      "source": [
        "## Load dependencies"
      ]
    },
    {
      "cell_type": "code",
      "metadata": {
        "id": "dfQk37UUQi2T"
      },
      "source": [
        "!pip install tqdm --upgrade >> /dev/null 2>&1\n",
        "!pip install torchtext --upgrade >> /dev/null 2>&1\n",
        "!pip install spacy --upgrade >> /dev/null 2>&1\n",
        "!python -m spacy download de >> /dev/null 2>&1\n",
        "!python -m spacy download en >> /dev/null 2>&1"
      ],
      "execution_count": 141,
      "outputs": []
    },
    {
      "cell_type": "code",
      "metadata": {
        "id": "zku7rzrTSE1j"
      },
      "source": [
        "import tqdm\n",
        "import spacy\n",
        "import warnings\n",
        "import numpy as np\n",
        "import pandas as pd\n",
        "import matplotlib.pyplot as plt\n",
        "%matplotlib inline\n",
        "\n",
        "from IPython.core.display import display, HTML\n",
        "\n",
        "import torch\n",
        "import torch.nn as nn\n",
        "import torch.nn.functional as F\n",
        "import torch.optim as optim\n",
        "\n",
        "from torchtext.data import Dataset, Example, Field\n",
        "from torchtext.data.iterator import BucketIterator\n",
        "from torchtext.data.metrics import bleu_score\n",
        "from torchtext.datasets import Multi30k"
      ],
      "execution_count": 142,
      "outputs": []
    },
    {
      "cell_type": "code",
      "metadata": {
        "id": "-rfDBpyrS7Pq",
        "outputId": "06d3972b-a4df-45a0-fce9-c36169984e7b",
        "colab": {
          "base_uri": "https://localhost:8080/",
          "height": 34
        }
      },
      "source": [
        "warnings.simplefilter(action='ignore', category=UserWarning)\n",
        "warnings.simplefilter(action='ignore', category=FutureWarning)\n",
        "warnings.simplefilter(action='ignore', category=DeprecationWarning)\n",
        "\n",
        "SEED = 546\n",
        "np.random.seed(SEED)\n",
        "torch.manual_seed(SEED)\n",
        "torch.cuda.manual_seed(SEED)\n",
        "torch.backends.cudnn.deterministic = True\n",
        "\n",
        "DEVICE = torch.device('cuda' if torch.cuda.is_available() else 'cpu')\n",
        "print(f'Device: {DEVICE}')"
      ],
      "execution_count": 143,
      "outputs": [
        {
          "output_type": "stream",
          "text": [
            "Device: cuda\n"
          ],
          "name": "stdout"
        }
      ]
    },
    {
      "cell_type": "markdown",
      "metadata": {
        "id": "kjwVYEBoTEl7"
      },
      "source": [
        "## Load data"
      ]
    },
    {
      "cell_type": "code",
      "metadata": {
        "id": "P3kizhFZTAdP",
        "outputId": "7a4d07ad-364a-4a7a-c09d-09233c623e84",
        "colab": {
          "base_uri": "https://localhost:8080/",
          "height": 139
        }
      },
      "source": [
        "%%time\n",
        "DE = Field(lower=True, tokenize='spacy', tokenizer_language='de', include_lengths=True)\n",
        "EN = Field(init_token='<sos>', eos_token='<eos>', lower=True, tokenize='spacy', tokenizer_language='en', include_lengths=True)\n",
        "train_data, valid_data, test_data = Multi30k.splits(exts=('.de', '.en'),  fields=(DE, EN))\n",
        "print(f'train set size: {len(train_data.examples):,}')\n",
        "print(f'valid set size: {len(valid_data.examples):,}')\n",
        "print(f'test set size: {len(test_data.examples):,}')\n",
        "print(vars(train_data.examples[0]))"
      ],
      "execution_count": 144,
      "outputs": [
        {
          "output_type": "stream",
          "text": [
            "train set size: 29,000\n",
            "valid set size: 1,014\n",
            "test set size: 1,000\n",
            "{'src': ['zwei', 'junge', 'weiße', 'männer', 'sind', 'im', 'freien', 'in', 'der', 'nähe', 'vieler', 'büsche', '.'], 'trg': ['two', 'young', ',', 'white', 'males', 'are', 'outside', 'near', 'many', 'bushes', '.']}\n",
            "CPU times: user 5.73 s, sys: 150 ms, total: 5.88 s\n",
            "Wall time: 5.89 s\n"
          ],
          "name": "stdout"
        }
      ]
    },
    {
      "cell_type": "markdown",
      "metadata": {
        "id": "Qfjuxu1QTtoP"
      },
      "source": [
        "## Build vocabularies"
      ]
    },
    {
      "cell_type": "code",
      "metadata": {
        "id": "PvuBC8xKTZJf",
        "outputId": "952e2350-1b4c-4f78-d784-f1abdb11403a",
        "colab": {
          "base_uri": "https://localhost:8080/",
          "height": 85
        }
      },
      "source": [
        "%%time\n",
        "MIN_COUNT = 2\n",
        "DE.build_vocab(train_data, min_freq=MIN_COUNT, specials=['<unk>', '<pad>'])\n",
        "EN.build_vocab(train_data, min_freq=MIN_COUNT, specials=['<sos>', '<eos>', '<unk>', '<pad>'])\n",
        "print(f'Length of DE vocabulary: {len(DE.vocab):,}')\n",
        "print(f'Length of EN vocabulary: {len(EN.vocab):,}')"
      ],
      "execution_count": 145,
      "outputs": [
        {
          "output_type": "stream",
          "text": [
            "Length of DE vocabulary: 7,852\n",
            "Length of EN vocabulary: 5,893\n",
            "CPU times: user 259 ms, sys: 2.05 ms, total: 261 ms\n",
            "Wall time: 261 ms\n"
          ],
          "name": "stdout"
        }
      ]
    },
    {
      "cell_type": "markdown",
      "metadata": {
        "id": "C1-SpXqDT72P"
      },
      "source": [
        "## Modeling\n",
        "\n",
        "**Encoder layer**"
      ]
    },
    {
      "cell_type": "code",
      "metadata": {
        "id": "QOZS6pPqT7Ba"
      },
      "source": [
        "class EncoderLayer(nn.Module):\n",
        "\n",
        "    def __init__(self, vocab_size, embedding_size, hidden_size, n_layers, embedding_dropout, recurrent_dropout):\n",
        "        super(EncoderLayer, self).__init__()\n",
        "        self.vocab_size = vocab_size\n",
        "        self.embedding_size = embedding_size\n",
        "        self.hidden_size = hidden_size\n",
        "        self.n_layers = n_layers\n",
        "        self.embedding_dropout = embedding_dropout\n",
        "        self.recurrent_dropout = recurrent_dropout if n_layers > 1 else 0\n",
        "        self.embedding = nn.Embedding(vocab_size, embedding_size)\n",
        "        self.gru = nn.GRU(embedding_size, hidden_size, num_layers=n_layers, dropout=self.recurrent_dropout, bidirectional=True)\n",
        "\n",
        "    def forward(self, input_sequences, sequence_lengths):\n",
        "        \"\"\"\n",
        "        :param Tensor[seq_len, batch_size] input_sequences\n",
        "        :param Tensor[batch_size,] sequence_lengths\n",
        "        :return Tensor[seq_len, batch_size, hidden_size * 2] outputs\n",
        "        :return Tensor[n_layers * 2, batch_size, hidden_size] h_state\n",
        "        \"\"\"\n",
        "        embedded = self.embedding(input_sequences)\n",
        "        embedded = F.dropout(embedded, p=self.embedding_dropout)\n",
        "        packed = nn.utils.rnn.pack_padded_sequence(embedded, sequence_lengths)\n",
        "        outputs, h_state = self.gru(packed)\n",
        "        outputs, _ = nn.utils.rnn.pad_packed_sequence(outputs)\n",
        "        return outputs, h_state"
      ],
      "execution_count": 147,
      "outputs": []
    },
    {
      "cell_type": "markdown",
      "metadata": {
        "id": "_SlIGbht2nDZ"
      },
      "source": [
        "**Attention layer**"
      ]
    },
    {
      "cell_type": "code",
      "metadata": {
        "id": "3aZItFus2mXf"
      },
      "source": [
        "class BadhanauAttnLayer(nn.Module):\n",
        "\n",
        "    def __init__(self, hidden_size, n_layers):\n",
        "        super(BadhanauAttnLayer, self).__init__()\n",
        "        self.hidden_size = hidden_size\n",
        "        self.n_layers = n_layers\n",
        "        self.fc = nn.Linear(n_layers, 1)\n",
        "        self.W1 = nn.Linear(hidden_size * 2, hidden_size)\n",
        "        self.W2 = nn.Linear(hidden_size, hidden_size)\n",
        "        self.V = nn.Linear(hidden_size, 1)\n",
        "\n",
        "    def combine_hidden_state(self, h_state):\n",
        "        if self.n_layers > 1:\n",
        "            h_state = h_state.permute(1, 2, 0) # [batch_size, hidden_size, n_layers]\n",
        "            h_state = self.fc(h_state) # [batch_size, hidden_size, 1]\n",
        "            h_state = h_state.permute(2, 0, 1) # [1, batch_size, hidden_size]\n",
        "        return h_state\n",
        "\n",
        "    def forward(self, h_state, enc_outputs, mask):\n",
        "        \"\"\"\n",
        "        :params Tensor[n_layers, batch_size, hidden_size] h_state\n",
        "        :params Tensor[seq_len, batch_size, hidden_size * 2] enc_outputs\n",
        "        :params Tensor[seq_len, batch_size] mask\n",
        "        :return Tensor[seq_len, batch_size, 1]\n",
        "        \"\"\"\n",
        "        h_state = h_state[-1:, :, :] # [1, batch_size, hidden_size]\n",
        "        scores = self.V(torch.tanh(self.W1(enc_outputs) + self.W2(h_state))) # [seq_len, batch_size, 1] alignment scores\n",
        "        mask = mask.unsqueeze(2) # [seq_len, batch_size, 1]\n",
        "        # scores = scores.masked_fill(mask == 0, 1e-18) # Apply mask to ignore <pad> tokens\n",
        "        attn_weights = F.softmax(scores, dim=1) # [seq_len, batch_size, 1] attention weights\n",
        "        return attn_weights"
      ],
      "execution_count": 191,
      "outputs": []
    },
    {
      "cell_type": "markdown",
      "metadata": {
        "id": "ALcFgkFzUMX3"
      },
      "source": [
        "**Decoder layer**"
      ]
    },
    {
      "cell_type": "code",
      "metadata": {
        "id": "-MMyNs5aUOcM"
      },
      "source": [
        "class DecoderLayer(nn.Module):\n",
        "\n",
        "    def __init__(self, vocab_size, embedding_size, hidden_size, n_layers, embedding_dropout, recurrent_dropout, attention_layer):\n",
        "        super(DecoderLayer, self).__init__()\n",
        "        self.vocab_size = vocab_size\n",
        "        self.embedding_size = embedding_size\n",
        "        self.hidden_size = hidden_size\n",
        "        self.n_layers = n_layers\n",
        "        self.embedding_dropout = embedding_dropout\n",
        "        self.recurrent_dropout = recurrent_dropout if n_layers > 1 else 0\n",
        "        self.attention_layer = attention_layer\n",
        "        self.embedding = nn.Embedding(vocab_size, embedding_size)\n",
        "        self.gru = nn.GRU(embedding_size + hidden_size * 2, hidden_size, num_layers=n_layers, dropout=self.recurrent_dropout)\n",
        "        self.fc = nn.Linear(hidden_size, vocab_size)\n",
        "\n",
        "    def forward(self, input_word_index, h_state_prev, enc_outputs, mask):\n",
        "        \"\"\"\n",
        "        :param Tensor[batch_size,] input_word_index\n",
        "        :param Tensor[n_layers, batch_size, hidden_size] h_state_prev\n",
        "        :param Tensor[seq_len, batch_size, hidden_size * 2] enc_outputs\n",
        "        :param Tensor[seq_len, batch_size] mask\n",
        "        :return Tensor[batch_size, vocab_size] logit\n",
        "        :return Tensor[n_layers, batch_size, hidden_size] h_state\n",
        "        :return Tensor[batch_size, seq_len] attn_weights\n",
        "        \"\"\"\n",
        "        embedded = self.embedding(input_word_index.unsqueeze(0))\n",
        "        embedded = F.dropout(embedded, p=self.embedding_dropout)\n",
        "        attn_weights = self.attention_layer(h_state=h_state_prev, enc_outputs=enc_outputs, mask=mask) # [seq_len, batch_size, 1]\n",
        "        context_vector = torch.bmm(\n",
        "            enc_outputs.permute(1, 2, 0), # [batch_size, hidden_size * 2, seq_len]\n",
        "            attn_weights.permute(1, 0, 2), # [batch_size, seq_len, 1]\n",
        "        ).permute(2, 0, 1) # [1, batch_size, hidden_size * 2]\n",
        "        new_input = torch.cat((embedded, context_vector), dim=2) # [1, batch_size, hidden_size * 2 + emdedding_size] New input\n",
        "        outputs, h_state = self.gru(new_input, h_state_prev)\n",
        "        logit = self.fc(outputs.squeeze(0))\n",
        "        return logit, h_state, attn_weights.squeeze(2)"
      ],
      "execution_count": 192,
      "outputs": []
    },
    {
      "cell_type": "markdown",
      "metadata": {
        "id": "eaB7LsPWUO94"
      },
      "source": [
        "**Sequence-to-sequence model**"
      ]
    },
    {
      "cell_type": "code",
      "metadata": {
        "id": "Ttc82wRxUTuj"
      },
      "source": [
        "class SeqToSeqNet(nn.Module):\n",
        "\n",
        "    def __init__(self, encoder, decoder, device, pad_index):\n",
        "        assert encoder.n_layers == decoder.n_layers, 'Encoder and Decoder must have the same number of reccurent layers'\n",
        "        assert encoder.hidden_size == decoder.hidden_size, 'Encoder and Decoder must have the same number of reccurrent hidden units'\n",
        "        super(SeqToSeqNet, self).__init__()\n",
        "        self.encoder = encoder\n",
        "        self.decoder = decoder\n",
        "        self.device = device\n",
        "        self.pad_index = pad_index\n",
        "        self.init_h0 = nn.Linear(encoder.n_layers * 2, decoder.n_layers)\n",
        "    \n",
        "    def create_mask(self, src_sequences):\n",
        "        return src_sequences != self.pad_index\n",
        "\n",
        "    def encode(self, input_sequences, sequence_lengths):\n",
        "        enc_outputs, h_state = self.encoder(input_sequences, sequence_lengths)\n",
        "        h_state = torch.tanh(self.init_h0(h_state.permute(1, 2, 0))) # [batch_size, hidden_size, n_layers]\n",
        "        h_state = h_state.permute(2, 0, 1) # [n_layers, batch_size, hidden_size]\n",
        "        mask = self.create_mask(input_sequences) # [seq_len, batch_size]\n",
        "        return enc_outputs, h_state, mask\n",
        "\n",
        "    def sort_batches(self, dest_sequences, dest_lengths, h_state, enc_outputs, mask):\n",
        "        sorted_dest_lengths, sorted_indices = torch.sort(dest_lengths, dim=0, descending=True)\n",
        "        sorted_dest_sequences = dest_sequences[:, sorted_indices]\n",
        "        h_state = h_state[:, sorted_indices, :]\n",
        "        enc_outputs = enc_outputs[:, sorted_indices, :]\n",
        "        mask = mask[:, sorted_indices]\n",
        "        # We won't decode at the <eos> position, since we've finished generating as soon as we generate <eos>.\n",
        "        # So, decoding lengths are actual lengths - 1\n",
        "        sorted_decode_lengths = (sorted_dest_lengths - 1).tolist() \n",
        "        return sorted_dest_sequences, sorted_decode_lengths, h_state, enc_outputs, mask\n",
        "\n",
        "    def decode(self, h_state, enc_outputs, mask, sorted_dest_sequences, sorted_decode_lengths, tf_ratio):\n",
        "        batch_size, last = sorted_dest_sequences.size(1), None\n",
        "        logits = torch.zeros(max(sorted_decode_lengths), batch_size, self.decoder.vocab_size).to(self.device)\n",
        "        for t in range(max(sorted_decode_lengths)):\n",
        "            batch_size_t = sum([l > t for l in sorted_decode_lengths])\n",
        "            if last is not None:\n",
        "                if np.random.rand() < tf_ratio:\n",
        "                    input_word_index = last[:batch_size_t] # in_ [batch_size,]\n",
        "                else:\n",
        "                    input_word_index = sorted_dest_sequences[t, :batch_size_t] # in_ [batch_size,]\n",
        "            else:\n",
        "                input_word_index = sorted_dest_sequences[t, :batch_size_t] # in_ [batch_size,]\n",
        "            logit, h_state, _ = self.decoder(input_word_index=input_word_index,\n",
        "                                             h_state_prev=h_state[:, :batch_size_t, :].contiguous(),\n",
        "                                             enc_outputs=enc_outputs[:, :batch_size_t, :],\n",
        "                                             mask=mask[:, :batch_size_t])\n",
        "            # logit: [batch_size, vocab_size] - h_state: [n_layers, batch_size, hidden_size]\n",
        "            logits[t, :batch_size_t, :] = logit\n",
        "            last = torch.argmax(F.softmax(logit, dim=1), dim=1) # [batch_size,]\n",
        "        return logits\n",
        "    \n",
        "    def forward(self, src_sequences, src_lengths, dest_sequences, dest_lengths, tf_ratio):\n",
        "        \"\"\"\n",
        "        :param Tensor[seq_len, batch_size] src_sequences\n",
        "        :param Tensor[batch_size,] src_lengths\n",
        "        :param Tensor[seq_len, batch_size] dest_sequences\n",
        "        :param Tensor[batch_size,] dest_lengths\n",
        "        :param float tf_ratio\n",
        "        :return Tensor[max(decode_lengths), batch_size, vocab_size] logits\n",
        "        :return Tensor[seq_len, batch_size] sorted_dest_sequences\n",
        "        :return list[max(decode_lengths) - 1] sorted_decode_lengths\n",
        "        \"\"\"\n",
        "        enc_outputs, h_state, mask = self.encode(src_sequences, src_lengths)\n",
        "        sorted_dest_sequences, sorted_decode_lengths, h_state, enc_outputs, mask = self.sort_batches(dest_sequences, dest_lengths, h_state, enc_outputs, mask)\n",
        "        logits = self.decode(h_state, enc_outputs, mask, sorted_dest_sequences, sorted_decode_lengths, tf_ratio)\n",
        "        return logits, sorted_dest_sequences, sorted_decode_lengths"
      ],
      "execution_count": 193,
      "outputs": []
    },
    {
      "cell_type": "markdown",
      "metadata": {
        "id": "CzVIUeL2cAsz"
      },
      "source": [
        "**Training routines**"
      ]
    },
    {
      "cell_type": "code",
      "metadata": {
        "id": "5VPQdzdrddUu"
      },
      "source": [
        "class AverageMeter:\n",
        "    \n",
        "    def __init__(self):\n",
        "        self.value = 0.\n",
        "        self.sum = 0.\n",
        "        self.count = 0\n",
        "        self.average = 0.\n",
        "        \n",
        "    def reset(self):\n",
        "        self.value = 0.\n",
        "        self.sum = 0.\n",
        "        self.count = 0\n",
        "        self.average = 0.\n",
        "        \n",
        "    def update(self, value, n=1):\n",
        "        self.value = value\n",
        "        self.sum += value * n\n",
        "        self.count += n\n",
        "        self.average = self.sum / self.count"
      ],
      "execution_count": 194,
      "outputs": []
    },
    {
      "cell_type": "code",
      "metadata": {
        "id": "a4aTFulSfGTf"
      },
      "source": [
        "def accuracy(outputs, target_sequences, k=5):\n",
        "    batch_size = outputs.size(1)\n",
        "    _, indices = outputs.topk(k, dim=1, largest=True, sorted=True)\n",
        "    correct = indices.eq(target_sequences.view(-1, 1).expand_as(indices))\n",
        "    correct_total = correct.view(-1).float().sum()  # 0D tensor\n",
        "    return correct_total.item() * (100.0 / batch_size)"
      ],
      "execution_count": 195,
      "outputs": []
    },
    {
      "cell_type": "code",
      "metadata": {
        "id": "hCsp-2Fvb_li"
      },
      "source": [
        "class Trainer:\n",
        "\n",
        "    def __init__(self, model, optimizer, criterion, train_iterator, valid_iterator):\n",
        "        self.model = model\n",
        "        self.optimizer = optimizer\n",
        "        self.criterion = criterion\n",
        "        self.train_iterator = train_iterator\n",
        "        self.valid_iterator = valid_iterator\n",
        "\n",
        "    def clip_gradients(self, grad_clip):\n",
        "        if grad_clip is not None:\n",
        "            for group in self.optimizer.param_groups:\n",
        "                for param in group['params']:\n",
        "                    if param.grad is not None:\n",
        "                        param.grad.data.clamp_(-grad_clip, grad_clip)\n",
        "\n",
        "    def adjust_lr(self, shrink_factor=0.9, verbose=True):\n",
        "        if verbose:\n",
        "            print(\"\\nDecaying learning rate.\")\n",
        "        for param_group in self.optimizer.param_groups:\n",
        "            param_group['lr'] = param_group['lr'] * shrink_factor\n",
        "        if verbose:\n",
        "            print(\"The new learning rate is %f\\n\" % (self.optimizer.param_groups[0]['lr'],))\n",
        "    \n",
        "    def adjust_tf(self, tf_ratio, shrink_factor=0.9, verbose=False):\n",
        "        tf_ratio = tf_ratio * shrink_factor\n",
        "        if verbose:\n",
        "            print(\"The teacher forcing rate is %f\\n\" % (tf_ratio,))\n",
        "        return tf_ratio\n",
        "    \n",
        "    def train_step(self, epoch, grad_clip, tf_ratio):\n",
        "        loss_tracker, acc_tracker = AverageMeter(), AverageMeter()\n",
        "        self.model.train()\n",
        "        progress_bar = tqdm.tqdm(enumerate(self.train_iterator), total=len(self.train_iterator))\n",
        "        for i, data in progress_bar:\n",
        "            logits, sorted_dest_sequences, sorted_decode_lengths = self.model(*data.src, *data.trg, tf_ratio=tf_ratio)\n",
        "            sorted_dest_sequences = sorted_dest_sequences[1:, :] # Since we decoded starting with <sos>, the targets are all words after <sos>, up to <eos>\n",
        "            logits = nn.utils.rnn.pack_padded_sequence(logits, sorted_decode_lengths).data # Remove paddings\n",
        "            sorted_dest_sequences = nn.utils.rnn.pack_padded_sequence(sorted_dest_sequences, sorted_decode_lengths).data # Remove paddings\n",
        "            loss = criterion(logits, sorted_dest_sequences)\n",
        "            optimizer.zero_grad()\n",
        "            loss.backward()\n",
        "            self.clip_gradients(grad_clip)\n",
        "            optimizer.step()\n",
        "            loss_tracker.update(loss.item(), sum(sorted_decode_lengths))\n",
        "            acc_tracker.update(accuracy(logits, sorted_dest_sequences), sum(sorted_decode_lengths))\n",
        "            loss_, ppl_, acc_ = loss_tracker.average, np.exp(loss_tracker.average), acc_tracker.average\n",
        "            progress_bar.set_description(f'Epoch: {epoch+1:02d} -     loss: {loss_:.3f} -     ppl: {ppl_:.3f} -     acc: {acc_:.3f}%')\n",
        "        return loss_tracker.average, np.exp(loss_tracker.average), acc_tracker.average\n",
        "    \n",
        "    def validate(self, epoch):\n",
        "        loss_tracker, acc_tracker = AverageMeter(), AverageMeter()\n",
        "        self.model.eval()\n",
        "        with torch.no_grad():\n",
        "            progress_bar = tqdm.tqdm(enumerate(self.valid_iterator), total=len(self.valid_iterator))\n",
        "            for i, data in progress_bar:\n",
        "                logits, sorted_dest_sequences, sorted_decode_lengths = self.model(*data.src, *data.trg, tf_ratio=0.)\n",
        "                sorted_dest_sequences = sorted_dest_sequences[1:, :]\n",
        "                logits = nn.utils.rnn.pack_padded_sequence(logits, sorted_decode_lengths).data\n",
        "                sorted_dest_sequences = nn.utils.rnn.pack_padded_sequence(sorted_dest_sequences, sorted_decode_lengths).data\n",
        "                loss = criterion(logits, sorted_dest_sequences)\n",
        "                loss_tracker.update(loss.item(), sum(sorted_decode_lengths))\n",
        "                acc_tracker.update(accuracy(logits, sorted_dest_sequences), sum(sorted_decode_lengths))\n",
        "                loss_, ppl_, acc_ = loss_tracker.average, np.exp(loss_tracker.average), acc_tracker.average\n",
        "                progress_bar.set_description(f'Epoch: {epoch+1:02d} - val_loss: {loss_:.3f} - val_ppl: {ppl_:.3f} - val_acc: {acc_:.3f}%')\n",
        "        return loss_tracker.average, np.exp(loss_tracker.average), acc_tracker.average\n",
        "    \n",
        "    def train(self, n_epochs, grad_clip, tf_ratio):\n",
        "        history = {'acc': [], 'loss': [], 'ppl': [], 'val_ppl': [], 'val_acc': [], 'val_loss': []}\n",
        "        best_loss, last_improv = np.inf, 0\n",
        "        for epoch in range(n_epochs):\n",
        "            if last_improv == 4:\n",
        "                print('Training Finished - The model has stopped improving since last 4 epochs')\n",
        "                break\n",
        "            if last_improv > 0:\n",
        "                self.adjust_lr()\n",
        "            loss, ppl, acc = self.train_step(epoch, grad_clip, tf_ratio)\n",
        "            val_loss, val_ppl, val_acc = self.validate(epoch)\n",
        "            tf_ratio = self.adjust_tf(tf_ratio)\n",
        "            \n",
        "            if best_loss > val_loss:\n",
        "                best_loss, last_improv = val_loss, 0\n",
        "                torch.save(self.model.state_dict(), 'seq2seq-badhanau-attn.pth')\n",
        "            else:\n",
        "                last_improv += 1\n",
        "                print(f'\\nLast improvement since epoch {epoch - last_improv + 1}')\n",
        "            \n",
        "            history['acc'].append(acc)\n",
        "            history['ppl'].append(ppl)\n",
        "            history['loss'].append(loss)\n",
        "            history['val_acc'].append(val_acc)\n",
        "            history['val_ppl'].append(val_ppl)\n",
        "            history['val_loss'].append(val_loss)\n",
        "        return history"
      ],
      "execution_count": 196,
      "outputs": []
    },
    {
      "cell_type": "markdown",
      "metadata": {
        "id": "adURzNzWkthV"
      },
      "source": [
        "**Train the model**"
      ]
    },
    {
      "cell_type": "code",
      "metadata": {
        "id": "B9ghlNzJkrCH"
      },
      "source": [
        "N_LAYERS = 2\n",
        "HIDDEN_SIZE = 256\n",
        "EMBED_SIZE = 300\n",
        "EMBED_DROPOUT = 0.25\n",
        "REC_DROPOUT = 0.25\n",
        "N_EPOCHS = 10\n",
        "BATCH_SIZE = 64\n",
        "LR = 1e-3\n",
        "GRAD_CLIP = 1.0\n",
        "TF_RATIO = 1.0"
      ],
      "execution_count": 197,
      "outputs": []
    },
    {
      "cell_type": "code",
      "metadata": {
        "id": "3N7Sttcdk39H",
        "outputId": "eb03b15e-91bd-4248-8ce5-ebd74d649afb",
        "colab": {
          "base_uri": "https://localhost:8080/",
          "height": 340
        }
      },
      "source": [
        "encoder = EncoderLayer(vocab_size=len(DE.vocab), embedding_size=EMBED_SIZE, hidden_size=HIDDEN_SIZE, n_layers=N_LAYERS,\n",
        "                       embedding_dropout=EMBED_DROPOUT, recurrent_dropout=REC_DROPOUT)\n",
        "attention = BadhanauAttnLayer(hidden_size=HIDDEN_SIZE, n_layers=N_LAYERS)\n",
        "decoder = DecoderLayer(vocab_size=len(EN.vocab), embedding_size=EMBED_SIZE, hidden_size=HIDDEN_SIZE, n_layers=N_LAYERS,\n",
        "                       embedding_dropout=EMBED_DROPOUT, recurrent_dropout=REC_DROPOUT, attention_layer=attention)\n",
        "seq2seq = SeqToSeqNet(encoder=encoder, decoder=decoder, device=DEVICE, pad_index=EN.vocab.stoi[EN.pad_token]).to(DEVICE)\n",
        "optimizer = optim.RMSprop(params=seq2seq.parameters(), lr=LR)\n",
        "criterion = nn.CrossEntropyLoss()\n",
        "print(f'Number of parameters of the model: {sum(p.numel() for p in seq2seq.parameters() if p.requires_grad):,}')\n",
        "print(seq2seq)\n",
        "train_iterator, valid_iterator, test_iterator =  BucketIterator.splits((train_data, valid_data, test_data),\n",
        "                                                                       batch_size=BATCH_SIZE,\n",
        "                                                                       sort_key=lambda x: len(x.src),\n",
        "                                                                       sort_within_batch=True, device=DEVICE)\n",
        "trainer = Trainer(model=seq2seq, optimizer=optimizer, criterion=criterion, train_iterator=train_iterator, valid_iterator=valid_iterator)"
      ],
      "execution_count": 198,
      "outputs": [
        {
          "output_type": "stream",
          "text": [
            "Number of parameters of the model: 9,091,711\n",
            "SeqToSeqNet(\n",
            "  (encoder): EncoderLayer(\n",
            "    (embedding): Embedding(7852, 300)\n",
            "    (gru): GRU(300, 256, num_layers=2, dropout=0.25, bidirectional=True)\n",
            "  )\n",
            "  (decoder): DecoderLayer(\n",
            "    (attention_layer): BadhanauAttnLayer(\n",
            "      (fc): Linear(in_features=2, out_features=1, bias=True)\n",
            "      (W1): Linear(in_features=512, out_features=256, bias=True)\n",
            "      (W2): Linear(in_features=256, out_features=256, bias=True)\n",
            "      (V): Linear(in_features=256, out_features=1, bias=True)\n",
            "    )\n",
            "    (embedding): Embedding(5893, 300)\n",
            "    (gru): GRU(812, 256, num_layers=2, dropout=0.25)\n",
            "    (fc): Linear(in_features=256, out_features=5893, bias=True)\n",
            "  )\n",
            "  (init_h0): Linear(in_features=4, out_features=2, bias=True)\n",
            ")\n"
          ],
          "name": "stdout"
        }
      ]
    },
    {
      "cell_type": "code",
      "metadata": {
        "id": "isE439WfmDJX",
        "outputId": "978a460f-f423-4fa5-b04f-636b94533ec1",
        "colab": {
          "base_uri": "https://localhost:8080/",
          "height": 357
        }
      },
      "source": [
        "history = trainer.train(n_epochs=N_EPOCHS, grad_clip=GRAD_CLIP, tf_ratio=TF_RATIO)"
      ],
      "execution_count": 199,
      "outputs": [
        {
          "output_type": "stream",
          "text": [
            "Epoch: 01 -     loss: 4.534 -     ppl: 93.120 -     acc: 7.359%: 100%|██████████| 454/454 [00:33<00:00, 13.45it/s]\n",
            "Epoch: 01 - val_loss: 3.996 - val_ppl: 54.390 - val_acc: 8.291%: 100%|██████████| 16/16 [00:00<00:00, 28.64it/s]\n",
            "Epoch: 02 -     loss: 3.912 -     ppl: 49.994 -     acc: 8.558%: 100%|██████████| 454/454 [00:33<00:00, 13.39it/s]\n",
            "Epoch: 02 - val_loss: 3.598 - val_ppl: 36.543 - val_acc: 9.121%: 100%|██████████| 16/16 [00:00<00:00, 27.51it/s]\n",
            "Epoch: 03 -     loss: 3.601 -     ppl: 36.636 -     acc: 9.140%: 100%|██████████| 454/454 [00:33<00:00, 13.40it/s]\n",
            "Epoch: 03 - val_loss: 3.259 - val_ppl: 26.024 - val_acc: 9.801%: 100%|██████████| 16/16 [00:00<00:00, 27.97it/s]\n",
            "Epoch: 04 -     loss: 3.339 -     ppl: 28.200 -     acc: 9.639%: 100%|██████████| 454/454 [00:33<00:00, 13.44it/s]\n",
            "Epoch: 04 - val_loss: 3.084 - val_ppl: 21.836 - val_acc: 10.257%: 100%|██████████| 16/16 [00:00<00:00, 28.46it/s]\n",
            "Epoch: 05 -     loss: 3.120 -     ppl: 22.647 -     acc: 10.078%: 100%|██████████| 454/454 [00:33<00:00, 13.41it/s]\n",
            "Epoch: 05 - val_loss: 2.882 - val_ppl: 17.849 - val_acc: 10.680%: 100%|██████████| 16/16 [00:00<00:00, 27.21it/s]\n",
            "Epoch: 06 -     loss: 2.928 -     ppl: 18.699 -     acc: 10.467%: 100%|██████████| 454/454 [00:33<00:00, 13.51it/s]\n",
            "Epoch: 06 - val_loss: 2.778 - val_ppl: 16.088 - val_acc: 10.936%: 100%|██████████| 16/16 [00:00<00:00, 27.51it/s]\n",
            "Epoch: 07 -     loss: 2.763 -     ppl: 15.843 -     acc: 10.803%: 100%|██████████| 454/454 [00:34<00:00, 13.35it/s]\n",
            "Epoch: 07 - val_loss: 2.659 - val_ppl: 14.283 - val_acc: 11.207%: 100%|██████████| 16/16 [00:00<00:00, 28.05it/s]\n",
            "Epoch: 08 -     loss: 2.606 -     ppl: 13.551 -     acc: 11.145%: 100%|██████████| 454/454 [00:33<00:00, 13.47it/s]\n",
            "Epoch: 08 - val_loss: 2.627 - val_ppl: 13.833 - val_acc: 11.256%: 100%|██████████| 16/16 [00:00<00:00, 28.27it/s]\n",
            "Epoch: 09 -     loss: 2.478 -     ppl: 11.914 -     acc: 11.419%: 100%|██████████| 454/454 [00:33<00:00, 13.46it/s]\n",
            "Epoch: 09 - val_loss: 2.532 - val_ppl: 12.579 - val_acc: 11.555%: 100%|██████████| 16/16 [00:00<00:00, 28.19it/s]\n",
            "Epoch: 10 -     loss: 2.338 -     ppl: 10.360 -     acc: 11.723%: 100%|██████████| 454/454 [00:34<00:00, 13.30it/s]\n",
            "Epoch: 10 - val_loss: 2.486 - val_ppl: 12.009 - val_acc: 11.588%: 100%|██████████| 16/16 [00:00<00:00, 28.05it/s]\n"
          ],
          "name": "stderr"
        }
      ]
    },
    {
      "cell_type": "code",
      "metadata": {
        "id": "t-8rAeqiqjd7",
        "outputId": "bd19e23a-72a4-4c8f-94e0-e975d54dfb77",
        "colab": {
          "base_uri": "https://localhost:8080/",
          "height": 350
        }
      },
      "source": [
        "_, axes = plt.subplots(1, 3, figsize=(15, 5))\n",
        "\n",
        "axes[0].plot(history['loss'], label='train')\n",
        "axes[0].plot(history['val_loss'], label='valid')\n",
        "axes[0].set_title('Loss history')\n",
        "axes[0].set_xlabel('Epoch')\n",
        "axes[0].set_ylabel('Loss')\n",
        "axes[0].grid(True)\n",
        "axes[0].legend()\n",
        "\n",
        "axes[1].plot(history['ppl'], label='train')\n",
        "axes[1].plot(history['val_ppl'], label='valid')\n",
        "axes[1].set_title('Perplexity history')\n",
        "axes[1].set_xlabel('Epoch')\n",
        "axes[1].set_ylabel('Perplexity')\n",
        "axes[1].grid(True)\n",
        "axes[1].legend()\n",
        "\n",
        "axes[2].plot(history['acc'], label='train')\n",
        "axes[2].plot(history['val_acc'], label='valid')\n",
        "axes[2].set_title('Top-5 Accuracy & BLEU-4 history')\n",
        "axes[2].set_xlabel('Epoch')\n",
        "axes[2].set_ylabel('Accuracy & BLEU-4 (%)')\n",
        "axes[2].grid(True)\n",
        "axes[2].legend()\n",
        "\n",
        "plt.show()"
      ],
      "execution_count": 200,
      "outputs": [
        {
          "output_type": "display_data",
          "data": {
            "image/png": "[encoded data removed]",
            "text/plain": [
              "<Figure size 1080x360 with 3 Axes>"
            ]
          },
          "metadata": {
            "tags": [],
            "needs_background": "light"
          }
        }
      ]
    },
    {
      "cell_type": "markdown",
      "metadata": {
        "id": "UIqN5273qP0L"
      },
      "source": [
        "## Evaluation - Beam search & BLEU score"
      ]
    },
    {
      "cell_type": "code",
      "metadata": {
        "id": "axn3AumMmkvE"
      },
      "source": [
        "from beam_utils import Node, find_best_path\n",
        "\n",
        "def evaluate(model, data, beam_size, src_field, dest_field, max_len, device):\n",
        "    src_sentences = [*map(lambda example: example.src, data.examples)]\n",
        "    dest_sentences = [*map(lambda example: example.trg, data.examples)]\n",
        "    data = [*zip([*map(lambda word_list: src_field.process([word_list]), src_sentences)],\n",
        "                 [*map(lambda word_list: dest_field.process([word_list]), dest_sentences)])]\n",
        "    references, hypotheses, sources = [], [], []\n",
        "    model.eval()\n",
        "    with torch.no_grad():\n",
        "        for i, ((src_sequence, src_length), (dest_sequence, dest_length)) in tqdm.tqdm(enumerate(data), total=len(data)):\n",
        "            src_sequence, src_length = src_sequence.to(device), src_length.to(device)\n",
        "            dest_sequence, dest_length = dest_sequence.to(device), dest_length.to(device)\n",
        "            \n",
        "            # Encoding\n",
        "            enc_outputs, h_state, mask = model.encode(src_sequence, src_length)\n",
        "\n",
        "            # Decoding\n",
        "            tree = [[Node(token=torch.LongTensor([dest_field.vocab.stoi[dest_field.init_token]]).to(device), states=(h_state,))]]\n",
        "            for _ in range(max_len):\n",
        "                next_nodes = []\n",
        "                for node in tree[-1]:\n",
        "                    if node.eos: # Skip eos token\n",
        "                        continue\n",
        "                    logit, h_state, _ = model.decoder(input_word_index=node.token,\n",
        "                                                      h_state_prev=node.states[0].contiguous(),\n",
        "                                                      enc_outputs=enc_outputs, mask=mask) # Decode\n",
        "                    logp = F.log_softmax(logit, dim=1).squeeze(dim=0) # [vocab_size] Get scores                    \n",
        "                    topk_logps, topk_tokens = torch.topk(logp, beam_size) # Get top k tokens & logps\n",
        "                    for k in range(beam_size):\n",
        "                        next_nodes.append(Node(token=topk_tokens[k, None], states=(h_state,),\n",
        "                                               logp=topk_logps[k, None].cpu().item(), parent=node,\n",
        "                                               eos=topk_tokens[k].cpu().item() == dest_field.vocab[dest_field.eos_token]))\n",
        "                if len(next_nodes) == 0:\n",
        "                    break\n",
        "                next_nodes = sorted(next_nodes, key=lambda node: node.logps, reverse=True) # Sort next_nodes to get the best\n",
        "                tree.append(next_nodes[:beam_size]) # Update the tree\n",
        "                \n",
        "            best_path = find_best_path(tree) # Find the best path of the tree\n",
        "\n",
        "            # Get the translation\n",
        "            pred_translated = [*map(lambda node: dest_field.vocab.itos[node.token], best_path)]\n",
        "            pred_translated = [*filter(lambda word: word not in [dest_field.init_token, dest_field.eos_token], pred_translated[::-1])]\n",
        "\n",
        "            hypotheses.append(pred_translated) # Update hypotheses\n",
        "\n",
        "            # Update references\n",
        "            references.append([[dest_field.vocab.itos[indice] for indice in dest_sequence if indice not in (\n",
        "                dest_field.vocab.stoi[dest_field.init_token],\n",
        "                dest_field.vocab.stoi[dest_field.eos_token],\n",
        "                dest_field.vocab.stoi[dest_field.pad_token]\n",
        "            )]])\n",
        "\n",
        "            # Update sources\n",
        "            sources.append([src_field.vocab.itos[indice]  for indice in src_sequence  if indice not in (\n",
        "                src_field.vocab.stoi[src_field.init_token],\n",
        "                src_field.vocab.stoi[src_field.eos_token],\n",
        "                src_field.vocab.stoi[src_field.pad_token]\n",
        "            )])\n",
        "    \n",
        "        assert len(hypotheses) == len(references) == len(sources)\n",
        "        bleu4 = bleu_score(hypotheses, references, max_n=4, weights=[0.25, 0.25, 0.25, 0.25]) # Calculate BLEU-4 score\n",
        "    return hypotheses, references, sources, bleu4"
      ],
      "execution_count": 201,
      "outputs": []
    },
    {
      "cell_type": "code",
      "metadata": {
        "id": "g-lc-nLat-gI",
        "outputId": "5547d819-84ee-41a6-a5b2-de521b19b260",
        "colab": {
          "base_uri": "https://localhost:8080/",
          "height": 323
        }
      },
      "source": [
        "seq2seq.load_state_dict(torch.load('seq2seq-badhanau-attn.pth'))\n",
        "seq2seq.to(DEVICE)"
      ],
      "execution_count": 202,
      "outputs": [
        {
          "output_type": "execute_result",
          "data": {
            "text/plain": [
              "SeqToSeqNet(\n",
              "  (encoder): EncoderLayer(\n",
              "    (embedding): Embedding(7852, 300)\n",
              "    (gru): GRU(300, 256, num_layers=2, dropout=0.25, bidirectional=True)\n",
              "  )\n",
              "  (decoder): DecoderLayer(\n",
              "    (attention_layer): BadhanauAttnLayer(\n",
              "      (fc): Linear(in_features=2, out_features=1, bias=True)\n",
              "      (W1): Linear(in_features=512, out_features=256, bias=True)\n",
              "      (W2): Linear(in_features=256, out_features=256, bias=True)\n",
              "      (V): Linear(in_features=256, out_features=1, bias=True)\n",
              "    )\n",
              "    (embedding): Embedding(5893, 300)\n",
              "    (gru): GRU(812, 256, num_layers=2, dropout=0.25)\n",
              "    (fc): Linear(in_features=256, out_features=5893, bias=True)\n",
              "  )\n",
              "  (init_h0): Linear(in_features=4, out_features=2, bias=True)\n",
              ")"
            ]
          },
          "metadata": {
            "tags": []
          },
          "execution_count": 202
        }
      ]
    },
    {
      "cell_type": "code",
      "metadata": {
        "id": "SULpWumNtgxg",
        "outputId": "5f008e0a-fae5-44c5-d6ba-bc6ce9108a02",
        "colab": {
          "base_uri": "https://localhost:8080/",
          "height": 425
        }
      },
      "source": [
        "bleu_scores = []\n",
        "for beam_size in [1, 3, 5]:\n",
        "    for name, data in [('validation', valid_data), ('test', test_data)]:\n",
        "        _, _, _, bleu4 = evaluate(model=seq2seq, data=data, beam_size=beam_size, src_field=DE, dest_field=EN, max_len=50, device=DEVICE)\n",
        "        bleu_scores.append((beam_size, name, bleu4))\n",
        "        print(bleu4)\n",
        "        \n",
        "for score in bleu_scores:\n",
        "    print(f'BLEU-4: {score[2]*100:.3f}% with beam_size={score[0]} on {score[1]} data')"
      ],
      "execution_count": 204,
      "outputs": [
        {
          "output_type": "stream",
          "text": [
            "100%|██████████| 1014/1014 [00:23<00:00, 42.82it/s]\n",
            "  0%|          | 4/1000 [00:00<00:26, 38.20it/s]"
          ],
          "name": "stderr"
        },
        {
          "output_type": "stream",
          "text": [
            "0.019562624394893646\n"
          ],
          "name": "stdout"
        },
        {
          "output_type": "stream",
          "text": [
            " 37%|███▋      | 367/1000 [00:08<00:14, 44.82it/s]\n"
          ],
          "name": "stderr"
        },
        {
          "output_type": "error",
          "ename": "KeyboardInterrupt",
          "evalue": "ignored",
          "traceback": [
            "\u001b[0;31m---------------------------------------------------------------------------\u001b[0m",
            "\u001b[0;31mKeyboardInterrupt\u001b[0m                         Traceback (most recent call last)",
            "\u001b[0;32m<ipython-input-204-881a80d71c55>\u001b[0m in \u001b[0;36m<module>\u001b[0;34m()\u001b[0m\n\u001b[1;32m      2\u001b[0m \u001b[0;32mfor\u001b[0m \u001b[0mbeam_size\u001b[0m \u001b[0;32min\u001b[0m \u001b[0;34m[\u001b[0m\u001b[0;36m1\u001b[0m\u001b[0;34m,\u001b[0m \u001b[0;36m3\u001b[0m\u001b[0;34m,\u001b[0m \u001b[0;36m5\u001b[0m\u001b[0;34m]\u001b[0m\u001b[0;34m:\u001b[0m\u001b[0;34m\u001b[0m\u001b[0;34m\u001b[0m\u001b[0m\n\u001b[1;32m      3\u001b[0m     \u001b[0;32mfor\u001b[0m \u001b[0mname\u001b[0m\u001b[0;34m,\u001b[0m \u001b[0mdata\u001b[0m \u001b[0;32min\u001b[0m \u001b[0;34m[\u001b[0m\u001b[0;34m(\u001b[0m\u001b[0;34m'validation'\u001b[0m\u001b[0;34m,\u001b[0m \u001b[0mvalid_data\u001b[0m\u001b[0;34m)\u001b[0m\u001b[0;34m,\u001b[0m \u001b[0;34m(\u001b[0m\u001b[0;34m'test'\u001b[0m\u001b[0;34m,\u001b[0m \u001b[0mtest_data\u001b[0m\u001b[0;34m)\u001b[0m\u001b[0;34m]\u001b[0m\u001b[0;34m:\u001b[0m\u001b[0;34m\u001b[0m\u001b[0;34m\u001b[0m\u001b[0m\n\u001b[0;32m----> 4\u001b[0;31m         \u001b[0m_\u001b[0m\u001b[0;34m,\u001b[0m \u001b[0m_\u001b[0m\u001b[0;34m,\u001b[0m \u001b[0m_\u001b[0m\u001b[0;34m,\u001b[0m \u001b[0mbleu4\u001b[0m \u001b[0;34m=\u001b[0m \u001b[0mevaluate\u001b[0m\u001b[0;34m(\u001b[0m\u001b[0mmodel\u001b[0m\u001b[0;34m=\u001b[0m\u001b[0mseq2seq\u001b[0m\u001b[0;34m,\u001b[0m \u001b[0mdata\u001b[0m\u001b[0;34m=\u001b[0m\u001b[0mdata\u001b[0m\u001b[0;34m,\u001b[0m \u001b[0mbeam_size\u001b[0m\u001b[0;34m=\u001b[0m\u001b[0mbeam_size\u001b[0m\u001b[0;34m,\u001b[0m \u001b[0msrc_field\u001b[0m\u001b[0;34m=\u001b[0m\u001b[0mDE\u001b[0m\u001b[0;34m,\u001b[0m \u001b[0mdest_field\u001b[0m\u001b[0;34m=\u001b[0m\u001b[0mEN\u001b[0m\u001b[0;34m,\u001b[0m \u001b[0mmax_len\u001b[0m\u001b[0;34m=\u001b[0m\u001b[0;36m50\u001b[0m\u001b[0;34m,\u001b[0m \u001b[0mdevice\u001b[0m\u001b[0;34m=\u001b[0m\u001b[0mDEVICE\u001b[0m\u001b[0;34m)\u001b[0m\u001b[0;34m\u001b[0m\u001b[0;34m\u001b[0m\u001b[0m\n\u001b[0m\u001b[1;32m      5\u001b[0m         \u001b[0mbleu_scores\u001b[0m\u001b[0;34m.\u001b[0m\u001b[0mappend\u001b[0m\u001b[0;34m(\u001b[0m\u001b[0;34m(\u001b[0m\u001b[0mbeam_size\u001b[0m\u001b[0;34m,\u001b[0m \u001b[0mname\u001b[0m\u001b[0;34m,\u001b[0m \u001b[0mbleu4\u001b[0m\u001b[0;34m)\u001b[0m\u001b[0;34m)\u001b[0m\u001b[0;34m\u001b[0m\u001b[0;34m\u001b[0m\u001b[0m\n\u001b[1;32m      6\u001b[0m         \u001b[0mprint\u001b[0m\u001b[0;34m(\u001b[0m\u001b[0mbleu4\u001b[0m\u001b[0;34m)\u001b[0m\u001b[0;34m\u001b[0m\u001b[0;34m\u001b[0m\u001b[0m\n",
            "\u001b[0;32m<ipython-input-201-979408fa80f0>\u001b[0m in \u001b[0;36mevaluate\u001b[0;34m(model, data, beam_size, src_field, dest_field, max_len, device)\u001b[0m\n\u001b[1;32m     25\u001b[0m                     logit, h_state, _ = model.decoder(input_word_index=node.token,\n\u001b[1;32m     26\u001b[0m                                                       \u001b[0mh_state_prev\u001b[0m\u001b[0;34m=\u001b[0m\u001b[0mnode\u001b[0m\u001b[0;34m.\u001b[0m\u001b[0mstates\u001b[0m\u001b[0;34m[\u001b[0m\u001b[0;36m0\u001b[0m\u001b[0;34m]\u001b[0m\u001b[0;34m.\u001b[0m\u001b[0mcontiguous\u001b[0m\u001b[0;34m(\u001b[0m\u001b[0;34m)\u001b[0m\u001b[0;34m,\u001b[0m\u001b[0;34m\u001b[0m\u001b[0;34m\u001b[0m\u001b[0m\n\u001b[0;32m---> 27\u001b[0;31m                                                       enc_outputs=enc_outputs, mask=mask) # Decode\n\u001b[0m\u001b[1;32m     28\u001b[0m                     \u001b[0mlogp\u001b[0m \u001b[0;34m=\u001b[0m \u001b[0mF\u001b[0m\u001b[0;34m.\u001b[0m\u001b[0mlog_softmax\u001b[0m\u001b[0;34m(\u001b[0m\u001b[0mlogit\u001b[0m\u001b[0;34m,\u001b[0m \u001b[0mdim\u001b[0m\u001b[0;34m=\u001b[0m\u001b[0;36m1\u001b[0m\u001b[0;34m)\u001b[0m\u001b[0;34m.\u001b[0m\u001b[0msqueeze\u001b[0m\u001b[0;34m(\u001b[0m\u001b[0mdim\u001b[0m\u001b[0;34m=\u001b[0m\u001b[0;36m0\u001b[0m\u001b[0;34m)\u001b[0m \u001b[0;31m# [vocab_size] Get scores\u001b[0m\u001b[0;34m\u001b[0m\u001b[0;34m\u001b[0m\u001b[0m\n\u001b[1;32m     29\u001b[0m                     \u001b[0mtopk_logps\u001b[0m\u001b[0;34m,\u001b[0m \u001b[0mtopk_tokens\u001b[0m \u001b[0;34m=\u001b[0m \u001b[0mtorch\u001b[0m\u001b[0;34m.\u001b[0m\u001b[0mtopk\u001b[0m\u001b[0;34m(\u001b[0m\u001b[0mlogp\u001b[0m\u001b[0;34m,\u001b[0m \u001b[0mbeam_size\u001b[0m\u001b[0;34m)\u001b[0m \u001b[0;31m# Get top k tokens & logps\u001b[0m\u001b[0;34m\u001b[0m\u001b[0;34m\u001b[0m\u001b[0m\n",
            "\u001b[0;32m/usr/local/lib/python3.6/dist-packages/torch/nn/modules/module.py\u001b[0m in \u001b[0;36m_call_impl\u001b[0;34m(self, *input, **kwargs)\u001b[0m\n\u001b[1;32m    720\u001b[0m             \u001b[0mresult\u001b[0m \u001b[0;34m=\u001b[0m \u001b[0mself\u001b[0m\u001b[0;34m.\u001b[0m\u001b[0m_slow_forward\u001b[0m\u001b[0;34m(\u001b[0m\u001b[0;34m*\u001b[0m\u001b[0minput\u001b[0m\u001b[0;34m,\u001b[0m \u001b[0;34m**\u001b[0m\u001b[0mkwargs\u001b[0m\u001b[0;34m)\u001b[0m\u001b[0;34m\u001b[0m\u001b[0;34m\u001b[0m\u001b[0m\n\u001b[1;32m    721\u001b[0m         \u001b[0;32melse\u001b[0m\u001b[0;34m:\u001b[0m\u001b[0;34m\u001b[0m\u001b[0;34m\u001b[0m\u001b[0m\n\u001b[0;32m--> 722\u001b[0;31m             \u001b[0mresult\u001b[0m \u001b[0;34m=\u001b[0m \u001b[0mself\u001b[0m\u001b[0;34m.\u001b[0m\u001b[0mforward\u001b[0m\u001b[0;34m(\u001b[0m\u001b[0;34m*\u001b[0m\u001b[0minput\u001b[0m\u001b[0;34m,\u001b[0m \u001b[0;34m**\u001b[0m\u001b[0mkwargs\u001b[0m\u001b[0;34m)\u001b[0m\u001b[0;34m\u001b[0m\u001b[0;34m\u001b[0m\u001b[0m\n\u001b[0m\u001b[1;32m    723\u001b[0m         for hook in itertools.chain(\n\u001b[1;32m    724\u001b[0m                 \u001b[0m_global_forward_hooks\u001b[0m\u001b[0;34m.\u001b[0m\u001b[0mvalues\u001b[0m\u001b[0;34m(\u001b[0m\u001b[0;34m)\u001b[0m\u001b[0;34m,\u001b[0m\u001b[0;34m\u001b[0m\u001b[0;34m\u001b[0m\u001b[0m\n",
            "\u001b[0;32m<ipython-input-192-390719b06b9a>\u001b[0m in \u001b[0;36mforward\u001b[0;34m(self, input_word_index, h_state_prev, enc_outputs, mask)\u001b[0m\n\u001b[1;32m     32\u001b[0m         ).permute(2, 0, 1) # [1, batch_size, hidden_size * 2]\n\u001b[1;32m     33\u001b[0m         \u001b[0mnew_input\u001b[0m \u001b[0;34m=\u001b[0m \u001b[0mtorch\u001b[0m\u001b[0;34m.\u001b[0m\u001b[0mcat\u001b[0m\u001b[0;34m(\u001b[0m\u001b[0;34m(\u001b[0m\u001b[0membedded\u001b[0m\u001b[0;34m,\u001b[0m \u001b[0mcontext_vector\u001b[0m\u001b[0;34m)\u001b[0m\u001b[0;34m,\u001b[0m \u001b[0mdim\u001b[0m\u001b[0;34m=\u001b[0m\u001b[0;36m2\u001b[0m\u001b[0;34m)\u001b[0m \u001b[0;31m# [1, batch_size, hidden_size * 2 + emdedding_size] New input\u001b[0m\u001b[0;34m\u001b[0m\u001b[0;34m\u001b[0m\u001b[0m\n\u001b[0;32m---> 34\u001b[0;31m         \u001b[0moutputs\u001b[0m\u001b[0;34m,\u001b[0m \u001b[0mh_state\u001b[0m \u001b[0;34m=\u001b[0m \u001b[0mself\u001b[0m\u001b[0;34m.\u001b[0m\u001b[0mgru\u001b[0m\u001b[0;34m(\u001b[0m\u001b[0mnew_input\u001b[0m\u001b[0;34m,\u001b[0m \u001b[0mh_state_prev\u001b[0m\u001b[0;34m)\u001b[0m\u001b[0;34m\u001b[0m\u001b[0;34m\u001b[0m\u001b[0m\n\u001b[0m\u001b[1;32m     35\u001b[0m         \u001b[0mlogit\u001b[0m \u001b[0;34m=\u001b[0m \u001b[0mself\u001b[0m\u001b[0;34m.\u001b[0m\u001b[0mfc\u001b[0m\u001b[0;34m(\u001b[0m\u001b[0moutputs\u001b[0m\u001b[0;34m.\u001b[0m\u001b[0msqueeze\u001b[0m\u001b[0;34m(\u001b[0m\u001b[0;36m0\u001b[0m\u001b[0;34m)\u001b[0m\u001b[0;34m)\u001b[0m\u001b[0;34m\u001b[0m\u001b[0;34m\u001b[0m\u001b[0m\n\u001b[1;32m     36\u001b[0m         \u001b[0;32mreturn\u001b[0m \u001b[0mlogit\u001b[0m\u001b[0;34m,\u001b[0m \u001b[0mh_state\u001b[0m\u001b[0;34m,\u001b[0m \u001b[0mattn_weights\u001b[0m\u001b[0;34m.\u001b[0m\u001b[0msqueeze\u001b[0m\u001b[0;34m(\u001b[0m\u001b[0;36m2\u001b[0m\u001b[0;34m)\u001b[0m\u001b[0;34m\u001b[0m\u001b[0;34m\u001b[0m\u001b[0m\n",
            "\u001b[0;32m/usr/local/lib/python3.6/dist-packages/torch/nn/modules/module.py\u001b[0m in \u001b[0;36m_call_impl\u001b[0;34m(self, *input, **kwargs)\u001b[0m\n\u001b[1;32m    720\u001b[0m             \u001b[0mresult\u001b[0m \u001b[0;34m=\u001b[0m \u001b[0mself\u001b[0m\u001b[0;34m.\u001b[0m\u001b[0m_slow_forward\u001b[0m\u001b[0;34m(\u001b[0m\u001b[0;34m*\u001b[0m\u001b[0minput\u001b[0m\u001b[0;34m,\u001b[0m \u001b[0;34m**\u001b[0m\u001b[0mkwargs\u001b[0m\u001b[0;34m)\u001b[0m\u001b[0;34m\u001b[0m\u001b[0;34m\u001b[0m\u001b[0m\n\u001b[1;32m    721\u001b[0m         \u001b[0;32melse\u001b[0m\u001b[0;34m:\u001b[0m\u001b[0;34m\u001b[0m\u001b[0;34m\u001b[0m\u001b[0m\n\u001b[0;32m--> 722\u001b[0;31m             \u001b[0mresult\u001b[0m \u001b[0;34m=\u001b[0m \u001b[0mself\u001b[0m\u001b[0;34m.\u001b[0m\u001b[0mforward\u001b[0m\u001b[0;34m(\u001b[0m\u001b[0;34m*\u001b[0m\u001b[0minput\u001b[0m\u001b[0;34m,\u001b[0m \u001b[0;34m**\u001b[0m\u001b[0mkwargs\u001b[0m\u001b[0;34m)\u001b[0m\u001b[0;34m\u001b[0m\u001b[0;34m\u001b[0m\u001b[0m\n\u001b[0m\u001b[1;32m    723\u001b[0m         for hook in itertools.chain(\n\u001b[1;32m    724\u001b[0m                 \u001b[0m_global_forward_hooks\u001b[0m\u001b[0;34m.\u001b[0m\u001b[0mvalues\u001b[0m\u001b[0;34m(\u001b[0m\u001b[0;34m)\u001b[0m\u001b[0;34m,\u001b[0m\u001b[0;34m\u001b[0m\u001b[0;34m\u001b[0m\u001b[0m\n",
            "\u001b[0;32m/usr/local/lib/python3.6/dist-packages/torch/nn/modules/rnn.py\u001b[0m in \u001b[0;36mforward\u001b[0;34m(self, input, hx)\u001b[0m\n\u001b[1;32m    733\u001b[0m         \u001b[0;32mif\u001b[0m \u001b[0mbatch_sizes\u001b[0m \u001b[0;32mis\u001b[0m \u001b[0;32mNone\u001b[0m\u001b[0;34m:\u001b[0m\u001b[0;34m\u001b[0m\u001b[0;34m\u001b[0m\u001b[0m\n\u001b[1;32m    734\u001b[0m             result = _VF.gru(input, hx, self._flat_weights, self.bias, self.num_layers,\n\u001b[0;32m--> 735\u001b[0;31m                              self.dropout, self.training, self.bidirectional, self.batch_first)\n\u001b[0m\u001b[1;32m    736\u001b[0m         \u001b[0;32melse\u001b[0m\u001b[0;34m:\u001b[0m\u001b[0;34m\u001b[0m\u001b[0;34m\u001b[0m\u001b[0m\n\u001b[1;32m    737\u001b[0m             result = _VF.gru(input, batch_sizes, hx, self._flat_weights, self.bias,\n",
            "\u001b[0;31mKeyboardInterrupt\u001b[0m: "
          ]
        }
      ]
    },
    {
      "cell_type": "markdown",
      "metadata": {
        "id": "CQvQiVINwb_e"
      },
      "source": [
        "## Inference"
      ]
    },
    {
      "cell_type": "code",
      "metadata": {
        "id": "euSkrQikvFU4"
      },
      "source": [
        "def translate(sentences, model, beam_size, src_field, dest_field, max_len, device):\n",
        "    if isinstance(sentences, list):\n",
        "        sentences = [*map(src_field.preprocess, sentences)]\n",
        "        targets = None\n",
        "    if isinstance(sentences, Dataset):\n",
        "        targets = [*map(lambda example: ' '.join(example.trg), sentences.examples)]\n",
        "        sentences = [*map(lambda example: example.src, sentences.examples)]\n",
        "    data = [*map(lambda word_list: src_field.process([word_list]), sentences)]\n",
        "    translated_sentences, pred_logps = [], []\n",
        "    model.eval()\n",
        "    with torch.no_grad():\n",
        "        for i, (src_sequence, src_length) in tqdm.tqdm(enumerate(data), total=len(data)):\n",
        "            src_sequence, src_length = src_sequence.to(device), src_length.to(device)\n",
        "            enc_outputs, h_state, mask = model.encode(src_sequence, src_length)\n",
        "            tree = [[Node(token=torch.LongTensor([dest_field.vocab.stoi[dest_field.init_token]]).to(device), states=(h_state,))]]\n",
        "            for _ in range(max_len):\n",
        "                next_nodes = []\n",
        "                for node in tree[-1]:\n",
        "                    if node.eos: # Skip eos token\n",
        "                        continue\n",
        "                    logit, h_state, _ = model.decoder(input_word_index=node.token,\n",
        "                                                      h_state_prev=node.states[0].contiguous(),\n",
        "                                                      enc_outputs=enc_outputs, mask=mask) # Decode\n",
        "                    logp = F.log_softmax(logit, dim=1).squeeze(dim=0)                   \n",
        "                    topk_logps, topk_tokens = torch.topk(logp, beam_size)\n",
        "                    for k in range(beam_size):\n",
        "                        next_nodes.append(Node(token=topk_tokens[k, None], states=(h_state,),\n",
        "                                               logp=topk_logps[k, None].cpu().item(), parent=node,\n",
        "                                               eos=topk_tokens[k].cpu().item() == dest_field.vocab[dest_field.eos_token]))\n",
        "                if len(next_nodes) == 0:\n",
        "                    break\n",
        "                next_nodes = sorted(next_nodes, key=lambda node: node.logps, reverse=True)\n",
        "                tree.append(next_nodes[:beam_size])\n",
        "            best_path = find_best_path(tree)\n",
        "            # Get the translation\n",
        "            pred_translated = [*map(lambda node: dest_field.vocab.itos[node.token], best_path)]\n",
        "            pred_translated = [*filter(lambda word: word not in [\n",
        "                dest_field.init_token, dest_field.eos_token\n",
        "            ], pred_translated[::-1])]\n",
        "            translated_sentences.append(' '.join(pred_translated))\n",
        "            # Get probabilities\n",
        "            pred_logps.append(sum([*map(lambda node: node.logps, best_path)]))\n",
        "        sentences = [*map(lambda sentence: ' '.join(sentence), sentences)]\n",
        "    return sentences, translated_sentences, targets, pred_logps"
      ],
      "execution_count": 189,
      "outputs": []
    },
    {
      "cell_type": "code",
      "metadata": {
        "id": "uA8qEvYtzZn0",
        "outputId": "969057a1-051d-4ae4-fa08-98d3165df942",
        "colab": {
          "base_uri": "https://localhost:8080/",
          "height": 970
        }
      },
      "source": [
        "sentences, translated_sentences, dest_sentences, pred_logps = translate(sentences=test_data, model=seq2seq, beam_size=1, src_field=DE,\n",
        "                                                                        dest_field=EN, max_len=50, device=DEVICE)\n",
        "indexes = np.random.choice(len(test_data.examples), size=10, replace=False)\n",
        "print(indexes)\n",
        "print()\n",
        "for i in indexes:\n",
        "    html = f'<p><span style=\"color:blue\"><b>Source:</b> {sentences[i]}</span><br />'\n",
        "    html += f'<span style=\"color:green\"><b>Ground truth translation:</b> {dest_sentences[i]}</span><br />'\n",
        "    html += f'<span style=\"color:red\"><b>Predicted translation:</b> {translated_sentences[i]}</span></p>'\n",
        "    display(HTML(html))\n",
        "    print('='*100)"
      ],
      "execution_count": 190,
      "outputs": [
        {
          "output_type": "stream",
          "text": [
            "100%|██████████| 1000/1000 [00:44<00:00, 22.25it/s]"
          ],
          "name": "stderr"
        },
        {
          "output_type": "stream",
          "text": [
            "[400 297  23 684 727 336 933 557 648 610]\n",
            "\n"
          ],
          "name": "stdout"
        },
        {
          "output_type": "stream",
          "text": [
            "\n"
          ],
          "name": "stderr"
        },
        {
          "output_type": "display_data",
          "data": {
            "text/html": [
              "<p><span style=\"color:blue\"><b>Source:</b> diese vier personen stehen mit 3 hunden im freien .</span><br /><span style=\"color:green\"><b>Ground truth translation:</b> these four people are standing outdoors , with 3 dogs .</span><br /><span style=\"color:red\"><b>Predicted translation:</b> four people people standing standing standing standing and standing and and and and and and and and and and and and and and and and and and and and and and and and and and and and and and and .</span></p>"
            ],
            "text/plain": [
              "<IPython.core.display.HTML object>"
            ]
          },
          "metadata": {
            "tags": []
          }
        },
        {
          "output_type": "stream",
          "text": [
            "====================================================================================================\n"
          ],
          "name": "stdout"
        },
        {
          "output_type": "display_data",
          "data": {
            "text/html": [
              "<p><span style=\"color:blue\"><b>Source:</b> ein kind in einem blauen shirt springt von einer bank .</span><br /><span style=\"color:green\"><b>Ground truth translation:</b> a child in a blue shirt jumping off a bench .</span><br /><span style=\"color:red\"><b>Predicted translation:</b> child in a shirt shirt shirt off a shirt off a off off a off a a off a a shirt and a shirt and a shirt and a shirt and a shirt and a shirt and a shirt . a a . a . a . a . a</span></p>"
            ],
            "text/plain": [
              "<IPython.core.display.HTML object>"
            ]
          },
          "metadata": {
            "tags": []
          }
        },
        {
          "output_type": "stream",
          "text": [
            "====================================================================================================\n"
          ],
          "name": "stdout"
        },
        {
          "output_type": "display_data",
          "data": {
            "text/html": [
              "<p><span style=\"color:blue\"><b>Source:</b> ein mann steht bei einigen spielautomaten in einer bar .</span><br /><span style=\"color:green\"><b>Ground truth translation:</b> a man is standing by a group of video games in a bar .</span><br /><span style=\"color:red\"><b>Predicted translation:</b> a man in at at at a in at at at a in a in a in a in a in at a in a in at in at in at a in at at at a in at at in at at a in a in at at a</span></p>"
            ],
            "text/plain": [
              "<IPython.core.display.HTML object>"
            ]
          },
          "metadata": {
            "tags": []
          }
        },
        {
          "output_type": "stream",
          "text": [
            "====================================================================================================\n"
          ],
          "name": "stdout"
        },
        {
          "output_type": "display_data",
          "data": {
            "text/html": [
              "<p><span style=\"color:blue\"><b>Source:</b> leute stehen vor einer von wasser umgebenen skulptur .</span><br /><span style=\"color:green\"><b>Ground truth translation:</b> people are standing in front of a sculpture surrounded by water .</span><br /><span style=\"color:red\"><b>Predicted translation:</b> people in in in in in in water in in in a water in a water in a water in a water in water in a water in water in a water in water in water in water water water in water in water water in water in water in</span></p>"
            ],
            "text/plain": [
              "<IPython.core.display.HTML object>"
            ]
          },
          "metadata": {
            "tags": []
          }
        },
        {
          "output_type": "stream",
          "text": [
            "====================================================================================================\n"
          ],
          "name": "stdout"
        },
        {
          "output_type": "display_data",
          "data": {
            "text/html": [
              "<p><span style=\"color:blue\"><b>Source:</b> ein mann mit einer schwarzen weste hält ein modellflugzeug</span><br /><span style=\"color:green\"><b>Ground truth translation:</b> a man with a black vest holding a model airplane</span><br /><span style=\"color:red\"><b>Predicted translation:</b> a man wearing a black black black black black a black a black a a a a black a a a a a a a a a a</span></p>"
            ],
            "text/plain": [
              "<IPython.core.display.HTML object>"
            ]
          },
          "metadata": {
            "tags": []
          }
        },
        {
          "output_type": "stream",
          "text": [
            "====================================================================================================\n"
          ],
          "name": "stdout"
        },
        {
          "output_type": "display_data",
          "data": {
            "text/html": [
              "<p><span style=\"color:blue\"><b>Source:</b> eine gruppe ist in einer bar .</span><br /><span style=\"color:green\"><b>Ground truth translation:</b> a crowd is present at a bar .</span><br /><span style=\"color:red\"><b>Predicted translation:</b> a group of a a a a a a a a a a a a a a a a a a a a a a a a a a a a a a a a a .</span></p>"
            ],
            "text/plain": [
              "<IPython.core.display.HTML object>"
            ]
          },
          "metadata": {
            "tags": []
          }
        },
        {
          "output_type": "stream",
          "text": [
            "====================================================================================================\n"
          ],
          "name": "stdout"
        },
        {
          "output_type": "display_data",
          "data": {
            "text/html": [
              "<p><span style=\"color:blue\"><b>Source:</b> ein junge zielt und schießt auf einem schießstand .</span><br /><span style=\"color:green\"><b>Ground truth translation:</b> a boy at a gun range aims and shoots .</span><br /><span style=\"color:red\"><b>Predicted translation:</b> a and and and and and and and and and and and and and and and and and and and and and and and and and and and and and and and and and and and and and and and and and and and and and and and and and</span></p>"
            ],
            "text/plain": [
              "<IPython.core.display.HTML object>"
            ]
          },
          "metadata": {
            "tags": []
          }
        },
        {
          "output_type": "stream",
          "text": [
            "====================================================================================================\n"
          ],
          "name": "stdout"
        },
        {
          "output_type": "display_data",
          "data": {
            "text/html": [
              "<p><span style=\"color:blue\"><b>Source:</b> ein mann , der über einem grill im freien fleisch grillt .</span><br /><span style=\"color:green\"><b>Ground truth translation:</b> a man grilling meat on an outdoor grilling pit .</span><br /><span style=\"color:red\"><b>Predicted translation:</b> a man on a outside outside outside outside outside outside outside outside outside outside outside outside outside outside outside outside outside outside outside outside outside outside outside outside outside outside outside outside outside outside outside outside outside outside outside outside outside outside outside outside outside outside outside . . .</span></p>"
            ],
            "text/plain": [
              "<IPython.core.display.HTML object>"
            ]
          },
          "metadata": {
            "tags": []
          }
        },
        {
          "output_type": "stream",
          "text": [
            "====================================================================================================\n"
          ],
          "name": "stdout"
        },
        {
          "output_type": "display_data",
          "data": {
            "text/html": [
              "<p><span style=\"color:blue\"><b>Source:</b> eine junge brünette frau isst und trinkt etwas .</span><br /><span style=\"color:green\"><b>Ground truth translation:</b> a young brunette woman eating and drinking something .</span><br /><span style=\"color:red\"><b>Predicted translation:</b> a young - haired eating and and and and and and and and and and and and and and and and and and and and and and and and and and and and and and and and and and and and and and and and and and and and and</span></p>"
            ],
            "text/plain": [
              "<IPython.core.display.HTML object>"
            ]
          },
          "metadata": {
            "tags": []
          }
        },
        {
          "output_type": "stream",
          "text": [
            "====================================================================================================\n"
          ],
          "name": "stdout"
        },
        {
          "output_type": "display_data",
          "data": {
            "text/html": [
              "<p><span style=\"color:blue\"><b>Source:</b> ein afrikanischer stamm steht im garten mit dem wald im hintergrund .</span><br /><span style=\"color:green\"><b>Ground truth translation:</b> an african tribe is standing in their garden with the forest in the background .</span><br /><span style=\"color:red\"><b>Predicted translation:</b> a asian asian descent descent in a a a a people people people people people people people people the people the people people people people the background people the background background the background background the background background the background the background the background the background the background the the the</span></p>"
            ],
            "text/plain": [
              "<IPython.core.display.HTML object>"
            ]
          },
          "metadata": {
            "tags": []
          }
        },
        {
          "output_type": "stream",
          "text": [
            "====================================================================================================\n"
          ],
          "name": "stdout"
        }
      ]
    },
    {
      "cell_type": "markdown",
      "metadata": {
        "id": "trGPrnTLwe4E"
      },
      "source": [
        "## Error Analysis"
      ]
    },
    {
      "cell_type": "code",
      "metadata": {
        "id": "hvnjiHv_whVk"
      },
      "source": [
        "def get_dest_logp(model, data, src_field, dest_field, device):\n",
        "    dest_logps = []\n",
        "    model.eval()\n",
        "    with torch.no_grad():\n",
        "        for i, data in tqdm.tqdm(enumerate(data), total=len(data)):\n",
        "            src_sequence, src_length = src_field.process([data.src])\n",
        "            dest_sequence, dest_length = dest_field.process([data.trg])\n",
        "            src_sequence, src_length = src_sequence.to(device), src_length.to(device)\n",
        "            dest_sequence, dest_length = dest_sequence.to(device), dest_length.to(device)\n",
        "            h_state = model.encoder(input_sequences=src_sequence, sequence_lengths=src_length)\n",
        "            h_state = model.init_h0(h_state.permute(1, 2, 0))\n",
        "            h_state = h_state.permute(2, 0, 1)\n",
        "            logps = []\n",
        "            input_word_index = torch.LongTensor([dest_field.vocab.stoi[dest_field.init_token]]).to(device)\n",
        "            for idx in range(dest_sequence.shape[0]):\n",
        "                logit, h_state = model.decoder(input_word_index=input_word_index, h_state_prev=h_state.contiguous())\n",
        "                logp = F.log_softmax(logit, dim=1).squeeze(dim=0)\n",
        "                input_word_index = dest_sequence[idx]\n",
        "                logps.append(logp[input_word_index].cpu().item()) # Get logp of ground truth ouput\n",
        "            dest_logps.append(sum(logps))\n",
        "    return dest_logps"
      ],
      "execution_count": null,
      "outputs": []
    },
    {
      "cell_type": "code",
      "metadata": {
        "id": "i67U1RSa0Qc5",
        "outputId": "c7ec2f70-5ae3-4c89-c157-98b9f94e1ebd",
        "colab": {
          "base_uri": "https://localhost:8080/",
          "height": 34
        }
      },
      "source": [
        "dest_logps = get_dest_logp(model=seq2seq, data=test_data, src_field=DE, dest_field=EN, device=DEVICE)\n",
        "assert len(pred_logps) == len(dest_logps) == len(test_data), f'{len(pred_logps)}, {len(dest_logps)}, {len(test_data)}'"
      ],
      "execution_count": null,
      "outputs": [
        {
          "output_type": "stream",
          "text": [
            "100%|██████████| 1000/1000 [00:08<00:00, 113.13it/s]\n"
          ],
          "name": "stderr"
        }
      ]
    },
    {
      "cell_type": "code",
      "metadata": {
        "id": "kfH2LWDe0VQ6",
        "outputId": "1b1a21a3-7b23-4265-90c3-aa6f2d9e08da",
        "colab": {
          "base_uri": "https://localhost:8080/",
          "height": 51
        }
      },
      "source": [
        "beam_search_faults = np.array(dest_logps) > np.array(pred_logps)\n",
        "\n",
        "beam_search_fault_rate = beam_search_faults.sum() / beam_search_faults.size\n",
        "print(f'Beam search fault rate: {beam_search_fault_rate * 100:.3f}%')\n",
        "print(f'Model fault rate: {(1 - beam_search_fault_rate) * 100:.3f}%')"
      ],
      "execution_count": null,
      "outputs": [
        {
          "output_type": "stream",
          "text": [
            "Beam search fault rate: 37.200%\n",
            "Model fault rate: 62.800%\n"
          ],
          "name": "stdout"
        }
      ]
    },
    {
      "cell_type": "code",
      "metadata": {
        "id": "2WbEkuNz0dgK"
      },
      "source": [
        "beam_search_fault_indexes = np.where(beam_search_faults == True)[0]\n",
        "model_fault_indexes = np.where(beam_search_faults == False)[0]"
      ],
      "execution_count": null,
      "outputs": []
    },
    {
      "cell_type": "code",
      "metadata": {
        "id": "sf2uMsUb0ifT",
        "outputId": "9daf5c65-ba57-48e5-e07b-7c8b0580e42e",
        "colab": {
          "base_uri": "https://localhost:8080/",
          "height": 417
        }
      },
      "source": [
        "for i in np.random.choice(beam_search_fault_indexes, size=5, replace=False):\n",
        "    html = f'<p><span><b>Source:</b> {sentences[i]}</span><br />'\n",
        "    html += f'<span style=\"color:green\"><b>Ground truth translation:</b> {dest_sentences[i]}</span><br />'\n",
        "    html += f'<span style=\"color:red\"><b>Predicted translation (Beam search fault):</b> {translated_sentences[i]}</span><br />'\n",
        "    display(HTML(html))\n",
        "    print('='*100)"
      ],
      "execution_count": null,
      "outputs": [
        {
          "output_type": "display_data",
          "data": {
            "text/html": [
              "<p><span><b>Source:</b> radfahrer in schwarz fährt auf einem mountainbike einen unbefestigten pfad hinunter .</span><br /><span style=\"color:green\"><b>Ground truth translation:</b> bicycle rider wearing black , riding down a dirt trail in a mountain bike .</span><br /><span style=\"color:red\"><b>Predicted translation (Beam search fault):</b> bike in black bike riding a bike down a dirt road .</span><br />"
            ],
            "text/plain": [
              "<IPython.core.display.HTML object>"
            ]
          },
          "metadata": {
            "tags": []
          }
        },
        {
          "output_type": "stream",
          "text": [
            "====================================================================================================\n"
          ],
          "name": "stdout"
        },
        {
          "output_type": "display_data",
          "data": {
            "text/html": [
              "<p><span><b>Source:</b> ein junge springt hoch , um einen tennisball mit seinem schläger zu treffen</span><br /><span style=\"color:green\"><b>Ground truth translation:</b> a boy jumping to hit a tennis ball with his racket</span><br /><span style=\"color:red\"><b>Predicted translation (Beam search fault):</b> a boy jumps to catch a tennis ball with his net .</span><br />"
            ],
            "text/plain": [
              "<IPython.core.display.HTML object>"
            ]
          },
          "metadata": {
            "tags": []
          }
        },
        {
          "output_type": "stream",
          "text": [
            "====================================================================================================\n"
          ],
          "name": "stdout"
        },
        {
          "output_type": "display_data",
          "data": {
            "text/html": [
              "<p><span><b>Source:</b> zwei kleine hunde folgen einem größeren hund mit einem tennisball</span><br /><span style=\"color:green\"><b>Ground truth translation:</b> two small dogs follow a larger dog with a tennis ball</span><br /><span style=\"color:red\"><b>Predicted translation (Beam search fault):</b> two small dogs larger to a larger ball with a larger .</span><br />"
            ],
            "text/plain": [
              "<IPython.core.display.HTML object>"
            ]
          },
          "metadata": {
            "tags": []
          }
        },
        {
          "output_type": "stream",
          "text": [
            "====================================================================================================\n"
          ],
          "name": "stdout"
        },
        {
          "output_type": "display_data",
          "data": {
            "text/html": [
              "<p><span><b>Source:</b> radfahrer auf der straße , alle tragen helme .</span><br /><span style=\"color:green\"><b>Ground truth translation:</b> people are riding bicycles in the street , and they are all wearing helmets .</span><br /><span style=\"color:red\"><b>Predicted translation (Beam search fault):</b> people on the street , wearing orange , and carrying umbrellas .</span><br />"
            ],
            "text/plain": [
              "<IPython.core.display.HTML object>"
            ]
          },
          "metadata": {
            "tags": []
          }
        },
        {
          "output_type": "stream",
          "text": [
            "====================================================================================================\n"
          ],
          "name": "stdout"
        },
        {
          "output_type": "display_data",
          "data": {
            "text/html": [
              "<p><span><b>Source:</b> ein junge in einem rutschfahrzeug trägt ein grünes shirt und hält ein buch .</span><br /><span style=\"color:green\"><b>Ground truth translation:</b> a boy in a stroller is wearing a green shirt and holding a book .</span><br /><span style=\"color:red\"><b>Predicted translation (Beam search fault):</b> a boy in a green shirt and a green shirt is holding a book .</span><br />"
            ],
            "text/plain": [
              "<IPython.core.display.HTML object>"
            ]
          },
          "metadata": {
            "tags": []
          }
        },
        {
          "output_type": "stream",
          "text": [
            "====================================================================================================\n"
          ],
          "name": "stdout"
        }
      ]
    },
    {
      "cell_type": "code",
      "metadata": {
        "id": "2g-up77J0lN3",
        "outputId": "182df906-cb59-4f05-e7b4-fbba210addab",
        "colab": {
          "base_uri": "https://localhost:8080/",
          "height": 417
        }
      },
      "source": [
        "for i in np.random.choice(model_fault_indexes, size=5, replace=False):\n",
        "    html = f'<p><span><b>Source:</b> {sentences[i]}</span><br />'\n",
        "    html += f'<span style=\"color:green\"><b>Ground truth translation:</b> {dest_sentences[i]}</span><br />'\n",
        "    html += f'<span style=\"color:blue\"><b>Predicted translation (Model fault):</b> {translated_sentences[i]}</span><br />'\n",
        "    display(HTML(html))\n",
        "    print('='*100)"
      ],
      "execution_count": null,
      "outputs": [
        {
          "output_type": "display_data",
          "data": {
            "text/html": [
              "<p><span><b>Source:</b> ein brauner hund hebt einen zweig von einer steinernen oberfläche .</span><br /><span style=\"color:green\"><b>Ground truth translation:</b> a brown dog picks up a twig from a stone surface .</span><br /><span style=\"color:blue\"><b>Predicted translation (Model fault):</b> a brown dog is off a high from a a .</span><br />"
            ],
            "text/plain": [
              "<IPython.core.display.HTML object>"
            ]
          },
          "metadata": {
            "tags": []
          }
        },
        {
          "output_type": "stream",
          "text": [
            "====================================================================================================\n"
          ],
          "name": "stdout"
        },
        {
          "output_type": "display_data",
          "data": {
            "text/html": [
              "<p><span><b>Source:</b> ein mann schneidet in einem gartenähnlichen café eine palme zurück .</span><br /><span style=\"color:green\"><b>Ground truth translation:</b> a man trimming a palm tree inside a patio - type cafe ' .</span><br /><span style=\"color:blue\"><b>Predicted translation (Model fault):</b> a man is cutting a tomato - cutting cutting a coffee .</span><br />"
            ],
            "text/plain": [
              "<IPython.core.display.HTML object>"
            ]
          },
          "metadata": {
            "tags": []
          }
        },
        {
          "output_type": "stream",
          "text": [
            "====================================================================================================\n"
          ],
          "name": "stdout"
        },
        {
          "output_type": "display_data",
          "data": {
            "text/html": [
              "<p><span><b>Source:</b> ein mann macht einen trick auf dem fahrrad , bei dem er auf dem hinterreifen balanciert .</span><br /><span style=\"color:green\"><b>Ground truth translation:</b> a man performing a trick on a bicycle by standing on the pedals while the bike is upright .</span><br /><span style=\"color:blue\"><b>Predicted translation (Model fault):</b> a man is doing a trick on the bike during a game .</span><br />"
            ],
            "text/plain": [
              "<IPython.core.display.HTML object>"
            ]
          },
          "metadata": {
            "tags": []
          }
        },
        {
          "output_type": "stream",
          "text": [
            "====================================================================================================\n"
          ],
          "name": "stdout"
        },
        {
          "output_type": "display_data",
          "data": {
            "text/html": [
              "<p><span><b>Source:</b> eine frau mit einem hut macht brot .</span><br /><span style=\"color:green\"><b>Ground truth translation:</b> a woman wearing a hat with making bread .</span><br /><span style=\"color:blue\"><b>Predicted translation (Model fault):</b> a woman with a hat is doing the .</span><br />"
            ],
            "text/plain": [
              "<IPython.core.display.HTML object>"
            ]
          },
          "metadata": {
            "tags": []
          }
        },
        {
          "output_type": "stream",
          "text": [
            "====================================================================================================\n"
          ],
          "name": "stdout"
        },
        {
          "output_type": "display_data",
          "data": {
            "text/html": [
              "<p><span><b>Source:</b> drei frauen springen im gras auf bällen .</span><br /><span style=\"color:green\"><b>Ground truth translation:</b> three woman bouncing on balls in the grass .</span><br /><span style=\"color:blue\"><b>Predicted translation (Model fault):</b> three women are jumping in the grass .</span><br />"
            ],
            "text/plain": [
              "<IPython.core.display.HTML object>"
            ]
          },
          "metadata": {
            "tags": []
          }
        },
        {
          "output_type": "stream",
          "text": [
            "====================================================================================================\n"
          ],
          "name": "stdout"
        }
      ]
    },
    {
      "cell_type": "code",
      "metadata": {
        "id": "bXdvOQPq0oid",
        "outputId": "4b73eb46-b229-45b2-84ce-390de1c83052",
        "colab": {
          "base_uri": "https://localhost:8080/",
          "height": 336
        }
      },
      "source": [
        "lengths = np.array([*map(len, dest_sentences)])\n",
        "\n",
        "_, axes = plt.subplots(1, 2, figsize=(12, 5))\n",
        "axes[0].hist(lengths[beam_search_fault_indexes])\n",
        "axes[0].set_title('Lengths of beam search faults')\n",
        "axes[0].grid(True)\n",
        "axes[1].hist(lengths[model_fault_indexes])\n",
        "axes[1].set_title('Lengths of model faults')\n",
        "axes[1].grid(True)\n",
        "plt.show()"
      ],
      "execution_count": null,
      "outputs": [
        {
          "output_type": "display_data",
          "data": {
            "image/png": "[encoded data removed]",
            "text/plain": [
              "<Figure size 864x360 with 2 Axes>"
            ]
          },
          "metadata": {
            "tags": [],
            "needs_background": "light"
          }
        }
      ]
    },
    {
      "cell_type": "code",
      "metadata": {
        "id": "ghVLDRbW0u9Y"
      },
      "source": [
        ""
      ],
      "execution_count": null,
      "outputs": []
    }
  ]
}